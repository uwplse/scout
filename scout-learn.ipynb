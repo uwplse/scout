{
 "cells": [
  {
   "cell_type": "code",
   "execution_count": 5,
   "metadata": {},
   "outputs": [
    {
     "name": "stdout",
     "output_type": "stream",
     "text": [
      "136\n",
      "128\n"
     ]
    }
   ],
   "source": [
    "import cost_model\n",
    "import os\n",
    "import json\n",
    "import sys\n",
    "\n",
    "from pprint import pprint\n",
    "\n",
    "# the folder containing all exports\n",
    "export_dir = \"./saved_designs\"\n",
    "\n",
    "def load_design(design_dir):\n",
    "    \"\"\"the directory containing exported designs\"\"\"\n",
    "\n",
    "    design = {}\n",
    "    # load saved designs and trashed designs\n",
    "    with open(os.path.join(design_dir, \"saved.json\")) as f:\n",
    "        design[\"saved\"] = json.load(f)[\"saved\"]\n",
    "    with open(os.path.join(design_dir, \"trashed.json\")) as f:\n",
    "        design[\"trashed\"] = json.load(f)[\"trashed\"]\n",
    "    design[\"dirname\"] = design_dir\n",
    "    return design\n",
    "\n",
    "saved_designs = []\n",
    "trashed_designs = []\n",
    "\n",
    "# iterate over all exported deisngs\n",
    "for dirname in os.listdir(export_dir):\n",
    "    design_dir = os.path.join(export_dir, dirname)\n",
    "    if not os.path.isdir(design_dir):\n",
    "        continue\n",
    "    designs = load_design(design_dir)\n",
    "    \n",
    "    saved_designs += designs[\"saved\"]\n",
    "    trashed_designs += designs[\"trashed\"]\n",
    "\n",
    "print(len(saved_designs))\n",
    "print(len(trashed_designs))"
   ]
  }
 ],
 "metadata": {
  "kernelspec": {
   "display_name": "Python 3",
   "language": "python",
   "name": "python3"
  },
  "language_info": {
   "codemirror_mode": {
    "name": "ipython",
    "version": 3
   },
   "file_extension": ".py",
   "mimetype": "text/x-python",
   "name": "python",
   "nbconvert_exporter": "python",
   "pygments_lexer": "ipython3",
   "version": "3.7.1"
  }
 },
 "nbformat": 4,
 "nbformat_minor": 2
}
