{
 "cells": [
  {
   "cell_type": "code",
   "execution_count": 1,
   "metadata": {
    "scrolled": false,
    "slideshow": {
     "slide_type": "-"
    }
   },
   "outputs": [
    {
     "name": "stdout",
     "output_type": "stream",
     "text": [
      "==============\n",
      "## Analyzing exported_from_scout (98) ...\n",
      "# diversity score 1.5353792462506421\n",
      "# score details\n",
      "{'alt_group_score': 0.0,\n",
      " 'pos_diff_score': 0.6282603104492578,\n",
      " 'rel_dist_diff_score': 0.4208555099617864,\n",
      " 'size_diff_score': 0.24313171291979896}\n"
     ]
    },
    {
     "data": {
      "text/html": [
       "<table><tr><td><img style='width:100px' src='./saved_designs/exported_from_scout (98)/import_these_into_xd/design-canvas-7304405049fc487a91ca6165424c0b0c.svg'/></td>\n",
       "                               <td><img style='width:100px' src='./saved_designs/exported_from_scout (98)/import_these_into_xd/design-canvas-1ae0e35d0b2d43028cddacd7a035b17d.svg'/></td></tr></table>"
      ],
      "text/plain": [
       "<IPython.core.display.HTML object>"
      ]
     },
     "metadata": {},
     "output_type": "display_data"
    },
    {
     "name": "stdout",
     "output_type": "stream",
     "text": [
      "\n",
      "# diversity score 1.4510752266040559\n",
      "# score details\n",
      "{'alt_group_score': 0.0,\n",
      " 'pos_diff_score': 0.4540924483411888,\n",
      " 'rel_dist_diff_score': 0.37559525909339414,\n",
      " 'size_diff_score': 0.3106937595847364}\n"
     ]
    },
    {
     "data": {
      "text/html": [
       "<table><tr><td><img style='width:100px' src='./saved_designs/exported_from_scout (98)/import_these_into_xd/design-canvas-1ae0e35d0b2d43028cddacd7a035b17d.svg'/></td>\n",
       "                               <td><img style='width:100px' src='./saved_designs/exported_from_scout (98)/import_these_into_xd/design-canvas-83903cdc8136490e90c180d73dd2c09d.svg'/></td></tr></table>"
      ],
      "text/plain": [
       "<IPython.core.display.HTML object>"
      ]
     },
     "metadata": {},
     "output_type": "display_data"
    },
    {
     "name": "stdout",
     "output_type": "stream",
     "text": [
      "\n",
      "# diversity score 1.3385973696068607\n",
      "# score details\n",
      "{'alt_group_score': 0.07692307692307693,\n",
      " 'pos_diff_score': 0.44998153473605157,\n",
      " 'rel_dist_diff_score': 0.3657798689743475,\n",
      " 'size_diff_score': 0.2229564444866924}\n"
     ]
    },
    {
     "data": {
      "text/html": [
       "<table><tr><td><img style='width:100px' src='./saved_designs/exported_from_scout (98)/import_these_into_xd/design-canvas-7304405049fc487a91ca6165424c0b0c.svg'/></td>\n",
       "                               <td><img style='width:100px' src='./saved_designs/exported_from_scout (98)/import_these_into_xd/design-canvas-be478c6373164bc4b96bbccf5b367f9b.svg'/></td></tr></table>"
      ],
      "text/plain": [
       "<IPython.core.display.HTML object>"
      ]
     },
     "metadata": {},
     "output_type": "display_data"
    },
    {
     "name": "stdout",
     "output_type": "stream",
     "text": [
      "\n",
      "# diversity score 1.3369920578098942\n",
      "# score details\n",
      "{'alt_group_score': 0.07692307692307693,\n",
      " 'pos_diff_score': 0.3827537175654642,\n",
      " 'rel_dist_diff_score': 0.27773403845525463,\n",
      " 'size_diff_score': 0.2997906124330492}\n"
     ]
    },
    {
     "data": {
      "text/html": [
       "<table><tr><td><img style='width:100px' src='./saved_designs/exported_from_scout (98)/import_these_into_xd/design-canvas-1ae0e35d0b2d43028cddacd7a035b17d.svg'/></td>\n",
       "                               <td><img style='width:100px' src='./saved_designs/exported_from_scout (98)/import_these_into_xd/design-canvas-be478c6373164bc4b96bbccf5b367f9b.svg'/></td></tr></table>"
      ],
      "text/plain": [
       "<IPython.core.display.HTML object>"
      ]
     },
     "metadata": {},
     "output_type": "display_data"
    },
    {
     "name": "stdout",
     "output_type": "stream",
     "text": [
      "\n",
      "# diversity score 1.3273905346151842\n",
      "# score details\n",
      "{'alt_group_score': 0.0,\n",
      " 'pos_diff_score': 0.4191860428783744,\n",
      " 'rel_dist_diff_score': 0.27161724076450916,\n",
      " 'size_diff_score': 0.3182936254861503}\n"
     ]
    },
    {
     "data": {
      "text/html": [
       "<table><tr><td><img style='width:100px' src='./saved_designs/exported_from_scout (98)/import_these_into_xd/design-canvas-1ae0e35d0b2d43028cddacd7a035b17d.svg'/></td>\n",
       "                               <td><img style='width:100px' src='./saved_designs/exported_from_scout (98)/import_these_into_xd/design-canvas-a52759ae3c2e49b9a50e2bfa69918a07.svg'/></td></tr></table>"
      ],
      "text/plain": [
       "<IPython.core.display.HTML object>"
      ]
     },
     "metadata": {},
     "output_type": "display_data"
    },
    {
     "name": "stdout",
     "output_type": "stream",
     "text": [
      "\n",
      "# diversity score 1.2599445314899476\n",
      "# score details\n",
      "{'alt_group_score': 0.07692307692307693,\n",
      " 'pos_diff_score': 0.5801410571499787,\n",
      " 'rel_dist_diff_score': 0.4349677341649001,\n",
      " 'size_diff_score': 0.08395633162599586}\n"
     ]
    },
    {
     "data": {
      "text/html": [
       "<table><tr><td><img style='width:100px' src='./saved_designs/exported_from_scout (98)/import_these_into_xd/design-canvas-be478c6373164bc4b96bbccf5b367f9b.svg'/></td>\n",
       "                               <td><img style='width:100px' src='./saved_designs/exported_from_scout (98)/import_these_into_xd/design-canvas-83903cdc8136490e90c180d73dd2c09d.svg'/></td></tr></table>"
      ],
      "text/plain": [
       "<IPython.core.display.HTML object>"
      ]
     },
     "metadata": {},
     "output_type": "display_data"
    },
    {
     "name": "stdout",
     "output_type": "stream",
     "text": [
      "\n",
      "# diversity score 1.1343101585628053\n",
      "# score details\n",
      "{'alt_group_score': 0.0,\n",
      " 'pos_diff_score': 0.3451668835420791,\n",
      " 'rel_dist_diff_score': 0.279395284216713,\n",
      " 'size_diff_score': 0.2548739954020066}\n"
     ]
    },
    {
     "data": {
      "text/html": [
       "<table><tr><td><img style='width:100px' src='./saved_designs/exported_from_scout (98)/import_these_into_xd/design-canvas-7304405049fc487a91ca6165424c0b0c.svg'/></td>\n",
       "                               <td><img style='width:100px' src='./saved_designs/exported_from_scout (98)/import_these_into_xd/design-canvas-a52759ae3c2e49b9a50e2bfa69918a07.svg'/></td></tr></table>"
      ],
      "text/plain": [
       "<IPython.core.display.HTML object>"
      ]
     },
     "metadata": {},
     "output_type": "display_data"
    },
    {
     "name": "stdout",
     "output_type": "stream",
     "text": [
      "\n",
      "# diversity score 1.0377643444152655\n",
      "# score details\n",
      "{'alt_group_score': 0.0,\n",
      " 'pos_diff_score': 0.4132165450124657,\n",
      " 'rel_dist_diff_score': 0.3292683505679061,\n",
      " 'size_diff_score': 0.14763972441744685}\n"
     ]
    },
    {
     "data": {
      "text/html": [
       "<table><tr><td><img style='width:100px' src='./saved_designs/exported_from_scout (98)/import_these_into_xd/design-canvas-a52759ae3c2e49b9a50e2bfa69918a07.svg'/></td>\n",
       "                               <td><img style='width:100px' src='./saved_designs/exported_from_scout (98)/import_these_into_xd/design-canvas-83903cdc8136490e90c180d73dd2c09d.svg'/></td></tr></table>"
      ],
      "text/plain": [
       "<IPython.core.display.HTML object>"
      ]
     },
     "metadata": {},
     "output_type": "display_data"
    },
    {
     "name": "stdout",
     "output_type": "stream",
     "text": [
      "\n",
      "# diversity score 0.9240121822153113\n",
      "# score details\n",
      "{'alt_group_score': 0.0,\n",
      " 'pos_diff_score': 0.2653889659754751,\n",
      " 'rel_dist_diff_score': 0.2371061832445128,\n",
      " 'size_diff_score': 0.2107585164976617}\n"
     ]
    },
    {
     "data": {
      "text/html": [
       "<table><tr><td><img style='width:100px' src='./saved_designs/exported_from_scout (98)/import_these_into_xd/design-canvas-7304405049fc487a91ca6165424c0b0c.svg'/></td>\n",
       "                               <td><img style='width:100px' src='./saved_designs/exported_from_scout (98)/import_these_into_xd/design-canvas-83903cdc8136490e90c180d73dd2c09d.svg'/></td></tr></table>"
      ],
      "text/plain": [
       "<IPython.core.display.HTML object>"
      ]
     },
     "metadata": {},
     "output_type": "display_data"
    },
    {
     "name": "stdout",
     "output_type": "stream",
     "text": [
      "\n",
      "# diversity score 0.863053645715468\n",
      "# score details\n",
      "{'alt_group_score': 0.07692307692307693,\n",
      " 'pos_diff_score': 0.29193043163119303,\n",
      " 'rel_dist_diff_score': 0.24644728517521206,\n",
      " 'size_diff_score': 0.12387642599299306}\n"
     ]
    },
    {
     "data": {
      "text/html": [
       "<table><tr><td><img style='width:100px' src='./saved_designs/exported_from_scout (98)/import_these_into_xd/design-canvas-be478c6373164bc4b96bbccf5b367f9b.svg'/></td>\n",
       "                               <td><img style='width:100px' src='./saved_designs/exported_from_scout (98)/import_these_into_xd/design-canvas-a52759ae3c2e49b9a50e2bfa69918a07.svg'/></td></tr></table>"
      ],
      "text/plain": [
       "<IPython.core.display.HTML object>"
      ]
     },
     "metadata": {},
     "output_type": "display_data"
    },
    {
     "name": "stdout",
     "output_type": "stream",
     "text": [
      "\n",
      "==============\n",
      "## Analyzing exported_from_scout (57) ...\n",
      "# diversity score 1.5997455143916748\n",
      "# score details\n",
      "{'alt_group_score': 0.0,\n",
      " 'pos_diff_score': 0.23842807484094428,\n",
      " 'rel_dist_diff_score': 0.25989972069375206,\n",
      " 'size_diff_score': 0.5507088594284892}\n"
     ]
    },
    {
     "data": {
      "text/html": [
       "<table><tr><td><img style='width:100px' src='./saved_designs/exported_from_scout (57)/saved_svgs/design-canvas-1417ed8f406445ecb533001d8ef9fa51.svg'/></td>\n",
       "                               <td><img style='width:100px' src='./saved_designs/exported_from_scout (57)/saved_svgs/design-canvas-ad7a0da9fdd84b428da74b191e69b4db.svg'/></td></tr></table>"
      ],
      "text/plain": [
       "<IPython.core.display.HTML object>"
      ]
     },
     "metadata": {},
     "output_type": "display_data"
    },
    {
     "name": "stdout",
     "output_type": "stream",
     "text": [
      "\n",
      "# diversity score 1.523542047679919\n",
      "# score details\n",
      "{'alt_group_score': 0.0,\n",
      " 'pos_diff_score': 0.272360233173741,\n",
      " 'rel_dist_diff_score': 0.2431425994812093,\n",
      " 'size_diff_score': 0.5040196075124844}\n"
     ]
    },
    {
     "data": {
      "text/html": [
       "<table><tr><td><img style='width:100px' src='./saved_designs/exported_from_scout (57)/saved_svgs/design-canvas-76c3faac7a3b468da89750b7d383a06a.svg'/></td>\n",
       "                               <td><img style='width:100px' src='./saved_designs/exported_from_scout (57)/saved_svgs/design-canvas-ad7a0da9fdd84b428da74b191e69b4db.svg'/></td></tr></table>"
      ],
      "text/plain": [
       "<IPython.core.display.HTML object>"
      ]
     },
     "metadata": {},
     "output_type": "display_data"
    },
    {
     "name": "stdout",
     "output_type": "stream",
     "text": [
      "\n",
      "# diversity score 1.5169375445576383\n",
      "# score details\n",
      "{'alt_group_score': 0.0,\n",
      " 'pos_diff_score': 0.256747537084539,\n",
      " 'rel_dist_diff_score': 0.25169257440354437,\n",
      " 'size_diff_score': 0.5042487165347774}\n"
     ]
    },
    {
     "data": {
      "text/html": [
       "<table><tr><td><img style='width:100px' src='./saved_designs/exported_from_scout (57)/saved_svgs/design-canvas-76c3faac7a3b468da89750b7d383a06a.svg'/></td>\n",
       "                               <td><img style='width:100px' src='./saved_designs/exported_from_scout (57)/saved_svgs/design-canvas-1417ed8f406445ecb533001d8ef9fa51.svg'/></td></tr></table>"
      ],
      "text/plain": [
       "<IPython.core.display.HTML object>"
      ]
     },
     "metadata": {},
     "output_type": "display_data"
    },
    {
     "name": "stdout",
     "output_type": "stream",
     "text": [
      "\n",
      "# diversity score 1.379865821816026\n",
      "# score details\n",
      "{'alt_group_score': 0.0,\n",
      " 'pos_diff_score': 0.28460383671033396,\n",
      " 'rel_dist_diff_score': 0.2354883033842486,\n",
      " 'size_diff_score': 0.42988684086072165}\n"
     ]
    },
    {
     "data": {
      "text/html": [
       "<table><tr><td><img style='width:100px' src='./saved_designs/exported_from_scout (57)/saved_svgs/design-canvas-7c1f4a506b734056a357af024a21acbd.svg'/></td>\n",
       "                               <td><img style='width:100px' src='./saved_designs/exported_from_scout (57)/saved_svgs/design-canvas-76c3faac7a3b468da89750b7d383a06a.svg'/></td></tr></table>"
      ],
      "text/plain": [
       "<IPython.core.display.HTML object>"
      ]
     },
     "metadata": {},
     "output_type": "display_data"
    },
    {
     "name": "stdout",
     "output_type": "stream",
     "text": [
      "\n",
      "# diversity score 1.2830556402979671\n",
      "# score details\n",
      "{'alt_group_score': 0.0,\n",
      " 'pos_diff_score': 0.1657333389708263,\n",
      " 'rel_dist_diff_score': 0.16472816381364042,\n",
      " 'size_diff_score': 0.4762970687567502}\n"
     ]
    },
    {
     "data": {
      "text/html": [
       "<table><tr><td><img style='width:100px' src='./saved_designs/exported_from_scout (57)/saved_svgs/design-canvas-7c1f4a506b734056a357af024a21acbd.svg'/></td>\n",
       "                               <td><img style='width:100px' src='./saved_designs/exported_from_scout (57)/saved_svgs/design-canvas-ad7a0da9fdd84b428da74b191e69b4db.svg'/></td></tr></table>"
      ],
      "text/plain": [
       "<IPython.core.display.HTML object>"
      ]
     },
     "metadata": {},
     "output_type": "display_data"
    },
    {
     "name": "stdout",
     "output_type": "stream",
     "text": [
      "\n",
      "# diversity score 1.1113861370510292\n",
      "# score details\n",
      "{'alt_group_score': 0.0,\n",
      " 'pos_diff_score': 0.25103767388898895,\n",
      " 'rel_dist_diff_score': 0.2592298190434354,\n",
      " 'size_diff_score': 0.3005593220593024}\n"
     ]
    },
    {
     "data": {
      "text/html": [
       "<table><tr><td><img style='width:100px' src='./saved_designs/exported_from_scout (57)/saved_svgs/design-canvas-7c1f4a506b734056a357af024a21acbd.svg'/></td>\n",
       "                               <td><img style='width:100px' src='./saved_designs/exported_from_scout (57)/saved_svgs/design-canvas-1417ed8f406445ecb533001d8ef9fa51.svg'/></td></tr></table>"
      ],
      "text/plain": [
       "<IPython.core.display.HTML object>"
      ]
     },
     "metadata": {},
     "output_type": "display_data"
    },
    {
     "name": "stdout",
     "output_type": "stream",
     "text": [
      "\n",
      "==============\n",
      "## Analyzing ScoutExports_p7 ...\n",
      "# diversity score 2.004724995558239\n",
      "# score details\n",
      "{'alt_group_score': 0.0,\n",
      " 'pos_diff_score': 0.5790551793478653,\n",
      " 'rel_dist_diff_score': 0.4104030041987585,\n",
      " 'size_diff_score': 0.5076334060058074}\n"
     ]
    },
    {
     "data": {
      "text/html": [
       "<table><tr><td><img style='width:100px' src='./saved_designs/ScoutExports_p7/saved_svgs/design-canvas-85dcd017a2cc43cdb43601efcc980ca3.svg'/></td>\n",
       "                               <td><img style='width:100px' src='./saved_designs/ScoutExports_p7/saved_svgs/design-canvas-9249b8a98c0f426aa223c268bd5cb31c.svg'/></td></tr></table>"
      ],
      "text/plain": [
       "<IPython.core.display.HTML object>"
      ]
     },
     "metadata": {},
     "output_type": "display_data"
    },
    {
     "name": "stdout",
     "output_type": "stream",
     "text": [
      "\n",
      "# diversity score 1.9383391906608498\n",
      "# score details\n",
      "{'alt_group_score': 0.0,\n",
      " 'pos_diff_score': 0.6461560359979625,\n",
      " 'rel_dist_diff_score': 0.48307491908056827,\n",
      " 'size_diff_score': 0.40455411779115963}\n"
     ]
    },
    {
     "data": {
      "text/html": [
       "<table><tr><td><img style='width:100px' src='./saved_designs/ScoutExports_p7/saved_svgs/design-canvas-9332a26dc98c431aa15252e8a2891ecb.svg'/></td>\n",
       "                               <td><img style='width:100px' src='./saved_designs/ScoutExports_p7/saved_svgs/design-canvas-9249b8a98c0f426aa223c268bd5cb31c.svg'/></td></tr></table>"
      ],
      "text/plain": [
       "<IPython.core.display.HTML object>"
      ]
     },
     "metadata": {},
     "output_type": "display_data"
    },
    {
     "name": "stdout",
     "output_type": "stream",
     "text": [
      "\n",
      "# diversity score 1.7736289673293961\n",
      "# score details\n",
      "{'alt_group_score': 0.0,\n",
      " 'pos_diff_score': 0.37719356792322667,\n",
      " 'rel_dist_diff_score': 0.3369974884986382,\n",
      " 'size_diff_score': 0.5297189554537657}\n"
     ]
    },
    {
     "data": {
      "text/html": [
       "<table><tr><td><img style='width:100px' src='./saved_designs/ScoutExports_p7/saved_svgs/design-canvas-85dcd017a2cc43cdb43601efcc980ca3.svg'/></td>\n",
       "                               <td><img style='width:100px' src='./saved_designs/ScoutExports_p7/saved_svgs/design-canvas-9332a26dc98c431aa15252e8a2891ecb.svg'/></td></tr></table>"
      ],
      "text/plain": [
       "<IPython.core.display.HTML object>"
      ]
     },
     "metadata": {},
     "output_type": "display_data"
    },
    {
     "name": "stdout",
     "output_type": "stream",
     "text": [
      "\n",
      "# diversity score 1.61486833204748\n",
      "# score details\n",
      "{'alt_group_score': 0.0,\n",
      " 'pos_diff_score': 0.3521726630354908,\n",
      " 'rel_dist_diff_score': 0.2747792047089923,\n",
      " 'size_diff_score': 0.4939582321514984}\n"
     ]
    },
    {
     "data": {
      "text/html": [
       "<table><tr><td><img style='width:100px' src='./saved_designs/ScoutExports_p7/saved_svgs/design-canvas-85dcd017a2cc43cdb43601efcc980ca3.svg'/></td>\n",
       "                               <td><img style='width:100px' src='./saved_designs/ScoutExports_p7/saved_svgs/design-canvas-503984a0c5bb4359b998ec0c721f1a9f.svg'/></td></tr></table>"
      ],
      "text/plain": [
       "<IPython.core.display.HTML object>"
      ]
     },
     "metadata": {},
     "output_type": "display_data"
    },
    {
     "name": "stdout",
     "output_type": "stream",
     "text": [
      "\n",
      "# diversity score 1.5226182611318269\n",
      "# score details\n",
      "{'alt_group_score': 0.0,\n",
      " 'pos_diff_score': 0.37056355873980923,\n",
      " 'rel_dist_diff_score': 0.31192121043728815,\n",
      " 'size_diff_score': 0.4200667459773647}\n"
     ]
    },
    {
     "data": {
      "text/html": [
       "<table><tr><td><img style='width:100px' src='./saved_designs/ScoutExports_p7/saved_svgs/design-canvas-9332a26dc98c431aa15252e8a2891ecb.svg'/></td>\n",
       "                               <td><img style='width:100px' src='./saved_designs/ScoutExports_p7/saved_svgs/design-canvas-503984a0c5bb4359b998ec0c721f1a9f.svg'/></td></tr></table>"
      ],
      "text/plain": [
       "<IPython.core.display.HTML object>"
      ]
     },
     "metadata": {},
     "output_type": "display_data"
    },
    {
     "name": "stdout",
     "output_type": "stream",
     "text": [
      "\n",
      "# diversity score 1.3268450058043029\n",
      "# score details\n",
      "{'alt_group_score': 0.0,\n",
      " 'pos_diff_score': 0.4401937972014399,\n",
      " 'rel_dist_diff_score': 0.31834840058077396,\n",
      " 'size_diff_score': 0.2841514040110445}\n"
     ]
    },
    {
     "data": {
      "text/html": [
       "<table><tr><td><img style='width:100px' src='./saved_designs/ScoutExports_p7/saved_svgs/design-canvas-503984a0c5bb4359b998ec0c721f1a9f.svg'/></td>\n",
       "                               <td><img style='width:100px' src='./saved_designs/ScoutExports_p7/saved_svgs/design-canvas-9249b8a98c0f426aa223c268bd5cb31c.svg'/></td></tr></table>"
      ],
      "text/plain": [
       "<IPython.core.display.HTML object>"
      ]
     },
     "metadata": {},
     "output_type": "display_data"
    },
    {
     "name": "stdout",
     "output_type": "stream",
     "text": [
      "\n",
      "==============\n",
      "## Analyzing exported_from_scout (60) ...\n",
      "# diversity score 1.438077385948291\n",
      "# score details\n",
      "{'alt_group_score': 0.0,\n",
      " 'pos_diff_score': 0.5050936179762221,\n",
      " 'rel_dist_diff_score': 0.3794319460878703,\n",
      " 'size_diff_score': 0.27677591094209925}\n"
     ]
    },
    {
     "data": {
      "text/html": [
       "<table><tr><td><img style='width:100px' src='./saved_designs/exported_from_scout (60)/saved_svgs/design-canvas-ede37baa7eee4f32a2ef6e5f790c99d5.svg'/></td>\n",
       "                               <td><img style='width:100px' src='./saved_designs/exported_from_scout (60)/saved_svgs/design-canvas-3db107c6701b45c686a7818eb951a6fb.svg'/></td></tr></table>"
      ],
      "text/plain": [
       "<IPython.core.display.HTML object>"
      ]
     },
     "metadata": {},
     "output_type": "display_data"
    },
    {
     "name": "stdout",
     "output_type": "stream",
     "text": [
      "\n",
      "# diversity score 1.433155665537174\n",
      "# score details\n",
      "{'alt_group_score': 0.0,\n",
      " 'pos_diff_score': 0.4695883717124791,\n",
      " 'rel_dist_diff_score': 0.3357728467158059,\n",
      " 'size_diff_score': 0.31389722355444444}\n"
     ]
    },
    {
     "data": {
      "text/html": [
       "<table><tr><td><img style='width:100px' src='./saved_designs/exported_from_scout (60)/saved_svgs/design-canvas-f9f7c67b927742af95edbd30ea972096.svg'/></td>\n",
       "                               <td><img style='width:100px' src='./saved_designs/exported_from_scout (60)/saved_svgs/design-canvas-3db107c6701b45c686a7818eb951a6fb.svg'/></td></tr></table>"
      ],
      "text/plain": [
       "<IPython.core.display.HTML object>"
      ]
     },
     "metadata": {},
     "output_type": "display_data"
    },
    {
     "name": "stdout",
     "output_type": "stream",
     "text": [
      "\n",
      "# diversity score 1.3705577236483975\n",
      "# score details\n",
      "{'alt_group_score': 0.0,\n",
      " 'pos_diff_score': 0.40049045280277334,\n",
      " 'rel_dist_diff_score': 0.3127701603395927,\n",
      " 'size_diff_score': 0.3286485552530157}\n"
     ]
    },
    {
     "data": {
      "text/html": [
       "<table><tr><td><img style='width:100px' src='./saved_designs/exported_from_scout (60)/saved_svgs/design-canvas-ede37baa7eee4f32a2ef6e5f790c99d5.svg'/></td>\n",
       "                               <td><img style='width:100px' src='./saved_designs/exported_from_scout (60)/saved_svgs/design-canvas-f9f7c67b927742af95edbd30ea972096.svg'/></td></tr></table>"
      ],
      "text/plain": [
       "<IPython.core.display.HTML object>"
      ]
     },
     "metadata": {},
     "output_type": "display_data"
    },
    {
     "name": "stdout",
     "output_type": "stream",
     "text": [
      "\n",
      "==============\n",
      "## Analyzing exported_from_scout (27) ...\n",
      "# diversity score 2.1502821078604724\n",
      "# score details\n",
      "{'alt_group_score': 0.0,\n",
      " 'pos_diff_score': 0.5787283129954954,\n",
      " 'rel_dist_diff_score': 0.41226694299929456,\n",
      " 'size_diff_score': 0.5796434259328412}\n"
     ]
    },
    {
     "data": {
      "text/html": [
       "<table><tr><td><img style='width:100px' src='./saved_designs/exported_from_scout (27)/saved_svgs/design-canvas-70242e15df9d48559e4c4e6903cfb320.svg'/></td>\n",
       "                               <td><img style='width:100px' src='./saved_designs/exported_from_scout (27)/saved_svgs/design-canvas-2379e0aee985456a926b0cecfe11b6d6.svg'/></td></tr></table>"
      ],
      "text/plain": [
       "<IPython.core.display.HTML object>"
      ]
     },
     "metadata": {},
     "output_type": "display_data"
    },
    {
     "name": "stdout",
     "output_type": "stream",
     "text": [
      "\n",
      "# diversity score 1.9380504207292577\n",
      "# score details\n",
      "{'alt_group_score': 0.125,\n",
      " 'pos_diff_score': 0.38020203297615723,\n",
      " 'rel_dist_diff_score': 0.32258562947519126,\n",
      " 'size_diff_score': 0.5551313791389546}\n"
     ]
    },
    {
     "data": {
      "text/html": [
       "<table><tr><td><img style='width:100px' src='./saved_designs/exported_from_scout (27)/saved_svgs/design-canvas-70242e15df9d48559e4c4e6903cfb320.svg'/></td>\n",
       "                               <td><img style='width:100px' src='./saved_designs/exported_from_scout (27)/saved_svgs/design-canvas-3d18296d94404f618556683f2407b007.svg'/></td></tr></table>"
      ],
      "text/plain": [
       "<IPython.core.display.HTML object>"
      ]
     },
     "metadata": {},
     "output_type": "display_data"
    },
    {
     "name": "stdout",
     "output_type": "stream",
     "text": [
      "\n",
      "# diversity score 1.8157695733216874\n",
      "# score details\n",
      "{'alt_group_score': 0.125,\n",
      " 'pos_diff_score': 0.26073913776906116,\n",
      " 'rel_dist_diff_score': 0.2778221835369198,\n",
      " 'size_diff_score': 0.5761041260078532}\n"
     ]
    },
    {
     "data": {
      "text/html": [
       "<table><tr><td><img style='width:100px' src='./saved_designs/exported_from_scout (27)/saved_svgs/design-canvas-70242e15df9d48559e4c4e6903cfb320.svg'/></td>\n",
       "                               <td><img style='width:100px' src='./saved_designs/exported_from_scout (27)/saved_svgs/design-canvas-c7c1d6eae7ca4644a29aa15a33cd4a1d.svg'/></td></tr></table>"
      ],
      "text/plain": [
       "<IPython.core.display.HTML object>"
      ]
     },
     "metadata": {},
     "output_type": "display_data"
    },
    {
     "name": "stdout",
     "output_type": "stream",
     "text": [
      "\n",
      "# diversity score 1.7845212012553031\n",
      "# score details\n",
      "{'alt_group_score': 0.125,\n",
      " 'pos_diff_score': 0.4800664090353125,\n",
      " 'rel_dist_diff_score': 0.3669200496177791,\n",
      " 'size_diff_score': 0.4062673713011058}\n"
     ]
    },
    {
     "data": {
      "text/html": [
       "<table><tr><td><img style='width:100px' src='./saved_designs/exported_from_scout (27)/saved_svgs/design-canvas-2379e0aee985456a926b0cecfe11b6d6.svg'/></td>\n",
       "                               <td><img style='width:100px' src='./saved_designs/exported_from_scout (27)/saved_svgs/design-canvas-a92d3607a3fb498398ed0437348cf368.svg'/></td></tr></table>"
      ],
      "text/plain": [
       "<IPython.core.display.HTML object>"
      ]
     },
     "metadata": {},
     "output_type": "display_data"
    },
    {
     "name": "stdout",
     "output_type": "stream",
     "text": [
      "\n",
      "# diversity score 1.7085896653090564\n",
      "# score details\n",
      "{'alt_group_score': 0.125,\n",
      " 'pos_diff_score': 0.4716775285196293,\n",
      " 'rel_dist_diff_score': 0.3726586125424776,\n",
      " 'size_diff_score': 0.3696267621234748}\n"
     ]
    },
    {
     "data": {
      "text/html": [
       "<table><tr><td><img style='width:100px' src='./saved_designs/exported_from_scout (27)/saved_svgs/design-canvas-c7c1d6eae7ca4644a29aa15a33cd4a1d.svg'/></td>\n",
       "                               <td><img style='width:100px' src='./saved_designs/exported_from_scout (27)/saved_svgs/design-canvas-2379e0aee985456a926b0cecfe11b6d6.svg'/></td></tr></table>"
      ],
      "text/plain": [
       "<IPython.core.display.HTML object>"
      ]
     },
     "metadata": {},
     "output_type": "display_data"
    },
    {
     "name": "stdout",
     "output_type": "stream",
     "text": [
      "\n",
      "# diversity score 1.6745910388848841\n",
      "# score details\n",
      "{'alt_group_score': 0.125,\n",
      " 'pos_diff_score': 0.32908246538834457,\n",
      " 'rel_dist_diff_score': 0.33996253223117195,\n",
      " 'size_diff_score': 0.44027302063268375}\n"
     ]
    },
    {
     "data": {
      "text/html": [
       "<table><tr><td><img style='width:100px' src='./saved_designs/exported_from_scout (27)/saved_svgs/design-canvas-70242e15df9d48559e4c4e6903cfb320.svg'/></td>\n",
       "                               <td><img style='width:100px' src='./saved_designs/exported_from_scout (27)/saved_svgs/design-canvas-a92d3607a3fb498398ed0437348cf368.svg'/></td></tr></table>"
      ],
      "text/plain": [
       "<IPython.core.display.HTML object>"
      ]
     },
     "metadata": {},
     "output_type": "display_data"
    },
    {
     "name": "stdout",
     "output_type": "stream",
     "text": [
      "\n",
      "# diversity score 1.5630043696305118\n",
      "# score details\n",
      "{'alt_group_score': 0.125,\n",
      " 'pos_diff_score': 0.4623072052744808,\n",
      " 'rel_dist_diff_score': 0.36491324608488596,\n",
      " 'size_diff_score': 0.30539195913557254}\n"
     ]
    },
    {
     "data": {
      "text/html": [
       "<table><tr><td><img style='width:100px' src='./saved_designs/exported_from_scout (27)/saved_svgs/design-canvas-2379e0aee985456a926b0cecfe11b6d6.svg'/></td>\n",
       "                               <td><img style='width:100px' src='./saved_designs/exported_from_scout (27)/saved_svgs/design-canvas-3d18296d94404f618556683f2407b007.svg'/></td></tr></table>"
      ],
      "text/plain": [
       "<IPython.core.display.HTML object>"
      ]
     },
     "metadata": {},
     "output_type": "display_data"
    },
    {
     "name": "stdout",
     "output_type": "stream",
     "text": [
      "\n",
      "# diversity score 1.5389802936147077\n",
      "# score details\n",
      "{'alt_group_score': 0.0,\n",
      " 'pos_diff_score': 0.38083500078318483,\n",
      " 'rel_dist_diff_score': 0.39618493735979077,\n",
      " 'size_diff_score': 0.38098017773586595}\n"
     ]
    },
    {
     "data": {
      "text/html": [
       "<table><tr><td><img style='width:100px' src='./saved_designs/exported_from_scout (27)/saved_svgs/design-canvas-c7c1d6eae7ca4644a29aa15a33cd4a1d.svg'/></td>\n",
       "                               <td><img style='width:100px' src='./saved_designs/exported_from_scout (27)/saved_svgs/design-canvas-a92d3607a3fb498398ed0437348cf368.svg'/></td></tr></table>"
      ],
      "text/plain": [
       "<IPython.core.display.HTML object>"
      ]
     },
     "metadata": {},
     "output_type": "display_data"
    },
    {
     "name": "stdout",
     "output_type": "stream",
     "text": [
      "\n",
      "# diversity score 1.5243829161813638\n",
      "# score details\n",
      "{'alt_group_score': 0.125,\n",
      " 'pos_diff_score': 0.23282667474599406,\n",
      " 'rel_dist_diff_score': 0.23429940513136052,\n",
      " 'size_diff_score': 0.4661284181520047}\n"
     ]
    },
    {
     "data": {
      "text/html": [
       "<table><tr><td><img style='width:100px' src='./saved_designs/exported_from_scout (27)/saved_svgs/design-canvas-c7c1d6eae7ca4644a29aa15a33cd4a1d.svg'/></td>\n",
       "                               <td><img style='width:100px' src='./saved_designs/exported_from_scout (27)/saved_svgs/design-canvas-9fc45ca457154bc19d99c5edcfbf3789.svg'/></td></tr></table>"
      ],
      "text/plain": [
       "<IPython.core.display.HTML object>"
      ]
     },
     "metadata": {},
     "output_type": "display_data"
    },
    {
     "name": "stdout",
     "output_type": "stream",
     "text": [
      "\n",
      "# diversity score 1.4997316011670971\n",
      "# score details\n",
      "{'alt_group_score': 0.0,\n",
      " 'pos_diff_score': 0.45130939084797816,\n",
      " 'rel_dist_diff_score': 0.3464440167562443,\n",
      " 'size_diff_score': 0.35098909678143725}\n"
     ]
    },
    {
     "data": {
      "text/html": [
       "<table><tr><td><img style='width:100px' src='./saved_designs/exported_from_scout (27)/saved_svgs/design-canvas-9fc45ca457154bc19d99c5edcfbf3789.svg'/></td>\n",
       "                               <td><img style='width:100px' src='./saved_designs/exported_from_scout (27)/saved_svgs/design-canvas-2379e0aee985456a926b0cecfe11b6d6.svg'/></td></tr></table>"
      ],
      "text/plain": [
       "<IPython.core.display.HTML object>"
      ]
     },
     "metadata": {},
     "output_type": "display_data"
    },
    {
     "name": "stdout",
     "output_type": "stream",
     "text": [
      "\n",
      "# diversity score 1.4940368786903657\n",
      "# score details\n",
      "{'alt_group_score': 0.125,\n",
      " 'pos_diff_score': 0.2759306213497891,\n",
      " 'rel_dist_diff_score': 0.2590414933427935,\n",
      " 'size_diff_score': 0.41703238199889164}\n"
     ]
    },
    {
     "data": {
      "text/html": [
       "<table><tr><td><img style='width:100px' src='./saved_designs/exported_from_scout (27)/saved_svgs/design-canvas-9fc45ca457154bc19d99c5edcfbf3789.svg'/></td>\n",
       "                               <td><img style='width:100px' src='./saved_designs/exported_from_scout (27)/saved_svgs/design-canvas-3d18296d94404f618556683f2407b007.svg'/></td></tr></table>"
      ],
      "text/plain": [
       "<IPython.core.display.HTML object>"
      ]
     },
     "metadata": {},
     "output_type": "display_data"
    },
    {
     "name": "stdout",
     "output_type": "stream",
     "text": [
      "\n",
      "# diversity score 1.3839195869924372\n",
      "# score details\n",
      "{'alt_group_score': 0.0,\n",
      " 'pos_diff_score': 0.24298179155792088,\n",
      " 'rel_dist_diff_score': 0.21834762603596486,\n",
      " 'size_diff_score': 0.46129508469927577}\n"
     ]
    },
    {
     "data": {
      "text/html": [
       "<table><tr><td><img style='width:100px' src='./saved_designs/exported_from_scout (27)/saved_svgs/design-canvas-70242e15df9d48559e4c4e6903cfb320.svg'/></td>\n",
       "                               <td><img style='width:100px' src='./saved_designs/exported_from_scout (27)/saved_svgs/design-canvas-9fc45ca457154bc19d99c5edcfbf3789.svg'/></td></tr></table>"
      ],
      "text/plain": [
       "<IPython.core.display.HTML object>"
      ]
     },
     "metadata": {},
     "output_type": "display_data"
    },
    {
     "name": "stdout",
     "output_type": "stream",
     "text": [
      "\n",
      "# diversity score 1.3766421038747518\n",
      "# score details\n",
      "{'alt_group_score': 0.0,\n",
      " 'pos_diff_score': 0.33465304322019634,\n",
      " 'rel_dist_diff_score': 0.3010773955784355,\n",
      " 'size_diff_score': 0.37045583253805997}\n"
     ]
    },
    {
     "data": {
      "text/html": [
       "<table><tr><td><img style='width:100px' src='./saved_designs/exported_from_scout (27)/saved_svgs/design-canvas-a92d3607a3fb498398ed0437348cf368.svg'/></td>\n",
       "                               <td><img style='width:100px' src='./saved_designs/exported_from_scout (27)/saved_svgs/design-canvas-3d18296d94404f618556683f2407b007.svg'/></td></tr></table>"
      ],
      "text/plain": [
       "<IPython.core.display.HTML object>"
      ]
     },
     "metadata": {},
     "output_type": "display_data"
    },
    {
     "name": "stdout",
     "output_type": "stream",
     "text": [
      "\n",
      "# diversity score 1.3665293127887073\n",
      "# score details\n",
      "{'alt_group_score': 0.125,\n",
      " 'pos_diff_score': 0.2992594873948998,\n",
      " 'rel_dist_diff_score': 0.28711052718708513,\n",
      " 'size_diff_score': 0.3275796491033611}\n"
     ]
    },
    {
     "data": {
      "text/html": [
       "<table><tr><td><img style='width:100px' src='./saved_designs/exported_from_scout (27)/saved_svgs/design-canvas-9fc45ca457154bc19d99c5edcfbf3789.svg'/></td>\n",
       "                               <td><img style='width:100px' src='./saved_designs/exported_from_scout (27)/saved_svgs/design-canvas-a92d3607a3fb498398ed0437348cf368.svg'/></td></tr></table>"
      ],
      "text/plain": [
       "<IPython.core.display.HTML object>"
      ]
     },
     "metadata": {},
     "output_type": "display_data"
    },
    {
     "name": "stdout",
     "output_type": "stream",
     "text": [
      "\n",
      "# diversity score 0.9700271419344767\n",
      "# score details\n",
      "{'alt_group_score': 0.0,\n",
      " 'pos_diff_score': 0.23553643087911685,\n",
      " 'rel_dist_diff_score': 0.2325175115799832,\n",
      " 'size_diff_score': 0.25098659973768833}\n"
     ]
    },
    {
     "data": {
      "text/html": [
       "<table><tr><td><img style='width:100px' src='./saved_designs/exported_from_scout (27)/saved_svgs/design-canvas-c7c1d6eae7ca4644a29aa15a33cd4a1d.svg'/></td>\n",
       "                               <td><img style='width:100px' src='./saved_designs/exported_from_scout (27)/saved_svgs/design-canvas-3d18296d94404f618556683f2407b007.svg'/></td></tr></table>"
      ],
      "text/plain": [
       "<IPython.core.display.HTML object>"
      ]
     },
     "metadata": {},
     "output_type": "display_data"
    },
    {
     "name": "stdout",
     "output_type": "stream",
     "text": [
      "\n",
      "==============\n",
      "## Analyzing exported_from_scout - 2019-04-23T094836.267 ...\n",
      "# diversity score 1.814507495099357\n",
      "# score details\n",
      "{'alt_group_score': 0.08333333333333333,\n",
      " 'pos_diff_score': 0.6802621956263115,\n",
      " 'rel_dist_diff_score': 0.415201272176056,\n",
      " 'size_diff_score': 0.317855346981828}\n"
     ]
    },
    {
     "data": {
      "text/html": [
       "<table><tr><td><img style='width:100px' src='./saved_designs/exported_from_scout - 2019-04-23T094836.267/import_these_into_xd/design-canvas-3dd245c1749e4627a1d5d7c8f677193d.svg'/></td>\n",
       "                               <td><img style='width:100px' src='./saved_designs/exported_from_scout - 2019-04-23T094836.267/import_these_into_xd/design-canvas-ed719ba233704810a0964b7c569c9ed1.svg'/></td></tr></table>"
      ],
      "text/plain": [
       "<IPython.core.display.HTML object>"
      ]
     },
     "metadata": {},
     "output_type": "display_data"
    },
    {
     "name": "stdout",
     "output_type": "stream",
     "text": [
      "\n",
      "# diversity score 1.7912078147300456\n",
      "# score details\n",
      "{'alt_group_score': 0.08333333333333333,\n",
      " 'pos_diff_score': 0.711059727691475,\n",
      " 'rel_dist_diff_score': 0.42375230231600186,\n",
      " 'size_diff_score': 0.28653122569461775}\n"
     ]
    },
    {
     "data": {
      "text/html": [
       "<table><tr><td><img style='width:100px' src='./saved_designs/exported_from_scout - 2019-04-23T094836.267/import_these_into_xd/design-canvas-2c9856f3e10141a3b2668f37e42a26af.svg'/></td>\n",
       "                               <td><img style='width:100px' src='./saved_designs/exported_from_scout - 2019-04-23T094836.267/import_these_into_xd/design-canvas-3dd245c1749e4627a1d5d7c8f677193d.svg'/></td></tr></table>"
      ],
      "text/plain": [
       "<IPython.core.display.HTML object>"
      ]
     },
     "metadata": {},
     "output_type": "display_data"
    },
    {
     "name": "stdout",
     "output_type": "stream",
     "text": [
      "\n",
      "# diversity score 1.6424103639956558\n",
      "# score details\n",
      "{'alt_group_score': 0.08333333333333333,\n",
      " 'pos_diff_score': 0.6580167656575296,\n",
      " 'rel_dist_diff_score': 0.3314706590392467,\n",
      " 'size_diff_score': 0.284794802982773}\n"
     ]
    },
    {
     "data": {
      "text/html": [
       "<table><tr><td><img style='width:100px' src='./saved_designs/exported_from_scout - 2019-04-23T094836.267/import_these_into_xd/design-canvas-3af7dce4b8654a809d9093427d91ff19.svg'/></td>\n",
       "                               <td><img style='width:100px' src='./saved_designs/exported_from_scout - 2019-04-23T094836.267/import_these_into_xd/design-canvas-ed719ba233704810a0964b7c569c9ed1.svg'/></td></tr></table>"
      ],
      "text/plain": [
       "<IPython.core.display.HTML object>"
      ]
     },
     "metadata": {},
     "output_type": "display_data"
    },
    {
     "name": "stdout",
     "output_type": "stream",
     "text": [
      "\n",
      "# diversity score 1.472686198149796\n",
      "# score details\n",
      "{'alt_group_score': 0.08333333333333333,\n",
      " 'pos_diff_score': 0.7087459801716679,\n",
      " 'rel_dist_diff_score': 0.3385017330550122,\n",
      " 'size_diff_score': 0.17105257579489128}\n"
     ]
    },
    {
     "data": {
      "text/html": [
       "<table><tr><td><img style='width:100px' src='./saved_designs/exported_from_scout - 2019-04-23T094836.267/import_these_into_xd/design-canvas-2c9856f3e10141a3b2668f37e42a26af.svg'/></td>\n",
       "                               <td><img style='width:100px' src='./saved_designs/exported_from_scout - 2019-04-23T094836.267/import_these_into_xd/design-canvas-3af7dce4b8654a809d9093427d91ff19.svg'/></td></tr></table>"
      ],
      "text/plain": [
       "<IPython.core.display.HTML object>"
      ]
     },
     "metadata": {},
     "output_type": "display_data"
    },
    {
     "name": "stdout",
     "output_type": "stream",
     "text": [
      "\n",
      "# diversity score 0.8601801714763968\n",
      "# score details\n",
      "{'alt_group_score': 0.0,\n",
      " 'pos_diff_score': 0.2356453453451054,\n",
      " 'rel_dist_diff_score': 0.16413185104218592,\n",
      " 'size_diff_score': 0.23020148754455275}\n"
     ]
    },
    {
     "data": {
      "text/html": [
       "<table><tr><td><img style='width:100px' src='./saved_designs/exported_from_scout - 2019-04-23T094836.267/import_these_into_xd/design-canvas-3af7dce4b8654a809d9093427d91ff19.svg'/></td>\n",
       "                               <td><img style='width:100px' src='./saved_designs/exported_from_scout - 2019-04-23T094836.267/import_these_into_xd/design-canvas-3dd245c1749e4627a1d5d7c8f677193d.svg'/></td></tr></table>"
      ],
      "text/plain": [
       "<IPython.core.display.HTML object>"
      ]
     },
     "metadata": {},
     "output_type": "display_data"
    },
    {
     "name": "stdout",
     "output_type": "stream",
     "text": [
      "\n",
      "# diversity score 0.8515243101296358\n",
      "# score details\n",
      "{'alt_group_score': 0.0,\n",
      " 'pos_diff_score': 0.20562681671442098,\n",
      " 'rel_dist_diff_score': 0.15580607912981742,\n",
      " 'size_diff_score': 0.2450457071426987}\n"
     ]
    },
    {
     "data": {
      "text/html": [
       "<table><tr><td><img style='width:100px' src='./saved_designs/exported_from_scout - 2019-04-23T094836.267/import_these_into_xd/design-canvas-2c9856f3e10141a3b2668f37e42a26af.svg'/></td>\n",
       "                               <td><img style='width:100px' src='./saved_designs/exported_from_scout - 2019-04-23T094836.267/import_these_into_xd/design-canvas-ed719ba233704810a0964b7c569c9ed1.svg'/></td></tr></table>"
      ],
      "text/plain": [
       "<IPython.core.display.HTML object>"
      ]
     },
     "metadata": {},
     "output_type": "display_data"
    },
    {
     "name": "stdout",
     "output_type": "stream",
     "text": [
      "\n",
      "==============\n",
      "## Analyzing exported_from_scout (50) ...\n",
      "# diversity score 1.9696002044957739\n",
      "# score details\n",
      "{'alt_group_score': 0.07692307692307693,\n",
      " 'pos_diff_score': 0.6569482741923717,\n",
      " 'rel_dist_diff_score': 0.4501342487757093,\n",
      " 'size_diff_score': 0.3927973023023079}\n"
     ]
    },
    {
     "data": {
      "text/html": [
       "<table><tr><td><img style='width:100px' src='./saved_designs/exported_from_scout (50)/saved_svgs/design-canvas-90e3874987904050a6b073c1d925fefd.svg'/></td>\n",
       "                               <td><img style='width:100px' src='./saved_designs/exported_from_scout (50)/saved_svgs/design-canvas-10a65cf7f8df4b209d36b11fa6c545d3.svg'/></td></tr></table>"
      ],
      "text/plain": [
       "<IPython.core.display.HTML object>"
      ]
     },
     "metadata": {},
     "output_type": "display_data"
    },
    {
     "name": "stdout",
     "output_type": "stream",
     "text": [
      "\n",
      "# diversity score 1.9318507159520535\n",
      "# score details\n",
      "{'alt_group_score': 0.07692307692307693,\n",
      " 'pos_diff_score': 0.6668935585487646,\n",
      " 'rel_dist_diff_score': 0.43837756572836223,\n",
      " 'size_diff_score': 0.3748282573759248}\n"
     ]
    },
    {
     "data": {
      "text/html": [
       "<table><tr><td><img style='width:100px' src='./saved_designs/exported_from_scout (50)/saved_svgs/design-canvas-6ff18e66dfda44669d2e03c69664f5c8.svg'/></td>\n",
       "                               <td><img style='width:100px' src='./saved_designs/exported_from_scout (50)/saved_svgs/design-canvas-10a65cf7f8df4b209d36b11fa6c545d3.svg'/></td></tr></table>"
      ],
      "text/plain": [
       "<IPython.core.display.HTML object>"
      ]
     },
     "metadata": {},
     "output_type": "display_data"
    },
    {
     "name": "stdout",
     "output_type": "stream",
     "text": [
      "\n",
      "# diversity score 1.2426594259795782\n",
      "# score details\n",
      "{'alt_group_score': 0.0,\n",
      " 'pos_diff_score': 0.20745543076403,\n",
      " 'rel_dist_diff_score': 0.14294228899872735,\n",
      " 'size_diff_score': 0.44613085310841044}\n"
     ]
    },
    {
     "data": {
      "text/html": [
       "<table><tr><td><img style='width:100px' src='./saved_designs/exported_from_scout (50)/saved_svgs/design-canvas-6ff18e66dfda44669d2e03c69664f5c8.svg'/></td>\n",
       "                               <td><img style='width:100px' src='./saved_designs/exported_from_scout (50)/saved_svgs/design-canvas-90e3874987904050a6b073c1d925fefd.svg'/></td></tr></table>"
      ],
      "text/plain": [
       "<IPython.core.display.HTML object>"
      ]
     },
     "metadata": {},
     "output_type": "display_data"
    },
    {
     "name": "stdout",
     "output_type": "stream",
     "text": [
      "\n",
      "==============\n",
      "## Analyzing exported_from_scout (96) ...\n",
      "# diversity score 2.209794554969422\n",
      "# score details\n",
      "{'alt_group_score': 0.0,\n",
      " 'pos_diff_score': 0.4103737057999978,\n",
      " 'rel_dist_diff_score': 0.3751985733609425,\n",
      " 'size_diff_score': 0.7121111379042409}\n"
     ]
    },
    {
     "data": {
      "text/html": [
       "<table><tr><td><img style='width:100px' src='./saved_designs/exported_from_scout (96)/import_these_into_xd/design-canvas-4f707855b72d4faca871652c16f40964.svg'/></td>\n",
       "                               <td><img style='width:100px' src='./saved_designs/exported_from_scout (96)/import_these_into_xd/design-canvas-eb2b5c26801f42d4aab4d1f1abe91579.svg'/></td></tr></table>"
      ],
      "text/plain": [
       "<IPython.core.display.HTML object>"
      ]
     },
     "metadata": {},
     "output_type": "display_data"
    },
    {
     "name": "stdout",
     "output_type": "stream",
     "text": [
      "\n",
      "==============\n",
      "## Analyzing exported_from_scout (51) ...\n",
      "# diversity score 1.6392529830270015\n",
      "# score details\n",
      "{'alt_group_score': 0.07692307692307693,\n",
      " 'pos_diff_score': 0.5673494054067647,\n",
      " 'rel_dist_diff_score': 0.3931140024023088,\n",
      " 'size_diff_score': 0.30093324914742553}\n"
     ]
    },
    {
     "data": {
      "text/html": [
       "<table><tr><td><img style='width:100px' src='./saved_designs/exported_from_scout (51)/saved_svgs/design-canvas-90e3874987904050a6b073c1d925fefd.svg'/></td>\n",
       "                               <td><img style='width:100px' src='./saved_designs/exported_from_scout (51)/saved_svgs/design-canvas-2635f542ddfa4b378c626d8f5b65d782.svg'/></td></tr></table>"
      ],
      "text/plain": [
       "<IPython.core.display.HTML object>"
      ]
     },
     "metadata": {},
     "output_type": "display_data"
    },
    {
     "name": "stdout",
     "output_type": "stream",
     "text": [
      "\n",
      "# diversity score 1.6202483335566953\n",
      "# score details\n",
      "{'alt_group_score': 0.0,\n",
      " 'pos_diff_score': 0.6075914343994973,\n",
      " 'rel_dist_diff_score': 0.3924938675802991,\n",
      " 'size_diff_score': 0.31008151578844945}\n"
     ]
    },
    {
     "data": {
      "text/html": [
       "<table><tr><td><img style='width:100px' src='./saved_designs/exported_from_scout (51)/saved_svgs/design-canvas-90e3874987904050a6b073c1d925fefd.svg'/></td>\n",
       "                               <td><img style='width:100px' src='./saved_designs/exported_from_scout (51)/saved_svgs/design-canvas-1247f5e41e6d40b7b60efc468451e1b9.svg'/></td></tr></table>"
      ],
      "text/plain": [
       "<IPython.core.display.HTML object>"
      ]
     },
     "metadata": {},
     "output_type": "display_data"
    },
    {
     "name": "stdout",
     "output_type": "stream",
     "text": [
      "\n",
      "# diversity score 1.5944773581895901\n",
      "# score details\n",
      "{'alt_group_score': 0.0,\n",
      " 'pos_diff_score': 0.5850849333532627,\n",
      " 'rel_dist_diff_score': 0.3722026805005609,\n",
      " 'size_diff_score': 0.3185948721678833}\n"
     ]
    },
    {
     "data": {
      "text/html": [
       "<table><tr><td><img style='width:100px' src='./saved_designs/exported_from_scout (51)/saved_svgs/design-canvas-6ff18e66dfda44669d2e03c69664f5c8.svg'/></td>\n",
       "                               <td><img style='width:100px' src='./saved_designs/exported_from_scout (51)/saved_svgs/design-canvas-1247f5e41e6d40b7b60efc468451e1b9.svg'/></td></tr></table>"
      ],
      "text/plain": [
       "<IPython.core.display.HTML object>"
      ]
     },
     "metadata": {},
     "output_type": "display_data"
    },
    {
     "name": "stdout",
     "output_type": "stream",
     "text": [
      "\n",
      "# diversity score 1.5612635102980497\n",
      "# score details\n",
      "{'alt_group_score': 0.07692307692307693,\n",
      " 'pos_diff_score': 0.6569482741923717,\n",
      " 'rel_dist_diff_score': 0.4501342487757093,\n",
      " 'size_diff_score': 0.18862895520344578}\n"
     ]
    },
    {
     "data": {
      "text/html": [
       "<table><tr><td><img style='width:100px' src='./saved_designs/exported_from_scout (51)/saved_svgs/design-canvas-90e3874987904050a6b073c1d925fefd.svg'/></td>\n",
       "                               <td><img style='width:100px' src='./saved_designs/exported_from_scout (51)/saved_svgs/design-canvas-10a65cf7f8df4b209d36b11fa6c545d3.svg'/></td></tr></table>"
      ],
      "text/plain": [
       "<IPython.core.display.HTML object>"
      ]
     },
     "metadata": {},
     "output_type": "display_data"
    },
    {
     "name": "stdout",
     "output_type": "stream",
     "text": [
      "\n",
      "# diversity score 1.5466232128685795\n",
      "# score details\n",
      "{'alt_group_score': 0.07692307692307693,\n",
      " 'pos_diff_score': 0.5138206351415471,\n",
      " 'rel_dist_diff_score': 0.3801737650895912,\n",
      " 'size_diff_score': 0.2878528678571821}\n"
     ]
    },
    {
     "data": {
      "text/html": [
       "<table><tr><td><img style='width:100px' src='./saved_designs/exported_from_scout (51)/saved_svgs/design-canvas-6ff18e66dfda44669d2e03c69664f5c8.svg'/></td>\n",
       "                               <td><img style='width:100px' src='./saved_designs/exported_from_scout (51)/saved_svgs/design-canvas-2635f542ddfa4b378c626d8f5b65d782.svg'/></td></tr></table>"
      ],
      "text/plain": [
       "<IPython.core.display.HTML object>"
      ]
     },
     "metadata": {},
     "output_type": "display_data"
    },
    {
     "name": "stdout",
     "output_type": "stream",
     "text": [
      "\n",
      "# diversity score 1.5421939372224922\n",
      "# score details\n",
      "{'alt_group_score': 0.07692307692307693,\n",
      " 'pos_diff_score': 0.6668935585487646,\n",
      " 'rel_dist_diff_score': 0.43837756572836223,\n",
      " 'size_diff_score': 0.17999986801114426}\n"
     ]
    },
    {
     "data": {
      "text/html": [
       "<table><tr><td><img style='width:100px' src='./saved_designs/exported_from_scout (51)/saved_svgs/design-canvas-6ff18e66dfda44669d2e03c69664f5c8.svg'/></td>\n",
       "                               <td><img style='width:100px' src='./saved_designs/exported_from_scout (51)/saved_svgs/design-canvas-10a65cf7f8df4b209d36b11fa6c545d3.svg'/></td></tr></table>"
      ],
      "text/plain": [
       "<IPython.core.display.HTML object>"
      ]
     },
     "metadata": {},
     "output_type": "display_data"
    },
    {
     "name": "stdout",
     "output_type": "stream",
     "text": [
      "\n",
      "# diversity score 1.4038374500025954\n",
      "# score details\n",
      "{'alt_group_score': 0.0,\n",
      " 'pos_diff_score': 0.48793681376787934,\n",
      " 'rel_dist_diff_score': 0.36490094960641634,\n",
      " 'size_diff_score': 0.27549984331414984}\n"
     ]
    },
    {
     "data": {
      "text/html": [
       "<table><tr><td><img style='width:100px' src='./saved_designs/exported_from_scout (51)/saved_svgs/design-canvas-10a65cf7f8df4b209d36b11fa6c545d3.svg'/></td>\n",
       "                               <td><img style='width:100px' src='./saved_designs/exported_from_scout (51)/saved_svgs/design-canvas-2635f542ddfa4b378c626d8f5b65d782.svg'/></td></tr></table>"
      ],
      "text/plain": [
       "<IPython.core.display.HTML object>"
      ]
     },
     "metadata": {},
     "output_type": "display_data"
    },
    {
     "name": "stdout",
     "output_type": "stream",
     "text": [
      "\n",
      "# diversity score 1.314619043461472\n",
      "# score details\n",
      "{'alt_group_score': 0.07692307692307693,\n",
      " 'pos_diff_score': 0.3709023559777084,\n",
      " 'rel_dist_diff_score': 0.27246336042381203,\n",
      " 'size_diff_score': 0.2971651250684373}\n"
     ]
    },
    {
     "data": {
      "text/html": [
       "<table><tr><td><img style='width:100px' src='./saved_designs/exported_from_scout (51)/saved_svgs/design-canvas-10a65cf7f8df4b209d36b11fa6c545d3.svg'/></td>\n",
       "                               <td><img style='width:100px' src='./saved_designs/exported_from_scout (51)/saved_svgs/design-canvas-1247f5e41e6d40b7b60efc468451e1b9.svg'/></td></tr></table>"
      ],
      "text/plain": [
       "<IPython.core.display.HTML object>"
      ]
     },
     "metadata": {},
     "output_type": "display_data"
    },
    {
     "name": "stdout",
     "output_type": "stream",
     "text": [
      "\n",
      "# diversity score 1.294999164850737\n",
      "# score details\n",
      "{'alt_group_score': 0.07692307692307693,\n",
      " 'pos_diff_score': 0.31606761584232623,\n",
      " 'rel_dist_diff_score': 0.22737982942235482,\n",
      " 'size_diff_score': 0.33731432133148953}\n"
     ]
    },
    {
     "data": {
      "text/html": [
       "<table><tr><td><img style='width:100px' src='./saved_designs/exported_from_scout (51)/saved_svgs/design-canvas-2635f542ddfa4b378c626d8f5b65d782.svg'/></td>\n",
       "                               <td><img style='width:100px' src='./saved_designs/exported_from_scout (51)/saved_svgs/design-canvas-1247f5e41e6d40b7b60efc468451e1b9.svg'/></td></tr></table>"
      ],
      "text/plain": [
       "<IPython.core.display.HTML object>"
      ]
     },
     "metadata": {},
     "output_type": "display_data"
    },
    {
     "name": "stdout",
     "output_type": "stream",
     "text": [
      "\n",
      "# diversity score 0.7788792608151687\n",
      "# score details\n",
      "{'alt_group_score': 0.0,\n",
      " 'pos_diff_score': 0.20745543076403,\n",
      " 'rel_dist_diff_score': 0.14294228899872735,\n",
      " 'size_diff_score': 0.2142407705262057}\n"
     ]
    },
    {
     "data": {
      "text/html": [
       "<table><tr><td><img style='width:100px' src='./saved_designs/exported_from_scout (51)/saved_svgs/design-canvas-6ff18e66dfda44669d2e03c69664f5c8.svg'/></td>\n",
       "                               <td><img style='width:100px' src='./saved_designs/exported_from_scout (51)/saved_svgs/design-canvas-90e3874987904050a6b073c1d925fefd.svg'/></td></tr></table>"
      ],
      "text/plain": [
       "<IPython.core.display.HTML object>"
      ]
     },
     "metadata": {},
     "output_type": "display_data"
    },
    {
     "name": "stdout",
     "output_type": "stream",
     "text": [
      "\n",
      "==============\n",
      "## Analyzing exported_from_scout (97) ...\n",
      "# diversity score 2.0017931499759247\n",
      "# score details\n",
      "{'alt_group_score': 0.0,\n",
      " 'pos_diff_score': 0.5018654727282198,\n",
      " 'rel_dist_diff_score': 0.34620994655216614,\n",
      " 'size_diff_score': 0.5768588653477694}\n"
     ]
    },
    {
     "data": {
      "text/html": [
       "<table><tr><td><img style='width:100px' src='./saved_designs/exported_from_scout (97)/import_these_into_xd/design-canvas-f0dc6cec5324477290180c56fda9aeb1.svg'/></td>\n",
       "                               <td><img style='width:100px' src='./saved_designs/exported_from_scout (97)/import_these_into_xd/design-canvas-b8d7e094ee214de0bb66d93ccef6b1e5.svg'/></td></tr></table>"
      ],
      "text/plain": [
       "<IPython.core.display.HTML object>"
      ]
     },
     "metadata": {},
     "output_type": "display_data"
    },
    {
     "name": "stdout",
     "output_type": "stream",
     "text": [
      "\n",
      "# diversity score 1.8868528008882777\n",
      "# score details\n",
      "{'alt_group_score': 0.125,\n",
      " 'pos_diff_score': 0.4225364651955221,\n",
      " 'rel_dist_diff_score': 0.22400608090369545,\n",
      " 'size_diff_score': 0.55765512739453}\n"
     ]
    },
    {
     "data": {
      "text/html": [
       "<table><tr><td><img style='width:100px' src='./saved_designs/exported_from_scout (97)/import_these_into_xd/design-canvas-33b90f9270d24b3ba34499c1c3bb68b4.svg'/></td>\n",
       "                               <td><img style='width:100px' src='./saved_designs/exported_from_scout (97)/import_these_into_xd/design-canvas-b8d7e094ee214de0bb66d93ccef6b1e5.svg'/></td></tr></table>"
      ],
      "text/plain": [
       "<IPython.core.display.HTML object>"
      ]
     },
     "metadata": {},
     "output_type": "display_data"
    },
    {
     "name": "stdout",
     "output_type": "stream",
     "text": [
      "\n",
      "# diversity score 1.836743516010824\n",
      "# score details\n",
      "{'alt_group_score': 0.0,\n",
      " 'pos_diff_score': 0.518603446312516,\n",
      " 'rel_dist_diff_score': 0.2683069292310069,\n",
      " 'size_diff_score': 0.5249165702336506}\n"
     ]
    },
    {
     "data": {
      "text/html": [
       "<table><tr><td><img style='width:100px' src='./saved_designs/exported_from_scout (97)/import_these_into_xd/design-canvas-b8d7e094ee214de0bb66d93ccef6b1e5.svg'/></td>\n",
       "                               <td><img style='width:100px' src='./saved_designs/exported_from_scout (97)/import_these_into_xd/design-canvas-4749f58bb9d24fc99a15a0145fecb572.svg'/></td></tr></table>"
      ],
      "text/plain": [
       "<IPython.core.display.HTML object>"
      ]
     },
     "metadata": {},
     "output_type": "display_data"
    },
    {
     "name": "stdout",
     "output_type": "stream",
     "text": [
      "\n",
      "# diversity score 1.7745136951397604\n",
      "# score details\n",
      "{'alt_group_score': 0.125,\n",
      " 'pos_diff_score': 0.5261095140799039,\n",
      " 'rel_dist_diff_score': 0.20610158790071667,\n",
      " 'size_diff_score': 0.45865129657956993}\n"
     ]
    },
    {
     "data": {
      "text/html": [
       "<table><tr><td><img style='width:100px' src='./saved_designs/exported_from_scout (97)/import_these_into_xd/design-canvas-33b90f9270d24b3ba34499c1c3bb68b4.svg'/></td>\n",
       "                               <td><img style='width:100px' src='./saved_designs/exported_from_scout (97)/import_these_into_xd/design-canvas-4ec926fa41894887bcf3ac1ac5af35f7.svg'/></td></tr></table>"
      ],
      "text/plain": [
       "<IPython.core.display.HTML object>"
      ]
     },
     "metadata": {},
     "output_type": "display_data"
    },
    {
     "name": "stdout",
     "output_type": "stream",
     "text": [
      "\n",
      "# diversity score 1.7292972356535397\n",
      "# score details\n",
      "{'alt_group_score': 0.125,\n",
      " 'pos_diff_score': 0.4656570404827421,\n",
      " 'rel_dist_diff_score': 0.26836003567656813,\n",
      " 'size_diff_score': 0.4351400797471148}\n"
     ]
    },
    {
     "data": {
      "text/html": [
       "<table><tr><td><img style='width:100px' src='./saved_designs/exported_from_scout (97)/import_these_into_xd/design-canvas-33b90f9270d24b3ba34499c1c3bb68b4.svg'/></td>\n",
       "                               <td><img style='width:100px' src='./saved_designs/exported_from_scout (97)/import_these_into_xd/design-canvas-062699f37400475cbba6dbfc4d6933b3.svg'/></td></tr></table>"
      ],
      "text/plain": [
       "<IPython.core.display.HTML object>"
      ]
     },
     "metadata": {},
     "output_type": "display_data"
    },
    {
     "name": "stdout",
     "output_type": "stream",
     "text": [
      "\n",
      "# diversity score 1.7059793930927736\n",
      "# score details\n",
      "{'alt_group_score': 0.125,\n",
      " 'pos_diff_score': 0.39813263049470315,\n",
      " 'rel_dist_diff_score': 0.2806314890904447,\n",
      " 'size_diff_score': 0.45110763675381277}\n"
     ]
    },
    {
     "data": {
      "text/html": [
       "<table><tr><td><img style='width:100px' src='./saved_designs/exported_from_scout (97)/import_these_into_xd/design-canvas-33b90f9270d24b3ba34499c1c3bb68b4.svg'/></td>\n",
       "                               <td><img style='width:100px' src='./saved_designs/exported_from_scout (97)/import_these_into_xd/design-canvas-f0dc6cec5324477290180c56fda9aeb1.svg'/></td></tr></table>"
      ],
      "text/plain": [
       "<IPython.core.display.HTML object>"
      ]
     },
     "metadata": {},
     "output_type": "display_data"
    },
    {
     "name": "stdout",
     "output_type": "stream",
     "text": [
      "\n",
      "# diversity score 1.6843011665634275\n",
      "# score details\n",
      "{'alt_group_score': 0.0,\n",
      " 'pos_diff_score': 0.4467363561062081,\n",
      " 'rel_dist_diff_score': 0.2577619668262814,\n",
      " 'size_diff_score': 0.48990142181546903}\n"
     ]
    },
    {
     "data": {
      "text/html": [
       "<table><tr><td><img style='width:100px' src='./saved_designs/exported_from_scout (97)/import_these_into_xd/design-canvas-b8d7e094ee214de0bb66d93ccef6b1e5.svg'/></td>\n",
       "                               <td><img style='width:100px' src='./saved_designs/exported_from_scout (97)/import_these_into_xd/design-canvas-062699f37400475cbba6dbfc4d6933b3.svg'/></td></tr></table>"
      ],
      "text/plain": [
       "<IPython.core.display.HTML object>"
      ]
     },
     "metadata": {},
     "output_type": "display_data"
    },
    {
     "name": "stdout",
     "output_type": "stream",
     "text": [
      "\n",
      "# diversity score 1.6584817687373472\n",
      "# score details\n",
      "{'alt_group_score': 0.125,\n",
      " 'pos_diff_score': 0.4715834817523379,\n",
      " 'rel_dist_diff_score': 0.19285728602024726,\n",
      " 'size_diff_score': 0.43452050048238106}\n"
     ]
    },
    {
     "data": {
      "text/html": [
       "<table><tr><td><img style='width:100px' src='./saved_designs/exported_from_scout (97)/import_these_into_xd/design-canvas-33b90f9270d24b3ba34499c1c3bb68b4.svg'/></td>\n",
       "                               <td><img style='width:100px' src='./saved_designs/exported_from_scout (97)/import_these_into_xd/design-canvas-4749f58bb9d24fc99a15a0145fecb572.svg'/></td></tr></table>"
      ],
      "text/plain": [
       "<IPython.core.display.HTML object>"
      ]
     },
     "metadata": {},
     "output_type": "display_data"
    },
    {
     "name": "stdout",
     "output_type": "stream",
     "text": [
      "\n",
      "# diversity score 1.6458366983542583\n",
      "# score details\n",
      "{'alt_group_score': 0.0,\n",
      " 'pos_diff_score': 0.3640490844902253,\n",
      " 'rel_dist_diff_score': 0.34664995250489034,\n",
      " 'size_diff_score': 0.46756883067957133}\n"
     ]
    },
    {
     "data": {
      "text/html": [
       "<table><tr><td><img style='width:100px' src='./saved_designs/exported_from_scout (97)/import_these_into_xd/design-canvas-f0dc6cec5324477290180c56fda9aeb1.svg'/></td>\n",
       "                               <td><img style='width:100px' src='./saved_designs/exported_from_scout (97)/import_these_into_xd/design-canvas-062699f37400475cbba6dbfc4d6933b3.svg'/></td></tr></table>"
      ],
      "text/plain": [
       "<IPython.core.display.HTML object>"
      ]
     },
     "metadata": {},
     "output_type": "display_data"
    },
    {
     "name": "stdout",
     "output_type": "stream",
     "text": [
      "\n",
      "# diversity score 1.6011916335945342\n",
      "# score details\n",
      "{'alt_group_score': 0.0,\n",
      " 'pos_diff_score': 0.3757827738209313,\n",
      " 'rel_dist_diff_score': 0.2774402774351435,\n",
      " 'size_diff_score': 0.4739842911692297}\n"
     ]
    },
    {
     "data": {
      "text/html": [
       "<table><tr><td><img style='width:100px' src='./saved_designs/exported_from_scout (97)/import_these_into_xd/design-canvas-f0dc6cec5324477290180c56fda9aeb1.svg'/></td>\n",
       "                               <td><img style='width:100px' src='./saved_designs/exported_from_scout (97)/import_these_into_xd/design-canvas-4ec926fa41894887bcf3ac1ac5af35f7.svg'/></td></tr></table>"
      ],
      "text/plain": [
       "<IPython.core.display.HTML object>"
      ]
     },
     "metadata": {},
     "output_type": "display_data"
    },
    {
     "name": "stdout",
     "output_type": "stream",
     "text": [
      "\n",
      "# diversity score 1.48107062099015\n",
      "# score details\n",
      "{'alt_group_score': 0.0,\n",
      " 'pos_diff_score': 0.4643702899783186,\n",
      " 'rel_dist_diff_score': 0.16972169535658474,\n",
      " 'size_diff_score': 0.4234893178276234}\n"
     ]
    },
    {
     "data": {
      "text/html": [
       "<table><tr><td><img style='width:100px' src='./saved_designs/exported_from_scout (97)/import_these_into_xd/design-canvas-b8d7e094ee214de0bb66d93ccef6b1e5.svg'/></td>\n",
       "                               <td><img style='width:100px' src='./saved_designs/exported_from_scout (97)/import_these_into_xd/design-canvas-4ec926fa41894887bcf3ac1ac5af35f7.svg'/></td></tr></table>"
      ],
      "text/plain": [
       "<IPython.core.display.HTML object>"
      ]
     },
     "metadata": {},
     "output_type": "display_data"
    },
    {
     "name": "stdout",
     "output_type": "stream",
     "text": [
      "\n",
      "# diversity score 1.4715132035288758\n",
      "# score details\n",
      "{'alt_group_score': 0.0,\n",
      " 'pos_diff_score': 0.32703437279631203,\n",
      " 'rel_dist_diff_score': 0.23429906712142257,\n",
      " 'size_diff_score': 0.4550898818055706}\n"
     ]
    },
    {
     "data": {
      "text/html": [
       "<table><tr><td><img style='width:100px' src='./saved_designs/exported_from_scout (97)/import_these_into_xd/design-canvas-4749f58bb9d24fc99a15a0145fecb572.svg'/></td>\n",
       "                               <td><img style='width:100px' src='./saved_designs/exported_from_scout (97)/import_these_into_xd/design-canvas-062699f37400475cbba6dbfc4d6933b3.svg'/></td></tr></table>"
      ],
      "text/plain": [
       "<IPython.core.display.HTML object>"
      ]
     },
     "metadata": {},
     "output_type": "display_data"
    },
    {
     "name": "stdout",
     "output_type": "stream",
     "text": [
      "\n",
      "# diversity score 1.3157922361809873\n",
      "# score details\n",
      "{'alt_group_score': 0.0,\n",
      " 'pos_diff_score': 0.22501134270456039,\n",
      " 'rel_dist_diff_score': 0.17904457408231633,\n",
      " 'size_diff_score': 0.4558681596970553}\n"
     ]
    },
    {
     "data": {
      "text/html": [
       "<table><tr><td><img style='width:100px' src='./saved_designs/exported_from_scout (97)/import_these_into_xd/design-canvas-4749f58bb9d24fc99a15a0145fecb572.svg'/></td>\n",
       "                               <td><img style='width:100px' src='./saved_designs/exported_from_scout (97)/import_these_into_xd/design-canvas-4ec926fa41894887bcf3ac1ac5af35f7.svg'/></td></tr></table>"
      ],
      "text/plain": [
       "<IPython.core.display.HTML object>"
      ]
     },
     "metadata": {},
     "output_type": "display_data"
    },
    {
     "name": "stdout",
     "output_type": "stream",
     "text": [
      "\n",
      "# diversity score 1.279783980421986\n",
      "# score details\n",
      "{'alt_group_score': 0.0,\n",
      " 'pos_diff_score': 0.4036017466398279,\n",
      " 'rel_dist_diff_score': 0.3507256813357391,\n",
      " 'size_diff_score': 0.26272827622320954}\n"
     ]
    },
    {
     "data": {
      "text/html": [
       "<table><tr><td><img style='width:100px' src='./saved_designs/exported_from_scout (97)/import_these_into_xd/design-canvas-f0dc6cec5324477290180c56fda9aeb1.svg'/></td>\n",
       "                               <td><img style='width:100px' src='./saved_designs/exported_from_scout (97)/import_these_into_xd/design-canvas-4749f58bb9d24fc99a15a0145fecb572.svg'/></td></tr></table>"
      ],
      "text/plain": [
       "<IPython.core.display.HTML object>"
      ]
     },
     "metadata": {},
     "output_type": "display_data"
    },
    {
     "name": "stdout",
     "output_type": "stream",
     "text": [
      "\n",
      "# diversity score 0.8801824424144893\n",
      "# score details\n",
      "{'alt_group_score': 0.0,\n",
      " 'pos_diff_score': 0.20794498045152382,\n",
      " 'rel_dist_diff_score': 0.17965162870052878,\n",
      " 'size_diff_score': 0.24629291663121833}\n"
     ]
    },
    {
     "data": {
      "text/html": [
       "<table><tr><td><img style='width:100px' src='./saved_designs/exported_from_scout (97)/import_these_into_xd/design-canvas-4ec926fa41894887bcf3ac1ac5af35f7.svg'/></td>\n",
       "                               <td><img style='width:100px' src='./saved_designs/exported_from_scout (97)/import_these_into_xd/design-canvas-062699f37400475cbba6dbfc4d6933b3.svg'/></td></tr></table>"
      ],
      "text/plain": [
       "<IPython.core.display.HTML object>"
      ]
     },
     "metadata": {},
     "output_type": "display_data"
    },
    {
     "name": "stdout",
     "output_type": "stream",
     "text": [
      "\n",
      "==============\n",
      "## Analyzing exported_from_scout (52) ...\n",
      "# diversity score 1.7036439613423733\n",
      "# score details\n",
      "{'alt_group_score': 0.0,\n",
      " 'pos_diff_score': 0.5947653833998738,\n",
      " 'rel_dist_diff_score': 0.40469108418261207,\n",
      " 'size_diff_score': 0.3520937468799436}\n"
     ]
    },
    {
     "data": {
      "text/html": [
       "<table><tr><td><img style='width:100px' src='./saved_designs/exported_from_scout (52)/saved_svgs/design-canvas-6726aaf1c8de40d1a7a3a4890983126b.svg'/></td>\n",
       "                               <td><img style='width:100px' src='./saved_designs/exported_from_scout (52)/saved_svgs/design-canvas-a5e89620c72146d9a8943c5d3c28934f.svg'/></td></tr></table>"
      ],
      "text/plain": [
       "<IPython.core.display.HTML object>"
      ]
     },
     "metadata": {},
     "output_type": "display_data"
    },
    {
     "name": "stdout",
     "output_type": "stream",
     "text": [
      "\n",
      "# diversity score 1.6590074509381352\n",
      "# score details\n",
      "{'alt_group_score': 0.0,\n",
      " 'pos_diff_score': 0.5831132263441483,\n",
      " 'rel_dist_diff_score': 0.40845208058376137,\n",
      " 'size_diff_score': 0.3337210720051128}\n"
     ]
    },
    {
     "data": {
      "text/html": [
       "<table><tr><td><img style='width:100px' src='./saved_designs/exported_from_scout (52)/saved_svgs/design-canvas-9cbcc62216344338bb17718474e81f1e.svg'/></td>\n",
       "                               <td><img style='width:100px' src='./saved_designs/exported_from_scout (52)/saved_svgs/design-canvas-7599585b0b764c2189747bf10283f144.svg'/></td></tr></table>"
      ],
      "text/plain": [
       "<IPython.core.display.HTML object>"
      ]
     },
     "metadata": {},
     "output_type": "display_data"
    },
    {
     "name": "stdout",
     "output_type": "stream",
     "text": [
      "\n",
      "# diversity score 1.629124253417983\n",
      "# score details\n",
      "{'alt_group_score': 0.08333333333333333,\n",
      " 'pos_diff_score': 0.4876924952934459,\n",
      " 'rel_dist_diff_score': 0.3653195314680465,\n",
      " 'size_diff_score': 0.3463894466615786}\n"
     ]
    },
    {
     "data": {
      "text/html": [
       "<table><tr><td><img style='width:100px' src='./saved_designs/exported_from_scout (52)/saved_svgs/design-canvas-56cc849527104b9a99bc9ec9a056faed.svg'/></td>\n",
       "                               <td><img style='width:100px' src='./saved_designs/exported_from_scout (52)/saved_svgs/design-canvas-9cbcc62216344338bb17718474e81f1e.svg'/></td></tr></table>"
      ],
      "text/plain": [
       "<IPython.core.display.HTML object>"
      ]
     },
     "metadata": {},
     "output_type": "display_data"
    },
    {
     "name": "stdout",
     "output_type": "stream",
     "text": [
      "\n",
      "# diversity score 1.61077710725209\n",
      "# score details\n",
      "{'alt_group_score': 0.0,\n",
      " 'pos_diff_score': 0.5683412691307693,\n",
      " 'rel_dist_diff_score': 0.38483988889989146,\n",
      " 'size_diff_score': 0.3287979746107146}\n"
     ]
    },
    {
     "data": {
      "text/html": [
       "<table><tr><td><img style='width:100px' src='./saved_designs/exported_from_scout (52)/saved_svgs/design-canvas-6726aaf1c8de40d1a7a3a4890983126b.svg'/></td>\n",
       "                               <td><img style='width:100px' src='./saved_designs/exported_from_scout (52)/saved_svgs/design-canvas-a3e1d87bf50e4259b1ad3f8d85ee1601.svg'/></td></tr></table>"
      ],
      "text/plain": [
       "<IPython.core.display.HTML object>"
      ]
     },
     "metadata": {},
     "output_type": "display_data"
    },
    {
     "name": "stdout",
     "output_type": "stream",
     "text": [
      "\n",
      "# diversity score 1.592803652441987\n",
      "# score details\n",
      "{'alt_group_score': 0.0,\n",
      " 'pos_diff_score': 0.5670873010596199,\n",
      " 'rel_dist_diff_score': 0.3918336373886996,\n",
      " 'size_diff_score': 0.31694135699683385}\n"
     ]
    },
    {
     "data": {
      "text/html": [
       "<table><tr><td><img style='width:100px' src='./saved_designs/exported_from_scout (52)/saved_svgs/design-canvas-9cbcc62216344338bb17718474e81f1e.svg'/></td>\n",
       "                               <td><img style='width:100px' src='./saved_designs/exported_from_scout (52)/saved_svgs/design-canvas-9d8da3fdb3874a8c97c1b334bb626a28.svg'/></td></tr></table>"
      ],
      "text/plain": [
       "<IPython.core.display.HTML object>"
      ]
     },
     "metadata": {},
     "output_type": "display_data"
    },
    {
     "name": "stdout",
     "output_type": "stream",
     "text": [
      "\n",
      "# diversity score 1.4626054142334712\n",
      "# score details\n",
      "{'alt_group_score': 0.08333333333333333,\n",
      " 'pos_diff_score': 0.6528547110628441,\n",
      " 'rel_dist_diff_score': 0.46658543456796364,\n",
      " 'size_diff_score': 0.12991596763466504}\n"
     ]
    },
    {
     "data": {
      "text/html": [
       "<table><tr><td><img style='width:100px' src='./saved_designs/exported_from_scout (52)/saved_svgs/design-canvas-9cbcc62216344338bb17718474e81f1e.svg'/></td>\n",
       "                               <td><img style='width:100px' src='./saved_designs/exported_from_scout (52)/saved_svgs/design-canvas-a3e1d87bf50e4259b1ad3f8d85ee1601.svg'/></td></tr></table>"
      ],
      "text/plain": [
       "<IPython.core.display.HTML object>"
      ]
     },
     "metadata": {},
     "output_type": "display_data"
    },
    {
     "name": "stdout",
     "output_type": "stream",
     "text": [
      "\n",
      "# diversity score 1.3457415068922756\n",
      "# score details\n",
      "{'alt_group_score': 0.08333333333333333,\n",
      " 'pos_diff_score': 0.3367617635784727,\n",
      " 'rel_dist_diff_score': 0.2185784733447899,\n",
      " 'size_diff_score': 0.3535339683178399}\n"
     ]
    },
    {
     "data": {
      "text/html": [
       "<table><tr><td><img style='width:100px' src='./saved_designs/exported_from_scout (52)/saved_svgs/design-canvas-6726aaf1c8de40d1a7a3a4890983126b.svg'/></td>\n",
       "                               <td><img style='width:100px' src='./saved_designs/exported_from_scout (52)/saved_svgs/design-canvas-9cbcc62216344338bb17718474e81f1e.svg'/></td></tr></table>"
      ],
      "text/plain": [
       "<IPython.core.display.HTML object>"
      ]
     },
     "metadata": {},
     "output_type": "display_data"
    },
    {
     "name": "stdout",
     "output_type": "stream",
     "text": [
      "\n",
      "# diversity score 1.3145559318749371\n",
      "# score details\n",
      "{'alt_group_score': 0.0,\n",
      " 'pos_diff_score': 0.3514114986999895,\n",
      " 'rel_dist_diff_score': 0.2725097873462745,\n",
      " 'size_diff_score': 0.3453173229143366}\n"
     ]
    },
    {
     "data": {
      "text/html": [
       "<table><tr><td><img style='width:100px' src='./saved_designs/exported_from_scout (52)/saved_svgs/design-canvas-56cc849527104b9a99bc9ec9a056faed.svg'/></td>\n",
       "                               <td><img style='width:100px' src='./saved_designs/exported_from_scout (52)/saved_svgs/design-canvas-a5e89620c72146d9a8943c5d3c28934f.svg'/></td></tr></table>"
      ],
      "text/plain": [
       "<IPython.core.display.HTML object>"
      ]
     },
     "metadata": {},
     "output_type": "display_data"
    },
    {
     "name": "stdout",
     "output_type": "stream",
     "text": [
      "\n",
      "# diversity score 1.283715582511932\n",
      "# score details\n",
      "{'alt_group_score': 0.08333333333333333,\n",
      " 'pos_diff_score': 0.6495582751389645,\n",
      " 'rel_dist_diff_score': 0.4394020108624017,\n",
      " 'size_diff_score': 0.055710981588616156}\n"
     ]
    },
    {
     "data": {
      "text/html": [
       "<table><tr><td><img style='width:100px' src='./saved_designs/exported_from_scout (52)/saved_svgs/design-canvas-9cbcc62216344338bb17718474e81f1e.svg'/></td>\n",
       "                               <td><img style='width:100px' src='./saved_designs/exported_from_scout (52)/saved_svgs/design-canvas-a5e89620c72146d9a8943c5d3c28934f.svg'/></td></tr></table>"
      ],
      "text/plain": [
       "<IPython.core.display.HTML object>"
      ]
     },
     "metadata": {},
     "output_type": "display_data"
    },
    {
     "name": "stdout",
     "output_type": "stream",
     "text": [
      "\n",
      "# diversity score 1.2543571934844153\n",
      "# score details\n",
      "{'alt_group_score': 0.08333333333333333,\n",
      " 'pos_diff_score': 0.48550542487453313,\n",
      " 'rel_dist_diff_score': 0.3226109763080199,\n",
      " 'size_diff_score': 0.18145372948426447}\n"
     ]
    },
    {
     "data": {
      "text/html": [
       "<table><tr><td><img style='width:100px' src='./saved_designs/exported_from_scout (52)/saved_svgs/design-canvas-6726aaf1c8de40d1a7a3a4890983126b.svg'/></td>\n",
       "                               <td><img style='width:100px' src='./saved_designs/exported_from_scout (52)/saved_svgs/design-canvas-7599585b0b764c2189747bf10283f144.svg'/></td></tr></table>"
      ],
      "text/plain": [
       "<IPython.core.display.HTML object>"
      ]
     },
     "metadata": {},
     "output_type": "display_data"
    },
    {
     "name": "stdout",
     "output_type": "stream",
     "text": [
      "\n",
      "# diversity score 1.240233840219086\n",
      "# score details\n",
      "{'alt_group_score': 0.08333333333333333,\n",
      " 'pos_diff_score': 0.49379894693124304,\n",
      " 'rel_dist_diff_score': 0.33677720421911284,\n",
      " 'size_diff_score': 0.16316217786769835}\n"
     ]
    },
    {
     "data": {
      "text/html": [
       "<table><tr><td><img style='width:100px' src='./saved_designs/exported_from_scout (52)/saved_svgs/design-canvas-6726aaf1c8de40d1a7a3a4890983126b.svg'/></td>\n",
       "                               <td><img style='width:100px' src='./saved_designs/exported_from_scout (52)/saved_svgs/design-canvas-9d8da3fdb3874a8c97c1b334bb626a28.svg'/></td></tr></table>"
      ],
      "text/plain": [
       "<IPython.core.display.HTML object>"
      ]
     },
     "metadata": {},
     "output_type": "display_data"
    },
    {
     "name": "stdout",
     "output_type": "stream",
     "text": [
      "\n",
      "# diversity score 1.1751731008068034\n",
      "# score details\n",
      "{'alt_group_score': 0.0,\n",
      " 'pos_diff_score': 0.28380701637257716,\n",
      " 'rel_dist_diff_score': 0.2491589835327701,\n",
      " 'size_diff_score': 0.3211035504507281}\n"
     ]
    },
    {
     "data": {
      "text/html": [
       "<table><tr><td><img style='width:100px' src='./saved_designs/exported_from_scout (52)/saved_svgs/design-canvas-56cc849527104b9a99bc9ec9a056faed.svg'/></td>\n",
       "                               <td><img style='width:100px' src='./saved_designs/exported_from_scout (52)/saved_svgs/design-canvas-a3e1d87bf50e4259b1ad3f8d85ee1601.svg'/></td></tr></table>"
      ],
      "text/plain": [
       "<IPython.core.display.HTML object>"
      ]
     },
     "metadata": {},
     "output_type": "display_data"
    },
    {
     "name": "stdout",
     "output_type": "stream",
     "text": [
      "\n",
      "# diversity score 1.1577959540120895\n",
      "# score details\n",
      "{'alt_group_score': 0.08333333333333333,\n",
      " 'pos_diff_score': 0.24569371562412917,\n",
      " 'rel_dist_diff_score': 0.15209034807263164,\n",
      " 'size_diff_score': 0.3383392784909976}\n"
     ]
    },
    {
     "data": {
      "text/html": [
       "<table><tr><td><img style='width:100px' src='./saved_designs/exported_from_scout (52)/saved_svgs/design-canvas-a5e89620c72146d9a8943c5d3c28934f.svg'/></td>\n",
       "                               <td><img style='width:100px' src='./saved_designs/exported_from_scout (52)/saved_svgs/design-canvas-7599585b0b764c2189747bf10283f144.svg'/></td></tr></table>"
      ],
      "text/plain": [
       "<IPython.core.display.HTML object>"
      ]
     },
     "metadata": {},
     "output_type": "display_data"
    },
    {
     "name": "stdout",
     "output_type": "stream",
     "text": [
      "\n",
      "# diversity score 1.1546761719442693\n",
      "# score details\n",
      "{'alt_group_score': 0.08333333333333333,\n",
      " 'pos_diff_score': 0.2829225459494778,\n",
      " 'rel_dist_diff_score': 0.20142188712383358,\n",
      " 'size_diff_score': 0.29349920276881225}\n"
     ]
    },
    {
     "data": {
      "text/html": [
       "<table><tr><td><img style='width:100px' src='./saved_designs/exported_from_scout (52)/saved_svgs/design-canvas-a3e1d87bf50e4259b1ad3f8d85ee1601.svg'/></td>\n",
       "                               <td><img style='width:100px' src='./saved_designs/exported_from_scout (52)/saved_svgs/design-canvas-9d8da3fdb3874a8c97c1b334bb626a28.svg'/></td></tr></table>"
      ],
      "text/plain": [
       "<IPython.core.display.HTML object>"
      ]
     },
     "metadata": {},
     "output_type": "display_data"
    },
    {
     "name": "stdout",
     "output_type": "stream",
     "text": [
      "\n",
      "# diversity score 1.1541532675577888\n",
      "# score details\n",
      "{'alt_group_score': 0.08333333333333333,\n",
      " 'pos_diff_score': 0.2670794857786097,\n",
      " 'rel_dist_diff_score': 0.179727274529053,\n",
      " 'size_diff_score': 0.3120065869583964}\n"
     ]
    },
    {
     "data": {
      "text/html": [
       "<table><tr><td><img style='width:100px' src='./saved_designs/exported_from_scout (52)/saved_svgs/design-canvas-a5e89620c72146d9a8943c5d3c28934f.svg'/></td>\n",
       "                               <td><img style='width:100px' src='./saved_designs/exported_from_scout (52)/saved_svgs/design-canvas-9d8da3fdb3874a8c97c1b334bb626a28.svg'/></td></tr></table>"
      ],
      "text/plain": [
       "<IPython.core.display.HTML object>"
      ]
     },
     "metadata": {},
     "output_type": "display_data"
    },
    {
     "name": "stdout",
     "output_type": "stream",
     "text": [
      "\n",
      "# diversity score 1.0611512122501572\n",
      "# score details\n",
      "{'alt_group_score': 0.0,\n",
      " 'pos_diff_score': 0.44132643202983013,\n",
      " 'rel_dist_diff_score': 0.28579521179583844,\n",
      " 'size_diff_score': 0.16701478421224433}\n"
     ]
    },
    {
     "data": {
      "text/html": [
       "<table><tr><td><img style='width:100px' src='./saved_designs/exported_from_scout (52)/saved_svgs/design-canvas-6726aaf1c8de40d1a7a3a4890983126b.svg'/></td>\n",
       "                               <td><img style='width:100px' src='./saved_designs/exported_from_scout (52)/saved_svgs/design-canvas-56cc849527104b9a99bc9ec9a056faed.svg'/></td></tr></table>"
      ],
      "text/plain": [
       "<IPython.core.display.HTML object>"
      ]
     },
     "metadata": {},
     "output_type": "display_data"
    },
    {
     "name": "stdout",
     "output_type": "stream",
     "text": [
      "\n",
      "# diversity score 1.0281668167145877\n",
      "# score details\n",
      "{'alt_group_score': 0.08333333333333333,\n",
      " 'pos_diff_score': 0.19426607654398328,\n",
      " 'rel_dist_diff_score': 0.12383118952494027,\n",
      " 'size_diff_score': 0.3133681086561653}\n"
     ]
    },
    {
     "data": {
      "text/html": [
       "<table><tr><td><img style='width:100px' src='./saved_designs/exported_from_scout (52)/saved_svgs/design-canvas-a3e1d87bf50e4259b1ad3f8d85ee1601.svg'/></td>\n",
       "                               <td><img style='width:100px' src='./saved_designs/exported_from_scout (52)/saved_svgs/design-canvas-7599585b0b764c2189747bf10283f144.svg'/></td></tr></table>"
      ],
      "text/plain": [
       "<IPython.core.display.HTML object>"
      ]
     },
     "metadata": {},
     "output_type": "display_data"
    },
    {
     "name": "stdout",
     "output_type": "stream",
     "text": [
      "\n",
      "# diversity score 1.0190523806672114\n",
      "# score details\n",
      "{'alt_group_score': 0.08333333333333333,\n",
      " 'pos_diff_score': 0.3075443168221003,\n",
      " 'rel_dist_diff_score': 0.2318491134663566,\n",
      " 'size_diff_score': 0.19816280852271054}\n"
     ]
    },
    {
     "data": {
      "text/html": [
       "<table><tr><td><img style='width:100px' src='./saved_designs/exported_from_scout (52)/saved_svgs/design-canvas-56cc849527104b9a99bc9ec9a056faed.svg'/></td>\n",
       "                               <td><img style='width:100px' src='./saved_designs/exported_from_scout (52)/saved_svgs/design-canvas-7599585b0b764c2189747bf10283f144.svg'/></td></tr></table>"
      ],
      "text/plain": [
       "<IPython.core.display.HTML object>"
      ]
     },
     "metadata": {},
     "output_type": "display_data"
    },
    {
     "name": "stdout",
     "output_type": "stream",
     "text": [
      "\n",
      "# diversity score 0.9827705646200824\n",
      "# score details\n",
      "{'alt_group_score': 0.08333333333333333,\n",
      " 'pos_diff_score': 0.329426903821539,\n",
      " 'rel_dist_diff_score': 0.25506848331860776,\n",
      " 'size_diff_score': 0.15747092207330116}\n"
     ]
    },
    {
     "data": {
      "text/html": [
       "<table><tr><td><img style='width:100px' src='./saved_designs/exported_from_scout (52)/saved_svgs/design-canvas-56cc849527104b9a99bc9ec9a056faed.svg'/></td>\n",
       "                               <td><img style='width:100px' src='./saved_designs/exported_from_scout (52)/saved_svgs/design-canvas-9d8da3fdb3874a8c97c1b334bb626a28.svg'/></td></tr></table>"
      ],
      "text/plain": [
       "<IPython.core.display.HTML object>"
      ]
     },
     "metadata": {},
     "output_type": "display_data"
    },
    {
     "name": "stdout",
     "output_type": "stream",
     "text": [
      "\n",
      "# diversity score 0.9197262477857188\n",
      "# score details\n",
      "{'alt_group_score': 0.0,\n",
      " 'pos_diff_score': 0.28732074965291793,\n",
      " 'rel_dist_diff_score': 0.17168753502594064,\n",
      " 'size_diff_score': 0.2303589815534301}\n"
     ]
    },
    {
     "data": {
      "text/html": [
       "<table><tr><td><img style='width:100px' src='./saved_designs/exported_from_scout (52)/saved_svgs/design-canvas-9d8da3fdb3874a8c97c1b334bb626a28.svg'/></td>\n",
       "                               <td><img style='width:100px' src='./saved_designs/exported_from_scout (52)/saved_svgs/design-canvas-7599585b0b764c2189747bf10283f144.svg'/></td></tr></table>"
      ],
      "text/plain": [
       "<IPython.core.display.HTML object>"
      ]
     },
     "metadata": {},
     "output_type": "display_data"
    },
    {
     "name": "stdout",
     "output_type": "stream",
     "text": [
      "\n",
      "# diversity score 0.5508735032048508\n",
      "# score details\n",
      "{'alt_group_score': 0.0,\n",
      " 'pos_diff_score': 0.17097013952878637,\n",
      " 'rel_dist_diff_score': 0.12476500241248203,\n",
      " 'size_diff_score': 0.12756918063179123}\n"
     ]
    },
    {
     "data": {
      "text/html": [
       "<table><tr><td><img style='width:100px' src='./saved_designs/exported_from_scout (52)/saved_svgs/design-canvas-a3e1d87bf50e4259b1ad3f8d85ee1601.svg'/></td>\n",
       "                               <td><img style='width:100px' src='./saved_designs/exported_from_scout (52)/saved_svgs/design-canvas-a5e89620c72146d9a8943c5d3c28934f.svg'/></td></tr></table>"
      ],
      "text/plain": [
       "<IPython.core.display.HTML object>"
      ]
     },
     "metadata": {},
     "output_type": "display_data"
    },
    {
     "name": "stdout",
     "output_type": "stream",
     "text": [
      "\n",
      "==============\n",
      "## Analyzing exported_from_scout - 2019-04-23T101629.260 ...\n",
      "[error] this directory contains only 1 saved desigsn.\n",
      "==============\n",
      "## Analyzing exported_from_scout (43) ...\n",
      "# diversity score 2.295841549496024\n",
      "# score details\n",
      "{'alt_group_score': 0.07692307692307693,\n",
      " 'pos_diff_score': 0.6281884667331168,\n",
      " 'rel_dist_diff_score': 0.4665879716456667,\n",
      " 'size_diff_score': 0.562071017097082}\n"
     ]
    },
    {
     "data": {
      "text/html": [
       "<table><tr><td><img style='width:100px' src='./saved_designs/exported_from_scout (43)/saved_svgs/design-canvas-b4cc5f77de374ba585472d477c9ea2e8.svg'/></td>\n",
       "                               <td><img style='width:100px' src='./saved_designs/exported_from_scout (43)/saved_svgs/design-canvas-39c0b364044841a8ba3c76b73daef885.svg'/></td></tr></table>"
      ],
      "text/plain": [
       "<IPython.core.display.HTML object>"
      ]
     },
     "metadata": {},
     "output_type": "display_data"
    },
    {
     "name": "stdout",
     "output_type": "stream",
     "text": [
      "\n",
      "# diversity score 2.007387876933465\n",
      "# score details\n",
      "{'alt_group_score': 0.0,\n",
      " 'pos_diff_score': 0.6615258215141638,\n",
      " 'rel_dist_diff_score': 0.4777707979029409,\n",
      " 'size_diff_score': 0.4340456287581801}\n"
     ]
    },
    {
     "data": {
      "text/html": [
       "<table><tr><td><img style='width:100px' src='./saved_designs/exported_from_scout (43)/saved_svgs/design-canvas-b4cc5f77de374ba585472d477c9ea2e8.svg'/></td>\n",
       "                               <td><img style='width:100px' src='./saved_designs/exported_from_scout (43)/saved_svgs/design-canvas-f6214cdad2c048a38d8b7cda9b933ccd.svg'/></td></tr></table>"
      ],
      "text/plain": [
       "<IPython.core.display.HTML object>"
      ]
     },
     "metadata": {},
     "output_type": "display_data"
    },
    {
     "name": "stdout",
     "output_type": "stream",
     "text": [
      "\n",
      "# diversity score 1.9623838148053325\n",
      "# score details\n",
      "{'alt_group_score': 0.0,\n",
      " 'pos_diff_score': 0.5927873871890119,\n",
      " 'rel_dist_diff_score': 0.41211823916979623,\n",
      " 'size_diff_score': 0.4787390942232623}\n"
     ]
    },
    {
     "data": {
      "text/html": [
       "<table><tr><td><img style='width:100px' src='./saved_designs/exported_from_scout (43)/saved_svgs/design-canvas-b3cb63ae043a49e3bd3f02f8ae317c67.svg'/></td>\n",
       "                               <td><img style='width:100px' src='./saved_designs/exported_from_scout (43)/saved_svgs/design-canvas-f6214cdad2c048a38d8b7cda9b933ccd.svg'/></td></tr></table>"
      ],
      "text/plain": [
       "<IPython.core.display.HTML object>"
      ]
     },
     "metadata": {},
     "output_type": "display_data"
    },
    {
     "name": "stdout",
     "output_type": "stream",
     "text": [
      "\n",
      "# diversity score 1.6415172854881575\n",
      "# score details\n",
      "{'alt_group_score': 0.07692307692307693,\n",
      " 'pos_diff_score': 0.6200185786754004,\n",
      " 'rel_dist_diff_score': 0.4542902924811204,\n",
      " 'size_diff_score': 0.2451426687042799}\n"
     ]
    },
    {
     "data": {
      "text/html": [
       "<table><tr><td><img style='width:100px' src='./saved_designs/exported_from_scout (43)/saved_svgs/design-canvas-b3cb63ae043a49e3bd3f02f8ae317c67.svg'/></td>\n",
       "                               <td><img style='width:100px' src='./saved_designs/exported_from_scout (43)/saved_svgs/design-canvas-39c0b364044841a8ba3c76b73daef885.svg'/></td></tr></table>"
      ],
      "text/plain": [
       "<IPython.core.display.HTML object>"
      ]
     },
     "metadata": {},
     "output_type": "display_data"
    },
    {
     "name": "stdout",
     "output_type": "stream",
     "text": [
      "\n",
      "# diversity score 1.568122371763138\n",
      "# score details\n",
      "{'alt_group_score': 0.0,\n",
      " 'pos_diff_score': 0.3192716365111499,\n",
      " 'rel_dist_diff_score': 0.21558626789247506,\n",
      " 'size_diff_score': 0.5166322336797565}\n"
     ]
    },
    {
     "data": {
      "text/html": [
       "<table><tr><td><img style='width:100px' src='./saved_designs/exported_from_scout (43)/saved_svgs/design-canvas-b3cb63ae043a49e3bd3f02f8ae317c67.svg'/></td>\n",
       "                               <td><img style='width:100px' src='./saved_designs/exported_from_scout (43)/saved_svgs/design-canvas-b4cc5f77de374ba585472d477c9ea2e8.svg'/></td></tr></table>"
      ],
      "text/plain": [
       "<IPython.core.display.HTML object>"
      ]
     },
     "metadata": {},
     "output_type": "display_data"
    },
    {
     "name": "stdout",
     "output_type": "stream",
     "text": [
      "\n",
      "# diversity score 1.55223925269684\n",
      "# score details\n",
      "{'alt_group_score': 0.07692307692307693,\n",
      " 'pos_diff_score': 0.25493350096544193,\n",
      " 'rel_dist_diff_score': 0.19321034548617463,\n",
      " 'size_diff_score': 0.5135861646610732}\n"
     ]
    },
    {
     "data": {
      "text/html": [
       "<table><tr><td><img style='width:100px' src='./saved_designs/exported_from_scout (43)/saved_svgs/design-canvas-39c0b364044841a8ba3c76b73daef885.svg'/></td>\n",
       "                               <td><img style='width:100px' src='./saved_designs/exported_from_scout (43)/saved_svgs/design-canvas-f6214cdad2c048a38d8b7cda9b933ccd.svg'/></td></tr></table>"
      ],
      "text/plain": [
       "<IPython.core.display.HTML object>"
      ]
     },
     "metadata": {},
     "output_type": "display_data"
    },
    {
     "name": "stdout",
     "output_type": "stream",
     "text": [
      "\n",
      "==============\n",
      "## Analyzing exported_from_scout (86) ...\n",
      "# diversity score 2.3861304379892188\n",
      "# score details\n",
      "{'alt_group_score': 0.08333333333333333,\n",
      " 'pos_diff_score': 0.6335899295297478,\n",
      " 'rel_dist_diff_score': 0.40966569334021335,\n",
      " 'size_diff_score': 0.629770740892962}\n"
     ]
    },
    {
     "data": {
      "text/html": [
       "<table><tr><td><img style='width:100px' src='./saved_designs/exported_from_scout (86)/saved_svgs/design-canvas-144a06cdde514bb7adf88108317b7ce5.svg'/></td>\n",
       "                               <td><img style='width:100px' src='./saved_designs/exported_from_scout (86)/saved_svgs/design-canvas-80eb8d9ce58845c78ea5d792c6174987.svg'/></td></tr></table>"
      ],
      "text/plain": [
       "<IPython.core.display.HTML object>"
      ]
     },
     "metadata": {},
     "output_type": "display_data"
    },
    {
     "name": "stdout",
     "output_type": "stream",
     "text": [
      "\n",
      "# diversity score 2.347534721437588\n",
      "# score details\n",
      "{'alt_group_score': 0.0,\n",
      " 'pos_diff_score': 0.6568782948473434,\n",
      " 'rel_dist_diff_score': 0.4700096687104854,\n",
      " 'size_diff_score': 0.6103233789398795}\n"
     ]
    },
    {
     "data": {
      "text/html": [
       "<table><tr><td><img style='width:100px' src='./saved_designs/exported_from_scout (86)/saved_svgs/design-canvas-428ae54e6ddc4e8fa7b9210cdf486227.svg'/></td>\n",
       "                               <td><img style='width:100px' src='./saved_designs/exported_from_scout (86)/saved_svgs/design-canvas-80eb8d9ce58845c78ea5d792c6174987.svg'/></td></tr></table>"
      ],
      "text/plain": [
       "<IPython.core.display.HTML object>"
      ]
     },
     "metadata": {},
     "output_type": "display_data"
    },
    {
     "name": "stdout",
     "output_type": "stream",
     "text": [
      "\n",
      "# diversity score 2.166702629026961\n",
      "# score details\n",
      "{'alt_group_score': 0.08333333333333333,\n",
      " 'pos_diff_score': 0.6668422470663466,\n",
      " 'rel_dist_diff_score': 0.5059586531626604,\n",
      " 'size_diff_score': 0.4552841977323102}\n"
     ]
    },
    {
     "data": {
      "text/html": [
       "<table><tr><td><img style='width:100px' src='./saved_designs/exported_from_scout (86)/saved_svgs/design-canvas-a689edab7f8142f3b1c82f225fb57e0c.svg'/></td>\n",
       "                               <td><img style='width:100px' src='./saved_designs/exported_from_scout (86)/saved_svgs/design-canvas-5367a7ef0fc14f199f52ddf6302b8ebf.svg'/></td></tr></table>"
      ],
      "text/plain": [
       "<IPython.core.display.HTML object>"
      ]
     },
     "metadata": {},
     "output_type": "display_data"
    },
    {
     "name": "stdout",
     "output_type": "stream",
     "text": [
      "\n",
      "# diversity score 2.0627107381076595\n",
      "# score details\n",
      "{'alt_group_score': 0.0,\n",
      " 'pos_diff_score': 0.6991009449602786,\n",
      " 'rel_dist_diff_score': 0.4922836333466225,\n",
      " 'size_diff_score': 0.4356630799003791}\n"
     ]
    },
    {
     "data": {
      "text/html": [
       "<table><tr><td><img style='width:100px' src='./saved_designs/exported_from_scout (86)/saved_svgs/design-canvas-80eb8d9ce58845c78ea5d792c6174987.svg'/></td>\n",
       "                               <td><img style='width:100px' src='./saved_designs/exported_from_scout (86)/saved_svgs/design-canvas-5367a7ef0fc14f199f52ddf6302b8ebf.svg'/></td></tr></table>"
      ],
      "text/plain": [
       "<IPython.core.display.HTML object>"
      ]
     },
     "metadata": {},
     "output_type": "display_data"
    },
    {
     "name": "stdout",
     "output_type": "stream",
     "text": [
      "\n",
      "# diversity score 1.8989445637679134\n",
      "# score details\n",
      "{'alt_group_score': 0.08333333333333333,\n",
      " 'pos_diff_score': 0.41605373756687203,\n",
      " 'rel_dist_diff_score': 0.2533288263506736,\n",
      " 'size_diff_score': 0.5731143332585172}\n"
     ]
    },
    {
     "data": {
      "text/html": [
       "<table><tr><td><img style='width:100px' src='./saved_designs/exported_from_scout (86)/saved_svgs/design-canvas-a689edab7f8142f3b1c82f225fb57e0c.svg'/></td>\n",
       "                               <td><img style='width:100px' src='./saved_designs/exported_from_scout (86)/saved_svgs/design-canvas-80eb8d9ce58845c78ea5d792c6174987.svg'/></td></tr></table>"
      ],
      "text/plain": [
       "<IPython.core.display.HTML object>"
      ]
     },
     "metadata": {},
     "output_type": "display_data"
    },
    {
     "name": "stdout",
     "output_type": "stream",
     "text": [
      "\n",
      "# diversity score 1.7891627460109447\n",
      "# score details\n",
      "{'alt_group_score': 0.08333333333333333,\n",
      " 'pos_diff_score': 0.4013727316906754,\n",
      " 'rel_dist_diff_score': 0.3403251248080954,\n",
      " 'size_diff_score': 0.48206577808942036}\n"
     ]
    },
    {
     "data": {
      "text/html": [
       "<table><tr><td><img style='width:100px' src='./saved_designs/exported_from_scout (86)/saved_svgs/design-canvas-144a06cdde514bb7adf88108317b7ce5.svg'/></td>\n",
       "                               <td><img style='width:100px' src='./saved_designs/exported_from_scout (86)/saved_svgs/design-canvas-5367a7ef0fc14f199f52ddf6302b8ebf.svg'/></td></tr></table>"
      ],
      "text/plain": [
       "<IPython.core.display.HTML object>"
      ]
     },
     "metadata": {},
     "output_type": "display_data"
    },
    {
     "name": "stdout",
     "output_type": "stream",
     "text": [
      "\n",
      "# diversity score 1.7346005253588523\n",
      "# score details\n",
      "{'alt_group_score': 0.08333333333333333,\n",
      " 'pos_diff_score': 0.6319997422783783,\n",
      " 'rel_dist_diff_score': 0.47484457981188355,\n",
      " 'size_diff_score': 0.2722114349676286}\n"
     ]
    },
    {
     "data": {
      "text/html": [
       "<table><tr><td><img style='width:100px' src='./saved_designs/exported_from_scout (86)/saved_svgs/design-canvas-a689edab7f8142f3b1c82f225fb57e0c.svg'/></td>\n",
       "                               <td><img style='width:100px' src='./saved_designs/exported_from_scout (86)/saved_svgs/design-canvas-428ae54e6ddc4e8fa7b9210cdf486227.svg'/></td></tr></table>"
      ],
      "text/plain": [
       "<IPython.core.display.HTML object>"
      ]
     },
     "metadata": {},
     "output_type": "display_data"
    },
    {
     "name": "stdout",
     "output_type": "stream",
     "text": [
      "\n",
      "# diversity score 1.5242907328132365\n",
      "# score details\n",
      "{'alt_group_score': 0.08333333333333333,\n",
      " 'pos_diff_score': 0.44990971280514175,\n",
      " 'rel_dist_diff_score': 0.3642602441349033,\n",
      " 'size_diff_score': 0.3133937212699291}\n"
     ]
    },
    {
     "data": {
      "text/html": [
       "<table><tr><td><img style='width:100px' src='./saved_designs/exported_from_scout (86)/saved_svgs/design-canvas-a689edab7f8142f3b1c82f225fb57e0c.svg'/></td>\n",
       "                               <td><img style='width:100px' src='./saved_designs/exported_from_scout (86)/saved_svgs/design-canvas-144a06cdde514bb7adf88108317b7ce5.svg'/></td></tr></table>"
      ],
      "text/plain": [
       "<IPython.core.display.HTML object>"
      ]
     },
     "metadata": {},
     "output_type": "display_data"
    },
    {
     "name": "stdout",
     "output_type": "stream",
     "text": [
      "\n",
      "# diversity score 1.4705785524001338\n",
      "# score details\n",
      "{'alt_group_score': 0.08333333333333333,\n",
      " 'pos_diff_score': 0.40087401687191127,\n",
      " 'rel_dist_diff_score': 0.35902580035362613,\n",
      " 'size_diff_score': 0.3136727009206316}\n"
     ]
    },
    {
     "data": {
      "text/html": [
       "<table><tr><td><img style='width:100px' src='./saved_designs/exported_from_scout (86)/saved_svgs/design-canvas-428ae54e6ddc4e8fa7b9210cdf486227.svg'/></td>\n",
       "                               <td><img style='width:100px' src='./saved_designs/exported_from_scout (86)/saved_svgs/design-canvas-144a06cdde514bb7adf88108317b7ce5.svg'/></td></tr></table>"
      ],
      "text/plain": [
       "<IPython.core.display.HTML object>"
      ]
     },
     "metadata": {},
     "output_type": "display_data"
    },
    {
     "name": "stdout",
     "output_type": "stream",
     "text": [
      "\n",
      "# diversity score 1.4171896988184332\n",
      "# score details\n",
      "{'alt_group_score': 0.0,\n",
      " 'pos_diff_score': 0.22343385423382395,\n",
      " 'rel_dist_diff_score': 0.18868299150578813,\n",
      " 'size_diff_score': 0.5025364265394106}\n"
     ]
    },
    {
     "data": {
      "text/html": [
       "<table><tr><td><img style='width:100px' src='./saved_designs/exported_from_scout (86)/saved_svgs/design-canvas-428ae54e6ddc4e8fa7b9210cdf486227.svg'/></td>\n",
       "                               <td><img style='width:100px' src='./saved_designs/exported_from_scout (86)/saved_svgs/design-canvas-5367a7ef0fc14f199f52ddf6302b8ebf.svg'/></td></tr></table>"
      ],
      "text/plain": [
       "<IPython.core.display.HTML object>"
      ]
     },
     "metadata": {},
     "output_type": "display_data"
    },
    {
     "name": "stdout",
     "output_type": "stream",
     "text": [
      "\n",
      "==============\n",
      "## Analyzing exported_from_scout (88) ...\n",
      "# diversity score 1.900028809409939\n",
      "# score details\n",
      "{'alt_group_score': 0.0,\n",
      " 'pos_diff_score': 0.5763058919586214,\n",
      " 'rel_dist_diff_score': 0.39834745039678693,\n",
      " 'size_diff_score': 0.4626877335272654}\n"
     ]
    },
    {
     "data": {
      "text/html": [
       "<table><tr><td><img style='width:100px' src='./saved_designs/exported_from_scout (88)/saved_svgs/design-canvas-fe5c00981eac4a549ea69f14acbde34f.svg'/></td>\n",
       "                               <td><img style='width:100px' src='./saved_designs/exported_from_scout (88)/saved_svgs/design-canvas-e478abc20d3140f89d1d5b0df10c8ffc.svg'/></td></tr></table>"
      ],
      "text/plain": [
       "<IPython.core.display.HTML object>"
      ]
     },
     "metadata": {},
     "output_type": "display_data"
    },
    {
     "name": "stdout",
     "output_type": "stream",
     "text": [
      "\n",
      "# diversity score 1.8479669651633732\n",
      "# score details\n",
      "{'alt_group_score': 0.0,\n",
      " 'pos_diff_score': 0.6326001826900881,\n",
      " 'rel_dist_diff_score': 0.39783456991499716,\n",
      " 'size_diff_score': 0.40876610627914406}\n"
     ]
    },
    {
     "data": {
      "text/html": [
       "<table><tr><td><img style='width:100px' src='./saved_designs/exported_from_scout (88)/saved_svgs/design-canvas-fe5c00981eac4a549ea69f14acbde34f.svg'/></td>\n",
       "                               <td><img style='width:100px' src='./saved_designs/exported_from_scout (88)/saved_svgs/design-canvas-bcacfb9cea58444ab69d1b2c26a7b346.svg'/></td></tr></table>"
      ],
      "text/plain": [
       "<IPython.core.display.HTML object>"
      ]
     },
     "metadata": {},
     "output_type": "display_data"
    },
    {
     "name": "stdout",
     "output_type": "stream",
     "text": [
      "\n",
      "# diversity score 1.7053903824676573\n",
      "# score details\n",
      "{'alt_group_score': 0.0,\n",
      " 'pos_diff_score': 0.5280241564692902,\n",
      " 'rel_dist_diff_score': 0.3764453349349042,\n",
      " 'size_diff_score': 0.40046044553173143}\n"
     ]
    },
    {
     "data": {
      "text/html": [
       "<table><tr><td><img style='width:100px' src='./saved_designs/exported_from_scout (88)/saved_svgs/design-canvas-fe5c00981eac4a549ea69f14acbde34f.svg'/></td>\n",
       "                               <td><img style='width:100px' src='./saved_designs/exported_from_scout (88)/saved_svgs/design-canvas-fd56b132c13a4b1b9f27556ea5d3aec4.svg'/></td></tr></table>"
      ],
      "text/plain": [
       "<IPython.core.display.HTML object>"
      ]
     },
     "metadata": {},
     "output_type": "display_data"
    },
    {
     "name": "stdout",
     "output_type": "stream",
     "text": [
      "\n",
      "# diversity score 1.5948873143499853\n",
      "# score details\n",
      "{'alt_group_score': 0.0,\n",
      " 'pos_diff_score': 0.47128946954096784,\n",
      " 'rel_dist_diff_score': 0.3368103656744387,\n",
      " 'size_diff_score': 0.3933937395672894}\n"
     ]
    },
    {
     "data": {
      "text/html": [
       "<table><tr><td><img style='width:100px' src='./saved_designs/exported_from_scout (88)/saved_svgs/design-canvas-fe5c00981eac4a549ea69f14acbde34f.svg'/></td>\n",
       "                               <td><img style='width:100px' src='./saved_designs/exported_from_scout (88)/saved_svgs/design-canvas-683b24954e434fed9b82a246353543b0.svg'/></td></tr></table>"
      ],
      "text/plain": [
       "<IPython.core.display.HTML object>"
      ]
     },
     "metadata": {},
     "output_type": "display_data"
    },
    {
     "name": "stdout",
     "output_type": "stream",
     "text": [
      "\n",
      "# diversity score 1.5577992054721097\n",
      "# score details\n",
      "{'alt_group_score': 0.0,\n",
      " 'pos_diff_score': 0.4876149878355298,\n",
      " 'rel_dist_diff_score': 0.344447861101658,\n",
      " 'size_diff_score': 0.36286817826746093}\n"
     ]
    },
    {
     "data": {
      "text/html": [
       "<table><tr><td><img style='width:100px' src='./saved_designs/exported_from_scout (88)/saved_svgs/design-canvas-fe5c00981eac4a549ea69f14acbde34f.svg'/></td>\n",
       "                               <td><img style='width:100px' src='./saved_designs/exported_from_scout (88)/saved_svgs/design-canvas-11a9b95d4511489b847b7741455d68cd.svg'/></td></tr></table>"
      ],
      "text/plain": [
       "<IPython.core.display.HTML object>"
      ]
     },
     "metadata": {},
     "output_type": "display_data"
    },
    {
     "name": "stdout",
     "output_type": "stream",
     "text": [
      "\n",
      "# diversity score 1.5371638819165288\n",
      "# score details\n",
      "{'alt_group_score': 0.0,\n",
      " 'pos_diff_score': 0.4978793018174972,\n",
      " 'rel_dist_diff_score': 0.3051005527939468,\n",
      " 'size_diff_score': 0.36709201365254246}\n"
     ]
    },
    {
     "data": {
      "text/html": [
       "<table><tr><td><img style='width:100px' src='./saved_designs/exported_from_scout (88)/saved_svgs/design-canvas-fe5c00981eac4a549ea69f14acbde34f.svg'/></td>\n",
       "                               <td><img style='width:100px' src='./saved_designs/exported_from_scout (88)/saved_svgs/design-canvas-d262da7b05ed43c5a91baf2077ab7717.svg'/></td></tr></table>"
      ],
      "text/plain": [
       "<IPython.core.display.HTML object>"
      ]
     },
     "metadata": {},
     "output_type": "display_data"
    },
    {
     "name": "stdout",
     "output_type": "stream",
     "text": [
      "\n",
      "# diversity score 1.4857702523208784\n",
      "# score details\n",
      "{'alt_group_score': 0.0,\n",
      " 'pos_diff_score': 0.4267332867375021,\n",
      " 'rel_dist_diff_score': 0.31595647880818867,\n",
      " 'size_diff_score': 0.3715402433875938}\n"
     ]
    },
    {
     "data": {
      "text/html": [
       "<table><tr><td><img style='width:100px' src='./saved_designs/exported_from_scout (88)/saved_svgs/design-canvas-d262da7b05ed43c5a91baf2077ab7717.svg'/></td>\n",
       "                               <td><img style='width:100px' src='./saved_designs/exported_from_scout (88)/saved_svgs/design-canvas-e478abc20d3140f89d1d5b0df10c8ffc.svg'/></td></tr></table>"
      ],
      "text/plain": [
       "<IPython.core.display.HTML object>"
      ]
     },
     "metadata": {},
     "output_type": "display_data"
    },
    {
     "name": "stdout",
     "output_type": "stream",
     "text": [
      "\n",
      "# diversity score 1.4783444296428039\n",
      "# score details\n",
      "{'alt_group_score': 0.0,\n",
      " 'pos_diff_score': 0.40394980697592325,\n",
      " 'rel_dist_diff_score': 0.32837222502404734,\n",
      " 'size_diff_score': 0.37301119882141665}\n"
     ]
    },
    {
     "data": {
      "text/html": [
       "<table><tr><td><img style='width:100px' src='./saved_designs/exported_from_scout (88)/saved_svgs/design-canvas-11a9b95d4511489b847b7741455d68cd.svg'/></td>\n",
       "                               <td><img style='width:100px' src='./saved_designs/exported_from_scout (88)/saved_svgs/design-canvas-e478abc20d3140f89d1d5b0df10c8ffc.svg'/></td></tr></table>"
      ],
      "text/plain": [
       "<IPython.core.display.HTML object>"
      ]
     },
     "metadata": {},
     "output_type": "display_data"
    },
    {
     "name": "stdout",
     "output_type": "stream",
     "text": [
      "\n",
      "# diversity score 1.457045449871516\n",
      "# score details\n",
      "{'alt_group_score': 0.0,\n",
      " 'pos_diff_score': 0.4055260966988638,\n",
      " 'rel_dist_diff_score': 0.34245332394597916,\n",
      " 'size_diff_score': 0.35453301461333653}\n"
     ]
    },
    {
     "data": {
      "text/html": [
       "<table><tr><td><img style='width:100px' src='./saved_designs/exported_from_scout (88)/saved_svgs/design-canvas-683b24954e434fed9b82a246353543b0.svg'/></td>\n",
       "                               <td><img style='width:100px' src='./saved_designs/exported_from_scout (88)/saved_svgs/design-canvas-e478abc20d3140f89d1d5b0df10c8ffc.svg'/></td></tr></table>"
      ],
      "text/plain": [
       "<IPython.core.display.HTML object>"
      ]
     },
     "metadata": {},
     "output_type": "display_data"
    },
    {
     "name": "stdout",
     "output_type": "stream",
     "text": [
      "\n",
      "# diversity score 1.3150537944612462\n",
      "# score details\n",
      "{'alt_group_score': 0.0,\n",
      " 'pos_diff_score': 0.34516487977697685,\n",
      " 'rel_dist_diff_score': 0.2128224690359122,\n",
      " 'size_diff_score': 0.37853322282417856}\n"
     ]
    },
    {
     "data": {
      "text/html": [
       "<table><tr><td><img style='width:100px' src='./saved_designs/exported_from_scout (88)/saved_svgs/design-canvas-bcacfb9cea58444ab69d1b2c26a7b346.svg'/></td>\n",
       "                               <td><img style='width:100px' src='./saved_designs/exported_from_scout (88)/saved_svgs/design-canvas-e478abc20d3140f89d1d5b0df10c8ffc.svg'/></td></tr></table>"
      ],
      "text/plain": [
       "<IPython.core.display.HTML object>"
      ]
     },
     "metadata": {},
     "output_type": "display_data"
    },
    {
     "name": "stdout",
     "output_type": "stream",
     "text": [
      "\n",
      "# diversity score 1.3132760771228025\n",
      "# score details\n",
      "{'alt_group_score': 0.0,\n",
      " 'pos_diff_score': 0.5299987036592959,\n",
      " 'rel_dist_diff_score': 0.3173895623799611,\n",
      " 'size_diff_score': 0.23294390554177277}\n"
     ]
    },
    {
     "data": {
      "text/html": [
       "<table><tr><td><img style='width:100px' src='./saved_designs/exported_from_scout (88)/saved_svgs/design-canvas-11a9b95d4511489b847b7741455d68cd.svg'/></td>\n",
       "                               <td><img style='width:100px' src='./saved_designs/exported_from_scout (88)/saved_svgs/design-canvas-bcacfb9cea58444ab69d1b2c26a7b346.svg'/></td></tr></table>"
      ],
      "text/plain": [
       "<IPython.core.display.HTML object>"
      ]
     },
     "metadata": {},
     "output_type": "display_data"
    },
    {
     "name": "stdout",
     "output_type": "stream",
     "text": [
      "\n",
      "# diversity score 1.298961536465057\n",
      "# score details\n",
      "{'alt_group_score': 0.0,\n",
      " 'pos_diff_score': 0.3247127928080699,\n",
      " 'rel_dist_diff_score': 0.1648208865751237,\n",
      " 'size_diff_score': 0.4047139285409318}\n"
     ]
    },
    {
     "data": {
      "text/html": [
       "<table><tr><td><img style='width:100px' src='./saved_designs/exported_from_scout (88)/saved_svgs/design-canvas-fd56b132c13a4b1b9f27556ea5d3aec4.svg'/></td>\n",
       "                               <td><img style='width:100px' src='./saved_designs/exported_from_scout (88)/saved_svgs/design-canvas-e478abc20d3140f89d1d5b0df10c8ffc.svg'/></td></tr></table>"
      ],
      "text/plain": [
       "<IPython.core.display.HTML object>"
      ]
     },
     "metadata": {},
     "output_type": "display_data"
    },
    {
     "name": "stdout",
     "output_type": "stream",
     "text": [
      "\n",
      "# diversity score 1.2225999923580941\n",
      "# score details\n",
      "{'alt_group_score': 0.0,\n",
      " 'pos_diff_score': 0.49733514189615574,\n",
      " 'rel_dist_diff_score': 0.32470866208586047,\n",
      " 'size_diff_score': 0.200278094188039}\n"
     ]
    },
    {
     "data": {
      "text/html": [
       "<table><tr><td><img style='width:100px' src='./saved_designs/exported_from_scout (88)/saved_svgs/design-canvas-683b24954e434fed9b82a246353543b0.svg'/></td>\n",
       "                               <td><img style='width:100px' src='./saved_designs/exported_from_scout (88)/saved_svgs/design-canvas-fd56b132c13a4b1b9f27556ea5d3aec4.svg'/></td></tr></table>"
      ],
      "text/plain": [
       "<IPython.core.display.HTML object>"
      ]
     },
     "metadata": {},
     "output_type": "display_data"
    },
    {
     "name": "stdout",
     "output_type": "stream",
     "text": [
      "\n",
      "# diversity score 1.1934191984686464\n",
      "# score details\n",
      "{'alt_group_score': 0.0,\n",
      " 'pos_diff_score': 0.4002986519521887,\n",
      " 'rel_dist_diff_score': 0.28767057586525807,\n",
      " 'size_diff_score': 0.25272498532559984}\n"
     ]
    },
    {
     "data": {
      "text/html": [
       "<table><tr><td><img style='width:100px' src='./saved_designs/exported_from_scout (88)/saved_svgs/design-canvas-11a9b95d4511489b847b7741455d68cd.svg'/></td>\n",
       "                               <td><img style='width:100px' src='./saved_designs/exported_from_scout (88)/saved_svgs/design-canvas-fd56b132c13a4b1b9f27556ea5d3aec4.svg'/></td></tr></table>"
      ],
      "text/plain": [
       "<IPython.core.display.HTML object>"
      ]
     },
     "metadata": {},
     "output_type": "display_data"
    },
    {
     "name": "stdout",
     "output_type": "stream",
     "text": [
      "\n",
      "# diversity score 1.1867806915459476\n",
      "# score details\n",
      "{'alt_group_score': 0.0,\n",
      " 'pos_diff_score': 0.422624898445663,\n",
      " 'rel_dist_diff_score': 0.30805700004183684,\n",
      " 'size_diff_score': 0.22804939652922382}\n"
     ]
    },
    {
     "data": {
      "text/html": [
       "<table><tr><td><img style='width:100px' src='./saved_designs/exported_from_scout (88)/saved_svgs/design-canvas-d262da7b05ed43c5a91baf2077ab7717.svg'/></td>\n",
       "                               <td><img style='width:100px' src='./saved_designs/exported_from_scout (88)/saved_svgs/design-canvas-bcacfb9cea58444ab69d1b2c26a7b346.svg'/></td></tr></table>"
      ],
      "text/plain": [
       "<IPython.core.display.HTML object>"
      ]
     },
     "metadata": {},
     "output_type": "display_data"
    },
    {
     "name": "stdout",
     "output_type": "stream",
     "text": [
      "\n",
      "# diversity score 1.1778162670703916\n",
      "# score details\n",
      "{'alt_group_score': 0.0,\n",
      " 'pos_diff_score': 0.38196314822946564,\n",
      " 'rel_dist_diff_score': 0.27947094449534615,\n",
      " 'size_diff_score': 0.2581910871727899}\n"
     ]
    },
    {
     "data": {
      "text/html": [
       "<table><tr><td><img style='width:100px' src='./saved_designs/exported_from_scout (88)/saved_svgs/design-canvas-d262da7b05ed43c5a91baf2077ab7717.svg'/></td>\n",
       "                               <td><img style='width:100px' src='./saved_designs/exported_from_scout (88)/saved_svgs/design-canvas-fd56b132c13a4b1b9f27556ea5d3aec4.svg'/></td></tr></table>"
      ],
      "text/plain": [
       "<IPython.core.display.HTML object>"
      ]
     },
     "metadata": {},
     "output_type": "display_data"
    },
    {
     "name": "stdout",
     "output_type": "stream",
     "text": [
      "\n",
      "# diversity score 1.1564154541041112\n",
      "# score details\n",
      "{'alt_group_score': 0.0,\n",
      " 'pos_diff_score': 0.4021190858589765,\n",
      " 'rel_dist_diff_score': 0.31153515351483263,\n",
      " 'size_diff_score': 0.22138060736515103}\n"
     ]
    },
    {
     "data": {
      "text/html": [
       "<table><tr><td><img style='width:100px' src='./saved_designs/exported_from_scout (88)/saved_svgs/design-canvas-11a9b95d4511489b847b7741455d68cd.svg'/></td>\n",
       "                               <td><img style='width:100px' src='./saved_designs/exported_from_scout (88)/saved_svgs/design-canvas-683b24954e434fed9b82a246353543b0.svg'/></td></tr></table>"
      ],
      "text/plain": [
       "<IPython.core.display.HTML object>"
      ]
     },
     "metadata": {},
     "output_type": "display_data"
    },
    {
     "name": "stdout",
     "output_type": "stream",
     "text": [
      "\n",
      "# diversity score 1.0666897907161326\n",
      "# score details\n",
      "{'alt_group_score': 0.0,\n",
      " 'pos_diff_score': 0.4379794577808986,\n",
      " 'rel_dist_diff_score': 0.3201205893299801,\n",
      " 'size_diff_score': 0.15429487180262694}\n"
     ]
    },
    {
     "data": {
      "text/html": [
       "<table><tr><td><img style='width:100px' src='./saved_designs/exported_from_scout (88)/saved_svgs/design-canvas-683b24954e434fed9b82a246353543b0.svg'/></td>\n",
       "                               <td><img style='width:100px' src='./saved_designs/exported_from_scout (88)/saved_svgs/design-canvas-bcacfb9cea58444ab69d1b2c26a7b346.svg'/></td></tr></table>"
      ],
      "text/plain": [
       "<IPython.core.display.HTML object>"
      ]
     },
     "metadata": {},
     "output_type": "display_data"
    },
    {
     "name": "stdout",
     "output_type": "stream",
     "text": [
      "\n",
      "# diversity score 1.0476898087855266\n",
      "# score details\n",
      "{'alt_group_score': 0.0,\n",
      " 'pos_diff_score': 0.40457832748538475,\n",
      " 'rel_dist_diff_score': 0.2414674325463338,\n",
      " 'size_diff_score': 0.200822024376904}\n"
     ]
    },
    {
     "data": {
      "text/html": [
       "<table><tr><td><img style='width:100px' src='./saved_designs/exported_from_scout (88)/saved_svgs/design-canvas-fd56b132c13a4b1b9f27556ea5d3aec4.svg'/></td>\n",
       "                               <td><img style='width:100px' src='./saved_designs/exported_from_scout (88)/saved_svgs/design-canvas-bcacfb9cea58444ab69d1b2c26a7b346.svg'/></td></tr></table>"
      ],
      "text/plain": [
       "<IPython.core.display.HTML object>"
      ]
     },
     "metadata": {},
     "output_type": "display_data"
    },
    {
     "name": "stdout",
     "output_type": "stream",
     "text": [
      "\n",
      "# diversity score 0.9917693364293573\n",
      "# score details\n",
      "{'alt_group_score': 0.0,\n",
      " 'pos_diff_score': 0.29384740984920105,\n",
      " 'rel_dist_diff_score': 0.20977353969312773,\n",
      " 'size_diff_score': 0.24407419344351428}\n"
     ]
    },
    {
     "data": {
      "text/html": [
       "<table><tr><td><img style='width:100px' src='./saved_designs/exported_from_scout (88)/saved_svgs/design-canvas-11a9b95d4511489b847b7741455d68cd.svg'/></td>\n",
       "                               <td><img style='width:100px' src='./saved_designs/exported_from_scout (88)/saved_svgs/design-canvas-d262da7b05ed43c5a91baf2077ab7717.svg'/></td></tr></table>"
      ],
      "text/plain": [
       "<IPython.core.display.HTML object>"
      ]
     },
     "metadata": {},
     "output_type": "display_data"
    },
    {
     "name": "stdout",
     "output_type": "stream",
     "text": [
      "\n",
      "# diversity score 0.9399105220522741\n",
      "# score details\n",
      "{'alt_group_score': 0.0,\n",
      " 'pos_diff_score': 0.33448068063759695,\n",
      " 'rel_dist_diff_score': 0.23441124000913352,\n",
      " 'size_diff_score': 0.1855093007027718}\n"
     ]
    },
    {
     "data": {
      "text/html": [
       "<table><tr><td><img style='width:100px' src='./saved_designs/exported_from_scout (88)/saved_svgs/design-canvas-d262da7b05ed43c5a91baf2077ab7717.svg'/></td>\n",
       "                               <td><img style='width:100px' src='./saved_designs/exported_from_scout (88)/saved_svgs/design-canvas-683b24954e434fed9b82a246353543b0.svg'/></td></tr></table>"
      ],
      "text/plain": [
       "<IPython.core.display.HTML object>"
      ]
     },
     "metadata": {},
     "output_type": "display_data"
    },
    {
     "name": "stdout",
     "output_type": "stream",
     "text": [
      "\n",
      "==============\n",
      "## Analyzing exported_from_scout (21) ...\n",
      "# diversity score 1.4555947734028\n",
      "# score details\n",
      "{'alt_group_score': 0.07692307692307693,\n",
      " 'pos_diff_score': 0.5000074453660718,\n",
      " 'rel_dist_diff_score': 0.4326563174139504,\n",
      " 'size_diff_score': 0.22300396684985052}\n"
     ]
    },
    {
     "data": {
      "text/html": [
       "<table><tr><td><img style='width:100px' src='./saved_designs/exported_from_scout (21)/saved_svgs/design-canvas-af4960086b1a40b4bd7f9b9aecd6a931.svg'/></td>\n",
       "                               <td><img style='width:100px' src='./saved_designs/exported_from_scout (21)/saved_svgs/design-canvas-d2507565e9894b5fb99767ce14b6a13e.svg'/></td></tr></table>"
      ],
      "text/plain": [
       "<IPython.core.display.HTML object>"
      ]
     },
     "metadata": {},
     "output_type": "display_data"
    },
    {
     "name": "stdout",
     "output_type": "stream",
     "text": [
      "\n",
      "# diversity score 1.4434361603006143\n",
      "# score details\n",
      "{'alt_group_score': 0.07692307692307693,\n",
      " 'pos_diff_score': 0.4069151827791077,\n",
      " 'rel_dist_diff_score': 0.3482381997997233,\n",
      " 'size_diff_score': 0.3056798503993532}\n"
     ]
    },
    {
     "data": {
      "text/html": [
       "<table><tr><td><img style='width:100px' src='./saved_designs/exported_from_scout (21)/saved_svgs/design-canvas-441488e97988401c9c1c6d371228439d.svg'/></td>\n",
       "                               <td><img style='width:100px' src='./saved_designs/exported_from_scout (21)/saved_svgs/design-canvas-d2507565e9894b5fb99767ce14b6a13e.svg'/></td></tr></table>"
      ],
      "text/plain": [
       "<IPython.core.display.HTML object>"
      ]
     },
     "metadata": {},
     "output_type": "display_data"
    },
    {
     "name": "stdout",
     "output_type": "stream",
     "text": [
      "\n",
      "# diversity score 1.3825164687984453\n",
      "# score details\n",
      "{'alt_group_score': 0.0,\n",
      " 'pos_diff_score': 0.4936121879897143,\n",
      " 'rel_dist_diff_score': 0.4201908206944435,\n",
      " 'size_diff_score': 0.2343567300571437}\n"
     ]
    },
    {
     "data": {
      "text/html": [
       "<table><tr><td><img style='width:100px' src='./saved_designs/exported_from_scout (21)/saved_svgs/design-canvas-d264fad4cfd842ecabbe465fe72937bd.svg'/></td>\n",
       "                               <td><img style='width:100px' src='./saved_designs/exported_from_scout (21)/saved_svgs/design-canvas-d2507565e9894b5fb99767ce14b6a13e.svg'/></td></tr></table>"
      ],
      "text/plain": [
       "<IPython.core.display.HTML object>"
      ]
     },
     "metadata": {},
     "output_type": "display_data"
    },
    {
     "name": "stdout",
     "output_type": "stream",
     "text": [
      "\n",
      "# diversity score 1.2776113497256647\n",
      "# score details\n",
      "{'alt_group_score': 0.0,\n",
      " 'pos_diff_score': 0.3997291694945544,\n",
      " 'rel_dist_diff_score': 0.2712944141586993,\n",
      " 'size_diff_score': 0.30329388303620547}\n"
     ]
    },
    {
     "data": {
      "text/html": [
       "<table><tr><td><img style='width:100px' src='./saved_designs/exported_from_scout (21)/saved_svgs/design-canvas-cf1ca7674c954943bcc46eb6ca5b2fbd.svg'/></td>\n",
       "                               <td><img style='width:100px' src='./saved_designs/exported_from_scout (21)/saved_svgs/design-canvas-441488e97988401c9c1c6d371228439d.svg'/></td></tr></table>"
      ],
      "text/plain": [
       "<IPython.core.display.HTML object>"
      ]
     },
     "metadata": {},
     "output_type": "display_data"
    },
    {
     "name": "stdout",
     "output_type": "stream",
     "text": [
      "\n",
      "# diversity score 1.266143426565025\n",
      "# score details\n",
      "{'alt_group_score': 0.07692307692307693,\n",
      " 'pos_diff_score': 0.30849027863120543,\n",
      " 'rel_dist_diff_score': 0.22320297625199403,\n",
      " 'size_diff_score': 0.3287635473793743}\n"
     ]
    },
    {
     "data": {
      "text/html": [
       "<table><tr><td><img style='width:100px' src='./saved_designs/exported_from_scout (21)/saved_svgs/design-canvas-af4960086b1a40b4bd7f9b9aecd6a931.svg'/></td>\n",
       "                               <td><img style='width:100px' src='./saved_designs/exported_from_scout (21)/saved_svgs/design-canvas-441488e97988401c9c1c6d371228439d.svg'/></td></tr></table>"
      ],
      "text/plain": [
       "<IPython.core.display.HTML object>"
      ]
     },
     "metadata": {},
     "output_type": "display_data"
    },
    {
     "name": "stdout",
     "output_type": "stream",
     "text": [
      "\n",
      "# diversity score 1.212333308586788\n",
      "# score details\n",
      "{'alt_group_score': 0.07692307692307693,\n",
      " 'pos_diff_score': 0.3672483726645118,\n",
      " 'rel_dist_diff_score': 0.2980645786502773,\n",
      " 'size_diff_score': 0.235048640174461}\n"
     ]
    },
    {
     "data": {
      "text/html": [
       "<table><tr><td><img style='width:100px' src='./saved_designs/exported_from_scout (21)/saved_svgs/design-canvas-cf1ca7674c954943bcc46eb6ca5b2fbd.svg'/></td>\n",
       "                               <td><img style='width:100px' src='./saved_designs/exported_from_scout (21)/saved_svgs/design-canvas-d264fad4cfd842ecabbe465fe72937bd.svg'/></td></tr></table>"
      ],
      "text/plain": [
       "<IPython.core.display.HTML object>"
      ]
     },
     "metadata": {},
     "output_type": "display_data"
    },
    {
     "name": "stdout",
     "output_type": "stream",
     "text": [
      "\n",
      "# diversity score 1.2100455057488895\n",
      "# score details\n",
      "{'alt_group_score': 0.07692307692307693,\n",
      " 'pos_diff_score': 0.24289232626361146,\n",
      " 'rel_dist_diff_score': 0.1941237151729584,\n",
      " 'size_diff_score': 0.3480531936946214}\n"
     ]
    },
    {
     "data": {
      "text/html": [
       "<table><tr><td><img style='width:100px' src='./saved_designs/exported_from_scout (21)/saved_svgs/design-canvas-d264fad4cfd842ecabbe465fe72937bd.svg'/></td>\n",
       "                               <td><img style='width:100px' src='./saved_designs/exported_from_scout (21)/saved_svgs/design-canvas-441488e97988401c9c1c6d371228439d.svg'/></td></tr></table>"
      ],
      "text/plain": [
       "<IPython.core.display.HTML object>"
      ]
     },
     "metadata": {},
     "output_type": "display_data"
    },
    {
     "name": "stdout",
     "output_type": "stream",
     "text": [
      "\n",
      "# diversity score 1.1649099722075886\n",
      "# score details\n",
      "{'alt_group_score': 0.07692307692307693,\n",
      " 'pos_diff_score': 0.451325916788026,\n",
      " 'rel_dist_diff_score': 0.36466298956475485,\n",
      " 'size_diff_score': 0.1359989944658654}\n"
     ]
    },
    {
     "data": {
      "text/html": [
       "<table><tr><td><img style='width:100px' src='./saved_designs/exported_from_scout (21)/saved_svgs/design-canvas-cf1ca7674c954943bcc46eb6ca5b2fbd.svg'/></td>\n",
       "                               <td><img style='width:100px' src='./saved_designs/exported_from_scout (21)/saved_svgs/design-canvas-d2507565e9894b5fb99767ce14b6a13e.svg'/></td></tr></table>"
      ],
      "text/plain": [
       "<IPython.core.display.HTML object>"
      ]
     },
     "metadata": {},
     "output_type": "display_data"
    },
    {
     "name": "stdout",
     "output_type": "stream",
     "text": [
      "\n",
      "# diversity score 1.1534251680157348\n",
      "# score details\n",
      "{'alt_group_score': 0.07692307692307693,\n",
      " 'pos_diff_score': 0.36986548411721654,\n",
      " 'rel_dist_diff_score': 0.2984092528581888,\n",
      " 'size_diff_score': 0.20411367705862624}\n"
     ]
    },
    {
     "data": {
      "text/html": [
       "<table><tr><td><img style='width:100px' src='./saved_designs/exported_from_scout (21)/saved_svgs/design-canvas-ea671b6d28664a448e8205dc5c38c4fb.svg'/></td>\n",
       "                               <td><img style='width:100px' src='./saved_designs/exported_from_scout (21)/saved_svgs/design-canvas-d264fad4cfd842ecabbe465fe72937bd.svg'/></td></tr></table>"
      ],
      "text/plain": [
       "<IPython.core.display.HTML object>"
      ]
     },
     "metadata": {},
     "output_type": "display_data"
    },
    {
     "name": "stdout",
     "output_type": "stream",
     "text": [
      "\n",
      "# diversity score 1.1186114113326395\n",
      "# score details\n",
      "{'alt_group_score': 0.07692307692307693,\n",
      " 'pos_diff_score': 0.4291715756094341,\n",
      " 'rel_dist_diff_score': 0.35754902160864194,\n",
      " 'size_diff_score': 0.12748386859574334}\n"
     ]
    },
    {
     "data": {
      "text/html": [
       "<table><tr><td><img style='width:100px' src='./saved_designs/exported_from_scout (21)/saved_svgs/design-canvas-ea671b6d28664a448e8205dc5c38c4fb.svg'/></td>\n",
       "                               <td><img style='width:100px' src='./saved_designs/exported_from_scout (21)/saved_svgs/design-canvas-d2507565e9894b5fb99767ce14b6a13e.svg'/></td></tr></table>"
      ],
      "text/plain": [
       "<IPython.core.display.HTML object>"
      ]
     },
     "metadata": {},
     "output_type": "display_data"
    },
    {
     "name": "stdout",
     "output_type": "stream",
     "text": [
      "\n",
      "# diversity score 1.0755229867676463\n",
      "# score details\n",
      "{'alt_group_score': 0.07692307692307693,\n",
      " 'pos_diff_score': 0.3509122352006624,\n",
      " 'rel_dist_diff_score': 0.22609119725873048,\n",
      " 'size_diff_score': 0.2107982386925883}\n"
     ]
    },
    {
     "data": {
      "text/html": [
       "<table><tr><td><img style='width:100px' src='./saved_designs/exported_from_scout (21)/saved_svgs/design-canvas-ea671b6d28664a448e8205dc5c38c4fb.svg'/></td>\n",
       "                               <td><img style='width:100px' src='./saved_designs/exported_from_scout (21)/saved_svgs/design-canvas-af4960086b1a40b4bd7f9b9aecd6a931.svg'/></td></tr></table>"
      ],
      "text/plain": [
       "<IPython.core.display.HTML object>"
      ]
     },
     "metadata": {},
     "output_type": "display_data"
    },
    {
     "name": "stdout",
     "output_type": "stream",
     "text": [
      "\n",
      "# diversity score 1.0340334930311663\n",
      "# score details\n",
      "{'alt_group_score': 0.0,\n",
      " 'pos_diff_score': 0.2520035066549096,\n",
      " 'rel_dist_diff_score': 0.19840734749443215,\n",
      " 'size_diff_score': 0.29181131944091226}\n"
     ]
    },
    {
     "data": {
      "text/html": [
       "<table><tr><td><img style='width:100px' src='./saved_designs/exported_from_scout (21)/saved_svgs/design-canvas-ea671b6d28664a448e8205dc5c38c4fb.svg'/></td>\n",
       "                               <td><img style='width:100px' src='./saved_designs/exported_from_scout (21)/saved_svgs/design-canvas-441488e97988401c9c1c6d371228439d.svg'/></td></tr></table>"
      ],
      "text/plain": [
       "<IPython.core.display.HTML object>"
      ]
     },
     "metadata": {},
     "output_type": "display_data"
    },
    {
     "name": "stdout",
     "output_type": "stream",
     "text": [
      "\n",
      "# diversity score 0.9163297864675255\n",
      "# score details\n",
      "{'alt_group_score': 0.07692307692307693,\n",
      " 'pos_diff_score': 0.21999765149770864,\n",
      " 'rel_dist_diff_score': 0.16572518151037924,\n",
      " 'size_diff_score': 0.2268419382681804}\n"
     ]
    },
    {
     "data": {
      "text/html": [
       "<table><tr><td><img style='width:100px' src='./saved_designs/exported_from_scout (21)/saved_svgs/design-canvas-cf1ca7674c954943bcc46eb6ca5b2fbd.svg'/></td>\n",
       "                               <td><img style='width:100px' src='./saved_designs/exported_from_scout (21)/saved_svgs/design-canvas-af4960086b1a40b4bd7f9b9aecd6a931.svg'/></td></tr></table>"
      ],
      "text/plain": [
       "<IPython.core.display.HTML object>"
      ]
     },
     "metadata": {},
     "output_type": "display_data"
    },
    {
     "name": "stdout",
     "output_type": "stream",
     "text": [
      "\n",
      "# diversity score 0.8872737118813838\n",
      "# score details\n",
      "{'alt_group_score': 0.0,\n",
      " 'pos_diff_score': 0.36449703749883006,\n",
      " 'rel_dist_diff_score': 0.1891614089956933,\n",
      " 'size_diff_score': 0.1668076326934302}\n"
     ]
    },
    {
     "data": {
      "text/html": [
       "<table><tr><td><img style='width:100px' src='./saved_designs/exported_from_scout (21)/saved_svgs/design-canvas-cf1ca7674c954943bcc46eb6ca5b2fbd.svg'/></td>\n",
       "                               <td><img style='width:100px' src='./saved_designs/exported_from_scout (21)/saved_svgs/design-canvas-ea671b6d28664a448e8205dc5c38c4fb.svg'/></td></tr></table>"
      ],
      "text/plain": [
       "<IPython.core.display.HTML object>"
      ]
     },
     "metadata": {},
     "output_type": "display_data"
    },
    {
     "name": "stdout",
     "output_type": "stream",
     "text": [
      "\n",
      "# diversity score 0.8271030575191283\n",
      "# score details\n",
      "{'alt_group_score': 0.07692307692307693,\n",
      " 'pos_diff_score': 0.28173115669965143,\n",
      " 'rel_dist_diff_score': 0.23739771399944362,\n",
      " 'size_diff_score': 0.11552555494847816}\n"
     ]
    },
    {
     "data": {
      "text/html": [
       "<table><tr><td><img style='width:100px' src='./saved_designs/exported_from_scout (21)/saved_svgs/design-canvas-af4960086b1a40b4bd7f9b9aecd6a931.svg'/></td>\n",
       "                               <td><img style='width:100px' src='./saved_designs/exported_from_scout (21)/saved_svgs/design-canvas-d264fad4cfd842ecabbe465fe72937bd.svg'/></td></tr></table>"
      ],
      "text/plain": [
       "<IPython.core.display.HTML object>"
      ]
     },
     "metadata": {},
     "output_type": "display_data"
    },
    {
     "name": "stdout",
     "output_type": "stream",
     "text": [
      "\n",
      "==============\n",
      "## Analyzing exported_from_scout - 2019-04-25T155613.314 ...\n",
      "# diversity score 1.648953945288101\n",
      "# score details\n",
      "{'alt_group_score': 0.08333333333333333,\n",
      " 'pos_diff_score': 0.46472247353923296,\n",
      " 'rel_dist_diff_score': 0.41100749922219715,\n",
      " 'size_diff_score': 0.3449453195966688}\n"
     ]
    },
    {
     "data": {
      "text/html": [
       "<table><tr><td><img style='width:100px' src='./saved_designs/exported_from_scout - 2019-04-25T155613.314/import_these_into_xd/design-canvas-607491ccb4164e73b115cefaf3c3ca57.svg'/></td>\n",
       "                               <td><img style='width:100px' src='./saved_designs/exported_from_scout - 2019-04-25T155613.314/import_these_into_xd/design-canvas-f8d0cbd306704125b0094c02162315f1.svg'/></td></tr></table>"
      ],
      "text/plain": [
       "<IPython.core.display.HTML object>"
      ]
     },
     "metadata": {},
     "output_type": "display_data"
    },
    {
     "name": "stdout",
     "output_type": "stream",
     "text": [
      "\n",
      "# diversity score 1.3060950159796183\n",
      "# score details\n",
      "{'alt_group_score': 0.08333333333333333,\n",
      " 'pos_diff_score': 0.356540788775646,\n",
      " 'rel_dist_diff_score': 0.3234367652373191,\n",
      " 'size_diff_score': 0.27139206431665996}\n"
     ]
    },
    {
     "data": {
      "text/html": [
       "<table><tr><td><img style='width:100px' src='./saved_designs/exported_from_scout - 2019-04-25T155613.314/import_these_into_xd/design-canvas-f8d0cbd306704125b0094c02162315f1.svg'/></td>\n",
       "                               <td><img style='width:100px' src='./saved_designs/exported_from_scout - 2019-04-25T155613.314/import_these_into_xd/design-canvas-1ae3854c85574df8bfefb5da26fa8a39.svg'/></td></tr></table>"
      ],
      "text/plain": [
       "<IPython.core.display.HTML object>"
      ]
     },
     "metadata": {},
     "output_type": "display_data"
    },
    {
     "name": "stdout",
     "output_type": "stream",
     "text": [
      "\n",
      "# diversity score 1.2367735060962368\n",
      "# score details\n",
      "{'alt_group_score': 0.08333333333333333,\n",
      " 'pos_diff_score': 0.35322355662341137,\n",
      " 'rel_dist_diff_score': 0.26837191483088907,\n",
      " 'size_diff_score': 0.2659223506543016}\n"
     ]
    },
    {
     "data": {
      "text/html": [
       "<table><tr><td><img style='width:100px' src='./saved_designs/exported_from_scout - 2019-04-25T155613.314/import_these_into_xd/design-canvas-607491ccb4164e73b115cefaf3c3ca57.svg'/></td>\n",
       "                               <td><img style='width:100px' src='./saved_designs/exported_from_scout - 2019-04-25T155613.314/import_these_into_xd/design-canvas-1ae3854c85574df8bfefb5da26fa8a39.svg'/></td></tr></table>"
      ],
      "text/plain": [
       "<IPython.core.display.HTML object>"
      ]
     },
     "metadata": {},
     "output_type": "display_data"
    },
    {
     "name": "stdout",
     "output_type": "stream",
     "text": [
      "\n",
      "==============\n",
      "## Analyzing ScoutExports ...\n",
      "# diversity score 1.438077385948291\n",
      "# score details\n",
      "{'alt_group_score': 0.0,\n",
      " 'pos_diff_score': 0.5050936179762221,\n",
      " 'rel_dist_diff_score': 0.3794319460878703,\n",
      " 'size_diff_score': 0.27677591094209925}\n"
     ]
    },
    {
     "data": {
      "text/html": [
       "<table><tr><td><img style='width:100px' src='./saved_designs/ScoutExports/saved_svgs/design-canvas-ede37baa7eee4f32a2ef6e5f790c99d5.svg'/></td>\n",
       "                               <td><img style='width:100px' src='./saved_designs/ScoutExports/saved_svgs/design-canvas-3db107c6701b45c686a7818eb951a6fb.svg'/></td></tr></table>"
      ],
      "text/plain": [
       "<IPython.core.display.HTML object>"
      ]
     },
     "metadata": {},
     "output_type": "display_data"
    },
    {
     "name": "stdout",
     "output_type": "stream",
     "text": [
      "\n",
      "# diversity score 1.433155665537174\n",
      "# score details\n",
      "{'alt_group_score': 0.0,\n",
      " 'pos_diff_score': 0.4695883717124791,\n",
      " 'rel_dist_diff_score': 0.3357728467158059,\n",
      " 'size_diff_score': 0.31389722355444444}\n"
     ]
    },
    {
     "data": {
      "text/html": [
       "<table><tr><td><img style='width:100px' src='./saved_designs/ScoutExports/saved_svgs/design-canvas-f9f7c67b927742af95edbd30ea972096.svg'/></td>\n",
       "                               <td><img style='width:100px' src='./saved_designs/ScoutExports/saved_svgs/design-canvas-3db107c6701b45c686a7818eb951a6fb.svg'/></td></tr></table>"
      ],
      "text/plain": [
       "<IPython.core.display.HTML object>"
      ]
     },
     "metadata": {},
     "output_type": "display_data"
    },
    {
     "name": "stdout",
     "output_type": "stream",
     "text": [
      "\n",
      "# diversity score 1.3705577236483975\n",
      "# score details\n",
      "{'alt_group_score': 0.0,\n",
      " 'pos_diff_score': 0.40049045280277334,\n",
      " 'rel_dist_diff_score': 0.3127701603395927,\n",
      " 'size_diff_score': 0.3286485552530157}\n"
     ]
    },
    {
     "data": {
      "text/html": [
       "<table><tr><td><img style='width:100px' src='./saved_designs/ScoutExports/saved_svgs/design-canvas-ede37baa7eee4f32a2ef6e5f790c99d5.svg'/></td>\n",
       "                               <td><img style='width:100px' src='./saved_designs/ScoutExports/saved_svgs/design-canvas-f9f7c67b927742af95edbd30ea972096.svg'/></td></tr></table>"
      ],
      "text/plain": [
       "<IPython.core.display.HTML object>"
      ]
     },
     "metadata": {},
     "output_type": "display_data"
    },
    {
     "name": "stdout",
     "output_type": "stream",
     "text": [
      "\n",
      "==============\n",
      "## Analyzing exported_from_scout (99) ...\n",
      "# diversity score 1.532681332301342\n",
      "# score details\n",
      "{'alt_group_score': 0.0,\n",
      " 'pos_diff_score': 0.5747123764633193,\n",
      " 'rel_dist_diff_score': 0.3455798251467043,\n",
      " 'size_diff_score': 0.30619456534565914}\n"
     ]
    },
    {
     "data": {
      "text/html": [
       "<table><tr><td><img style='width:100px' src='./saved_designs/exported_from_scout (99)/import_these_into_xd/design-canvas-918a934c8f404d4993face741c29015f.svg'/></td>\n",
       "                               <td><img style='width:100px' src='./saved_designs/exported_from_scout (99)/import_these_into_xd/design-canvas-d8fb0ab7d8b7488585260e7e6af20869.svg'/></td></tr></table>"
      ],
      "text/plain": [
       "<IPython.core.display.HTML object>"
      ]
     },
     "metadata": {},
     "output_type": "display_data"
    },
    {
     "name": "stdout",
     "output_type": "stream",
     "text": [
      "\n",
      "# diversity score 1.4765221816793046\n",
      "# score details\n",
      "{'alt_group_score': 0.07692307692307693,\n",
      " 'pos_diff_score': 0.7034905545842421,\n",
      " 'rel_dist_diff_score': 0.416390954184369,\n",
      " 'size_diff_score': 0.1398587979938082}\n"
     ]
    },
    {
     "data": {
      "text/html": [
       "<table><tr><td><img style='width:100px' src='./saved_designs/exported_from_scout (99)/import_these_into_xd/design-canvas-a2bc85f0c1964088bf9b3444e227d402.svg'/></td>\n",
       "                               <td><img style='width:100px' src='./saved_designs/exported_from_scout (99)/import_these_into_xd/design-canvas-d8fb0ab7d8b7488585260e7e6af20869.svg'/></td></tr></table>"
      ],
      "text/plain": [
       "<IPython.core.display.HTML object>"
      ]
     },
     "metadata": {},
     "output_type": "display_data"
    },
    {
     "name": "stdout",
     "output_type": "stream",
     "text": [
      "\n",
      "# diversity score 1.4582298716586548\n",
      "# score details\n",
      "{'alt_group_score': 0.0,\n",
      " 'pos_diff_score': 0.5995326458425392,\n",
      " 'rel_dist_diff_score': 0.36904851686559587,\n",
      " 'size_diff_score': 0.24482435447525988}\n"
     ]
    },
    {
     "data": {
      "text/html": [
       "<table><tr><td><img style='width:100px' src='./saved_designs/exported_from_scout (99)/import_these_into_xd/design-canvas-7304405049fc487a91ca6165424c0b0c.svg'/></td>\n",
       "                               <td><img style='width:100px' src='./saved_designs/exported_from_scout (99)/import_these_into_xd/design-canvas-d8fb0ab7d8b7488585260e7e6af20869.svg'/></td></tr></table>"
      ],
      "text/plain": [
       "<IPython.core.display.HTML object>"
      ]
     },
     "metadata": {},
     "output_type": "display_data"
    },
    {
     "name": "stdout",
     "output_type": "stream",
     "text": [
      "\n",
      "# diversity score 1.3686801824102424\n",
      "# score details\n",
      "{'alt_group_score': 0.0,\n",
      " 'pos_diff_score': 0.5874133055675904,\n",
      " 'rel_dist_diff_score': 0.4099080015976894,\n",
      " 'size_diff_score': 0.1856794376224813}\n"
     ]
    },
    {
     "data": {
      "text/html": [
       "<table><tr><td><img style='width:100px' src='./saved_designs/exported_from_scout (99)/import_these_into_xd/design-canvas-83903cdc8136490e90c180d73dd2c09d.svg'/></td>\n",
       "                               <td><img style='width:100px' src='./saved_designs/exported_from_scout (99)/import_these_into_xd/design-canvas-d8fb0ab7d8b7488585260e7e6af20869.svg'/></td></tr></table>"
      ],
      "text/plain": [
       "<IPython.core.display.HTML object>"
      ]
     },
     "metadata": {},
     "output_type": "display_data"
    },
    {
     "name": "stdout",
     "output_type": "stream",
     "text": [
      "\n",
      "# diversity score 1.33318056251766\n",
      "# score details\n",
      "{'alt_group_score': 0.0,\n",
      " 'pos_diff_score': 0.5794733101516594,\n",
      " 'rel_dist_diff_score': 0.33550067579622184,\n",
      " 'size_diff_score': 0.20910328828488947}\n"
     ]
    },
    {
     "data": {
      "text/html": [
       "<table><tr><td><img style='width:100px' src='./saved_designs/exported_from_scout (99)/import_these_into_xd/design-canvas-a52759ae3c2e49b9a50e2bfa69918a07.svg'/></td>\n",
       "                               <td><img style='width:100px' src='./saved_designs/exported_from_scout (99)/import_these_into_xd/design-canvas-d8fb0ab7d8b7488585260e7e6af20869.svg'/></td></tr></table>"
      ],
      "text/plain": [
       "<IPython.core.display.HTML object>"
      ]
     },
     "metadata": {},
     "output_type": "display_data"
    },
    {
     "name": "stdout",
     "output_type": "stream",
     "text": [
      "\n",
      "# diversity score 1.3258139350919356\n",
      "# score details\n",
      "{'alt_group_score': 0.0,\n",
      " 'pos_diff_score': 0.44501392611499907,\n",
      " 'rel_dist_diff_score': 0.28661582886361076,\n",
      " 'size_diff_score': 0.29709209005666287}\n"
     ]
    },
    {
     "data": {
      "text/html": [
       "<table><tr><td><img style='width:100px' src='./saved_designs/exported_from_scout (99)/import_these_into_xd/design-canvas-1ae0e35d0b2d43028cddacd7a035b17d.svg'/></td>\n",
       "                               <td><img style='width:100px' src='./saved_designs/exported_from_scout (99)/import_these_into_xd/design-canvas-d8fb0ab7d8b7488585260e7e6af20869.svg'/></td></tr></table>"
      ],
      "text/plain": [
       "<IPython.core.display.HTML object>"
      ]
     },
     "metadata": {},
     "output_type": "display_data"
    },
    {
     "name": "stdout",
     "output_type": "stream",
     "text": [
      "\n",
      "# diversity score 1.2951548747844286\n",
      "# score details\n",
      "{'alt_group_score': 0.07692307692307693,\n",
      " 'pos_diff_score': 0.4031078953327608,\n",
      " 'rel_dist_diff_score': 0.29957021191928984,\n",
      " 'size_diff_score': 0.25777684530465056}\n"
     ]
    },
    {
     "data": {
      "text/html": [
       "<table><tr><td><img style='width:100px' src='./saved_designs/exported_from_scout (99)/import_these_into_xd/design-canvas-7304405049fc487a91ca6165424c0b0c.svg'/></td>\n",
       "                               <td><img style='width:100px' src='./saved_designs/exported_from_scout (99)/import_these_into_xd/design-canvas-a2bc85f0c1964088bf9b3444e227d402.svg'/></td></tr></table>"
      ],
      "text/plain": [
       "<IPython.core.display.HTML object>"
      ]
     },
     "metadata": {},
     "output_type": "display_data"
    },
    {
     "name": "stdout",
     "output_type": "stream",
     "text": [
      "\n",
      "# diversity score 1.211497532330197\n",
      "# score details\n",
      "{'alt_group_score': 0.0,\n",
      " 'pos_diff_score': 0.5109192194623985,\n",
      " 'rel_dist_diff_score': 0.3081636271484272,\n",
      " 'size_diff_score': 0.19620734285968564}\n"
     ]
    },
    {
     "data": {
      "text/html": [
       "<table><tr><td><img style='width:100px' src='./saved_designs/exported_from_scout (99)/import_these_into_xd/design-canvas-7304405049fc487a91ca6165424c0b0c.svg'/></td>\n",
       "                               <td><img style='width:100px' src='./saved_designs/exported_from_scout (99)/import_these_into_xd/design-canvas-1ae0e35d0b2d43028cddacd7a035b17d.svg'/></td></tr></table>"
      ],
      "text/plain": [
       "<IPython.core.display.HTML object>"
      ]
     },
     "metadata": {},
     "output_type": "display_data"
    },
    {
     "name": "stdout",
     "output_type": "stream",
     "text": [
      "\n",
      "# diversity score 1.208666878343497\n",
      "# score details\n",
      "{'alt_group_score': 0.07692307692307693,\n",
      " 'pos_diff_score': 0.33820689595847897,\n",
      " 'rel_dist_diff_score': 0.19616948876427662,\n",
      " 'size_diff_score': 0.29868370834883223}\n"
     ]
    },
    {
     "data": {
      "text/html": [
       "<table><tr><td><img style='width:100px' src='./saved_designs/exported_from_scout (99)/import_these_into_xd/design-canvas-1ae0e35d0b2d43028cddacd7a035b17d.svg'/></td>\n",
       "                               <td><img style='width:100px' src='./saved_designs/exported_from_scout (99)/import_these_into_xd/design-canvas-a2bc85f0c1964088bf9b3444e227d402.svg'/></td></tr></table>"
      ],
      "text/plain": [
       "<IPython.core.display.HTML object>"
      ]
     },
     "metadata": {},
     "output_type": "display_data"
    },
    {
     "name": "stdout",
     "output_type": "stream",
     "text": [
      "\n",
      "# diversity score 1.2070745395407967\n",
      "# score details\n",
      "{'alt_group_score': 0.07692307692307693,\n",
      " 'pos_diff_score': 0.49789783061399806,\n",
      " 'rel_dist_diff_score': 0.2510589717662263,\n",
      " 'size_diff_score': 0.1905973301187477}\n"
     ]
    },
    {
     "data": {
      "text/html": [
       "<table><tr><td><img style='width:100px' src='./saved_designs/exported_from_scout (99)/import_these_into_xd/design-canvas-be478c6373164bc4b96bbccf5b367f9b.svg'/></td>\n",
       "                               <td><img style='width:100px' src='./saved_designs/exported_from_scout (99)/import_these_into_xd/design-canvas-d8fb0ab7d8b7488585260e7e6af20869.svg'/></td></tr></table>"
      ],
      "text/plain": [
       "<IPython.core.display.HTML object>"
      ]
     },
     "metadata": {},
     "output_type": "display_data"
    },
    {
     "name": "stdout",
     "output_type": "stream",
     "text": [
      "\n",
      "# diversity score 1.1978385164210577\n",
      "# score details\n",
      "{'alt_group_score': 0.07692307692307693,\n",
      " 'pos_diff_score': 0.43248137353002786,\n",
      " 'rel_dist_diff_score': 0.303941385258902,\n",
      " 'size_diff_score': 0.1922463403545254}\n"
     ]
    },
    {
     "data": {
      "text/html": [
       "<table><tr><td><img style='width:100px' src='./saved_designs/exported_from_scout (99)/import_these_into_xd/design-canvas-be478c6373164bc4b96bbccf5b367f9b.svg'/></td>\n",
       "                               <td><img style='width:100px' src='./saved_designs/exported_from_scout (99)/import_these_into_xd/design-canvas-a2bc85f0c1964088bf9b3444e227d402.svg'/></td></tr></table>"
      ],
      "text/plain": [
       "<IPython.core.display.HTML object>"
      ]
     },
     "metadata": {},
     "output_type": "display_data"
    },
    {
     "name": "stdout",
     "output_type": "stream",
     "text": [
      "\n",
      "# diversity score 1.195896520351572\n",
      "# score details\n",
      "{'alt_group_score': 0.0,\n",
      " 'pos_diff_score': 0.38242907530650716,\n",
      " 'rel_dist_diff_score': 0.2905643987773871,\n",
      " 'size_diff_score': 0.26145152313383874}\n"
     ]
    },
    {
     "data": {
      "text/html": [
       "<table><tr><td><img style='width:100px' src='./saved_designs/exported_from_scout (99)/import_these_into_xd/design-canvas-83903cdc8136490e90c180d73dd2c09d.svg'/></td>\n",
       "                               <td><img style='width:100px' src='./saved_designs/exported_from_scout (99)/import_these_into_xd/design-canvas-918a934c8f404d4993face741c29015f.svg'/></td></tr></table>"
      ],
      "text/plain": [
       "<IPython.core.display.HTML object>"
      ]
     },
     "metadata": {},
     "output_type": "display_data"
    },
    {
     "name": "stdout",
     "output_type": "stream",
     "text": [
      "\n",
      "# diversity score 1.1457634485734083\n",
      "# score details\n",
      "{'alt_group_score': 0.0,\n",
      " 'pos_diff_score': 0.36928094201008393,\n",
      " 'rel_dist_diff_score': 0.2750226494420454,\n",
      " 'size_diff_score': 0.2507299285606395}\n"
     ]
    },
    {
     "data": {
      "text/html": [
       "<table><tr><td><img style='width:100px' src='./saved_designs/exported_from_scout (99)/import_these_into_xd/design-canvas-1ae0e35d0b2d43028cddacd7a035b17d.svg'/></td>\n",
       "                               <td><img style='width:100px' src='./saved_designs/exported_from_scout (99)/import_these_into_xd/design-canvas-83903cdc8136490e90c180d73dd2c09d.svg'/></td></tr></table>"
      ],
      "text/plain": [
       "<IPython.core.display.HTML object>"
      ]
     },
     "metadata": {},
     "output_type": "display_data"
    },
    {
     "name": "stdout",
     "output_type": "stream",
     "text": [
      "\n",
      "# diversity score 1.130677410898378\n",
      "# score details\n",
      "{'alt_group_score': 0.07692307692307693,\n",
      " 'pos_diff_score': 0.2700779676916039,\n",
      " 'rel_dist_diff_score': 0.19630622699332068,\n",
      " 'size_diff_score': 0.29368506964518826}\n"
     ]
    },
    {
     "data": {
      "text/html": [
       "<table><tr><td><img style='width:100px' src='./saved_designs/exported_from_scout (99)/import_these_into_xd/design-canvas-918a934c8f404d4993face741c29015f.svg'/></td>\n",
       "                               <td><img style='width:100px' src='./saved_designs/exported_from_scout (99)/import_these_into_xd/design-canvas-a2bc85f0c1964088bf9b3444e227d402.svg'/></td></tr></table>"
      ],
      "text/plain": [
       "<IPython.core.display.HTML object>"
      ]
     },
     "metadata": {},
     "output_type": "display_data"
    },
    {
     "name": "stdout",
     "output_type": "stream",
     "text": [
      "\n",
      "# diversity score 1.0802219918092504\n",
      "# score details\n",
      "{'alt_group_score': 0.0,\n",
      " 'pos_diff_score': 0.4001404861738016,\n",
      " 'rel_dist_diff_score': 0.26113607458328325,\n",
      " 'size_diff_score': 0.20947271552608274}\n"
     ]
    },
    {
     "data": {
      "text/html": [
       "<table><tr><td><img style='width:100px' src='./saved_designs/exported_from_scout (99)/import_these_into_xd/design-canvas-7304405049fc487a91ca6165424c0b0c.svg'/></td>\n",
       "                               <td><img style='width:100px' src='./saved_designs/exported_from_scout (99)/import_these_into_xd/design-canvas-918a934c8f404d4993face741c29015f.svg'/></td></tr></table>"
      ],
      "text/plain": [
       "<IPython.core.display.HTML object>"
      ]
     },
     "metadata": {},
     "output_type": "display_data"
    },
    {
     "name": "stdout",
     "output_type": "stream",
     "text": [
      "\n",
      "# diversity score 1.075417088652656\n",
      "# score details\n",
      "{'alt_group_score': 0.07692307692307693,\n",
      " 'pos_diff_score': 0.31126624962993366,\n",
      " 'rel_dist_diff_score': 0.20336558901349153,\n",
      " 'size_diff_score': 0.24193108654307696}\n"
     ]
    },
    {
     "data": {
      "text/html": [
       "<table><tr><td><img style='width:100px' src='./saved_designs/exported_from_scout (99)/import_these_into_xd/design-canvas-1ae0e35d0b2d43028cddacd7a035b17d.svg'/></td>\n",
       "                               <td><img style='width:100px' src='./saved_designs/exported_from_scout (99)/import_these_into_xd/design-canvas-be478c6373164bc4b96bbccf5b367f9b.svg'/></td></tr></table>"
      ],
      "text/plain": [
       "<IPython.core.display.HTML object>"
      ]
     },
     "metadata": {},
     "output_type": "display_data"
    },
    {
     "name": "stdout",
     "output_type": "stream",
     "text": [
      "\n",
      "# diversity score 1.0705482131261463\n",
      "# score details\n",
      "{'alt_group_score': 0.07692307692307693,\n",
      " 'pos_diff_score': 0.36593782971175626,\n",
      " 'rel_dist_diff_score': 0.2678355124095829,\n",
      " 'size_diff_score': 0.17992589704086515}\n"
     ]
    },
    {
     "data": {
      "text/html": [
       "<table><tr><td><img style='width:100px' src='./saved_designs/exported_from_scout (99)/import_these_into_xd/design-canvas-7304405049fc487a91ca6165424c0b0c.svg'/></td>\n",
       "                               <td><img style='width:100px' src='./saved_designs/exported_from_scout (99)/import_these_into_xd/design-canvas-be478c6373164bc4b96bbccf5b367f9b.svg'/></td></tr></table>"
      ],
      "text/plain": [
       "<IPython.core.display.HTML object>"
      ]
     },
     "metadata": {},
     "output_type": "display_data"
    },
    {
     "name": "stdout",
     "output_type": "stream",
     "text": [
      "\n",
      "# diversity score 1.0535067780188607\n",
      "# score details\n",
      "{'alt_group_score': 0.0,\n",
      " 'pos_diff_score': 0.34089405661134514,\n",
      " 'rel_dist_diff_score': 0.19888667756218512,\n",
      " 'size_diff_score': 0.25686302192266525}\n"
     ]
    },
    {
     "data": {
      "text/html": [
       "<table><tr><td><img style='width:100px' src='./saved_designs/exported_from_scout (99)/import_these_into_xd/design-canvas-1ae0e35d0b2d43028cddacd7a035b17d.svg'/></td>\n",
       "                               <td><img style='width:100px' src='./saved_designs/exported_from_scout (99)/import_these_into_xd/design-canvas-a52759ae3c2e49b9a50e2bfa69918a07.svg'/></td></tr></table>"
      ],
      "text/plain": [
       "<IPython.core.display.HTML object>"
      ]
     },
     "metadata": {},
     "output_type": "display_data"
    },
    {
     "name": "stdout",
     "output_type": "stream",
     "text": [
      "\n",
      "# diversity score 1.0271872233098485\n",
      "# score details\n",
      "{'alt_group_score': 0.07692307692307693,\n",
      " 'pos_diff_score': 0.31383793224878304,\n",
      " 'rel_dist_diff_score': 0.23760264662021202,\n",
      " 'size_diff_score': 0.19941178375888824}\n"
     ]
    },
    {
     "data": {
      "text/html": [
       "<table><tr><td><img style='width:100px' src='./saved_designs/exported_from_scout (99)/import_these_into_xd/design-canvas-a52759ae3c2e49b9a50e2bfa69918a07.svg'/></td>\n",
       "                               <td><img style='width:100px' src='./saved_designs/exported_from_scout (99)/import_these_into_xd/design-canvas-a2bc85f0c1964088bf9b3444e227d402.svg'/></td></tr></table>"
      ],
      "text/plain": [
       "<IPython.core.display.HTML object>"
      ]
     },
     "metadata": {},
     "output_type": "display_data"
    },
    {
     "name": "stdout",
     "output_type": "stream",
     "text": [
      "\n",
      "# diversity score 1.0090079783333636\n",
      "# score details\n",
      "{'alt_group_score': 0.07692307692307693,\n",
      " 'pos_diff_score': 0.25166884609608153,\n",
      " 'rel_dist_diff_score': 0.17479901527806585,\n",
      " 'size_diff_score': 0.2528085200180697}\n"
     ]
    },
    {
     "data": {
      "text/html": [
       "<table><tr><td><img style='width:100px' src='./saved_designs/exported_from_scout (99)/import_these_into_xd/design-canvas-be478c6373164bc4b96bbccf5b367f9b.svg'/></td>\n",
       "                               <td><img style='width:100px' src='./saved_designs/exported_from_scout (99)/import_these_into_xd/design-canvas-918a934c8f404d4993face741c29015f.svg'/></td></tr></table>"
      ],
      "text/plain": [
       "<IPython.core.display.HTML object>"
      ]
     },
     "metadata": {},
     "output_type": "display_data"
    },
    {
     "name": "stdout",
     "output_type": "stream",
     "text": [
      "\n",
      "# diversity score 1.0075550626918837\n",
      "# score details\n",
      "{'alt_group_score': 0.07692307692307693,\n",
      " 'pos_diff_score': 0.3011514690539899,\n",
      " 'rel_dist_diff_score': 0.22721115980971285,\n",
      " 'size_diff_score': 0.20113467845255203}\n"
     ]
    },
    {
     "data": {
      "text/html": [
       "<table><tr><td><img style='width:100px' src='./saved_designs/exported_from_scout (99)/import_these_into_xd/design-canvas-83903cdc8136490e90c180d73dd2c09d.svg'/></td>\n",
       "                               <td><img style='width:100px' src='./saved_designs/exported_from_scout (99)/import_these_into_xd/design-canvas-a2bc85f0c1964088bf9b3444e227d402.svg'/></td></tr></table>"
      ],
      "text/plain": [
       "<IPython.core.display.HTML object>"
      ]
     },
     "metadata": {},
     "output_type": "display_data"
    },
    {
     "name": "stdout",
     "output_type": "stream",
     "text": [
      "\n",
      "# diversity score 1.0027129411800957\n",
      "# score details\n",
      "{'alt_group_score': 0.07692307692307693,\n",
      " 'pos_diff_score': 0.47178726901466,\n",
      " 'rel_dist_diff_score': 0.3184970410984031,\n",
      " 'size_diff_score': 0.06775277707197777}\n"
     ]
    },
    {
     "data": {
      "text/html": [
       "<table><tr><td><img style='width:100px' src='./saved_designs/exported_from_scout (99)/import_these_into_xd/design-canvas-be478c6373164bc4b96bbccf5b367f9b.svg'/></td>\n",
       "                               <td><img style='width:100px' src='./saved_designs/exported_from_scout (99)/import_these_into_xd/design-canvas-83903cdc8136490e90c180d73dd2c09d.svg'/></td></tr></table>"
      ],
      "text/plain": [
       "<IPython.core.display.HTML object>"
      ]
     },
     "metadata": {},
     "output_type": "display_data"
    },
    {
     "name": "stdout",
     "output_type": "stream",
     "text": [
      "\n",
      "# diversity score 0.9270029856096311\n",
      "# score details\n",
      "{'alt_group_score': 0.0,\n",
      " 'pos_diff_score': 0.25908044674903363,\n",
      " 'rel_dist_diff_score': 0.16055946342839073,\n",
      " 'size_diff_score': 0.2536815377161034}\n"
     ]
    },
    {
     "data": {
      "text/html": [
       "<table><tr><td><img style='width:100px' src='./saved_designs/exported_from_scout (99)/import_these_into_xd/design-canvas-a52759ae3c2e49b9a50e2bfa69918a07.svg'/></td>\n",
       "                               <td><img style='width:100px' src='./saved_designs/exported_from_scout (99)/import_these_into_xd/design-canvas-918a934c8f404d4993face741c29015f.svg'/></td></tr></table>"
      ],
      "text/plain": [
       "<IPython.core.display.HTML object>"
      ]
     },
     "metadata": {},
     "output_type": "display_data"
    },
    {
     "name": "stdout",
     "output_type": "stream",
     "text": [
      "\n",
      "# diversity score 0.8966483030883698\n",
      "# score details\n",
      "{'alt_group_score': 0.0,\n",
      " 'pos_diff_score': 0.2806995632072972,\n",
      " 'rel_dist_diff_score': 0.20458200535429802,\n",
      " 'size_diff_score': 0.2056833672633873}\n"
     ]
    },
    {
     "data": {
      "text/html": [
       "<table><tr><td><img style='width:100px' src='./saved_designs/exported_from_scout (99)/import_these_into_xd/design-canvas-7304405049fc487a91ca6165424c0b0c.svg'/></td>\n",
       "                               <td><img style='width:100px' src='./saved_designs/exported_from_scout (99)/import_these_into_xd/design-canvas-a52759ae3c2e49b9a50e2bfa69918a07.svg'/></td></tr></table>"
      ],
      "text/plain": [
       "<IPython.core.display.HTML object>"
      ]
     },
     "metadata": {},
     "output_type": "display_data"
    },
    {
     "name": "stdout",
     "output_type": "stream",
     "text": [
      "\n",
      "# diversity score 0.8154306986028168\n",
      "# score details\n",
      "{'alt_group_score': 0.0,\n",
      " 'pos_diff_score': 0.33603949053498167,\n",
      " 'rel_dist_diff_score': 0.2411006314860869,\n",
      " 'size_diff_score': 0.11914528829087415}\n"
     ]
    },
    {
     "data": {
      "text/html": [
       "<table><tr><td><img style='width:100px' src='./saved_designs/exported_from_scout (99)/import_these_into_xd/design-canvas-a52759ae3c2e49b9a50e2bfa69918a07.svg'/></td>\n",
       "                               <td><img style='width:100px' src='./saved_designs/exported_from_scout (99)/import_these_into_xd/design-canvas-83903cdc8136490e90c180d73dd2c09d.svg'/></td></tr></table>"
      ],
      "text/plain": [
       "<IPython.core.display.HTML object>"
      ]
     },
     "metadata": {},
     "output_type": "display_data"
    },
    {
     "name": "stdout",
     "output_type": "stream",
     "text": [
      "\n",
      "# diversity score 0.7766139873021493\n",
      "# score details\n",
      "{'alt_group_score': 0.0,\n",
      " 'pos_diff_score': 0.27714715107927684,\n",
      " 'rel_dist_diff_score': 0.17936220103778566,\n",
      " 'size_diff_score': 0.16005231759254337}\n"
     ]
    },
    {
     "data": {
      "text/html": [
       "<table><tr><td><img style='width:100px' src='./saved_designs/exported_from_scout (99)/import_these_into_xd/design-canvas-1ae0e35d0b2d43028cddacd7a035b17d.svg'/></td>\n",
       "                               <td><img style='width:100px' src='./saved_designs/exported_from_scout (99)/import_these_into_xd/design-canvas-918a934c8f404d4993face741c29015f.svg'/></td></tr></table>"
      ],
      "text/plain": [
       "<IPython.core.display.HTML object>"
      ]
     },
     "metadata": {},
     "output_type": "display_data"
    },
    {
     "name": "stdout",
     "output_type": "stream",
     "text": [
      "\n",
      "# diversity score 0.7296028134031944\n",
      "# score details\n",
      "{'alt_group_score': 0.0,\n",
      " 'pos_diff_score': 0.21582188321455975,\n",
      " 'rel_dist_diff_score': 0.17361659695172632,\n",
      " 'size_diff_score': 0.17008216661845418}\n"
     ]
    },
    {
     "data": {
      "text/html": [
       "<table><tr><td><img style='width:100px' src='./saved_designs/exported_from_scout (99)/import_these_into_xd/design-canvas-7304405049fc487a91ca6165424c0b0c.svg'/></td>\n",
       "                               <td><img style='width:100px' src='./saved_designs/exported_from_scout (99)/import_these_into_xd/design-canvas-83903cdc8136490e90c180d73dd2c09d.svg'/></td></tr></table>"
      ],
      "text/plain": [
       "<IPython.core.display.HTML object>"
      ]
     },
     "metadata": {},
     "output_type": "display_data"
    },
    {
     "name": "stdout",
     "output_type": "stream",
     "text": [
      "\n",
      "# diversity score 0.694722286008248\n",
      "# score details\n",
      "{'alt_group_score': 0.07692307692307693,\n",
      " 'pos_diff_score': 0.23740616076745905,\n",
      " 'rel_dist_diff_score': 0.18045644527113844,\n",
      " 'size_diff_score': 0.09996830152328678}\n"
     ]
    },
    {
     "data": {
      "text/html": [
       "<table><tr><td><img style='width:100px' src='./saved_designs/exported_from_scout (99)/import_these_into_xd/design-canvas-be478c6373164bc4b96bbccf5b367f9b.svg'/></td>\n",
       "                               <td><img style='width:100px' src='./saved_designs/exported_from_scout (99)/import_these_into_xd/design-canvas-a52759ae3c2e49b9a50e2bfa69918a07.svg'/></td></tr></table>"
      ],
      "text/plain": [
       "<IPython.core.display.HTML object>"
      ]
     },
     "metadata": {},
     "output_type": "display_data"
    },
    {
     "name": "stdout",
     "output_type": "stream",
     "text": [
      "\n"
     ]
    }
   ],
   "source": [
    "import cost_model\n",
    "import os\n",
    "import json\n",
    "import sys\n",
    "\n",
    "from pprint import pprint\n",
    "from IPython.display import SVG, display, HTML\n",
    "\n",
    "def show_svg(url1, url2):\n",
    "    display(HTML(\"\"\"<table><tr><td><img style='width:100px' src='{}'/></td>\n",
    "                               <td><img style='width:100px' src='{}'/></td></tr></table>\"\"\".format(url1, url2)))\n",
    "\n",
    "# the folder containing all exports\n",
    "export_dir = \"./saved_designs\"\n",
    "\n",
    "def load_design(design_dir):\n",
    "    \"\"\"the directory containing exported designs\"\"\"\n",
    "\n",
    "    design = {}\n",
    "    # load saved designs and trashed designs\n",
    "    with open(os.path.join(design_dir, \"saved.json\")) as f:\n",
    "        design[\"saved\"] = json.load(f)[\"saved\"]\n",
    "    with open(os.path.join(design_dir, \"trashed.json\")) as f:\n",
    "        design[\"trashed\"] = json.load(f)[\"trashed\"]\n",
    "\n",
    "    # load paths for saved svgs, relates to saved designs by their canvas ids\n",
    "    svg_dir = os.path.join(design_dir, \"saved_svgs\")\n",
    "    if not os.path.isdir(svg_dir):\n",
    "        svg_dir = os.path.join(design_dir, \"import_these_into_xd\")\n",
    "    design[\"svg_paths\"] = {}\n",
    "    for fname in os.listdir(svg_dir):\n",
    "        if fname.endswith(\".svg\"):\n",
    "            design_id = fname.split(\".\")[0].split(\"-\")[-1]\n",
    "            design[\"svg_paths\"][design_id] = os.path.join(svg_dir, fname)\n",
    "\n",
    "    design[\"dirname\"] = design_dir\n",
    "    return design\n",
    "\n",
    "def analyze_design(design):\n",
    "    # for each pair of saved designs, display their diversity score as well as svgs\n",
    "    \n",
    "    raw_diversity_score = {}\n",
    "    \n",
    "    if len(design[\"saved\"]) == 1:\n",
    "        print(\"[error] this directory contains only 1 saved desigsn.\")\n",
    "        return\n",
    "    \n",
    "    for i in range(len(design[\"saved\"])):\n",
    "        for j in range(i + 1, len(design[\"saved\"])):\n",
    "            di, dj = design[\"saved\"][i], design[\"saved\"][j]\n",
    "            #diversity_score, diff = cost_model.compute_diversity_score(di[\"elements\"], dj[\"elements\"])\n",
    "            raw_diversity_score[(i, j)] = cost_model.compute_unnormalized_diversity_score(\n",
    "                di[\"elements\"], dj[\"elements\"])\n",
    "\n",
    "    final_scores = cost_model.normalize_diversity_scores(raw_diversity_score)\n",
    "    \n",
    "    design_pairs = []\n",
    "    for pair_id in final_scores:\n",
    "        i,j = pair_id\n",
    "        score = (final_scores[pair_id][\"alt_group_score\"] \n",
    "                    + final_scores[pair_id][\"pos_diff_score\"] \n",
    "                    + final_scores[pair_id][\"rel_dist_diff_score\"] \n",
    "                    + 2 * final_scores[pair_id][\"size_diff_score\"])\n",
    "        design_pair = {\n",
    "            \"score\": score,\n",
    "            \"score_detail\": final_scores[pair_id],\n",
    "            \"di\": design[\"saved\"][i],\n",
    "            \"dj\": design[\"saved\"][j],\n",
    "        }\n",
    "        \n",
    "        design_pairs.append(design_pair)\n",
    "\n",
    "    design_pairs.sort(key=lambda x: x['score'], reverse=True)\n",
    "    for pair in design_pairs: \n",
    "        no_svg_to_display = False\n",
    "        di = pair['di']\n",
    "        dj = pair['dj']\n",
    "        for d in [di, dj]:\n",
    "            if d[\"id\"] not in design[\"svg_paths\"]:\n",
    "                #print(\"  [Error] no svg for id {}\".format(d[\"id\"]))\n",
    "                no_svg_to_display = True\n",
    "\n",
    "        if no_svg_to_display:\n",
    "            #print(\"  \" + design[\"dirname\"])\n",
    "            continue\n",
    "        score = pair['score']\n",
    "        score_detail = pair['score_detail']\n",
    "        print(\"# diversity score {}\".format(score))\n",
    "        print(\"# score details\")\n",
    "        pprint(score_detail)\n",
    "\n",
    "        svg_i = design[\"svg_paths\"][di[\"id\"]]\n",
    "        svg_j = design[\"svg_paths\"][dj[\"id\"]]\n",
    "        show_svg(svg_i, svg_j)\n",
    "        print(\"\")\n",
    "            \n",
    "# iterate over all exported deisngs\n",
    "for dirname in os.listdir(export_dir):\n",
    "    design_dir = os.path.join(export_dir, dirname)\n",
    "    if not os.path.isdir(design_dir):\n",
    "        continue\n",
    "    designs = load_design(design_dir)\n",
    "    \n",
    "    print(\"==============\")\n",
    "    print(\"## Analyzing {} ...\".format(dirname))\n",
    "    analyze_design(designs)"
   ]
  }
 ],
 "metadata": {
  "kernelspec": {
   "display_name": "Python 3",
   "language": "python",
   "name": "python3"
  },
  "language_info": {
   "codemirror_mode": {
    "name": "ipython",
    "version": 3
   },
   "file_extension": ".py",
   "mimetype": "text/x-python",
   "name": "python",
   "nbconvert_exporter": "python",
   "pygments_lexer": "ipython3",
   "version": "3.7.1"
  }
 },
 "nbformat": 4,
 "nbformat_minor": 2
}
