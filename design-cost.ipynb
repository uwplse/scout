{
 "cells": [
  {
   "cell_type": "code",
   "execution_count": 2,
   "metadata": {
    "scrolled": false
   },
   "outputs": [
    {
     "name": "stdout",
     "output_type": "stream",
     "text": [
      "analyzing\n",
      "# Diversity score 0.7015723726908136\n",
      "# Diff {'size': 0.09933259470296509, 'pos': 0.42779399807331875, 'neighbors': 0.17444577991452992, 'alts': 0.0}\n"
     ]
    },
    {
     "data": {
      "text/html": [
       "<table><tr><td><img style='width:100px' src='./saved_designs/exported_from_scout (98)/import_these_into_xd/design-canvas-7304405049fc487a91ca6165424c0b0c.svg'/></td>\n",
       "                               <td><img style='width:100px' src='./saved_designs/exported_from_scout (98)/import_these_into_xd/design-canvas-1ae0e35d0b2d43028cddacd7a035b17d.svg'/></td></tr></table>"
      ],
      "text/plain": [
       "<IPython.core.display.HTML object>"
      ]
     },
     "metadata": {},
     "output_type": "display_data"
    },
    {
     "name": "stdout",
     "output_type": "stream",
     "text": [
      "\n",
      "# Diversity score 0.6837611701357372\n",
      "# Diff {'size': 0.00630724279372928, 'pos': 0.3950287136667941, 'neighbors': 0.20550213675213677, 'alts': 0.07692307692307693}\n"
     ]
    },
    {
     "data": {
      "text/html": [
       "<table><tr><td><img style='width:100px' src='./saved_designs/exported_from_scout (98)/import_these_into_xd/design-canvas-be478c6373164bc4b96bbccf5b367f9b.svg'/></td>\n",
       "                               <td><img style='width:100px' src='./saved_designs/exported_from_scout (98)/import_these_into_xd/design-canvas-83903cdc8136490e90c180d73dd2c09d.svg'/></td></tr></table>"
      ],
      "text/plain": [
       "<IPython.core.display.HTML object>"
      ]
     },
     "metadata": {},
     "output_type": "display_data"
    },
    {
     "name": "stdout",
     "output_type": "stream",
     "text": [
      "\n",
      "# Diversity score 0.6736971455482043\n",
      "# Diff {'size': 0.08042085744788448, 'pos': 0.2606240445105762, 'neighbors': 0.2557291666666667, 'alts': 0.07692307692307693}\n"
     ]
    },
    {
     "data": {
      "text/html": [
       "<table><tr><td><img style='width:100px' src='./saved_designs/exported_from_scout (98)/import_these_into_xd/design-canvas-1ae0e35d0b2d43028cddacd7a035b17d.svg'/></td>\n",
       "                               <td><img style='width:100px' src='./saved_designs/exported_from_scout (98)/import_these_into_xd/design-canvas-be478c6373164bc4b96bbccf5b367f9b.svg'/></td></tr></table>"
      ],
      "text/plain": [
       "<IPython.core.display.HTML object>"
      ]
     },
     "metadata": {},
     "output_type": "display_data"
    },
    {
     "name": "stdout",
     "output_type": "stream",
     "text": [
      "\n",
      "# Diversity score 0.6555396012450008\n",
      "# Diff {'size': 0.09065432376243189, 'pos': 0.28543148474752617, 'neighbors': 0.2794537927350427, 'alts': 0.0}\n"
     ]
    },
    {
     "data": {
      "text/html": [
       "<table><tr><td><img style='width:100px' src='./saved_designs/exported_from_scout (98)/import_these_into_xd/design-canvas-1ae0e35d0b2d43028cddacd7a035b17d.svg'/></td>\n",
       "                               <td><img style='width:100px' src='./saved_designs/exported_from_scout (98)/import_these_into_xd/design-canvas-a52759ae3c2e49b9a50e2bfa69918a07.svg'/></td></tr></table>"
      ],
      "text/plain": [
       "<IPython.core.display.HTML object>"
      ]
     },
     "metadata": {},
     "output_type": "display_data"
    },
    {
     "name": "stdout",
     "output_type": "stream",
     "text": [
      "\n",
      "# Diversity score 0.6329461495574206\n",
      "# Diff {'size': 0.04448081137270325, 'pos': 0.3064007014325805, 'neighbors': 0.20514155982905982, 'alts': 0.07692307692307693}\n"
     ]
    },
    {
     "data": {
      "text/html": [
       "<table><tr><td><img style='width:100px' src='./saved_designs/exported_from_scout (98)/import_these_into_xd/design-canvas-7304405049fc487a91ca6165424c0b0c.svg'/></td>\n",
       "                               <td><img style='width:100px' src='./saved_designs/exported_from_scout (98)/import_these_into_xd/design-canvas-be478c6373164bc4b96bbccf5b367f9b.svg'/></td></tr></table>"
      ],
      "text/plain": [
       "<IPython.core.display.HTML object>"
      ]
     },
     "metadata": {},
     "output_type": "display_data"
    },
    {
     "name": "stdout",
     "output_type": "stream",
     "text": [
      "\n",
      "# Diversity score 0.5844122856428228\n",
      "# Diff {'size': 0.08637691745799854, 'pos': 0.3091998980993541, 'neighbors': 0.18883547008547014, 'alts': 0.0}\n"
     ]
    },
    {
     "data": {
      "text/html": [
       "<table><tr><td><img style='width:100px' src='./saved_designs/exported_from_scout (98)/import_these_into_xd/design-canvas-1ae0e35d0b2d43028cddacd7a035b17d.svg'/></td>\n",
       "                               <td><img style='width:100px' src='./saved_designs/exported_from_scout (98)/import_these_into_xd/design-canvas-83903cdc8136490e90c180d73dd2c09d.svg'/></td></tr></table>"
      ],
      "text/plain": [
       "<IPython.core.display.HTML object>"
      ]
     },
     "metadata": {},
     "output_type": "display_data"
    },
    {
     "name": "stdout",
     "output_type": "stream",
     "text": [
      "\n",
      "# Diversity score 0.5720920553413512\n",
      "# Diff {'size': 0.0195046918019891, 'pos': 0.28136674388124244, 'neighbors': 0.2712206196581196, 'alts': 0.0}\n"
     ]
    },
    {
     "data": {
      "text/html": [
       "<table><tr><td><img style='width:100px' src='./saved_designs/exported_from_scout (98)/import_these_into_xd/design-canvas-a52759ae3c2e49b9a50e2bfa69918a07.svg'/></td>\n",
       "                               <td><img style='width:100px' src='./saved_designs/exported_from_scout (98)/import_these_into_xd/design-canvas-83903cdc8136490e90c180d73dd2c09d.svg'/></td></tr></table>"
      ],
      "text/plain": [
       "<IPython.core.display.HTML object>"
      ]
     },
     "metadata": {},
     "output_type": "display_data"
    },
    {
     "name": "stdout",
     "output_type": "stream",
     "text": [
      "\n",
      "# Diversity score 0.5664182958643225\n",
      "# Diff {'size': 0.01373124683935495, 'pos': 0.1987807990249676, 'neighbors': 0.27698317307692305, 'alts': 0.07692307692307693}\n"
     ]
    },
    {
     "data": {
      "text/html": [
       "<table><tr><td><img style='width:100px' src='./saved_designs/exported_from_scout (98)/import_these_into_xd/design-canvas-be478c6373164bc4b96bbccf5b367f9b.svg'/></td>\n",
       "                               <td><img style='width:100px' src='./saved_designs/exported_from_scout (98)/import_these_into_xd/design-canvas-a52759ae3c2e49b9a50e2bfa69918a07.svg'/></td></tr></table>"
      ],
      "text/plain": [
       "<IPython.core.display.HTML object>"
      ]
     },
     "metadata": {},
     "output_type": "display_data"
    },
    {
     "name": "stdout",
     "output_type": "stream",
     "text": [
      "\n",
      "# Diversity score 0.538143562236171\n",
      "# Diff {'size': 0.05812777434399059, 'pos': 0.23503047806312052, 'neighbors': 0.2449853098290598, 'alts': 0.0}\n"
     ]
    },
    {
     "data": {
      "text/html": [
       "<table><tr><td><img style='width:100px' src='./saved_designs/exported_from_scout (98)/import_these_into_xd/design-canvas-7304405049fc487a91ca6165424c0b0c.svg'/></td>\n",
       "                               <td><img style='width:100px' src='./saved_designs/exported_from_scout (98)/import_these_into_xd/design-canvas-a52759ae3c2e49b9a50e2bfa69918a07.svg'/></td></tr></table>"
      ],
      "text/plain": [
       "<IPython.core.display.HTML object>"
      ]
     },
     "metadata": {},
     "output_type": "display_data"
    },
    {
     "name": "stdout",
     "output_type": "stream",
     "text": [
      "\n",
      "# Diversity score 0.43951892992512714\n",
      "# Diff {'size': 0.039746867449570164, 'pos': 0.18070822700547143, 'neighbors': 0.21906383547008548, 'alts': 0.0}\n"
     ]
    },
    {
     "data": {
      "text/html": [
       "<table><tr><td><img style='width:100px' src='./saved_designs/exported_from_scout (98)/import_these_into_xd/design-canvas-7304405049fc487a91ca6165424c0b0c.svg'/></td>\n",
       "                               <td><img style='width:100px' src='./saved_designs/exported_from_scout (98)/import_these_into_xd/design-canvas-83903cdc8136490e90c180d73dd2c09d.svg'/></td></tr></table>"
      ],
      "text/plain": [
       "<IPython.core.display.HTML object>"
      ]
     },
     "metadata": {},
     "output_type": "display_data"
    },
    {
     "name": "stdout",
     "output_type": "stream",
     "text": [
      "\n",
      "analyzing\n",
      "# Diversity score 0.5900066961772917\n",
      "# Diff {'size': 0.19635944538288289, 'pos': 0.12667133933607552, 'neighbors': 0.26697591145833327, 'alts': 0.0}\n"
     ]
    },
    {
     "data": {
      "text/html": [
       "<table><tr><td><img style='width:100px' src='./saved_designs/exported_from_scout (57)/saved_svgs/design-canvas-1417ed8f406445ecb533001d8ef9fa51.svg'/></td>\n",
       "                               <td><img style='width:100px' src='./saved_designs/exported_from_scout (57)/saved_svgs/design-canvas-ad7a0da9fdd84b428da74b191e69b4db.svg'/></td></tr></table>"
      ],
      "text/plain": [
       "<IPython.core.display.HTML object>"
      ]
     },
     "metadata": {},
     "output_type": "display_data"
    },
    {
     "name": "stdout",
     "output_type": "stream",
     "text": [
      "\n",
      "# Diversity score 0.5724307626224057\n",
      "# Diff {'size': 0.17387462797619047, 'pos': 0.1446987127712152, 'neighbors': 0.25385742187500004, 'alts': 0.0}\n"
     ]
    },
    {
     "data": {
      "text/html": [
       "<table><tr><td><img style='width:100px' src='./saved_designs/exported_from_scout (57)/saved_svgs/design-canvas-76c3faac7a3b468da89750b7d383a06a.svg'/></td>\n",
       "                               <td><img style='width:100px' src='./saved_designs/exported_from_scout (57)/saved_svgs/design-canvas-ad7a0da9fdd84b428da74b191e69b4db.svg'/></td></tr></table>"
      ],
      "text/plain": [
       "<IPython.core.display.HTML object>"
      ]
     },
     "metadata": {},
     "output_type": "display_data"
    },
    {
     "name": "stdout",
     "output_type": "stream",
     "text": [
      "\n",
      "# Diversity score 0.4628091789935941\n",
      "# Diff {'size': 0.12297453703703703, 'pos': 0.15120345706072374, 'neighbors': 0.18863118489583336, 'alts': 0.0}\n"
     ]
    },
    {
     "data": {
      "text/html": [
       "<table><tr><td><img style='width:100px' src='./saved_designs/exported_from_scout (57)/saved_svgs/design-canvas-7c1f4a506b734056a357af024a21acbd.svg'/></td>\n",
       "                               <td><img style='width:100px' src='./saved_designs/exported_from_scout (57)/saved_svgs/design-canvas-76c3faac7a3b468da89750b7d383a06a.svg'/></td></tr></table>"
      ],
      "text/plain": [
       "<IPython.core.display.HTML object>"
      ]
     },
     "metadata": {},
     "output_type": "display_data"
    },
    {
     "name": "stdout",
     "output_type": "stream",
     "text": [
      "\n",
      "# Diversity score 0.39445473292450395\n",
      "# Diff {'size': 0.05848817567567567, 'pos': 0.13337052860299498, 'neighbors': 0.20259602864583334, 'alts': 0.0}\n"
     ]
    },
    {
     "data": {
      "text/html": [
       "<table><tr><td><img style='width:100px' src='./saved_designs/exported_from_scout (57)/saved_svgs/design-canvas-7c1f4a506b734056a357af024a21acbd.svg'/></td>\n",
       "                               <td><img style='width:100px' src='./saved_designs/exported_from_scout (57)/saved_svgs/design-canvas-1417ed8f406445ecb533001d8ef9fa51.svg'/></td></tr></table>"
      ],
      "text/plain": [
       "<IPython.core.display.HTML object>"
      ]
     },
     "metadata": {},
     "output_type": "display_data"
    },
    {
     "name": "stdout",
     "output_type": "stream",
     "text": [
      "\n",
      "# Diversity score 0.3934078324870102\n",
      "# Diff {'size': 0.15096028645833334, 'pos': 0.08805030210506573, 'neighbors': 0.1543972439236111, 'alts': 0.0}\n"
     ]
    },
    {
     "data": {
      "text/html": [
       "<table><tr><td><img style='width:100px' src='./saved_designs/exported_from_scout (57)/saved_svgs/design-canvas-7c1f4a506b734056a357af024a21acbd.svg'/></td>\n",
       "                               <td><img style='width:100px' src='./saved_designs/exported_from_scout (57)/saved_svgs/design-canvas-ad7a0da9fdd84b428da74b191e69b4db.svg'/></td></tr></table>"
      ],
      "text/plain": [
       "<IPython.core.display.HTML object>"
      ]
     },
     "metadata": {},
     "output_type": "display_data"
    },
    {
     "name": "stdout",
     "output_type": "stream",
     "text": [
      "\n",
      "# Diversity score 0.35501181520523845\n",
      "# Diff {'size': 0.16462556306306309, 'pos': 0.13640404728106423, 'neighbors': 0.053982204861111105, 'alts': 0.0}\n"
     ]
    },
    {
     "data": {
      "text/html": [
       "<table><tr><td><img style='width:100px' src='./saved_designs/exported_from_scout (57)/saved_svgs/design-canvas-76c3faac7a3b468da89750b7d383a06a.svg'/></td>\n",
       "                               <td><img style='width:100px' src='./saved_designs/exported_from_scout (57)/saved_svgs/design-canvas-1417ed8f406445ecb533001d8ef9fa51.svg'/></td></tr></table>"
      ],
      "text/plain": [
       "<IPython.core.display.HTML object>"
      ]
     },
     "metadata": {},
     "output_type": "display_data"
    },
    {
     "name": "stdout",
     "output_type": "stream",
     "text": [
      "\n",
      "analyzing\n",
      "# Diversity score 0.9591249529996038\n",
      "# Diff {'size': 0.2469646799116999, 'pos': 0.4100244947314226, 'neighbors': 0.3021357783564815, 'alts': 0.0}\n"
     ]
    },
    {
     "data": {
      "text/html": [
       "<table><tr><td><img style='width:100px' src='./saved_designs/ScoutExports_p7/saved_svgs/design-canvas-85dcd017a2cc43cdb43601efcc980ca3.svg'/></td>\n",
       "                               <td><img style='width:100px' src='./saved_designs/ScoutExports_p7/saved_svgs/design-canvas-9249b8a98c0f426aa223c268bd5cb31c.svg'/></td></tr></table>"
      ],
      "text/plain": [
       "<IPython.core.display.HTML object>"
      ]
     },
     "metadata": {},
     "output_type": "display_data"
    },
    {
     "name": "stdout",
     "output_type": "stream",
     "text": [
      "\n",
      "# Diversity score 0.9511974572299976\n",
      "# Diff {'size': 0.24381127450980392, 'pos': 0.45753809244241594, 'neighbors': 0.24984809027777777, 'alts': 0.0}\n"
     ]
    },
    {
     "data": {
      "text/html": [
       "<table><tr><td><img style='width:100px' src='./saved_designs/ScoutExports_p7/saved_svgs/design-canvas-9332a26dc98c431aa15252e8a2891ecb.svg'/></td>\n",
       "                               <td><img style='width:100px' src='./saved_designs/ScoutExports_p7/saved_svgs/design-canvas-9249b8a98c0f426aa223c268bd5cb31c.svg'/></td></tr></table>"
      ],
      "text/plain": [
       "<IPython.core.display.HTML object>"
      ]
     },
     "metadata": {},
     "output_type": "display_data"
    },
    {
     "name": "stdout",
     "output_type": "stream",
     "text": [
      "\n",
      "# Diversity score 0.8119008899220944\n",
      "# Diff {'size': 0.2689214758751183, 'pos': 0.2670878486534577, 'neighbors': 0.2758915653935185, 'alts': 0.0}\n"
     ]
    },
    {
     "data": {
      "text/html": [
       "<table><tr><td><img style='width:100px' src='./saved_designs/ScoutExports_p7/saved_svgs/design-canvas-85dcd017a2cc43cdb43601efcc980ca3.svg'/></td>\n",
       "                               <td><img style='width:100px' src='./saved_designs/ScoutExports_p7/saved_svgs/design-canvas-9332a26dc98c431aa15252e8a2891ecb.svg'/></td></tr></table>"
      ],
      "text/plain": [
       "<IPython.core.display.HTML object>"
      ]
     },
     "metadata": {},
     "output_type": "display_data"
    },
    {
     "name": "stdout",
     "output_type": "stream",
     "text": [
      "\n",
      "# Diversity score 0.8066591303026495\n",
      "# Diff {'size': 0.26286764705882354, 'pos': 0.262393190419752, 'neighbors': 0.2813982928240741, 'alts': 0.0}\n"
     ]
    },
    {
     "data": {
      "text/html": [
       "<table><tr><td><img style='width:100px' src='./saved_designs/ScoutExports_p7/saved_svgs/design-canvas-9332a26dc98c431aa15252e8a2891ecb.svg'/></td>\n",
       "                               <td><img style='width:100px' src='./saved_designs/ScoutExports_p7/saved_svgs/design-canvas-503984a0c5bb4359b998ec0c721f1a9f.svg'/></td></tr></table>"
      ],
      "text/plain": [
       "<IPython.core.display.HTML object>"
      ]
     },
     "metadata": {},
     "output_type": "display_data"
    },
    {
     "name": "stdout",
     "output_type": "stream",
     "text": [
      "\n",
      "# Diversity score 0.8001954075622465\n",
      "# Diff {'size': 0.2338379060233365, 'pos': 0.24937073938613227, 'neighbors': 0.3169867621527778, 'alts': 0.0}\n"
     ]
    },
    {
     "data": {
      "text/html": [
       "<table><tr><td><img style='width:100px' src='./saved_designs/ScoutExports_p7/saved_svgs/design-canvas-85dcd017a2cc43cdb43601efcc980ca3.svg'/></td>\n",
       "                               <td><img style='width:100px' src='./saved_designs/ScoutExports_p7/saved_svgs/design-canvas-503984a0c5bb4359b998ec0c721f1a9f.svg'/></td></tr></table>"
      ],
      "text/plain": [
       "<IPython.core.display.HTML object>"
      ]
     },
     "metadata": {},
     "output_type": "display_data"
    },
    {
     "name": "stdout",
     "output_type": "stream",
     "text": [
      "\n",
      "# Diversity score 0.6325392058359999\n",
      "# Diff {'size': 0.16164361001317523, 'pos': 0.31169782383208383, 'neighbors': 0.15919777199074076, 'alts': 0.0}\n"
     ]
    },
    {
     "data": {
      "text/html": [
       "<table><tr><td><img style='width:100px' src='./saved_designs/ScoutExports_p7/saved_svgs/design-canvas-503984a0c5bb4359b998ec0c721f1a9f.svg'/></td>\n",
       "                               <td><img style='width:100px' src='./saved_designs/ScoutExports_p7/saved_svgs/design-canvas-9249b8a98c0f426aa223c268bd5cb31c.svg'/></td></tr></table>"
      ],
      "text/plain": [
       "<IPython.core.display.HTML object>"
      ]
     },
     "metadata": {},
     "output_type": "display_data"
    },
    {
     "name": "stdout",
     "output_type": "stream",
     "text": [
      "\n",
      "analyzing\n",
      "# Diversity score 0.8184760604670075\n",
      "# Diff {'size': 0.1699165041747913, 'pos': 0.4077356268940681, 'neighbors': 0.24082392939814815, 'alts': 0.0}\n"
     ]
    },
    {
     "data": {
      "text/html": [
       "<table><tr><td><img style='width:100px' src='./saved_designs/exported_from_scout (60)/saved_svgs/design-canvas-ede37baa7eee4f32a2ef6e5f790c99d5.svg'/></td>\n",
       "                               <td><img style='width:100px' src='./saved_designs/exported_from_scout (60)/saved_svgs/design-canvas-3db107c6701b45c686a7818eb951a6fb.svg'/></td></tr></table>"
      ],
      "text/plain": [
       "<IPython.core.display.HTML object>"
      ]
     },
     "metadata": {},
     "output_type": "display_data"
    },
    {
     "name": "stdout",
     "output_type": "stream",
     "text": [
      "\n",
      "# Diversity score 0.7339852767785996\n",
      "# Diff {'size': 0.08998785408432149, 'pos': 0.3790741009350189, 'neighbors': 0.26492332175925926, 'alts': 0.0}\n"
     ]
    },
    {
     "data": {
      "text/html": [
       "<table><tr><td><img style='width:100px' src='./saved_designs/exported_from_scout (60)/saved_svgs/design-canvas-f9f7c67b927742af95edbd30ea972096.svg'/></td>\n",
       "                               <td><img style='width:100px' src='./saved_designs/exported_from_scout (60)/saved_svgs/design-canvas-3db107c6701b45c686a7818eb951a6fb.svg'/></td></tr></table>"
      ],
      "text/plain": [
       "<IPython.core.display.HTML object>"
      ]
     },
     "metadata": {},
     "output_type": "display_data"
    },
    {
     "name": "stdout",
     "output_type": "stream",
     "text": [
      "\n",
      "# Diversity score 0.5902227819716895\n",
      "# Diff {'size': 0.09864439229249013, 'pos': 0.32329496954031056, 'neighbors': 0.16828342013888886, 'alts': 0.0}\n"
     ]
    },
    {
     "data": {
      "text/html": [
       "<table><tr><td><img style='width:100px' src='./saved_designs/exported_from_scout (60)/saved_svgs/design-canvas-ede37baa7eee4f32a2ef6e5f790c99d5.svg'/></td>\n",
       "                               <td><img style='width:100px' src='./saved_designs/exported_from_scout (60)/saved_svgs/design-canvas-f9f7c67b927742af95edbd30ea972096.svg'/></td></tr></table>"
      ],
      "text/plain": [
       "<IPython.core.display.HTML object>"
      ]
     },
     "metadata": {},
     "output_type": "display_data"
    },
    {
     "name": "stdout",
     "output_type": "stream",
     "text": [
      "\n",
      "analyzing\n",
      "# Diversity score 0.7634641726832371\n",
      "# Diff {'size': 0.30977590460526316, 'pos': 0.1297380727654739, 'neighbors': 0.19895019531250002, 'alts': 0.125}\n"
     ]
    },
    {
     "data": {
      "text/html": [
       "<table><tr><td><img style='width:100px' src='./saved_designs/exported_from_scout (27)/saved_svgs/design-canvas-70242e15df9d48559e4c4e6903cfb320.svg'/></td>\n",
       "                               <td><img style='width:100px' src='./saved_designs/exported_from_scout (27)/saved_svgs/design-canvas-3d18296d94404f618556683f2407b007.svg'/></td></tr></table>"
      ],
      "text/plain": [
       "<IPython.core.display.HTML object>"
      ]
     },
     "metadata": {},
     "output_type": "display_data"
    },
    {
     "name": "stdout",
     "output_type": "stream",
     "text": [
      "\n",
      "# Diversity score 0.7106552715998173\n",
      "# Diff {'size': 0.3377364309210526, 'pos': 0.19748210022737583, 'neighbors': 0.1754367404513889, 'alts': 0.0}\n"
     ]
    },
    {
     "data": {
      "text/html": [
       "<table><tr><td><img style='width:100px' src='./saved_designs/exported_from_scout (27)/saved_svgs/design-canvas-70242e15df9d48559e4c4e6903cfb320.svg'/></td>\n",
       "                               <td><img style='width:100px' src='./saved_designs/exported_from_scout (27)/saved_svgs/design-canvas-2379e0aee985456a926b0cecfe11b6d6.svg'/></td></tr></table>"
      ],
      "text/plain": [
       "<IPython.core.display.HTML object>"
      ]
     },
     "metadata": {},
     "output_type": "display_data"
    },
    {
     "name": "stdout",
     "output_type": "stream",
     "text": [
      "\n",
      "# Diversity score 0.7066861740322662\n",
      "# Diff {'size': 0.2766051136363636, 'pos': 0.0889732044931247, 'neighbors': 0.21610785590277776, 'alts': 0.125}\n"
     ]
    },
    {
     "data": {
      "text/html": [
       "<table><tr><td><img style='width:100px' src='./saved_designs/exported_from_scout (27)/saved_svgs/design-canvas-70242e15df9d48559e4c4e6903cfb320.svg'/></td>\n",
       "                               <td><img style='width:100px' src='./saved_designs/exported_from_scout (27)/saved_svgs/design-canvas-c7c1d6eae7ca4644a29aa15a33cd4a1d.svg'/></td></tr></table>"
      ],
      "text/plain": [
       "<IPython.core.display.HTML object>"
      ]
     },
     "metadata": {},
     "output_type": "display_data"
    },
    {
     "name": "stdout",
     "output_type": "stream",
     "text": [
      "\n",
      "# Diversity score 0.5958410179719222\n",
      "# Diff {'size': 0.18059260670731708, 'pos': 0.11229430970210513, 'neighbors': 0.17795410156250002, 'alts': 0.125}\n"
     ]
    },
    {
     "data": {
      "text/html": [
       "<table><tr><td><img style='width:100px' src='./saved_designs/exported_from_scout (27)/saved_svgs/design-canvas-70242e15df9d48559e4c4e6903cfb320.svg'/></td>\n",
       "                               <td><img style='width:100px' src='./saved_designs/exported_from_scout (27)/saved_svgs/design-canvas-a92d3607a3fb498398ed0437348cf368.svg'/></td></tr></table>"
      ],
      "text/plain": [
       "<IPython.core.display.HTML object>"
      ]
     },
     "metadata": {},
     "output_type": "display_data"
    },
    {
     "name": "stdout",
     "output_type": "stream",
     "text": [
      "\n",
      "# Diversity score 0.5923276982011625\n",
      "# Diff {'size': 0.15377286585365854, 'pos': 0.16381524901417063, 'neighbors': 0.14973958333333334, 'alts': 0.125}\n"
     ]
    },
    {
     "data": {
      "text/html": [
       "<table><tr><td><img style='width:100px' src='./saved_designs/exported_from_scout (27)/saved_svgs/design-canvas-2379e0aee985456a926b0cecfe11b6d6.svg'/></td>\n",
       "                               <td><img style='width:100px' src='./saved_designs/exported_from_scout (27)/saved_svgs/design-canvas-a92d3607a3fb498398ed0437348cf368.svg'/></td></tr></table>"
      ],
      "text/plain": [
       "<IPython.core.display.HTML object>"
      ]
     },
     "metadata": {},
     "output_type": "display_data"
    },
    {
     "name": "stdout",
     "output_type": "stream",
     "text": [
      "\n",
      "# Diversity score 0.5903484739654815\n",
      "# Diff {'size': 0.18107954545454544, 'pos': 0.07944850750399163, 'neighbors': 0.20482042100694445, 'alts': 0.125}\n"
     ]
    },
    {
     "data": {
      "text/html": [
       "<table><tr><td><img style='width:100px' src='./saved_designs/exported_from_scout (27)/saved_svgs/design-canvas-c7c1d6eae7ca4644a29aa15a33cd4a1d.svg'/></td>\n",
       "                               <td><img style='width:100px' src='./saved_designs/exported_from_scout (27)/saved_svgs/design-canvas-9fc45ca457154bc19d99c5edcfbf3789.svg'/></td></tr></table>"
      ],
      "text/plain": [
       "<IPython.core.display.HTML object>"
      ]
     },
     "metadata": {},
     "output_type": "display_data"
    },
    {
     "name": "stdout",
     "output_type": "stream",
     "text": [
      "\n",
      "# Diversity score 0.5813214672036662\n",
      "# Diff {'size': 0.18980654761904764, 'pos': 0.09415706368184079, 'neighbors': 0.17235785590277777, 'alts': 0.125}\n"
     ]
    },
    {
     "data": {
      "text/html": [
       "<table><tr><td><img style='width:100px' src='./saved_designs/exported_from_scout (27)/saved_svgs/design-canvas-9fc45ca457154bc19d99c5edcfbf3789.svg'/></td>\n",
       "                               <td><img style='width:100px' src='./saved_designs/exported_from_scout (27)/saved_svgs/design-canvas-3d18296d94404f618556683f2407b007.svg'/></td></tr></table>"
      ],
      "text/plain": [
       "<IPython.core.display.HTML object>"
      ]
     },
     "metadata": {},
     "output_type": "display_data"
    },
    {
     "name": "stdout",
     "output_type": "stream",
     "text": [
      "\n",
      "# Diversity score 0.5459724509339453\n",
      "# Diff {'size': 0.11386363636363636, 'pos': 0.16095267307725342, 'neighbors': 0.14615614149305556, 'alts': 0.125}\n"
     ]
    },
    {
     "data": {
      "text/html": [
       "<table><tr><td><img style='width:100px' src='./saved_designs/exported_from_scout (27)/saved_svgs/design-canvas-c7c1d6eae7ca4644a29aa15a33cd4a1d.svg'/></td>\n",
       "                               <td><img style='width:100px' src='./saved_designs/exported_from_scout (27)/saved_svgs/design-canvas-2379e0aee985456a926b0cecfe11b6d6.svg'/></td></tr></table>"
      ],
      "text/plain": [
       "<IPython.core.display.HTML object>"
      ]
     },
     "metadata": {},
     "output_type": "display_data"
    },
    {
     "name": "stdout",
     "output_type": "stream",
     "text": [
      "\n",
      "# Diversity score 0.5052548849442656\n",
      "# Diff {'size': 0.10178571428571428, 'pos': 0.15775519496410687, 'neighbors': 0.12071397569444445, 'alts': 0.125}\n"
     ]
    },
    {
     "data": {
      "text/html": [
       "<table><tr><td><img style='width:100px' src='./saved_designs/exported_from_scout (27)/saved_svgs/design-canvas-2379e0aee985456a926b0cecfe11b6d6.svg'/></td>\n",
       "                               <td><img style='width:100px' src='./saved_designs/exported_from_scout (27)/saved_svgs/design-canvas-3d18296d94404f618556683f2407b007.svg'/></td></tr></table>"
      ],
      "text/plain": [
       "<IPython.core.display.HTML object>"
      ]
     },
     "metadata": {},
     "output_type": "display_data"
    },
    {
     "name": "stdout",
     "output_type": "stream",
     "text": [
      "\n",
      "# Diversity score 0.49950438185197477\n",
      "# Diff {'size': 0.09997459349593496, 'pos': 0.10211767898103978, 'neighbors': 0.17241210937499998, 'alts': 0.125}\n"
     ]
    },
    {
     "data": {
      "text/html": [
       "<table><tr><td><img style='width:100px' src='./saved_designs/exported_from_scout (27)/saved_svgs/design-canvas-9fc45ca457154bc19d99c5edcfbf3789.svg'/></td>\n",
       "                               <td><img style='width:100px' src='./saved_designs/exported_from_scout (27)/saved_svgs/design-canvas-a92d3607a3fb498398ed0437348cf368.svg'/></td></tr></table>"
      ],
      "text/plain": [
       "<IPython.core.display.HTML object>"
      ]
     },
     "metadata": {},
     "output_type": "display_data"
    },
    {
     "name": "stdout",
     "output_type": "stream",
     "text": [
      "\n",
      "# Diversity score 0.45805926927214197\n",
      "# Diff {'size': 0.2139014528508772, 'pos': 0.08291378430320924, 'neighbors': 0.16124403211805555, 'alts': 0.0}\n"
     ]
    },
    {
     "data": {
      "text/html": [
       "<table><tr><td><img style='width:100px' src='./saved_designs/exported_from_scout (27)/saved_svgs/design-canvas-70242e15df9d48559e4c4e6903cfb320.svg'/></td>\n",
       "                               <td><img style='width:100px' src='./saved_designs/exported_from_scout (27)/saved_svgs/design-canvas-9fc45ca457154bc19d99c5edcfbf3789.svg'/></td></tr></table>"
      ],
      "text/plain": [
       "<IPython.core.display.HTML object>"
      ]
     },
     "metadata": {},
     "output_type": "display_data"
    },
    {
     "name": "stdout",
     "output_type": "stream",
     "text": [
      "\n",
      "# Diversity score 0.4468645252977846\n",
      "# Diff {'size': 0.1209659090909091, 'pos': 0.1299540632554866, 'neighbors': 0.19594455295138888, 'alts': 0.0}\n"
     ]
    },
    {
     "data": {
      "text/html": [
       "<table><tr><td><img style='width:100px' src='./saved_designs/exported_from_scout (27)/saved_svgs/design-canvas-c7c1d6eae7ca4644a29aa15a33cd4a1d.svg'/></td>\n",
       "                               <td><img style='width:100px' src='./saved_designs/exported_from_scout (27)/saved_svgs/design-canvas-a92d3607a3fb498398ed0437348cf368.svg'/></td></tr></table>"
      ],
      "text/plain": [
       "<IPython.core.display.HTML object>"
      ]
     },
     "metadata": {},
     "output_type": "display_data"
    },
    {
     "name": "stdout",
     "output_type": "stream",
     "text": [
      "\n",
      "# Diversity score 0.4101694303091078\n",
      "# Diff {'size': 0.13444940476190476, 'pos': 0.15400236061664752, 'neighbors': 0.12171766493055555, 'alts': 0.0}\n"
     ]
    },
    {
     "data": {
      "text/html": [
       "<table><tr><td><img style='width:100px' src='./saved_designs/exported_from_scout (27)/saved_svgs/design-canvas-9fc45ca457154bc19d99c5edcfbf3789.svg'/></td>\n",
       "                               <td><img style='width:100px' src='./saved_designs/exported_from_scout (27)/saved_svgs/design-canvas-2379e0aee985456a926b0cecfe11b6d6.svg'/></td></tr></table>"
      ],
      "text/plain": [
       "<IPython.core.display.HTML object>"
      ]
     },
     "metadata": {},
     "output_type": "display_data"
    },
    {
     "name": "stdout",
     "output_type": "stream",
     "text": [
      "\n",
      "# Diversity score 0.3153824081305845\n",
      "# Diff {'size': 0.12785823170731708, 'pos': 0.11419518336771188, 'neighbors': 0.07332899305555556, 'alts': 0.0}\n"
     ]
    },
    {
     "data": {
      "text/html": [
       "<table><tr><td><img style='width:100px' src='./saved_designs/exported_from_scout (27)/saved_svgs/design-canvas-a92d3607a3fb498398ed0437348cf368.svg'/></td>\n",
       "                               <td><img style='width:100px' src='./saved_designs/exported_from_scout (27)/saved_svgs/design-canvas-3d18296d94404f618556683f2407b007.svg'/></td></tr></table>"
      ],
      "text/plain": [
       "<IPython.core.display.HTML object>"
      ]
     },
     "metadata": {},
     "output_type": "display_data"
    },
    {
     "name": "stdout",
     "output_type": "stream",
     "text": [
      "\n",
      "# Diversity score 0.2978932437257446\n",
      "# Diff {'size': 0.0525, 'pos': 0.08037316994102238, 'neighbors': 0.16502007378472222, 'alts': 0.0}\n"
     ]
    },
    {
     "data": {
      "text/html": [
       "<table><tr><td><img style='width:100px' src='./saved_designs/exported_from_scout (27)/saved_svgs/design-canvas-c7c1d6eae7ca4644a29aa15a33cd4a1d.svg'/></td>\n",
       "                               <td><img style='width:100px' src='./saved_designs/exported_from_scout (27)/saved_svgs/design-canvas-3d18296d94404f618556683f2407b007.svg'/></td></tr></table>"
      ],
      "text/plain": [
       "<IPython.core.display.HTML object>"
      ]
     },
     "metadata": {},
     "output_type": "display_data"
    },
    {
     "name": "stdout",
     "output_type": "stream",
     "text": [
      "\n",
      "analyzing\n",
      "# Diversity score 0.9286722398108647\n",
      "# Diff {'size': 0.11239059906443337, 'pos': 0.46039694745939425, 'neighbors': 0.27255135995370366, 'alts': 0.08333333333333333}\n"
     ]
    },
    {
     "data": {
      "text/html": [
       "<table><tr><td><img style='width:100px' src='./saved_designs/exported_from_scout - 2019-04-23T094836.267/import_these_into_xd/design-canvas-2c9856f3e10141a3b2668f37e42a26af.svg'/></td>\n",
       "                               <td><img style='width:100px' src='./saved_designs/exported_from_scout - 2019-04-23T094836.267/import_these_into_xd/design-canvas-3dd245c1749e4627a1d5d7c8f677193d.svg'/></td></tr></table>"
      ],
      "text/plain": [
       "<IPython.core.display.HTML object>"
      ]
     },
     "metadata": {},
     "output_type": "display_data"
    },
    {
     "name": "stdout",
     "output_type": "stream",
     "text": [
      "\n",
      "# Diversity score 0.8391541809386381\n",
      "# Diff {'size': 0.06813078703703704, 'pos': 0.42605269077660113, 'neighbors': 0.2616373697916667, 'alts': 0.08333333333333333}\n"
     ]
    },
    {
     "data": {
      "text/html": [
       "<table><tr><td><img style='width:100px' src='./saved_designs/exported_from_scout - 2019-04-23T094836.267/import_these_into_xd/design-canvas-3af7dce4b8654a809d9093427d91ff19.svg'/></td>\n",
       "                               <td><img style='width:100px' src='./saved_designs/exported_from_scout - 2019-04-23T094836.267/import_these_into_xd/design-canvas-ed719ba233704810a0964b7c569c9ed1.svg'/></td></tr></table>"
      ],
      "text/plain": [
       "<IPython.core.display.HTML object>"
      ]
     },
     "metadata": {},
     "output_type": "display_data"
    },
    {
     "name": "stdout",
     "output_type": "stream",
     "text": [
      "\n",
      "# Diversity score 0.8165634652935307\n",
      "# Diff {'size': 0.0400539459785725, 'pos': 0.45889884223162475, 'neighbors': 0.23427734375, 'alts': 0.08333333333333333}\n"
     ]
    },
    {
     "data": {
      "text/html": [
       "<table><tr><td><img style='width:100px' src='./saved_designs/exported_from_scout - 2019-04-23T094836.267/import_these_into_xd/design-canvas-2c9856f3e10141a3b2668f37e42a26af.svg'/></td>\n",
       "                               <td><img style='width:100px' src='./saved_designs/exported_from_scout - 2019-04-23T094836.267/import_these_into_xd/design-canvas-3af7dce4b8654a809d9093427d91ff19.svg'/></td></tr></table>"
      ],
      "text/plain": [
       "<IPython.core.display.HTML object>"
      ]
     },
     "metadata": {},
     "output_type": "display_data"
    },
    {
     "name": "stdout",
     "output_type": "stream",
     "text": [
      "\n",
      "# Diversity score 0.8101592142775785\n",
      "# Diff {'size': 0.08486689814814814, 'pos': 0.4404561616155414, 'neighbors': 0.20150282118055554, 'alts': 0.08333333333333333}\n"
     ]
    },
    {
     "data": {
      "text/html": [
       "<table><tr><td><img style='width:100px' src='./saved_designs/exported_from_scout - 2019-04-23T094836.267/import_these_into_xd/design-canvas-3dd245c1749e4627a1d5d7c8f677193d.svg'/></td>\n",
       "                               <td><img style='width:100px' src='./saved_designs/exported_from_scout - 2019-04-23T094836.267/import_these_into_xd/design-canvas-ed719ba233704810a0964b7c569c9ed1.svg'/></td></tr></table>"
      ],
      "text/plain": [
       "<IPython.core.display.HTML object>"
      ]
     },
     "metadata": {},
     "output_type": "display_data"
    },
    {
     "name": "stdout",
     "output_type": "stream",
     "text": [
      "\n",
      "# Diversity score 0.5138989490074737\n",
      "# Diff {'size': 0.12364969135802469, 'pos': 0.15257564653833794, 'neighbors': 0.2376736111111111, 'alts': 0.0}\n"
     ]
    },
    {
     "data": {
      "text/html": [
       "<table><tr><td><img style='width:100px' src='./saved_designs/exported_from_scout - 2019-04-23T094836.267/import_these_into_xd/design-canvas-3af7dce4b8654a809d9093427d91ff19.svg'/></td>\n",
       "                               <td><img style='width:100px' src='./saved_designs/exported_from_scout - 2019-04-23T094836.267/import_these_into_xd/design-canvas-3dd245c1749e4627a1d5d7c8f677193d.svg'/></td></tr></table>"
      ],
      "text/plain": [
       "<IPython.core.display.HTML object>"
      ]
     },
     "metadata": {},
     "output_type": "display_data"
    },
    {
     "name": "stdout",
     "output_type": "stream",
     "text": [
      "\n",
      "# Diversity score 0.4766762145318091\n",
      "# Diff {'size': 0.05043981481481482, 'pos': 0.13313924983273498, 'neighbors': 0.2930971498842593, 'alts': 0.0}\n"
     ]
    },
    {
     "data": {
      "text/html": [
       "<table><tr><td><img style='width:100px' src='./saved_designs/exported_from_scout - 2019-04-23T094836.267/import_these_into_xd/design-canvas-2c9856f3e10141a3b2668f37e42a26af.svg'/></td>\n",
       "                               <td><img style='width:100px' src='./saved_designs/exported_from_scout - 2019-04-23T094836.267/import_these_into_xd/design-canvas-ed719ba233704810a0964b7c569c9ed1.svg'/></td></tr></table>"
      ],
      "text/plain": [
       "<IPython.core.display.HTML object>"
      ]
     },
     "metadata": {},
     "output_type": "display_data"
    },
    {
     "name": "stdout",
     "output_type": "stream",
     "text": [
      "\n",
      "analyzing\n",
      "# Diversity score 0.9430123608482733\n",
      "# Diff {'size': 0.1296033653846154, 'pos': 0.5166374943952821, 'neighbors': 0.21984842414529915, 'alts': 0.07692307692307693}\n"
     ]
    },
    {
     "data": {
      "text/html": [
       "<table><tr><td><img style='width:100px' src='./saved_designs/exported_from_scout (50)/saved_svgs/design-canvas-90e3874987904050a6b073c1d925fefd.svg'/></td>\n",
       "                               <td><img style='width:100px' src='./saved_designs/exported_from_scout (50)/saved_svgs/design-canvas-10a65cf7f8df4b209d36b11fa6c545d3.svg'/></td></tr></table>"
      ],
      "text/plain": [
       "<IPython.core.display.HTML object>"
      ]
     },
     "metadata": {},
     "output_type": "display_data"
    },
    {
     "name": "stdout",
     "output_type": "stream",
     "text": [
      "\n",
      "# Diversity score 0.8929998622294453\n",
      "# Diff {'size': 0.13793055009271227, 'pos': 0.524458668440152, 'neighbors': 0.15368756677350423, 'alts': 0.07692307692307693}\n"
     ]
    },
    {
     "data": {
      "text/html": [
       "<table><tr><td><img style='width:100px' src='./saved_designs/exported_from_scout (50)/saved_svgs/design-canvas-6ff18e66dfda44669d2e03c69664f5c8.svg'/></td>\n",
       "                               <td><img style='width:100px' src='./saved_designs/exported_from_scout (50)/saved_svgs/design-canvas-10a65cf7f8df4b209d36b11fa6c545d3.svg'/></td></tr></table>"
      ],
      "text/plain": [
       "<IPython.core.display.HTML object>"
      ]
     },
     "metadata": {},
     "output_type": "display_data"
    },
    {
     "name": "stdout",
     "output_type": "stream",
     "text": [
      "\n",
      "# Diversity score 0.5537538106012782\n",
      "# Diff {'size': 0.16718750000000002, 'pos': 0.1631471733149533, 'neighbors': 0.22341913728632476, 'alts': 0.0}\n"
     ]
    },
    {
     "data": {
      "text/html": [
       "<table><tr><td><img style='width:100px' src='./saved_designs/exported_from_scout (50)/saved_svgs/design-canvas-6ff18e66dfda44669d2e03c69664f5c8.svg'/></td>\n",
       "                               <td><img style='width:100px' src='./saved_designs/exported_from_scout (50)/saved_svgs/design-canvas-90e3874987904050a6b073c1d925fefd.svg'/></td></tr></table>"
      ],
      "text/plain": [
       "<IPython.core.display.HTML object>"
      ]
     },
     "metadata": {},
     "output_type": "display_data"
    },
    {
     "name": "stdout",
     "output_type": "stream",
     "text": [
      "\n",
      "analyzing\n",
      "# Diversity score 0.5233422203684868\n",
      "# Diff {'size': 0.1943033381712627, 'pos': 0.11147160789166853, 'neighbors': 0.21756727430555559, 'alts': 0.0}\n"
     ]
    },
    {
     "data": {
      "text/html": [
       "<table><tr><td><img style='width:100px' src='./saved_designs/exported_from_scout (96)/import_these_into_xd/design-canvas-4f707855b72d4faca871652c16f40964.svg'/></td>\n",
       "                               <td><img style='width:100px' src='./saved_designs/exported_from_scout (96)/import_these_into_xd/design-canvas-eb2b5c26801f42d4aab4d1f1abe91579.svg'/></td></tr></table>"
      ],
      "text/plain": [
       "<IPython.core.display.HTML object>"
      ]
     },
     "metadata": {},
     "output_type": "display_data"
    },
    {
     "name": "stdout",
     "output_type": "stream",
     "text": [
      "\n",
      "analyzing\n",
      "# Diversity score 1.134731810985865\n",
      "# Diff {'size': 0.32986778846153836, 'pos': 0.4461751202807368, 'neighbors': 0.2817658253205128, 'alts': 0.07692307692307693}\n"
     ]
    },
    {
     "data": {
      "text/html": [
       "<table><tr><td><img style='width:100px' src='./saved_designs/exported_from_scout (51)/saved_svgs/design-canvas-90e3874987904050a6b073c1d925fefd.svg'/></td>\n",
       "                               <td><img style='width:100px' src='./saved_designs/exported_from_scout (51)/saved_svgs/design-canvas-2635f542ddfa4b378c626d8f5b65d782.svg'/></td></tr></table>"
      ],
      "text/plain": [
       "<IPython.core.display.HTML object>"
      ]
     },
     "metadata": {},
     "output_type": "display_data"
    },
    {
     "name": "stdout",
     "output_type": "stream",
     "text": [
      "\n",
      "# Diversity score 1.1225094758194218\n",
      "# Diff {'size': 0.3527420351744676, 'pos': 0.4040790058158946, 'neighbors': 0.2887653579059829, 'alts': 0.07692307692307693}\n"
     ]
    },
    {
     "data": {
      "text/html": [
       "<table><tr><td><img style='width:100px' src='./saved_designs/exported_from_scout (51)/saved_svgs/design-canvas-6ff18e66dfda44669d2e03c69664f5c8.svg'/></td>\n",
       "                               <td><img style='width:100px' src='./saved_designs/exported_from_scout (51)/saved_svgs/design-canvas-2635f542ddfa4b378c626d8f5b65d782.svg'/></td></tr></table>"
      ],
      "text/plain": [
       "<IPython.core.display.HTML object>"
      ]
     },
     "metadata": {},
     "output_type": "display_data"
    },
    {
     "name": "stdout",
     "output_type": "stream",
     "text": [
      "\n",
      "# Diversity score 0.9613285462200345\n",
      "# Diff {'size': 0.323116255548688, 'pos': 0.3837234418465601, 'neighbors': 0.25448884882478634, 'alts': 0.0}\n"
     ]
    },
    {
     "data": {
      "text/html": [
       "<table><tr><td><img style='width:100px' src='./saved_designs/exported_from_scout (51)/saved_svgs/design-canvas-10a65cf7f8df4b209d36b11fa6c545d3.svg'/></td>\n",
       "                               <td><img style='width:100px' src='./saved_designs/exported_from_scout (51)/saved_svgs/design-canvas-2635f542ddfa4b378c626d8f5b65d782.svg'/></td></tr></table>"
      ],
      "text/plain": [
       "<IPython.core.display.HTML object>"
      ]
     },
     "metadata": {},
     "output_type": "display_data"
    },
    {
     "name": "stdout",
     "output_type": "stream",
     "text": [
      "\n",
      "# Diversity score 0.9430123608482733\n",
      "# Diff {'size': 0.1296033653846154, 'pos': 0.5166374943952821, 'neighbors': 0.21984842414529915, 'alts': 0.07692307692307693}\n"
     ]
    },
    {
     "data": {
      "text/html": [
       "<table><tr><td><img style='width:100px' src='./saved_designs/exported_from_scout (51)/saved_svgs/design-canvas-90e3874987904050a6b073c1d925fefd.svg'/></td>\n",
       "                               <td><img style='width:100px' src='./saved_designs/exported_from_scout (51)/saved_svgs/design-canvas-10a65cf7f8df4b209d36b11fa6c545d3.svg'/></td></tr></table>"
      ],
      "text/plain": [
       "<IPython.core.display.HTML object>"
      ]
     },
     "metadata": {},
     "output_type": "display_data"
    },
    {
     "name": "stdout",
     "output_type": "stream",
     "text": [
      "\n",
      "# Diversity score 0.8929998622294453\n",
      "# Diff {'size': 0.13793055009271227, 'pos': 0.524458668440152, 'neighbors': 0.15368756677350423, 'alts': 0.07692307692307693}\n"
     ]
    },
    {
     "data": {
      "text/html": [
       "<table><tr><td><img style='width:100px' src='./saved_designs/exported_from_scout (51)/saved_svgs/design-canvas-6ff18e66dfda44669d2e03c69664f5c8.svg'/></td>\n",
       "                               <td><img style='width:100px' src='./saved_designs/exported_from_scout (51)/saved_svgs/design-canvas-10a65cf7f8df4b209d36b11fa6c545d3.svg'/></td></tr></table>"
      ],
      "text/plain": [
       "<IPython.core.display.HTML object>"
      ]
     },
     "metadata": {},
     "output_type": "display_data"
    },
    {
     "name": "stdout",
     "output_type": "stream",
     "text": [
      "\n",
      "# Diversity score 0.7665057140587517\n",
      "# Diff {'size': 0.09723170485004802, 'pos': 0.46012270044801984, 'neighbors': 0.20915130876068375, 'alts': 0.0}\n"
     ]
    },
    {
     "data": {
      "text/html": [
       "<table><tr><td><img style='width:100px' src='./saved_designs/exported_from_scout (51)/saved_svgs/design-canvas-6ff18e66dfda44669d2e03c69664f5c8.svg'/></td>\n",
       "                               <td><img style='width:100px' src='./saved_designs/exported_from_scout (51)/saved_svgs/design-canvas-1247f5e41e6d40b7b60efc468451e1b9.svg'/></td></tr></table>"
      ],
      "text/plain": [
       "<IPython.core.display.HTML object>"
      ]
     },
     "metadata": {},
     "output_type": "display_data"
    },
    {
     "name": "stdout",
     "output_type": "stream",
     "text": [
      "\n",
      "# Diversity score 0.7542202374991347\n",
      "# Diff {'size': 0.09210476407221968, 'pos': 0.4778222709696503, 'neighbors': 0.18429320245726497, 'alts': 0.0}\n"
     ]
    },
    {
     "data": {
      "text/html": [
       "<table><tr><td><img style='width:100px' src='./saved_designs/exported_from_scout (51)/saved_svgs/design-canvas-90e3874987904050a6b073c1d925fefd.svg'/></td>\n",
       "                               <td><img style='width:100px' src='./saved_designs/exported_from_scout (51)/saved_svgs/design-canvas-1247f5e41e6d40b7b60efc468451e1b9.svg'/></td></tr></table>"
      ],
      "text/plain": [
       "<IPython.core.display.HTML object>"
      ]
     },
     "metadata": {},
     "output_type": "display_data"
    },
    {
     "name": "stdout",
     "output_type": "stream",
     "text": [
      "\n",
      "# Diversity score 0.7245024459750441\n",
      "# Diff {'size': 0.10899332423001061, 'pos': 0.24856200636041803, 'neighbors': 0.29002403846153846, 'alts': 0.07692307692307693}\n"
     ]
    },
    {
     "data": {
      "text/html": [
       "<table><tr><td><img style='width:100px' src='./saved_designs/exported_from_scout (51)/saved_svgs/design-canvas-2635f542ddfa4b378c626d8f5b65d782.svg'/></td>\n",
       "                               <td><img style='width:100px' src='./saved_designs/exported_from_scout (51)/saved_svgs/design-canvas-1247f5e41e6d40b7b60efc468451e1b9.svg'/></td></tr></table>"
      ],
      "text/plain": [
       "<IPython.core.display.HTML object>"
      ]
     },
     "metadata": {},
     "output_type": "display_data"
    },
    {
     "name": "stdout",
     "output_type": "stream",
     "text": [
      "\n",
      "# Diversity score 0.6475555705455434\n",
      "# Diff {'size': 0.08459136195822586, 'pos': 0.2916851621129585, 'neighbors': 0.19435596955128207, 'alts': 0.07692307692307693}\n"
     ]
    },
    {
     "data": {
      "text/html": [
       "<table><tr><td><img style='width:100px' src='./saved_designs/exported_from_scout (51)/saved_svgs/design-canvas-10a65cf7f8df4b209d36b11fa6c545d3.svg'/></td>\n",
       "                               <td><img style='width:100px' src='./saved_designs/exported_from_scout (51)/saved_svgs/design-canvas-1247f5e41e6d40b7b60efc468451e1b9.svg'/></td></tr></table>"
      ],
      "text/plain": [
       "<IPython.core.display.HTML object>"
      ]
     },
     "metadata": {},
     "output_type": "display_data"
    },
    {
     "name": "stdout",
     "output_type": "stream",
     "text": [
      "\n",
      "# Diversity score 0.5537538106012782\n",
      "# Diff {'size': 0.16718750000000002, 'pos': 0.1631471733149533, 'neighbors': 0.22341913728632476, 'alts': 0.0}\n"
     ]
    },
    {
     "data": {
      "text/html": [
       "<table><tr><td><img style='width:100px' src='./saved_designs/exported_from_scout (51)/saved_svgs/design-canvas-6ff18e66dfda44669d2e03c69664f5c8.svg'/></td>\n",
       "                               <td><img style='width:100px' src='./saved_designs/exported_from_scout (51)/saved_svgs/design-canvas-90e3874987904050a6b073c1d925fefd.svg'/></td></tr></table>"
      ],
      "text/plain": [
       "<IPython.core.display.HTML object>"
      ]
     },
     "metadata": {},
     "output_type": "display_data"
    },
    {
     "name": "stdout",
     "output_type": "stream",
     "text": [
      "\n",
      "analyzing\n",
      "# Diversity score 0.7309363036563887\n",
      "# Diff {'size': 0.24768415178571426, 'pos': 0.15765807634984114, 'neighbors': 0.20059407552083333, 'alts': 0.125}\n"
     ]
    },
    {
     "data": {
      "text/html": [
       "<table><tr><td><img style='width:100px' src='./saved_designs/exported_from_scout (97)/import_these_into_xd/design-canvas-33b90f9270d24b3ba34499c1c3bb68b4.svg'/></td>\n",
       "                               <td><img style='width:100px' src='./saved_designs/exported_from_scout (97)/import_these_into_xd/design-canvas-4749f58bb9d24fc99a15a0145fecb572.svg'/></td></tr></table>"
      ],
      "text/plain": [
       "<IPython.core.display.HTML object>"
      ]
     },
     "metadata": {},
     "output_type": "display_data"
    },
    {
     "name": "stdout",
     "output_type": "stream",
     "text": [
      "\n",
      "# Diversity score 0.6730145964952732\n",
      "# Diff {'size': 0.2669549851190476, 'pos': 0.1331022546053922, 'neighbors': 0.14795735677083333, 'alts': 0.125}\n"
     ]
    },
    {
     "data": {
      "text/html": [
       "<table><tr><td><img style='width:100px' src='./saved_designs/exported_from_scout (97)/import_these_into_xd/design-canvas-33b90f9270d24b3ba34499c1c3bb68b4.svg'/></td>\n",
       "                               <td><img style='width:100px' src='./saved_designs/exported_from_scout (97)/import_these_into_xd/design-canvas-f0dc6cec5324477290180c56fda9aeb1.svg'/></td></tr></table>"
      ],
      "text/plain": [
       "<IPython.core.display.HTML object>"
      ]
     },
     "metadata": {},
     "output_type": "display_data"
    },
    {
     "name": "stdout",
     "output_type": "stream",
     "text": [
      "\n",
      "# Diversity score 0.6626871305983213\n",
      "# Diff {'size': 0.2985014699477352, 'pos': 0.14126085596308605, 'neighbors': 0.09792480468749999, 'alts': 0.125}\n"
     ]
    },
    {
     "data": {
      "text/html": [
       "<table><tr><td><img style='width:100px' src='./saved_designs/exported_from_scout (97)/import_these_into_xd/design-canvas-33b90f9270d24b3ba34499c1c3bb68b4.svg'/></td>\n",
       "                               <td><img style='width:100px' src='./saved_designs/exported_from_scout (97)/import_these_into_xd/design-canvas-b8d7e094ee214de0bb66d93ccef6b1e5.svg'/></td></tr></table>"
      ],
      "text/plain": [
       "<IPython.core.display.HTML object>"
      ]
     },
     "metadata": {},
     "output_type": "display_data"
    },
    {
     "name": "stdout",
     "output_type": "stream",
     "text": [
      "\n",
      "# Diversity score 0.6539688158913058\n",
      "# Diff {'size': 0.21073153409090908, 'pos': 0.17588702138373005, 'neighbors': 0.14235026041666665, 'alts': 0.125}\n"
     ]
    },
    {
     "data": {
      "text/html": [
       "<table><tr><td><img style='width:100px' src='./saved_designs/exported_from_scout (97)/import_these_into_xd/design-canvas-33b90f9270d24b3ba34499c1c3bb68b4.svg'/></td>\n",
       "                               <td><img style='width:100px' src='./saved_designs/exported_from_scout (97)/import_these_into_xd/design-canvas-4ec926fa41894887bcf3ac1ac5af35f7.svg'/></td></tr></table>"
      ],
      "text/plain": [
       "<IPython.core.display.HTML object>"
      ]
     },
     "metadata": {},
     "output_type": "display_data"
    },
    {
     "name": "stdout",
     "output_type": "stream",
     "text": [
      "\n",
      "# Diversity score 0.6291787718389071\n",
      "# Diff {'size': 0.2644817073170732, 'pos': 0.1733776200773895, 'neighbors': 0.19131944444444446, 'alts': 0.0}\n"
     ]
    },
    {
     "data": {
      "text/html": [
       "<table><tr><td><img style='width:100px' src='./saved_designs/exported_from_scout (97)/import_these_into_xd/design-canvas-b8d7e094ee214de0bb66d93ccef6b1e5.svg'/></td>\n",
       "                               <td><img style='width:100px' src='./saved_designs/exported_from_scout (97)/import_these_into_xd/design-canvas-4749f58bb9d24fc99a15a0145fecb572.svg'/></td></tr></table>"
      ],
      "text/plain": [
       "<IPython.core.display.HTML object>"
      ]
     },
     "metadata": {},
     "output_type": "display_data"
    },
    {
     "name": "stdout",
     "output_type": "stream",
     "text": [
      "\n",
      "# Diversity score 0.6276365783587036\n",
      "# Diff {'size': 0.31941419860627174, 'pos': 0.1677818415579874, 'neighbors': 0.14044053819444446, 'alts': 0.0}\n"
     ]
    },
    {
     "data": {
      "text/html": [
       "<table><tr><td><img style='width:100px' src='./saved_designs/exported_from_scout (97)/import_these_into_xd/design-canvas-f0dc6cec5324477290180c56fda9aeb1.svg'/></td>\n",
       "                               <td><img style='width:100px' src='./saved_designs/exported_from_scout (97)/import_these_into_xd/design-canvas-b8d7e094ee214de0bb66d93ccef6b1e5.svg'/></td></tr></table>"
      ],
      "text/plain": [
       "<IPython.core.display.HTML object>"
      ]
     },
     "metadata": {},
     "output_type": "display_data"
    },
    {
     "name": "stdout",
     "output_type": "stream",
     "text": [
      "\n",
      "# Diversity score 0.5949231399849314\n",
      "# Diff {'size': 0.18968039772727274, 'pos': 0.1556767700354366, 'neighbors': 0.12456597222222224, 'alts': 0.125}\n"
     ]
    },
    {
     "data": {
      "text/html": [
       "<table><tr><td><img style='width:100px' src='./saved_designs/exported_from_scout (97)/import_these_into_xd/design-canvas-33b90f9270d24b3ba34499c1c3bb68b4.svg'/></td>\n",
       "                               <td><img style='width:100px' src='./saved_designs/exported_from_scout (97)/import_these_into_xd/design-canvas-062699f37400475cbba6dbfc4d6933b3.svg'/></td></tr></table>"
      ],
      "text/plain": [
       "<IPython.core.display.HTML object>"
      ]
     },
     "metadata": {},
     "output_type": "display_data"
    },
    {
     "name": "stdout",
     "output_type": "stream",
     "text": [
      "\n",
      "# Diversity score 0.500188618072983\n",
      "# Diff {'size': 0.21900568181818184, 'pos': 0.12170756733119006, 'neighbors': 0.15947536892361108, 'alts': 0.0}\n"
     ]
    },
    {
     "data": {
      "text/html": [
       "<table><tr><td><img style='width:100px' src='./saved_designs/exported_from_scout (97)/import_these_into_xd/design-canvas-f0dc6cec5324477290180c56fda9aeb1.svg'/></td>\n",
       "                               <td><img style='width:100px' src='./saved_designs/exported_from_scout (97)/import_these_into_xd/design-canvas-062699f37400475cbba6dbfc4d6933b3.svg'/></td></tr></table>"
      ],
      "text/plain": [
       "<IPython.core.display.HTML object>"
      ]
     },
     "metadata": {},
     "output_type": "display_data"
    },
    {
     "name": "stdout",
     "output_type": "stream",
     "text": [
      "\n",
      "# Diversity score 0.4904588006627161\n",
      "# Diff {'size': 0.2303734756097561, 'pos': 0.14935127557379335, 'neighbors': 0.11073404947916665, 'alts': 0.0}\n"
     ]
    },
    {
     "data": {
      "text/html": [
       "<table><tr><td><img style='width:100px' src='./saved_designs/exported_from_scout (97)/import_these_into_xd/design-canvas-b8d7e094ee214de0bb66d93ccef6b1e5.svg'/></td>\n",
       "                               <td><img style='width:100px' src='./saved_designs/exported_from_scout (97)/import_these_into_xd/design-canvas-062699f37400475cbba6dbfc4d6933b3.svg'/></td></tr></table>"
      ],
      "text/plain": [
       "<IPython.core.display.HTML object>"
      ]
     },
     "metadata": {},
     "output_type": "display_data"
    },
    {
     "name": "stdout",
     "output_type": "stream",
     "text": [
      "\n",
      "# Diversity score 0.4756234362114763\n",
      "# Diff {'size': 0.20747159090909092, 'pos': 0.10933294339266317, 'neighbors': 0.1588189019097222, 'alts': 0.0}\n"
     ]
    },
    {
     "data": {
      "text/html": [
       "<table><tr><td><img style='width:100px' src='./saved_designs/exported_from_scout (97)/import_these_into_xd/design-canvas-4749f58bb9d24fc99a15a0145fecb572.svg'/></td>\n",
       "                               <td><img style='width:100px' src='./saved_designs/exported_from_scout (97)/import_these_into_xd/design-canvas-062699f37400475cbba6dbfc4d6933b3.svg'/></td></tr></table>"
      ],
      "text/plain": [
       "<IPython.core.display.HTML object>"
      ]
     },
     "metadata": {},
     "output_type": "display_data"
    },
    {
     "name": "stdout",
     "output_type": "stream",
     "text": [
      "\n",
      "# Diversity score 0.4447322051317377\n",
      "# Diff {'size': 0.20818181818181816, 'pos': 0.07522497462353064, 'neighbors': 0.16132541232638892, 'alts': 0.0}\n"
     ]
    },
    {
     "data": {
      "text/html": [
       "<table><tr><td><img style='width:100px' src='./saved_designs/exported_from_scout (97)/import_these_into_xd/design-canvas-4749f58bb9d24fc99a15a0145fecb572.svg'/></td>\n",
       "                               <td><img style='width:100px' src='./saved_designs/exported_from_scout (97)/import_these_into_xd/design-canvas-4ec926fa41894887bcf3ac1ac5af35f7.svg'/></td></tr></table>"
      ],
      "text/plain": [
       "<IPython.core.display.HTML object>"
      ]
     },
     "metadata": {},
     "output_type": "display_data"
    },
    {
     "name": "stdout",
     "output_type": "stream",
     "text": [
      "\n",
      "# Diversity score 0.44361520979722047\n",
      "# Diff {'size': 0.22505681818181816, 'pos': 0.1256303317195689, 'neighbors': 0.09292805989583333, 'alts': 0.0}\n"
     ]
    },
    {
     "data": {
      "text/html": [
       "<table><tr><td><img style='width:100px' src='./saved_designs/exported_from_scout (97)/import_these_into_xd/design-canvas-f0dc6cec5324477290180c56fda9aeb1.svg'/></td>\n",
       "                               <td><img style='width:100px' src='./saved_designs/exported_from_scout (97)/import_these_into_xd/design-canvas-4ec926fa41894887bcf3ac1ac5af35f7.svg'/></td></tr></table>"
      ],
      "text/plain": [
       "<IPython.core.display.HTML object>"
      ]
     },
     "metadata": {},
     "output_type": "display_data"
    },
    {
     "name": "stdout",
     "output_type": "stream",
     "text": [
      "\n",
      "# Diversity score 0.43015258988763494\n",
      "# Diff {'size': 0.172147212543554, 'pos': 0.1552465882815809, 'neighbors': 0.1027587890625, 'alts': 0.0}\n"
     ]
    },
    {
     "data": {
      "text/html": [
       "<table><tr><td><img style='width:100px' src='./saved_designs/exported_from_scout (97)/import_these_into_xd/design-canvas-b8d7e094ee214de0bb66d93ccef6b1e5.svg'/></td>\n",
       "                               <td><img style='width:100px' src='./saved_designs/exported_from_scout (97)/import_these_into_xd/design-canvas-4ec926fa41894887bcf3ac1ac5af35f7.svg'/></td></tr></table>"
      ],
      "text/plain": [
       "<IPython.core.display.HTML object>"
      ]
     },
     "metadata": {},
     "output_type": "display_data"
    },
    {
     "name": "stdout",
     "output_type": "stream",
     "text": [
      "\n",
      "# Diversity score 0.42086915607242004\n",
      "# Diff {'size': 0.11524621212121211, 'pos': 0.13493066964565234, 'neighbors': 0.17069227430555556, 'alts': 0.0}\n"
     ]
    },
    {
     "data": {
      "text/html": [
       "<table><tr><td><img style='width:100px' src='./saved_designs/exported_from_scout (97)/import_these_into_xd/design-canvas-f0dc6cec5324477290180c56fda9aeb1.svg'/></td>\n",
       "                               <td><img style='width:100px' src='./saved_designs/exported_from_scout (97)/import_these_into_xd/design-canvas-4749f58bb9d24fc99a15a0145fecb572.svg'/></td></tr></table>"
      ],
      "text/plain": [
       "<IPython.core.display.HTML object>"
      ]
     },
     "metadata": {},
     "output_type": "display_data"
    },
    {
     "name": "stdout",
     "output_type": "stream",
     "text": [
      "\n",
      "# Diversity score 0.24210286210198148\n",
      "# Diff {'size': 0.06076704545454546, 'pos': 0.06951941039743603, 'neighbors': 0.11181640625, 'alts': 0.0}\n"
     ]
    },
    {
     "data": {
      "text/html": [
       "<table><tr><td><img style='width:100px' src='./saved_designs/exported_from_scout (97)/import_these_into_xd/design-canvas-4ec926fa41894887bcf3ac1ac5af35f7.svg'/></td>\n",
       "                               <td><img style='width:100px' src='./saved_designs/exported_from_scout (97)/import_these_into_xd/design-canvas-062699f37400475cbba6dbfc4d6933b3.svg'/></td></tr></table>"
      ],
      "text/plain": [
       "<IPython.core.display.HTML object>"
      ]
     },
     "metadata": {},
     "output_type": "display_data"
    },
    {
     "name": "stdout",
     "output_type": "stream",
     "text": [
      "\n",
      "analyzing\n",
      "# Diversity score 1.0320091862158687\n",
      "# Diff {'size': 0.2864213947990543, 'pos': 0.40617626074551794, 'neighbors': 0.25607819733796294, 'alts': 0.08333333333333333}\n"
     ]
    },
    {
     "data": {
      "text/html": [
       "<table><tr><td><img style='width:100px' src='./saved_designs/exported_from_scout (52)/saved_svgs/design-canvas-6726aaf1c8de40d1a7a3a4890983126b.svg'/></td>\n",
       "                               <td><img style='width:100px' src='./saved_designs/exported_from_scout (52)/saved_svgs/design-canvas-9d8da3fdb3874a8c97c1b334bb626a28.svg'/></td></tr></table>"
      ],
      "text/plain": [
       "<IPython.core.display.HTML object>"
      ]
     },
     "metadata": {},
     "output_type": "display_data"
    },
    {
     "name": "stdout",
     "output_type": "stream",
     "text": [
      "\n",
      "# Diversity score 0.9077073462217081\n",
      "# Diff {'size': 0.11902689873417721, 'pos': 0.48922659910790145, 'neighbors': 0.2994538483796296, 'alts': 0.0}\n"
     ]
    },
    {
     "data": {
      "text/html": [
       "<table><tr><td><img style='width:100px' src='./saved_designs/exported_from_scout (52)/saved_svgs/design-canvas-6726aaf1c8de40d1a7a3a4890983126b.svg'/></td>\n",
       "                               <td><img style='width:100px' src='./saved_designs/exported_from_scout (52)/saved_svgs/design-canvas-a5e89620c72146d9a8943c5d3c28934f.svg'/></td></tr></table>"
      ],
      "text/plain": [
       "<IPython.core.display.HTML object>"
      ]
     },
     "metadata": {},
     "output_type": "display_data"
    },
    {
     "name": "stdout",
     "output_type": "stream",
     "text": [
      "\n",
      "# Diversity score 0.9003662875991235\n",
      "# Diff {'size': 0.11520141086497891, 'pos': 0.40115337499803344, 'neighbors': 0.3006781684027777, 'alts': 0.08333333333333333}\n"
     ]
    },
    {
     "data": {
      "text/html": [
       "<table><tr><td><img style='width:100px' src='./saved_designs/exported_from_scout (52)/saved_svgs/design-canvas-56cc849527104b9a99bc9ec9a056faed.svg'/></td>\n",
       "                               <td><img style='width:100px' src='./saved_designs/exported_from_scout (52)/saved_svgs/design-canvas-9cbcc62216344338bb17718474e81f1e.svg'/></td></tr></table>"
      ],
      "text/plain": [
       "<IPython.core.display.HTML object>"
      ]
     },
     "metadata": {},
     "output_type": "display_data"
    },
    {
     "name": "stdout",
     "output_type": "stream",
     "text": [
      "\n",
      "# Diversity score 0.8442145944825742\n",
      "# Diff {'size': 0.1296927404522341, 'pos': 0.3993543916460807, 'neighbors': 0.23183412905092593, 'alts': 0.08333333333333333}\n"
     ]
    },
    {
     "data": {
      "text/html": [
       "<table><tr><td><img style='width:100px' src='./saved_designs/exported_from_scout (52)/saved_svgs/design-canvas-6726aaf1c8de40d1a7a3a4890983126b.svg'/></td>\n",
       "                               <td><img style='width:100px' src='./saved_designs/exported_from_scout (52)/saved_svgs/design-canvas-7599585b0b764c2189747bf10283f144.svg'/></td></tr></table>"
      ],
      "text/plain": [
       "<IPython.core.display.HTML object>"
      ]
     },
     "metadata": {},
     "output_type": "display_data"
    },
    {
     "name": "stdout",
     "output_type": "stream",
     "text": [
      "\n",
      "# Diversity score 0.833032876907613\n",
      "# Diff {'size': 0.10379746835443039, 'pos': 0.4674913402661453, 'neighbors': 0.26174406828703706, 'alts': 0.0}\n"
     ]
    },
    {
     "data": {
      "text/html": [
       "<table><tr><td><img style='width:100px' src='./saved_designs/exported_from_scout (52)/saved_svgs/design-canvas-6726aaf1c8de40d1a7a3a4890983126b.svg'/></td>\n",
       "                               <td><img style='width:100px' src='./saved_designs/exported_from_scout (52)/saved_svgs/design-canvas-a3e1d87bf50e4259b1ad3f8d85ee1601.svg'/></td></tr></table>"
      ],
      "text/plain": [
       "<IPython.core.display.HTML object>"
      ]
     },
     "metadata": {},
     "output_type": "display_data"
    },
    {
     "name": "stdout",
     "output_type": "stream",
     "text": [
      "\n",
      "# Diversity score 0.8310861067554042\n",
      "# Diff {'size': 0.10692906118143458, 'pos': 0.47964207161563627, 'neighbors': 0.2445149739583333, 'alts': 0.0}\n"
     ]
    },
    {
     "data": {
      "text/html": [
       "<table><tr><td><img style='width:100px' src='./saved_designs/exported_from_scout (52)/saved_svgs/design-canvas-9cbcc62216344338bb17718474e81f1e.svg'/></td>\n",
       "                               <td><img style='width:100px' src='./saved_designs/exported_from_scout (52)/saved_svgs/design-canvas-7599585b0b764c2189747bf10283f144.svg'/></td></tr></table>"
      ],
      "text/plain": [
       "<IPython.core.display.HTML object>"
      ]
     },
     "metadata": {},
     "output_type": "display_data"
    },
    {
     "name": "stdout",
     "output_type": "stream",
     "text": [
      "\n",
      "# Diversity score 0.7804337539307745\n",
      "# Diff {'size': 0.16075721153846154, 'pos': 0.27097139192934994, 'neighbors': 0.2653718171296296, 'alts': 0.08333333333333333}\n"
     ]
    },
    {
     "data": {
      "text/html": [
       "<table><tr><td><img style='width:100px' src='./saved_designs/exported_from_scout (52)/saved_svgs/design-canvas-56cc849527104b9a99bc9ec9a056faed.svg'/></td>\n",
       "                               <td><img style='width:100px' src='./saved_designs/exported_from_scout (52)/saved_svgs/design-canvas-9d8da3fdb3874a8c97c1b334bb626a28.svg'/></td></tr></table>"
      ],
      "text/plain": [
       "<IPython.core.display.HTML object>"
      ]
     },
     "metadata": {},
     "output_type": "display_data"
    },
    {
     "name": "stdout",
     "output_type": "stream",
     "text": [
      "\n",
      "# Diversity score 0.7529729991817974\n",
      "# Diff {'size': 0.15467786432976308, 'pos': 0.2529717841575899, 'neighbors': 0.2619900173611111, 'alts': 0.08333333333333333}\n"
     ]
    },
    {
     "data": {
      "text/html": [
       "<table><tr><td><img style='width:100px' src='./saved_designs/exported_from_scout (52)/saved_svgs/design-canvas-56cc849527104b9a99bc9ec9a056faed.svg'/></td>\n",
       "                               <td><img style='width:100px' src='./saved_designs/exported_from_scout (52)/saved_svgs/design-canvas-7599585b0b764c2189747bf10283f144.svg'/></td></tr></table>"
      ],
      "text/plain": [
       "<IPython.core.display.HTML object>"
      ]
     },
     "metadata": {},
     "output_type": "display_data"
    },
    {
     "name": "stdout",
     "output_type": "stream",
     "text": [
      "\n",
      "# Diversity score 0.7424717564467369\n",
      "# Diff {'size': 0.12000263713080167, 'pos': 0.2770047095937129, 'neighbors': 0.26213107638888883, 'alts': 0.08333333333333333}\n"
     ]
    },
    {
     "data": {
      "text/html": [
       "<table><tr><td><img style='width:100px' src='./saved_designs/exported_from_scout (52)/saved_svgs/design-canvas-6726aaf1c8de40d1a7a3a4890983126b.svg'/></td>\n",
       "                               <td><img style='width:100px' src='./saved_designs/exported_from_scout (52)/saved_svgs/design-canvas-9cbcc62216344338bb17718474e81f1e.svg'/></td></tr></table>"
      ],
      "text/plain": [
       "<IPython.core.display.HTML object>"
      ]
     },
     "metadata": {},
     "output_type": "display_data"
    },
    {
     "name": "stdout",
     "output_type": "stream",
     "text": [
      "\n",
      "# Diversity score 0.7384145243450192\n",
      "# Diff {'size': 0.09644646624472576, 'pos': 0.46645988391047877, 'neighbors': 0.1755081741898148, 'alts': 0.0}\n"
     ]
    },
    {
     "data": {
      "text/html": [
       "<table><tr><td><img style='width:100px' src='./saved_designs/exported_from_scout (52)/saved_svgs/design-canvas-9cbcc62216344338bb17718474e81f1e.svg'/></td>\n",
       "                               <td><img style='width:100px' src='./saved_designs/exported_from_scout (52)/saved_svgs/design-canvas-9d8da3fdb3874a8c97c1b334bb626a28.svg'/></td></tr></table>"
      ],
      "text/plain": [
       "<IPython.core.display.HTML object>"
      ]
     },
     "metadata": {},
     "output_type": "display_data"
    },
    {
     "name": "stdout",
     "output_type": "stream",
     "text": [
      "\n",
      "# Diversity score 0.7365647900353642\n",
      "# Diff {'size': 0.016205168776371306, 'pos': 0.5370082034349187, 'neighbors': 0.10001808449074073, 'alts': 0.08333333333333333}\n"
     ]
    },
    {
     "data": {
      "text/html": [
       "<table><tr><td><img style='width:100px' src='./saved_designs/exported_from_scout (52)/saved_svgs/design-canvas-9cbcc62216344338bb17718474e81f1e.svg'/></td>\n",
       "                               <td><img style='width:100px' src='./saved_designs/exported_from_scout (52)/saved_svgs/design-canvas-a3e1d87bf50e4259b1ad3f8d85ee1601.svg'/></td></tr></table>"
      ],
      "text/plain": [
       "<IPython.core.display.HTML object>"
      ]
     },
     "metadata": {},
     "output_type": "display_data"
    },
    {
     "name": "stdout",
     "output_type": "stream",
     "text": [
      "\n",
      "# Diversity score 0.7267840434134517\n",
      "# Diff {'size': 0.002979957805907173, 'pos': 0.5342967071353225, 'neighbors': 0.10617404513888888, 'alts': 0.08333333333333333}\n"
     ]
    },
    {
     "data": {
      "text/html": [
       "<table><tr><td><img style='width:100px' src='./saved_designs/exported_from_scout (52)/saved_svgs/design-canvas-9cbcc62216344338bb17718474e81f1e.svg'/></td>\n",
       "                               <td><img style='width:100px' src='./saved_designs/exported_from_scout (52)/saved_svgs/design-canvas-a5e89620c72146d9a8943c5d3c28934f.svg'/></td></tr></table>"
      ],
      "text/plain": [
       "<IPython.core.display.HTML object>"
      ]
     },
     "metadata": {},
     "output_type": "display_data"
    },
    {
     "name": "stdout",
     "output_type": "stream",
     "text": [
      "\n",
      "# Diversity score 0.6986150624541985\n",
      "# Diff {'size': 0.20902304446608244, 'pos': 0.23633680965478265, 'neighbors': 0.2532552083333333, 'alts': 0.0}\n"
     ]
    },
    {
     "data": {
      "text/html": [
       "<table><tr><td><img style='width:100px' src='./saved_designs/exported_from_scout (52)/saved_svgs/design-canvas-9d8da3fdb3874a8c97c1b334bb626a28.svg'/></td>\n",
       "                               <td><img style='width:100px' src='./saved_designs/exported_from_scout (52)/saved_svgs/design-canvas-7599585b0b764c2189747bf10283f144.svg'/></td></tr></table>"
      ],
      "text/plain": [
       "<IPython.core.display.HTML object>"
      ]
     },
     "metadata": {},
     "output_type": "display_data"
    },
    {
     "name": "stdout",
     "output_type": "stream",
     "text": [
      "\n",
      "# Diversity score 0.6951813932453262\n",
      "# Diff {'size': 0.1808337784900285, 'pos': 0.3630147877877051, 'neighbors': 0.15133282696759257, 'alts': 0.0}\n"
     ]
    },
    {
     "data": {
      "text/html": [
       "<table><tr><td><img style='width:100px' src='./saved_designs/exported_from_scout (52)/saved_svgs/design-canvas-6726aaf1c8de40d1a7a3a4890983126b.svg'/></td>\n",
       "                               <td><img style='width:100px' src='./saved_designs/exported_from_scout (52)/saved_svgs/design-canvas-56cc849527104b9a99bc9ec9a056faed.svg'/></td></tr></table>"
      ],
      "text/plain": [
       "<IPython.core.display.HTML object>"
      ]
     },
     "metadata": {},
     "output_type": "display_data"
    },
    {
     "name": "stdout",
     "output_type": "stream",
     "text": [
      "\n",
      "# Diversity score 0.6881959849389778\n",
      "# Diff {'size': 0.11448938554852323, 'pos': 0.2890549066821213, 'neighbors': 0.28465169270833335, 'alts': 0.0}\n"
     ]
    },
    {
     "data": {
      "text/html": [
       "<table><tr><td><img style='width:100px' src='./saved_designs/exported_from_scout (52)/saved_svgs/design-canvas-56cc849527104b9a99bc9ec9a056faed.svg'/></td>\n",
       "                               <td><img style='width:100px' src='./saved_designs/exported_from_scout (52)/saved_svgs/design-canvas-a5e89620c72146d9a8943c5d3c28934f.svg'/></td></tr></table>"
      ],
      "text/plain": [
       "<IPython.core.display.HTML object>"
      ]
     },
     "metadata": {},
     "output_type": "display_data"
    },
    {
     "name": "stdout",
     "output_type": "stream",
     "text": [
      "\n",
      "# Diversity score 0.6525345007170192\n",
      "# Diff {'size': 0.10990901898734175, 'pos': 0.20209632953060352, 'neighbors': 0.2571958188657407, 'alts': 0.08333333333333333}\n"
     ]
    },
    {
     "data": {
      "text/html": [
       "<table><tr><td><img style='width:100px' src='./saved_designs/exported_from_scout (52)/saved_svgs/design-canvas-a5e89620c72146d9a8943c5d3c28934f.svg'/></td>\n",
       "                               <td><img style='width:100px' src='./saved_designs/exported_from_scout (52)/saved_svgs/design-canvas-7599585b0b764c2189747bf10283f144.svg'/></td></tr></table>"
      ],
      "text/plain": [
       "<IPython.core.display.HTML object>"
      ]
     },
     "metadata": {},
     "output_type": "display_data"
    },
    {
     "name": "stdout",
     "output_type": "stream",
     "text": [
      "\n",
      "# Diversity score 0.5849692200073603\n",
      "# Diff {'size': 0.09899624208860759, 'pos': 0.23344657456227116, 'neighbors': 0.2525264033564815, 'alts': 0.0}\n"
     ]
    },
    {
     "data": {
      "text/html": [
       "<table><tr><td><img style='width:100px' src='./saved_designs/exported_from_scout (52)/saved_svgs/design-canvas-56cc849527104b9a99bc9ec9a056faed.svg'/></td>\n",
       "                               <td><img style='width:100px' src='./saved_designs/exported_from_scout (52)/saved_svgs/design-canvas-a3e1d87bf50e4259b1ad3f8d85ee1601.svg'/></td></tr></table>"
      ],
      "text/plain": [
       "<IPython.core.display.HTML object>"
      ]
     },
     "metadata": {},
     "output_type": "display_data"
    },
    {
     "name": "stdout",
     "output_type": "stream",
     "text": [
      "\n",
      "# Diversity score 0.5821921960800515\n",
      "# Diff {'size': 0.08270701476793249, 'pos': 0.23271904994637815, 'neighbors': 0.18343279803240742, 'alts': 0.08333333333333333}\n"
     ]
    },
    {
     "data": {
      "text/html": [
       "<table><tr><td><img style='width:100px' src='./saved_designs/exported_from_scout (52)/saved_svgs/design-canvas-a3e1d87bf50e4259b1ad3f8d85ee1601.svg'/></td>\n",
       "                               <td><img style='width:100px' src='./saved_designs/exported_from_scout (52)/saved_svgs/design-canvas-9d8da3fdb3874a8c97c1b334bb626a28.svg'/></td></tr></table>"
      ],
      "text/plain": [
       "<IPython.core.display.HTML object>"
      ]
     },
     "metadata": {},
     "output_type": "display_data"
    },
    {
     "name": "stdout",
     "output_type": "stream",
     "text": [
      "\n",
      "# Diversity score 0.5744071183071516\n",
      "# Diff {'size': 0.09428401898734179, 'pos': 0.15979432327814316, 'neighbors': 0.23699544270833336, 'alts': 0.08333333333333333}\n"
     ]
    },
    {
     "data": {
      "text/html": [
       "<table><tr><td><img style='width:100px' src='./saved_designs/exported_from_scout (52)/saved_svgs/design-canvas-a3e1d87bf50e4259b1ad3f8d85ee1601.svg'/></td>\n",
       "                               <td><img style='width:100px' src='./saved_designs/exported_from_scout (52)/saved_svgs/design-canvas-7599585b0b764c2189747bf10283f144.svg'/></td></tr></table>"
      ],
      "text/plain": [
       "<IPython.core.display.HTML object>"
      ]
     },
     "metadata": {},
     "output_type": "display_data"
    },
    {
     "name": "stdout",
     "output_type": "stream",
     "text": [
      "\n",
      "# Diversity score 0.5739231013326875\n",
      "# Diff {'size': 0.0934665084388186, 'pos': 0.21968727865775795, 'neighbors': 0.17743598090277776, 'alts': 0.08333333333333333}\n"
     ]
    },
    {
     "data": {
      "text/html": [
       "<table><tr><td><img style='width:100px' src='./saved_designs/exported_from_scout (52)/saved_svgs/design-canvas-a5e89620c72146d9a8943c5d3c28934f.svg'/></td>\n",
       "                               <td><img style='width:100px' src='./saved_designs/exported_from_scout (52)/saved_svgs/design-canvas-9d8da3fdb3874a8c97c1b334bb626a28.svg'/></td></tr></table>"
      ],
      "text/plain": [
       "<IPython.core.display.HTML object>"
      ]
     },
     "metadata": {},
     "output_type": "display_data"
    },
    {
     "name": "stdout",
     "output_type": "stream",
     "text": [
      "\n",
      "# Diversity score 0.24789127349032955\n",
      "# Diff {'size': 0.015625, 'pos': 0.14063215890699618, 'neighbors': 0.09163411458333333, 'alts': 0.0}\n"
     ]
    },
    {
     "data": {
      "text/html": [
       "<table><tr><td><img style='width:100px' src='./saved_designs/exported_from_scout (52)/saved_svgs/design-canvas-a3e1d87bf50e4259b1ad3f8d85ee1601.svg'/></td>\n",
       "                               <td><img style='width:100px' src='./saved_designs/exported_from_scout (52)/saved_svgs/design-canvas-a5e89620c72146d9a8943c5d3c28934f.svg'/></td></tr></table>"
      ],
      "text/plain": [
       "<IPython.core.display.HTML object>"
      ]
     },
     "metadata": {},
     "output_type": "display_data"
    },
    {
     "name": "stdout",
     "output_type": "stream",
     "text": [
      "\n",
      "analyzing\n",
      "analyzing\n",
      "# Diversity score 1.1571432683787928\n",
      "# Diff {'size': 0.348590986575751, 'pos': 0.48803445327740047, 'neighbors': 0.2435947516025641, 'alts': 0.07692307692307693}\n"
     ]
    },
    {
     "data": {
      "text/html": [
       "<table><tr><td><img style='width:100px' src='./saved_designs/exported_from_scout (43)/saved_svgs/design-canvas-b4cc5f77de374ba585472d477c9ea2e8.svg'/></td>\n",
       "                               <td><img style='width:100px' src='./saved_designs/exported_from_scout (43)/saved_svgs/design-canvas-39c0b364044841a8ba3c76b73daef885.svg'/></td></tr></table>"
      ],
      "text/plain": [
       "<IPython.core.display.HTML object>"
      ]
     },
     "metadata": {},
     "output_type": "display_data"
    },
    {
     "name": "stdout",
     "output_type": "stream",
     "text": [
      "\n",
      "# Diversity score 0.9331215749539646\n",
      "# Diff {'size': 0.17867445054945058, 'pos': 0.5139339700241721, 'neighbors': 0.24051315438034188, 'alts': 0.0}\n"
     ]
    },
    {
     "data": {
      "text/html": [
       "<table><tr><td><img style='width:100px' src='./saved_designs/exported_from_scout (43)/saved_svgs/design-canvas-b4cc5f77de374ba585472d477c9ea2e8.svg'/></td>\n",
       "                               <td><img style='width:100px' src='./saved_designs/exported_from_scout (43)/saved_svgs/design-canvas-f6214cdad2c048a38d8b7cda9b933ccd.svg'/></td></tr></table>"
      ],
      "text/plain": [
       "<IPython.core.display.HTML object>"
      ]
     },
     "metadata": {},
     "output_type": "display_data"
    },
    {
     "name": "stdout",
     "output_type": "stream",
     "text": [
      "\n",
      "# Diversity score 0.9270018075179478\n",
      "# Diff {'size': 0.21736492673992674, 'pos': 0.4605316457352859, 'neighbors': 0.24910523504273505, 'alts': 0.0}\n"
     ]
    },
    {
     "data": {
      "text/html": [
       "<table><tr><td><img style='width:100px' src='./saved_designs/exported_from_scout (43)/saved_svgs/design-canvas-b3cb63ae043a49e3bd3f02f8ae317c67.svg'/></td>\n",
       "                               <td><img style='width:100px' src='./saved_designs/exported_from_scout (43)/saved_svgs/design-canvas-f6214cdad2c048a38d8b7cda9b933ccd.svg'/></td></tr></table>"
      ],
      "text/plain": [
       "<IPython.core.display.HTML object>"
      ]
     },
     "metadata": {},
     "output_type": "display_data"
    },
    {
     "name": "stdout",
     "output_type": "stream",
     "text": [
      "\n",
      "# Diversity score 0.8883320888955711\n",
      "# Diff {'size': 0.3812364238182257, 'pos': 0.2480395085602512, 'neighbors': 0.259056156517094, 'alts': 0.0}\n"
     ]
    },
    {
     "data": {
      "text/html": [
       "<table><tr><td><img style='width:100px' src='./saved_designs/exported_from_scout (43)/saved_svgs/design-canvas-b3cb63ae043a49e3bd3f02f8ae317c67.svg'/></td>\n",
       "                               <td><img style='width:100px' src='./saved_designs/exported_from_scout (43)/saved_svgs/design-canvas-b4cc5f77de374ba585472d477c9ea2e8.svg'/></td></tr></table>"
      ],
      "text/plain": [
       "<IPython.core.display.HTML object>"
      ]
     },
     "metadata": {},
     "output_type": "display_data"
    },
    {
     "name": "stdout",
     "output_type": "stream",
     "text": [
      "\n",
      "# Diversity score 0.7981464390890383\n",
      "# Diff {'size': 0.06630886426592798, 'pos': 0.4816873344384949, 'neighbors': 0.17322716346153846, 'alts': 0.07692307692307693}\n"
     ]
    },
    {
     "data": {
      "text/html": [
       "<table><tr><td><img style='width:100px' src='./saved_designs/exported_from_scout (43)/saved_svgs/design-canvas-b3cb63ae043a49e3bd3f02f8ae317c67.svg'/></td>\n",
       "                               <td><img style='width:100px' src='./saved_designs/exported_from_scout (43)/saved_svgs/design-canvas-39c0b364044841a8ba3c76b73daef885.svg'/></td></tr></table>"
      ],
      "text/plain": [
       "<IPython.core.display.HTML object>"
      ]
     },
     "metadata": {},
     "output_type": "display_data"
    },
    {
     "name": "stdout",
     "output_type": "stream",
     "text": [
      "\n",
      "# Diversity score 0.7868745169123191\n",
      "# Diff {'size': 0.2501602564102564, 'pos': 0.1980557402029173, 'neighbors': 0.26173544337606836, 'alts': 0.07692307692307693}\n"
     ]
    },
    {
     "data": {
      "text/html": [
       "<table><tr><td><img style='width:100px' src='./saved_designs/exported_from_scout (43)/saved_svgs/design-canvas-39c0b364044841a8ba3c76b73daef885.svg'/></td>\n",
       "                               <td><img style='width:100px' src='./saved_designs/exported_from_scout (43)/saved_svgs/design-canvas-f6214cdad2c048a38d8b7cda9b933ccd.svg'/></td></tr></table>"
      ],
      "text/plain": [
       "<IPython.core.display.HTML object>"
      ]
     },
     "metadata": {},
     "output_type": "display_data"
    },
    {
     "name": "stdout",
     "output_type": "stream",
     "text": [
      "\n",
      "analyzing\n",
      "# Diversity score 1.2783511697578915\n",
      "# Diff {'size': 0.462023729946524, 'pos': 0.5299125092558119, 'neighbors': 0.20308159722222227, 'alts': 0.08333333333333333}\n"
     ]
    },
    {
     "data": {
      "text/html": [
       "<table><tr><td><img style='width:100px' src='./saved_designs/exported_from_scout (86)/saved_svgs/design-canvas-a689edab7f8142f3b1c82f225fb57e0c.svg'/></td>\n",
       "                               <td><img style='width:100px' src='./saved_designs/exported_from_scout (86)/saved_svgs/design-canvas-5367a7ef0fc14f199f52ddf6302b8ebf.svg'/></td></tr></table>"
      ],
      "text/plain": [
       "<IPython.core.display.HTML object>"
      ]
     },
     "metadata": {},
     "output_type": "display_data"
    },
    {
     "name": "stdout",
     "output_type": "stream",
     "text": [
      "\n",
      "# Diversity score 1.2209611460441316\n",
      "# Diff {'size': 0.34945171092614613, 'pos': 0.5034882400948375, 'neighbors': 0.2846878616898148, 'alts': 0.08333333333333333}\n"
     ]
    },
    {
     "data": {
      "text/html": [
       "<table><tr><td><img style='width:100px' src='./saved_designs/exported_from_scout (86)/saved_svgs/design-canvas-144a06cdde514bb7adf88108317b7ce5.svg'/></td>\n",
       "                               <td><img style='width:100px' src='./saved_designs/exported_from_scout (86)/saved_svgs/design-canvas-80eb8d9ce58845c78ea5d792c6174987.svg'/></td></tr></table>"
      ],
      "text/plain": [
       "<IPython.core.display.HTML object>"
      ]
     },
     "metadata": {},
     "output_type": "display_data"
    },
    {
     "name": "stdout",
     "output_type": "stream",
     "text": [
      "\n",
      "# Diversity score 1.1368915477086008\n",
      "# Diff {'size': 0.5179784982174688, 'pos': 0.31895464381983574, 'neighbors': 0.216625072337963, 'alts': 0.08333333333333333}\n"
     ]
    },
    {
     "data": {
      "text/html": [
       "<table><tr><td><img style='width:100px' src='./saved_designs/exported_from_scout (86)/saved_svgs/design-canvas-144a06cdde514bb7adf88108317b7ce5.svg'/></td>\n",
       "                               <td><img style='width:100px' src='./saved_designs/exported_from_scout (86)/saved_svgs/design-canvas-5367a7ef0fc14f199f52ddf6302b8ebf.svg'/></td></tr></table>"
      ],
      "text/plain": [
       "<IPython.core.display.HTML object>"
      ]
     },
     "metadata": {},
     "output_type": "display_data"
    },
    {
     "name": "stdout",
     "output_type": "stream",
     "text": [
      "\n",
      "# Diversity score 1.095473648104716\n",
      "# Diff {'size': 0.3282027568591183, 'pos': 0.5219945602270791, 'neighbors': 0.24527633101851856, 'alts': 0.0}\n"
     ]
    },
    {
     "data": {
      "text/html": [
       "<table><tr><td><img style='width:100px' src='./saved_designs/exported_from_scout (86)/saved_svgs/design-canvas-428ae54e6ddc4e8fa7b9210cdf486227.svg'/></td>\n",
       "                               <td><img style='width:100px' src='./saved_designs/exported_from_scout (86)/saved_svgs/design-canvas-80eb8d9ce58845c78ea5d792c6174987.svg'/></td></tr></table>"
      ],
      "text/plain": [
       "<IPython.core.display.HTML object>"
      ]
     },
     "metadata": {},
     "output_type": "display_data"
    },
    {
     "name": "stdout",
     "output_type": "stream",
     "text": [
      "\n",
      "# Diversity score 0.9974517238585778\n",
      "# Diff {'size': 0.16723367243581277, 'pos': 0.5555471891542465, 'neighbors': 0.2746708622685185, 'alts': 0.0}\n"
     ]
    },
    {
     "data": {
      "text/html": [
       "<table><tr><td><img style='width:100px' src='./saved_designs/exported_from_scout (86)/saved_svgs/design-canvas-80eb8d9ce58845c78ea5d792c6174987.svg'/></td>\n",
       "                               <td><img style='width:100px' src='./saved_designs/exported_from_scout (86)/saved_svgs/design-canvas-5367a7ef0fc14f199f52ddf6302b8ebf.svg'/></td></tr></table>"
      ],
      "text/plain": [
       "<IPython.core.display.HTML object>"
      ]
     },
     "metadata": {},
     "output_type": "display_data"
    },
    {
     "name": "stdout",
     "output_type": "stream",
     "text": [
      "\n",
      "# Diversity score 0.9486035789138793\n",
      "# Diff {'size': 0.13912349849849848, 'pos': 0.5022245827301955, 'neighbors': 0.2239221643518519, 'alts': 0.08333333333333333}\n"
     ]
    },
    {
     "data": {
      "text/html": [
       "<table><tr><td><img style='width:100px' src='./saved_designs/exported_from_scout (86)/saved_svgs/design-canvas-a689edab7f8142f3b1c82f225fb57e0c.svg'/></td>\n",
       "                               <td><img style='width:100px' src='./saved_designs/exported_from_scout (86)/saved_svgs/design-canvas-428ae54e6ddc4e8fa7b9210cdf486227.svg'/></td></tr></table>"
      ],
      "text/plain": [
       "<IPython.core.display.HTML object>"
      ]
     },
     "metadata": {},
     "output_type": "display_data"
    },
    {
     "name": "stdout",
     "output_type": "stream",
     "text": [
      "\n",
      "# Diversity score 0.9434590758286628\n",
      "# Diff {'size': 0.2894041485004624, 'pos': 0.3306210442263486, 'neighbors': 0.24010054976851847, 'alts': 0.08333333333333333}\n"
     ]
    },
    {
     "data": {
      "text/html": [
       "<table><tr><td><img style='width:100px' src='./saved_designs/exported_from_scout (86)/saved_svgs/design-canvas-a689edab7f8142f3b1c82f225fb57e0c.svg'/></td>\n",
       "                               <td><img style='width:100px' src='./saved_designs/exported_from_scout (86)/saved_svgs/design-canvas-80eb8d9ce58845c78ea5d792c6174987.svg'/></td></tr></table>"
      ],
      "text/plain": [
       "<IPython.core.display.HTML object>"
      ]
     },
     "metadata": {},
     "output_type": "display_data"
    },
    {
     "name": "stdout",
     "output_type": "stream",
     "text": [
      "\n",
      "# Diversity score 0.9381554526512167\n",
      "# Diff {'size': 0.21891711229946523, 'pos': 0.35752501569897355, 'neighbors': 0.27837999131944446, 'alts': 0.08333333333333333}\n"
     ]
    },
    {
     "data": {
      "text/html": [
       "<table><tr><td><img style='width:100px' src='./saved_designs/exported_from_scout (86)/saved_svgs/design-canvas-a689edab7f8142f3b1c82f225fb57e0c.svg'/></td>\n",
       "                               <td><img style='width:100px' src='./saved_designs/exported_from_scout (86)/saved_svgs/design-canvas-144a06cdde514bb7adf88108317b7ce5.svg'/></td></tr></table>"
      ],
      "text/plain": [
       "<IPython.core.display.HTML object>"
      ]
     },
     "metadata": {},
     "output_type": "display_data"
    },
    {
     "name": "stdout",
     "output_type": "stream",
     "text": [
      "\n",
      "# Diversity score 0.9195537391325227\n",
      "# Diff {'size': 0.47415775150150147, 'pos': 0.17755382906620623, 'neighbors': 0.2678421585648148, 'alts': 0.0}\n"
     ]
    },
    {
     "data": {
      "text/html": [
       "<table><tr><td><img style='width:100px' src='./saved_designs/exported_from_scout (86)/saved_svgs/design-canvas-428ae54e6ddc4e8fa7b9210cdf486227.svg'/></td>\n",
       "                               <td><img style='width:100px' src='./saved_designs/exported_from_scout (86)/saved_svgs/design-canvas-5367a7ef0fc14f199f52ddf6302b8ebf.svg'/></td></tr></table>"
      ],
      "text/plain": [
       "<IPython.core.display.HTML object>"
      ]
     },
     "metadata": {},
     "output_type": "display_data"
    },
    {
     "name": "stdout",
     "output_type": "stream",
     "text": [
      "\n",
      "# Diversity score 0.7727615131514719\n",
      "# Diff {'size': 0.18473160660660656, 'pos': 0.31855833536430983, 'neighbors': 0.18613823784722225, 'alts': 0.08333333333333333}\n"
     ]
    },
    {
     "data": {
      "text/html": [
       "<table><tr><td><img style='width:100px' src='./saved_designs/exported_from_scout (86)/saved_svgs/design-canvas-428ae54e6ddc4e8fa7b9210cdf486227.svg'/></td>\n",
       "                               <td><img style='width:100px' src='./saved_designs/exported_from_scout (86)/saved_svgs/design-canvas-144a06cdde514bb7adf88108317b7ce5.svg'/></td></tr></table>"
      ],
      "text/plain": [
       "<IPython.core.display.HTML object>"
      ]
     },
     "metadata": {},
     "output_type": "display_data"
    },
    {
     "name": "stdout",
     "output_type": "stream",
     "text": [
      "\n",
      "analyzing\n",
      "# Diversity score 1.1350733676618252\n",
      "# Diff {'size': 0.509604072857085, 'pos': 0.35788525124413445, 'neighbors': 0.26758404356060606, 'alts': 0.0}\n"
     ]
    },
    {
     "data": {
      "text/html": [
       "<table><tr><td><img style='width:100px' src='./saved_designs/exported_from_scout (88)/saved_svgs/design-canvas-d262da7b05ed43c5a91baf2077ab7717.svg'/></td>\n",
       "                               <td><img style='width:100px' src='./saved_designs/exported_from_scout (88)/saved_svgs/design-canvas-e478abc20d3140f89d1d5b0df10c8ffc.svg'/></td></tr></table>"
      ],
      "text/plain": [
       "<IPython.core.display.HTML object>"
      ]
     },
     "metadata": {},
     "output_type": "display_data"
    },
    {
     "name": "stdout",
     "output_type": "stream",
     "text": [
      "\n",
      "# Diversity score 1.1043640165712136\n",
      "# Diff {'size': 0.5289677227428231, 'pos': 0.2894768783191312, 'neighbors': 0.28591941550925926, 'alts': 0.0}\n"
     ]
    },
    {
     "data": {
      "text/html": [
       "<table><tr><td><img style='width:100px' src='./saved_designs/exported_from_scout (88)/saved_svgs/design-canvas-bcacfb9cea58444ab69d1b2c26a7b346.svg'/></td>\n",
       "                               <td><img style='width:100px' src='./saved_designs/exported_from_scout (88)/saved_svgs/design-canvas-e478abc20d3140f89d1d5b0df10c8ffc.svg'/></td></tr></table>"
      ],
      "text/plain": [
       "<IPython.core.display.HTML object>"
      ]
     },
     "metadata": {},
     "output_type": "display_data"
    },
    {
     "name": "stdout",
     "output_type": "stream",
     "text": [
      "\n",
      "# Diversity score 1.0999446756165572\n",
      "# Diff {'size': 0.4640176869092532, 'pos': 0.34009957393457674, 'neighbors': 0.2958274147727273, 'alts': 0.0}\n"
     ]
    },
    {
     "data": {
      "text/html": [
       "<table><tr><td><img style='width:100px' src='./saved_designs/exported_from_scout (88)/saved_svgs/design-canvas-683b24954e434fed9b82a246353543b0.svg'/></td>\n",
       "                               <td><img style='width:100px' src='./saved_designs/exported_from_scout (88)/saved_svgs/design-canvas-e478abc20d3140f89d1d5b0df10c8ffc.svg'/></td></tr></table>"
      ],
      "text/plain": [
       "<IPython.core.display.HTML object>"
      ]
     },
     "metadata": {},
     "output_type": "display_data"
    },
    {
     "name": "stdout",
     "output_type": "stream",
     "text": [
      "\n",
      "# Diversity score 1.0686772039257213\n",
      "# Diff {'size': 0.4282304067460317, 'pos': 0.3387775986843191, 'neighbors': 0.3016691984953704, 'alts': 0.0}\n"
     ]
    },
    {
     "data": {
      "text/html": [
       "<table><tr><td><img style='width:100px' src='./saved_designs/exported_from_scout (88)/saved_svgs/design-canvas-11a9b95d4511489b847b7741455d68cd.svg'/></td>\n",
       "                               <td><img style='width:100px' src='./saved_designs/exported_from_scout (88)/saved_svgs/design-canvas-e478abc20d3140f89d1d5b0df10c8ffc.svg'/></td></tr></table>"
      ],
      "text/plain": [
       "<IPython.core.display.HTML object>"
      ]
     },
     "metadata": {},
     "output_type": "display_data"
    },
    {
     "name": "stdout",
     "output_type": "stream",
     "text": [
      "\n",
      "# Diversity score 1.0181323796502932\n",
      "# Diff {'size': 0.4656972248474955, 'pos': 0.2723244777194644, 'neighbors': 0.2801106770833333, 'alts': 0.0}\n"
     ]
    },
    {
     "data": {
      "text/html": [
       "<table><tr><td><img style='width:100px' src='./saved_designs/exported_from_scout (88)/saved_svgs/design-canvas-fd56b132c13a4b1b9f27556ea5d3aec4.svg'/></td>\n",
       "                               <td><img style='width:100px' src='./saved_designs/exported_from_scout (88)/saved_svgs/design-canvas-e478abc20d3140f89d1d5b0df10c8ffc.svg'/></td></tr></table>"
      ],
      "text/plain": [
       "<IPython.core.display.HTML object>"
      ]
     },
     "metadata": {},
     "output_type": "display_data"
    },
    {
     "name": "stdout",
     "output_type": "stream",
     "text": [
      "\n",
      "# Diversity score 0.9792471633594202\n",
      "# Diff {'size': 0.20964528093434343, 'pos': 0.4833262024482248, 'neighbors': 0.2862756799768519, 'alts': 0.0}\n"
     ]
    },
    {
     "data": {
      "text/html": [
       "<table><tr><td><img style='width:100px' src='./saved_designs/exported_from_scout (88)/saved_svgs/design-canvas-fe5c00981eac4a549ea69f14acbde34f.svg'/></td>\n",
       "                               <td><img style='width:100px' src='./saved_designs/exported_from_scout (88)/saved_svgs/design-canvas-e478abc20d3140f89d1d5b0df10c8ffc.svg'/></td></tr></table>"
      ],
      "text/plain": [
       "<IPython.core.display.HTML object>"
      ]
     },
     "metadata": {},
     "output_type": "display_data"
    },
    {
     "name": "stdout",
     "output_type": "stream",
     "text": [
      "\n",
      "# Diversity score 0.9667631625403944\n",
      "# Diff {'size': 0.16362847222222224, 'pos': 0.5305381191376167, 'neighbors': 0.2725965711805555, 'alts': 0.0}\n"
     ]
    },
    {
     "data": {
      "text/html": [
       "<table><tr><td><img style='width:100px' src='./saved_designs/exported_from_scout (88)/saved_svgs/design-canvas-fe5c00981eac4a549ea69f14acbde34f.svg'/></td>\n",
       "                               <td><img style='width:100px' src='./saved_designs/exported_from_scout (88)/saved_svgs/design-canvas-bcacfb9cea58444ab69d1b2c26a7b346.svg'/></td></tr></table>"
      ],
      "text/plain": [
       "<IPython.core.display.HTML object>"
      ]
     },
     "metadata": {},
     "output_type": "display_data"
    },
    {
     "name": "stdout",
     "output_type": "stream",
     "text": [
      "\n",
      "# Diversity score 0.8983974576927765\n",
      "# Diff {'size': 0.20352412488174074, 'pos': 0.35443969960396515, 'neighbors': 0.3404336332070707, 'alts': 0.0}\n"
     ]
    },
    {
     "data": {
      "text/html": [
       "<table><tr><td><img style='width:100px' src='./saved_designs/exported_from_scout (88)/saved_svgs/design-canvas-d262da7b05ed43c5a91baf2077ab7717.svg'/></td>\n",
       "                               <td><img style='width:100px' src='./saved_designs/exported_from_scout (88)/saved_svgs/design-canvas-bcacfb9cea58444ab69d1b2c26a7b346.svg'/></td></tr></table>"
      ],
      "text/plain": [
       "<IPython.core.display.HTML object>"
      ]
     },
     "metadata": {},
     "output_type": "display_data"
    },
    {
     "name": "stdout",
     "output_type": "stream",
     "text": [
      "\n",
      "# Diversity score 0.876903961286638\n",
      "# Diff {'size': 0.1670076884920635, 'pos': 0.44449009513253745, 'neighbors': 0.26540617766203706, 'alts': 0.0}\n"
     ]
    },
    {
     "data": {
      "text/html": [
       "<table><tr><td><img style='width:100px' src='./saved_designs/exported_from_scout (88)/saved_svgs/design-canvas-11a9b95d4511489b847b7741455d68cd.svg'/></td>\n",
       "                               <td><img style='width:100px' src='./saved_designs/exported_from_scout (88)/saved_svgs/design-canvas-bcacfb9cea58444ab69d1b2c26a7b346.svg'/></td></tr></table>"
      ],
      "text/plain": [
       "<IPython.core.display.HTML object>"
      ]
     },
     "metadata": {},
     "output_type": "display_data"
    },
    {
     "name": "stdout",
     "output_type": "stream",
     "text": [
      "\n",
      "# Diversity score 0.841752672027596\n",
      "# Diff {'size': 0.13196506973140495, 'pos': 0.4175527538113426, 'neighbors': 0.2922348484848485, 'alts': 0.0}\n"
     ]
    },
    {
     "data": {
      "text/html": [
       "<table><tr><td><img style='width:100px' src='./saved_designs/exported_from_scout (88)/saved_svgs/design-canvas-fe5c00981eac4a549ea69f14acbde34f.svg'/></td>\n",
       "                               <td><img style='width:100px' src='./saved_designs/exported_from_scout (88)/saved_svgs/design-canvas-d262da7b05ed43c5a91baf2077ab7717.svg'/></td></tr></table>"
      ],
      "text/plain": [
       "<IPython.core.display.HTML object>"
      ]
     },
     "metadata": {},
     "output_type": "display_data"
    },
    {
     "name": "stdout",
     "output_type": "stream",
     "text": [
      "\n",
      "# Diversity score 0.7977600728432145\n",
      "# Diff {'size': 0.189535183435003, 'pos': 0.32033821011528224, 'neighbors': 0.28788667929292927, 'alts': 0.0}\n"
     ]
    },
    {
     "data": {
      "text/html": [
       "<table><tr><td><img style='width:100px' src='./saved_designs/exported_from_scout (88)/saved_svgs/design-canvas-d262da7b05ed43c5a91baf2077ab7717.svg'/></td>\n",
       "                               <td><img style='width:100px' src='./saved_designs/exported_from_scout (88)/saved_svgs/design-canvas-fd56b132c13a4b1b9f27556ea5d3aec4.svg'/></td></tr></table>"
      ],
      "text/plain": [
       "<IPython.core.display.HTML object>"
      ]
     },
     "metadata": {},
     "output_type": "display_data"
    },
    {
     "name": "stdout",
     "output_type": "stream",
     "text": [
      "\n",
      "# Diversity score 0.7772383995006592\n",
      "# Diff {'size': 0.12894570707070707, 'pos': 0.4089444574762486, 'neighbors': 0.23934823495370375, 'alts': 0.0}\n"
     ]
    },
    {
     "data": {
      "text/html": [
       "<table><tr><td><img style='width:100px' src='./saved_designs/exported_from_scout (88)/saved_svgs/design-canvas-fe5c00981eac4a549ea69f14acbde34f.svg'/></td>\n",
       "                               <td><img style='width:100px' src='./saved_designs/exported_from_scout (88)/saved_svgs/design-canvas-11a9b95d4511489b847b7741455d68cd.svg'/></td></tr></table>"
      ],
      "text/plain": [
       "<IPython.core.display.HTML object>"
      ]
     },
     "metadata": {},
     "output_type": "display_data"
    },
    {
     "name": "stdout",
     "output_type": "stream",
     "text": [
      "\n",
      "# Diversity score 0.7725423311983527\n",
      "# Diff {'size': 0.15704653961489903, 'pos': 0.44283411623623153, 'neighbors': 0.1726616753472222, 'alts': 0.0}\n"
     ]
    },
    {
     "data": {
      "text/html": [
       "<table><tr><td><img style='width:100px' src='./saved_designs/exported_from_scout (88)/saved_svgs/design-canvas-fe5c00981eac4a549ea69f14acbde34f.svg'/></td>\n",
       "                               <td><img style='width:100px' src='./saved_designs/exported_from_scout (88)/saved_svgs/design-canvas-fd56b132c13a4b1b9f27556ea5d3aec4.svg'/></td></tr></table>"
      ],
      "text/plain": [
       "<IPython.core.display.HTML object>"
      ]
     },
     "metadata": {},
     "output_type": "display_data"
    },
    {
     "name": "stdout",
     "output_type": "stream",
     "text": [
      "\n",
      "# Diversity score 0.7677021354528702\n",
      "# Diff {'size': 0.15155281508264465, 'pos': 0.39525285572376095, 'neighbors': 0.22089646464646465, 'alts': 0.0}\n"
     ]
    },
    {
     "data": {
      "text/html": [
       "<table><tr><td><img style='width:100px' src='./saved_designs/exported_from_scout (88)/saved_svgs/design-canvas-fe5c00981eac4a549ea69f14acbde34f.svg'/></td>\n",
       "                               <td><img style='width:100px' src='./saved_designs/exported_from_scout (88)/saved_svgs/design-canvas-683b24954e434fed9b82a246353543b0.svg'/></td></tr></table>"
      ],
      "text/plain": [
       "<IPython.core.display.HTML object>"
      ]
     },
     "metadata": {},
     "output_type": "display_data"
    },
    {
     "name": "stdout",
     "output_type": "stream",
     "text": [
      "\n",
      "# Diversity score 0.7607218274403366\n",
      "# Diff {'size': 0.11404447429879166, 'pos': 0.41709638723245396, 'neighbors': 0.2295809659090909, 'alts': 0.0}\n"
     ]
    },
    {
     "data": {
      "text/html": [
       "<table><tr><td><img style='width:100px' src='./saved_designs/exported_from_scout (88)/saved_svgs/design-canvas-683b24954e434fed9b82a246353543b0.svg'/></td>\n",
       "                               <td><img style='width:100px' src='./saved_designs/exported_from_scout (88)/saved_svgs/design-canvas-fd56b132c13a4b1b9f27556ea5d3aec4.svg'/></td></tr></table>"
      ],
      "text/plain": [
       "<IPython.core.display.HTML object>"
      ]
     },
     "metadata": {},
     "output_type": "display_data"
    },
    {
     "name": "stdout",
     "output_type": "stream",
     "text": [
      "\n",
      "# Diversity score 0.7538719975397732\n",
      "# Diff {'size': 0.09769570707070709, 'pos': 0.3673169943832075, 'neighbors': 0.2888592960858586, 'alts': 0.0}\n"
     ]
    },
    {
     "data": {
      "text/html": [
       "<table><tr><td><img style='width:100px' src='./saved_designs/exported_from_scout (88)/saved_svgs/design-canvas-683b24954e434fed9b82a246353543b0.svg'/></td>\n",
       "                               <td><img style='width:100px' src='./saved_designs/exported_from_scout (88)/saved_svgs/design-canvas-bcacfb9cea58444ab69d1b2c26a7b346.svg'/></td></tr></table>"
      ],
      "text/plain": [
       "<IPython.core.display.HTML object>"
      ]
     },
     "metadata": {},
     "output_type": "display_data"
    },
    {
     "name": "stdout",
     "output_type": "stream",
     "text": [
      "\n",
      "# Diversity score 0.7334996727085407\n",
      "# Diff {'size': 0.1815949251081135, 'pos': 0.33571551148931594, 'neighbors': 0.21618923611111107, 'alts': 0.0}\n"
     ]
    },
    {
     "data": {
      "text/html": [
       "<table><tr><td><img style='width:100px' src='./saved_designs/exported_from_scout (88)/saved_svgs/design-canvas-11a9b95d4511489b847b7741455d68cd.svg'/></td>\n",
       "                               <td><img style='width:100px' src='./saved_designs/exported_from_scout (88)/saved_svgs/design-canvas-fd56b132c13a4b1b9f27556ea5d3aec4.svg'/></td></tr></table>"
      ],
      "text/plain": [
       "<IPython.core.display.HTML object>"
      ]
     },
     "metadata": {},
     "output_type": "display_data"
    },
    {
     "name": "stdout",
     "output_type": "stream",
     "text": [
      "\n",
      "# Diversity score 0.7284320372556992\n",
      "# Diff {'size': 0.1833485524891775, 'pos': 0.24643883514530976, 'neighbors': 0.2986446496212121, 'alts': 0.0}\n"
     ]
    },
    {
     "data": {
      "text/html": [
       "<table><tr><td><img style='width:100px' src='./saved_designs/exported_from_scout (88)/saved_svgs/design-canvas-11a9b95d4511489b847b7741455d68cd.svg'/></td>\n",
       "                               <td><img style='width:100px' src='./saved_designs/exported_from_scout (88)/saved_svgs/design-canvas-d262da7b05ed43c5a91baf2077ab7717.svg'/></td></tr></table>"
      ],
      "text/plain": [
       "<IPython.core.display.HTML object>"
      ]
     },
     "metadata": {},
     "output_type": "display_data"
    },
    {
     "name": "stdout",
     "output_type": "stream",
     "text": [
      "\n",
      "# Diversity score 0.7251898332391659\n",
      "# Diff {'size': 0.11466477646991437, 'pos': 0.3393047153340663, 'neighbors': 0.2712203414351852, 'alts': 0.0}\n"
     ]
    },
    {
     "data": {
      "text/html": [
       "<table><tr><td><img style='width:100px' src='./saved_designs/exported_from_scout (88)/saved_svgs/design-canvas-fd56b132c13a4b1b9f27556ea5d3aec4.svg'/></td>\n",
       "                               <td><img style='width:100px' src='./saved_designs/exported_from_scout (88)/saved_svgs/design-canvas-bcacfb9cea58444ab69d1b2c26a7b346.svg'/></td></tr></table>"
      ],
      "text/plain": [
       "<IPython.core.display.HTML object>"
      ]
     },
     "metadata": {},
     "output_type": "display_data"
    },
    {
     "name": "stdout",
     "output_type": "stream",
     "text": [
      "\n",
      "# Diversity score 0.7070206353682268\n",
      "# Diff {'size': 0.13467575470886728, 'pos': 0.2805164400027938, 'neighbors': 0.2918284406565656, 'alts': 0.0}\n"
     ]
    },
    {
     "data": {
      "text/html": [
       "<table><tr><td><img style='width:100px' src='./saved_designs/exported_from_scout (88)/saved_svgs/design-canvas-d262da7b05ed43c5a91baf2077ab7717.svg'/></td>\n",
       "                               <td><img style='width:100px' src='./saved_designs/exported_from_scout (88)/saved_svgs/design-canvas-683b24954e434fed9b82a246353543b0.svg'/></td></tr></table>"
      ],
      "text/plain": [
       "<IPython.core.display.HTML object>"
      ]
     },
     "metadata": {},
     "output_type": "display_data"
    },
    {
     "name": "stdout",
     "output_type": "stream",
     "text": [
      "\n",
      "# Diversity score 0.6803454272141894\n",
      "# Diff {'size': 0.15083874458874458, 'pos': 0.3372422413375662, 'neighbors': 0.1922644412878788, 'alts': 0.0}\n"
     ]
    },
    {
     "data": {
      "text/html": [
       "<table><tr><td><img style='width:100px' src='./saved_designs/exported_from_scout (88)/saved_svgs/design-canvas-11a9b95d4511489b847b7741455d68cd.svg'/></td>\n",
       "                               <td><img style='width:100px' src='./saved_designs/exported_from_scout (88)/saved_svgs/design-canvas-683b24954e434fed9b82a246353543b0.svg'/></td></tr></table>"
      ],
      "text/plain": [
       "<IPython.core.display.HTML object>"
      ]
     },
     "metadata": {},
     "output_type": "display_data"
    },
    {
     "name": "stdout",
     "output_type": "stream",
     "text": [
      "\n",
      "analyzing\n",
      "# Diversity score 0.8849118797256328\n",
      "# Diff {'size': 0.21758722560861601, 'pos': 0.2914883159759911, 'neighbors': 0.29891326121794876, 'alts': 0.07692307692307693}\n"
     ]
    },
    {
     "data": {
      "text/html": [
       "<table><tr><td><img style='width:100px' src='./saved_designs/exported_from_scout (21)/saved_svgs/design-canvas-af4960086b1a40b4bd7f9b9aecd6a931.svg'/></td>\n",
       "                               <td><img style='width:100px' src='./saved_designs/exported_from_scout (21)/saved_svgs/design-canvas-d2507565e9894b5fb99767ce14b6a13e.svg'/></td></tr></table>"
      ],
      "text/plain": [
       "<IPython.core.display.HTML object>"
      ]
     },
     "metadata": {},
     "output_type": "display_data"
    },
    {
     "name": "stdout",
     "output_type": "stream",
     "text": [
      "\n",
      "# Diversity score 0.7366158522354926\n",
      "# Diff {'size': 0.2217305548409227, 'pos': 0.21409403136892888, 'neighbors': 0.2238681891025641, 'alts': 0.07692307692307693}\n"
     ]
    },
    {
     "data": {
      "text/html": [
       "<table><tr><td><img style='width:100px' src='./saved_designs/exported_from_scout (21)/saved_svgs/design-canvas-cf1ca7674c954943bcc46eb6ca5b2fbd.svg'/></td>\n",
       "                               <td><img style='width:100px' src='./saved_designs/exported_from_scout (21)/saved_svgs/design-canvas-d264fad4cfd842ecabbe465fe72937bd.svg'/></td></tr></table>"
      ],
      "text/plain": [
       "<IPython.core.display.HTML object>"
      ]
     },
     "metadata": {},
     "output_type": "display_data"
    },
    {
     "name": "stdout",
     "output_type": "stream",
     "text": [
      "\n",
      "# Diversity score 0.7289370959263045\n",
      "# Diff {'size': 0.16720692907983886, 'pos': 0.2156197234703972, 'neighbors': 0.2691873664529914, 'alts': 0.07692307692307693}\n"
     ]
    },
    {
     "data": {
      "text/html": [
       "<table><tr><td><img style='width:100px' src='./saved_designs/exported_from_scout (21)/saved_svgs/design-canvas-ea671b6d28664a448e8205dc5c38c4fb.svg'/></td>\n",
       "                               <td><img style='width:100px' src='./saved_designs/exported_from_scout (21)/saved_svgs/design-canvas-d264fad4cfd842ecabbe465fe72937bd.svg'/></td></tr></table>"
      ],
      "text/plain": [
       "<IPython.core.display.HTML object>"
      ]
     },
     "metadata": {},
     "output_type": "display_data"
    },
    {
     "name": "stdout",
     "output_type": "stream",
     "text": [
      "\n",
      "# Diversity score 0.712123818444526\n",
      "# Diff {'size': 0.19442055270932276, 'pos': 0.2045705867822118, 'neighbors': 0.23620960202991453, 'alts': 0.07692307692307693}\n"
     ]
    },
    {
     "data": {
      "text/html": [
       "<table><tr><td><img style='width:100px' src='./saved_designs/exported_from_scout (21)/saved_svgs/design-canvas-ea671b6d28664a448e8205dc5c38c4fb.svg'/></td>\n",
       "                               <td><img style='width:100px' src='./saved_designs/exported_from_scout (21)/saved_svgs/design-canvas-af4960086b1a40b4bd7f9b9aecd6a931.svg'/></td></tr></table>"
      ],
      "text/plain": [
       "<IPython.core.display.HTML object>"
      ]
     },
     "metadata": {},
     "output_type": "display_data"
    },
    {
     "name": "stdout",
     "output_type": "stream",
     "text": [
      "\n",
      "# Diversity score 0.7118263064434596\n",
      "# Diff {'size': 0.22042706457422173, 'pos': 0.28776008588633184, 'neighbors': 0.203639155982906, 'alts': 0.0}\n"
     ]
    },
    {
     "data": {
      "text/html": [
       "<table><tr><td><img style='width:100px' src='./saved_designs/exported_from_scout (21)/saved_svgs/design-canvas-d264fad4cfd842ecabbe465fe72937bd.svg'/></td>\n",
       "                               <td><img style='width:100px' src='./saved_designs/exported_from_scout (21)/saved_svgs/design-canvas-d2507565e9894b5fb99767ce14b6a13e.svg'/></td></tr></table>"
      ],
      "text/plain": [
       "<IPython.core.display.HTML object>"
      ]
     },
     "metadata": {},
     "output_type": "display_data"
    },
    {
     "name": "stdout",
     "output_type": "stream",
     "text": [
      "\n",
      "# Diversity score 0.6834748579848058\n",
      "# Diff {'size': 0.12696981837606838, 'pos': 0.2501932741172844, 'neighbors': 0.22938868856837605, 'alts': 0.07692307692307693}\n"
     ]
    },
    {
     "data": {
      "text/html": [
       "<table><tr><td><img style='width:100px' src='./saved_designs/exported_from_scout (21)/saved_svgs/design-canvas-ea671b6d28664a448e8205dc5c38c4fb.svg'/></td>\n",
       "                               <td><img style='width:100px' src='./saved_designs/exported_from_scout (21)/saved_svgs/design-canvas-d2507565e9894b5fb99767ce14b6a13e.svg'/></td></tr></table>"
      ],
      "text/plain": [
       "<IPython.core.display.HTML object>"
      ]
     },
     "metadata": {},
     "output_type": "display_data"
    },
    {
     "name": "stdout",
     "output_type": "stream",
     "text": [
      "\n",
      "# Diversity score 0.6799718623988436\n",
      "# Diff {'size': 0.07642862188316733, 'pos': 0.26310854500285574, 'neighbors': 0.26351161858974353, 'alts': 0.07692307692307693}\n"
     ]
    },
    {
     "data": {
      "text/html": [
       "<table><tr><td><img style='width:100px' src='./saved_designs/exported_from_scout (21)/saved_svgs/design-canvas-cf1ca7674c954943bcc46eb6ca5b2fbd.svg'/></td>\n",
       "                               <td><img style='width:100px' src='./saved_designs/exported_from_scout (21)/saved_svgs/design-canvas-d2507565e9894b5fb99767ce14b6a13e.svg'/></td></tr></table>"
      ],
      "text/plain": [
       "<IPython.core.display.HTML object>"
      ]
     },
     "metadata": {},
     "output_type": "display_data"
    },
    {
     "name": "stdout",
     "output_type": "stream",
     "text": [
      "\n",
      "# Diversity score 0.6133020127005728\n",
      "# Diff {'size': 0.08581240188383045, 'pos': 0.23721851038939182, 'neighbors': 0.2133480235042735, 'alts': 0.07692307692307693}\n"
     ]
    },
    {
     "data": {
      "text/html": [
       "<table><tr><td><img style='width:100px' src='./saved_designs/exported_from_scout (21)/saved_svgs/design-canvas-441488e97988401c9c1c6d371228439d.svg'/></td>\n",
       "                               <td><img style='width:100px' src='./saved_designs/exported_from_scout (21)/saved_svgs/design-canvas-d2507565e9894b5fb99767ce14b6a13e.svg'/></td></tr></table>"
      ],
      "text/plain": [
       "<IPython.core.display.HTML object>"
      ]
     },
     "metadata": {},
     "output_type": "display_data"
    },
    {
     "name": "stdout",
     "output_type": "stream",
     "text": [
      "\n",
      "# Diversity score 0.6020210575924568\n",
      "# Diff {'size': 0.21263332626968995, 'pos': 0.12825158014755317, 'neighbors': 0.18421307425213676, 'alts': 0.07692307692307693}\n"
     ]
    },
    {
     "data": {
      "text/html": [
       "<table><tr><td><img style='width:100px' src='./saved_designs/exported_from_scout (21)/saved_svgs/design-canvas-cf1ca7674c954943bcc46eb6ca5b2fbd.svg'/></td>\n",
       "                               <td><img style='width:100px' src='./saved_designs/exported_from_scout (21)/saved_svgs/design-canvas-af4960086b1a40b4bd7f9b9aecd6a931.svg'/></td></tr></table>"
      ],
      "text/plain": [
       "<IPython.core.display.HTML object>"
      ]
     },
     "metadata": {},
     "output_type": "display_data"
    },
    {
     "name": "stdout",
     "output_type": "stream",
     "text": [
      "\n",
      "# Diversity score 0.5813674032153912\n",
      "# Diff {'size': 0.09926216640502356, 'pos': 0.17983994567788894, 'neighbors': 0.2253422142094017, 'alts': 0.07692307692307693}\n"
     ]
    },
    {
     "data": {
      "text/html": [
       "<table><tr><td><img style='width:100px' src='./saved_designs/exported_from_scout (21)/saved_svgs/design-canvas-af4960086b1a40b4bd7f9b9aecd6a931.svg'/></td>\n",
       "                               <td><img style='width:100px' src='./saved_designs/exported_from_scout (21)/saved_svgs/design-canvas-441488e97988401c9c1c6d371228439d.svg'/></td></tr></table>"
      ],
      "text/plain": [
       "<IPython.core.display.HTML object>"
      ]
     },
     "metadata": {},
     "output_type": "display_data"
    },
    {
     "name": "stdout",
     "output_type": "stream",
     "text": [
      "\n",
      "# Diversity score 0.5576080162905517\n",
      "# Diff {'size': 0.11125196232339087, 'pos': 0.14159844178767364, 'neighbors': 0.22783453525641026, 'alts': 0.07692307692307693}\n"
     ]
    },
    {
     "data": {
      "text/html": [
       "<table><tr><td><img style='width:100px' src='./saved_designs/exported_from_scout (21)/saved_svgs/design-canvas-d264fad4cfd842ecabbe465fe72937bd.svg'/></td>\n",
       "                               <td><img style='width:100px' src='./saved_designs/exported_from_scout (21)/saved_svgs/design-canvas-441488e97988401c9c1c6d371228439d.svg'/></td></tr></table>"
      ],
      "text/plain": [
       "<IPython.core.display.HTML object>"
      ]
     },
     "metadata": {},
     "output_type": "display_data"
    },
    {
     "name": "stdout",
     "output_type": "stream",
     "text": [
      "\n",
      "# Diversity score 0.5249759333790992\n",
      "# Diff {'size': 0.08447802197802198, 'pos': 0.23302929494808572, 'neighbors': 0.20746861645299144, 'alts': 0.0}\n"
     ]
    },
    {
     "data": {
      "text/html": [
       "<table><tr><td><img style='width:100px' src='./saved_designs/exported_from_scout (21)/saved_svgs/design-canvas-cf1ca7674c954943bcc46eb6ca5b2fbd.svg'/></td>\n",
       "                               <td><img style='width:100px' src='./saved_designs/exported_from_scout (21)/saved_svgs/design-canvas-441488e97988401c9c1c6d371228439d.svg'/></td></tr></table>"
      ],
      "text/plain": [
       "<IPython.core.display.HTML object>"
      ]
     },
     "metadata": {},
     "output_type": "display_data"
    },
    {
     "name": "stdout",
     "output_type": "stream",
     "text": [
      "\n",
      "# Diversity score 0.5143929377093583\n",
      "# Diff {'size': 0.053563159248777976, 'pos': 0.1642402351913495, 'neighbors': 0.2196664663461539, 'alts': 0.07692307692307693}\n"
     ]
    },
    {
     "data": {
      "text/html": [
       "<table><tr><td><img style='width:100px' src='./saved_designs/exported_from_scout (21)/saved_svgs/design-canvas-af4960086b1a40b4bd7f9b9aecd6a931.svg'/></td>\n",
       "                               <td><img style='width:100px' src='./saved_designs/exported_from_scout (21)/saved_svgs/design-canvas-d264fad4cfd842ecabbe465fe72937bd.svg'/></td></tr></table>"
      ],
      "text/plain": [
       "<IPython.core.display.HTML object>"
      ]
     },
     "metadata": {},
     "output_type": "display_data"
    },
    {
     "name": "stdout",
     "output_type": "stream",
     "text": [
      "\n",
      "# Diversity score 0.4806269337841965\n",
      "# Diff {'size': 0.11497845588754682, 'pos': 0.21249009114451295, 'neighbors': 0.15315838675213675, 'alts': 0.0}\n"
     ]
    },
    {
     "data": {
      "text/html": [
       "<table><tr><td><img style='width:100px' src='./saved_designs/exported_from_scout (21)/saved_svgs/design-canvas-cf1ca7674c954943bcc46eb6ca5b2fbd.svg'/></td>\n",
       "                               <td><img style='width:100px' src='./saved_designs/exported_from_scout (21)/saved_svgs/design-canvas-ea671b6d28664a448e8205dc5c38c4fb.svg'/></td></tr></table>"
      ],
      "text/plain": [
       "<IPython.core.display.HTML object>"
      ]
     },
     "metadata": {},
     "output_type": "display_data"
    },
    {
     "name": "stdout",
     "output_type": "stream",
     "text": [
      "\n",
      "# Diversity score 0.4219557623121966\n",
      "# Diff {'size': 0.07820251177394034, 'pos': 0.14690996795278619, 'neighbors': 0.19684328258547007, 'alts': 0.0}\n"
     ]
    },
    {
     "data": {
      "text/html": [
       "<table><tr><td><img style='width:100px' src='./saved_designs/exported_from_scout (21)/saved_svgs/design-canvas-ea671b6d28664a448e8205dc5c38c4fb.svg'/></td>\n",
       "                               <td><img style='width:100px' src='./saved_designs/exported_from_scout (21)/saved_svgs/design-canvas-441488e97988401c9c1c6d371228439d.svg'/></td></tr></table>"
      ],
      "text/plain": [
       "<IPython.core.display.HTML object>"
      ]
     },
     "metadata": {},
     "output_type": "display_data"
    },
    {
     "name": "stdout",
     "output_type": "stream",
     "text": [
      "\n",
      "analyzing\n",
      "# Diversity score 0.8016253807900352\n",
      "# Diff {'size': 0.08619140625, 'pos': 0.3907142841465168, 'neighbors': 0.24138635706018519, 'alts': 0.08333333333333333}\n"
     ]
    },
    {
     "data": {
      "text/html": [
       "<table><tr><td><img style='width:100px' src='./saved_designs/exported_from_scout - 2019-04-25T155613.314/import_these_into_xd/design-canvas-607491ccb4164e73b115cefaf3c3ca57.svg'/></td>\n",
       "                               <td><img style='width:100px' src='./saved_designs/exported_from_scout - 2019-04-25T155613.314/import_these_into_xd/design-canvas-f8d0cbd306704125b0094c02162315f1.svg'/></td></tr></table>"
      ],
      "text/plain": [
       "<IPython.core.display.HTML object>"
      ]
     },
     "metadata": {},
     "output_type": "display_data"
    },
    {
     "name": "stdout",
     "output_type": "stream",
     "text": [
      "\n",
      "# Diversity score 0.7435361506299575\n",
      "# Diff {'size': 0.09106481481481483, 'pos': 0.2969718421808834, 'neighbors': 0.27216616030092594, 'alts': 0.08333333333333333}\n"
     ]
    },
    {
     "data": {
      "text/html": [
       "<table><tr><td><img style='width:100px' src='./saved_designs/exported_from_scout - 2019-04-25T155613.314/import_these_into_xd/design-canvas-607491ccb4164e73b115cefaf3c3ca57.svg'/></td>\n",
       "                               <td><img style='width:100px' src='./saved_designs/exported_from_scout - 2019-04-25T155613.314/import_these_into_xd/design-canvas-1ae3854c85574df8bfefb5da26fa8a39.svg'/></td></tr></table>"
      ],
      "text/plain": [
       "<IPython.core.display.HTML object>"
      ]
     },
     "metadata": {},
     "output_type": "display_data"
    },
    {
     "name": "stdout",
     "output_type": "stream",
     "text": [
      "\n",
      "# Diversity score 0.7048280713132574\n",
      "# Diff {'size': 0.05335286458333335, 'pos': 0.2997607970077017, 'neighbors': 0.2683810763888889, 'alts': 0.08333333333333333}\n"
     ]
    },
    {
     "data": {
      "text/html": [
       "<table><tr><td><img style='width:100px' src='./saved_designs/exported_from_scout - 2019-04-25T155613.314/import_these_into_xd/design-canvas-f8d0cbd306704125b0094c02162315f1.svg'/></td>\n",
       "                               <td><img style='width:100px' src='./saved_designs/exported_from_scout - 2019-04-25T155613.314/import_these_into_xd/design-canvas-1ae3854c85574df8bfefb5da26fa8a39.svg'/></td></tr></table>"
      ],
      "text/plain": [
       "<IPython.core.display.HTML object>"
      ]
     },
     "metadata": {},
     "output_type": "display_data"
    },
    {
     "name": "stdout",
     "output_type": "stream",
     "text": [
      "\n",
      "analyzing\n",
      "# Diversity score 0.8184760604670075\n",
      "# Diff {'size': 0.1699165041747913, 'pos': 0.4077356268940681, 'neighbors': 0.24082392939814815, 'alts': 0.0}\n"
     ]
    },
    {
     "data": {
      "text/html": [
       "<table><tr><td><img style='width:100px' src='./saved_designs/ScoutExports/saved_svgs/design-canvas-ede37baa7eee4f32a2ef6e5f790c99d5.svg'/></td>\n",
       "                               <td><img style='width:100px' src='./saved_designs/ScoutExports/saved_svgs/design-canvas-3db107c6701b45c686a7818eb951a6fb.svg'/></td></tr></table>"
      ],
      "text/plain": [
       "<IPython.core.display.HTML object>"
      ]
     },
     "metadata": {},
     "output_type": "display_data"
    },
    {
     "name": "stdout",
     "output_type": "stream",
     "text": [
      "\n",
      "# Diversity score 0.7339852767785996\n",
      "# Diff {'size': 0.08998785408432149, 'pos': 0.3790741009350189, 'neighbors': 0.26492332175925926, 'alts': 0.0}\n"
     ]
    },
    {
     "data": {
      "text/html": [
       "<table><tr><td><img style='width:100px' src='./saved_designs/ScoutExports/saved_svgs/design-canvas-f9f7c67b927742af95edbd30ea972096.svg'/></td>\n",
       "                               <td><img style='width:100px' src='./saved_designs/ScoutExports/saved_svgs/design-canvas-3db107c6701b45c686a7818eb951a6fb.svg'/></td></tr></table>"
      ],
      "text/plain": [
       "<IPython.core.display.HTML object>"
      ]
     },
     "metadata": {},
     "output_type": "display_data"
    },
    {
     "name": "stdout",
     "output_type": "stream",
     "text": [
      "\n",
      "# Diversity score 0.5902227819716895\n",
      "# Diff {'size': 0.09864439229249013, 'pos': 0.32329496954031056, 'neighbors': 0.16828342013888886, 'alts': 0.0}\n"
     ]
    },
    {
     "data": {
      "text/html": [
       "<table><tr><td><img style='width:100px' src='./saved_designs/ScoutExports/saved_svgs/design-canvas-ede37baa7eee4f32a2ef6e5f790c99d5.svg'/></td>\n",
       "                               <td><img style='width:100px' src='./saved_designs/ScoutExports/saved_svgs/design-canvas-f9f7c67b927742af95edbd30ea972096.svg'/></td></tr></table>"
      ],
      "text/plain": [
       "<IPython.core.display.HTML object>"
      ]
     },
     "metadata": {},
     "output_type": "display_data"
    },
    {
     "name": "stdout",
     "output_type": "stream",
     "text": [
      "\n",
      "analyzing\n",
      "# Diversity score 0.9510241082294336\n",
      "# Diff {'size': 0.01816951566951567, 'pos': 0.5890344803804309, 'neighbors': 0.2668970352564103, 'alts': 0.07692307692307693}\n"
     ]
    },
    {
     "data": {
      "text/html": [
       "<table><tr><td><img style='width:100px' src='./saved_designs/exported_from_scout (99)/import_these_into_xd/design-canvas-a2bc85f0c1964088bf9b3444e227d402.svg'/></td>\n",
       "                               <td><img style='width:100px' src='./saved_designs/exported_from_scout (99)/import_these_into_xd/design-canvas-d8fb0ab7d8b7488585260e7e6af20869.svg'/></td></tr></table>"
      ],
      "text/plain": [
       "<IPython.core.display.HTML object>"
      ]
     },
     "metadata": {},
     "output_type": "display_data"
    },
    {
     "name": "stdout",
     "output_type": "stream",
     "text": [
      "\n",
      "# Diversity score 0.8429573813320451\n",
      "# Diff {'size': 0.08708808167141499, 'pos': 0.48120817519481823, 'neighbors': 0.274661124465812, 'alts': 0.0}\n"
     ]
    },
    {
     "data": {
      "text/html": [
       "<table><tr><td><img style='width:100px' src='./saved_designs/exported_from_scout (99)/import_these_into_xd/design-canvas-918a934c8f404d4993face741c29015f.svg'/></td>\n",
       "                               <td><img style='width:100px' src='./saved_designs/exported_from_scout (99)/import_these_into_xd/design-canvas-d8fb0ab7d8b7488585260e7e6af20869.svg'/></td></tr></table>"
      ],
      "text/plain": [
       "<IPython.core.display.HTML object>"
      ]
     },
     "metadata": {},
     "output_type": "display_data"
    },
    {
     "name": "stdout",
     "output_type": "stream",
     "text": [
      "\n",
      "# Diversity score 0.8408345386383953\n",
      "# Diff {'size': 0.03374406457739791, 'pos': 0.41689115515074104, 'neighbors': 0.31327624198717946, 'alts': 0.07692307692307693}\n"
     ]
    },
    {
     "data": {
      "text/html": [
       "<table><tr><td><img style='width:100px' src='./saved_designs/exported_from_scout (99)/import_these_into_xd/design-canvas-be478c6373164bc4b96bbccf5b367f9b.svg'/></td>\n",
       "                               <td><img style='width:100px' src='./saved_designs/exported_from_scout (99)/import_these_into_xd/design-canvas-d8fb0ab7d8b7488585260e7e6af20869.svg'/></td></tr></table>"
      ],
      "text/plain": [
       "<IPython.core.display.HTML object>"
      ]
     },
     "metadata": {},
     "output_type": "display_data"
    },
    {
     "name": "stdout",
     "output_type": "stream",
     "text": [
      "\n",
      "# Diversity score 0.8306052578620413\n",
      "# Diff {'size': 0.05567663817663818, 'pos': 0.5019902516298479, 'neighbors': 0.2729383680555556, 'alts': 0.0}\n"
     ]
    },
    {
     "data": {
      "text/html": [
       "<table><tr><td><img style='width:100px' src='./saved_designs/exported_from_scout (99)/import_these_into_xd/design-canvas-7304405049fc487a91ca6165424c0b0c.svg'/></td>\n",
       "                               <td><img style='width:100px' src='./saved_designs/exported_from_scout (99)/import_these_into_xd/design-canvas-d8fb0ab7d8b7488585260e7e6af20869.svg'/></td></tr></table>"
      ],
      "text/plain": [
       "<IPython.core.display.HTML object>"
      ]
     },
     "metadata": {},
     "output_type": "display_data"
    },
    {
     "name": "stdout",
     "output_type": "stream",
     "text": [
      "\n",
      "# Diversity score 0.8097602904123561\n",
      "# Diff {'size': 0.032025166191832856, 'pos': 0.4918426963359078, 'neighbors': 0.2858924278846154, 'alts': 0.0}\n"
     ]
    },
    {
     "data": {
      "text/html": [
       "<table><tr><td><img style='width:100px' src='./saved_designs/exported_from_scout (99)/import_these_into_xd/design-canvas-83903cdc8136490e90c180d73dd2c09d.svg'/></td>\n",
       "                               <td><img style='width:100px' src='./saved_designs/exported_from_scout (99)/import_these_into_xd/design-canvas-d8fb0ab7d8b7488585260e7e6af20869.svg'/></td></tr></table>"
      ],
      "text/plain": [
       "<IPython.core.display.HTML object>"
      ]
     },
     "metadata": {},
     "output_type": "display_data"
    },
    {
     "name": "stdout",
     "output_type": "stream",
     "text": [
      "\n",
      "# Diversity score 0.7963038849985632\n",
      "# Diff {'size': 0.04061490978157645, 'pos': 0.4851945174178413, 'neighbors': 0.27049445779914527, 'alts': 0.0}\n"
     ]
    },
    {
     "data": {
      "text/html": [
       "<table><tr><td><img style='width:100px' src='./saved_designs/exported_from_scout (99)/import_these_into_xd/design-canvas-a52759ae3c2e49b9a50e2bfa69918a07.svg'/></td>\n",
       "                               <td><img style='width:100px' src='./saved_designs/exported_from_scout (99)/import_these_into_xd/design-canvas-d8fb0ab7d8b7488585260e7e6af20869.svg'/></td></tr></table>"
      ],
      "text/plain": [
       "<IPython.core.display.HTML object>"
      ]
     },
     "metadata": {},
     "output_type": "display_data"
    },
    {
     "name": "stdout",
     "output_type": "stream",
     "text": [
      "\n",
      "# Diversity score 0.7548876330421783\n",
      "# Diff {'size': 0.06172364672364673, 'pos': 0.3375232945450275, 'neighbors': 0.2787176148504274, 'alts': 0.07692307692307693}\n"
     ]
    },
    {
     "data": {
      "text/html": [
       "<table><tr><td><img style='width:100px' src='./saved_designs/exported_from_scout (99)/import_these_into_xd/design-canvas-7304405049fc487a91ca6165424c0b0c.svg'/></td>\n",
       "                               <td><img style='width:100px' src='./saved_designs/exported_from_scout (99)/import_these_into_xd/design-canvas-a2bc85f0c1964088bf9b3444e227d402.svg'/></td></tr></table>"
      ],
      "text/plain": [
       "<IPython.core.display.HTML object>"
      ]
     },
     "metadata": {},
     "output_type": "display_data"
    },
    {
     "name": "stdout",
     "output_type": "stream",
     "text": [
      "\n",
      "# Diversity score 0.7482428068839955\n",
      "# Diff {'size': 0.034330484330484336, 'pos': 0.3621177846261609, 'neighbors': 0.2748714610042735, 'alts': 0.07692307692307693}\n"
     ]
    },
    {
     "data": {
      "text/html": [
       "<table><tr><td><img style='width:100px' src='./saved_designs/exported_from_scout (99)/import_these_into_xd/design-canvas-be478c6373164bc4b96bbccf5b367f9b.svg'/></td>\n",
       "                               <td><img style='width:100px' src='./saved_designs/exported_from_scout (99)/import_these_into_xd/design-canvas-a2bc85f0c1964088bf9b3444e227d402.svg'/></td></tr></table>"
      ],
      "text/plain": [
       "<IPython.core.display.HTML object>"
      ]
     },
     "metadata": {},
     "output_type": "display_data"
    },
    {
     "name": "stdout",
     "output_type": "stream",
     "text": [
      "\n",
      "# Diversity score 0.7199280303982492\n",
      "# Diff {'size': 0.08198717948717947, 'pos': 0.37261132366747984, 'neighbors': 0.2653295272435897, 'alts': 0.0}\n"
     ]
    },
    {
     "data": {
      "text/html": [
       "<table><tr><td><img style='width:100px' src='./saved_designs/exported_from_scout (99)/import_these_into_xd/design-canvas-1ae0e35d0b2d43028cddacd7a035b17d.svg'/></td>\n",
       "                               <td><img style='width:100px' src='./saved_designs/exported_from_scout (99)/import_these_into_xd/design-canvas-d8fb0ab7d8b7488585260e7e6af20869.svg'/></td></tr></table>"
      ],
      "text/plain": [
       "<IPython.core.display.HTML object>"
      ]
     },
     "metadata": {},
     "output_type": "display_data"
    },
    {
     "name": "stdout",
     "output_type": "stream",
     "text": [
      "\n",
      "# Diversity score 0.7150929838608626\n",
      "# Diff {'size': 0.08286799620132952, 'pos': 0.28318151810825093, 'neighbors': 0.2721203926282051, 'alts': 0.07692307692307693}\n"
     ]
    },
    {
     "data": {
      "text/html": [
       "<table><tr><td><img style='width:100px' src='./saved_designs/exported_from_scout (99)/import_these_into_xd/design-canvas-1ae0e35d0b2d43028cddacd7a035b17d.svg'/></td>\n",
       "                               <td><img style='width:100px' src='./saved_designs/exported_from_scout (99)/import_these_into_xd/design-canvas-a2bc85f0c1964088bf9b3444e227d402.svg'/></td></tr></table>"
      ],
      "text/plain": [
       "<IPython.core.display.HTML object>"
      ]
     },
     "metadata": {},
     "output_type": "display_data"
    },
    {
     "name": "stdout",
     "output_type": "stream",
     "text": [
      "\n",
      "# Diversity score 0.7090828671204844\n",
      "# Diff {'size': 0.09392207956397144, 'pos': 0.3202088644795899, 'neighbors': 0.29495192307692303, 'alts': 0.0}\n"
     ]
    },
    {
     "data": {
      "text/html": [
       "<table><tr><td><img style='width:100px' src='./saved_designs/exported_from_scout (99)/import_these_into_xd/design-canvas-83903cdc8136490e90c180d73dd2c09d.svg'/></td>\n",
       "                               <td><img style='width:100px' src='./saved_designs/exported_from_scout (99)/import_these_into_xd/design-canvas-918a934c8f404d4993face741c29015f.svg'/></td></tr></table>"
      ],
      "text/plain": [
       "<IPython.core.display.HTML object>"
      ]
     },
     "metadata": {},
     "output_type": "display_data"
    },
    {
     "name": "stdout",
     "output_type": "stream",
     "text": [
      "\n",
      "# Diversity score 0.7027774274731591\n",
      "# Diff {'size': 0.11321818613485285, 'pos': 0.33503867509899005, 'neighbors': 0.2545205662393163, 'alts': 0.0}\n"
     ]
    },
    {
     "data": {
      "text/html": [
       "<table><tr><td><img style='width:100px' src='./saved_designs/exported_from_scout (99)/import_these_into_xd/design-canvas-7304405049fc487a91ca6165424c0b0c.svg'/></td>\n",
       "                               <td><img style='width:100px' src='./saved_designs/exported_from_scout (99)/import_these_into_xd/design-canvas-918a934c8f404d4993face741c29015f.svg'/></td></tr></table>"
      ],
      "text/plain": [
       "<IPython.core.display.HTML object>"
      ]
     },
     "metadata": {},
     "output_type": "display_data"
    },
    {
     "name": "stdout",
     "output_type": "stream",
     "text": [
      "\n",
      "# Diversity score 0.7015723726908136\n",
      "# Diff {'size': 0.09933259470296509, 'pos': 0.42779399807331875, 'neighbors': 0.17444577991452992, 'alts': 0.0}\n"
     ]
    },
    {
     "data": {
      "text/html": [
       "<table><tr><td><img style='width:100px' src='./saved_designs/exported_from_scout (99)/import_these_into_xd/design-canvas-7304405049fc487a91ca6165424c0b0c.svg'/></td>\n",
       "                               <td><img style='width:100px' src='./saved_designs/exported_from_scout (99)/import_these_into_xd/design-canvas-1ae0e35d0b2d43028cddacd7a035b17d.svg'/></td></tr></table>"
      ],
      "text/plain": [
       "<IPython.core.display.HTML object>"
      ]
     },
     "metadata": {},
     "output_type": "display_data"
    },
    {
     "name": "stdout",
     "output_type": "stream",
     "text": [
      "\n",
      "# Diversity score 0.6837611701357372\n",
      "# Diff {'size': 0.00630724279372928, 'pos': 0.3950287136667941, 'neighbors': 0.20550213675213677, 'alts': 0.07692307692307693}\n"
     ]
    },
    {
     "data": {
      "text/html": [
       "<table><tr><td><img style='width:100px' src='./saved_designs/exported_from_scout (99)/import_these_into_xd/design-canvas-be478c6373164bc4b96bbccf5b367f9b.svg'/></td>\n",
       "                               <td><img style='width:100px' src='./saved_designs/exported_from_scout (99)/import_these_into_xd/design-canvas-83903cdc8136490e90c180d73dd2c09d.svg'/></td></tr></table>"
      ],
      "text/plain": [
       "<IPython.core.display.HTML object>"
      ]
     },
     "metadata": {},
     "output_type": "display_data"
    },
    {
     "name": "stdout",
     "output_type": "stream",
     "text": [
      "\n",
      "# Diversity score 0.6736971455482043\n",
      "# Diff {'size': 0.08042085744788448, 'pos': 0.2606240445105762, 'neighbors': 0.2557291666666667, 'alts': 0.07692307692307693}\n"
     ]
    },
    {
     "data": {
      "text/html": [
       "<table><tr><td><img style='width:100px' src='./saved_designs/exported_from_scout (99)/import_these_into_xd/design-canvas-1ae0e35d0b2d43028cddacd7a035b17d.svg'/></td>\n",
       "                               <td><img style='width:100px' src='./saved_designs/exported_from_scout (99)/import_these_into_xd/design-canvas-be478c6373164bc4b96bbccf5b367f9b.svg'/></td></tr></table>"
      ],
      "text/plain": [
       "<IPython.core.display.HTML object>"
      ]
     },
     "metadata": {},
     "output_type": "display_data"
    },
    {
     "name": "stdout",
     "output_type": "stream",
     "text": [
      "\n",
      "# Diversity score 0.666132812068337\n",
      "# Diff {'size': 0.08781501095690285, 'pos': 0.21072298273536563, 'neighbors': 0.29067174145299146, 'alts': 0.07692307692307693}\n"
     ]
    },
    {
     "data": {
      "text/html": [
       "<table><tr><td><img style='width:100px' src='./saved_designs/exported_from_scout (99)/import_these_into_xd/design-canvas-be478c6373164bc4b96bbccf5b367f9b.svg'/></td>\n",
       "                               <td><img style='width:100px' src='./saved_designs/exported_from_scout (99)/import_these_into_xd/design-canvas-918a934c8f404d4993face741c29015f.svg'/></td></tr></table>"
      ],
      "text/plain": [
       "<IPython.core.display.HTML object>"
      ]
     },
     "metadata": {},
     "output_type": "display_data"
    },
    {
     "name": "stdout",
     "output_type": "stream",
     "text": [
      "\n",
      "# Diversity score 0.6555396012450008\n",
      "# Diff {'size': 0.09065432376243189, 'pos': 0.28543148474752617, 'neighbors': 0.2794537927350427, 'alts': 0.0}\n"
     ]
    },
    {
     "data": {
      "text/html": [
       "<table><tr><td><img style='width:100px' src='./saved_designs/exported_from_scout (99)/import_these_into_xd/design-canvas-1ae0e35d0b2d43028cddacd7a035b17d.svg'/></td>\n",
       "                               <td><img style='width:100px' src='./saved_designs/exported_from_scout (99)/import_these_into_xd/design-canvas-a52759ae3c2e49b9a50e2bfa69918a07.svg'/></td></tr></table>"
      ],
      "text/plain": [
       "<IPython.core.display.HTML object>"
      ]
     },
     "metadata": {},
     "output_type": "display_data"
    },
    {
     "name": "stdout",
     "output_type": "stream",
     "text": [
      "\n",
      "# Diversity score 0.6553432358327108\n",
      "# Diff {'size': 0.037578347578347576, 'pos': 0.2521549122928249, 'neighbors': 0.28868689903846156, 'alts': 0.07692307692307693}\n"
     ]
    },
    {
     "data": {
      "text/html": [
       "<table><tr><td><img style='width:100px' src='./saved_designs/exported_from_scout (99)/import_these_into_xd/design-canvas-83903cdc8136490e90c180d73dd2c09d.svg'/></td>\n",
       "                               <td><img style='width:100px' src='./saved_designs/exported_from_scout (99)/import_these_into_xd/design-canvas-a2bc85f0c1964088bf9b3444e227d402.svg'/></td></tr></table>"
      ],
      "text/plain": [
       "<IPython.core.display.HTML object>"
      ]
     },
     "metadata": {},
     "output_type": "display_data"
    },
    {
     "name": "stdout",
     "output_type": "stream",
     "text": [
      "\n",
      "# Diversity score 0.6532573706503663\n",
      "# Diff {'size': 0.12353173184770687, 'pos': 0.23205603410180492, 'neighbors': 0.29766960470085474, 'alts': 0.0}\n"
     ]
    },
    {
     "data": {
      "text/html": [
       "<table><tr><td><img style='width:100px' src='./saved_designs/exported_from_scout (99)/import_these_into_xd/design-canvas-1ae0e35d0b2d43028cddacd7a035b17d.svg'/></td>\n",
       "                               <td><img style='width:100px' src='./saved_designs/exported_from_scout (99)/import_these_into_xd/design-canvas-918a934c8f404d4993face741c29015f.svg'/></td></tr></table>"
      ],
      "text/plain": [
       "<IPython.core.display.HTML object>"
      ]
     },
     "metadata": {},
     "output_type": "display_data"
    },
    {
     "name": "stdout",
     "output_type": "stream",
     "text": [
      "\n",
      "# Diversity score 0.6329461495574206\n",
      "# Diff {'size': 0.04448081137270325, 'pos': 0.3064007014325805, 'neighbors': 0.20514155982905982, 'alts': 0.07692307692307693}\n"
     ]
    },
    {
     "data": {
      "text/html": [
       "<table><tr><td><img style='width:100px' src='./saved_designs/exported_from_scout (99)/import_these_into_xd/design-canvas-7304405049fc487a91ca6165424c0b0c.svg'/></td>\n",
       "                               <td><img style='width:100px' src='./saved_designs/exported_from_scout (99)/import_these_into_xd/design-canvas-be478c6373164bc4b96bbccf5b367f9b.svg'/></td></tr></table>"
      ],
      "text/plain": [
       "<IPython.core.display.HTML object>"
      ]
     },
     "metadata": {},
     "output_type": "display_data"
    },
    {
     "name": "stdout",
     "output_type": "stream",
     "text": [
      "\n",
      "# Diversity score 0.6192736737346766\n",
      "# Diff {'size': 0.08011752136752137, 'pos': 0.2261369883714287, 'neighbors': 0.23609608707264954, 'alts': 0.07692307692307693}\n"
     ]
    },
    {
     "data": {
      "text/html": [
       "<table><tr><td><img style='width:100px' src='./saved_designs/exported_from_scout (99)/import_these_into_xd/design-canvas-918a934c8f404d4993face741c29015f.svg'/></td>\n",
       "                               <td><img style='width:100px' src='./saved_designs/exported_from_scout (99)/import_these_into_xd/design-canvas-a2bc85f0c1964088bf9b3444e227d402.svg'/></td></tr></table>"
      ],
      "text/plain": [
       "<IPython.core.display.HTML object>"
      ]
     },
     "metadata": {},
     "output_type": "display_data"
    },
    {
     "name": "stdout",
     "output_type": "stream",
     "text": [
      "\n",
      "# Diversity score 0.5844122856428228\n",
      "# Diff {'size': 0.08637691745799854, 'pos': 0.3091998980993541, 'neighbors': 0.18883547008547014, 'alts': 0.0}\n"
     ]
    },
    {
     "data": {
      "text/html": [
       "<table><tr><td><img style='width:100px' src='./saved_designs/exported_from_scout (99)/import_these_into_xd/design-canvas-1ae0e35d0b2d43028cddacd7a035b17d.svg'/></td>\n",
       "                               <td><img style='width:100px' src='./saved_designs/exported_from_scout (99)/import_these_into_xd/design-canvas-83903cdc8136490e90c180d73dd2c09d.svg'/></td></tr></table>"
      ],
      "text/plain": [
       "<IPython.core.display.HTML object>"
      ]
     },
     "metadata": {},
     "output_type": "display_data"
    },
    {
     "name": "stdout",
     "output_type": "stream",
     "text": [
      "\n",
      "# Diversity score 0.5720920553413512\n",
      "# Diff {'size': 0.0195046918019891, 'pos': 0.28136674388124244, 'neighbors': 0.2712206196581196, 'alts': 0.0}\n"
     ]
    },
    {
     "data": {
      "text/html": [
       "<table><tr><td><img style='width:100px' src='./saved_designs/exported_from_scout (99)/import_these_into_xd/design-canvas-a52759ae3c2e49b9a50e2bfa69918a07.svg'/></td>\n",
       "                               <td><img style='width:100px' src='./saved_designs/exported_from_scout (99)/import_these_into_xd/design-canvas-83903cdc8136490e90c180d73dd2c09d.svg'/></td></tr></table>"
      ],
      "text/plain": [
       "<IPython.core.display.HTML object>"
      ]
     },
     "metadata": {},
     "output_type": "display_data"
    },
    {
     "name": "stdout",
     "output_type": "stream",
     "text": [
      "\n",
      "# Diversity score 0.5664182958643225\n",
      "# Diff {'size': 0.01373124683935495, 'pos': 0.1987807990249676, 'neighbors': 0.27698317307692305, 'alts': 0.07692307692307693}\n"
     ]
    },
    {
     "data": {
      "text/html": [
       "<table><tr><td><img style='width:100px' src='./saved_designs/exported_from_scout (99)/import_these_into_xd/design-canvas-be478c6373164bc4b96bbccf5b367f9b.svg'/></td>\n",
       "                               <td><img style='width:100px' src='./saved_designs/exported_from_scout (99)/import_these_into_xd/design-canvas-a52759ae3c2e49b9a50e2bfa69918a07.svg'/></td></tr></table>"
      ],
      "text/plain": [
       "<IPython.core.display.HTML object>"
      ]
     },
     "metadata": {},
     "output_type": "display_data"
    },
    {
     "name": "stdout",
     "output_type": "stream",
     "text": [
      "\n",
      "# Diversity score 0.5557893625786966\n",
      "# Diff {'size': 0.03693732193732194, 'pos': 0.2627773210900926, 'neighbors': 0.17915164262820513, 'alts': 0.07692307692307693}\n"
     ]
    },
    {
     "data": {
      "text/html": [
       "<table><tr><td><img style='width:100px' src='./saved_designs/exported_from_scout (99)/import_these_into_xd/design-canvas-a52759ae3c2e49b9a50e2bfa69918a07.svg'/></td>\n",
       "                               <td><img style='width:100px' src='./saved_designs/exported_from_scout (99)/import_these_into_xd/design-canvas-a2bc85f0c1964088bf9b3444e227d402.svg'/></td></tr></table>"
      ],
      "text/plain": [
       "<IPython.core.display.HTML object>"
      ]
     },
     "metadata": {},
     "output_type": "display_data"
    },
    {
     "name": "stdout",
     "output_type": "stream",
     "text": [
      "\n",
      "# Diversity score 0.538143562236171\n",
      "# Diff {'size': 0.05812777434399059, 'pos': 0.23503047806312052, 'neighbors': 0.2449853098290598, 'alts': 0.0}\n"
     ]
    },
    {
     "data": {
      "text/html": [
       "<table><tr><td><img style='width:100px' src='./saved_designs/exported_from_scout (99)/import_these_into_xd/design-canvas-7304405049fc487a91ca6165424c0b0c.svg'/></td>\n",
       "                               <td><img style='width:100px' src='./saved_designs/exported_from_scout (99)/import_these_into_xd/design-canvas-a52759ae3c2e49b9a50e2bfa69918a07.svg'/></td></tr></table>"
      ],
      "text/plain": [
       "<IPython.core.display.HTML object>"
      ]
     },
     "metadata": {},
     "output_type": "display_data"
    },
    {
     "name": "stdout",
     "output_type": "stream",
     "text": [
      "\n",
      "# Diversity score 0.47829466857802216\n",
      "# Diff {'size': 0.08842255717255719, 'pos': 0.21692873533708884, 'neighbors': 0.17294337606837606, 'alts': 0.0}\n"
     ]
    },
    {
     "data": {
      "text/html": [
       "<table><tr><td><img style='width:100px' src='./saved_designs/exported_from_scout (99)/import_these_into_xd/design-canvas-a52759ae3c2e49b9a50e2bfa69918a07.svg'/></td>\n",
       "                               <td><img style='width:100px' src='./saved_designs/exported_from_scout (99)/import_these_into_xd/design-canvas-918a934c8f404d4993face741c29015f.svg'/></td></tr></table>"
      ],
      "text/plain": [
       "<IPython.core.display.HTML object>"
      ]
     },
     "metadata": {},
     "output_type": "display_data"
    },
    {
     "name": "stdout",
     "output_type": "stream",
     "text": [
      "\n",
      "# Diversity score 0.43951892992512714\n",
      "# Diff {'size': 0.039746867449570164, 'pos': 0.18070822700547143, 'neighbors': 0.21906383547008548, 'alts': 0.0}\n"
     ]
    },
    {
     "data": {
      "text/html": [
       "<table><tr><td><img style='width:100px' src='./saved_designs/exported_from_scout (99)/import_these_into_xd/design-canvas-7304405049fc487a91ca6165424c0b0c.svg'/></td>\n",
       "                               <td><img style='width:100px' src='./saved_designs/exported_from_scout (99)/import_these_into_xd/design-canvas-83903cdc8136490e90c180d73dd2c09d.svg'/></td></tr></table>"
      ],
      "text/plain": [
       "<IPython.core.display.HTML object>"
      ]
     },
     "metadata": {},
     "output_type": "display_data"
    },
    {
     "name": "stdout",
     "output_type": "stream",
     "text": [
      "\n"
     ]
    }
   ],
   "source": [
    "import cost_model\n",
    "import os\n",
    "import json\n",
    "import sys\n",
    "\n",
    "from pprint import pprint\n",
    "from IPython.display import SVG, display, HTML\n",
    "\n",
    "def show_svg(url1, url2):\n",
    "    display(HTML(\"\"\"<table><tr><td><img style='width:100px' src='{}'/></td>\n",
    "                               <td><img style='width:100px' src='{}'/></td></tr></table>\"\"\".format(url1, url2)))\n",
    "\n",
    "# the folder containing all exports\n",
    "export_dir = \"./saved_designs\"\n",
    "\n",
    "def load_design(design_dir):\n",
    "    \"\"\"the directory containing exported designs\"\"\"\n",
    "\n",
    "    design = {}\n",
    "    # load saved designs and trashed designs\n",
    "    with open(os.path.join(design_dir, \"saved.json\")) as f:\n",
    "        design[\"saved\"] = json.load(f)[\"saved\"]\n",
    "    with open(os.path.join(design_dir, \"trashed.json\")) as f:\n",
    "        design[\"trashed\"] = json.load(f)[\"trashed\"]\n",
    "\n",
    "    # load paths for saved svgs, relates to saved designs by their canvas ids\n",
    "    svg_dir = os.path.join(design_dir, \"saved_svgs\")\n",
    "    if not os.path.isdir(svg_dir):\n",
    "        svg_dir = os.path.join(design_dir, \"import_these_into_xd\")\n",
    "    design[\"svg_paths\"] = {}\n",
    "    for fname in os.listdir(svg_dir):\n",
    "        if fname.endswith(\".svg\"):\n",
    "            design_id = fname.split(\".\")[0].split(\"-\")[-1]\n",
    "            design[\"svg_paths\"][design_id] = os.path.join(svg_dir, fname)\n",
    "\n",
    "    design[\"dirname\"] = design_dir\n",
    "            \n",
    "    return design\n",
    "\n",
    "def analyze_design(design):\n",
    "    print(\"analyzing\")\n",
    "    # for each pair of saved designs, display their diversity score as well as svgs\n",
    "    design_pairs = []\n",
    "    for i in range(len(design[\"saved\"])):\n",
    "        for j in range(i + 1, len(design[\"saved\"])):\n",
    "            di, dj = design[\"saved\"][i], design[\"saved\"][j]\n",
    "            diversity_score, diff = cost_model.compute_diversity_score(di[\"elements\"], dj[\"elements\"])\n",
    "            design_pair = dict()\n",
    "            design_pair['score'] = diversity_score\n",
    "            design_pair['diff'] = diff \n",
    "            design_pair['di'] = di \n",
    "            design_pair['dj'] = dj\n",
    "            design_pairs.append(design_pair)\n",
    "    \n",
    "    design_pairs.sort(key=lambda x: x['score'], reverse=True)\n",
    "    for pair in design_pairs: \n",
    "        no_svg_to_display = False\n",
    "        di = pair['di']\n",
    "        dj = pair['dj']\n",
    "        for d in [di, dj]:\n",
    "            if d[\"id\"] not in design[\"svg_paths\"]:\n",
    "                #print(\"  [Error] no svg for id {}\".format(d[\"id\"]))\n",
    "                no_svg_to_display = True\n",
    "\n",
    "        if no_svg_to_display:\n",
    "            #print(\"  \" + design[\"dirname\"])\n",
    "            continue\n",
    "        score = pair['score']\n",
    "        diff = pair['diff']\n",
    "        print(\"# Diversity score {}\".format(score))\n",
    "        print(\"# Diff {}\".format(diff))\n",
    "\n",
    "        svg_i = design[\"svg_paths\"][di[\"id\"]]\n",
    "        svg_j = design[\"svg_paths\"][dj[\"id\"]]\n",
    "        show_svg(svg_i, svg_j)\n",
    "        print(\"\")\n",
    "            \n",
    "# iterate over all exported deisngs\n",
    "for dirname in os.listdir(export_dir):\n",
    "    design_dir = os.path.join(export_dir, dirname)\n",
    "    if not os.path.isdir(design_dir):\n",
    "        continue\n",
    "    designs = load_design(design_dir)\n",
    "    analyze_design(designs)"
   ]
  },
  {
   "cell_type": "code",
   "execution_count": 5,
   "metadata": {},
   "outputs": [
    {
     "ename": "SyntaxError",
     "evalue": "invalid syntax (<ipython-input-5-d8603f9f9bc3>, line 1)",
     "output_type": "error",
     "traceback": [
      "\u001b[0;36m  File \u001b[0;32m\"<ipython-input-5-d8603f9f9bc3>\"\u001b[0;36m, line \u001b[0;32m1\u001b[0m\n\u001b[0;31m    which python\u001b[0m\n\u001b[0m               ^\u001b[0m\n\u001b[0;31mSyntaxError\u001b[0m\u001b[0;31m:\u001b[0m invalid syntax\n"
     ]
    }
   ],
   "source": [
    "which python"
   ]
  },
  {
   "cell_type": "code",
   "execution_count": 6,
   "metadata": {},
   "outputs": [
    {
     "name": "stdout",
     "output_type": "stream",
     "text": [
      "test\n"
     ]
    }
   ],
   "source": [
    "print('test')"
   ]
  },
  {
   "cell_type": "code",
   "execution_count": null,
   "metadata": {},
   "outputs": [],
   "source": []
  },
  {
   "cell_type": "code",
   "execution_count": null,
   "metadata": {},
   "outputs": [],
   "source": []
  },
  {
   "cell_type": "code",
   "execution_count": null,
   "metadata": {},
   "outputs": [],
   "source": []
  }
 ],
 "metadata": {
  "kernelspec": {
   "display_name": "Python 3",
   "language": "python",
   "name": "python3"
  },
  "language_info": {
   "codemirror_mode": {
    "name": "ipython",
    "version": 3
   },
   "file_extension": ".py",
   "mimetype": "text/x-python",
   "name": "python",
   "nbconvert_exporter": "python",
   "pygments_lexer": "ipython3",
   "version": "3.7.3"
  }
 },
 "nbformat": 4,
 "nbformat_minor": 2
}
