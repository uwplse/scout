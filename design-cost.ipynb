{
 "cells": [
  {
   "cell_type": "code",
   "execution_count": 5,
   "metadata": {
    "scrolled": false
   },
   "outputs": [
    {
     "name": "stdout",
     "output_type": "stream",
     "text": [
      "==============\n",
      "## Analyzing exported_from_scout (98) ...\n",
      "# diversity score 1.2922475333308432\n",
      "# score details\n",
      "{'alt_group_score': 0.0,\n",
      " 'pos_diff_score': 0.6282603104492578,\n",
      " 'rel_dist_diff_score': 0.4208555099617864,\n",
      " 'size_diff_score': 0.24313171291979896}\n"
     ]
    },
    {
     "data": {
      "text/html": [
       "<table><tr><td><img style='width:100px' src='./saved_designs/exported_from_scout (98)/import_these_into_xd/design-canvas-7304405049fc487a91ca6165424c0b0c.svg'/></td>\n",
       "                               <td><img style='width:100px' src='./saved_designs/exported_from_scout (98)/import_these_into_xd/design-canvas-1ae0e35d0b2d43028cddacd7a035b17d.svg'/></td></tr></table>"
      ],
      "text/plain": [
       "<IPython.core.display.HTML object>"
      ]
     },
     "metadata": {},
     "output_type": "display_data"
    },
    {
     "name": "stdout",
     "output_type": "stream",
     "text": [
      "\n",
      "# diversity score 1.1759881998639516\n",
      "# score details\n",
      "{'alt_group_score': 0.07692307692307693,\n",
      " 'pos_diff_score': 0.5801410571499787,\n",
      " 'rel_dist_diff_score': 0.4349677341649001,\n",
      " 'size_diff_score': 0.08395633162599586}\n"
     ]
    },
    {
     "data": {
      "text/html": [
       "<table><tr><td><img style='width:100px' src='./saved_designs/exported_from_scout (98)/import_these_into_xd/design-canvas-be478c6373164bc4b96bbccf5b367f9b.svg'/></td>\n",
       "                               <td><img style='width:100px' src='./saved_designs/exported_from_scout (98)/import_these_into_xd/design-canvas-83903cdc8136490e90c180d73dd2c09d.svg'/></td></tr></table>"
      ],
      "text/plain": [
       "<IPython.core.display.HTML object>"
      ]
     },
     "metadata": {},
     "output_type": "display_data"
    },
    {
     "name": "stdout",
     "output_type": "stream",
     "text": [
      "\n",
      "# diversity score 1.1403814670193193\n",
      "# score details\n",
      "{'alt_group_score': 0.0,\n",
      " 'pos_diff_score': 0.4540924483411888,\n",
      " 'rel_dist_diff_score': 0.37559525909339414,\n",
      " 'size_diff_score': 0.3106937595847364}\n"
     ]
    },
    {
     "data": {
      "text/html": [
       "<table><tr><td><img style='width:100px' src='./saved_designs/exported_from_scout (98)/import_these_into_xd/design-canvas-1ae0e35d0b2d43028cddacd7a035b17d.svg'/></td>\n",
       "                               <td><img style='width:100px' src='./saved_designs/exported_from_scout (98)/import_these_into_xd/design-canvas-83903cdc8136490e90c180d73dd2c09d.svg'/></td></tr></table>"
      ],
      "text/plain": [
       "<IPython.core.display.HTML object>"
      ]
     },
     "metadata": {},
     "output_type": "display_data"
    },
    {
     "name": "stdout",
     "output_type": "stream",
     "text": [
      "\n",
      "# diversity score 1.1156409251201684\n",
      "# score details\n",
      "{'alt_group_score': 0.07692307692307693,\n",
      " 'pos_diff_score': 0.44998153473605157,\n",
      " 'rel_dist_diff_score': 0.3657798689743475,\n",
      " 'size_diff_score': 0.2229564444866924}\n"
     ]
    },
    {
     "data": {
      "text/html": [
       "<table><tr><td><img style='width:100px' src='./saved_designs/exported_from_scout (98)/import_these_into_xd/design-canvas-7304405049fc487a91ca6165424c0b0c.svg'/></td>\n",
       "                               <td><img style='width:100px' src='./saved_designs/exported_from_scout (98)/import_these_into_xd/design-canvas-be478c6373164bc4b96bbccf5b367f9b.svg'/></td></tr></table>"
      ],
      "text/plain": [
       "<IPython.core.display.HTML object>"
      ]
     },
     "metadata": {},
     "output_type": "display_data"
    },
    {
     "name": "stdout",
     "output_type": "stream",
     "text": [
      "\n",
      "# diversity score 1.037201445376845\n",
      "# score details\n",
      "{'alt_group_score': 0.07692307692307693,\n",
      " 'pos_diff_score': 0.3827537175654642,\n",
      " 'rel_dist_diff_score': 0.27773403845525463,\n",
      " 'size_diff_score': 0.2997906124330492}\n"
     ]
    },
    {
     "data": {
      "text/html": [
       "<table><tr><td><img style='width:100px' src='./saved_designs/exported_from_scout (98)/import_these_into_xd/design-canvas-1ae0e35d0b2d43028cddacd7a035b17d.svg'/></td>\n",
       "                               <td><img style='width:100px' src='./saved_designs/exported_from_scout (98)/import_these_into_xd/design-canvas-be478c6373164bc4b96bbccf5b367f9b.svg'/></td></tr></table>"
      ],
      "text/plain": [
       "<IPython.core.display.HTML object>"
      ]
     },
     "metadata": {},
     "output_type": "display_data"
    },
    {
     "name": "stdout",
     "output_type": "stream",
     "text": [
      "\n",
      "# diversity score 1.0090969091290338\n",
      "# score details\n",
      "{'alt_group_score': 0.0,\n",
      " 'pos_diff_score': 0.4191860428783744,\n",
      " 'rel_dist_diff_score': 0.27161724076450916,\n",
      " 'size_diff_score': 0.3182936254861503}\n"
     ]
    },
    {
     "data": {
      "text/html": [
       "<table><tr><td><img style='width:100px' src='./saved_designs/exported_from_scout (98)/import_these_into_xd/design-canvas-1ae0e35d0b2d43028cddacd7a035b17d.svg'/></td>\n",
       "                               <td><img style='width:100px' src='./saved_designs/exported_from_scout (98)/import_these_into_xd/design-canvas-a52759ae3c2e49b9a50e2bfa69918a07.svg'/></td></tr></table>"
      ],
      "text/plain": [
       "<IPython.core.display.HTML object>"
      ]
     },
     "metadata": {},
     "output_type": "display_data"
    },
    {
     "name": "stdout",
     "output_type": "stream",
     "text": [
      "\n",
      "# diversity score 0.8901246199978186\n",
      "# score details\n",
      "{'alt_group_score': 0.0,\n",
      " 'pos_diff_score': 0.4132165450124657,\n",
      " 'rel_dist_diff_score': 0.3292683505679061,\n",
      " 'size_diff_score': 0.14763972441744685}\n"
     ]
    },
    {
     "data": {
      "text/html": [
       "<table><tr><td><img style='width:100px' src='./saved_designs/exported_from_scout (98)/import_these_into_xd/design-canvas-a52759ae3c2e49b9a50e2bfa69918a07.svg'/></td>\n",
       "                               <td><img style='width:100px' src='./saved_designs/exported_from_scout (98)/import_these_into_xd/design-canvas-83903cdc8136490e90c180d73dd2c09d.svg'/></td></tr></table>"
      ],
      "text/plain": [
       "<IPython.core.display.HTML object>"
      ]
     },
     "metadata": {},
     "output_type": "display_data"
    },
    {
     "name": "stdout",
     "output_type": "stream",
     "text": [
      "\n",
      "# diversity score 0.8794361631607986\n",
      "# score details\n",
      "{'alt_group_score': 0.0,\n",
      " 'pos_diff_score': 0.3451668835420791,\n",
      " 'rel_dist_diff_score': 0.279395284216713,\n",
      " 'size_diff_score': 0.2548739954020066}\n"
     ]
    },
    {
     "data": {
      "text/html": [
       "<table><tr><td><img style='width:100px' src='./saved_designs/exported_from_scout (98)/import_these_into_xd/design-canvas-7304405049fc487a91ca6165424c0b0c.svg'/></td>\n",
       "                               <td><img style='width:100px' src='./saved_designs/exported_from_scout (98)/import_these_into_xd/design-canvas-a52759ae3c2e49b9a50e2bfa69918a07.svg'/></td></tr></table>"
      ],
      "text/plain": [
       "<IPython.core.display.HTML object>"
      ]
     },
     "metadata": {},
     "output_type": "display_data"
    },
    {
     "name": "stdout",
     "output_type": "stream",
     "text": [
      "\n",
      "# diversity score 0.7391772197224751\n",
      "# score details\n",
      "{'alt_group_score': 0.07692307692307693,\n",
      " 'pos_diff_score': 0.29193043163119303,\n",
      " 'rel_dist_diff_score': 0.24644728517521206,\n",
      " 'size_diff_score': 0.12387642599299306}\n"
     ]
    },
    {
     "data": {
      "text/html": [
       "<table><tr><td><img style='width:100px' src='./saved_designs/exported_from_scout (98)/import_these_into_xd/design-canvas-be478c6373164bc4b96bbccf5b367f9b.svg'/></td>\n",
       "                               <td><img style='width:100px' src='./saved_designs/exported_from_scout (98)/import_these_into_xd/design-canvas-a52759ae3c2e49b9a50e2bfa69918a07.svg'/></td></tr></table>"
      ],
      "text/plain": [
       "<IPython.core.display.HTML object>"
      ]
     },
     "metadata": {},
     "output_type": "display_data"
    },
    {
     "name": "stdout",
     "output_type": "stream",
     "text": [
      "\n",
      "# diversity score 0.7132536657176496\n",
      "# score details\n",
      "{'alt_group_score': 0.0,\n",
      " 'pos_diff_score': 0.2653889659754751,\n",
      " 'rel_dist_diff_score': 0.2371061832445128,\n",
      " 'size_diff_score': 0.2107585164976617}\n"
     ]
    },
    {
     "data": {
      "text/html": [
       "<table><tr><td><img style='width:100px' src='./saved_designs/exported_from_scout (98)/import_these_into_xd/design-canvas-7304405049fc487a91ca6165424c0b0c.svg'/></td>\n",
       "                               <td><img style='width:100px' src='./saved_designs/exported_from_scout (98)/import_these_into_xd/design-canvas-83903cdc8136490e90c180d73dd2c09d.svg'/></td></tr></table>"
      ],
      "text/plain": [
       "<IPython.core.display.HTML object>"
      ]
     },
     "metadata": {},
     "output_type": "display_data"
    },
    {
     "name": "stdout",
     "output_type": "stream",
     "text": [
      "\n",
      "==============\n",
      "## Analyzing exported_from_scout (57) ...\n",
      "# diversity score 1.0490366549631855\n",
      "# score details\n",
      "{'alt_group_score': 0.0,\n",
      " 'pos_diff_score': 0.23842807484094428,\n",
      " 'rel_dist_diff_score': 0.25989972069375206,\n",
      " 'size_diff_score': 0.5507088594284892}\n"
     ]
    },
    {
     "data": {
      "text/html": [
       "<table><tr><td><img style='width:100px' src='./saved_designs/exported_from_scout (57)/saved_svgs/design-canvas-1417ed8f406445ecb533001d8ef9fa51.svg'/></td>\n",
       "                               <td><img style='width:100px' src='./saved_designs/exported_from_scout (57)/saved_svgs/design-canvas-ad7a0da9fdd84b428da74b191e69b4db.svg'/></td></tr></table>"
      ],
      "text/plain": [
       "<IPython.core.display.HTML object>"
      ]
     },
     "metadata": {},
     "output_type": "display_data"
    },
    {
     "name": "stdout",
     "output_type": "stream",
     "text": [
      "\n",
      "# diversity score 1.0195224401674348\n",
      "# score details\n",
      "{'alt_group_score': 0.0,\n",
      " 'pos_diff_score': 0.272360233173741,\n",
      " 'rel_dist_diff_score': 0.2431425994812093,\n",
      " 'size_diff_score': 0.5040196075124844}\n"
     ]
    },
    {
     "data": {
      "text/html": [
       "<table><tr><td><img style='width:100px' src='./saved_designs/exported_from_scout (57)/saved_svgs/design-canvas-76c3faac7a3b468da89750b7d383a06a.svg'/></td>\n",
       "                               <td><img style='width:100px' src='./saved_designs/exported_from_scout (57)/saved_svgs/design-canvas-ad7a0da9fdd84b428da74b191e69b4db.svg'/></td></tr></table>"
      ],
      "text/plain": [
       "<IPython.core.display.HTML object>"
      ]
     },
     "metadata": {},
     "output_type": "display_data"
    },
    {
     "name": "stdout",
     "output_type": "stream",
     "text": [
      "\n",
      "# diversity score 1.0126888280228608\n",
      "# score details\n",
      "{'alt_group_score': 0.0,\n",
      " 'pos_diff_score': 0.256747537084539,\n",
      " 'rel_dist_diff_score': 0.25169257440354437,\n",
      " 'size_diff_score': 0.5042487165347774}\n"
     ]
    },
    {
     "data": {
      "text/html": [
       "<table><tr><td><img style='width:100px' src='./saved_designs/exported_from_scout (57)/saved_svgs/design-canvas-76c3faac7a3b468da89750b7d383a06a.svg'/></td>\n",
       "                               <td><img style='width:100px' src='./saved_designs/exported_from_scout (57)/saved_svgs/design-canvas-1417ed8f406445ecb533001d8ef9fa51.svg'/></td></tr></table>"
      ],
      "text/plain": [
       "<IPython.core.display.HTML object>"
      ]
     },
     "metadata": {},
     "output_type": "display_data"
    },
    {
     "name": "stdout",
     "output_type": "stream",
     "text": [
      "\n",
      "# diversity score 0.9499789809553041\n",
      "# score details\n",
      "{'alt_group_score': 0.0,\n",
      " 'pos_diff_score': 0.28460383671033396,\n",
      " 'rel_dist_diff_score': 0.2354883033842486,\n",
      " 'size_diff_score': 0.42988684086072165}\n"
     ]
    },
    {
     "data": {
      "text/html": [
       "<table><tr><td><img style='width:100px' src='./saved_designs/exported_from_scout (57)/saved_svgs/design-canvas-7c1f4a506b734056a357af024a21acbd.svg'/></td>\n",
       "                               <td><img style='width:100px' src='./saved_designs/exported_from_scout (57)/saved_svgs/design-canvas-76c3faac7a3b468da89750b7d383a06a.svg'/></td></tr></table>"
      ],
      "text/plain": [
       "<IPython.core.display.HTML object>"
      ]
     },
     "metadata": {},
     "output_type": "display_data"
    },
    {
     "name": "stdout",
     "output_type": "stream",
     "text": [
      "\n",
      "# diversity score 0.8108268149917268\n",
      "# score details\n",
      "{'alt_group_score': 0.0,\n",
      " 'pos_diff_score': 0.25103767388898895,\n",
      " 'rel_dist_diff_score': 0.2592298190434354,\n",
      " 'size_diff_score': 0.3005593220593024}\n"
     ]
    },
    {
     "data": {
      "text/html": [
       "<table><tr><td><img style='width:100px' src='./saved_designs/exported_from_scout (57)/saved_svgs/design-canvas-7c1f4a506b734056a357af024a21acbd.svg'/></td>\n",
       "                               <td><img style='width:100px' src='./saved_designs/exported_from_scout (57)/saved_svgs/design-canvas-1417ed8f406445ecb533001d8ef9fa51.svg'/></td></tr></table>"
      ],
      "text/plain": [
       "<IPython.core.display.HTML object>"
      ]
     },
     "metadata": {},
     "output_type": "display_data"
    },
    {
     "name": "stdout",
     "output_type": "stream",
     "text": [
      "\n",
      "# diversity score 0.8067585715412169\n",
      "# score details\n",
      "{'alt_group_score': 0.0,\n",
      " 'pos_diff_score': 0.1657333389708263,\n",
      " 'rel_dist_diff_score': 0.16472816381364042,\n",
      " 'size_diff_score': 0.4762970687567502}\n"
     ]
    },
    {
     "data": {
      "text/html": [
       "<table><tr><td><img style='width:100px' src='./saved_designs/exported_from_scout (57)/saved_svgs/design-canvas-7c1f4a506b734056a357af024a21acbd.svg'/></td>\n",
       "                               <td><img style='width:100px' src='./saved_designs/exported_from_scout (57)/saved_svgs/design-canvas-ad7a0da9fdd84b428da74b191e69b4db.svg'/></td></tr></table>"
      ],
      "text/plain": [
       "<IPython.core.display.HTML object>"
      ]
     },
     "metadata": {},
     "output_type": "display_data"
    },
    {
     "name": "stdout",
     "output_type": "stream",
     "text": [
      "\n",
      "==============\n",
      "## Analyzing ScoutExports_p7 ...\n",
      "# diversity score 1.5337850728696905\n",
      "# score details\n",
      "{'alt_group_score': 0.0,\n",
      " 'pos_diff_score': 0.6461560359979625,\n",
      " 'rel_dist_diff_score': 0.48307491908056827,\n",
      " 'size_diff_score': 0.40455411779115963}\n"
     ]
    },
    {
     "data": {
      "text/html": [
       "<table><tr><td><img style='width:100px' src='./saved_designs/ScoutExports_p7/saved_svgs/design-canvas-9332a26dc98c431aa15252e8a2891ecb.svg'/></td>\n",
       "                               <td><img style='width:100px' src='./saved_designs/ScoutExports_p7/saved_svgs/design-canvas-9249b8a98c0f426aa223c268bd5cb31c.svg'/></td></tr></table>"
      ],
      "text/plain": [
       "<IPython.core.display.HTML object>"
      ]
     },
     "metadata": {},
     "output_type": "display_data"
    },
    {
     "name": "stdout",
     "output_type": "stream",
     "text": [
      "\n",
      "# diversity score 1.4970915895524313\n",
      "# score details\n",
      "{'alt_group_score': 0.0,\n",
      " 'pos_diff_score': 0.5790551793478653,\n",
      " 'rel_dist_diff_score': 0.4104030041987585,\n",
      " 'size_diff_score': 0.5076334060058074}\n"
     ]
    },
    {
     "data": {
      "text/html": [
       "<table><tr><td><img style='width:100px' src='./saved_designs/ScoutExports_p7/saved_svgs/design-canvas-85dcd017a2cc43cdb43601efcc980ca3.svg'/></td>\n",
       "                               <td><img style='width:100px' src='./saved_designs/ScoutExports_p7/saved_svgs/design-canvas-9249b8a98c0f426aa223c268bd5cb31c.svg'/></td></tr></table>"
      ],
      "text/plain": [
       "<IPython.core.display.HTML object>"
      ]
     },
     "metadata": {},
     "output_type": "display_data"
    },
    {
     "name": "stdout",
     "output_type": "stream",
     "text": [
      "\n",
      "# diversity score 1.2439100118756306\n",
      "# score details\n",
      "{'alt_group_score': 0.0,\n",
      " 'pos_diff_score': 0.37719356792322667,\n",
      " 'rel_dist_diff_score': 0.3369974884986382,\n",
      " 'size_diff_score': 0.5297189554537657}\n"
     ]
    },
    {
     "data": {
      "text/html": [
       "<table><tr><td><img style='width:100px' src='./saved_designs/ScoutExports_p7/saved_svgs/design-canvas-85dcd017a2cc43cdb43601efcc980ca3.svg'/></td>\n",
       "                               <td><img style='width:100px' src='./saved_designs/ScoutExports_p7/saved_svgs/design-canvas-9332a26dc98c431aa15252e8a2891ecb.svg'/></td></tr></table>"
      ],
      "text/plain": [
       "<IPython.core.display.HTML object>"
      ]
     },
     "metadata": {},
     "output_type": "display_data"
    },
    {
     "name": "stdout",
     "output_type": "stream",
     "text": [
      "\n",
      "# diversity score 1.1209100998959816\n",
      "# score details\n",
      "{'alt_group_score': 0.0,\n",
      " 'pos_diff_score': 0.3521726630354908,\n",
      " 'rel_dist_diff_score': 0.2747792047089923,\n",
      " 'size_diff_score': 0.4939582321514984}\n"
     ]
    },
    {
     "data": {
      "text/html": [
       "<table><tr><td><img style='width:100px' src='./saved_designs/ScoutExports_p7/saved_svgs/design-canvas-85dcd017a2cc43cdb43601efcc980ca3.svg'/></td>\n",
       "                               <td><img style='width:100px' src='./saved_designs/ScoutExports_p7/saved_svgs/design-canvas-503984a0c5bb4359b998ec0c721f1a9f.svg'/></td></tr></table>"
      ],
      "text/plain": [
       "<IPython.core.display.HTML object>"
      ]
     },
     "metadata": {},
     "output_type": "display_data"
    },
    {
     "name": "stdout",
     "output_type": "stream",
     "text": [
      "\n",
      "# diversity score 1.102551515154462\n",
      "# score details\n",
      "{'alt_group_score': 0.0,\n",
      " 'pos_diff_score': 0.37056355873980923,\n",
      " 'rel_dist_diff_score': 0.31192121043728815,\n",
      " 'size_diff_score': 0.4200667459773647}\n"
     ]
    },
    {
     "data": {
      "text/html": [
       "<table><tr><td><img style='width:100px' src='./saved_designs/ScoutExports_p7/saved_svgs/design-canvas-9332a26dc98c431aa15252e8a2891ecb.svg'/></td>\n",
       "                               <td><img style='width:100px' src='./saved_designs/ScoutExports_p7/saved_svgs/design-canvas-503984a0c5bb4359b998ec0c721f1a9f.svg'/></td></tr></table>"
      ],
      "text/plain": [
       "<IPython.core.display.HTML object>"
      ]
     },
     "metadata": {},
     "output_type": "display_data"
    },
    {
     "name": "stdout",
     "output_type": "stream",
     "text": [
      "\n",
      "# diversity score 1.0426936017932584\n",
      "# score details\n",
      "{'alt_group_score': 0.0,\n",
      " 'pos_diff_score': 0.4401937972014399,\n",
      " 'rel_dist_diff_score': 0.31834840058077396,\n",
      " 'size_diff_score': 0.2841514040110445}\n"
     ]
    },
    {
     "data": {
      "text/html": [
       "<table><tr><td><img style='width:100px' src='./saved_designs/ScoutExports_p7/saved_svgs/design-canvas-503984a0c5bb4359b998ec0c721f1a9f.svg'/></td>\n",
       "                               <td><img style='width:100px' src='./saved_designs/ScoutExports_p7/saved_svgs/design-canvas-9249b8a98c0f426aa223c268bd5cb31c.svg'/></td></tr></table>"
      ],
      "text/plain": [
       "<IPython.core.display.HTML object>"
      ]
     },
     "metadata": {},
     "output_type": "display_data"
    },
    {
     "name": "stdout",
     "output_type": "stream",
     "text": [
      "\n",
      "==============\n",
      "## Analyzing exported_from_scout (60) ...\n",
      "# diversity score 1.1613014750061916\n",
      "# score details\n",
      "{'alt_group_score': 0.0,\n",
      " 'pos_diff_score': 0.5050936179762221,\n",
      " 'rel_dist_diff_score': 0.3794319460878703,\n",
      " 'size_diff_score': 0.27677591094209925}\n"
     ]
    },
    {
     "data": {
      "text/html": [
       "<table><tr><td><img style='width:100px' src='./saved_designs/exported_from_scout (60)/saved_svgs/design-canvas-ede37baa7eee4f32a2ef6e5f790c99d5.svg'/></td>\n",
       "                               <td><img style='width:100px' src='./saved_designs/exported_from_scout (60)/saved_svgs/design-canvas-3db107c6701b45c686a7818eb951a6fb.svg'/></td></tr></table>"
      ],
      "text/plain": [
       "<IPython.core.display.HTML object>"
      ]
     },
     "metadata": {},
     "output_type": "display_data"
    },
    {
     "name": "stdout",
     "output_type": "stream",
     "text": [
      "\n",
      "# diversity score 1.1192584419827294\n",
      "# score details\n",
      "{'alt_group_score': 0.0,\n",
      " 'pos_diff_score': 0.4695883717124791,\n",
      " 'rel_dist_diff_score': 0.3357728467158059,\n",
      " 'size_diff_score': 0.31389722355444444}\n"
     ]
    },
    {
     "data": {
      "text/html": [
       "<table><tr><td><img style='width:100px' src='./saved_designs/exported_from_scout (60)/saved_svgs/design-canvas-f9f7c67b927742af95edbd30ea972096.svg'/></td>\n",
       "                               <td><img style='width:100px' src='./saved_designs/exported_from_scout (60)/saved_svgs/design-canvas-3db107c6701b45c686a7818eb951a6fb.svg'/></td></tr></table>"
      ],
      "text/plain": [
       "<IPython.core.display.HTML object>"
      ]
     },
     "metadata": {},
     "output_type": "display_data"
    },
    {
     "name": "stdout",
     "output_type": "stream",
     "text": [
      "\n",
      "# diversity score 1.0419091683953816\n",
      "# score details\n",
      "{'alt_group_score': 0.0,\n",
      " 'pos_diff_score': 0.40049045280277334,\n",
      " 'rel_dist_diff_score': 0.3127701603395927,\n",
      " 'size_diff_score': 0.3286485552530157}\n"
     ]
    },
    {
     "data": {
      "text/html": [
       "<table><tr><td><img style='width:100px' src='./saved_designs/exported_from_scout (60)/saved_svgs/design-canvas-ede37baa7eee4f32a2ef6e5f790c99d5.svg'/></td>\n",
       "                               <td><img style='width:100px' src='./saved_designs/exported_from_scout (60)/saved_svgs/design-canvas-f9f7c67b927742af95edbd30ea972096.svg'/></td></tr></table>"
      ],
      "text/plain": [
       "<IPython.core.display.HTML object>"
      ]
     },
     "metadata": {},
     "output_type": "display_data"
    },
    {
     "name": "stdout",
     "output_type": "stream",
     "text": [
      "\n",
      "==============\n",
      "## Analyzing exported_from_scout (27) ...\n",
      "# diversity score 1.570638681927631\n",
      "# score details\n",
      "{'alt_group_score': 0.0,\n",
      " 'pos_diff_score': 0.5787283129954954,\n",
      " 'rel_dist_diff_score': 0.41226694299929456,\n",
      " 'size_diff_score': 0.5796434259328412}\n"
     ]
    },
    {
     "data": {
      "text/html": [
       "<table><tr><td><img style='width:100px' src='./saved_designs/exported_from_scout (27)/saved_svgs/design-canvas-70242e15df9d48559e4c4e6903cfb320.svg'/></td>\n",
       "                               <td><img style='width:100px' src='./saved_designs/exported_from_scout (27)/saved_svgs/design-canvas-2379e0aee985456a926b0cecfe11b6d6.svg'/></td></tr></table>"
      ],
      "text/plain": [
       "<IPython.core.display.HTML object>"
      ]
     },
     "metadata": {},
     "output_type": "display_data"
    },
    {
     "name": "stdout",
     "output_type": "stream",
     "text": [
      "\n",
      "# diversity score 1.382919041590303\n",
      "# score details\n",
      "{'alt_group_score': 0.125,\n",
      " 'pos_diff_score': 0.38020203297615723,\n",
      " 'rel_dist_diff_score': 0.32258562947519126,\n",
      " 'size_diff_score': 0.5551313791389546}\n"
     ]
    },
    {
     "data": {
      "text/html": [
       "<table><tr><td><img style='width:100px' src='./saved_designs/exported_from_scout (27)/saved_svgs/design-canvas-70242e15df9d48559e4c4e6903cfb320.svg'/></td>\n",
       "                               <td><img style='width:100px' src='./saved_designs/exported_from_scout (27)/saved_svgs/design-canvas-3d18296d94404f618556683f2407b007.svg'/></td></tr></table>"
      ],
      "text/plain": [
       "<IPython.core.display.HTML object>"
      ]
     },
     "metadata": {},
     "output_type": "display_data"
    },
    {
     "name": "stdout",
     "output_type": "stream",
     "text": [
      "\n",
      "# diversity score 1.3782538299541973\n",
      "# score details\n",
      "{'alt_group_score': 0.125,\n",
      " 'pos_diff_score': 0.4800664090353125,\n",
      " 'rel_dist_diff_score': 0.3669200496177791,\n",
      " 'size_diff_score': 0.4062673713011058}\n"
     ]
    },
    {
     "data": {
      "text/html": [
       "<table><tr><td><img style='width:100px' src='./saved_designs/exported_from_scout (27)/saved_svgs/design-canvas-2379e0aee985456a926b0cecfe11b6d6.svg'/></td>\n",
       "                               <td><img style='width:100px' src='./saved_designs/exported_from_scout (27)/saved_svgs/design-canvas-a92d3607a3fb498398ed0437348cf368.svg'/></td></tr></table>"
      ],
      "text/plain": [
       "<IPython.core.display.HTML object>"
      ]
     },
     "metadata": {},
     "output_type": "display_data"
    },
    {
     "name": "stdout",
     "output_type": "stream",
     "text": [
      "\n",
      "# diversity score 1.3389629031855816\n",
      "# score details\n",
      "{'alt_group_score': 0.125,\n",
      " 'pos_diff_score': 0.4716775285196293,\n",
      " 'rel_dist_diff_score': 0.3726586125424776,\n",
      " 'size_diff_score': 0.3696267621234748}\n"
     ]
    },
    {
     "data": {
      "text/html": [
       "<table><tr><td><img style='width:100px' src='./saved_designs/exported_from_scout (27)/saved_svgs/design-canvas-c7c1d6eae7ca4644a29aa15a33cd4a1d.svg'/></td>\n",
       "                               <td><img style='width:100px' src='./saved_designs/exported_from_scout (27)/saved_svgs/design-canvas-2379e0aee985456a926b0cecfe11b6d6.svg'/></td></tr></table>"
      ],
      "text/plain": [
       "<IPython.core.display.HTML object>"
      ]
     },
     "metadata": {},
     "output_type": "display_data"
    },
    {
     "name": "stdout",
     "output_type": "stream",
     "text": [
      "\n",
      "# diversity score 1.2576124104949393\n",
      "# score details\n",
      "{'alt_group_score': 0.125,\n",
      " 'pos_diff_score': 0.4623072052744808,\n",
      " 'rel_dist_diff_score': 0.36491324608488596,\n",
      " 'size_diff_score': 0.30539195913557254}\n"
     ]
    },
    {
     "data": {
      "text/html": [
       "<table><tr><td><img style='width:100px' src='./saved_designs/exported_from_scout (27)/saved_svgs/design-canvas-2379e0aee985456a926b0cecfe11b6d6.svg'/></td>\n",
       "                               <td><img style='width:100px' src='./saved_designs/exported_from_scout (27)/saved_svgs/design-canvas-3d18296d94404f618556683f2407b007.svg'/></td></tr></table>"
      ],
      "text/plain": [
       "<IPython.core.display.HTML object>"
      ]
     },
     "metadata": {},
     "output_type": "display_data"
    },
    {
     "name": "stdout",
     "output_type": "stream",
     "text": [
      "\n",
      "# diversity score 1.239665447313834\n",
      "# score details\n",
      "{'alt_group_score': 0.125,\n",
      " 'pos_diff_score': 0.26073913776906116,\n",
      " 'rel_dist_diff_score': 0.2778221835369198,\n",
      " 'size_diff_score': 0.5761041260078532}\n"
     ]
    },
    {
     "data": {
      "text/html": [
       "<table><tr><td><img style='width:100px' src='./saved_designs/exported_from_scout (27)/saved_svgs/design-canvas-70242e15df9d48559e4c4e6903cfb320.svg'/></td>\n",
       "                               <td><img style='width:100px' src='./saved_designs/exported_from_scout (27)/saved_svgs/design-canvas-c7c1d6eae7ca4644a29aa15a33cd4a1d.svg'/></td></tr></table>"
      ],
      "text/plain": [
       "<IPython.core.display.HTML object>"
      ]
     },
     "metadata": {},
     "output_type": "display_data"
    },
    {
     "name": "stdout",
     "output_type": "stream",
     "text": [
      "\n",
      "# diversity score 1.2343180182522002\n",
      "# score details\n",
      "{'alt_group_score': 0.125,\n",
      " 'pos_diff_score': 0.32908246538834457,\n",
      " 'rel_dist_diff_score': 0.33996253223117195,\n",
      " 'size_diff_score': 0.44027302063268375}\n"
     ]
    },
    {
     "data": {
      "text/html": [
       "<table><tr><td><img style='width:100px' src='./saved_designs/exported_from_scout (27)/saved_svgs/design-canvas-70242e15df9d48559e4c4e6903cfb320.svg'/></td>\n",
       "                               <td><img style='width:100px' src='./saved_designs/exported_from_scout (27)/saved_svgs/design-canvas-a92d3607a3fb498398ed0437348cf368.svg'/></td></tr></table>"
      ],
      "text/plain": [
       "<IPython.core.display.HTML object>"
      ]
     },
     "metadata": {},
     "output_type": "display_data"
    },
    {
     "name": "stdout",
     "output_type": "stream",
     "text": [
      "\n",
      "# diversity score 1.1580001158788416\n",
      "# score details\n",
      "{'alt_group_score': 0.0,\n",
      " 'pos_diff_score': 0.38083500078318483,\n",
      " 'rel_dist_diff_score': 0.39618493735979077,\n",
      " 'size_diff_score': 0.38098017773586595}\n"
     ]
    },
    {
     "data": {
      "text/html": [
       "<table><tr><td><img style='width:100px' src='./saved_designs/exported_from_scout (27)/saved_svgs/design-canvas-c7c1d6eae7ca4644a29aa15a33cd4a1d.svg'/></td>\n",
       "                               <td><img style='width:100px' src='./saved_designs/exported_from_scout (27)/saved_svgs/design-canvas-a92d3607a3fb498398ed0437348cf368.svg'/></td></tr></table>"
      ],
      "text/plain": [
       "<IPython.core.display.HTML object>"
      ]
     },
     "metadata": {},
     "output_type": "display_data"
    },
    {
     "name": "stdout",
     "output_type": "stream",
     "text": [
      "\n",
      "# diversity score 1.1487425043856598\n",
      "# score details\n",
      "{'alt_group_score': 0.0,\n",
      " 'pos_diff_score': 0.45130939084797816,\n",
      " 'rel_dist_diff_score': 0.3464440167562443,\n",
      " 'size_diff_score': 0.35098909678143725}\n"
     ]
    },
    {
     "data": {
      "text/html": [
       "<table><tr><td><img style='width:100px' src='./saved_designs/exported_from_scout (27)/saved_svgs/design-canvas-9fc45ca457154bc19d99c5edcfbf3789.svg'/></td>\n",
       "                               <td><img style='width:100px' src='./saved_designs/exported_from_scout (27)/saved_svgs/design-canvas-2379e0aee985456a926b0cecfe11b6d6.svg'/></td></tr></table>"
      ],
      "text/plain": [
       "<IPython.core.display.HTML object>"
      ]
     },
     "metadata": {},
     "output_type": "display_data"
    },
    {
     "name": "stdout",
     "output_type": "stream",
     "text": [
      "\n",
      "# diversity score 1.0770044966914742\n",
      "# score details\n",
      "{'alt_group_score': 0.125,\n",
      " 'pos_diff_score': 0.2759306213497891,\n",
      " 'rel_dist_diff_score': 0.2590414933427935,\n",
      " 'size_diff_score': 0.41703238199889164}\n"
     ]
    },
    {
     "data": {
      "text/html": [
       "<table><tr><td><img style='width:100px' src='./saved_designs/exported_from_scout (27)/saved_svgs/design-canvas-9fc45ca457154bc19d99c5edcfbf3789.svg'/></td>\n",
       "                               <td><img style='width:100px' src='./saved_designs/exported_from_scout (27)/saved_svgs/design-canvas-3d18296d94404f618556683f2407b007.svg'/></td></tr></table>"
      ],
      "text/plain": [
       "<IPython.core.display.HTML object>"
      ]
     },
     "metadata": {},
     "output_type": "display_data"
    },
    {
     "name": "stdout",
     "output_type": "stream",
     "text": [
      "\n",
      "# diversity score 1.0582544980293593\n",
      "# score details\n",
      "{'alt_group_score': 0.125,\n",
      " 'pos_diff_score': 0.23282667474599406,\n",
      " 'rel_dist_diff_score': 0.23429940513136052,\n",
      " 'size_diff_score': 0.4661284181520047}\n"
     ]
    },
    {
     "data": {
      "text/html": [
       "<table><tr><td><img style='width:100px' src='./saved_designs/exported_from_scout (27)/saved_svgs/design-canvas-c7c1d6eae7ca4644a29aa15a33cd4a1d.svg'/></td>\n",
       "                               <td><img style='width:100px' src='./saved_designs/exported_from_scout (27)/saved_svgs/design-canvas-9fc45ca457154bc19d99c5edcfbf3789.svg'/></td></tr></table>"
      ],
      "text/plain": [
       "<IPython.core.display.HTML object>"
      ]
     },
     "metadata": {},
     "output_type": "display_data"
    },
    {
     "name": "stdout",
     "output_type": "stream",
     "text": [
      "\n",
      "# diversity score 1.0389496636853461\n",
      "# score details\n",
      "{'alt_group_score': 0.125,\n",
      " 'pos_diff_score': 0.2992594873948998,\n",
      " 'rel_dist_diff_score': 0.28711052718708513,\n",
      " 'size_diff_score': 0.3275796491033611}\n"
     ]
    },
    {
     "data": {
      "text/html": [
       "<table><tr><td><img style='width:100px' src='./saved_designs/exported_from_scout (27)/saved_svgs/design-canvas-9fc45ca457154bc19d99c5edcfbf3789.svg'/></td>\n",
       "                               <td><img style='width:100px' src='./saved_designs/exported_from_scout (27)/saved_svgs/design-canvas-a92d3607a3fb498398ed0437348cf368.svg'/></td></tr></table>"
      ],
      "text/plain": [
       "<IPython.core.display.HTML object>"
      ]
     },
     "metadata": {},
     "output_type": "display_data"
    },
    {
     "name": "stdout",
     "output_type": "stream",
     "text": [
      "\n",
      "# diversity score 1.0061862713366918\n",
      "# score details\n",
      "{'alt_group_score': 0.0,\n",
      " 'pos_diff_score': 0.33465304322019634,\n",
      " 'rel_dist_diff_score': 0.3010773955784355,\n",
      " 'size_diff_score': 0.37045583253805997}\n"
     ]
    },
    {
     "data": {
      "text/html": [
       "<table><tr><td><img style='width:100px' src='./saved_designs/exported_from_scout (27)/saved_svgs/design-canvas-a92d3607a3fb498398ed0437348cf368.svg'/></td>\n",
       "                               <td><img style='width:100px' src='./saved_designs/exported_from_scout (27)/saved_svgs/design-canvas-3d18296d94404f618556683f2407b007.svg'/></td></tr></table>"
      ],
      "text/plain": [
       "<IPython.core.display.HTML object>"
      ]
     },
     "metadata": {},
     "output_type": "display_data"
    },
    {
     "name": "stdout",
     "output_type": "stream",
     "text": [
      "\n",
      "# diversity score 0.9226245022931616\n",
      "# score details\n",
      "{'alt_group_score': 0.0,\n",
      " 'pos_diff_score': 0.24298179155792088,\n",
      " 'rel_dist_diff_score': 0.21834762603596486,\n",
      " 'size_diff_score': 0.46129508469927577}\n"
     ]
    },
    {
     "data": {
      "text/html": [
       "<table><tr><td><img style='width:100px' src='./saved_designs/exported_from_scout (27)/saved_svgs/design-canvas-70242e15df9d48559e4c4e6903cfb320.svg'/></td>\n",
       "                               <td><img style='width:100px' src='./saved_designs/exported_from_scout (27)/saved_svgs/design-canvas-9fc45ca457154bc19d99c5edcfbf3789.svg'/></td></tr></table>"
      ],
      "text/plain": [
       "<IPython.core.display.HTML object>"
      ]
     },
     "metadata": {},
     "output_type": "display_data"
    },
    {
     "name": "stdout",
     "output_type": "stream",
     "text": [
      "\n",
      "# diversity score 0.7190405421967884\n",
      "# score details\n",
      "{'alt_group_score': 0.0,\n",
      " 'pos_diff_score': 0.23553643087911685,\n",
      " 'rel_dist_diff_score': 0.2325175115799832,\n",
      " 'size_diff_score': 0.25098659973768833}\n"
     ]
    },
    {
     "data": {
      "text/html": [
       "<table><tr><td><img style='width:100px' src='./saved_designs/exported_from_scout (27)/saved_svgs/design-canvas-c7c1d6eae7ca4644a29aa15a33cd4a1d.svg'/></td>\n",
       "                               <td><img style='width:100px' src='./saved_designs/exported_from_scout (27)/saved_svgs/design-canvas-3d18296d94404f618556683f2407b007.svg'/></td></tr></table>"
      ],
      "text/plain": [
       "<IPython.core.display.HTML object>"
      ]
     },
     "metadata": {},
     "output_type": "display_data"
    },
    {
     "name": "stdout",
     "output_type": "stream",
     "text": [
      "\n",
      "==============\n",
      "## Analyzing exported_from_scout - 2019-04-23T094836.267 ...\n",
      "# diversity score 1.504676589035428\n",
      "# score details\n",
      "{'alt_group_score': 0.08333333333333333,\n",
      " 'pos_diff_score': 0.711059727691475,\n",
      " 'rel_dist_diff_score': 0.42375230231600186,\n",
      " 'size_diff_score': 0.28653122569461775}\n"
     ]
    },
    {
     "data": {
      "text/html": [
       "<table><tr><td><img style='width:100px' src='./saved_designs/exported_from_scout - 2019-04-23T094836.267/import_these_into_xd/design-canvas-2c9856f3e10141a3b2668f37e42a26af.svg'/></td>\n",
       "                               <td><img style='width:100px' src='./saved_designs/exported_from_scout - 2019-04-23T094836.267/import_these_into_xd/design-canvas-3dd245c1749e4627a1d5d7c8f677193d.svg'/></td></tr></table>"
      ],
      "text/plain": [
       "<IPython.core.display.HTML object>"
      ]
     },
     "metadata": {},
     "output_type": "display_data"
    },
    {
     "name": "stdout",
     "output_type": "stream",
     "text": [
      "\n",
      "# diversity score 1.496652148117529\n",
      "# score details\n",
      "{'alt_group_score': 0.08333333333333333,\n",
      " 'pos_diff_score': 0.6802621956263115,\n",
      " 'rel_dist_diff_score': 0.415201272176056,\n",
      " 'size_diff_score': 0.317855346981828}\n"
     ]
    },
    {
     "data": {
      "text/html": [
       "<table><tr><td><img style='width:100px' src='./saved_designs/exported_from_scout - 2019-04-23T094836.267/import_these_into_xd/design-canvas-3dd245c1749e4627a1d5d7c8f677193d.svg'/></td>\n",
       "                               <td><img style='width:100px' src='./saved_designs/exported_from_scout - 2019-04-23T094836.267/import_these_into_xd/design-canvas-ed719ba233704810a0964b7c569c9ed1.svg'/></td></tr></table>"
      ],
      "text/plain": [
       "<IPython.core.display.HTML object>"
      ]
     },
     "metadata": {},
     "output_type": "display_data"
    },
    {
     "name": "stdout",
     "output_type": "stream",
     "text": [
      "\n",
      "# diversity score 1.3576155610128826\n",
      "# score details\n",
      "{'alt_group_score': 0.08333333333333333,\n",
      " 'pos_diff_score': 0.6580167656575296,\n",
      " 'rel_dist_diff_score': 0.3314706590392467,\n",
      " 'size_diff_score': 0.284794802982773}\n"
     ]
    },
    {
     "data": {
      "text/html": [
       "<table><tr><td><img style='width:100px' src='./saved_designs/exported_from_scout - 2019-04-23T094836.267/import_these_into_xd/design-canvas-3af7dce4b8654a809d9093427d91ff19.svg'/></td>\n",
       "                               <td><img style='width:100px' src='./saved_designs/exported_from_scout - 2019-04-23T094836.267/import_these_into_xd/design-canvas-ed719ba233704810a0964b7c569c9ed1.svg'/></td></tr></table>"
      ],
      "text/plain": [
       "<IPython.core.display.HTML object>"
      ]
     },
     "metadata": {},
     "output_type": "display_data"
    },
    {
     "name": "stdout",
     "output_type": "stream",
     "text": [
      "\n",
      "# diversity score 1.3016336223549048\n",
      "# score details\n",
      "{'alt_group_score': 0.08333333333333333,\n",
      " 'pos_diff_score': 0.7087459801716679,\n",
      " 'rel_dist_diff_score': 0.3385017330550122,\n",
      " 'size_diff_score': 0.17105257579489128}\n"
     ]
    },
    {
     "data": {
      "text/html": [
       "<table><tr><td><img style='width:100px' src='./saved_designs/exported_from_scout - 2019-04-23T094836.267/import_these_into_xd/design-canvas-2c9856f3e10141a3b2668f37e42a26af.svg'/></td>\n",
       "                               <td><img style='width:100px' src='./saved_designs/exported_from_scout - 2019-04-23T094836.267/import_these_into_xd/design-canvas-3af7dce4b8654a809d9093427d91ff19.svg'/></td></tr></table>"
      ],
      "text/plain": [
       "<IPython.core.display.HTML object>"
      ]
     },
     "metadata": {},
     "output_type": "display_data"
    },
    {
     "name": "stdout",
     "output_type": "stream",
     "text": [
      "\n",
      "# diversity score 0.629978683931844\n",
      "# score details\n",
      "{'alt_group_score': 0.0,\n",
      " 'pos_diff_score': 0.2356453453451054,\n",
      " 'rel_dist_diff_score': 0.16413185104218592,\n",
      " 'size_diff_score': 0.23020148754455275}\n"
     ]
    },
    {
     "data": {
      "text/html": [
       "<table><tr><td><img style='width:100px' src='./saved_designs/exported_from_scout - 2019-04-23T094836.267/import_these_into_xd/design-canvas-3af7dce4b8654a809d9093427d91ff19.svg'/></td>\n",
       "                               <td><img style='width:100px' src='./saved_designs/exported_from_scout - 2019-04-23T094836.267/import_these_into_xd/design-canvas-3dd245c1749e4627a1d5d7c8f677193d.svg'/></td></tr></table>"
      ],
      "text/plain": [
       "<IPython.core.display.HTML object>"
      ]
     },
     "metadata": {},
     "output_type": "display_data"
    },
    {
     "name": "stdout",
     "output_type": "stream",
     "text": [
      "\n",
      "# diversity score 0.6064786029869371\n",
      "# score details\n",
      "{'alt_group_score': 0.0,\n",
      " 'pos_diff_score': 0.20562681671442098,\n",
      " 'rel_dist_diff_score': 0.15580607912981742,\n",
      " 'size_diff_score': 0.2450457071426987}\n"
     ]
    },
    {
     "data": {
      "text/html": [
       "<table><tr><td><img style='width:100px' src='./saved_designs/exported_from_scout - 2019-04-23T094836.267/import_these_into_xd/design-canvas-2c9856f3e10141a3b2668f37e42a26af.svg'/></td>\n",
       "                               <td><img style='width:100px' src='./saved_designs/exported_from_scout - 2019-04-23T094836.267/import_these_into_xd/design-canvas-ed719ba233704810a0964b7c569c9ed1.svg'/></td></tr></table>"
      ],
      "text/plain": [
       "<IPython.core.display.HTML object>"
      ]
     },
     "metadata": {},
     "output_type": "display_data"
    },
    {
     "name": "stdout",
     "output_type": "stream",
     "text": [
      "\n",
      "==============\n",
      "## Analyzing exported_from_scout (50) ...\n",
      "# diversity score 1.576802902193466\n",
      "# score details\n",
      "{'alt_group_score': 0.07692307692307693,\n",
      " 'pos_diff_score': 0.6569482741923717,\n",
      " 'rel_dist_diff_score': 0.4501342487757093,\n",
      " 'size_diff_score': 0.3927973023023079}\n"
     ]
    },
    {
     "data": {
      "text/html": [
       "<table><tr><td><img style='width:100px' src='./saved_designs/exported_from_scout (50)/saved_svgs/design-canvas-90e3874987904050a6b073c1d925fefd.svg'/></td>\n",
       "                               <td><img style='width:100px' src='./saved_designs/exported_from_scout (50)/saved_svgs/design-canvas-10a65cf7f8df4b209d36b11fa6c545d3.svg'/></td></tr></table>"
      ],
      "text/plain": [
       "<IPython.core.display.HTML object>"
      ]
     },
     "metadata": {},
     "output_type": "display_data"
    },
    {
     "name": "stdout",
     "output_type": "stream",
     "text": [
      "\n",
      "# diversity score 1.5570224585761285\n",
      "# score details\n",
      "{'alt_group_score': 0.07692307692307693,\n",
      " 'pos_diff_score': 0.6668935585487646,\n",
      " 'rel_dist_diff_score': 0.43837756572836223,\n",
      " 'size_diff_score': 0.3748282573759248}\n"
     ]
    },
    {
     "data": {
      "text/html": [
       "<table><tr><td><img style='width:100px' src='./saved_designs/exported_from_scout (50)/saved_svgs/design-canvas-6ff18e66dfda44669d2e03c69664f5c8.svg'/></td>\n",
       "                               <td><img style='width:100px' src='./saved_designs/exported_from_scout (50)/saved_svgs/design-canvas-10a65cf7f8df4b209d36b11fa6c545d3.svg'/></td></tr></table>"
      ],
      "text/plain": [
       "<IPython.core.display.HTML object>"
      ]
     },
     "metadata": {},
     "output_type": "display_data"
    },
    {
     "name": "stdout",
     "output_type": "stream",
     "text": [
      "\n",
      "# diversity score 0.7965285728711677\n",
      "# score details\n",
      "{'alt_group_score': 0.0,\n",
      " 'pos_diff_score': 0.20745543076403,\n",
      " 'rel_dist_diff_score': 0.14294228899872735,\n",
      " 'size_diff_score': 0.44613085310841044}\n"
     ]
    },
    {
     "data": {
      "text/html": [
       "<table><tr><td><img style='width:100px' src='./saved_designs/exported_from_scout (50)/saved_svgs/design-canvas-6ff18e66dfda44669d2e03c69664f5c8.svg'/></td>\n",
       "                               <td><img style='width:100px' src='./saved_designs/exported_from_scout (50)/saved_svgs/design-canvas-90e3874987904050a6b073c1d925fefd.svg'/></td></tr></table>"
      ],
      "text/plain": [
       "<IPython.core.display.HTML object>"
      ]
     },
     "metadata": {},
     "output_type": "display_data"
    },
    {
     "name": "stdout",
     "output_type": "stream",
     "text": [
      "\n",
      "==============\n",
      "## Analyzing exported_from_scout (96) ...\n",
      "# diversity score 1.4976834170651812\n",
      "# score details\n",
      "{'alt_group_score': 0.0,\n",
      " 'pos_diff_score': 0.4103737057999978,\n",
      " 'rel_dist_diff_score': 0.3751985733609425,\n",
      " 'size_diff_score': 0.7121111379042409}\n"
     ]
    },
    {
     "data": {
      "text/html": [
       "<table><tr><td><img style='width:100px' src='./saved_designs/exported_from_scout (96)/import_these_into_xd/design-canvas-4f707855b72d4faca871652c16f40964.svg'/></td>\n",
       "                               <td><img style='width:100px' src='./saved_designs/exported_from_scout (96)/import_these_into_xd/design-canvas-eb2b5c26801f42d4aab4d1f1abe91579.svg'/></td></tr></table>"
      ],
      "text/plain": [
       "<IPython.core.display.HTML object>"
      ]
     },
     "metadata": {},
     "output_type": "display_data"
    },
    {
     "name": "stdout",
     "output_type": "stream",
     "text": [
      "\n",
      "==============\n",
      "## Analyzing exported_from_scout (51) ...\n",
      "# diversity score 1.3726345550946037\n",
      "# score details\n",
      "{'alt_group_score': 0.07692307692307693,\n",
      " 'pos_diff_score': 0.6569482741923717,\n",
      " 'rel_dist_diff_score': 0.4501342487757093,\n",
      " 'size_diff_score': 0.18862895520344578}\n"
     ]
    },
    {
     "data": {
      "text/html": [
       "<table><tr><td><img style='width:100px' src='./saved_designs/exported_from_scout (51)/saved_svgs/design-canvas-90e3874987904050a6b073c1d925fefd.svg'/></td>\n",
       "                               <td><img style='width:100px' src='./saved_designs/exported_from_scout (51)/saved_svgs/design-canvas-10a65cf7f8df4b209d36b11fa6c545d3.svg'/></td></tr></table>"
      ],
      "text/plain": [
       "<IPython.core.display.HTML object>"
      ]
     },
     "metadata": {},
     "output_type": "display_data"
    },
    {
     "name": "stdout",
     "output_type": "stream",
     "text": [
      "\n",
      "# diversity score 1.3621940692113481\n",
      "# score details\n",
      "{'alt_group_score': 0.07692307692307693,\n",
      " 'pos_diff_score': 0.6668935585487646,\n",
      " 'rel_dist_diff_score': 0.43837756572836223,\n",
      " 'size_diff_score': 0.17999986801114426}\n"
     ]
    },
    {
     "data": {
      "text/html": [
       "<table><tr><td><img style='width:100px' src='./saved_designs/exported_from_scout (51)/saved_svgs/design-canvas-6ff18e66dfda44669d2e03c69664f5c8.svg'/></td>\n",
       "                               <td><img style='width:100px' src='./saved_designs/exported_from_scout (51)/saved_svgs/design-canvas-10a65cf7f8df4b209d36b11fa6c545d3.svg'/></td></tr></table>"
      ],
      "text/plain": [
       "<IPython.core.display.HTML object>"
      ]
     },
     "metadata": {},
     "output_type": "display_data"
    },
    {
     "name": "stdout",
     "output_type": "stream",
     "text": [
      "\n",
      "# diversity score 1.3383197338795758\n",
      "# score details\n",
      "{'alt_group_score': 0.07692307692307693,\n",
      " 'pos_diff_score': 0.5673494054067647,\n",
      " 'rel_dist_diff_score': 0.3931140024023088,\n",
      " 'size_diff_score': 0.30093324914742553}\n"
     ]
    },
    {
     "data": {
      "text/html": [
       "<table><tr><td><img style='width:100px' src='./saved_designs/exported_from_scout (51)/saved_svgs/design-canvas-90e3874987904050a6b073c1d925fefd.svg'/></td>\n",
       "                               <td><img style='width:100px' src='./saved_designs/exported_from_scout (51)/saved_svgs/design-canvas-2635f542ddfa4b378c626d8f5b65d782.svg'/></td></tr></table>"
      ],
      "text/plain": [
       "<IPython.core.display.HTML object>"
      ]
     },
     "metadata": {},
     "output_type": "display_data"
    },
    {
     "name": "stdout",
     "output_type": "stream",
     "text": [
      "\n",
      "# diversity score 1.3101668177682457\n",
      "# score details\n",
      "{'alt_group_score': 0.0,\n",
      " 'pos_diff_score': 0.6075914343994973,\n",
      " 'rel_dist_diff_score': 0.3924938675802991,\n",
      " 'size_diff_score': 0.31008151578844945}\n"
     ]
    },
    {
     "data": {
      "text/html": [
       "<table><tr><td><img style='width:100px' src='./saved_designs/exported_from_scout (51)/saved_svgs/design-canvas-90e3874987904050a6b073c1d925fefd.svg'/></td>\n",
       "                               <td><img style='width:100px' src='./saved_designs/exported_from_scout (51)/saved_svgs/design-canvas-1247f5e41e6d40b7b60efc468451e1b9.svg'/></td></tr></table>"
      ],
      "text/plain": [
       "<IPython.core.display.HTML object>"
      ]
     },
     "metadata": {},
     "output_type": "display_data"
    },
    {
     "name": "stdout",
     "output_type": "stream",
     "text": [
      "\n",
      "# diversity score 1.2758824860217068\n",
      "# score details\n",
      "{'alt_group_score': 0.0,\n",
      " 'pos_diff_score': 0.5850849333532627,\n",
      " 'rel_dist_diff_score': 0.3722026805005609,\n",
      " 'size_diff_score': 0.3185948721678833}\n"
     ]
    },
    {
     "data": {
      "text/html": [
       "<table><tr><td><img style='width:100px' src='./saved_designs/exported_from_scout (51)/saved_svgs/design-canvas-6ff18e66dfda44669d2e03c69664f5c8.svg'/></td>\n",
       "                               <td><img style='width:100px' src='./saved_designs/exported_from_scout (51)/saved_svgs/design-canvas-1247f5e41e6d40b7b60efc468451e1b9.svg'/></td></tr></table>"
      ],
      "text/plain": [
       "<IPython.core.display.HTML object>"
      ]
     },
     "metadata": {},
     "output_type": "display_data"
    },
    {
     "name": "stdout",
     "output_type": "stream",
     "text": [
      "\n",
      "# diversity score 1.2587703450113974\n",
      "# score details\n",
      "{'alt_group_score': 0.07692307692307693,\n",
      " 'pos_diff_score': 0.5138206351415471,\n",
      " 'rel_dist_diff_score': 0.3801737650895912,\n",
      " 'size_diff_score': 0.2878528678571821}\n"
     ]
    },
    {
     "data": {
      "text/html": [
       "<table><tr><td><img style='width:100px' src='./saved_designs/exported_from_scout (51)/saved_svgs/design-canvas-6ff18e66dfda44669d2e03c69664f5c8.svg'/></td>\n",
       "                               <td><img style='width:100px' src='./saved_designs/exported_from_scout (51)/saved_svgs/design-canvas-2635f542ddfa4b378c626d8f5b65d782.svg'/></td></tr></table>"
      ],
      "text/plain": [
       "<IPython.core.display.HTML object>"
      ]
     },
     "metadata": {},
     "output_type": "display_data"
    },
    {
     "name": "stdout",
     "output_type": "stream",
     "text": [
      "\n",
      "# diversity score 1.1283376066884456\n",
      "# score details\n",
      "{'alt_group_score': 0.0,\n",
      " 'pos_diff_score': 0.48793681376787934,\n",
      " 'rel_dist_diff_score': 0.36490094960641634,\n",
      " 'size_diff_score': 0.27549984331414984}\n"
     ]
    },
    {
     "data": {
      "text/html": [
       "<table><tr><td><img style='width:100px' src='./saved_designs/exported_from_scout (51)/saved_svgs/design-canvas-10a65cf7f8df4b209d36b11fa6c545d3.svg'/></td>\n",
       "                               <td><img style='width:100px' src='./saved_designs/exported_from_scout (51)/saved_svgs/design-canvas-2635f542ddfa4b378c626d8f5b65d782.svg'/></td></tr></table>"
      ],
      "text/plain": [
       "<IPython.core.display.HTML object>"
      ]
     },
     "metadata": {},
     "output_type": "display_data"
    },
    {
     "name": "stdout",
     "output_type": "stream",
     "text": [
      "\n",
      "# diversity score 1.0174539183930347\n",
      "# score details\n",
      "{'alt_group_score': 0.07692307692307693,\n",
      " 'pos_diff_score': 0.3709023559777084,\n",
      " 'rel_dist_diff_score': 0.27246336042381203,\n",
      " 'size_diff_score': 0.2971651250684373}\n"
     ]
    },
    {
     "data": {
      "text/html": [
       "<table><tr><td><img style='width:100px' src='./saved_designs/exported_from_scout (51)/saved_svgs/design-canvas-10a65cf7f8df4b209d36b11fa6c545d3.svg'/></td>\n",
       "                               <td><img style='width:100px' src='./saved_designs/exported_from_scout (51)/saved_svgs/design-canvas-1247f5e41e6d40b7b60efc468451e1b9.svg'/></td></tr></table>"
      ],
      "text/plain": [
       "<IPython.core.display.HTML object>"
      ]
     },
     "metadata": {},
     "output_type": "display_data"
    },
    {
     "name": "stdout",
     "output_type": "stream",
     "text": [
      "\n",
      "# diversity score 0.9576848435192475\n",
      "# score details\n",
      "{'alt_group_score': 0.07692307692307693,\n",
      " 'pos_diff_score': 0.31606761584232623,\n",
      " 'rel_dist_diff_score': 0.22737982942235482,\n",
      " 'size_diff_score': 0.33731432133148953}\n"
     ]
    },
    {
     "data": {
      "text/html": [
       "<table><tr><td><img style='width:100px' src='./saved_designs/exported_from_scout (51)/saved_svgs/design-canvas-2635f542ddfa4b378c626d8f5b65d782.svg'/></td>\n",
       "                               <td><img style='width:100px' src='./saved_designs/exported_from_scout (51)/saved_svgs/design-canvas-1247f5e41e6d40b7b60efc468451e1b9.svg'/></td></tr></table>"
      ],
      "text/plain": [
       "<IPython.core.display.HTML object>"
      ]
     },
     "metadata": {},
     "output_type": "display_data"
    },
    {
     "name": "stdout",
     "output_type": "stream",
     "text": [
      "\n",
      "# diversity score 0.564638490288963\n",
      "# score details\n",
      "{'alt_group_score': 0.0,\n",
      " 'pos_diff_score': 0.20745543076403,\n",
      " 'rel_dist_diff_score': 0.14294228899872735,\n",
      " 'size_diff_score': 0.2142407705262057}\n"
     ]
    },
    {
     "data": {
      "text/html": [
       "<table><tr><td><img style='width:100px' src='./saved_designs/exported_from_scout (51)/saved_svgs/design-canvas-6ff18e66dfda44669d2e03c69664f5c8.svg'/></td>\n",
       "                               <td><img style='width:100px' src='./saved_designs/exported_from_scout (51)/saved_svgs/design-canvas-90e3874987904050a6b073c1d925fefd.svg'/></td></tr></table>"
      ],
      "text/plain": [
       "<IPython.core.display.HTML object>"
      ]
     },
     "metadata": {},
     "output_type": "display_data"
    },
    {
     "name": "stdout",
     "output_type": "stream",
     "text": [
      "\n",
      "==============\n",
      "## Analyzing exported_from_scout (97) ...\n",
      "# diversity score 1.4249342846281554\n",
      "# score details\n",
      "{'alt_group_score': 0.0,\n",
      " 'pos_diff_score': 0.5018654727282198,\n",
      " 'rel_dist_diff_score': 0.34620994655216614,\n",
      " 'size_diff_score': 0.5768588653477694}\n"
     ]
    },
    {
     "data": {
      "text/html": [
       "<table><tr><td><img style='width:100px' src='./saved_designs/exported_from_scout (97)/import_these_into_xd/design-canvas-f0dc6cec5324477290180c56fda9aeb1.svg'/></td>\n",
       "                               <td><img style='width:100px' src='./saved_designs/exported_from_scout (97)/import_these_into_xd/design-canvas-b8d7e094ee214de0bb66d93ccef6b1e5.svg'/></td></tr></table>"
      ],
      "text/plain": [
       "<IPython.core.display.HTML object>"
      ]
     },
     "metadata": {},
     "output_type": "display_data"
    },
    {
     "name": "stdout",
     "output_type": "stream",
     "text": [
      "\n",
      "# diversity score 1.3291976734937476\n",
      "# score details\n",
      "{'alt_group_score': 0.125,\n",
      " 'pos_diff_score': 0.4225364651955221,\n",
      " 'rel_dist_diff_score': 0.22400608090369545,\n",
      " 'size_diff_score': 0.55765512739453}\n"
     ]
    },
    {
     "data": {
      "text/html": [
       "<table><tr><td><img style='width:100px' src='./saved_designs/exported_from_scout (97)/import_these_into_xd/design-canvas-33b90f9270d24b3ba34499c1c3bb68b4.svg'/></td>\n",
       "                               <td><img style='width:100px' src='./saved_designs/exported_from_scout (97)/import_these_into_xd/design-canvas-b8d7e094ee214de0bb66d93ccef6b1e5.svg'/></td></tr></table>"
      ],
      "text/plain": [
       "<IPython.core.display.HTML object>"
      ]
     },
     "metadata": {},
     "output_type": "display_data"
    },
    {
     "name": "stdout",
     "output_type": "stream",
     "text": [
      "\n",
      "# diversity score 1.3158623985601905\n",
      "# score details\n",
      "{'alt_group_score': 0.125,\n",
      " 'pos_diff_score': 0.5261095140799039,\n",
      " 'rel_dist_diff_score': 0.20610158790071667,\n",
      " 'size_diff_score': 0.45865129657956993}\n"
     ]
    },
    {
     "data": {
      "text/html": [
       "<table><tr><td><img style='width:100px' src='./saved_designs/exported_from_scout (97)/import_these_into_xd/design-canvas-33b90f9270d24b3ba34499c1c3bb68b4.svg'/></td>\n",
       "                               <td><img style='width:100px' src='./saved_designs/exported_from_scout (97)/import_these_into_xd/design-canvas-4ec926fa41894887bcf3ac1ac5af35f7.svg'/></td></tr></table>"
      ],
      "text/plain": [
       "<IPython.core.display.HTML object>"
      ]
     },
     "metadata": {},
     "output_type": "display_data"
    },
    {
     "name": "stdout",
     "output_type": "stream",
     "text": [
      "\n",
      "# diversity score 1.3118269457771736\n",
      "# score details\n",
      "{'alt_group_score': 0.0,\n",
      " 'pos_diff_score': 0.518603446312516,\n",
      " 'rel_dist_diff_score': 0.2683069292310069,\n",
      " 'size_diff_score': 0.5249165702336506}\n"
     ]
    },
    {
     "data": {
      "text/html": [
       "<table><tr><td><img style='width:100px' src='./saved_designs/exported_from_scout (97)/import_these_into_xd/design-canvas-b8d7e094ee214de0bb66d93ccef6b1e5.svg'/></td>\n",
       "                               <td><img style='width:100px' src='./saved_designs/exported_from_scout (97)/import_these_into_xd/design-canvas-4749f58bb9d24fc99a15a0145fecb572.svg'/></td></tr></table>"
      ],
      "text/plain": [
       "<IPython.core.display.HTML object>"
      ]
     },
     "metadata": {},
     "output_type": "display_data"
    },
    {
     "name": "stdout",
     "output_type": "stream",
     "text": [
      "\n",
      "# diversity score 1.2941571559064249\n",
      "# score details\n",
      "{'alt_group_score': 0.125,\n",
      " 'pos_diff_score': 0.4656570404827421,\n",
      " 'rel_dist_diff_score': 0.26836003567656813,\n",
      " 'size_diff_score': 0.4351400797471148}\n"
     ]
    },
    {
     "data": {
      "text/html": [
       "<table><tr><td><img style='width:100px' src='./saved_designs/exported_from_scout (97)/import_these_into_xd/design-canvas-33b90f9270d24b3ba34499c1c3bb68b4.svg'/></td>\n",
       "                               <td><img style='width:100px' src='./saved_designs/exported_from_scout (97)/import_these_into_xd/design-canvas-062699f37400475cbba6dbfc4d6933b3.svg'/></td></tr></table>"
      ],
      "text/plain": [
       "<IPython.core.display.HTML object>"
      ]
     },
     "metadata": {},
     "output_type": "display_data"
    },
    {
     "name": "stdout",
     "output_type": "stream",
     "text": [
      "\n",
      "# diversity score 1.2548717563389606\n",
      "# score details\n",
      "{'alt_group_score': 0.125,\n",
      " 'pos_diff_score': 0.39813263049470315,\n",
      " 'rel_dist_diff_score': 0.2806314890904447,\n",
      " 'size_diff_score': 0.45110763675381277}\n"
     ]
    },
    {
     "data": {
      "text/html": [
       "<table><tr><td><img style='width:100px' src='./saved_designs/exported_from_scout (97)/import_these_into_xd/design-canvas-33b90f9270d24b3ba34499c1c3bb68b4.svg'/></td>\n",
       "                               <td><img style='width:100px' src='./saved_designs/exported_from_scout (97)/import_these_into_xd/design-canvas-f0dc6cec5324477290180c56fda9aeb1.svg'/></td></tr></table>"
      ],
      "text/plain": [
       "<IPython.core.display.HTML object>"
      ]
     },
     "metadata": {},
     "output_type": "display_data"
    },
    {
     "name": "stdout",
     "output_type": "stream",
     "text": [
      "\n",
      "# diversity score 1.2239612682549663\n",
      "# score details\n",
      "{'alt_group_score': 0.125,\n",
      " 'pos_diff_score': 0.4715834817523379,\n",
      " 'rel_dist_diff_score': 0.19285728602024726,\n",
      " 'size_diff_score': 0.43452050048238106}\n"
     ]
    },
    {
     "data": {
      "text/html": [
       "<table><tr><td><img style='width:100px' src='./saved_designs/exported_from_scout (97)/import_these_into_xd/design-canvas-33b90f9270d24b3ba34499c1c3bb68b4.svg'/></td>\n",
       "                               <td><img style='width:100px' src='./saved_designs/exported_from_scout (97)/import_these_into_xd/design-canvas-4749f58bb9d24fc99a15a0145fecb572.svg'/></td></tr></table>"
      ],
      "text/plain": [
       "<IPython.core.display.HTML object>"
      ]
     },
     "metadata": {},
     "output_type": "display_data"
    },
    {
     "name": "stdout",
     "output_type": "stream",
     "text": [
      "\n",
      "# diversity score 1.1943997447479586\n",
      "# score details\n",
      "{'alt_group_score': 0.0,\n",
      " 'pos_diff_score': 0.4467363561062081,\n",
      " 'rel_dist_diff_score': 0.2577619668262814,\n",
      " 'size_diff_score': 0.48990142181546903}\n"
     ]
    },
    {
     "data": {
      "text/html": [
       "<table><tr><td><img style='width:100px' src='./saved_designs/exported_from_scout (97)/import_these_into_xd/design-canvas-b8d7e094ee214de0bb66d93ccef6b1e5.svg'/></td>\n",
       "                               <td><img style='width:100px' src='./saved_designs/exported_from_scout (97)/import_these_into_xd/design-canvas-062699f37400475cbba6dbfc4d6933b3.svg'/></td></tr></table>"
      ],
      "text/plain": [
       "<IPython.core.display.HTML object>"
      ]
     },
     "metadata": {},
     "output_type": "display_data"
    },
    {
     "name": "stdout",
     "output_type": "stream",
     "text": [
      "\n",
      "# diversity score 1.178267867674687\n",
      "# score details\n",
      "{'alt_group_score': 0.0,\n",
      " 'pos_diff_score': 0.3640490844902253,\n",
      " 'rel_dist_diff_score': 0.34664995250489034,\n",
      " 'size_diff_score': 0.46756883067957133}\n"
     ]
    },
    {
     "data": {
      "text/html": [
       "<table><tr><td><img style='width:100px' src='./saved_designs/exported_from_scout (97)/import_these_into_xd/design-canvas-f0dc6cec5324477290180c56fda9aeb1.svg'/></td>\n",
       "                               <td><img style='width:100px' src='./saved_designs/exported_from_scout (97)/import_these_into_xd/design-canvas-062699f37400475cbba6dbfc4d6933b3.svg'/></td></tr></table>"
      ],
      "text/plain": [
       "<IPython.core.display.HTML object>"
      ]
     },
     "metadata": {},
     "output_type": "display_data"
    },
    {
     "name": "stdout",
     "output_type": "stream",
     "text": [
      "\n",
      "# diversity score 1.1272073424253044\n",
      "# score details\n",
      "{'alt_group_score': 0.0,\n",
      " 'pos_diff_score': 0.3757827738209313,\n",
      " 'rel_dist_diff_score': 0.2774402774351435,\n",
      " 'size_diff_score': 0.4739842911692297}\n"
     ]
    },
    {
     "data": {
      "text/html": [
       "<table><tr><td><img style='width:100px' src='./saved_designs/exported_from_scout (97)/import_these_into_xd/design-canvas-f0dc6cec5324477290180c56fda9aeb1.svg'/></td>\n",
       "                               <td><img style='width:100px' src='./saved_designs/exported_from_scout (97)/import_these_into_xd/design-canvas-4ec926fa41894887bcf3ac1ac5af35f7.svg'/></td></tr></table>"
      ],
      "text/plain": [
       "<IPython.core.display.HTML object>"
      ]
     },
     "metadata": {},
     "output_type": "display_data"
    },
    {
     "name": "stdout",
     "output_type": "stream",
     "text": [
      "\n",
      "# diversity score 1.0575813031625267\n",
      "# score details\n",
      "{'alt_group_score': 0.0,\n",
      " 'pos_diff_score': 0.4643702899783186,\n",
      " 'rel_dist_diff_score': 0.16972169535658474,\n",
      " 'size_diff_score': 0.4234893178276234}\n"
     ]
    },
    {
     "data": {
      "text/html": [
       "<table><tr><td><img style='width:100px' src='./saved_designs/exported_from_scout (97)/import_these_into_xd/design-canvas-b8d7e094ee214de0bb66d93ccef6b1e5.svg'/></td>\n",
       "                               <td><img style='width:100px' src='./saved_designs/exported_from_scout (97)/import_these_into_xd/design-canvas-4ec926fa41894887bcf3ac1ac5af35f7.svg'/></td></tr></table>"
      ],
      "text/plain": [
       "<IPython.core.display.HTML object>"
      ]
     },
     "metadata": {},
     "output_type": "display_data"
    },
    {
     "name": "stdout",
     "output_type": "stream",
     "text": [
      "\n",
      "# diversity score 1.0170557041987767\n",
      "# score details\n",
      "{'alt_group_score': 0.0,\n",
      " 'pos_diff_score': 0.4036017466398279,\n",
      " 'rel_dist_diff_score': 0.3507256813357391,\n",
      " 'size_diff_score': 0.26272827622320954}\n"
     ]
    },
    {
     "data": {
      "text/html": [
       "<table><tr><td><img style='width:100px' src='./saved_designs/exported_from_scout (97)/import_these_into_xd/design-canvas-f0dc6cec5324477290180c56fda9aeb1.svg'/></td>\n",
       "                               <td><img style='width:100px' src='./saved_designs/exported_from_scout (97)/import_these_into_xd/design-canvas-4749f58bb9d24fc99a15a0145fecb572.svg'/></td></tr></table>"
      ],
      "text/plain": [
       "<IPython.core.display.HTML object>"
      ]
     },
     "metadata": {},
     "output_type": "display_data"
    },
    {
     "name": "stdout",
     "output_type": "stream",
     "text": [
      "\n",
      "# diversity score 1.0164233217233052\n",
      "# score details\n",
      "{'alt_group_score': 0.0,\n",
      " 'pos_diff_score': 0.32703437279631203,\n",
      " 'rel_dist_diff_score': 0.23429906712142257,\n",
      " 'size_diff_score': 0.4550898818055706}\n"
     ]
    },
    {
     "data": {
      "text/html": [
       "<table><tr><td><img style='width:100px' src='./saved_designs/exported_from_scout (97)/import_these_into_xd/design-canvas-4749f58bb9d24fc99a15a0145fecb572.svg'/></td>\n",
       "                               <td><img style='width:100px' src='./saved_designs/exported_from_scout (97)/import_these_into_xd/design-canvas-062699f37400475cbba6dbfc4d6933b3.svg'/></td></tr></table>"
      ],
      "text/plain": [
       "<IPython.core.display.HTML object>"
      ]
     },
     "metadata": {},
     "output_type": "display_data"
    },
    {
     "name": "stdout",
     "output_type": "stream",
     "text": [
      "\n",
      "# diversity score 0.859924076483932\n",
      "# score details\n",
      "{'alt_group_score': 0.0,\n",
      " 'pos_diff_score': 0.22501134270456039,\n",
      " 'rel_dist_diff_score': 0.17904457408231633,\n",
      " 'size_diff_score': 0.4558681596970553}\n"
     ]
    },
    {
     "data": {
      "text/html": [
       "<table><tr><td><img style='width:100px' src='./saved_designs/exported_from_scout (97)/import_these_into_xd/design-canvas-4749f58bb9d24fc99a15a0145fecb572.svg'/></td>\n",
       "                               <td><img style='width:100px' src='./saved_designs/exported_from_scout (97)/import_these_into_xd/design-canvas-4ec926fa41894887bcf3ac1ac5af35f7.svg'/></td></tr></table>"
      ],
      "text/plain": [
       "<IPython.core.display.HTML object>"
      ]
     },
     "metadata": {},
     "output_type": "display_data"
    },
    {
     "name": "stdout",
     "output_type": "stream",
     "text": [
      "\n",
      "# diversity score 0.633889525783271\n",
      "# score details\n",
      "{'alt_group_score': 0.0,\n",
      " 'pos_diff_score': 0.20794498045152382,\n",
      " 'rel_dist_diff_score': 0.17965162870052878,\n",
      " 'size_diff_score': 0.24629291663121833}\n"
     ]
    },
    {
     "data": {
      "text/html": [
       "<table><tr><td><img style='width:100px' src='./saved_designs/exported_from_scout (97)/import_these_into_xd/design-canvas-4ec926fa41894887bcf3ac1ac5af35f7.svg'/></td>\n",
       "                               <td><img style='width:100px' src='./saved_designs/exported_from_scout (97)/import_these_into_xd/design-canvas-062699f37400475cbba6dbfc4d6933b3.svg'/></td></tr></table>"
      ],
      "text/plain": [
       "<IPython.core.display.HTML object>"
      ]
     },
     "metadata": {},
     "output_type": "display_data"
    },
    {
     "name": "stdout",
     "output_type": "stream",
     "text": [
      "\n",
      "==============\n",
      "## Analyzing exported_from_scout (52) ...\n",
      "# diversity score 1.3515502144624296\n",
      "# score details\n",
      "{'alt_group_score': 0.0,\n",
      " 'pos_diff_score': 0.5947653833998738,\n",
      " 'rel_dist_diff_score': 0.40469108418261207,\n",
      " 'size_diff_score': 0.3520937468799436}\n"
     ]
    },
    {
     "data": {
      "text/html": [
       "<table><tr><td><img style='width:100px' src='./saved_designs/exported_from_scout (52)/saved_svgs/design-canvas-6726aaf1c8de40d1a7a3a4890983126b.svg'/></td>\n",
       "                               <td><img style='width:100px' src='./saved_designs/exported_from_scout (52)/saved_svgs/design-canvas-a5e89620c72146d9a8943c5d3c28934f.svg'/></td></tr></table>"
      ],
      "text/plain": [
       "<IPython.core.display.HTML object>"
      ]
     },
     "metadata": {},
     "output_type": "display_data"
    },
    {
     "name": "stdout",
     "output_type": "stream",
     "text": [
      "\n",
      "# diversity score 1.3326894465988062\n",
      "# score details\n",
      "{'alt_group_score': 0.08333333333333333,\n",
      " 'pos_diff_score': 0.6528547110628441,\n",
      " 'rel_dist_diff_score': 0.46658543456796364,\n",
      " 'size_diff_score': 0.12991596763466504}\n"
     ]
    },
    {
     "data": {
      "text/html": [
       "<table><tr><td><img style='width:100px' src='./saved_designs/exported_from_scout (52)/saved_svgs/design-canvas-9cbcc62216344338bb17718474e81f1e.svg'/></td>\n",
       "                               <td><img style='width:100px' src='./saved_designs/exported_from_scout (52)/saved_svgs/design-canvas-a3e1d87bf50e4259b1ad3f8d85ee1601.svg'/></td></tr></table>"
      ],
      "text/plain": [
       "<IPython.core.display.HTML object>"
      ]
     },
     "metadata": {},
     "output_type": "display_data"
    },
    {
     "name": "stdout",
     "output_type": "stream",
     "text": [
      "\n",
      "# diversity score 1.3252863789330225\n",
      "# score details\n",
      "{'alt_group_score': 0.0,\n",
      " 'pos_diff_score': 0.5831132263441483,\n",
      " 'rel_dist_diff_score': 0.40845208058376137,\n",
      " 'size_diff_score': 0.3337210720051128}\n"
     ]
    },
    {
     "data": {
      "text/html": [
       "<table><tr><td><img style='width:100px' src='./saved_designs/exported_from_scout (52)/saved_svgs/design-canvas-9cbcc62216344338bb17718474e81f1e.svg'/></td>\n",
       "                               <td><img style='width:100px' src='./saved_designs/exported_from_scout (52)/saved_svgs/design-canvas-7599585b0b764c2189747bf10283f144.svg'/></td></tr></table>"
      ],
      "text/plain": [
       "<IPython.core.display.HTML object>"
      ]
     },
     "metadata": {},
     "output_type": "display_data"
    },
    {
     "name": "stdout",
     "output_type": "stream",
     "text": [
      "\n",
      "# diversity score 1.2827348067564044\n",
      "# score details\n",
      "{'alt_group_score': 0.08333333333333333,\n",
      " 'pos_diff_score': 0.4876924952934459,\n",
      " 'rel_dist_diff_score': 0.3653195314680465,\n",
      " 'size_diff_score': 0.3463894466615786}\n"
     ]
    },
    {
     "data": {
      "text/html": [
       "<table><tr><td><img style='width:100px' src='./saved_designs/exported_from_scout (52)/saved_svgs/design-canvas-56cc849527104b9a99bc9ec9a056faed.svg'/></td>\n",
       "                               <td><img style='width:100px' src='./saved_designs/exported_from_scout (52)/saved_svgs/design-canvas-9cbcc62216344338bb17718474e81f1e.svg'/></td></tr></table>"
      ],
      "text/plain": [
       "<IPython.core.display.HTML object>"
      ]
     },
     "metadata": {},
     "output_type": "display_data"
    },
    {
     "name": "stdout",
     "output_type": "stream",
     "text": [
      "\n",
      "# diversity score 1.2819791326413754\n",
      "# score details\n",
      "{'alt_group_score': 0.0,\n",
      " 'pos_diff_score': 0.5683412691307693,\n",
      " 'rel_dist_diff_score': 0.38483988889989146,\n",
      " 'size_diff_score': 0.3287979746107146}\n"
     ]
    },
    {
     "data": {
      "text/html": [
       "<table><tr><td><img style='width:100px' src='./saved_designs/exported_from_scout (52)/saved_svgs/design-canvas-6726aaf1c8de40d1a7a3a4890983126b.svg'/></td>\n",
       "                               <td><img style='width:100px' src='./saved_designs/exported_from_scout (52)/saved_svgs/design-canvas-a3e1d87bf50e4259b1ad3f8d85ee1601.svg'/></td></tr></table>"
      ],
      "text/plain": [
       "<IPython.core.display.HTML object>"
      ]
     },
     "metadata": {},
     "output_type": "display_data"
    },
    {
     "name": "stdout",
     "output_type": "stream",
     "text": [
      "\n",
      "# diversity score 1.2758622954451533\n",
      "# score details\n",
      "{'alt_group_score': 0.0,\n",
      " 'pos_diff_score': 0.5670873010596199,\n",
      " 'rel_dist_diff_score': 0.3918336373886996,\n",
      " 'size_diff_score': 0.31694135699683385}\n"
     ]
    },
    {
     "data": {
      "text/html": [
       "<table><tr><td><img style='width:100px' src='./saved_designs/exported_from_scout (52)/saved_svgs/design-canvas-9cbcc62216344338bb17718474e81f1e.svg'/></td>\n",
       "                               <td><img style='width:100px' src='./saved_designs/exported_from_scout (52)/saved_svgs/design-canvas-9d8da3fdb3874a8c97c1b334bb626a28.svg'/></td></tr></table>"
      ],
      "text/plain": [
       "<IPython.core.display.HTML object>"
      ]
     },
     "metadata": {},
     "output_type": "display_data"
    },
    {
     "name": "stdout",
     "output_type": "stream",
     "text": [
      "\n",
      "# diversity score 1.2280046009233159\n",
      "# score details\n",
      "{'alt_group_score': 0.08333333333333333,\n",
      " 'pos_diff_score': 0.6495582751389645,\n",
      " 'rel_dist_diff_score': 0.4394020108624017,\n",
      " 'size_diff_score': 0.055710981588616156}\n"
     ]
    },
    {
     "data": {
      "text/html": [
       "<table><tr><td><img style='width:100px' src='./saved_designs/exported_from_scout (52)/saved_svgs/design-canvas-9cbcc62216344338bb17718474e81f1e.svg'/></td>\n",
       "                               <td><img style='width:100px' src='./saved_designs/exported_from_scout (52)/saved_svgs/design-canvas-a5e89620c72146d9a8943c5d3c28934f.svg'/></td></tr></table>"
      ],
      "text/plain": [
       "<IPython.core.display.HTML object>"
      ]
     },
     "metadata": {},
     "output_type": "display_data"
    },
    {
     "name": "stdout",
     "output_type": "stream",
     "text": [
      "\n",
      "# diversity score 1.0770716623513876\n",
      "# score details\n",
      "{'alt_group_score': 0.08333333333333333,\n",
      " 'pos_diff_score': 0.49379894693124304,\n",
      " 'rel_dist_diff_score': 0.33677720421911284,\n",
      " 'size_diff_score': 0.16316217786769835}\n"
     ]
    },
    {
     "data": {
      "text/html": [
       "<table><tr><td><img style='width:100px' src='./saved_designs/exported_from_scout (52)/saved_svgs/design-canvas-6726aaf1c8de40d1a7a3a4890983126b.svg'/></td>\n",
       "                               <td><img style='width:100px' src='./saved_designs/exported_from_scout (52)/saved_svgs/design-canvas-9d8da3fdb3874a8c97c1b334bb626a28.svg'/></td></tr></table>"
      ],
      "text/plain": [
       "<IPython.core.display.HTML object>"
      ]
     },
     "metadata": {},
     "output_type": "display_data"
    },
    {
     "name": "stdout",
     "output_type": "stream",
     "text": [
      "\n",
      "# diversity score 1.0729034640001507\n",
      "# score details\n",
      "{'alt_group_score': 0.08333333333333333,\n",
      " 'pos_diff_score': 0.48550542487453313,\n",
      " 'rel_dist_diff_score': 0.3226109763080199,\n",
      " 'size_diff_score': 0.18145372948426447}\n"
     ]
    },
    {
     "data": {
      "text/html": [
       "<table><tr><td><img style='width:100px' src='./saved_designs/exported_from_scout (52)/saved_svgs/design-canvas-6726aaf1c8de40d1a7a3a4890983126b.svg'/></td>\n",
       "                               <td><img style='width:100px' src='./saved_designs/exported_from_scout (52)/saved_svgs/design-canvas-7599585b0b764c2189747bf10283f144.svg'/></td></tr></table>"
      ],
      "text/plain": [
       "<IPython.core.display.HTML object>"
      ]
     },
     "metadata": {},
     "output_type": "display_data"
    },
    {
     "name": "stdout",
     "output_type": "stream",
     "text": [
      "\n",
      "# diversity score 0.9922075385744358\n",
      "# score details\n",
      "{'alt_group_score': 0.08333333333333333,\n",
      " 'pos_diff_score': 0.3367617635784727,\n",
      " 'rel_dist_diff_score': 0.2185784733447899,\n",
      " 'size_diff_score': 0.3535339683178399}\n"
     ]
    },
    {
     "data": {
      "text/html": [
       "<table><tr><td><img style='width:100px' src='./saved_designs/exported_from_scout (52)/saved_svgs/design-canvas-6726aaf1c8de40d1a7a3a4890983126b.svg'/></td>\n",
       "                               <td><img style='width:100px' src='./saved_designs/exported_from_scout (52)/saved_svgs/design-canvas-9cbcc62216344338bb17718474e81f1e.svg'/></td></tr></table>"
      ],
      "text/plain": [
       "<IPython.core.display.HTML object>"
      ]
     },
     "metadata": {},
     "output_type": "display_data"
    },
    {
     "name": "stdout",
     "output_type": "stream",
     "text": [
      "\n",
      "# diversity score 0.9692386089606007\n",
      "# score details\n",
      "{'alt_group_score': 0.0,\n",
      " 'pos_diff_score': 0.3514114986999895,\n",
      " 'rel_dist_diff_score': 0.2725097873462745,\n",
      " 'size_diff_score': 0.3453173229143366}\n"
     ]
    },
    {
     "data": {
      "text/html": [
       "<table><tr><td><img style='width:100px' src='./saved_designs/exported_from_scout (52)/saved_svgs/design-canvas-56cc849527104b9a99bc9ec9a056faed.svg'/></td>\n",
       "                               <td><img style='width:100px' src='./saved_designs/exported_from_scout (52)/saved_svgs/design-canvas-a5e89620c72146d9a8943c5d3c28934f.svg'/></td></tr></table>"
      ],
      "text/plain": [
       "<IPython.core.display.HTML object>"
      ]
     },
     "metadata": {},
     "output_type": "display_data"
    },
    {
     "name": "stdout",
     "output_type": "stream",
     "text": [
      "\n",
      "# diversity score 0.8941364280379129\n",
      "# score details\n",
      "{'alt_group_score': 0.0,\n",
      " 'pos_diff_score': 0.44132643202983013,\n",
      " 'rel_dist_diff_score': 0.28579521179583844,\n",
      " 'size_diff_score': 0.16701478421224433}\n"
     ]
    },
    {
     "data": {
      "text/html": [
       "<table><tr><td><img style='width:100px' src='./saved_designs/exported_from_scout (52)/saved_svgs/design-canvas-6726aaf1c8de40d1a7a3a4890983126b.svg'/></td>\n",
       "                               <td><img style='width:100px' src='./saved_designs/exported_from_scout (52)/saved_svgs/design-canvas-56cc849527104b9a99bc9ec9a056faed.svg'/></td></tr></table>"
      ],
      "text/plain": [
       "<IPython.core.display.HTML object>"
      ]
     },
     "metadata": {},
     "output_type": "display_data"
    },
    {
     "name": "stdout",
     "output_type": "stream",
     "text": [
      "\n",
      "# diversity score 0.8611769691754569\n",
      "# score details\n",
      "{'alt_group_score': 0.08333333333333333,\n",
      " 'pos_diff_score': 0.2829225459494778,\n",
      " 'rel_dist_diff_score': 0.20142188712383358,\n",
      " 'size_diff_score': 0.29349920276881225}\n"
     ]
    },
    {
     "data": {
      "text/html": [
       "<table><tr><td><img style='width:100px' src='./saved_designs/exported_from_scout (52)/saved_svgs/design-canvas-a3e1d87bf50e4259b1ad3f8d85ee1601.svg'/></td>\n",
       "                               <td><img style='width:100px' src='./saved_designs/exported_from_scout (52)/saved_svgs/design-canvas-9d8da3fdb3874a8c97c1b334bb626a28.svg'/></td></tr></table>"
      ],
      "text/plain": [
       "<IPython.core.display.HTML object>"
      ]
     },
     "metadata": {},
     "output_type": "display_data"
    },
    {
     "name": "stdout",
     "output_type": "stream",
     "text": [
      "\n",
      "# diversity score 0.8540695503560753\n",
      "# score details\n",
      "{'alt_group_score': 0.0,\n",
      " 'pos_diff_score': 0.28380701637257716,\n",
      " 'rel_dist_diff_score': 0.2491589835327701,\n",
      " 'size_diff_score': 0.3211035504507281}\n"
     ]
    },
    {
     "data": {
      "text/html": [
       "<table><tr><td><img style='width:100px' src='./saved_designs/exported_from_scout (52)/saved_svgs/design-canvas-56cc849527104b9a99bc9ec9a056faed.svg'/></td>\n",
       "                               <td><img style='width:100px' src='./saved_designs/exported_from_scout (52)/saved_svgs/design-canvas-a3e1d87bf50e4259b1ad3f8d85ee1601.svg'/></td></tr></table>"
      ],
      "text/plain": [
       "<IPython.core.display.HTML object>"
      ]
     },
     "metadata": {},
     "output_type": "display_data"
    },
    {
     "name": "stdout",
     "output_type": "stream",
     "text": [
      "\n",
      "# diversity score 0.8421466805993925\n",
      "# score details\n",
      "{'alt_group_score': 0.08333333333333333,\n",
      " 'pos_diff_score': 0.2670794857786097,\n",
      " 'rel_dist_diff_score': 0.179727274529053,\n",
      " 'size_diff_score': 0.3120065869583964}\n"
     ]
    },
    {
     "data": {
      "text/html": [
       "<table><tr><td><img style='width:100px' src='./saved_designs/exported_from_scout (52)/saved_svgs/design-canvas-a5e89620c72146d9a8943c5d3c28934f.svg'/></td>\n",
       "                               <td><img style='width:100px' src='./saved_designs/exported_from_scout (52)/saved_svgs/design-canvas-9d8da3fdb3874a8c97c1b334bb626a28.svg'/></td></tr></table>"
      ],
      "text/plain": [
       "<IPython.core.display.HTML object>"
      ]
     },
     "metadata": {},
     "output_type": "display_data"
    },
    {
     "name": "stdout",
     "output_type": "stream",
     "text": [
      "\n",
      "# diversity score 0.8252996425467812\n",
      "# score details\n",
      "{'alt_group_score': 0.08333333333333333,\n",
      " 'pos_diff_score': 0.329426903821539,\n",
      " 'rel_dist_diff_score': 0.25506848331860776,\n",
      " 'size_diff_score': 0.15747092207330116}\n"
     ]
    },
    {
     "data": {
      "text/html": [
       "<table><tr><td><img style='width:100px' src='./saved_designs/exported_from_scout (52)/saved_svgs/design-canvas-56cc849527104b9a99bc9ec9a056faed.svg'/></td>\n",
       "                               <td><img style='width:100px' src='./saved_designs/exported_from_scout (52)/saved_svgs/design-canvas-9d8da3fdb3874a8c97c1b334bb626a28.svg'/></td></tr></table>"
      ],
      "text/plain": [
       "<IPython.core.display.HTML object>"
      ]
     },
     "metadata": {},
     "output_type": "display_data"
    },
    {
     "name": "stdout",
     "output_type": "stream",
     "text": [
      "\n",
      "# diversity score 0.8208895721445008\n",
      "# score details\n",
      "{'alt_group_score': 0.08333333333333333,\n",
      " 'pos_diff_score': 0.3075443168221003,\n",
      " 'rel_dist_diff_score': 0.2318491134663566,\n",
      " 'size_diff_score': 0.19816280852271054}\n"
     ]
    },
    {
     "data": {
      "text/html": [
       "<table><tr><td><img style='width:100px' src='./saved_designs/exported_from_scout (52)/saved_svgs/design-canvas-56cc849527104b9a99bc9ec9a056faed.svg'/></td>\n",
       "                               <td><img style='width:100px' src='./saved_designs/exported_from_scout (52)/saved_svgs/design-canvas-7599585b0b764c2189747bf10283f144.svg'/></td></tr></table>"
      ],
      "text/plain": [
       "<IPython.core.display.HTML object>"
      ]
     },
     "metadata": {},
     "output_type": "display_data"
    },
    {
     "name": "stdout",
     "output_type": "stream",
     "text": [
      "\n",
      "# diversity score 0.8194566755210917\n",
      "# score details\n",
      "{'alt_group_score': 0.08333333333333333,\n",
      " 'pos_diff_score': 0.24569371562412917,\n",
      " 'rel_dist_diff_score': 0.15209034807263164,\n",
      " 'size_diff_score': 0.3383392784909976}\n"
     ]
    },
    {
     "data": {
      "text/html": [
       "<table><tr><td><img style='width:100px' src='./saved_designs/exported_from_scout (52)/saved_svgs/design-canvas-a5e89620c72146d9a8943c5d3c28934f.svg'/></td>\n",
       "                               <td><img style='width:100px' src='./saved_designs/exported_from_scout (52)/saved_svgs/design-canvas-7599585b0b764c2189747bf10283f144.svg'/></td></tr></table>"
      ],
      "text/plain": [
       "<IPython.core.display.HTML object>"
      ]
     },
     "metadata": {},
     "output_type": "display_data"
    },
    {
     "name": "stdout",
     "output_type": "stream",
     "text": [
      "\n",
      "# diversity score 0.7147987080584222\n",
      "# score details\n",
      "{'alt_group_score': 0.08333333333333333,\n",
      " 'pos_diff_score': 0.19426607654398328,\n",
      " 'rel_dist_diff_score': 0.12383118952494027,\n",
      " 'size_diff_score': 0.3133681086561653}\n"
     ]
    },
    {
     "data": {
      "text/html": [
       "<table><tr><td><img style='width:100px' src='./saved_designs/exported_from_scout (52)/saved_svgs/design-canvas-a3e1d87bf50e4259b1ad3f8d85ee1601.svg'/></td>\n",
       "                               <td><img style='width:100px' src='./saved_designs/exported_from_scout (52)/saved_svgs/design-canvas-7599585b0b764c2189747bf10283f144.svg'/></td></tr></table>"
      ],
      "text/plain": [
       "<IPython.core.display.HTML object>"
      ]
     },
     "metadata": {},
     "output_type": "display_data"
    },
    {
     "name": "stdout",
     "output_type": "stream",
     "text": [
      "\n",
      "# diversity score 0.6893672662322887\n",
      "# score details\n",
      "{'alt_group_score': 0.0,\n",
      " 'pos_diff_score': 0.28732074965291793,\n",
      " 'rel_dist_diff_score': 0.17168753502594064,\n",
      " 'size_diff_score': 0.2303589815534301}\n"
     ]
    },
    {
     "data": {
      "text/html": [
       "<table><tr><td><img style='width:100px' src='./saved_designs/exported_from_scout (52)/saved_svgs/design-canvas-9d8da3fdb3874a8c97c1b334bb626a28.svg'/></td>\n",
       "                               <td><img style='width:100px' src='./saved_designs/exported_from_scout (52)/saved_svgs/design-canvas-7599585b0b764c2189747bf10283f144.svg'/></td></tr></table>"
      ],
      "text/plain": [
       "<IPython.core.display.HTML object>"
      ]
     },
     "metadata": {},
     "output_type": "display_data"
    },
    {
     "name": "stdout",
     "output_type": "stream",
     "text": [
      "\n",
      "# diversity score 0.4233043225730596\n",
      "# score details\n",
      "{'alt_group_score': 0.0,\n",
      " 'pos_diff_score': 0.17097013952878637,\n",
      " 'rel_dist_diff_score': 0.12476500241248203,\n",
      " 'size_diff_score': 0.12756918063179123}\n"
     ]
    },
    {
     "data": {
      "text/html": [
       "<table><tr><td><img style='width:100px' src='./saved_designs/exported_from_scout (52)/saved_svgs/design-canvas-a3e1d87bf50e4259b1ad3f8d85ee1601.svg'/></td>\n",
       "                               <td><img style='width:100px' src='./saved_designs/exported_from_scout (52)/saved_svgs/design-canvas-a5e89620c72146d9a8943c5d3c28934f.svg'/></td></tr></table>"
      ],
      "text/plain": [
       "<IPython.core.display.HTML object>"
      ]
     },
     "metadata": {},
     "output_type": "display_data"
    },
    {
     "name": "stdout",
     "output_type": "stream",
     "text": [
      "\n",
      "==============\n",
      "## Analyzing exported_from_scout - 2019-04-23T101629.260 ...\n"
     ]
    },
    {
     "ename": "ValueError",
     "evalue": "max() arg is an empty sequence",
     "output_type": "error",
     "traceback": [
      "\u001b[0;31m---------------------------------------------------------------------------\u001b[0m",
      "\u001b[0;31mValueError\u001b[0m                                Traceback (most recent call last)",
      "\u001b[0;32m<ipython-input-5-a4ed2a3d911d>\u001b[0m in \u001b[0;36m<module>\u001b[0;34m\u001b[0m\n\u001b[1;32m     94\u001b[0m     \u001b[0mprint\u001b[0m\u001b[0;34m(\u001b[0m\u001b[0;34m\"==============\"\u001b[0m\u001b[0;34m)\u001b[0m\u001b[0;34m\u001b[0m\u001b[0;34m\u001b[0m\u001b[0m\n\u001b[1;32m     95\u001b[0m     \u001b[0mprint\u001b[0m\u001b[0;34m(\u001b[0m\u001b[0;34m\"## Analyzing {} ...\"\u001b[0m\u001b[0;34m.\u001b[0m\u001b[0mformat\u001b[0m\u001b[0;34m(\u001b[0m\u001b[0mdirname\u001b[0m\u001b[0;34m)\u001b[0m\u001b[0;34m)\u001b[0m\u001b[0;34m\u001b[0m\u001b[0;34m\u001b[0m\u001b[0m\n\u001b[0;32m---> 96\u001b[0;31m     \u001b[0manalyze_design\u001b[0m\u001b[0;34m(\u001b[0m\u001b[0mdesigns\u001b[0m\u001b[0;34m)\u001b[0m\u001b[0;34m\u001b[0m\u001b[0;34m\u001b[0m\u001b[0m\n\u001b[0m",
      "\u001b[0;32m<ipython-input-5-a4ed2a3d911d>\u001b[0m in \u001b[0;36manalyze_design\u001b[0;34m(design)\u001b[0m\n\u001b[1;32m     48\u001b[0m             \u001b[0mraw_diversity_score\u001b[0m\u001b[0;34m[\u001b[0m\u001b[0;34m(\u001b[0m\u001b[0mi\u001b[0m\u001b[0;34m,\u001b[0m \u001b[0mj\u001b[0m\u001b[0;34m)\u001b[0m\u001b[0;34m]\u001b[0m \u001b[0;34m=\u001b[0m \u001b[0mcost_model\u001b[0m\u001b[0;34m.\u001b[0m\u001b[0mcompute_unnormalized_diversity_score\u001b[0m\u001b[0;34m(\u001b[0m\u001b[0mdi\u001b[0m\u001b[0;34m[\u001b[0m\u001b[0;34m\"elements\"\u001b[0m\u001b[0;34m]\u001b[0m\u001b[0;34m,\u001b[0m \u001b[0mdj\u001b[0m\u001b[0;34m[\u001b[0m\u001b[0;34m\"elements\"\u001b[0m\u001b[0;34m]\u001b[0m\u001b[0;34m)\u001b[0m\u001b[0;34m\u001b[0m\u001b[0;34m\u001b[0m\u001b[0m\n\u001b[1;32m     49\u001b[0m \u001b[0;34m\u001b[0m\u001b[0m\n\u001b[0;32m---> 50\u001b[0;31m     \u001b[0mfinal_scores\u001b[0m \u001b[0;34m=\u001b[0m \u001b[0mcost_model\u001b[0m\u001b[0;34m.\u001b[0m\u001b[0mnormalize_diversity_scores\u001b[0m\u001b[0;34m(\u001b[0m\u001b[0mraw_diversity_score\u001b[0m\u001b[0;34m)\u001b[0m\u001b[0;34m\u001b[0m\u001b[0;34m\u001b[0m\u001b[0m\n\u001b[0m\u001b[1;32m     51\u001b[0m \u001b[0;34m\u001b[0m\u001b[0m\n\u001b[1;32m     52\u001b[0m     \u001b[0mdesign_pairs\u001b[0m \u001b[0;34m=\u001b[0m \u001b[0;34m[\u001b[0m\u001b[0;34m]\u001b[0m\u001b[0;34m\u001b[0m\u001b[0;34m\u001b[0m\u001b[0m\n",
      "\u001b[0;32m~/Research/scout/cost_model.py\u001b[0m in \u001b[0;36mnormalize_diversity_scores\u001b[0;34m(scores)\u001b[0m\n\u001b[1;32m    399\u001b[0m \t\"\"\"\n\u001b[1;32m    400\u001b[0m \tmax_pos_diff = max([max([scores[pair_id][\"element_score\"][e][\"pos_diff\"] \n\u001b[0;32m--> 401\u001b[0;31m \t\t\t\t\t\t\tfor e in scores[pair_id][\"element_score\"]]) for pair_id in scores])\n\u001b[0m\u001b[1;32m    402\u001b[0m \tmax_size_diff = max([max([scores[pair_id][\"element_score\"][e][\"size_diff\"] \n\u001b[1;32m    403\u001b[0m \t\t\t\t\t\t\tfor e in scores[pair_id][\"element_score\"]]) for pair_id in scores])\n",
      "\u001b[0;31mValueError\u001b[0m: max() arg is an empty sequence"
     ]
    }
   ],
   "source": [
    "import cost_model\n",
    "import os\n",
    "import json\n",
    "import sys\n",
    "\n",
    "from pprint import pprint\n",
    "from IPython.display import SVG, display, HTML\n",
    "\n",
    "def show_svg(url1, url2):\n",
    "    display(HTML(\"\"\"<table><tr><td><img style='width:100px' src='{}'/></td>\n",
    "                               <td><img style='width:100px' src='{}'/></td></tr></table>\"\"\".format(url1, url2)))\n",
    "\n",
    "# the folder containing all exports\n",
    "export_dir = \"./saved_designs\"\n",
    "\n",
    "def load_design(design_dir):\n",
    "    \"\"\"the directory containing exported designs\"\"\"\n",
    "\n",
    "    design = {}\n",
    "    # load saved designs and trashed designs\n",
    "    with open(os.path.join(design_dir, \"saved.json\")) as f:\n",
    "        design[\"saved\"] = json.load(f)[\"saved\"]\n",
    "    with open(os.path.join(design_dir, \"trashed.json\")) as f:\n",
    "        design[\"trashed\"] = json.load(f)[\"trashed\"]\n",
    "\n",
    "    # load paths for saved svgs, relates to saved designs by their canvas ids\n",
    "    svg_dir = os.path.join(design_dir, \"saved_svgs\")\n",
    "    if not os.path.isdir(svg_dir):\n",
    "        svg_dir = os.path.join(design_dir, \"import_these_into_xd\")\n",
    "    design[\"svg_paths\"] = {}\n",
    "    for fname in os.listdir(svg_dir):\n",
    "        if fname.endswith(\".svg\"):\n",
    "            design_id = fname.split(\".\")[0].split(\"-\")[-1]\n",
    "            design[\"svg_paths\"][design_id] = os.path.join(svg_dir, fname)\n",
    "\n",
    "    design[\"dirname\"] = design_dir\n",
    "    return design\n",
    "\n",
    "def analyze_design(design):\n",
    "    # for each pair of saved designs, display their diversity score as well as svgs\n",
    "    \n",
    "    raw_diversity_score = {}\n",
    "    for i in range(len(design[\"saved\"])):\n",
    "        for j in range(i + 1, len(design[\"saved\"])):\n",
    "            di, dj = design[\"saved\"][i], design[\"saved\"][j]\n",
    "            #diversity_score, diff = cost_model.compute_diversity_score(di[\"elements\"], dj[\"elements\"])\n",
    "            raw_diversity_score[(i, j)] = cost_model.compute_unnormalized_diversity_score(di[\"elements\"], dj[\"elements\"])\n",
    "    \n",
    "    final_scores = cost_model.normalize_diversity_scores(raw_diversity_score)\n",
    "    \n",
    "    design_pairs = []\n",
    "    for pair_id in final_scores:\n",
    "        i,j = pair_id\n",
    "        design_pair = {\n",
    "            \"score\": sum([v for k, v in final_scores[pair_id].items()]),\n",
    "            \"score_detail\": final_scores[pair_id],\n",
    "            \"di\": design[\"saved\"][i],\n",
    "            \"dj\": design[\"saved\"][j],\n",
    "        }\n",
    "        \n",
    "        design_pairs.append(design_pair)\n",
    "\n",
    "    design_pairs.sort(key=lambda x: x['score'], reverse=True)\n",
    "    for pair in design_pairs: \n",
    "        no_svg_to_display = False\n",
    "        di = pair['di']\n",
    "        dj = pair['dj']\n",
    "        for d in [di, dj]:\n",
    "            if d[\"id\"] not in design[\"svg_paths\"]:\n",
    "                #print(\"  [Error] no svg for id {}\".format(d[\"id\"]))\n",
    "                no_svg_to_display = True\n",
    "\n",
    "        if no_svg_to_display:\n",
    "            #print(\"  \" + design[\"dirname\"])\n",
    "            continue\n",
    "        score = pair['score']\n",
    "        score_detail = pair['score_detail']\n",
    "        print(\"# diversity score {}\".format(score))\n",
    "        print(\"# score details\")\n",
    "        pprint(score_detail)\n",
    "\n",
    "        svg_i = design[\"svg_paths\"][di[\"id\"]]\n",
    "        svg_j = design[\"svg_paths\"][dj[\"id\"]]\n",
    "        show_svg(svg_i, svg_j)\n",
    "        print(\"\")\n",
    "            \n",
    "# iterate over all exported deisngs\n",
    "for dirname in os.listdir(export_dir):\n",
    "    design_dir = os.path.join(export_dir, dirname)\n",
    "    if not os.path.isdir(design_dir):\n",
    "        continue\n",
    "    designs = load_design(design_dir)\n",
    "    print(\"==============\")\n",
    "    print(\"## Analyzing {} ...\".format(dirname))\n",
    "    analyze_design(designs)"
   ]
  },
  {
   "cell_type": "code",
   "execution_count": 5,
   "metadata": {},
   "outputs": [
    {
     "ename": "SyntaxError",
     "evalue": "invalid syntax (<ipython-input-5-d8603f9f9bc3>, line 1)",
     "output_type": "error",
     "traceback": [
      "\u001b[0;36m  File \u001b[0;32m\"<ipython-input-5-d8603f9f9bc3>\"\u001b[0;36m, line \u001b[0;32m1\u001b[0m\n\u001b[0;31m    which python\u001b[0m\n\u001b[0m               ^\u001b[0m\n\u001b[0;31mSyntaxError\u001b[0m\u001b[0;31m:\u001b[0m invalid syntax\n"
     ]
    }
   ],
   "source": [
    "which python"
   ]
  },
  {
   "cell_type": "code",
   "execution_count": 6,
   "metadata": {},
   "outputs": [
    {
     "name": "stdout",
     "output_type": "stream",
     "text": [
      "test\n"
     ]
    }
   ],
   "source": [
    "print('test')"
   ]
  },
  {
   "cell_type": "code",
   "execution_count": null,
   "metadata": {},
   "outputs": [],
   "source": []
  },
  {
   "cell_type": "code",
   "execution_count": null,
   "metadata": {},
   "outputs": [],
   "source": []
  },
  {
   "cell_type": "code",
   "execution_count": null,
   "metadata": {},
   "outputs": [],
   "source": []
  }
 ],
 "metadata": {
  "kernelspec": {
   "display_name": "Python 3",
   "language": "python",
   "name": "python3"
  },
  "language_info": {
   "codemirror_mode": {
    "name": "ipython",
    "version": 3
   },
   "file_extension": ".py",
   "mimetype": "text/x-python",
   "name": "python",
   "nbconvert_exporter": "python",
   "pygments_lexer": "ipython3",
   "version": "3.7.1"
  }
 },
 "nbformat": 4,
 "nbformat_minor": 2
}
