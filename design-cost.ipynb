{
 "cells": [
  {
   "cell_type": "code",
   "execution_count": 9,
   "metadata": {
    "scrolled": false,
    "slideshow": {
     "slide_type": "-"
    }
   },
   "outputs": [
    {
     "name": "stdout",
     "output_type": "stream",
     "text": [
      "[error] this directory contains only 1 saved desigsn.\n",
      "# experiments from exported_from_scout (88)\n",
      "# diversity score 1.649860340612943\n",
      "# score details\n",
      "{'alt_group_score': 0.0,\n",
      " 'pos_diff_score': 0.574876725632672,\n",
      " 'rel_dist_diff_score': 0.3888477791167961,\n",
      " 'size_diff_score': 0.34306791793173746}\n"
     ]
    },
    {
     "data": {
      "text/html": [
       "<table><tr><td><img style='width:100px' src='./saved_designs/exported_from_scout (88)/saved_svgs/design-canvas-fe5c00981eac4a549ea69f14acbde34f.svg'/></td>\n",
       "                               <td><img style='width:100px' src='./saved_designs/exported_from_scout (88)/saved_svgs/design-canvas-e478abc20d3140f89d1d5b0df10c8ffc.svg'/></td></tr></table>"
      ],
      "text/plain": [
       "<IPython.core.display.HTML object>"
      ]
     },
     "metadata": {},
     "output_type": "display_data"
    },
    {
     "name": "stdout",
     "output_type": "stream",
     "text": [
      "\n",
      "# experiments from exported_from_scout (86)\n",
      "# diversity score 1.6395432518580997\n",
      "# score details\n",
      "{'alt_group_score': 0.08333333333333333,\n",
      " 'pos_diff_score': 0.5988578094755432,\n",
      " 'rel_dist_diff_score': 0.3644425601965499,\n",
      " 'size_diff_score': 0.2964547744263366}\n"
     ]
    },
    {
     "data": {
      "text/html": [
       "<table><tr><td><img style='width:100px' src='./saved_designs/exported_from_scout (86)/saved_svgs/design-canvas-144a06cdde514bb7adf88108317b7ce5.svg'/></td>\n",
       "                               <td><img style='width:100px' src='./saved_designs/exported_from_scout (86)/saved_svgs/design-canvas-80eb8d9ce58845c78ea5d792c6174987.svg'/></td></tr></table>"
      ],
      "text/plain": [
       "<IPython.core.display.HTML object>"
      ]
     },
     "metadata": {},
     "output_type": "display_data"
    },
    {
     "name": "stdout",
     "output_type": "stream",
     "text": [
      "\n",
      "# experiments from exported_from_scout (88)\n",
      "# diversity score 1.625552110596903\n",
      "# score details\n",
      "{'alt_group_score': 0.0,\n",
      " 'pos_diff_score': 0.6310314135841235,\n",
      " 'rel_dist_diff_score': 0.3883471296558854,\n",
      " 'size_diff_score': 0.30308678367844716}\n"
     ]
    },
    {
     "data": {
      "text/html": [
       "<table><tr><td><img style='width:100px' src='./saved_designs/exported_from_scout (88)/saved_svgs/design-canvas-fe5c00981eac4a549ea69f14acbde34f.svg'/></td>\n",
       "                               <td><img style='width:100px' src='./saved_designs/exported_from_scout (88)/saved_svgs/design-canvas-bcacfb9cea58444ab69d1b2c26a7b346.svg'/></td></tr></table>"
      ],
      "text/plain": [
       "<IPython.core.display.HTML object>"
      ]
     },
     "metadata": {},
     "output_type": "display_data"
    },
    {
     "name": "stdout",
     "output_type": "stream",
     "text": [
      "\n",
      "# experiments from exported_from_scout (86)\n",
      "# diversity score 1.6135951604952365\n",
      "# score details\n",
      "{'alt_group_score': 0.0,\n",
      " 'pos_diff_score': 0.6208695536500641,\n",
      " 'rel_dist_diff_score': 0.41812514390783956,\n",
      " 'size_diff_score': 0.28730023146866646}\n"
     ]
    },
    {
     "data": {
      "text/html": [
       "<table><tr><td><img style='width:100px' src='./saved_designs/exported_from_scout (86)/saved_svgs/design-canvas-428ae54e6ddc4e8fa7b9210cdf486227.svg'/></td>\n",
       "                               <td><img style='width:100px' src='./saved_designs/exported_from_scout (86)/saved_svgs/design-canvas-80eb8d9ce58845c78ea5d792c6174987.svg'/></td></tr></table>"
      ],
      "text/plain": [
       "<IPython.core.display.HTML object>"
      ]
     },
     "metadata": {},
     "output_type": "display_data"
    },
    {
     "name": "stdout",
     "output_type": "stream",
     "text": [
      "\n",
      "# experiments from exported_from_scout (52)\n",
      "# diversity score 1.5948148540670615\n",
      "# score details\n",
      "{'alt_group_score': 0.0,\n",
      " 'pos_diff_score': 0.5818947616805155,\n",
      " 'rel_dist_diff_score': 0.3805276073083211,\n",
      " 'size_diff_score': 0.3161962425391125}\n"
     ]
    },
    {
     "data": {
      "text/html": [
       "<table><tr><td><img style='width:100px' src='./saved_designs/exported_from_scout (52)/saved_svgs/design-canvas-6726aaf1c8de40d1a7a3a4890983126b.svg'/></td>\n",
       "                               <td><img style='width:100px' src='./saved_designs/exported_from_scout (52)/saved_svgs/design-canvas-a5e89620c72146d9a8943c5d3c28934f.svg'/></td></tr></table>"
      ],
      "text/plain": [
       "<IPython.core.display.HTML object>"
      ]
     },
     "metadata": {},
     "output_type": "display_data"
    },
    {
     "name": "stdout",
     "output_type": "stream",
     "text": [
      "\n",
      "# experiments from exported_from_scout (86)\n",
      "# diversity score 1.5923622433291937\n",
      "# score details\n",
      "{'alt_group_score': 0.08333333333333333,\n",
      " 'pos_diff_score': 0.630287302136092,\n",
      " 'rel_dist_diff_score': 0.4501057079218646,\n",
      " 'size_diff_score': 0.21431794996895198}\n"
     ]
    },
    {
     "data": {
      "text/html": [
       "<table><tr><td><img style='width:100px' src='./saved_designs/exported_from_scout (86)/saved_svgs/design-canvas-a689edab7f8142f3b1c82f225fb57e0c.svg'/></td>\n",
       "                               <td><img style='width:100px' src='./saved_designs/exported_from_scout (86)/saved_svgs/design-canvas-5367a7ef0fc14f199f52ddf6302b8ebf.svg'/></td></tr></table>"
      ],
      "text/plain": [
       "<IPython.core.display.HTML object>"
      ]
     },
     "metadata": {},
     "output_type": "display_data"
    },
    {
     "name": "stdout",
     "output_type": "stream",
     "text": [
      "\n",
      "# experiments from exported_from_scout (43)\n",
      "# diversity score 1.5891620091063432\n",
      "# score details\n",
      "{'alt_group_score': 0.07692307692307693,\n",
      " 'pos_diff_score': 0.5804768023643363,\n",
      " 'rel_dist_diff_score': 0.41445641574288394,\n",
      " 'size_diff_score': 0.25865285703802315}\n"
     ]
    },
    {
     "data": {
      "text/html": [
       "<table><tr><td><img style='width:100px' src='./saved_designs/exported_from_scout (43)/saved_svgs/design-canvas-b4cc5f77de374ba585472d477c9ea2e8.svg'/></td>\n",
       "                               <td><img style='width:100px' src='./saved_designs/exported_from_scout (43)/saved_svgs/design-canvas-39c0b364044841a8ba3c76b73daef885.svg'/></td></tr></table>"
      ],
      "text/plain": [
       "<IPython.core.display.HTML object>"
      ]
     },
     "metadata": {},
     "output_type": "display_data"
    },
    {
     "name": "stdout",
     "output_type": "stream",
     "text": [
      "\n",
      "# experiments from exported_from_scout (52)\n",
      "# diversity score 1.5539522809379087\n",
      "# score details\n",
      "{'alt_group_score': 0.0,\n",
      " 'pos_diff_score': 0.5704947553212907,\n",
      " 'rel_dist_diff_score': 0.384064040448466,\n",
      " 'size_diff_score': 0.299696742584076}\n"
     ]
    },
    {
     "data": {
      "text/html": [
       "<table><tr><td><img style='width:100px' src='./saved_designs/exported_from_scout (52)/saved_svgs/design-canvas-9cbcc62216344338bb17718474e81f1e.svg'/></td>\n",
       "                               <td><img style='width:100px' src='./saved_designs/exported_from_scout (52)/saved_svgs/design-canvas-7599585b0b764c2189747bf10283f144.svg'/></td></tr></table>"
      ],
      "text/plain": [
       "<IPython.core.display.HTML object>"
      ]
     },
     "metadata": {},
     "output_type": "display_data"
    },
    {
     "name": "stdout",
     "output_type": "stream",
     "text": [
      "\n",
      "# experiments from exported_from_scout (99)\n",
      "# diversity score 1.5303264624296589\n",
      "# score details\n",
      "{'alt_group_score': 0.0,\n",
      " 'pos_diff_score': 0.5723575065916362,\n",
      " 'rel_dist_diff_score': 0.3455798251467043,\n",
      " 'size_diff_score': 0.30619456534565914}\n"
     ]
    },
    {
     "data": {
      "text/html": [
       "<table><tr><td><img style='width:100px' src='./saved_designs/exported_from_scout (99)/import_these_into_xd/design-canvas-918a934c8f404d4993face741c29015f.svg'/></td>\n",
       "                               <td><img style='width:100px' src='./saved_designs/exported_from_scout (99)/import_these_into_xd/design-canvas-d8fb0ab7d8b7488585260e7e6af20869.svg'/></td></tr></table>"
      ],
      "text/plain": [
       "<IPython.core.display.HTML object>"
      ]
     },
     "metadata": {},
     "output_type": "display_data"
    },
    {
     "name": "stdout",
     "output_type": "stream",
     "text": [
      "\n",
      "# experiments from exported_from_scout (52)\n",
      "# diversity score 1.5261261565013933\n",
      "# score details\n",
      "{'alt_group_score': 0.08333333333333333,\n",
      " 'pos_diff_score': 0.47713891265820396,\n",
      " 'rel_dist_diff_score': 0.34350686893266014,\n",
      " 'size_diff_score': 0.31107352078859796}\n"
     ]
    },
    {
     "data": {
      "text/html": [
       "<table><tr><td><img style='width:100px' src='./saved_designs/exported_from_scout (52)/saved_svgs/design-canvas-56cc849527104b9a99bc9ec9a056faed.svg'/></td>\n",
       "                               <td><img style='width:100px' src='./saved_designs/exported_from_scout (52)/saved_svgs/design-canvas-9cbcc62216344338bb17718474e81f1e.svg'/></td></tr></table>"
      ],
      "text/plain": [
       "<IPython.core.display.HTML object>"
      ]
     },
     "metadata": {},
     "output_type": "display_data"
    },
    {
     "name": "stdout",
     "output_type": "stream",
     "text": [
      "\n",
      "# experiments from exported_from_scout (86)\n",
      "# diversity score 1.5088811497720247\n",
      "# score details\n",
      "{'alt_group_score': 0.0,\n",
      " 'pos_diff_score': 0.6607776433756245,\n",
      " 'rel_dist_diff_score': 0.4379402781250459,\n",
      " 'size_diff_score': 0.20508161413567716}\n"
     ]
    },
    {
     "data": {
      "text/html": [
       "<table><tr><td><img style='width:100px' src='./saved_designs/exported_from_scout (86)/saved_svgs/design-canvas-80eb8d9ce58845c78ea5d792c6174987.svg'/></td>\n",
       "                               <td><img style='width:100px' src='./saved_designs/exported_from_scout (86)/saved_svgs/design-canvas-5367a7ef0fc14f199f52ddf6302b8ebf.svg'/></td></tr></table>"
      ],
      "text/plain": [
       "<IPython.core.display.HTML object>"
      ]
     },
     "metadata": {},
     "output_type": "display_data"
    },
    {
     "name": "stdout",
     "output_type": "stream",
     "text": [
      "\n",
      "# experiments from exported_from_scout (52)\n",
      "# diversity score 1.50845531004676\n",
      "# score details\n",
      "{'alt_group_score': 0.0,\n",
      " 'pos_diff_score': 0.556042460749105,\n",
      " 'rel_dist_diff_score': 0.36186169610249064,\n",
      " 'size_diff_score': 0.2952755765975821}\n"
     ]
    },
    {
     "data": {
      "text/html": [
       "<table><tr><td><img style='width:100px' src='./saved_designs/exported_from_scout (52)/saved_svgs/design-canvas-6726aaf1c8de40d1a7a3a4890983126b.svg'/></td>\n",
       "                               <td><img style='width:100px' src='./saved_designs/exported_from_scout (52)/saved_svgs/design-canvas-a3e1d87bf50e4259b1ad3f8d85ee1601.svg'/></td></tr></table>"
      ],
      "text/plain": [
       "<IPython.core.display.HTML object>"
      ]
     },
     "metadata": {},
     "output_type": "display_data"
    },
    {
     "name": "stdout",
     "output_type": "stream",
     "text": [
      "\n",
      "# experiments from exported_from_scout (52)\n",
      "# diversity score 1.4925090735292827\n",
      "# score details\n",
      "{'alt_group_score': 0.0,\n",
      " 'pos_diff_score': 0.5548156283336988,\n",
      " 'rel_dist_diff_score': 0.3684378587178287,\n",
      " 'size_diff_score': 0.2846277932388777}\n"
     ]
    },
    {
     "data": {
      "text/html": [
       "<table><tr><td><img style='width:100px' src='./saved_designs/exported_from_scout (52)/saved_svgs/design-canvas-9cbcc62216344338bb17718474e81f1e.svg'/></td>\n",
       "                               <td><img style='width:100px' src='./saved_designs/exported_from_scout (52)/saved_svgs/design-canvas-9d8da3fdb3874a8c97c1b334bb626a28.svg'/></td></tr></table>"
      ],
      "text/plain": [
       "<IPython.core.display.HTML object>"
      ]
     },
     "metadata": {},
     "output_type": "display_data"
    },
    {
     "name": "stdout",
     "output_type": "stream",
     "text": [
      "\n",
      "# experiments from exported_from_scout (51)\n",
      "# diversity score 1.488969878445094\n",
      "# score details\n",
      "{'alt_group_score': 0.07692307692307693,\n",
      " 'pos_diff_score': 0.5306885720379089,\n",
      " 'rel_dist_diff_score': 0.35165142969087515,\n",
      " 'size_diff_score': 0.2648533998966166}\n"
     ]
    },
    {
     "data": {
      "text/html": [
       "<table><tr><td><img style='width:100px' src='./saved_designs/exported_from_scout (51)/saved_svgs/design-canvas-90e3874987904050a6b073c1d925fefd.svg'/></td>\n",
       "                               <td><img style='width:100px' src='./saved_designs/exported_from_scout (51)/saved_svgs/design-canvas-2635f542ddfa4b378c626d8f5b65d782.svg'/></td></tr></table>"
      ],
      "text/plain": [
       "<IPython.core.display.HTML object>"
      ]
     },
     "metadata": {},
     "output_type": "display_data"
    },
    {
     "name": "stdout",
     "output_type": "stream",
     "text": [
      "\n",
      "# experiments from exported_from_scout (88)\n",
      "# diversity score 1.488039513873567\n",
      "# score details\n",
      "{'alt_group_score': 0.0,\n",
      " 'pos_diff_score': 0.5267147227913712,\n",
      " 'rel_dist_diff_score': 0.36746797877709386,\n",
      " 'size_diff_score': 0.29692840615255084}\n"
     ]
    },
    {
     "data": {
      "text/html": [
       "<table><tr><td><img style='width:100px' src='./saved_designs/exported_from_scout (88)/saved_svgs/design-canvas-fe5c00981eac4a549ea69f14acbde34f.svg'/></td>\n",
       "                               <td><img style='width:100px' src='./saved_designs/exported_from_scout (88)/saved_svgs/design-canvas-fd56b132c13a4b1b9f27556ea5d3aec4.svg'/></td></tr></table>"
      ],
      "text/plain": [
       "<IPython.core.display.HTML object>"
      ]
     },
     "metadata": {},
     "output_type": "display_data"
    },
    {
     "name": "stdout",
     "output_type": "stream",
     "text": [
      "\n",
      "# experiments from exported_from_scout (99)\n",
      "# diversity score 1.4736396463801715\n",
      "# score details\n",
      "{'alt_group_score': 0.07692307692307693,\n",
      " 'pos_diff_score': 0.7006080192851093,\n",
      " 'rel_dist_diff_score': 0.416390954184369,\n",
      " 'size_diff_score': 0.1398587979938082}\n"
     ]
    },
    {
     "data": {
      "text/html": [
       "<table><tr><td><img style='width:100px' src='./saved_designs/exported_from_scout (99)/import_these_into_xd/design-canvas-a2bc85f0c1964088bf9b3444e227d402.svg'/></td>\n",
       "                               <td><img style='width:100px' src='./saved_designs/exported_from_scout (99)/import_these_into_xd/design-canvas-d8fb0ab7d8b7488585260e7e6af20869.svg'/></td></tr></table>"
      ],
      "text/plain": [
       "<IPython.core.display.HTML object>"
      ]
     },
     "metadata": {},
     "output_type": "display_data"
    },
    {
     "name": "stdout",
     "output_type": "stream",
     "text": [
      "\n",
      "# experiments from exported_from_scout (51)\n",
      "# diversity score 1.4652366572992161\n",
      "# score details\n",
      "{'alt_group_score': 0.0,\n",
      " 'pos_diff_score': 0.5683302522768262,\n",
      " 'rel_dist_diff_score': 0.3510967018118676,\n",
      " 'size_diff_score': 0.2729048516052612}\n"
     ]
    },
    {
     "data": {
      "text/html": [
       "<table><tr><td><img style='width:100px' src='./saved_designs/exported_from_scout (51)/saved_svgs/design-canvas-90e3874987904050a6b073c1d925fefd.svg'/></td>\n",
       "                               <td><img style='width:100px' src='./saved_designs/exported_from_scout (51)/saved_svgs/design-canvas-1247f5e41e6d40b7b60efc468451e1b9.svg'/></td></tr></table>"
      ],
      "text/plain": [
       "<IPython.core.display.HTML object>"
      ]
     },
     "metadata": {},
     "output_type": "display_data"
    },
    {
     "name": "stdout",
     "output_type": "stream",
     "text": [
      "\n",
      "# experiments from exported_from_scout (99)\n",
      "# diversity score 1.455773301341737\n",
      "# score details\n",
      "{'alt_group_score': 0.0,\n",
      " 'pos_diff_score': 0.5970760755256215,\n",
      " 'rel_dist_diff_score': 0.36904851686559587,\n",
      " 'size_diff_score': 0.24482435447525988}\n"
     ]
    },
    {
     "data": {
      "text/html": [
       "<table><tr><td><img style='width:100px' src='./saved_designs/exported_from_scout (99)/import_these_into_xd/design-canvas-7304405049fc487a91ca6165424c0b0c.svg'/></td>\n",
       "                               <td><img style='width:100px' src='./saved_designs/exported_from_scout (99)/import_these_into_xd/design-canvas-d8fb0ab7d8b7488585260e7e6af20869.svg'/></td></tr></table>"
      ],
      "text/plain": [
       "<IPython.core.display.HTML object>"
      ]
     },
     "metadata": {},
     "output_type": "display_data"
    },
    {
     "name": "stdout",
     "output_type": "stream",
     "text": [
      "\n",
      "# experiments from exported_from_scout (51)\n",
      "# diversity score 1.4410187688244238\n",
      "# score details\n",
      "{'alt_group_score': 0.0,\n",
      " 'pos_diff_score': 0.5472780703445431,\n",
      " 'rel_dist_diff_score': 0.33294566953341764,\n",
      " 'size_diff_score': 0.2803975144732316}\n"
     ]
    },
    {
     "data": {
      "text/html": [
       "<table><tr><td><img style='width:100px' src='./saved_designs/exported_from_scout (51)/saved_svgs/design-canvas-6ff18e66dfda44669d2e03c69664f5c8.svg'/></td>\n",
       "                               <td><img style='width:100px' src='./saved_designs/exported_from_scout (51)/saved_svgs/design-canvas-1247f5e41e6d40b7b60efc468451e1b9.svg'/></td></tr></table>"
      ],
      "text/plain": [
       "<IPython.core.display.HTML object>"
      ]
     },
     "metadata": {},
     "output_type": "display_data"
    },
    {
     "name": "stdout",
     "output_type": "stream",
     "text": [
      "\n",
      "# experiments from exported_from_scout (43)\n",
      "# diversity score 1.4351486534257323\n",
      "# score details\n",
      "{'alt_group_score': 0.0,\n",
      " 'pos_diff_score': 0.6112821452309843,\n",
      " 'rel_dist_diff_score': 0.42438979244807046,\n",
      " 'size_diff_score': 0.19973835787333868}\n"
     ]
    },
    {
     "data": {
      "text/html": [
       "<table><tr><td><img style='width:100px' src='./saved_designs/exported_from_scout (43)/saved_svgs/design-canvas-b4cc5f77de374ba585472d477c9ea2e8.svg'/></td>\n",
       "                               <td><img style='width:100px' src='./saved_designs/exported_from_scout (43)/saved_svgs/design-canvas-f6214cdad2c048a38d8b7cda9b933ccd.svg'/></td></tr></table>"
      ],
      "text/plain": [
       "<IPython.core.display.HTML object>"
      ]
     },
     "metadata": {},
     "output_type": "display_data"
    },
    {
     "name": "stdout",
     "output_type": "stream",
     "text": [
      "\n",
      "# experiments from exported_from_scout (50)\n",
      "# diversity score 1.4261057243410007\n",
      "# score details\n",
      "{'alt_group_score': 0.07692307692307693,\n",
      " 'pos_diff_score': 0.6144977648896316,\n",
      " 'rel_dist_diff_score': 0.4026576290020154,\n",
      " 'size_diff_score': 0.1660136267631383}\n"
     ]
    },
    {
     "data": {
      "text/html": [
       "<table><tr><td><img style='width:100px' src='./saved_designs/exported_from_scout (50)/saved_svgs/design-canvas-90e3874987904050a6b073c1d925fefd.svg'/></td>\n",
       "                               <td><img style='width:100px' src='./saved_designs/exported_from_scout (50)/saved_svgs/design-canvas-10a65cf7f8df4b209d36b11fa6c545d3.svg'/></td></tr></table>"
      ],
      "text/plain": [
       "<IPython.core.display.HTML object>"
      ]
     },
     "metadata": {},
     "output_type": "display_data"
    },
    {
     "name": "stdout",
     "output_type": "stream",
     "text": [
      "\n",
      "# experiments from exported_from_scout (51)\n",
      "# diversity score 1.4261057243410007\n",
      "# score details\n",
      "{'alt_group_score': 0.07692307692307693,\n",
      " 'pos_diff_score': 0.6144977648896316,\n",
      " 'rel_dist_diff_score': 0.4026576290020154,\n",
      " 'size_diff_score': 0.1660136267631383}\n"
     ]
    },
    {
     "data": {
      "text/html": [
       "<table><tr><td><img style='width:100px' src='./saved_designs/exported_from_scout (51)/saved_svgs/design-canvas-90e3874987904050a6b073c1d925fefd.svg'/></td>\n",
       "                               <td><img style='width:100px' src='./saved_designs/exported_from_scout (51)/saved_svgs/design-canvas-10a65cf7f8df4b209d36b11fa6c545d3.svg'/></td></tr></table>"
      ],
      "text/plain": [
       "<IPython.core.display.HTML object>"
      ]
     },
     "metadata": {},
     "output_type": "display_data"
    },
    {
     "name": "stdout",
     "output_type": "stream",
     "text": [
      "\n",
      "# experiments from exported_from_scout - 2019-04-25T155613.314\n",
      "# diversity score 1.4205903341866717\n",
      "# score details\n",
      "{'alt_group_score': 0.08333333333333333,\n",
      " 'pos_diff_score': 0.46472247353923296,\n",
      " 'rel_dist_diff_score': 0.33099822843987015,\n",
      " 'size_diff_score': 0.27076814943711763}\n"
     ]
    },
    {
     "data": {
      "text/html": [
       "<table><tr><td><img style='width:100px' src='./saved_designs/exported_from_scout - 2019-04-25T155613.314/import_these_into_xd/design-canvas-607491ccb4164e73b115cefaf3c3ca57.svg'/></td>\n",
       "                               <td><img style='width:100px' src='./saved_designs/exported_from_scout - 2019-04-25T155613.314/import_these_into_xd/design-canvas-f8d0cbd306704125b0094c02162315f1.svg'/></td></tr></table>"
      ],
      "text/plain": [
       "<IPython.core.display.HTML object>"
      ]
     },
     "metadata": {},
     "output_type": "display_data"
    },
    {
     "name": "stdout",
     "output_type": "stream",
     "text": [
      "\n",
      "# experiments from exported_from_scout (50)\n",
      "# diversity score 1.4097026496653582\n",
      "# score details\n",
      "{'alt_group_score': 0.07692307692307693,\n",
      " 'pos_diff_score': 0.6238004074998253,\n",
      " 'rel_dist_diff_score': 0.3921409484036196,\n",
      " 'size_diff_score': 0.15841910841941823}\n"
     ]
    },
    {
     "data": {
      "text/html": [
       "<table><tr><td><img style='width:100px' src='./saved_designs/exported_from_scout (50)/saved_svgs/design-canvas-6ff18e66dfda44669d2e03c69664f5c8.svg'/></td>\n",
       "                               <td><img style='width:100px' src='./saved_designs/exported_from_scout (50)/saved_svgs/design-canvas-10a65cf7f8df4b209d36b11fa6c545d3.svg'/></td></tr></table>"
      ],
      "text/plain": [
       "<IPython.core.display.HTML object>"
      ]
     },
     "metadata": {},
     "output_type": "display_data"
    },
    {
     "name": "stdout",
     "output_type": "stream",
     "text": [
      "\n",
      "# experiments from exported_from_scout (51)\n",
      "# diversity score 1.4097026496653582\n",
      "# score details\n",
      "{'alt_group_score': 0.07692307692307693,\n",
      " 'pos_diff_score': 0.6238004074998253,\n",
      " 'rel_dist_diff_score': 0.3921409484036196,\n",
      " 'size_diff_score': 0.15841910841941823}\n"
     ]
    },
    {
     "data": {
      "text/html": [
       "<table><tr><td><img style='width:100px' src='./saved_designs/exported_from_scout (51)/saved_svgs/design-canvas-6ff18e66dfda44669d2e03c69664f5c8.svg'/></td>\n",
       "                               <td><img style='width:100px' src='./saved_designs/exported_from_scout (51)/saved_svgs/design-canvas-10a65cf7f8df4b209d36b11fa6c545d3.svg'/></td></tr></table>"
      ],
      "text/plain": [
       "<IPython.core.display.HTML object>"
      ]
     },
     "metadata": {},
     "output_type": "display_data"
    },
    {
     "name": "stdout",
     "output_type": "stream",
     "text": [
      "\n",
      "# experiments from exported_from_scout (51)\n",
      "# diversity score 1.4043003480615723\n",
      "# score details\n",
      "{'alt_group_score': 0.07692307692307693,\n",
      " 'pos_diff_score': 0.48061870964926856,\n",
      " 'rel_dist_diff_score': 0.34007602682110033,\n",
      " 'size_diff_score': 0.25334126733406326}\n"
     ]
    },
    {
     "data": {
      "text/html": [
       "<table><tr><td><img style='width:100px' src='./saved_designs/exported_from_scout (51)/saved_svgs/design-canvas-6ff18e66dfda44669d2e03c69664f5c8.svg'/></td>\n",
       "                               <td><img style='width:100px' src='./saved_designs/exported_from_scout (51)/saved_svgs/design-canvas-2635f542ddfa4b378c626d8f5b65d782.svg'/></td></tr></table>"
      ],
      "text/plain": [
       "<IPython.core.display.HTML object>"
      ]
     },
     "metadata": {},
     "output_type": "display_data"
    },
    {
     "name": "stdout",
     "output_type": "stream",
     "text": [
      "\n",
      "# experiments from exported_from_scout (52)\n",
      "# diversity score 1.3941276495056372\n",
      "# score details\n",
      "{'alt_group_score': 0.08333333333333333,\n",
      " 'pos_diff_score': 0.6387270461746177,\n",
      " 'rel_dist_diff_score': 0.43872634204351213,\n",
      " 'size_diff_score': 0.11667046397708696}\n"
     ]
    },
    {
     "data": {
      "text/html": [
       "<table><tr><td><img style='width:100px' src='./saved_designs/exported_from_scout (52)/saved_svgs/design-canvas-9cbcc62216344338bb17718474e81f1e.svg'/></td>\n",
       "                               <td><img style='width:100px' src='./saved_designs/exported_from_scout (52)/saved_svgs/design-canvas-a3e1d87bf50e4259b1ad3f8d85ee1601.svg'/></td></tr></table>"
      ],
      "text/plain": [
       "<IPython.core.display.HTML object>"
      ]
     },
     "metadata": {},
     "output_type": "display_data"
    },
    {
     "name": "stdout",
     "output_type": "stream",
     "text": [
      "\n",
      "# experiments from exported_from_scout (88)\n",
      "# diversity score 1.382276289890843\n",
      "# score details\n",
      "{'alt_group_score': 0.0,\n",
      " 'pos_diff_score': 0.47012073077039346,\n",
      " 'rel_dist_diff_score': 0.3287782124513828,\n",
      " 'size_diff_score': 0.2916886733345334}\n"
     ]
    },
    {
     "data": {
      "text/html": [
       "<table><tr><td><img style='width:100px' src='./saved_designs/exported_from_scout (88)/saved_svgs/design-canvas-fe5c00981eac4a549ea69f14acbde34f.svg'/></td>\n",
       "                               <td><img style='width:100px' src='./saved_designs/exported_from_scout (88)/saved_svgs/design-canvas-683b24954e434fed9b82a246353543b0.svg'/></td></tr></table>"
      ],
      "text/plain": [
       "<IPython.core.display.HTML object>"
      ]
     },
     "metadata": {},
     "output_type": "display_data"
    },
    {
     "name": "stdout",
     "output_type": "stream",
     "text": [
      "\n",
      "# experiments from exported_from_scout (99)\n",
      "# diversity score 1.3662732707929577\n",
      "# score details\n",
      "{'alt_group_score': 0.0,\n",
      " 'pos_diff_score': 0.5850063939503056,\n",
      " 'rel_dist_diff_score': 0.4099080015976894,\n",
      " 'size_diff_score': 0.1856794376224813}\n"
     ]
    },
    {
     "data": {
      "text/html": [
       "<table><tr><td><img style='width:100px' src='./saved_designs/exported_from_scout (99)/import_these_into_xd/design-canvas-83903cdc8136490e90c180d73dd2c09d.svg'/></td>\n",
       "                               <td><img style='width:100px' src='./saved_designs/exported_from_scout (99)/import_these_into_xd/design-canvas-d8fb0ab7d8b7488585260e7e6af20869.svg'/></td></tr></table>"
      ],
      "text/plain": [
       "<IPython.core.display.HTML object>"
      ]
     },
     "metadata": {},
     "output_type": "display_data"
    },
    {
     "name": "stdout",
     "output_type": "stream",
     "text": [
      "\n",
      "# experiments from exported_from_scout (88)\n",
      "# diversity score 1.3607492582988723\n",
      "# score details\n",
      "{'alt_group_score': 0.0,\n",
      " 'pos_diff_score': 0.4864057638272964,\n",
      " 'rel_dist_diff_score': 0.3362335711638101,\n",
      " 'size_diff_score': 0.2690549616538829}\n"
     ]
    },
    {
     "data": {
      "text/html": [
       "<table><tr><td><img style='width:100px' src='./saved_designs/exported_from_scout (88)/saved_svgs/design-canvas-fe5c00981eac4a549ea69f14acbde34f.svg'/></td>\n",
       "                               <td><img style='width:100px' src='./saved_designs/exported_from_scout (88)/saved_svgs/design-canvas-11a9b95d4511489b847b7741455d68cd.svg'/></td></tr></table>"
      ],
      "text/plain": [
       "<IPython.core.display.HTML object>"
      ]
     },
     "metadata": {},
     "output_type": "display_data"
    },
    {
     "name": "stdout",
     "output_type": "stream",
     "text": [
      "\n",
      "# experiments from exported_from_scout (86)\n",
      "# diversity score 1.3593930465036554\n",
      "# score details\n",
      "{'alt_group_score': 0.08333333333333333,\n",
      " 'pos_diff_score': 0.5973547930770379,\n",
      " 'rel_dist_diff_score': 0.4224263275528487,\n",
      " 'size_diff_score': 0.12813929627021767}\n"
     ]
    },
    {
     "data": {
      "text/html": [
       "<table><tr><td><img style='width:100px' src='./saved_designs/exported_from_scout (86)/saved_svgs/design-canvas-a689edab7f8142f3b1c82f225fb57e0c.svg'/></td>\n",
       "                               <td><img style='width:100px' src='./saved_designs/exported_from_scout (86)/saved_svgs/design-canvas-428ae54e6ddc4e8fa7b9210cdf486227.svg'/></td></tr></table>"
      ],
      "text/plain": [
       "<IPython.core.display.HTML object>"
      ]
     },
     "metadata": {},
     "output_type": "display_data"
    },
    {
     "name": "stdout",
     "output_type": "stream",
     "text": [
      "\n",
      "# experiments from exported_from_scout (43)\n",
      "# diversity score 1.3544476636259444\n",
      "# score details\n",
      "{'alt_group_score': 0.0,\n",
      " 'pos_diff_score': 0.5477644770953372,\n",
      " 'rel_dist_diff_score': 0.36607254933329925,\n",
      " 'size_diff_score': 0.22030531859865402}\n"
     ]
    },
    {
     "data": {
      "text/html": [
       "<table><tr><td><img style='width:100px' src='./saved_designs/exported_from_scout (43)/saved_svgs/design-canvas-b3cb63ae043a49e3bd3f02f8ae317c67.svg'/></td>\n",
       "                               <td><img style='width:100px' src='./saved_designs/exported_from_scout (43)/saved_svgs/design-canvas-f6214cdad2c048a38d8b7cda9b933ccd.svg'/></td></tr></table>"
      ],
      "text/plain": [
       "<IPython.core.display.HTML object>"
      ]
     },
     "metadata": {},
     "output_type": "display_data"
    },
    {
     "name": "stdout",
     "output_type": "stream",
     "text": [
      "\n",
      "# experiments from exported_from_scout (88)\n",
      "# diversity score 1.3388428259866978\n",
      "# score details\n",
      "{'alt_group_score': 0.0,\n",
      " 'pos_diff_score': 0.4966446235980424,\n",
      " 'rel_dist_diff_score': 0.29782460573818187,\n",
      " 'size_diff_score': 0.2721867983252368}\n"
     ]
    },
    {
     "data": {
      "text/html": [
       "<table><tr><td><img style='width:100px' src='./saved_designs/exported_from_scout (88)/saved_svgs/design-canvas-fe5c00981eac4a549ea69f14acbde34f.svg'/></td>\n",
       "                               <td><img style='width:100px' src='./saved_designs/exported_from_scout (88)/saved_svgs/design-canvas-d262da7b05ed43c5a91baf2077ab7717.svg'/></td></tr></table>"
      ],
      "text/plain": [
       "<IPython.core.display.HTML object>"
      ]
     },
     "metadata": {},
     "output_type": "display_data"
    },
    {
     "name": "stdout",
     "output_type": "stream",
     "text": [
      "\n",
      "# experiments from exported_from_scout (99)\n",
      "# diversity score 1.3308061848369184\n",
      "# score details\n",
      "{'alt_group_score': 0.0,\n",
      " 'pos_diff_score': 0.5770989324709176,\n",
      " 'rel_dist_diff_score': 0.33550067579622184,\n",
      " 'size_diff_score': 0.20910328828488947}\n"
     ]
    },
    {
     "data": {
      "text/html": [
       "<table><tr><td><img style='width:100px' src='./saved_designs/exported_from_scout (99)/import_these_into_xd/design-canvas-a52759ae3c2e49b9a50e2bfa69918a07.svg'/></td>\n",
       "                               <td><img style='width:100px' src='./saved_designs/exported_from_scout (99)/import_these_into_xd/design-canvas-d8fb0ab7d8b7488585260e7e6af20869.svg'/></td></tr></table>"
      ],
      "text/plain": [
       "<IPython.core.display.HTML object>"
      ]
     },
     "metadata": {},
     "output_type": "display_data"
    },
    {
     "name": "stdout",
     "output_type": "stream",
     "text": [
      "\n",
      "# experiments from exported_from_scout (99)\n",
      "# diversity score 1.3239905014405906\n",
      "# score details\n",
      "{'alt_group_score': 0.0,\n",
      " 'pos_diff_score': 0.44319049246365416,\n",
      " 'rel_dist_diff_score': 0.28661582886361076,\n",
      " 'size_diff_score': 0.29709209005666287}\n"
     ]
    },
    {
     "data": {
      "text/html": [
       "<table><tr><td><img style='width:100px' src='./saved_designs/exported_from_scout (99)/import_these_into_xd/design-canvas-1ae0e35d0b2d43028cddacd7a035b17d.svg'/></td>\n",
       "                               <td><img style='width:100px' src='./saved_designs/exported_from_scout (99)/import_these_into_xd/design-canvas-d8fb0ab7d8b7488585260e7e6af20869.svg'/></td></tr></table>"
      ],
      "text/plain": [
       "<IPython.core.display.HTML object>"
      ]
     },
     "metadata": {},
     "output_type": "display_data"
    },
    {
     "name": "stdout",
     "output_type": "stream",
     "text": [
      "\n",
      "# experiments from exported_from_scout - 2019-04-23T094836.267\n",
      "# diversity score 1.3192708670202526\n",
      "# score details\n",
      "{'alt_group_score': 0.08333333333333333,\n",
      " 'pos_diff_score': 0.5238863415467357,\n",
      " 'rel_dist_diff_score': 0.3090317317527214,\n",
      " 'size_diff_score': 0.2015097301937311}\n"
     ]
    },
    {
     "data": {
      "text/html": [
       "<table><tr><td><img style='width:100px' src='./saved_designs/exported_from_scout - 2019-04-23T094836.267/import_these_into_xd/design-canvas-3dd245c1749e4627a1d5d7c8f677193d.svg'/></td>\n",
       "                               <td><img style='width:100px' src='./saved_designs/exported_from_scout - 2019-04-23T094836.267/import_these_into_xd/design-canvas-ed719ba233704810a0964b7c569c9ed1.svg'/></td></tr></table>"
      ],
      "text/plain": [
       "<IPython.core.display.HTML object>"
      ]
     },
     "metadata": {},
     "output_type": "display_data"
    },
    {
     "name": "stdout",
     "output_type": "stream",
     "text": [
      "\n",
      "# experiments from exported_from_scout - 2019-04-23T094836.267\n",
      "# diversity score 1.3096363642662294\n",
      "# score details\n",
      "{'alt_group_score': 0.08333333333333333,\n",
      " 'pos_diff_score': 0.5476042645858545,\n",
      " 'rel_dist_diff_score': 0.3153962104513721,\n",
      " 'size_diff_score': 0.18165127794783476}\n"
     ]
    },
    {
     "data": {
      "text/html": [
       "<table><tr><td><img style='width:100px' src='./saved_designs/exported_from_scout - 2019-04-23T094836.267/import_these_into_xd/design-canvas-2c9856f3e10141a3b2668f37e42a26af.svg'/></td>\n",
       "                               <td><img style='width:100px' src='./saved_designs/exported_from_scout - 2019-04-23T094836.267/import_these_into_xd/design-canvas-3dd245c1749e4627a1d5d7c8f677193d.svg'/></td></tr></table>"
      ],
      "text/plain": [
       "<IPython.core.display.HTML object>"
      ]
     },
     "metadata": {},
     "output_type": "display_data"
    },
    {
     "name": "stdout",
     "output_type": "stream",
     "text": [
      "\n",
      "# experiments from exported_from_scout (99)\n",
      "# diversity score 1.2935031500667562\n",
      "# score details\n",
      "{'alt_group_score': 0.07692307692307693,\n",
      " 'pos_diff_score': 0.4014561706150884,\n",
      " 'rel_dist_diff_score': 0.29957021191928984,\n",
      " 'size_diff_score': 0.25777684530465056}\n"
     ]
    },
    {
     "data": {
      "text/html": [
       "<table><tr><td><img style='width:100px' src='./saved_designs/exported_from_scout (99)/import_these_into_xd/design-canvas-7304405049fc487a91ca6165424c0b0c.svg'/></td>\n",
       "                               <td><img style='width:100px' src='./saved_designs/exported_from_scout (99)/import_these_into_xd/design-canvas-a2bc85f0c1964088bf9b3444e227d402.svg'/></td></tr></table>"
      ],
      "text/plain": [
       "<IPython.core.display.HTML object>"
      ]
     },
     "metadata": {},
     "output_type": "display_data"
    },
    {
     "name": "stdout",
     "output_type": "stream",
     "text": [
      "\n",
      "# experiments from exported_from_scout (88)\n",
      "# diversity score 1.2850667168051557\n",
      "# score details\n",
      "{'alt_group_score': 0.0,\n",
      " 'pos_diff_score': 0.42567504171159365,\n",
      " 'rel_dist_diff_score': 0.3084216428641618,\n",
      " 'size_diff_score': 0.27548501611470017}\n"
     ]
    },
    {
     "data": {
      "text/html": [
       "<table><tr><td><img style='width:100px' src='./saved_designs/exported_from_scout (88)/saved_svgs/design-canvas-d262da7b05ed43c5a91baf2077ab7717.svg'/></td>\n",
       "                               <td><img style='width:100px' src='./saved_designs/exported_from_scout (88)/saved_svgs/design-canvas-e478abc20d3140f89d1d5b0df10c8ffc.svg'/></td></tr></table>"
      ],
      "text/plain": [
       "<IPython.core.display.HTML object>"
      ]
     },
     "metadata": {},
     "output_type": "display_data"
    },
    {
     "name": "stdout",
     "output_type": "stream",
     "text": [
      "\n",
      "# experiments from exported_from_scout (43)\n",
      "# diversity score 1.2790019004535198\n",
      "# score details\n",
      "{'alt_group_score': 0.07692307692307693,\n",
      " 'pos_diff_score': 0.572927427062875,\n",
      " 'rel_dist_diff_score': 0.4035327478855299,\n",
      " 'size_diff_score': 0.11280932429101895}\n"
     ]
    },
    {
     "data": {
      "text/html": [
       "<table><tr><td><img style='width:100px' src='./saved_designs/exported_from_scout (43)/saved_svgs/design-canvas-b3cb63ae043a49e3bd3f02f8ae317c67.svg'/></td>\n",
       "                               <td><img style='width:100px' src='./saved_designs/exported_from_scout (43)/saved_svgs/design-canvas-39c0b364044841a8ba3c76b73daef885.svg'/></td></tr></table>"
      ],
      "text/plain": [
       "<IPython.core.display.HTML object>"
      ]
     },
     "metadata": {},
     "output_type": "display_data"
    },
    {
     "name": "stdout",
     "output_type": "stream",
     "text": [
      "\n",
      "# experiments from exported_from_scout (88)\n",
      "# diversity score 1.276640727717748\n",
      "# score details\n",
      "{'alt_group_score': 0.0,\n",
      " 'pos_diff_score': 0.4029480621220893,\n",
      " 'rel_dist_diff_score': 0.3205413020644541,\n",
      " 'size_diff_score': 0.2765756817656023}\n"
     ]
    },
    {
     "data": {
      "text/html": [
       "<table><tr><td><img style='width:100px' src='./saved_designs/exported_from_scout (88)/saved_svgs/design-canvas-11a9b95d4511489b847b7741455d68cd.svg'/></td>\n",
       "                               <td><img style='width:100px' src='./saved_designs/exported_from_scout (88)/saved_svgs/design-canvas-e478abc20d3140f89d1d5b0df10c8ffc.svg'/></td></tr></table>"
      ],
      "text/plain": [
       "<IPython.core.display.HTML object>"
      ]
     },
     "metadata": {},
     "output_type": "display_data"
    },
    {
     "name": "stdout",
     "output_type": "stream",
     "text": [
      "\n",
      "# experiments from exported_from_scout (51)\n",
      "# diversity score 1.267760082742812\n",
      "# score details\n",
      "{'alt_group_score': 0.0,\n",
      " 'pos_diff_score': 0.4564074421785152,\n",
      " 'rel_dist_diff_score': 0.3264140677780667,\n",
      " 'size_diff_score': 0.24246928639311502}\n"
     ]
    },
    {
     "data": {
      "text/html": [
       "<table><tr><td><img style='width:100px' src='./saved_designs/exported_from_scout (51)/saved_svgs/design-canvas-10a65cf7f8df4b209d36b11fa6c545d3.svg'/></td>\n",
       "                               <td><img style='width:100px' src='./saved_designs/exported_from_scout (51)/saved_svgs/design-canvas-2635f542ddfa4b378c626d8f5b65d782.svg'/></td></tr></table>"
      ],
      "text/plain": [
       "<IPython.core.display.HTML object>"
      ]
     },
     "metadata": {},
     "output_type": "display_data"
    },
    {
     "name": "stdout",
     "output_type": "stream",
     "text": [
      "\n",
      "# experiments from exported_from_scout (88)\n",
      "# diversity score 1.2645564593429284\n",
      "# score details\n",
      "{'alt_group_score': 0.0,\n",
      " 'pos_diff_score': 0.4045204428442311,\n",
      " 'rel_dist_diff_score': 0.3342865991358001,\n",
      " 'size_diff_score': 0.26287470868144863}\n"
     ]
    },
    {
     "data": {
      "text/html": [
       "<table><tr><td><img style='width:100px' src='./saved_designs/exported_from_scout (88)/saved_svgs/design-canvas-683b24954e434fed9b82a246353543b0.svg'/></td>\n",
       "                               <td><img style='width:100px' src='./saved_designs/exported_from_scout (88)/saved_svgs/design-canvas-e478abc20d3140f89d1d5b0df10c8ffc.svg'/></td></tr></table>"
      ],
      "text/plain": [
       "<IPython.core.display.HTML object>"
      ]
     },
     "metadata": {},
     "output_type": "display_data"
    },
    {
     "name": "stdout",
     "output_type": "stream",
     "text": [
      "\n",
      "# experiments from exported_from_scout (52)\n",
      "# diversity score 1.2533143755470522\n",
      "# score details\n",
      "{'alt_group_score': 0.08333333333333333,\n",
      " 'pos_diff_score': 0.3294742963022401,\n",
      " 'rel_dist_diff_score': 0.20552749176324017,\n",
      " 'size_diff_score': 0.3174896270741192}\n"
     ]
    },
    {
     "data": {
      "text/html": [
       "<table><tr><td><img style='width:100px' src='./saved_designs/exported_from_scout (52)/saved_svgs/design-canvas-6726aaf1c8de40d1a7a3a4890983126b.svg'/></td>\n",
       "                               <td><img style='width:100px' src='./saved_designs/exported_from_scout (52)/saved_svgs/design-canvas-9cbcc62216344338bb17718474e81f1e.svg'/></td></tr></table>"
      ],
      "text/plain": [
       "<IPython.core.display.HTML object>"
      ]
     },
     "metadata": {},
     "output_type": "display_data"
    },
    {
     "name": "stdout",
     "output_type": "stream",
     "text": [
      "\n",
      "# experiments from exported_from_scout (86)\n",
      "# diversity score 1.2415129224723005\n",
      "# score details\n",
      "{'alt_group_score': 0.08333333333333333,\n",
      " 'pos_diff_score': 0.39324651212233525,\n",
      " 'rel_dist_diff_score': 0.22536377233364022,\n",
      " 'size_diff_score': 0.2697846523414959}\n"
     ]
    },
    {
     "data": {
      "text/html": [
       "<table><tr><td><img style='width:100px' src='./saved_designs/exported_from_scout (86)/saved_svgs/design-canvas-a689edab7f8142f3b1c82f225fb57e0c.svg'/></td>\n",
       "                               <td><img style='width:100px' src='./saved_designs/exported_from_scout (86)/saved_svgs/design-canvas-80eb8d9ce58845c78ea5d792c6174987.svg'/></td></tr></table>"
      ],
      "text/plain": [
       "<IPython.core.display.HTML object>"
      ]
     },
     "metadata": {},
     "output_type": "display_data"
    },
    {
     "name": "stdout",
     "output_type": "stream",
     "text": [
      "\n",
      "# experiments from exported_from_scout (52)\n",
      "# diversity score 1.2320632808202439\n",
      "# score details\n",
      "{'alt_group_score': 0.08333333333333333,\n",
      " 'pos_diff_score': 0.6355019445633638,\n",
      " 'rel_dist_diff_score': 0.4131659984001168,\n",
      " 'size_diff_score': 0.05003100226171482}\n"
     ]
    },
    {
     "data": {
      "text/html": [
       "<table><tr><td><img style='width:100px' src='./saved_designs/exported_from_scout (52)/saved_svgs/design-canvas-9cbcc62216344338bb17718474e81f1e.svg'/></td>\n",
       "                               <td><img style='width:100px' src='./saved_designs/exported_from_scout (52)/saved_svgs/design-canvas-a5e89620c72146d9a8943c5d3c28934f.svg'/></td></tr></table>"
      ],
      "text/plain": [
       "<IPython.core.display.HTML object>"
      ]
     },
     "metadata": {},
     "output_type": "display_data"
    },
    {
     "name": "stdout",
     "output_type": "stream",
     "text": [
      "\n",
      "# experiments from exported_from_scout (52)\n",
      "# diversity score 1.22026707384757\n",
      "# score details\n",
      "{'alt_group_score': 0.0,\n",
      " 'pos_diff_score': 0.34380701364783994,\n",
      " 'rel_dist_diff_score': 0.2562386506646758,\n",
      " 'size_diff_score': 0.3101107047675271}\n"
     ]
    },
    {
     "data": {
      "text/html": [
       "<table><tr><td><img style='width:100px' src='./saved_designs/exported_from_scout (52)/saved_svgs/design-canvas-56cc849527104b9a99bc9ec9a056faed.svg'/></td>\n",
       "                               <td><img style='width:100px' src='./saved_designs/exported_from_scout (52)/saved_svgs/design-canvas-a5e89620c72146d9a8943c5d3c28934f.svg'/></td></tr></table>"
      ],
      "text/plain": [
       "<IPython.core.display.HTML object>"
      ]
     },
     "metadata": {},
     "output_type": "display_data"
    },
    {
     "name": "stdout",
     "output_type": "stream",
     "text": [
      "\n",
      "# experiments from exported_from_scout (86)\n",
      "# diversity score 1.2193100671008783\n",
      "# score details\n",
      "{'alt_group_score': 0.08333333333333333,\n",
      " 'pos_diff_score': 0.3793702893319225,\n",
      " 'rel_dist_diff_score': 0.3027565202568009,\n",
      " 'size_diff_score': 0.2269249620894108}\n"
     ]
    },
    {
     "data": {
      "text/html": [
       "<table><tr><td><img style='width:100px' src='./saved_designs/exported_from_scout (86)/saved_svgs/design-canvas-144a06cdde514bb7adf88108317b7ce5.svg'/></td>\n",
       "                               <td><img style='width:100px' src='./saved_designs/exported_from_scout (86)/saved_svgs/design-canvas-5367a7ef0fc14f199f52ddf6302b8ebf.svg'/></td></tr></table>"
      ],
      "text/plain": [
       "<IPython.core.display.HTML object>"
      ]
     },
     "metadata": {},
     "output_type": "display_data"
    },
    {
     "name": "stdout",
     "output_type": "stream",
     "text": [
      "\n",
      "# experiments from exported_from_scout (98)\n",
      "# diversity score 1.209404053355236\n",
      "# score details\n",
      "{'alt_group_score': 0.0,\n",
      " 'pos_diff_score': 0.5088257404874375,\n",
      " 'rel_dist_diff_score': 0.3081636271484272,\n",
      " 'size_diff_score': 0.19620734285968564}\n"
     ]
    },
    {
     "data": {
      "text/html": [
       "<table><tr><td><img style='width:100px' src='./saved_designs/exported_from_scout (98)/import_these_into_xd/design-canvas-7304405049fc487a91ca6165424c0b0c.svg'/></td>\n",
       "                               <td><img style='width:100px' src='./saved_designs/exported_from_scout (98)/import_these_into_xd/design-canvas-1ae0e35d0b2d43028cddacd7a035b17d.svg'/></td></tr></table>"
      ],
      "text/plain": [
       "<IPython.core.display.HTML object>"
      ]
     },
     "metadata": {},
     "output_type": "display_data"
    },
    {
     "name": "stdout",
     "output_type": "stream",
     "text": [
      "\n",
      "# experiments from exported_from_scout (99)\n",
      "# diversity score 1.209404053355236\n",
      "# score details\n",
      "{'alt_group_score': 0.0,\n",
      " 'pos_diff_score': 0.5088257404874375,\n",
      " 'rel_dist_diff_score': 0.3081636271484272,\n",
      " 'size_diff_score': 0.19620734285968564}\n"
     ]
    },
    {
     "data": {
      "text/html": [
       "<table><tr><td><img style='width:100px' src='./saved_designs/exported_from_scout (99)/import_these_into_xd/design-canvas-7304405049fc487a91ca6165424c0b0c.svg'/></td>\n",
       "                               <td><img style='width:100px' src='./saved_designs/exported_from_scout (99)/import_these_into_xd/design-canvas-1ae0e35d0b2d43028cddacd7a035b17d.svg'/></td></tr></table>"
      ],
      "text/plain": [
       "<IPython.core.display.HTML object>"
      ]
     },
     "metadata": {},
     "output_type": "display_data"
    },
    {
     "name": "stdout",
     "output_type": "stream",
     "text": [
      "\n",
      "# experiments from exported_from_scout (99)\n",
      "# diversity score 1.2072810838795092\n",
      "# score details\n",
      "{'alt_group_score': 0.07692307692307693,\n",
      " 'pos_diff_score': 0.3368211014944913,\n",
      " 'rel_dist_diff_score': 0.19616948876427662,\n",
      " 'size_diff_score': 0.29868370834883223}\n"
     ]
    },
    {
     "data": {
      "text/html": [
       "<table><tr><td><img style='width:100px' src='./saved_designs/exported_from_scout (99)/import_these_into_xd/design-canvas-1ae0e35d0b2d43028cddacd7a035b17d.svg'/></td>\n",
       "                               <td><img style='width:100px' src='./saved_designs/exported_from_scout (99)/import_these_into_xd/design-canvas-a2bc85f0c1964088bf9b3444e227d402.svg'/></td></tr></table>"
      ],
      "text/plain": [
       "<IPython.core.display.HTML object>"
      ]
     },
     "metadata": {},
     "output_type": "display_data"
    },
    {
     "name": "stdout",
     "output_type": "stream",
     "text": [
      "\n",
      "# experiments from exported_from_scout (99)\n",
      "# diversity score 1.2050344153873818\n",
      "# score details\n",
      "{'alt_group_score': 0.07692307692307693,\n",
      " 'pos_diff_score': 0.4958577064605832,\n",
      " 'rel_dist_diff_score': 0.2510589717662263,\n",
      " 'size_diff_score': 0.1905973301187477}\n"
     ]
    },
    {
     "data": {
      "text/html": [
       "<table><tr><td><img style='width:100px' src='./saved_designs/exported_from_scout (99)/import_these_into_xd/design-canvas-be478c6373164bc4b96bbccf5b367f9b.svg'/></td>\n",
       "                               <td><img style='width:100px' src='./saved_designs/exported_from_scout (99)/import_these_into_xd/design-canvas-d8fb0ab7d8b7488585260e7e6af20869.svg'/></td></tr></table>"
      ],
      "text/plain": [
       "<IPython.core.display.HTML object>"
      ]
     },
     "metadata": {},
     "output_type": "display_data"
    },
    {
     "name": "stdout",
     "output_type": "stream",
     "text": [
      "\n",
      "# experiments from exported_from_scout - 2019-04-23T094836.267\n",
      "# diversity score 1.1979003751271269\n",
      "# score details\n",
      "{'alt_group_score': 0.08333333333333333,\n",
      " 'pos_diff_score': 0.5067545988195813,\n",
      " 'rel_dist_diff_score': 0.24671155570226488,\n",
      " 'size_diff_score': 0.1805504436359737}\n"
     ]
    },
    {
     "data": {
      "text/html": [
       "<table><tr><td><img style='width:100px' src='./saved_designs/exported_from_scout - 2019-04-23T094836.267/import_these_into_xd/design-canvas-3af7dce4b8654a809d9093427d91ff19.svg'/></td>\n",
       "                               <td><img style='width:100px' src='./saved_designs/exported_from_scout - 2019-04-23T094836.267/import_these_into_xd/design-canvas-ed719ba233704810a0964b7c569c9ed1.svg'/></td></tr></table>"
      ],
      "text/plain": [
       "<IPython.core.display.HTML object>"
      ]
     },
     "metadata": {},
     "output_type": "display_data"
    },
    {
     "name": "stdout",
     "output_type": "stream",
     "text": [
      "\n",
      "# experiments from exported_from_scout (99)\n",
      "# diversity score 1.1960664345966547\n",
      "# score details\n",
      "{'alt_group_score': 0.07692307692307693,\n",
      " 'pos_diff_score': 0.43070929170562505,\n",
      " 'rel_dist_diff_score': 0.303941385258902,\n",
      " 'size_diff_score': 0.1922463403545254}\n"
     ]
    },
    {
     "data": {
      "text/html": [
       "<table><tr><td><img style='width:100px' src='./saved_designs/exported_from_scout (99)/import_these_into_xd/design-canvas-be478c6373164bc4b96bbccf5b367f9b.svg'/></td>\n",
       "                               <td><img style='width:100px' src='./saved_designs/exported_from_scout (99)/import_these_into_xd/design-canvas-a2bc85f0c1964088bf9b3444e227d402.svg'/></td></tr></table>"
      ],
      "text/plain": [
       "<IPython.core.display.HTML object>"
      ]
     },
     "metadata": {},
     "output_type": "display_data"
    },
    {
     "name": "stdout",
     "output_type": "stream",
     "text": [
      "\n",
      "# experiments from exported_from_scout (99)\n",
      "# diversity score 1.1943295265919507\n",
      "# score details\n",
      "{'alt_group_score': 0.0,\n",
      " 'pos_diff_score': 0.3808620815468863,\n",
      " 'rel_dist_diff_score': 0.2905643987773871,\n",
      " 'size_diff_score': 0.26145152313383874}\n"
     ]
    },
    {
     "data": {
      "text/html": [
       "<table><tr><td><img style='width:100px' src='./saved_designs/exported_from_scout (99)/import_these_into_xd/design-canvas-83903cdc8136490e90c180d73dd2c09d.svg'/></td>\n",
       "                               <td><img style='width:100px' src='./saved_designs/exported_from_scout (99)/import_these_into_xd/design-canvas-918a934c8f404d4993face741c29015f.svg'/></td></tr></table>"
      ],
      "text/plain": [
       "<IPython.core.display.HTML object>"
      ]
     },
     "metadata": {},
     "output_type": "display_data"
    },
    {
     "name": "stdout",
     "output_type": "stream",
     "text": [
      "\n",
      "# experiments from ScoutExports_p7\n",
      "# diversity score 1.192484539353432\n",
      "# score details\n",
      "{'alt_group_score': 0.0,\n",
      " 'pos_diff_score': 0.5442038919122976,\n",
      " 'rel_dist_diff_score': 0.3513965393004504,\n",
      " 'size_diff_score': 0.14844205407034208}\n"
     ]
    },
    {
     "data": {
      "text/html": [
       "<table><tr><td><img style='width:100px' src='./saved_designs/ScoutExports_p7/saved_svgs/design-canvas-9332a26dc98c431aa15252e8a2891ecb.svg'/></td>\n",
       "                               <td><img style='width:100px' src='./saved_designs/ScoutExports_p7/saved_svgs/design-canvas-9249b8a98c0f426aa223c268bd5cb31c.svg'/></td></tr></table>"
      ],
      "text/plain": [
       "<IPython.core.display.HTML object>"
      ]
     },
     "metadata": {},
     "output_type": "display_data"
    },
    {
     "name": "stdout",
     "output_type": "stream",
     "text": [
      "\n",
      "# experiments from exported_from_scout (51)\n",
      "# diversity score 1.1906587277577698\n",
      "# score details\n",
      "{'alt_group_score': 0.07692307692307693,\n",
      " 'pos_diff_score': 0.3469354859342544,\n",
      " 'rel_dist_diff_score': 0.24372606838196664,\n",
      " 'size_diff_score': 0.26153704825923596}\n"
     ]
    },
    {
     "data": {
      "text/html": [
       "<table><tr><td><img style='width:100px' src='./saved_designs/exported_from_scout (51)/saved_svgs/design-canvas-10a65cf7f8df4b209d36b11fa6c545d3.svg'/></td>\n",
       "                               <td><img style='width:100px' src='./saved_designs/exported_from_scout (51)/saved_svgs/design-canvas-1247f5e41e6d40b7b60efc468451e1b9.svg'/></td></tr></table>"
      ],
      "text/plain": [
       "<IPython.core.display.HTML object>"
      ]
     },
     "metadata": {},
     "output_type": "display_data"
    },
    {
     "name": "stdout",
     "output_type": "stream",
     "text": [
      "\n",
      "# experiments from exported_from_scout (52)\n",
      "# diversity score 1.1875883279281951\n",
      "# score details\n",
      "{'alt_group_score': 0.08333333333333333,\n",
      " 'pos_diff_score': 0.4749991700711071,\n",
      " 'rel_dist_diff_score': 0.3033483753511535,\n",
      " 'size_diff_score': 0.16295372458630067}\n"
     ]
    },
    {
     "data": {
      "text/html": [
       "<table><tr><td><img style='width:100px' src='./saved_designs/exported_from_scout (52)/saved_svgs/design-canvas-6726aaf1c8de40d1a7a3a4890983126b.svg'/></td>\n",
       "                               <td><img style='width:100px' src='./saved_designs/exported_from_scout (52)/saved_svgs/design-canvas-7599585b0b764c2189747bf10283f144.svg'/></td></tr></table>"
      ],
      "text/plain": [
       "<IPython.core.display.HTML object>"
      ]
     },
     "metadata": {},
     "output_type": "display_data"
    },
    {
     "name": "stdout",
     "output_type": "stream",
     "text": [
      "\n",
      "# experiments from exported_from_scout (88)\n",
      "# diversity score 1.183945595481255\n",
      "# score details\n",
      "{'alt_group_score': 0.0,\n",
      " 'pos_diff_score': 0.5286843733520135,\n",
      " 'rel_dist_diff_score': 0.3098205506860078,\n",
      " 'size_diff_score': 0.1727203357216169}\n"
     ]
    },
    {
     "data": {
      "text/html": [
       "<table><tr><td><img style='width:100px' src='./saved_designs/exported_from_scout (88)/saved_svgs/design-canvas-11a9b95d4511489b847b7741455d68cd.svg'/></td>\n",
       "                               <td><img style='width:100px' src='./saved_designs/exported_from_scout (88)/saved_svgs/design-canvas-bcacfb9cea58444ab69d1b2c26a7b346.svg'/></td></tr></table>"
      ],
      "text/plain": [
       "<IPython.core.display.HTML object>"
      ]
     },
     "metadata": {},
     "output_type": "display_data"
    },
    {
     "name": "stdout",
     "output_type": "stream",
     "text": [
      "\n",
      "# experiments from exported_from_scout (52)\n",
      "# diversity score 1.1761694688571018\n",
      "# score details\n",
      "{'alt_group_score': 0.08333333333333333,\n",
      " 'pos_diff_score': 0.48311322172134696,\n",
      " 'rel_dist_diff_score': 0.3166687597685184,\n",
      " 'size_diff_score': 0.1465270770169516}\n"
     ]
    },
    {
     "data": {
      "text/html": [
       "<table><tr><td><img style='width:100px' src='./saved_designs/exported_from_scout (52)/saved_svgs/design-canvas-6726aaf1c8de40d1a7a3a4890983126b.svg'/></td>\n",
       "                               <td><img style='width:100px' src='./saved_designs/exported_from_scout (52)/saved_svgs/design-canvas-9d8da3fdb3874a8c97c1b334bb626a28.svg'/></td></tr></table>"
      ],
      "text/plain": [
       "<IPython.core.display.HTML object>"
      ]
     },
     "metadata": {},
     "output_type": "display_data"
    },
    {
     "name": "stdout",
     "output_type": "stream",
     "text": [
      "\n",
      "# experiments from exported_from_scout (51)\n",
      "# diversity score 1.1697099710836674\n",
      "# score details\n",
      "{'alt_group_score': 0.07692307692307693,\n",
      " 'pos_diff_score': 0.2956440424900646,\n",
      " 'rel_dist_diff_score': 0.20339759360036672,\n",
      " 'size_diff_score': 0.2968726290350796}\n"
     ]
    },
    {
     "data": {
      "text/html": [
       "<table><tr><td><img style='width:100px' src='./saved_designs/exported_from_scout (51)/saved_svgs/design-canvas-2635f542ddfa4b378c626d8f5b65d782.svg'/></td>\n",
       "                               <td><img style='width:100px' src='./saved_designs/exported_from_scout (51)/saved_svgs/design-canvas-1247f5e41e6d40b7b60efc468451e1b9.svg'/></td></tr></table>"
      ],
      "text/plain": [
       "<IPython.core.display.HTML object>"
      ]
     },
     "metadata": {},
     "output_type": "display_data"
    },
    {
     "name": "stdout",
     "output_type": "stream",
     "text": [
      "\n",
      "# experiments from ScoutExports_p7\n",
      "# diversity score 1.1587535586652318\n",
      "# score details\n",
      "{'alt_group_score': 0.0,\n",
      " 'pos_diff_score': 0.48769037922300784,\n",
      " 'rel_dist_diff_score': 0.298533808520702,\n",
      " 'size_diff_score': 0.18626468546076094}\n"
     ]
    },
    {
     "data": {
      "text/html": [
       "<table><tr><td><img style='width:100px' src='./saved_designs/ScoutExports_p7/saved_svgs/design-canvas-85dcd017a2cc43cdb43601efcc980ca3.svg'/></td>\n",
       "                               <td><img style='width:100px' src='./saved_designs/ScoutExports_p7/saved_svgs/design-canvas-9249b8a98c0f426aa223c268bd5cb31c.svg'/></td></tr></table>"
      ],
      "text/plain": [
       "<IPython.core.display.HTML object>"
      ]
     },
     "metadata": {},
     "output_type": "display_data"
    },
    {
     "name": "stdout",
     "output_type": "stream",
     "text": [
      "\n",
      "# experiments from exported_from_scout (98)\n",
      "# diversity score 1.144250328967602\n",
      "# score details\n",
      "{'alt_group_score': 0.0,\n",
      " 'pos_diff_score': 0.3677678224042774,\n",
      " 'rel_dist_diff_score': 0.2750226494420454,\n",
      " 'size_diff_score': 0.2507299285606395}\n"
     ]
    },
    {
     "data": {
      "text/html": [
       "<table><tr><td><img style='width:100px' src='./saved_designs/exported_from_scout (98)/import_these_into_xd/design-canvas-1ae0e35d0b2d43028cddacd7a035b17d.svg'/></td>\n",
       "                               <td><img style='width:100px' src='./saved_designs/exported_from_scout (98)/import_these_into_xd/design-canvas-83903cdc8136490e90c180d73dd2c09d.svg'/></td></tr></table>"
      ],
      "text/plain": [
       "<IPython.core.display.HTML object>"
      ]
     },
     "metadata": {},
     "output_type": "display_data"
    },
    {
     "name": "stdout",
     "output_type": "stream",
     "text": [
      "\n",
      "# experiments from exported_from_scout (99)\n",
      "# diversity score 1.144250328967602\n",
      "# score details\n",
      "{'alt_group_score': 0.0,\n",
      " 'pos_diff_score': 0.3677678224042774,\n",
      " 'rel_dist_diff_score': 0.2750226494420454,\n",
      " 'size_diff_score': 0.2507299285606395}\n"
     ]
    },
    {
     "data": {
      "text/html": [
       "<table><tr><td><img style='width:100px' src='./saved_designs/exported_from_scout (99)/import_these_into_xd/design-canvas-1ae0e35d0b2d43028cddacd7a035b17d.svg'/></td>\n",
       "                               <td><img style='width:100px' src='./saved_designs/exported_from_scout (99)/import_these_into_xd/design-canvas-83903cdc8136490e90c180d73dd2c09d.svg'/></td></tr></table>"
      ],
      "text/plain": [
       "<IPython.core.display.HTML object>"
      ]
     },
     "metadata": {},
     "output_type": "display_data"
    },
    {
     "name": "stdout",
     "output_type": "stream",
     "text": [
      "\n",
      "# experiments from exported_from_scout (99)\n",
      "# diversity score 1.1295707730475697\n",
      "# score details\n",
      "{'alt_group_score': 0.07692307692307693,\n",
      " 'pos_diff_score': 0.2689713298407955,\n",
      " 'rel_dist_diff_score': 0.19630622699332068,\n",
      " 'size_diff_score': 0.29368506964518826}\n"
     ]
    },
    {
     "data": {
      "text/html": [
       "<table><tr><td><img style='width:100px' src='./saved_designs/exported_from_scout (99)/import_these_into_xd/design-canvas-918a934c8f404d4993face741c29015f.svg'/></td>\n",
       "                               <td><img style='width:100px' src='./saved_designs/exported_from_scout (99)/import_these_into_xd/design-canvas-a2bc85f0c1964088bf9b3444e227d402.svg'/></td></tr></table>"
      ],
      "text/plain": [
       "<IPython.core.display.HTML object>"
      ]
     },
     "metadata": {},
     "output_type": "display_data"
    },
    {
     "name": "stdout",
     "output_type": "stream",
     "text": [
      "\n",
      "# experiments from exported_from_scout (86)\n",
      "# diversity score 1.1276797714230455\n",
      "# score details\n",
      "{'alt_group_score': 0.08333333333333333,\n",
      " 'pos_diff_score': 0.4252465711887673,\n",
      " 'rel_dist_diff_score': 0.3240494337418158,\n",
      " 'size_diff_score': 0.14752521657956452}\n"
     ]
    },
    {
     "data": {
      "text/html": [
       "<table><tr><td><img style='width:100px' src='./saved_designs/exported_from_scout (86)/saved_svgs/design-canvas-a689edab7f8142f3b1c82f225fb57e0c.svg'/></td>\n",
       "                               <td><img style='width:100px' src='./saved_designs/exported_from_scout (86)/saved_svgs/design-canvas-144a06cdde514bb7adf88108317b7ce5.svg'/></td></tr></table>"
      ],
      "text/plain": [
       "<IPython.core.display.HTML object>"
      ]
     },
     "metadata": {},
     "output_type": "display_data"
    },
    {
     "name": "stdout",
     "output_type": "stream",
     "text": [
      "\n",
      "# experiments from exported_from_scout - 2019-04-25T155613.314\n",
      "# diversity score 1.1264123063657248\n",
      "# score details\n",
      "{'alt_group_score': 0.08333333333333333,\n",
      " 'pos_diff_score': 0.356540788775646,\n",
      " 'rel_dist_diff_score': 0.2604745570542451,\n",
      " 'size_diff_score': 0.2130318136012502}\n"
     ]
    },
    {
     "data": {
      "text/html": [
       "<table><tr><td><img style='width:100px' src='./saved_designs/exported_from_scout - 2019-04-25T155613.314/import_these_into_xd/design-canvas-f8d0cbd306704125b0094c02162315f1.svg'/></td>\n",
       "                               <td><img style='width:100px' src='./saved_designs/exported_from_scout - 2019-04-25T155613.314/import_these_into_xd/design-canvas-1ae3854c85574df8bfefb5da26fa8a39.svg'/></td></tr></table>"
      ],
      "text/plain": [
       "<IPython.core.display.HTML object>"
      ]
     },
     "metadata": {},
     "output_type": "display_data"
    },
    {
     "name": "stdout",
     "output_type": "stream",
     "text": [
      "\n",
      "# experiments from exported_from_scout (88)\n",
      "# diversity score 1.1133962226062977\n",
      "# score details\n",
      "{'alt_group_score': 0.0,\n",
      " 'pos_diff_score': 0.34430891416919673,\n",
      " 'rel_dist_diff_score': 0.20774714222053192,\n",
      " 'size_diff_score': 0.2806700831082845}\n"
     ]
    },
    {
     "data": {
      "text/html": [
       "<table><tr><td><img style='width:100px' src='./saved_designs/exported_from_scout (88)/saved_svgs/design-canvas-bcacfb9cea58444ab69d1b2c26a7b346.svg'/></td>\n",
       "                               <td><img style='width:100px' src='./saved_designs/exported_from_scout (88)/saved_svgs/design-canvas-e478abc20d3140f89d1d5b0df10c8ffc.svg'/></td></tr></table>"
      ],
      "text/plain": [
       "<IPython.core.display.HTML object>"
      ]
     },
     "metadata": {},
     "output_type": "display_data"
    },
    {
     "name": "stdout",
     "output_type": "stream",
     "text": [
      "\n",
      "# experiments from exported_from_scout (88)\n",
      "# diversity score 1.1100663161686115\n",
      "# score details\n",
      "{'alt_group_score': 0.0,\n",
      " 'pos_diff_score': 0.4961018131250519,\n",
      " 'rel_dist_diff_score': 0.31696510668338773,\n",
      " 'size_diff_score': 0.14849969818008596}\n"
     ]
    },
    {
     "data": {
      "text/html": [
       "<table><tr><td><img style='width:100px' src='./saved_designs/exported_from_scout (88)/saved_svgs/design-canvas-683b24954e434fed9b82a246353543b0.svg'/></td>\n",
       "                               <td><img style='width:100px' src='./saved_designs/exported_from_scout (88)/saved_svgs/design-canvas-fd56b132c13a4b1b9f27556ea5d3aec4.svg'/></td></tr></table>"
      ],
      "text/plain": [
       "<IPython.core.display.HTML object>"
      ]
     },
     "metadata": {},
     "output_type": "display_data"
    },
    {
     "name": "stdout",
     "output_type": "stream",
     "text": [
      "\n",
      "# experiments from exported_from_scout - 2019-04-23T094836.267\n",
      "# diversity score 1.0979837662621719\n",
      "# score details\n",
      "{'alt_group_score': 0.08333333333333333,\n",
      " 'pos_diff_score': 0.5458223917562192,\n",
      " 'rel_dist_diff_score': 0.25194474048463766,\n",
      " 'size_diff_score': 0.10844165034399086}\n"
     ]
    },
    {
     "data": {
      "text/html": [
       "<table><tr><td><img style='width:100px' src='./saved_designs/exported_from_scout - 2019-04-23T094836.267/import_these_into_xd/design-canvas-2c9856f3e10141a3b2668f37e42a26af.svg'/></td>\n",
       "                               <td><img style='width:100px' src='./saved_designs/exported_from_scout - 2019-04-23T094836.267/import_these_into_xd/design-canvas-3af7dce4b8654a809d9093427d91ff19.svg'/></td></tr></table>"
      ],
      "text/plain": [
       "<IPython.core.display.HTML object>"
      ]
     },
     "metadata": {},
     "output_type": "display_data"
    },
    {
     "name": "stdout",
     "output_type": "stream",
     "text": [
      "\n",
      "# experiments from exported_from_scout (60)\n",
      "# diversity score 1.0934543314593057\n",
      "# score details\n",
      "{'alt_group_score': 0.0,\n",
      " 'pos_diff_score': 0.48496795937264764,\n",
      " 'rel_dist_diff_score': 0.3341119527399408,\n",
      " 'size_diff_score': 0.13718720967335868}\n"
     ]
    },
    {
     "data": {
      "text/html": [
       "<table><tr><td><img style='width:100px' src='./saved_designs/exported_from_scout (60)/saved_svgs/design-canvas-ede37baa7eee4f32a2ef6e5f790c99d5.svg'/></td>\n",
       "                               <td><img style='width:100px' src='./saved_designs/exported_from_scout (60)/saved_svgs/design-canvas-3db107c6701b45c686a7818eb951a6fb.svg'/></td></tr></table>"
      ],
      "text/plain": [
       "<IPython.core.display.HTML object>"
      ]
     },
     "metadata": {},
     "output_type": "display_data"
    },
    {
     "name": "stdout",
     "output_type": "stream",
     "text": [
      "\n",
      "# experiments from ScoutExports\n",
      "# diversity score 1.0934543314593057\n",
      "# score details\n",
      "{'alt_group_score': 0.0,\n",
      " 'pos_diff_score': 0.48496795937264764,\n",
      " 'rel_dist_diff_score': 0.3341119527399408,\n",
      " 'size_diff_score': 0.13718720967335868}\n"
     ]
    },
    {
     "data": {
      "text/html": [
       "<table><tr><td><img style='width:100px' src='./saved_designs/ScoutExports/saved_svgs/design-canvas-ede37baa7eee4f32a2ef6e5f790c99d5.svg'/></td>\n",
       "                               <td><img style='width:100px' src='./saved_designs/ScoutExports/saved_svgs/design-canvas-3db107c6701b45c686a7818eb951a6fb.svg'/></td></tr></table>"
      ],
      "text/plain": [
       "<IPython.core.display.HTML object>"
      ]
     },
     "metadata": {},
     "output_type": "display_data"
    },
    {
     "name": "stdout",
     "output_type": "stream",
     "text": [
      "\n",
      "# experiments from exported_from_scout (52)\n",
      "# diversity score 1.0886788335113082\n",
      "# score details\n",
      "{'alt_group_score': 0.0,\n",
      " 'pos_diff_score': 0.27766548081758113,\n",
      " 'rel_dist_diff_score': 0.2342820871247948,\n",
      " 'size_diff_score': 0.2883656327844661}\n"
     ]
    },
    {
     "data": {
      "text/html": [
       "<table><tr><td><img style='width:100px' src='./saved_designs/exported_from_scout (52)/saved_svgs/design-canvas-56cc849527104b9a99bc9ec9a056faed.svg'/></td>\n",
       "                               <td><img style='width:100px' src='./saved_designs/exported_from_scout (52)/saved_svgs/design-canvas-a3e1d87bf50e4259b1ad3f8d85ee1601.svg'/></td></tr></table>"
      ],
      "text/plain": [
       "<IPython.core.display.HTML object>"
      ]
     },
     "metadata": {},
     "output_type": "display_data"
    },
    {
     "name": "stdout",
     "output_type": "stream",
     "text": [
      "\n",
      "# experiments from exported_from_scout (88)\n",
      "# diversity score 1.0849622841507074\n",
      "# score details\n",
      "{'alt_group_score': 0.0,\n",
      " 'pos_diff_score': 0.3239075458106653,\n",
      " 'rel_dist_diff_score': 0.16089028719264814,\n",
      " 'size_diff_score': 0.300082225573697}\n"
     ]
    },
    {
     "data": {
      "text/html": [
       "<table><tr><td><img style='width:100px' src='./saved_designs/exported_from_scout (88)/saved_svgs/design-canvas-fd56b132c13a4b1b9f27556ea5d3aec4.svg'/></td>\n",
       "                               <td><img style='width:100px' src='./saved_designs/exported_from_scout (88)/saved_svgs/design-canvas-e478abc20d3140f89d1d5b0df10c8ffc.svg'/></td></tr></table>"
      ],
      "text/plain": [
       "<IPython.core.display.HTML object>"
      ]
     },
     "metadata": {},
     "output_type": "display_data"
    },
    {
     "name": "stdout",
     "output_type": "stream",
     "text": [
      "\n",
      "# experiments from exported_from_scout (99)\n",
      "# diversity score 1.0785824259778514\n",
      "# score details\n",
      "{'alt_group_score': 0.0,\n",
      " 'pos_diff_score': 0.39850092034240275,\n",
      " 'rel_dist_diff_score': 0.26113607458328325,\n",
      " 'size_diff_score': 0.20947271552608274}\n"
     ]
    },
    {
     "data": {
      "text/html": [
       "<table><tr><td><img style='width:100px' src='./saved_designs/exported_from_scout (99)/import_these_into_xd/design-canvas-7304405049fc487a91ca6165424c0b0c.svg'/></td>\n",
       "                               <td><img style='width:100px' src='./saved_designs/exported_from_scout (99)/import_these_into_xd/design-canvas-918a934c8f404d4993face741c29015f.svg'/></td></tr></table>"
      ],
      "text/plain": [
       "<IPython.core.display.HTML object>"
      ]
     },
     "metadata": {},
     "output_type": "display_data"
    },
    {
     "name": "stdout",
     "output_type": "stream",
     "text": [
      "\n",
      "# experiments from exported_from_scout (86)\n",
      "# diversity score 1.0769381521648491\n",
      "# score details\n",
      "{'alt_group_score': 0.08333333333333333,\n",
      " 'pos_diff_score': 0.3788989130520948,\n",
      " 'rel_dist_diff_score': 0.31939282196332025,\n",
      " 'size_diff_score': 0.1476565419080504}\n"
     ]
    },
    {
     "data": {
      "text/html": [
       "<table><tr><td><img style='width:100px' src='./saved_designs/exported_from_scout (86)/saved_svgs/design-canvas-428ae54e6ddc4e8fa7b9210cdf486227.svg'/></td>\n",
       "                               <td><img style='width:100px' src='./saved_designs/exported_from_scout (86)/saved_svgs/design-canvas-144a06cdde514bb7adf88108317b7ce5.svg'/></td></tr></table>"
      ],
      "text/plain": [
       "<IPython.core.display.HTML object>"
      ]
     },
     "metadata": {},
     "output_type": "display_data"
    },
    {
     "name": "stdout",
     "output_type": "stream",
     "text": [
      "\n",
      "# experiments from exported_from_scout (52)\n",
      "# diversity score 1.0766801214540218\n",
      "# score details\n",
      "{'alt_group_score': 0.08333333333333333,\n",
      " 'pos_diff_score': 0.2768001501839776,\n",
      " 'rel_dist_diff_score': 0.18939529869200986,\n",
      " 'size_diff_score': 0.2635756696223505}\n"
     ]
    },
    {
     "data": {
      "text/html": [
       "<table><tr><td><img style='width:100px' src='./saved_designs/exported_from_scout (52)/saved_svgs/design-canvas-a3e1d87bf50e4259b1ad3f8d85ee1601.svg'/></td>\n",
       "                               <td><img style='width:100px' src='./saved_designs/exported_from_scout (52)/saved_svgs/design-canvas-9d8da3fdb3874a8c97c1b334bb626a28.svg'/></td></tr></table>"
      ],
      "text/plain": [
       "<IPython.core.display.HTML object>"
      ]
     },
     "metadata": {},
     "output_type": "display_data"
    },
    {
     "name": "stdout",
     "output_type": "stream",
     "text": [
      "\n",
      "# experiments from exported_from_scout (52)\n",
      "# diversity score 1.0744077533201986\n",
      "# score details\n",
      "{'alt_group_score': 0.08333333333333333,\n",
      " 'pos_diff_score': 0.24037694541375576,\n",
      " 'rel_dist_diff_score': 0.1430092693138083,\n",
      " 'size_diff_score': 0.3038441026296506}\n"
     ]
    },
    {
     "data": {
      "text/html": [
       "<table><tr><td><img style='width:100px' src='./saved_designs/exported_from_scout (52)/saved_svgs/design-canvas-a5e89620c72146d9a8943c5d3c28934f.svg'/></td>\n",
       "                               <td><img style='width:100px' src='./saved_designs/exported_from_scout (52)/saved_svgs/design-canvas-7599585b0b764c2189747bf10283f144.svg'/></td></tr></table>"
      ],
      "text/plain": [
       "<IPython.core.display.HTML object>"
      ]
     },
     "metadata": {},
     "output_type": "display_data"
    },
    {
     "name": "stdout",
     "output_type": "stream",
     "text": [
      "\n",
      "# experiments from exported_from_scout (98)\n",
      "# diversity score 1.0741416828264652\n",
      "# score details\n",
      "{'alt_group_score': 0.07692307692307693,\n",
      " 'pos_diff_score': 0.3099908438037428,\n",
      " 'rel_dist_diff_score': 0.20336558901349153,\n",
      " 'size_diff_score': 0.24193108654307696}\n"
     ]
    },
    {
     "data": {
      "text/html": [
       "<table><tr><td><img style='width:100px' src='./saved_designs/exported_from_scout (98)/import_these_into_xd/design-canvas-1ae0e35d0b2d43028cddacd7a035b17d.svg'/></td>\n",
       "                               <td><img style='width:100px' src='./saved_designs/exported_from_scout (98)/import_these_into_xd/design-canvas-be478c6373164bc4b96bbccf5b367f9b.svg'/></td></tr></table>"
      ],
      "text/plain": [
       "<IPython.core.display.HTML object>"
      ]
     },
     "metadata": {},
     "output_type": "display_data"
    },
    {
     "name": "stdout",
     "output_type": "stream",
     "text": [
      "\n",
      "# experiments from exported_from_scout (99)\n",
      "# diversity score 1.0741416828264652\n",
      "# score details\n",
      "{'alt_group_score': 0.07692307692307693,\n",
      " 'pos_diff_score': 0.3099908438037428,\n",
      " 'rel_dist_diff_score': 0.20336558901349153,\n",
      " 'size_diff_score': 0.24193108654307696}\n"
     ]
    },
    {
     "data": {
      "text/html": [
       "<table><tr><td><img style='width:100px' src='./saved_designs/exported_from_scout (99)/import_these_into_xd/design-canvas-1ae0e35d0b2d43028cddacd7a035b17d.svg'/></td>\n",
       "                               <td><img style='width:100px' src='./saved_designs/exported_from_scout (99)/import_these_into_xd/design-canvas-be478c6373164bc4b96bbccf5b367f9b.svg'/></td></tr></table>"
      ],
      "text/plain": [
       "<IPython.core.display.HTML object>"
      ]
     },
     "metadata": {},
     "output_type": "display_data"
    },
    {
     "name": "stdout",
     "output_type": "stream",
     "text": [
      "\n",
      "# experiments from exported_from_scout (52)\n",
      "# diversity score 1.0740215916070872\n",
      "# score details\n",
      "{'alt_group_score': 0.08333333333333333,\n",
      " 'pos_diff_score': 0.2612999311400941,\n",
      " 'rel_dist_diff_score': 0.16899603776228878,\n",
      " 'size_diff_score': 0.28019614468568554}\n"
     ]
    },
    {
     "data": {
      "text/html": [
       "<table><tr><td><img style='width:100px' src='./saved_designs/exported_from_scout (52)/saved_svgs/design-canvas-a5e89620c72146d9a8943c5d3c28934f.svg'/></td>\n",
       "                               <td><img style='width:100px' src='./saved_designs/exported_from_scout (52)/saved_svgs/design-canvas-9d8da3fdb3874a8c97c1b334bb626a28.svg'/></td></tr></table>"
      ],
      "text/plain": [
       "<IPython.core.display.HTML object>"
      ]
     },
     "metadata": {},
     "output_type": "display_data"
    },
    {
     "name": "stdout",
     "output_type": "stream",
     "text": [
      "\n",
      "# experiments from exported_from_scout - 2019-04-25T155613.314\n",
      "# diversity score 1.0701624805625807\n",
      "# score details\n",
      "{'alt_group_score': 0.08333333333333333,\n",
      " 'pos_diff_score': 0.35322355662341137,\n",
      " 'rel_dist_diff_score': 0.21612897219672567,\n",
      " 'size_diff_score': 0.20873830920455513}\n"
     ]
    },
    {
     "data": {
      "text/html": [
       "<table><tr><td><img style='width:100px' src='./saved_designs/exported_from_scout - 2019-04-25T155613.314/import_these_into_xd/design-canvas-607491ccb4164e73b115cefaf3c3ca57.svg'/></td>\n",
       "                               <td><img style='width:100px' src='./saved_designs/exported_from_scout - 2019-04-25T155613.314/import_these_into_xd/design-canvas-1ae3854c85574df8bfefb5da26fa8a39.svg'/></td></tr></table>"
      ],
      "text/plain": [
       "<IPython.core.display.HTML object>"
      ]
     },
     "metadata": {},
     "output_type": "display_data"
    },
    {
     "name": "stdout",
     "output_type": "stream",
     "text": [
      "\n",
      "# experiments from exported_from_scout (98)\n",
      "# diversity score 1.0690487918410154\n",
      "# score details\n",
      "{'alt_group_score': 0.07692307692307693,\n",
      " 'pos_diff_score': 0.3644384084266253,\n",
      " 'rel_dist_diff_score': 0.2678355124095829,\n",
      " 'size_diff_score': 0.17992589704086515}\n"
     ]
    },
    {
     "data": {
      "text/html": [
       "<table><tr><td><img style='width:100px' src='./saved_designs/exported_from_scout (98)/import_these_into_xd/design-canvas-7304405049fc487a91ca6165424c0b0c.svg'/></td>\n",
       "                               <td><img style='width:100px' src='./saved_designs/exported_from_scout (98)/import_these_into_xd/design-canvas-be478c6373164bc4b96bbccf5b367f9b.svg'/></td></tr></table>"
      ],
      "text/plain": [
       "<IPython.core.display.HTML object>"
      ]
     },
     "metadata": {},
     "output_type": "display_data"
    },
    {
     "name": "stdout",
     "output_type": "stream",
     "text": [
      "\n",
      "# experiments from exported_from_scout (99)\n",
      "# diversity score 1.0690487918410154\n",
      "# score details\n",
      "{'alt_group_score': 0.07692307692307693,\n",
      " 'pos_diff_score': 0.3644384084266253,\n",
      " 'rel_dist_diff_score': 0.2678355124095829,\n",
      " 'size_diff_score': 0.17992589704086515}\n"
     ]
    },
    {
     "data": {
      "text/html": [
       "<table><tr><td><img style='width:100px' src='./saved_designs/exported_from_scout (99)/import_these_into_xd/design-canvas-7304405049fc487a91ca6165424c0b0c.svg'/></td>\n",
       "                               <td><img style='width:100px' src='./saved_designs/exported_from_scout (99)/import_these_into_xd/design-canvas-be478c6373164bc4b96bbccf5b367f9b.svg'/></td></tr></table>"
      ],
      "text/plain": [
       "<IPython.core.display.HTML object>"
      ]
     },
     "metadata": {},
     "output_type": "display_data"
    },
    {
     "name": "stdout",
     "output_type": "stream",
     "text": [
      "\n",
      "# experiments from exported_from_scout (88)\n",
      "# diversity score 1.0604698229228469\n",
      "# score details\n",
      "{'alt_group_score': 0.0,\n",
      " 'pos_diff_score': 0.4215768417074027,\n",
      " 'rel_dist_diff_score': 0.30071054851319623,\n",
      " 'size_diff_score': 0.16909121635112395}\n"
     ]
    },
    {
     "data": {
      "text/html": [
       "<table><tr><td><img style='width:100px' src='./saved_designs/exported_from_scout (88)/saved_svgs/design-canvas-d262da7b05ed43c5a91baf2077ab7717.svg'/></td>\n",
       "                               <td><img style='width:100px' src='./saved_designs/exported_from_scout (88)/saved_svgs/design-canvas-bcacfb9cea58444ab69d1b2c26a7b346.svg'/></td></tr></table>"
      ],
      "text/plain": [
       "<IPython.core.display.HTML object>"
      ]
     },
     "metadata": {},
     "output_type": "display_data"
    },
    {
     "name": "stdout",
     "output_type": "stream",
     "text": [
      "\n",
      "# experiments from exported_from_scout (60)\n",
      "# diversity score 1.0577186467789081\n",
      "# score details\n",
      "{'alt_group_score': 0.0,\n",
      " 'pos_diff_score': 0.4508774339438322,\n",
      " 'rel_dist_diff_score': 0.2956675700345124,\n",
      " 'size_diff_score': 0.15558682140028185}\n"
     ]
    },
    {
     "data": {
      "text/html": [
       "<table><tr><td><img style='width:100px' src='./saved_designs/exported_from_scout (60)/saved_svgs/design-canvas-f9f7c67b927742af95edbd30ea972096.svg'/></td>\n",
       "                               <td><img style='width:100px' src='./saved_designs/exported_from_scout (60)/saved_svgs/design-canvas-3db107c6701b45c686a7818eb951a6fb.svg'/></td></tr></table>"
      ],
      "text/plain": [
       "<IPython.core.display.HTML object>"
      ]
     },
     "metadata": {},
     "output_type": "display_data"
    },
    {
     "name": "stdout",
     "output_type": "stream",
     "text": [
      "\n",
      "# experiments from ScoutExports\n",
      "# diversity score 1.0577186467789081\n",
      "# score details\n",
      "{'alt_group_score': 0.0,\n",
      " 'pos_diff_score': 0.4508774339438322,\n",
      " 'rel_dist_diff_score': 0.2956675700345124,\n",
      " 'size_diff_score': 0.15558682140028185}\n"
     ]
    },
    {
     "data": {
      "text/html": [
       "<table><tr><td><img style='width:100px' src='./saved_designs/ScoutExports/saved_svgs/design-canvas-f9f7c67b927742af95edbd30ea972096.svg'/></td>\n",
       "                               <td><img style='width:100px' src='./saved_designs/ScoutExports/saved_svgs/design-canvas-3db107c6701b45c686a7818eb951a6fb.svg'/></td></tr></table>"
      ],
      "text/plain": [
       "<IPython.core.display.HTML object>"
      ]
     },
     "metadata": {},
     "output_type": "display_data"
    },
    {
     "name": "stdout",
     "output_type": "stream",
     "text": [
      "\n",
      "# experiments from exported_from_scout (88)\n",
      "# diversity score 1.0548909822766632\n",
      "# score details\n",
      "{'alt_group_score': 0.0,\n",
      " 'pos_diff_score': 0.39930596150484887,\n",
      " 'rel_dist_diff_score': 0.2808102937047383,\n",
      " 'size_diff_score': 0.18738736353353802}\n"
     ]
    },
    {
     "data": {
      "text/html": [
       "<table><tr><td><img style='width:100px' src='./saved_designs/exported_from_scout (88)/saved_svgs/design-canvas-11a9b95d4511489b847b7741455d68cd.svg'/></td>\n",
       "                               <td><img style='width:100px' src='./saved_designs/exported_from_scout (88)/saved_svgs/design-canvas-fd56b132c13a4b1b9f27556ea5d3aec4.svg'/></td></tr></table>"
      ],
      "text/plain": [
       "<IPython.core.display.HTML object>"
      ]
     },
     "metadata": {},
     "output_type": "display_data"
    },
    {
     "name": "stdout",
     "output_type": "stream",
     "text": [
      "\n",
      "# experiments from exported_from_scout (98)\n",
      "# diversity score 1.052109972979982\n",
      "# score details\n",
      "{'alt_group_score': 0.0,\n",
      " 'pos_diff_score': 0.33949725157246646,\n",
      " 'rel_dist_diff_score': 0.19888667756218512,\n",
      " 'size_diff_score': 0.25686302192266525}\n"
     ]
    },
    {
     "data": {
      "text/html": [
       "<table><tr><td><img style='width:100px' src='./saved_designs/exported_from_scout (98)/import_these_into_xd/design-canvas-1ae0e35d0b2d43028cddacd7a035b17d.svg'/></td>\n",
       "                               <td><img style='width:100px' src='./saved_designs/exported_from_scout (98)/import_these_into_xd/design-canvas-a52759ae3c2e49b9a50e2bfa69918a07.svg'/></td></tr></table>"
      ],
      "text/plain": [
       "<IPython.core.display.HTML object>"
      ]
     },
     "metadata": {},
     "output_type": "display_data"
    },
    {
     "name": "stdout",
     "output_type": "stream",
     "text": [
      "\n",
      "# experiments from exported_from_scout (99)\n",
      "# diversity score 1.052109972979982\n",
      "# score details\n",
      "{'alt_group_score': 0.0,\n",
      " 'pos_diff_score': 0.33949725157246646,\n",
      " 'rel_dist_diff_score': 0.19888667756218512,\n",
      " 'size_diff_score': 0.25686302192266525}\n"
     ]
    },
    {
     "data": {
      "text/html": [
       "<table><tr><td><img style='width:100px' src='./saved_designs/exported_from_scout (99)/import_these_into_xd/design-canvas-1ae0e35d0b2d43028cddacd7a035b17d.svg'/></td>\n",
       "                               <td><img style='width:100px' src='./saved_designs/exported_from_scout (99)/import_these_into_xd/design-canvas-a52759ae3c2e49b9a50e2bfa69918a07.svg'/></td></tr></table>"
      ],
      "text/plain": [
       "<IPython.core.display.HTML object>"
      ]
     },
     "metadata": {},
     "output_type": "display_data"
    },
    {
     "name": "stdout",
     "output_type": "stream",
     "text": [
      "\n",
      "# experiments from exported_from_scout (21)\n",
      "# diversity score 1.0378664540395457\n",
      "# score details\n",
      "{'alt_group_score': 0.07692307692307693,\n",
      " 'pos_diff_score': 0.28215188794098545,\n",
      " 'rel_dist_diff_score': 0.20599017910513584,\n",
      " 'size_diff_score': 0.23640065503517366}\n"
     ]
    },
    {
     "data": {
      "text/html": [
       "<table><tr><td><img style='width:100px' src='./saved_designs/exported_from_scout (21)/saved_svgs/design-canvas-441488e97988401c9c1c6d371228439d.svg'/></td>\n",
       "                               <td><img style='width:100px' src='./saved_designs/exported_from_scout (21)/saved_svgs/design-canvas-d2507565e9894b5fb99767ce14b6a13e.svg'/></td></tr></table>"
      ],
      "text/plain": [
       "<IPython.core.display.HTML object>"
      ]
     },
     "metadata": {},
     "output_type": "display_data"
    },
    {
     "name": "stdout",
     "output_type": "stream",
     "text": [
      "\n",
      "# experiments from exported_from_scout (88)\n",
      "# diversity score 1.0367027330620402\n",
      "# score details\n",
      "{'alt_group_score': 0.0,\n",
      " 'pos_diff_score': 0.381015927531534,\n",
      " 'rel_dist_diff_score': 0.2728062047000497,\n",
      " 'size_diff_score': 0.19144030041522822}\n"
     ]
    },
    {
     "data": {
      "text/html": [
       "<table><tr><td><img style='width:100px' src='./saved_designs/exported_from_scout (88)/saved_svgs/design-canvas-d262da7b05ed43c5a91baf2077ab7717.svg'/></td>\n",
       "                               <td><img style='width:100px' src='./saved_designs/exported_from_scout (88)/saved_svgs/design-canvas-fd56b132c13a4b1b9f27556ea5d3aec4.svg'/></td></tr></table>"
      ],
      "text/plain": [
       "<IPython.core.display.HTML object>"
      ]
     },
     "metadata": {},
     "output_type": "display_data"
    },
    {
     "name": "stdout",
     "output_type": "stream",
     "text": [
      "\n",
      "# experiments from exported_from_scout (88)\n",
      "# diversity score 1.0335206888006956\n",
      "# score details\n",
      "{'alt_group_score': 0.0,\n",
      " 'pos_diff_score': 0.40112188096388507,\n",
      " 'rel_dist_diff_score': 0.30410575601874096,\n",
      " 'size_diff_score': 0.16414652590903475}\n"
     ]
    },
    {
     "data": {
      "text/html": [
       "<table><tr><td><img style='width:100px' src='./saved_designs/exported_from_scout (88)/saved_svgs/design-canvas-11a9b95d4511489b847b7741455d68cd.svg'/></td>\n",
       "                               <td><img style='width:100px' src='./saved_designs/exported_from_scout (88)/saved_svgs/design-canvas-683b24954e434fed9b82a246353543b0.svg'/></td></tr></table>"
      ],
      "text/plain": [
       "<IPython.core.display.HTML object>"
      ]
     },
     "metadata": {},
     "output_type": "display_data"
    },
    {
     "name": "stdout",
     "output_type": "stream",
     "text": [
      "\n",
      "# experiments from exported_from_scout (99)\n",
      "# diversity score 1.0259012800771798\n",
      "# score details\n",
      "{'alt_group_score': 0.07692307692307693,\n",
      " 'pos_diff_score': 0.3125519890161143,\n",
      " 'rel_dist_diff_score': 0.23760264662021202,\n",
      " 'size_diff_score': 0.19941178375888824}\n"
     ]
    },
    {
     "data": {
      "text/html": [
       "<table><tr><td><img style='width:100px' src='./saved_designs/exported_from_scout (99)/import_these_into_xd/design-canvas-a52759ae3c2e49b9a50e2bfa69918a07.svg'/></td>\n",
       "                               <td><img style='width:100px' src='./saved_designs/exported_from_scout (99)/import_these_into_xd/design-canvas-a2bc85f0c1964088bf9b3444e227d402.svg'/></td></tr></table>"
      ],
      "text/plain": [
       "<IPython.core.display.HTML object>"
      ]
     },
     "metadata": {},
     "output_type": "display_data"
    },
    {
     "name": "stdout",
     "output_type": "stream",
     "text": [
      "\n",
      "# experiments from exported_from_scout (21)\n",
      "# diversity score 1.0244745129733253\n",
      "# score details\n",
      "{'alt_group_score': 0.07692307692307693,\n",
      " 'pos_diff_score': 0.3467013536606471,\n",
      " 'rel_dist_diff_score': 0.25592526140533695,\n",
      " 'size_diff_score': 0.17246241049213223}\n"
     ]
    },
    {
     "data": {
      "text/html": [
       "<table><tr><td><img style='width:100px' src='./saved_designs/exported_from_scout (21)/saved_svgs/design-canvas-af4960086b1a40b4bd7f9b9aecd6a931.svg'/></td>\n",
       "                               <td><img style='width:100px' src='./saved_designs/exported_from_scout (21)/saved_svgs/design-canvas-d2507565e9894b5fb99767ce14b6a13e.svg'/></td></tr></table>"
      ],
      "text/plain": [
       "<IPython.core.display.HTML object>"
      ]
     },
     "metadata": {},
     "output_type": "display_data"
    },
    {
     "name": "stdout",
     "output_type": "stream",
     "text": [
      "\n",
      "# experiments from exported_from_scout (99)\n",
      "# diversity score 1.0079767714069356\n",
      "# score details\n",
      "{'alt_group_score': 0.07692307692307693,\n",
      " 'pos_diff_score': 0.2506376391696535,\n",
      " 'rel_dist_diff_score': 0.17479901527806585,\n",
      " 'size_diff_score': 0.2528085200180697}\n"
     ]
    },
    {
     "data": {
      "text/html": [
       "<table><tr><td><img style='width:100px' src='./saved_designs/exported_from_scout (99)/import_these_into_xd/design-canvas-be478c6373164bc4b96bbccf5b367f9b.svg'/></td>\n",
       "                               <td><img style='width:100px' src='./saved_designs/exported_from_scout (99)/import_these_into_xd/design-canvas-918a934c8f404d4993face741c29015f.svg'/></td></tr></table>"
      ],
      "text/plain": [
       "<IPython.core.display.HTML object>"
      ]
     },
     "metadata": {},
     "output_type": "display_data"
    },
    {
     "name": "stdout",
     "output_type": "stream",
     "text": [
      "\n",
      "# experiments from exported_from_scout (99)\n",
      "# diversity score 1.0063211019311071\n",
      "# score details\n",
      "{'alt_group_score': 0.07692307692307693,\n",
      " 'pos_diff_score': 0.29991750829321334,\n",
      " 'rel_dist_diff_score': 0.22721115980971285,\n",
      " 'size_diff_score': 0.20113467845255203}\n"
     ]
    },
    {
     "data": {
      "text/html": [
       "<table><tr><td><img style='width:100px' src='./saved_designs/exported_from_scout (99)/import_these_into_xd/design-canvas-83903cdc8136490e90c180d73dd2c09d.svg'/></td>\n",
       "                               <td><img style='width:100px' src='./saved_designs/exported_from_scout (99)/import_these_into_xd/design-canvas-a2bc85f0c1964088bf9b3444e227d402.svg'/></td></tr></table>"
      ],
      "text/plain": [
       "<IPython.core.display.HTML object>"
      ]
     },
     "metadata": {},
     "output_type": "display_data"
    },
    {
     "name": "stdout",
     "output_type": "stream",
     "text": [
      "\n",
      "# experiments from exported_from_scout (98)\n",
      "# diversity score 1.000779804412652\n",
      "# score details\n",
      "{'alt_group_score': 0.07692307692307693,\n",
      " 'pos_diff_score': 0.46985413224721617,\n",
      " 'rel_dist_diff_score': 0.3184970410984031,\n",
      " 'size_diff_score': 0.06775277707197777}\n"
     ]
    },
    {
     "data": {
      "text/html": [
       "<table><tr><td><img style='width:100px' src='./saved_designs/exported_from_scout (98)/import_these_into_xd/design-canvas-be478c6373164bc4b96bbccf5b367f9b.svg'/></td>\n",
       "                               <td><img style='width:100px' src='./saved_designs/exported_from_scout (98)/import_these_into_xd/design-canvas-83903cdc8136490e90c180d73dd2c09d.svg'/></td></tr></table>"
      ],
      "text/plain": [
       "<IPython.core.display.HTML object>"
      ]
     },
     "metadata": {},
     "output_type": "display_data"
    },
    {
     "name": "stdout",
     "output_type": "stream",
     "text": [
      "\n",
      "# experiments from exported_from_scout (99)\n",
      "# diversity score 1.000779804412652\n",
      "# score details\n",
      "{'alt_group_score': 0.07692307692307693,\n",
      " 'pos_diff_score': 0.46985413224721617,\n",
      " 'rel_dist_diff_score': 0.3184970410984031,\n",
      " 'size_diff_score': 0.06775277707197777}\n"
     ]
    },
    {
     "data": {
      "text/html": [
       "<table><tr><td><img style='width:100px' src='./saved_designs/exported_from_scout (99)/import_these_into_xd/design-canvas-be478c6373164bc4b96bbccf5b367f9b.svg'/></td>\n",
       "                               <td><img style='width:100px' src='./saved_designs/exported_from_scout (99)/import_these_into_xd/design-canvas-83903cdc8136490e90c180d73dd2c09d.svg'/></td></tr></table>"
      ],
      "text/plain": [
       "<IPython.core.display.HTML object>"
      ]
     },
     "metadata": {},
     "output_type": "display_data"
    },
    {
     "name": "stdout",
     "output_type": "stream",
     "text": [
      "\n",
      "# experiments from exported_from_scout (52)\n",
      "# diversity score 1.0004808125832063\n",
      "# score details\n",
      "{'alt_group_score': 0.0,\n",
      " 'pos_diff_score': 0.4317762031161356,\n",
      " 'rel_dist_diff_score': 0.26873082302888535,\n",
      " 'size_diff_score': 0.14998689321909267}\n"
     ]
    },
    {
     "data": {
      "text/html": [
       "<table><tr><td><img style='width:100px' src='./saved_designs/exported_from_scout (52)/saved_svgs/design-canvas-6726aaf1c8de40d1a7a3a4890983126b.svg'/></td>\n",
       "                               <td><img style='width:100px' src='./saved_designs/exported_from_scout (52)/saved_svgs/design-canvas-56cc849527104b9a99bc9ec9a056faed.svg'/></td></tr></table>"
      ],
      "text/plain": [
       "<IPython.core.display.HTML object>"
      ]
     },
     "metadata": {},
     "output_type": "display_data"
    },
    {
     "name": "stdout",
     "output_type": "stream",
     "text": [
      "\n",
      "# experiments from exported_from_scout (60)\n",
      "# diversity score 0.9857420950096974\n",
      "# score details\n",
      "{'alt_group_score': 0.0,\n",
      " 'pos_diff_score': 0.38453274943801014,\n",
      " 'rel_dist_diff_score': 0.275412363421938,\n",
      " 'size_diff_score': 0.1628984910748747}\n"
     ]
    },
    {
     "data": {
      "text/html": [
       "<table><tr><td><img style='width:100px' src='./saved_designs/exported_from_scout (60)/saved_svgs/design-canvas-ede37baa7eee4f32a2ef6e5f790c99d5.svg'/></td>\n",
       "                               <td><img style='width:100px' src='./saved_designs/exported_from_scout (60)/saved_svgs/design-canvas-f9f7c67b927742af95edbd30ea972096.svg'/></td></tr></table>"
      ],
      "text/plain": [
       "<IPython.core.display.HTML object>"
      ]
     },
     "metadata": {},
     "output_type": "display_data"
    },
    {
     "name": "stdout",
     "output_type": "stream",
     "text": [
      "\n",
      "# experiments from ScoutExports\n",
      "# diversity score 0.9857420950096974\n",
      "# score details\n",
      "{'alt_group_score': 0.0,\n",
      " 'pos_diff_score': 0.38453274943801014,\n",
      " 'rel_dist_diff_score': 0.275412363421938,\n",
      " 'size_diff_score': 0.1628984910748747}\n"
     ]
    },
    {
     "data": {
      "text/html": [
       "<table><tr><td><img style='width:100px' src='./saved_designs/ScoutExports/saved_svgs/design-canvas-ede37baa7eee4f32a2ef6e5f790c99d5.svg'/></td>\n",
       "                               <td><img style='width:100px' src='./saved_designs/ScoutExports/saved_svgs/design-canvas-f9f7c67b927742af95edbd30ea972096.svg'/></td></tr></table>"
      ],
      "text/plain": [
       "<IPython.core.display.HTML object>"
      ]
     },
     "metadata": {},
     "output_type": "display_data"
    },
    {
     "name": "stdout",
     "output_type": "stream",
     "text": [
      "\n",
      "# experiments from exported_from_scout (88)\n",
      "# diversity score 0.978189038879261\n",
      "# score details\n",
      "{'alt_group_score': 0.0,\n",
      " 'pos_diff_score': 0.4368933236614109,\n",
      " 'rel_dist_diff_score': 0.3124864489192341,\n",
      " 'size_diff_score': 0.114404633149308}\n"
     ]
    },
    {
     "data": {
      "text/html": [
       "<table><tr><td><img style='width:100px' src='./saved_designs/exported_from_scout (88)/saved_svgs/design-canvas-683b24954e434fed9b82a246353543b0.svg'/></td>\n",
       "                               <td><img style='width:100px' src='./saved_designs/exported_from_scout (88)/saved_svgs/design-canvas-bcacfb9cea58444ab69d1b2c26a7b346.svg'/></td></tr></table>"
      ],
      "text/plain": [
       "<IPython.core.display.HTML object>"
      ]
     },
     "metadata": {},
     "output_type": "display_data"
    },
    {
     "name": "stdout",
     "output_type": "stream",
     "text": [
      "\n",
      "# experiments from exported_from_scout (43)\n",
      "# diversity score 0.9620073699678429\n",
      "# score details\n",
      "{'alt_group_score': 0.0,\n",
      " 'pos_diff_score': 0.2950225743739379,\n",
      " 'rel_dist_diff_score': 0.19149896119044163,\n",
      " 'size_diff_score': 0.23774291720173163}\n"
     ]
    },
    {
     "data": {
      "text/html": [
       "<table><tr><td><img style='width:100px' src='./saved_designs/exported_from_scout (43)/saved_svgs/design-canvas-b3cb63ae043a49e3bd3f02f8ae317c67.svg'/></td>\n",
       "                               <td><img style='width:100px' src='./saved_designs/exported_from_scout (43)/saved_svgs/design-canvas-b4cc5f77de374ba585472d477c9ea2e8.svg'/></td></tr></table>"
      ],
      "text/plain": [
       "<IPython.core.display.HTML object>"
      ]
     },
     "metadata": {},
     "output_type": "display_data"
    },
    {
     "name": "stdout",
     "output_type": "stream",
     "text": [
      "\n",
      "# experiments from exported_from_scout (52)\n",
      "# diversity score 0.9581466852237089\n",
      "# score details\n",
      "{'alt_group_score': 0.08333333333333333,\n",
      " 'pos_diff_score': 0.30088911012340364,\n",
      " 'rel_dist_diff_score': 0.21800576254874357,\n",
      " 'size_diff_score': 0.1779592396091142}\n"
     ]
    },
    {
     "data": {
      "text/html": [
       "<table><tr><td><img style='width:100px' src='./saved_designs/exported_from_scout (52)/saved_svgs/design-canvas-56cc849527104b9a99bc9ec9a056faed.svg'/></td>\n",
       "                               <td><img style='width:100px' src='./saved_designs/exported_from_scout (52)/saved_svgs/design-canvas-7599585b0b764c2189747bf10283f144.svg'/></td></tr></table>"
      ],
      "text/plain": [
       "<IPython.core.display.HTML object>"
      ]
     },
     "metadata": {},
     "output_type": "display_data"
    },
    {
     "name": "stdout",
     "output_type": "stream",
     "text": [
      "\n",
      "# experiments from exported_from_scout (43)\n",
      "# diversity score 0.9567995243115419\n",
      "# score details\n",
      "{'alt_group_score': 0.07692307692307693,\n",
      " 'pos_diff_score': 0.23557099706963439,\n",
      " 'rel_dist_diff_score': 0.17162308533631898,\n",
      " 'size_diff_score': 0.2363411824912558}\n"
     ]
    },
    {
     "data": {
      "text/html": [
       "<table><tr><td><img style='width:100px' src='./saved_designs/exported_from_scout (43)/saved_svgs/design-canvas-39c0b364044841a8ba3c76b73daef885.svg'/></td>\n",
       "                               <td><img style='width:100px' src='./saved_designs/exported_from_scout (43)/saved_svgs/design-canvas-f6214cdad2c048a38d8b7cda9b933ccd.svg'/></td></tr></table>"
      ],
      "text/plain": [
       "<IPython.core.display.HTML object>"
      ]
     },
     "metadata": {},
     "output_type": "display_data"
    },
    {
     "name": "stdout",
     "output_type": "stream",
     "text": [
      "\n",
      "# experiments from exported_from_scout (21)\n",
      "# diversity score 0.9533029635499265\n",
      "# score details\n",
      "{'alt_group_score': 0.0,\n",
      " 'pos_diff_score': 0.34226693091366567,\n",
      " 'rel_dist_diff_score': 0.2485516593612118,\n",
      " 'size_diff_score': 0.1812421866375245}\n"
     ]
    },
    {
     "data": {
      "text/html": [
       "<table><tr><td><img style='width:100px' src='./saved_designs/exported_from_scout (21)/saved_svgs/design-canvas-d264fad4cfd842ecabbe465fe72937bd.svg'/></td>\n",
       "                               <td><img style='width:100px' src='./saved_designs/exported_from_scout (21)/saved_svgs/design-canvas-d2507565e9894b5fb99767ce14b6a13e.svg'/></td></tr></table>"
      ],
      "text/plain": [
       "<IPython.core.display.HTML object>"
      ]
     },
     "metadata": {},
     "output_type": "display_data"
    },
    {
     "name": "stdout",
     "output_type": "stream",
     "text": [
      "\n",
      "# experiments from exported_from_scout (52)\n",
      "# diversity score 0.9526706528447741\n",
      "# score details\n",
      "{'alt_group_score': 0.08333333333333333,\n",
      " 'pos_diff_score': 0.19006219169478636,\n",
      " 'rel_dist_diff_score': 0.11643742128701277,\n",
      " 'size_diff_score': 0.28141885326482086}\n"
     ]
    },
    {
     "data": {
      "text/html": [
       "<table><tr><td><img style='width:100px' src='./saved_designs/exported_from_scout (52)/saved_svgs/design-canvas-a3e1d87bf50e4259b1ad3f8d85ee1601.svg'/></td>\n",
       "                               <td><img style='width:100px' src='./saved_designs/exported_from_scout (52)/saved_svgs/design-canvas-7599585b0b764c2189747bf10283f144.svg'/></td></tr></table>"
      ],
      "text/plain": [
       "<IPython.core.display.HTML object>"
      ]
     },
     "metadata": {},
     "output_type": "display_data"
    },
    {
     "name": "stdout",
     "output_type": "stream",
     "text": [
      "\n",
      "# experiments from ScoutExports_p7\n",
      "# diversity score 0.9515534155871215\n",
      "# score details\n",
      "{'alt_group_score': 0.0,\n",
      " 'pos_diff_score': 0.31767900666759813,\n",
      " 'rel_dist_diff_score': 0.24513744459503706,\n",
      " 'size_diff_score': 0.19436848216224312}\n"
     ]
    },
    {
     "data": {
      "text/html": [
       "<table><tr><td><img style='width:100px' src='./saved_designs/ScoutExports_p7/saved_svgs/design-canvas-85dcd017a2cc43cdb43601efcc980ca3.svg'/></td>\n",
       "                               <td><img style='width:100px' src='./saved_designs/ScoutExports_p7/saved_svgs/design-canvas-9332a26dc98c431aa15252e8a2891ecb.svg'/></td></tr></table>"
      ],
      "text/plain": [
       "<IPython.core.display.HTML object>"
      ]
     },
     "metadata": {},
     "output_type": "display_data"
    },
    {
     "name": "stdout",
     "output_type": "stream",
     "text": [
      "\n",
      "# experiments from exported_from_scout (88)\n",
      "# diversity score 0.9370900226344123\n",
      "# score details\n",
      "{'alt_group_score': 0.0,\n",
      " 'pos_diff_score': 0.4035750239795227,\n",
      " 'rel_dist_diff_score': 0.23570898917804148,\n",
      " 'size_diff_score': 0.14890300473842405}\n"
     ]
    },
    {
     "data": {
      "text/html": [
       "<table><tr><td><img style='width:100px' src='./saved_designs/exported_from_scout (88)/saved_svgs/design-canvas-fd56b132c13a4b1b9f27556ea5d3aec4.svg'/></td>\n",
       "                               <td><img style='width:100px' src='./saved_designs/exported_from_scout (88)/saved_svgs/design-canvas-bcacfb9cea58444ab69d1b2c26a7b346.svg'/></td></tr></table>"
      ],
      "text/plain": [
       "<IPython.core.display.HTML object>"
      ]
     },
     "metadata": {},
     "output_type": "display_data"
    },
    {
     "name": "stdout",
     "output_type": "stream",
     "text": [
      "\n",
      "# experiments from exported_from_scout (21)\n",
      "# diversity score 0.9313624540281942\n",
      "# score details\n",
      "{'alt_group_score': 0.07692307692307693,\n",
      " 'pos_diff_score': 0.21390480918596044,\n",
      " 'rel_dist_diff_score': 0.13202922907765435,\n",
      " 'size_diff_score': 0.2542526694207512}\n"
     ]
    },
    {
     "data": {
      "text/html": [
       "<table><tr><td><img style='width:100px' src='./saved_designs/exported_from_scout (21)/saved_svgs/design-canvas-af4960086b1a40b4bd7f9b9aecd6a931.svg'/></td>\n",
       "                               <td><img style='width:100px' src='./saved_designs/exported_from_scout (21)/saved_svgs/design-canvas-441488e97988401c9c1c6d371228439d.svg'/></td></tr></table>"
      ],
      "text/plain": [
       "<IPython.core.display.HTML object>"
      ]
     },
     "metadata": {},
     "output_type": "display_data"
    },
    {
     "name": "stdout",
     "output_type": "stream",
     "text": [
      "\n",
      "# experiments from exported_from_scout (52)\n",
      "# diversity score 0.9283023743494865\n",
      "# score details\n",
      "{'alt_group_score': 0.08333333333333333,\n",
      " 'pos_diff_score': 0.3222981616626904,\n",
      " 'rel_dist_diff_score': 0.23983873984531565,\n",
      " 'size_diff_score': 0.14141606975407356}\n"
     ]
    },
    {
     "data": {
      "text/html": [
       "<table><tr><td><img style='width:100px' src='./saved_designs/exported_from_scout (52)/saved_svgs/design-canvas-56cc849527104b9a99bc9ec9a056faed.svg'/></td>\n",
       "                               <td><img style='width:100px' src='./saved_designs/exported_from_scout (52)/saved_svgs/design-canvas-9d8da3fdb3874a8c97c1b334bb626a28.svg'/></td></tr></table>"
      ],
      "text/plain": [
       "<IPython.core.display.HTML object>"
      ]
     },
     "metadata": {},
     "output_type": "display_data"
    },
    {
     "name": "stdout",
     "output_type": "stream",
     "text": [
      "\n",
      "# experiments from exported_from_scout (99)\n",
      "# diversity score 0.9259414098312462\n",
      "# score details\n",
      "{'alt_group_score': 0.0,\n",
      " 'pos_diff_score': 0.2580188709706487,\n",
      " 'rel_dist_diff_score': 0.16055946342839073,\n",
      " 'size_diff_score': 0.2536815377161034}\n"
     ]
    },
    {
     "data": {
      "text/html": [
       "<table><tr><td><img style='width:100px' src='./saved_designs/exported_from_scout (99)/import_these_into_xd/design-canvas-a52759ae3c2e49b9a50e2bfa69918a07.svg'/></td>\n",
       "                               <td><img style='width:100px' src='./saved_designs/exported_from_scout (99)/import_these_into_xd/design-canvas-918a934c8f404d4993face741c29015f.svg'/></td></tr></table>"
      ],
      "text/plain": [
       "<IPython.core.display.HTML object>"
      ]
     },
     "metadata": {},
     "output_type": "display_data"
    },
    {
     "name": "stdout",
     "output_type": "stream",
     "text": [
      "\n",
      "# experiments from exported_from_scout (21)\n",
      "# diversity score 0.906756366863985\n",
      "# score details\n",
      "{'alt_group_score': 0.0,\n",
      " 'pos_diff_score': 0.2771691610710805,\n",
      " 'rel_dist_diff_score': 0.16047632050393393,\n",
      " 'size_diff_score': 0.23455544264448525}\n"
     ]
    },
    {
     "data": {
      "text/html": [
       "<table><tr><td><img style='width:100px' src='./saved_designs/exported_from_scout (21)/saved_svgs/design-canvas-cf1ca7674c954943bcc46eb6ca5b2fbd.svg'/></td>\n",
       "                               <td><img style='width:100px' src='./saved_designs/exported_from_scout (21)/saved_svgs/design-canvas-441488e97988401c9c1c6d371228439d.svg'/></td></tr></table>"
      ],
      "text/plain": [
       "<IPython.core.display.HTML object>"
      ]
     },
     "metadata": {},
     "output_type": "display_data"
    },
    {
     "name": "stdout",
     "output_type": "stream",
     "text": [
      "\n",
      "# experiments from exported_from_scout (21)\n",
      "# diversity score 0.8985120349977898\n",
      "# score details\n",
      "{'alt_group_score': 0.07692307692307693,\n",
      " 'pos_diff_score': 0.16841968872628277,\n",
      " 'rel_dist_diff_score': 0.11482823791309943,\n",
      " 'size_diff_score': 0.2691705157176653}\n"
     ]
    },
    {
     "data": {
      "text/html": [
       "<table><tr><td><img style='width:100px' src='./saved_designs/exported_from_scout (21)/saved_svgs/design-canvas-d264fad4cfd842ecabbe465fe72937bd.svg'/></td>\n",
       "                               <td><img style='width:100px' src='./saved_designs/exported_from_scout (21)/saved_svgs/design-canvas-441488e97988401c9c1c6d371228439d.svg'/></td></tr></table>"
      ],
      "text/plain": [
       "<IPython.core.display.HTML object>"
      ]
     },
     "metadata": {},
     "output_type": "display_data"
    },
    {
     "name": "stdout",
     "output_type": "stream",
     "text": [
      "\n",
      "# experiments from exported_from_scout (98)\n",
      "# diversity score 0.8954981435103575\n",
      "# score details\n",
      "{'alt_group_score': 0.0,\n",
      " 'pos_diff_score': 0.279549403629285,\n",
      " 'rel_dist_diff_score': 0.20458200535429802,\n",
      " 'size_diff_score': 0.2056833672633873}\n"
     ]
    },
    {
     "data": {
      "text/html": [
       "<table><tr><td><img style='width:100px' src='./saved_designs/exported_from_scout (98)/import_these_into_xd/design-canvas-7304405049fc487a91ca6165424c0b0c.svg'/></td>\n",
       "                               <td><img style='width:100px' src='./saved_designs/exported_from_scout (98)/import_these_into_xd/design-canvas-a52759ae3c2e49b9a50e2bfa69918a07.svg'/></td></tr></table>"
      ],
      "text/plain": [
       "<IPython.core.display.HTML object>"
      ]
     },
     "metadata": {},
     "output_type": "display_data"
    },
    {
     "name": "stdout",
     "output_type": "stream",
     "text": [
      "\n",
      "# experiments from exported_from_scout (99)\n",
      "# diversity score 0.8954981435103575\n",
      "# score details\n",
      "{'alt_group_score': 0.0,\n",
      " 'pos_diff_score': 0.279549403629285,\n",
      " 'rel_dist_diff_score': 0.20458200535429802,\n",
      " 'size_diff_score': 0.2056833672633873}\n"
     ]
    },
    {
     "data": {
      "text/html": [
       "<table><tr><td><img style='width:100px' src='./saved_designs/exported_from_scout (99)/import_these_into_xd/design-canvas-7304405049fc487a91ca6165424c0b0c.svg'/></td>\n",
       "                               <td><img style='width:100px' src='./saved_designs/exported_from_scout (99)/import_these_into_xd/design-canvas-a52759ae3c2e49b9a50e2bfa69918a07.svg'/></td></tr></table>"
      ],
      "text/plain": [
       "<IPython.core.display.HTML object>"
      ]
     },
     "metadata": {},
     "output_type": "display_data"
    },
    {
     "name": "stdout",
     "output_type": "stream",
     "text": [
      "\n",
      "# experiments from exported_from_scout (21)\n",
      "# diversity score 0.8714362985238939\n",
      "# score details\n",
      "{'alt_group_score': 0.07692307692307693,\n",
      " 'pos_diff_score': 0.2546472239813087,\n",
      " 'rel_dist_diff_score': 0.17631143273879357,\n",
      " 'size_diff_score': 0.18177728244035737}\n"
     ]
    },
    {
     "data": {
      "text/html": [
       "<table><tr><td><img style='width:100px' src='./saved_designs/exported_from_scout (21)/saved_svgs/design-canvas-cf1ca7674c954943bcc46eb6ca5b2fbd.svg'/></td>\n",
       "                               <td><img style='width:100px' src='./saved_designs/exported_from_scout (21)/saved_svgs/design-canvas-d264fad4cfd842ecabbe465fe72937bd.svg'/></td></tr></table>"
      ],
      "text/plain": [
       "<IPython.core.display.HTML object>"
      ]
     },
     "metadata": {},
     "output_type": "display_data"
    },
    {
     "name": "stdout",
     "output_type": "stream",
     "text": [
      "\n",
      "# experiments from exported_from_scout (88)\n",
      "# diversity score 0.8598357929409318\n",
      "# score details\n",
      "{'alt_group_score': 0.0,\n",
      " 'pos_diff_score': 0.2931187051300862,\n",
      " 'rel_dist_diff_score': 0.20477092283606024,\n",
      " 'size_diff_score': 0.1809730824873927}\n"
     ]
    },
    {
     "data": {
      "text/html": [
       "<table><tr><td><img style='width:100px' src='./saved_designs/exported_from_scout (88)/saved_svgs/design-canvas-11a9b95d4511489b847b7741455d68cd.svg'/></td>\n",
       "                               <td><img style='width:100px' src='./saved_designs/exported_from_scout (88)/saved_svgs/design-canvas-d262da7b05ed43c5a91baf2077ab7717.svg'/></td></tr></table>"
      ],
      "text/plain": [
       "<IPython.core.display.HTML object>"
      ]
     },
     "metadata": {},
     "output_type": "display_data"
    },
    {
     "name": "stdout",
     "output_type": "stream",
     "text": [
      "\n",
      "# experiments from ScoutExports_p7\n",
      "# diversity score 0.8589785932939671\n",
      "# score details\n",
      "{'alt_group_score': 0.0,\n",
      " 'pos_diff_score': 0.2966059638412734,\n",
      " 'rel_dist_diff_score': 0.19987885479594944,\n",
      " 'size_diff_score': 0.18124688732837216}\n"
     ]
    },
    {
     "data": {
      "text/html": [
       "<table><tr><td><img style='width:100px' src='./saved_designs/ScoutExports_p7/saved_svgs/design-canvas-85dcd017a2cc43cdb43601efcc980ca3.svg'/></td>\n",
       "                               <td><img style='width:100px' src='./saved_designs/ScoutExports_p7/saved_svgs/design-canvas-503984a0c5bb4359b998ec0c721f1a9f.svg'/></td></tr></table>"
      ],
      "text/plain": [
       "<IPython.core.display.HTML object>"
      ]
     },
     "metadata": {},
     "output_type": "display_data"
    },
    {
     "name": "stdout",
     "output_type": "stream",
     "text": [
      "\n",
      "# experiments from exported_from_scout (52)\n",
      "# diversity score 0.8562852588461196\n",
      "# score details\n",
      "{'alt_group_score': 0.0,\n",
      " 'pos_diff_score': 0.28110317750746755,\n",
      " 'rel_dist_diff_score': 0.16143633863355522,\n",
      " 'size_diff_score': 0.20687287135254845}\n"
     ]
    },
    {
     "data": {
      "text/html": [
       "<table><tr><td><img style='width:100px' src='./saved_designs/exported_from_scout (52)/saved_svgs/design-canvas-9d8da3fdb3874a8c97c1b334bb626a28.svg'/></td>\n",
       "                               <td><img style='width:100px' src='./saved_designs/exported_from_scout (52)/saved_svgs/design-canvas-7599585b0b764c2189747bf10283f144.svg'/></td></tr></table>"
      ],
      "text/plain": [
       "<IPython.core.display.HTML object>"
      ]
     },
     "metadata": {},
     "output_type": "display_data"
    },
    {
     "name": "stdout",
     "output_type": "stream",
     "text": [
      "\n",
      "# experiments from exported_from_scout (86)\n",
      "# diversity score 0.8521622770263011\n",
      "# score details\n",
      "{'alt_group_score': 0.0,\n",
      " 'pos_diff_score': 0.21118566169202874,\n",
      " 'rel_dist_diff_score': 0.16785421285644994,\n",
      " 'size_diff_score': 0.23656120123891125}\n"
     ]
    },
    {
     "data": {
      "text/html": [
       "<table><tr><td><img style='width:100px' src='./saved_designs/exported_from_scout (86)/saved_svgs/design-canvas-428ae54e6ddc4e8fa7b9210cdf486227.svg'/></td>\n",
       "                               <td><img style='width:100px' src='./saved_designs/exported_from_scout (86)/saved_svgs/design-canvas-5367a7ef0fc14f199f52ddf6302b8ebf.svg'/></td></tr></table>"
      ],
      "text/plain": [
       "<IPython.core.display.HTML object>"
      ]
     },
     "metadata": {},
     "output_type": "display_data"
    },
    {
     "name": "stdout",
     "output_type": "stream",
     "text": [
      "\n",
      "# experiments from ScoutExports_p7\n",
      "# diversity score 0.8472597796694248\n",
      "# score details\n",
      "{'alt_group_score': 0.0,\n",
      " 'pos_diff_score': 0.3120950972091691,\n",
      " 'rel_dist_diff_score': 0.22689655279699986,\n",
      " 'size_diff_score': 0.1541340648316279}\n"
     ]
    },
    {
     "data": {
      "text/html": [
       "<table><tr><td><img style='width:100px' src='./saved_designs/ScoutExports_p7/saved_svgs/design-canvas-9332a26dc98c431aa15252e8a2891ecb.svg'/></td>\n",
       "                               <td><img style='width:100px' src='./saved_designs/ScoutExports_p7/saved_svgs/design-canvas-503984a0c5bb4359b998ec0c721f1a9f.svg'/></td></tr></table>"
      ],
      "text/plain": [
       "<IPython.core.display.HTML object>"
      ]
     },
     "metadata": {},
     "output_type": "display_data"
    },
    {
     "name": "stdout",
     "output_type": "stream",
     "text": [
      "\n",
      "# experiments from exported_from_scout (88)\n",
      "# diversity score 0.837570516658507\n",
      "# score details\n",
      "{'alt_group_score': 0.0,\n",
      " 'pos_diff_score': 0.33365121050356233,\n",
      " 'rel_dist_diff_score': 0.22882107061755416,\n",
      " 'size_diff_score': 0.13754911776869527}\n"
     ]
    },
    {
     "data": {
      "text/html": [
       "<table><tr><td><img style='width:100px' src='./saved_designs/exported_from_scout (88)/saved_svgs/design-canvas-d262da7b05ed43c5a91baf2077ab7717.svg'/></td>\n",
       "                               <td><img style='width:100px' src='./saved_designs/exported_from_scout (88)/saved_svgs/design-canvas-683b24954e434fed9b82a246353543b0.svg'/></td></tr></table>"
      ],
      "text/plain": [
       "<IPython.core.display.HTML object>"
      ]
     },
     "metadata": {},
     "output_type": "display_data"
    },
    {
     "name": "stdout",
     "output_type": "stream",
     "text": [
      "\n",
      "# experiments from exported_from_scout (21)\n",
      "# diversity score 0.8256071221290137\n",
      "# score details\n",
      "{'alt_group_score': 0.07692307692307693,\n",
      " 'pos_diff_score': 0.25646190912598527,\n",
      " 'rel_dist_diff_score': 0.1765153147421506,\n",
      " 'size_diff_score': 0.1578534106689004}\n"
     ]
    },
    {
     "data": {
      "text/html": [
       "<table><tr><td><img style='width:100px' src='./saved_designs/exported_from_scout (21)/saved_svgs/design-canvas-ea671b6d28664a448e8205dc5c38c4fb.svg'/></td>\n",
       "                               <td><img style='width:100px' src='./saved_designs/exported_from_scout (21)/saved_svgs/design-canvas-d264fad4cfd842ecabbe465fe72937bd.svg'/></td></tr></table>"
      ],
      "text/plain": [
       "<IPython.core.display.HTML object>"
      ]
     },
     "metadata": {},
     "output_type": "display_data"
    },
    {
     "name": "stdout",
     "output_type": "stream",
     "text": [
      "\n",
      "# experiments from exported_from_scout (21)\n",
      "# diversity score 0.8159272564962293\n",
      "# score details\n",
      "{'alt_group_score': 0.07692307692307693,\n",
      " 'pos_diff_score': 0.312945952590727,\n",
      " 'rel_dist_diff_score': 0.2157057858002338,\n",
      " 'size_diff_score': 0.10517622059109584}\n"
     ]
    },
    {
     "data": {
      "text/html": [
       "<table><tr><td><img style='width:100px' src='./saved_designs/exported_from_scout (21)/saved_svgs/design-canvas-cf1ca7674c954943bcc46eb6ca5b2fbd.svg'/></td>\n",
       "                               <td><img style='width:100px' src='./saved_designs/exported_from_scout (21)/saved_svgs/design-canvas-d2507565e9894b5fb99767ce14b6a13e.svg'/></td></tr></table>"
      ],
      "text/plain": [
       "<IPython.core.display.HTML object>"
      ]
     },
     "metadata": {},
     "output_type": "display_data"
    },
    {
     "name": "stdout",
     "output_type": "stream",
     "text": [
      "\n",
      "# experiments from exported_from_scout (98)\n",
      "# diversity score 0.8140537850294112\n",
      "# score details\n",
      "{'alt_group_score': 0.0,\n",
      " 'pos_diff_score': 0.33466257696157603,\n",
      " 'rel_dist_diff_score': 0.2411006314860869,\n",
      " 'size_diff_score': 0.11914528829087415}\n"
     ]
    },
    {
     "data": {
      "text/html": [
       "<table><tr><td><img style='width:100px' src='./saved_designs/exported_from_scout (98)/import_these_into_xd/design-canvas-a52759ae3c2e49b9a50e2bfa69918a07.svg'/></td>\n",
       "                               <td><img style='width:100px' src='./saved_designs/exported_from_scout (98)/import_these_into_xd/design-canvas-83903cdc8136490e90c180d73dd2c09d.svg'/></td></tr></table>"
      ],
      "text/plain": [
       "<IPython.core.display.HTML object>"
      ]
     },
     "metadata": {},
     "output_type": "display_data"
    },
    {
     "name": "stdout",
     "output_type": "stream",
     "text": [
      "\n",
      "# experiments from exported_from_scout (99)\n",
      "# diversity score 0.8140537850294112\n",
      "# score details\n",
      "{'alt_group_score': 0.0,\n",
      " 'pos_diff_score': 0.33466257696157603,\n",
      " 'rel_dist_diff_score': 0.2411006314860869,\n",
      " 'size_diff_score': 0.11914528829087415}\n"
     ]
    },
    {
     "data": {
      "text/html": [
       "<table><tr><td><img style='width:100px' src='./saved_designs/exported_from_scout (99)/import_these_into_xd/design-canvas-a52759ae3c2e49b9a50e2bfa69918a07.svg'/></td>\n",
       "                               <td><img style='width:100px' src='./saved_designs/exported_from_scout (99)/import_these_into_xd/design-canvas-83903cdc8136490e90c180d73dd2c09d.svg'/></td></tr></table>"
      ],
      "text/plain": [
       "<IPython.core.display.HTML object>"
      ]
     },
     "metadata": {},
     "output_type": "display_data"
    },
    {
     "name": "stdout",
     "output_type": "stream",
     "text": [
      "\n",
      "# experiments from ScoutExports_p7\n",
      "# diversity score 0.8108366555886244\n",
      "# score details\n",
      "{'alt_group_score': 0.0,\n",
      " 'pos_diff_score': 0.3707388994094789,\n",
      " 'rel_dist_diff_score': 0.23157179525865662,\n",
      " 'size_diff_score': 0.1042629804602444}\n"
     ]
    },
    {
     "data": {
      "text/html": [
       "<table><tr><td><img style='width:100px' src='./saved_designs/ScoutExports_p7/saved_svgs/design-canvas-503984a0c5bb4359b998ec0c721f1a9f.svg'/></td>\n",
       "                               <td><img style='width:100px' src='./saved_designs/ScoutExports_p7/saved_svgs/design-canvas-9249b8a98c0f426aa223c268bd5cb31c.svg'/></td></tr></table>"
      ],
      "text/plain": [
       "<IPython.core.display.HTML object>"
      ]
     },
     "metadata": {},
     "output_type": "display_data"
    },
    {
     "name": "stdout",
     "output_type": "stream",
     "text": [
      "\n",
      "# experiments from exported_from_scout (97)\n",
      "# diversity score 0.7868454637218003\n",
      "# score details\n",
      "{'alt_group_score': 0.125,\n",
      " 'pos_diff_score': 0.16801815818133015,\n",
      " 'rel_dist_diff_score': 0.06700237009463501,\n",
      " 'size_diff_score': 0.21341246772291755}\n"
     ]
    },
    {
     "data": {
      "text/html": [
       "<table><tr><td><img style='width:100px' src='./saved_designs/exported_from_scout (97)/import_these_into_xd/design-canvas-33b90f9270d24b3ba34499c1c3bb68b4.svg'/></td>\n",
       "                               <td><img style='width:100px' src='./saved_designs/exported_from_scout (97)/import_these_into_xd/design-canvas-b8d7e094ee214de0bb66d93ccef6b1e5.svg'/></td></tr></table>"
      ],
      "text/plain": [
       "<IPython.core.display.HTML object>"
      ]
     },
     "metadata": {},
     "output_type": "display_data"
    },
    {
     "name": "stdout",
     "output_type": "stream",
     "text": [
      "\n",
      "# experiments from exported_from_scout (21)\n",
      "# diversity score 0.7831870239717268\n",
      "# score details\n",
      "{'alt_group_score': 0.07692307692307693,\n",
      " 'pos_diff_score': 0.297584301184808,\n",
      " 'rel_dist_diff_score': 0.2114977249548967,\n",
      " 'size_diff_score': 0.09859096045447259}\n"
     ]
    },
    {
     "data": {
      "text/html": [
       "<table><tr><td><img style='width:100px' src='./saved_designs/exported_from_scout (21)/saved_svgs/design-canvas-ea671b6d28664a448e8205dc5c38c4fb.svg'/></td>\n",
       "                               <td><img style='width:100px' src='./saved_designs/exported_from_scout (21)/saved_svgs/design-canvas-d2507565e9894b5fb99767ce14b6a13e.svg'/></td></tr></table>"
      ],
      "text/plain": [
       "<IPython.core.display.HTML object>"
      ]
     },
     "metadata": {},
     "output_type": "display_data"
    },
    {
     "name": "stdout",
     "output_type": "stream",
     "text": [
      "\n",
      "# experiments from exported_from_scout (21)\n",
      "# diversity score 0.7800265901134769\n",
      "# score details\n",
      "{'alt_group_score': 0.07692307692307693,\n",
      " 'pos_diff_score': 0.2433198707092861,\n",
      " 'rel_dist_diff_score': 0.13373767221460778,\n",
      " 'size_diff_score': 0.16302298513325303}\n"
     ]
    },
    {
     "data": {
      "text/html": [
       "<table><tr><td><img style='width:100px' src='./saved_designs/exported_from_scout (21)/saved_svgs/design-canvas-ea671b6d28664a448e8205dc5c38c4fb.svg'/></td>\n",
       "                               <td><img style='width:100px' src='./saved_designs/exported_from_scout (21)/saved_svgs/design-canvas-af4960086b1a40b4bd7f9b9aecd6a931.svg'/></td></tr></table>"
      ],
      "text/plain": [
       "<IPython.core.display.HTML object>"
      ]
     },
     "metadata": {},
     "output_type": "display_data"
    },
    {
     "name": "stdout",
     "output_type": "stream",
     "text": [
      "\n",
      "# experiments from exported_from_scout (99)\n",
      "# diversity score 0.7754783836457331\n",
      "# score details\n",
      "{'alt_group_score': 0.0,\n",
      " 'pos_diff_score': 0.2760115474228606,\n",
      " 'rel_dist_diff_score': 0.17936220103778566,\n",
      " 'size_diff_score': 0.16005231759254337}\n"
     ]
    },
    {
     "data": {
      "text/html": [
       "<table><tr><td><img style='width:100px' src='./saved_designs/exported_from_scout (99)/import_these_into_xd/design-canvas-1ae0e35d0b2d43028cddacd7a035b17d.svg'/></td>\n",
       "                               <td><img style='width:100px' src='./saved_designs/exported_from_scout (99)/import_these_into_xd/design-canvas-918a934c8f404d4993face741c29015f.svg'/></td></tr></table>"
      ],
      "text/plain": [
       "<IPython.core.display.HTML object>"
      ]
     },
     "metadata": {},
     "output_type": "display_data"
    },
    {
     "name": "stdout",
     "output_type": "stream",
     "text": [
      "\n",
      "# experiments from exported_from_scout (27)\n",
      "# diversity score 0.7754728363751722\n",
      "# score details\n",
      "{'alt_group_score': 0.0,\n",
      " 'pos_diff_score': 0.23488869954642777,\n",
      " 'rel_dist_diff_score': 0.13592255376184714,\n",
      " 'size_diff_score': 0.2023307915334486}\n"
     ]
    },
    {
     "data": {
      "text/html": [
       "<table><tr><td><img style='width:100px' src='./saved_designs/exported_from_scout (27)/saved_svgs/design-canvas-70242e15df9d48559e4c4e6903cfb320.svg'/></td>\n",
       "                               <td><img style='width:100px' src='./saved_designs/exported_from_scout (27)/saved_svgs/design-canvas-2379e0aee985456a926b0cecfe11b6d6.svg'/></td></tr></table>"
      ],
      "text/plain": [
       "<IPython.core.display.HTML object>"
      ]
     },
     "metadata": {},
     "output_type": "display_data"
    },
    {
     "name": "stdout",
     "output_type": "stream",
     "text": [
      "\n",
      "# experiments from exported_from_scout (27)\n",
      "# diversity score 0.7732169792464476\n",
      "# score details\n",
      "{'alt_group_score': 0.125,\n",
      " 'pos_diff_score': 0.15431275623691965,\n",
      " 'rel_dist_diff_score': 0.10635502872520151,\n",
      " 'size_diff_score': 0.19377459714216322}\n"
     ]
    },
    {
     "data": {
      "text/html": [
       "<table><tr><td><img style='width:100px' src='./saved_designs/exported_from_scout (27)/saved_svgs/design-canvas-70242e15df9d48559e4c4e6903cfb320.svg'/></td>\n",
       "                               <td><img style='width:100px' src='./saved_designs/exported_from_scout (27)/saved_svgs/design-canvas-3d18296d94404f618556683f2407b007.svg'/></td></tr></table>"
      ],
      "text/plain": [
       "<IPython.core.display.HTML object>"
      ]
     },
     "metadata": {},
     "output_type": "display_data"
    },
    {
     "name": "stdout",
     "output_type": "stream",
     "text": [
      "\n",
      "# experiments from exported_from_scout (97)\n",
      "# diversity score 0.7468982620471981\n",
      "# score details\n",
      "{'alt_group_score': 0.125,\n",
      " 'pos_diff_score': 0.2092031311817696,\n",
      " 'rel_dist_diff_score': 0.06164696428733402,\n",
      " 'size_diff_score': 0.17552408328904726}\n"
     ]
    },
    {
     "data": {
      "text/html": [
       "<table><tr><td><img style='width:100px' src='./saved_designs/exported_from_scout (97)/import_these_into_xd/design-canvas-33b90f9270d24b3ba34499c1c3bb68b4.svg'/></td>\n",
       "                               <td><img style='width:100px' src='./saved_designs/exported_from_scout (97)/import_these_into_xd/design-canvas-4ec926fa41894887bcf3ac1ac5af35f7.svg'/></td></tr></table>"
      ],
      "text/plain": [
       "<IPython.core.display.HTML object>"
      ]
     },
     "metadata": {},
     "output_type": "display_data"
    },
    {
     "name": "stdout",
     "output_type": "stream",
     "text": [
      "\n",
      "# experiments from exported_from_scout (97)\n",
      "# diversity score 0.7446407354319624\n",
      "# score details\n",
      "{'alt_group_score': 0.0,\n",
      " 'pos_diff_score': 0.1995626870773843,\n",
      " 'rel_dist_diff_score': 0.10355471992434363,\n",
      " 'size_diff_score': 0.22076166421511723}\n"
     ]
    },
    {
     "data": {
      "text/html": [
       "<table><tr><td><img style='width:100px' src='./saved_designs/exported_from_scout (97)/import_these_into_xd/design-canvas-f0dc6cec5324477290180c56fda9aeb1.svg'/></td>\n",
       "                               <td><img style='width:100px' src='./saved_designs/exported_from_scout (97)/import_these_into_xd/design-canvas-b8d7e094ee214de0bb66d93ccef6b1e5.svg'/></td></tr></table>"
      ],
      "text/plain": [
       "<IPython.core.display.HTML object>"
      ]
     },
     "metadata": {},
     "output_type": "display_data"
    },
    {
     "name": "stdout",
     "output_type": "stream",
     "text": [
      "\n",
      "# experiments from exported_from_scout (21)\n",
      "# diversity score 0.7434499759013881\n",
      "# score details\n",
      "{'alt_group_score': 0.0,\n",
      " 'pos_diff_score': 0.1747373118024686,\n",
      " 'rel_dist_diff_score': 0.1173620960298379,\n",
      " 'size_diff_score': 0.2256752840345408}\n"
     ]
    },
    {
     "data": {
      "text/html": [
       "<table><tr><td><img style='width:100px' src='./saved_designs/exported_from_scout (21)/saved_svgs/design-canvas-ea671b6d28664a448e8205dc5c38c4fb.svg'/></td>\n",
       "                               <td><img style='width:100px' src='./saved_designs/exported_from_scout (21)/saved_svgs/design-canvas-441488e97988401c9c1c6d371228439d.svg'/></td></tr></table>"
      ],
      "text/plain": [
       "<IPython.core.display.HTML object>"
      ]
     },
     "metadata": {},
     "output_type": "display_data"
    },
    {
     "name": "stdout",
     "output_type": "stream",
     "text": [
      "\n",
      "# experiments from exported_from_scout (98)\n",
      "# diversity score 0.7287184885282727\n",
      "# score details\n",
      "{'alt_group_score': 0.0,\n",
      " 'pos_diff_score': 0.21493755833963807,\n",
      " 'rel_dist_diff_score': 0.17361659695172632,\n",
      " 'size_diff_score': 0.17008216661845418}\n"
     ]
    },
    {
     "data": {
      "text/html": [
       "<table><tr><td><img style='width:100px' src='./saved_designs/exported_from_scout (98)/import_these_into_xd/design-canvas-7304405049fc487a91ca6165424c0b0c.svg'/></td>\n",
       "                               <td><img style='width:100px' src='./saved_designs/exported_from_scout (98)/import_these_into_xd/design-canvas-83903cdc8136490e90c180d73dd2c09d.svg'/></td></tr></table>"
      ],
      "text/plain": [
       "<IPython.core.display.HTML object>"
      ]
     },
     "metadata": {},
     "output_type": "display_data"
    },
    {
     "name": "stdout",
     "output_type": "stream",
     "text": [
      "\n",
      "# experiments from exported_from_scout (99)\n",
      "# diversity score 0.7287184885282727\n",
      "# score details\n",
      "{'alt_group_score': 0.0,\n",
      " 'pos_diff_score': 0.21493755833963807,\n",
      " 'rel_dist_diff_score': 0.17361659695172632,\n",
      " 'size_diff_score': 0.17008216661845418}\n"
     ]
    },
    {
     "data": {
      "text/html": [
       "<table><tr><td><img style='width:100px' src='./saved_designs/exported_from_scout (99)/import_these_into_xd/design-canvas-7304405049fc487a91ca6165424c0b0c.svg'/></td>\n",
       "                               <td><img style='width:100px' src='./saved_designs/exported_from_scout (99)/import_these_into_xd/design-canvas-83903cdc8136490e90c180d73dd2c09d.svg'/></td></tr></table>"
      ],
      "text/plain": [
       "<IPython.core.display.HTML object>"
      ]
     },
     "metadata": {},
     "output_type": "display_data"
    },
    {
     "name": "stdout",
     "output_type": "stream",
     "text": [
      "\n",
      "# experiments from exported_from_scout (27)\n",
      "# diversity score 0.7246137452795618\n",
      "# score details\n",
      "{'alt_group_score': 0.125,\n",
      " 'pos_diff_score': 0.10582630159293475,\n",
      " 'rel_dist_diff_score': 0.09159672226762881,\n",
      " 'size_diff_score': 0.20109536070949913}\n"
     ]
    },
    {
     "data": {
      "text/html": [
       "<table><tr><td><img style='width:100px' src='./saved_designs/exported_from_scout (27)/saved_svgs/design-canvas-70242e15df9d48559e4c4e6903cfb320.svg'/></td>\n",
       "                               <td><img style='width:100px' src='./saved_designs/exported_from_scout (27)/saved_svgs/design-canvas-c7c1d6eae7ca4644a29aa15a33cd4a1d.svg'/></td></tr></table>"
      ],
      "text/plain": [
       "<IPython.core.display.HTML object>"
      ]
     },
     "metadata": {},
     "output_type": "display_data"
    },
    {
     "name": "stdout",
     "output_type": "stream",
     "text": [
      "\n",
      "# experiments from exported_from_scout (27)\n",
      "# diversity score 0.7244406573829806\n",
      "# score details\n",
      "{'alt_group_score': 0.125,\n",
      " 'pos_diff_score': 0.1948447518155306,\n",
      " 'rel_dist_diff_score': 0.1209718873107843,\n",
      " 'size_diff_score': 0.14181200912833283}\n"
     ]
    },
    {
     "data": {
      "text/html": [
       "<table><tr><td><img style='width:100px' src='./saved_designs/exported_from_scout (27)/saved_svgs/design-canvas-2379e0aee985456a926b0cecfe11b6d6.svg'/></td>\n",
       "                               <td><img style='width:100px' src='./saved_designs/exported_from_scout (27)/saved_svgs/design-canvas-a92d3607a3fb498398ed0437348cf368.svg'/></td></tr></table>"
      ],
      "text/plain": [
       "<IPython.core.display.HTML object>"
      ]
     },
     "metadata": {},
     "output_type": "display_data"
    },
    {
     "name": "stdout",
     "output_type": "stream",
     "text": [
      "\n",
      "# experiments from exported_from_scout (97)\n",
      "# diversity score 0.7234866275079226\n",
      "# score details\n",
      "{'alt_group_score': 0.125,\n",
      " 'pos_diff_score': 0.18516470111017666,\n",
      " 'rel_dist_diff_score': 0.08026906393108654,\n",
      " 'size_diff_score': 0.1665264312333297}\n"
     ]
    },
    {
     "data": {
      "text/html": [
       "<table><tr><td><img style='width:100px' src='./saved_designs/exported_from_scout (97)/import_these_into_xd/design-canvas-33b90f9270d24b3ba34499c1c3bb68b4.svg'/></td>\n",
       "                               <td><img style='width:100px' src='./saved_designs/exported_from_scout (97)/import_these_into_xd/design-canvas-062699f37400475cbba6dbfc4d6933b3.svg'/></td></tr></table>"
      ],
      "text/plain": [
       "<IPython.core.display.HTML object>"
      ]
     },
     "metadata": {},
     "output_type": "display_data"
    },
    {
     "name": "stdout",
     "output_type": "stream",
     "text": [
      "\n",
      "# experiments from exported_from_scout (97)\n",
      "# diversity score 0.7125280545647781\n",
      "# score details\n",
      "{'alt_group_score': 0.125,\n",
      " 'pos_diff_score': 0.15831417356287622,\n",
      " 'rel_dist_diff_score': 0.08393957349903491,\n",
      " 'size_diff_score': 0.17263715375143343}\n"
     ]
    },
    {
     "data": {
      "text/html": [
       "<table><tr><td><img style='width:100px' src='./saved_designs/exported_from_scout (97)/import_these_into_xd/design-canvas-33b90f9270d24b3ba34499c1c3bb68b4.svg'/></td>\n",
       "                               <td><img style='width:100px' src='./saved_designs/exported_from_scout (97)/import_these_into_xd/design-canvas-f0dc6cec5324477290180c56fda9aeb1.svg'/></td></tr></table>"
      ],
      "text/plain": [
       "<IPython.core.display.HTML object>"
      ]
     },
     "metadata": {},
     "output_type": "display_data"
    },
    {
     "name": "stdout",
     "output_type": "stream",
     "text": [
      "\n",
      "# experiments from exported_from_scout (97)\n",
      "# diversity score 0.702785409524407\n",
      "# score details\n",
      "{'alt_group_score': 0.125,\n",
      " 'pos_diff_score': 0.18752130185048563,\n",
      " 'rel_dist_diff_score': 0.057685466400043225,\n",
      " 'size_diff_score': 0.16628932063693908}\n"
     ]
    },
    {
     "data": {
      "text/html": [
       "<table><tr><td><img style='width:100px' src='./saved_designs/exported_from_scout (97)/import_these_into_xd/design-canvas-33b90f9270d24b3ba34499c1c3bb68b4.svg'/></td>\n",
       "                               <td><img style='width:100px' src='./saved_designs/exported_from_scout (97)/import_these_into_xd/design-canvas-4749f58bb9d24fc99a15a0145fecb572.svg'/></td></tr></table>"
      ],
      "text/plain": [
       "<IPython.core.display.HTML object>"
      ]
     },
     "metadata": {},
     "output_type": "display_data"
    },
    {
     "name": "stdout",
     "output_type": "stream",
     "text": [
      "\n",
      "# experiments from exported_from_scout (50)\n",
      "# diversity score 0.6990255108671719\n",
      "# score details\n",
      "{'alt_group_score': 0.0,\n",
      " 'pos_diff_score': 0.19405013077389163,\n",
      " 'rel_dist_diff_score': 0.1278658607490841,\n",
      " 'size_diff_score': 0.18855475967209806}\n"
     ]
    },
    {
     "data": {
      "text/html": [
       "<table><tr><td><img style='width:100px' src='./saved_designs/exported_from_scout (50)/saved_svgs/design-canvas-6ff18e66dfda44669d2e03c69664f5c8.svg'/></td>\n",
       "                               <td><img style='width:100px' src='./saved_designs/exported_from_scout (50)/saved_svgs/design-canvas-90e3874987904050a6b073c1d925fefd.svg'/></td></tr></table>"
      ],
      "text/plain": [
       "<IPython.core.display.HTML object>"
      ]
     },
     "metadata": {},
     "output_type": "display_data"
    },
    {
     "name": "stdout",
     "output_type": "stream",
     "text": [
      "\n",
      "# experiments from exported_from_scout (51)\n",
      "# diversity score 0.6990255108671719\n",
      "# score details\n",
      "{'alt_group_score': 0.0,\n",
      " 'pos_diff_score': 0.19405013077389163,\n",
      " 'rel_dist_diff_score': 0.1278658607490841,\n",
      " 'size_diff_score': 0.18855475967209806}\n"
     ]
    },
    {
     "data": {
      "text/html": [
       "<table><tr><td><img style='width:100px' src='./saved_designs/exported_from_scout (51)/saved_svgs/design-canvas-6ff18e66dfda44669d2e03c69664f5c8.svg'/></td>\n",
       "                               <td><img style='width:100px' src='./saved_designs/exported_from_scout (51)/saved_svgs/design-canvas-90e3874987904050a6b073c1d925fefd.svg'/></td></tr></table>"
      ],
      "text/plain": [
       "<IPython.core.display.HTML object>"
      ]
     },
     "metadata": {},
     "output_type": "display_data"
    },
    {
     "name": "stdout",
     "output_type": "stream",
     "text": [
      "\n",
      "# experiments from exported_from_scout (27)\n",
      "# diversity score 0.6973482374341834\n",
      "# score details\n",
      "{'alt_group_score': 0.125,\n",
      " 'pos_diff_score': 0.191439953414049,\n",
      " 'rel_dist_diff_score': 0.12286386565368387,\n",
      " 'size_diff_score': 0.12902220918322527}\n"
     ]
    },
    {
     "data": {
      "text/html": [
       "<table><tr><td><img style='width:100px' src='./saved_designs/exported_from_scout (27)/saved_svgs/design-canvas-c7c1d6eae7ca4644a29aa15a33cd4a1d.svg'/></td>\n",
       "                               <td><img style='width:100px' src='./saved_designs/exported_from_scout (27)/saved_svgs/design-canvas-2379e0aee985456a926b0cecfe11b6d6.svg'/></td></tr></table>"
      ],
      "text/plain": [
       "<IPython.core.display.HTML object>"
      ]
     },
     "metadata": {},
     "output_type": "display_data"
    },
    {
     "name": "stdout",
     "output_type": "stream",
     "text": [
      "\n",
      "# experiments from exported_from_scout (98)\n",
      "# diversity score 0.6937495200852595\n",
      "# score details\n",
      "{'alt_group_score': 0.07692307692307693,\n",
      " 'pos_diff_score': 0.23643339484447057,\n",
      " 'rel_dist_diff_score': 0.18045644527113844,\n",
      " 'size_diff_score': 0.09996830152328678}\n"
     ]
    },
    {
     "data": {
      "text/html": [
       "<table><tr><td><img style='width:100px' src='./saved_designs/exported_from_scout (98)/import_these_into_xd/design-canvas-be478c6373164bc4b96bbccf5b367f9b.svg'/></td>\n",
       "                               <td><img style='width:100px' src='./saved_designs/exported_from_scout (98)/import_these_into_xd/design-canvas-a52759ae3c2e49b9a50e2bfa69918a07.svg'/></td></tr></table>"
      ],
      "text/plain": [
       "<IPython.core.display.HTML object>"
      ]
     },
     "metadata": {},
     "output_type": "display_data"
    },
    {
     "name": "stdout",
     "output_type": "stream",
     "text": [
      "\n",
      "# experiments from exported_from_scout (99)\n",
      "# diversity score 0.6937495200852595\n",
      "# score details\n",
      "{'alt_group_score': 0.07692307692307693,\n",
      " 'pos_diff_score': 0.23643339484447057,\n",
      " 'rel_dist_diff_score': 0.18045644527113844,\n",
      " 'size_diff_score': 0.09996830152328678}\n"
     ]
    },
    {
     "data": {
      "text/html": [
       "<table><tr><td><img style='width:100px' src='./saved_designs/exported_from_scout (99)/import_these_into_xd/design-canvas-be478c6373164bc4b96bbccf5b367f9b.svg'/></td>\n",
       "                               <td><img style='width:100px' src='./saved_designs/exported_from_scout (99)/import_these_into_xd/design-canvas-a52759ae3c2e49b9a50e2bfa69918a07.svg'/></td></tr></table>"
      ],
      "text/plain": [
       "<IPython.core.display.HTML object>"
      ]
     },
     "metadata": {},
     "output_type": "display_data"
    },
    {
     "name": "stdout",
     "output_type": "stream",
     "text": [
      "\n",
      "# experiments from exported_from_scout (97)\n",
      "# diversity score 0.6882386803919606\n",
      "# score details\n",
      "{'alt_group_score': 0.0,\n",
      " 'pos_diff_score': 0.2062184049265405,\n",
      " 'rel_dist_diff_score': 0.08025317928319865,\n",
      " 'size_diff_score': 0.2008835480911107}\n"
     ]
    },
    {
     "data": {
      "text/html": [
       "<table><tr><td><img style='width:100px' src='./saved_designs/exported_from_scout (97)/import_these_into_xd/design-canvas-b8d7e094ee214de0bb66d93ccef6b1e5.svg'/></td>\n",
       "                               <td><img style='width:100px' src='./saved_designs/exported_from_scout (97)/import_these_into_xd/design-canvas-4749f58bb9d24fc99a15a0145fecb572.svg'/></td></tr></table>"
      ],
      "text/plain": [
       "<IPython.core.display.HTML object>"
      ]
     },
     "metadata": {},
     "output_type": "display_data"
    },
    {
     "name": "stdout",
     "output_type": "stream",
     "text": [
      "\n",
      "# experiments from exported_from_scout (21)\n",
      "# diversity score 0.6783587741217485\n",
      "# score details\n",
      "{'alt_group_score': 0.07692307692307693,\n",
      " 'pos_diff_score': 0.1525446956506349,\n",
      " 'rel_dist_diff_score': 0.09802991125381212,\n",
      " 'size_diff_score': 0.17543054514711232}\n"
     ]
    },
    {
     "data": {
      "text/html": [
       "<table><tr><td><img style='width:100px' src='./saved_designs/exported_from_scout (21)/saved_svgs/design-canvas-cf1ca7674c954943bcc46eb6ca5b2fbd.svg'/></td>\n",
       "                               <td><img style='width:100px' src='./saved_designs/exported_from_scout (21)/saved_svgs/design-canvas-af4960086b1a40b4bd7f9b9aecd6a931.svg'/></td></tr></table>"
      ],
      "text/plain": [
       "<IPython.core.display.HTML object>"
      ]
     },
     "metadata": {},
     "output_type": "display_data"
    },
    {
     "name": "stdout",
     "output_type": "stream",
     "text": [
      "\n",
      "# experiments from exported_from_scout (27)\n",
      "# diversity score 0.6780130473148179\n",
      "# score details\n",
      "{'alt_group_score': 0.125,\n",
      " 'pos_diff_score': 0.13356483621564622,\n",
      " 'rel_dist_diff_score': 0.11208411527742652,\n",
      " 'size_diff_score': 0.15368204791087262}\n"
     ]
    },
    {
     "data": {
      "text/html": [
       "<table><tr><td><img style='width:100px' src='./saved_designs/exported_from_scout (27)/saved_svgs/design-canvas-70242e15df9d48559e4c4e6903cfb320.svg'/></td>\n",
       "                               <td><img style='width:100px' src='./saved_designs/exported_from_scout (27)/saved_svgs/design-canvas-a92d3607a3fb498398ed0437348cf368.svg'/></td></tr></table>"
      ],
      "text/plain": [
       "<IPython.core.display.HTML object>"
      ]
     },
     "metadata": {},
     "output_type": "display_data"
    },
    {
     "name": "stdout",
     "output_type": "stream",
     "text": [
      "\n",
      "# experiments from exported_from_scout (27)\n",
      "# diversity score 0.6461477860290438\n",
      "# score details\n",
      "{'alt_group_score': 0.125,\n",
      " 'pos_diff_score': 0.18763681644639263,\n",
      " 'rel_dist_diff_score': 0.12031025322704067,\n",
      " 'size_diff_score': 0.10660035817780522}\n"
     ]
    },
    {
     "data": {
      "text/html": [
       "<table><tr><td><img style='width:100px' src='./saved_designs/exported_from_scout (27)/saved_svgs/design-canvas-2379e0aee985456a926b0cecfe11b6d6.svg'/></td>\n",
       "                               <td><img style='width:100px' src='./saved_designs/exported_from_scout (27)/saved_svgs/design-canvas-3d18296d94404f618556683f2407b007.svg'/></td></tr></table>"
      ],
      "text/plain": [
       "<IPython.core.display.HTML object>"
      ]
     },
     "metadata": {},
     "output_type": "display_data"
    },
    {
     "name": "stdout",
     "output_type": "stream",
     "text": [
      "\n",
      "# experiments from exported_from_scout (97)\n",
      "# diversity score 0.6297068975029099\n",
      "# score details\n",
      "{'alt_group_score': 0.0,\n",
      " 'pos_diff_score': 0.1776410462251374,\n",
      " 'rel_dist_diff_score': 0.0770990797568595,\n",
      " 'size_diff_score': 0.1874833857604565}\n"
     ]
    },
    {
     "data": {
      "text/html": [
       "<table><tr><td><img style='width:100px' src='./saved_designs/exported_from_scout (97)/import_these_into_xd/design-canvas-b8d7e094ee214de0bb66d93ccef6b1e5.svg'/></td>\n",
       "                               <td><img style='width:100px' src='./saved_designs/exported_from_scout (97)/import_these_into_xd/design-canvas-062699f37400475cbba6dbfc4d6933b3.svg'/></td></tr></table>"
      ],
      "text/plain": [
       "<IPython.core.display.HTML object>"
      ]
     },
     "metadata": {},
     "output_type": "display_data"
    },
    {
     "name": "stdout",
     "output_type": "stream",
     "text": [
      "\n",
      "# experiments from exported_from_scout (21)\n",
      "# diversity score 0.6226371945746207\n",
      "# score details\n",
      "{'alt_group_score': 0.0,\n",
      " 'pos_diff_score': 0.25273946913654305,\n",
      " 'rel_dist_diff_score': 0.11189293001518003,\n",
      " 'size_diff_score': 0.12900239771144886}\n"
     ]
    },
    {
     "data": {
      "text/html": [
       "<table><tr><td><img style='width:100px' src='./saved_designs/exported_from_scout (21)/saved_svgs/design-canvas-cf1ca7674c954943bcc46eb6ca5b2fbd.svg'/></td>\n",
       "                               <td><img style='width:100px' src='./saved_designs/exported_from_scout (21)/saved_svgs/design-canvas-ea671b6d28664a448e8205dc5c38c4fb.svg'/></td></tr></table>"
      ],
      "text/plain": [
       "<IPython.core.display.HTML object>"
      ]
     },
     "metadata": {},
     "output_type": "display_data"
    },
    {
     "name": "stdout",
     "output_type": "stream",
     "text": [
      "\n",
      "# experiments from exported_from_scout (27)\n",
      "# diversity score 0.6221592237297638\n",
      "# score details\n",
      "{'alt_group_score': 0.125,\n",
      " 'pos_diff_score': 0.09449745869134854,\n",
      " 'rel_dist_diff_score': 0.077247458306136,\n",
      " 'size_diff_score': 0.16270715336613967}\n"
     ]
    },
    {
     "data": {
      "text/html": [
       "<table><tr><td><img style='width:100px' src='./saved_designs/exported_from_scout (27)/saved_svgs/design-canvas-c7c1d6eae7ca4644a29aa15a33cd4a1d.svg'/></td>\n",
       "                               <td><img style='width:100px' src='./saved_designs/exported_from_scout (27)/saved_svgs/design-canvas-9fc45ca457154bc19d99c5edcfbf3789.svg'/></td></tr></table>"
      ],
      "text/plain": [
       "<IPython.core.display.HTML object>"
      ]
     },
     "metadata": {},
     "output_type": "display_data"
    },
    {
     "name": "stdout",
     "output_type": "stream",
     "text": [
      "\n",
      "# experiments from exported_from_scout (27)\n",
      "# diversity score 0.6135361931428045\n",
      "# score details\n",
      "{'alt_group_score': 0.125,\n",
      " 'pos_diff_score': 0.1119920753115015,\n",
      " 'rel_dist_diff_score': 0.08540481332139034,\n",
      " 'size_diff_score': 0.14556965225495636}\n"
     ]
    },
    {
     "data": {
      "text/html": [
       "<table><tr><td><img style='width:100px' src='./saved_designs/exported_from_scout (27)/saved_svgs/design-canvas-9fc45ca457154bc19d99c5edcfbf3789.svg'/></td>\n",
       "                               <td><img style='width:100px' src='./saved_designs/exported_from_scout (27)/saved_svgs/design-canvas-3d18296d94404f618556683f2407b007.svg'/></td></tr></table>"
      ],
      "text/plain": [
       "<IPython.core.display.HTML object>"
      ]
     },
     "metadata": {},
     "output_type": "display_data"
    },
    {
     "name": "stdout",
     "output_type": "stream",
     "text": [
      "\n",
      "# experiments from exported_from_scout (97)\n",
      "# diversity score 0.6063210395351379\n",
      "# score details\n",
      "{'alt_group_score': 0.0,\n",
      " 'pos_diff_score': 0.14476113117324227,\n",
      " 'rel_dist_diff_score': 0.10368632993050655,\n",
      " 'size_diff_score': 0.17893678921569456}\n"
     ]
    },
    {
     "data": {
      "text/html": [
       "<table><tr><td><img style='width:100px' src='./saved_designs/exported_from_scout (97)/import_these_into_xd/design-canvas-f0dc6cec5324477290180c56fda9aeb1.svg'/></td>\n",
       "                               <td><img style='width:100px' src='./saved_designs/exported_from_scout (97)/import_these_into_xd/design-canvas-062699f37400475cbba6dbfc4d6933b3.svg'/></td></tr></table>"
      ],
      "text/plain": [
       "<IPython.core.display.HTML object>"
      ]
     },
     "metadata": {},
     "output_type": "display_data"
    },
    {
     "name": "stdout",
     "output_type": "stream",
     "text": [
      "\n",
      "# experiments from exported_from_scout - 2019-04-23T094836.267\n",
      "# diversity score 0.595518679486151\n",
      "# score details\n",
      "{'alt_group_score': 0.0,\n",
      " 'pos_diff_score': 0.181476170025447,\n",
      " 'rel_dist_diff_score': 0.12216231876534094,\n",
      " 'size_diff_score': 0.14594009534768154}\n"
     ]
    },
    {
     "data": {
      "text/html": [
       "<table><tr><td><img style='width:100px' src='./saved_designs/exported_from_scout - 2019-04-23T094836.267/import_these_into_xd/design-canvas-3af7dce4b8654a809d9093427d91ff19.svg'/></td>\n",
       "                               <td><img style='width:100px' src='./saved_designs/exported_from_scout - 2019-04-23T094836.267/import_these_into_xd/design-canvas-3dd245c1749e4627a1d5d7c8f677193d.svg'/></td></tr></table>"
      ],
      "text/plain": [
       "<IPython.core.display.HTML object>"
      ]
     },
     "metadata": {},
     "output_type": "display_data"
    },
    {
     "name": "stdout",
     "output_type": "stream",
     "text": [
      "\n",
      "# experiments from exported_from_scout (97)\n",
      "# diversity score 0.595195910330188\n",
      "# score details\n",
      "{'alt_group_score': 0.0,\n",
      " 'pos_diff_score': 0.14942693645256858,\n",
      " 'rel_dist_diff_score': 0.08298505144536472,\n",
      " 'size_diff_score': 0.18139196121612738}\n"
     ]
    },
    {
     "data": {
      "text/html": [
       "<table><tr><td><img style='width:100px' src='./saved_designs/exported_from_scout (97)/import_these_into_xd/design-canvas-f0dc6cec5324477290180c56fda9aeb1.svg'/></td>\n",
       "                               <td><img style='width:100px' src='./saved_designs/exported_from_scout (97)/import_these_into_xd/design-canvas-4ec926fa41894887bcf3ac1ac5af35f7.svg'/></td></tr></table>"
      ],
      "text/plain": [
       "<IPython.core.display.HTML object>"
      ]
     },
     "metadata": {},
     "output_type": "display_data"
    },
    {
     "name": "stdout",
     "output_type": "stream",
     "text": [
      "\n",
      "# experiments from exported_from_scout (21)\n",
      "# diversity score 0.5913847794679745\n",
      "# score details\n",
      "{'alt_group_score': 0.07692307692307693,\n",
      " 'pos_diff_score': 0.19535023788423156,\n",
      " 'rel_dist_diff_score': 0.14042571335947407,\n",
      " 'size_diff_score': 0.08934287565059595}\n"
     ]
    },
    {
     "data": {
      "text/html": [
       "<table><tr><td><img style='width:100px' src='./saved_designs/exported_from_scout (21)/saved_svgs/design-canvas-af4960086b1a40b4bd7f9b9aecd6a931.svg'/></td>\n",
       "                               <td><img style='width:100px' src='./saved_designs/exported_from_scout (21)/saved_svgs/design-canvas-d264fad4cfd842ecabbe465fe72937bd.svg'/></td></tr></table>"
      ],
      "text/plain": [
       "<IPython.core.display.HTML object>"
      ]
     },
     "metadata": {},
     "output_type": "display_data"
    },
    {
     "name": "stdout",
     "output_type": "stream",
     "text": [
      "\n",
      "# experiments from exported_from_scout - 2019-04-23T094836.267\n",
      "# diversity score 0.5850253495446461\n",
      "# score details\n",
      "{'alt_group_score': 0.0,\n",
      " 'pos_diff_score': 0.1583581763399885,\n",
      " 'rel_dist_diff_score': 0.11596549836839759,\n",
      " 'size_diff_score': 0.15535083741813002}\n"
     ]
    },
    {
     "data": {
      "text/html": [
       "<table><tr><td><img style='width:100px' src='./saved_designs/exported_from_scout - 2019-04-23T094836.267/import_these_into_xd/design-canvas-2c9856f3e10141a3b2668f37e42a26af.svg'/></td>\n",
       "                               <td><img style='width:100px' src='./saved_designs/exported_from_scout - 2019-04-23T094836.267/import_these_into_xd/design-canvas-ed719ba233704810a0964b7c569c9ed1.svg'/></td></tr></table>"
      ],
      "text/plain": [
       "<IPython.core.display.HTML object>"
      ]
     },
     "metadata": {},
     "output_type": "display_data"
    },
    {
     "name": "stdout",
     "output_type": "stream",
     "text": [
      "\n",
      "# experiments from exported_from_scout (57)\n",
      "# diversity score 0.5705491502965523\n",
      "# score details\n",
      "{'alt_group_score': 0.0,\n",
      " 'pos_diff_score': 0.15066512930638995,\n",
      " 'rel_dist_diff_score': 0.11541859453514959,\n",
      " 'size_diff_score': 0.15223271322750634}\n"
     ]
    },
    {
     "data": {
      "text/html": [
       "<table><tr><td><img style='width:100px' src='./saved_designs/exported_from_scout (57)/saved_svgs/design-canvas-1417ed8f406445ecb533001d8ef9fa51.svg'/></td>\n",
       "                               <td><img style='width:100px' src='./saved_designs/exported_from_scout (57)/saved_svgs/design-canvas-ad7a0da9fdd84b428da74b191e69b4db.svg'/></td></tr></table>"
      ],
      "text/plain": [
       "<IPython.core.display.HTML object>"
      ]
     },
     "metadata": {},
     "output_type": "display_data"
    },
    {
     "name": "stdout",
     "output_type": "stream",
     "text": [
      "\n",
      "# experiments from exported_from_scout (27)\n",
      "# diversity score 0.5698100406201859\n",
      "# score details\n",
      "{'alt_group_score': 0.125,\n",
      " 'pos_diff_score': 0.12146057181354067,\n",
      " 'rel_dist_diff_score': 0.09465904732324276,\n",
      " 'size_diff_score': 0.11434521074170122}\n"
     ]
    },
    {
     "data": {
      "text/html": [
       "<table><tr><td><img style='width:100px' src='./saved_designs/exported_from_scout (27)/saved_svgs/design-canvas-9fc45ca457154bc19d99c5edcfbf3789.svg'/></td>\n",
       "                               <td><img style='width:100px' src='./saved_designs/exported_from_scout (27)/saved_svgs/design-canvas-a92d3607a3fb498398ed0437348cf368.svg'/></td></tr></table>"
      ],
      "text/plain": [
       "<IPython.core.display.HTML object>"
      ]
     },
     "metadata": {},
     "output_type": "display_data"
    },
    {
     "name": "stdout",
     "output_type": "stream",
     "text": [
      "\n",
      "# experiments from exported_from_scout (97)\n",
      "# diversity score 0.5595538834863588\n",
      "# score details\n",
      "{'alt_group_score': 0.0,\n",
      " 'pos_diff_score': 0.18465303533076968,\n",
      " 'rel_dist_diff_score': 0.05076538904432566,\n",
      " 'size_diff_score': 0.16206772955563173}\n"
     ]
    },
    {
     "data": {
      "text/html": [
       "<table><tr><td><img style='width:100px' src='./saved_designs/exported_from_scout (97)/import_these_into_xd/design-canvas-b8d7e094ee214de0bb66d93ccef6b1e5.svg'/></td>\n",
       "                               <td><img style='width:100px' src='./saved_designs/exported_from_scout (97)/import_these_into_xd/design-canvas-4ec926fa41894887bcf3ac1ac5af35f7.svg'/></td></tr></table>"
      ],
      "text/plain": [
       "<IPython.core.display.HTML object>"
      ]
     },
     "metadata": {},
     "output_type": "display_data"
    },
    {
     "name": "stdout",
     "output_type": "stream",
     "text": [
      "\n",
      "# experiments from exported_from_scout (57)\n",
      "# diversity score 0.5587369099667945\n",
      "# score details\n",
      "{'alt_group_score': 0.0,\n",
      " 'pos_diff_score': 0.1721072058163236,\n",
      " 'rel_dist_diff_score': 0.10797694214074084,\n",
      " 'size_diff_score': 0.13932638100486502}\n"
     ]
    },
    {
     "data": {
      "text/html": [
       "<table><tr><td><img style='width:100px' src='./saved_designs/exported_from_scout (57)/saved_svgs/design-canvas-76c3faac7a3b468da89750b7d383a06a.svg'/></td>\n",
       "                               <td><img style='width:100px' src='./saved_designs/exported_from_scout (57)/saved_svgs/design-canvas-ad7a0da9fdd84b428da74b191e69b4db.svg'/></td></tr></table>"
      ],
      "text/plain": [
       "<IPython.core.display.HTML object>"
      ]
     },
     "metadata": {},
     "output_type": "display_data"
    },
    {
     "name": "stdout",
     "output_type": "stream",
     "text": [
      "\n",
      "# experiments from exported_from_scout (57)\n",
      "# diversity score 0.552794703099146\n",
      "# score details\n",
      "{'alt_group_score': 0.0,\n",
      " 'pos_diff_score': 0.16224138411445316,\n",
      " 'rel_dist_diff_score': 0.11177389154188888,\n",
      " 'size_diff_score': 0.13938971372140196}\n"
     ]
    },
    {
     "data": {
      "text/html": [
       "<table><tr><td><img style='width:100px' src='./saved_designs/exported_from_scout (57)/saved_svgs/design-canvas-76c3faac7a3b468da89750b7d383a06a.svg'/></td>\n",
       "                               <td><img style='width:100px' src='./saved_designs/exported_from_scout (57)/saved_svgs/design-canvas-1417ed8f406445ecb533001d8ef9fa51.svg'/></td></tr></table>"
      ],
      "text/plain": [
       "<IPython.core.display.HTML object>"
      ]
     },
     "metadata": {},
     "output_type": "display_data"
    },
    {
     "name": "stdout",
     "output_type": "stream",
     "text": [
      "\n",
      "# experiments from exported_from_scout (27)\n",
      "# diversity score 0.5511605308845369\n",
      "# score details\n",
      "{'alt_group_score': 0.0,\n",
      " 'pos_diff_score': 0.15456965914232254,\n",
      " 'rel_dist_diff_score': 0.1306203889551541,\n",
      " 'size_diff_score': 0.13298524139353013}\n"
     ]
    },
    {
     "data": {
      "text/html": [
       "<table><tr><td><img style='width:100px' src='./saved_designs/exported_from_scout (27)/saved_svgs/design-canvas-c7c1d6eae7ca4644a29aa15a33cd4a1d.svg'/></td>\n",
       "                               <td><img style='width:100px' src='./saved_designs/exported_from_scout (27)/saved_svgs/design-canvas-a92d3607a3fb498398ed0437348cf368.svg'/></td></tr></table>"
      ],
      "text/plain": [
       "<IPython.core.display.HTML object>"
      ]
     },
     "metadata": {},
     "output_type": "display_data"
    },
    {
     "name": "stdout",
     "output_type": "stream",
     "text": [
      "\n",
      "# experiments from exported_from_scout (97)\n",
      "# diversity score 0.5484459230886245\n",
      "# score details\n",
      "{'alt_group_score': 0.0,\n",
      " 'pos_diff_score': 0.13004253479944422,\n",
      " 'rel_dist_diff_score': 0.07008110112352894,\n",
      " 'size_diff_score': 0.17416114358282567}\n"
     ]
    },
    {
     "data": {
      "text/html": [
       "<table><tr><td><img style='width:100px' src='./saved_designs/exported_from_scout (97)/import_these_into_xd/design-canvas-4749f58bb9d24fc99a15a0145fecb572.svg'/></td>\n",
       "                               <td><img style='width:100px' src='./saved_designs/exported_from_scout (97)/import_these_into_xd/design-canvas-062699f37400475cbba6dbfc4d6933b3.svg'/></td></tr></table>"
      ],
      "text/plain": [
       "<IPython.core.display.HTML object>"
      ]
     },
     "metadata": {},
     "output_type": "display_data"
    },
    {
     "name": "stdout",
     "output_type": "stream",
     "text": [
      "\n",
      "# experiments from exported_from_scout (27)\n",
      "# diversity score 0.5424272225169577\n",
      "# score details\n",
      "{'alt_group_score': 0.0,\n",
      " 'pos_diff_score': 0.18317312896042326,\n",
      " 'rel_dist_diff_score': 0.11422103152495897,\n",
      " 'size_diff_score': 0.12251653101578773}\n"
     ]
    },
    {
     "data": {
      "text/html": [
       "<table><tr><td><img style='width:100px' src='./saved_designs/exported_from_scout (27)/saved_svgs/design-canvas-9fc45ca457154bc19d99c5edcfbf3789.svg'/></td>\n",
       "                               <td><img style='width:100px' src='./saved_designs/exported_from_scout (27)/saved_svgs/design-canvas-2379e0aee985456a926b0cecfe11b6d6.svg'/></td></tr></table>"
      ],
      "text/plain": [
       "<IPython.core.display.HTML object>"
      ]
     },
     "metadata": {},
     "output_type": "display_data"
    },
    {
     "name": "stdout",
     "output_type": "stream",
     "text": [
      "\n",
      "# experiments from exported_from_scout (96)\n",
      "# diversity score 0.5391198532956081\n",
      "# score details\n",
      "{'alt_group_score': 0.0,\n",
      " 'pos_diff_score': 0.13258630014505826,\n",
      " 'rel_dist_diff_score': 0.07979455455114537,\n",
      " 'size_diff_score': 0.16336949929970224}\n"
     ]
    },
    {
     "data": {
      "text/html": [
       "<table><tr><td><img style='width:100px' src='./saved_designs/exported_from_scout (96)/import_these_into_xd/design-canvas-4f707855b72d4faca871652c16f40964.svg'/></td>\n",
       "                               <td><img style='width:100px' src='./saved_designs/exported_from_scout (96)/import_these_into_xd/design-canvas-eb2b5c26801f42d4aab4d1f1abe91579.svg'/></td></tr></table>"
      ],
      "text/plain": [
       "<IPython.core.display.HTML object>"
      ]
     },
     "metadata": {},
     "output_type": "display_data"
    },
    {
     "name": "stdout",
     "output_type": "stream",
     "text": [
      "\n",
      "# experiments from exported_from_scout (57)\n",
      "# diversity score 0.5220894671982379\n",
      "# score details\n",
      "{'alt_group_score': 0.0,\n",
      " 'pos_diff_score': 0.17984406361399508,\n",
      " 'rel_dist_diff_score': 0.1045777538102998,\n",
      " 'size_diff_score': 0.11883382488697151}\n"
     ]
    },
    {
     "data": {
      "text/html": [
       "<table><tr><td><img style='width:100px' src='./saved_designs/exported_from_scout (57)/saved_svgs/design-canvas-7c1f4a506b734056a357af024a21acbd.svg'/></td>\n",
       "                               <td><img style='width:100px' src='./saved_designs/exported_from_scout (57)/saved_svgs/design-canvas-76c3faac7a3b468da89750b7d383a06a.svg'/></td></tr></table>"
      ],
      "text/plain": [
       "<IPython.core.display.HTML object>"
      ]
     },
     "metadata": {},
     "output_type": "display_data"
    },
    {
     "name": "stdout",
     "output_type": "stream",
     "text": [
      "\n",
      "# experiments from exported_from_scout (52)\n",
      "# diversity score 0.5137117368877328\n",
      "# score details\n",
      "{'alt_group_score': 0.0,\n",
      " 'pos_diff_score': 0.16727037479365303,\n",
      " 'rel_dist_diff_score': 0.11731547765558253,\n",
      " 'size_diff_score': 0.11456294221924858}\n"
     ]
    },
    {
     "data": {
      "text/html": [
       "<table><tr><td><img style='width:100px' src='./saved_designs/exported_from_scout (52)/saved_svgs/design-canvas-a3e1d87bf50e4259b1ad3f8d85ee1601.svg'/></td>\n",
       "                               <td><img style='width:100px' src='./saved_designs/exported_from_scout (52)/saved_svgs/design-canvas-a5e89620c72146d9a8943c5d3c28934f.svg'/></td></tr></table>"
      ],
      "text/plain": [
       "<IPython.core.display.HTML object>"
      ]
     },
     "metadata": {},
     "output_type": "display_data"
    },
    {
     "name": "stdout",
     "output_type": "stream",
     "text": [
      "\n",
      "# experiments from exported_from_scout (27)\n",
      "# diversity score 0.4937128401629334\n",
      "# score details\n",
      "{'alt_group_score': 0.0,\n",
      " 'pos_diff_score': 0.1358257689422191,\n",
      " 'rel_dist_diff_score': 0.09926386090833589,\n",
      " 'size_diff_score': 0.1293116051561892}\n"
     ]
    },
    {
     "data": {
      "text/html": [
       "<table><tr><td><img style='width:100px' src='./saved_designs/exported_from_scout (27)/saved_svgs/design-canvas-a92d3607a3fb498398ed0437348cf368.svg'/></td>\n",
       "                               <td><img style='width:100px' src='./saved_designs/exported_from_scout (27)/saved_svgs/design-canvas-3d18296d94404f618556683f2407b007.svg'/></td></tr></table>"
      ],
      "text/plain": [
       "<IPython.core.display.HTML object>"
      ]
     },
     "metadata": {},
     "output_type": "display_data"
    },
    {
     "name": "stdout",
     "output_type": "stream",
     "text": [
      "\n",
      "# experiments from exported_from_scout (27)\n",
      "# diversity score 0.49264740110887933\n",
      "# score details\n",
      "{'alt_group_score': 0.0,\n",
      " 'pos_diff_score': 0.09861912014825765,\n",
      " 'rel_dist_diff_score': 0.07198822860433879,\n",
      " 'size_diff_score': 0.16102002617814146}\n"
     ]
    },
    {
     "data": {
      "text/html": [
       "<table><tr><td><img style='width:100px' src='./saved_designs/exported_from_scout (27)/saved_svgs/design-canvas-70242e15df9d48559e4c4e6903cfb320.svg'/></td>\n",
       "                               <td><img style='width:100px' src='./saved_designs/exported_from_scout (27)/saved_svgs/design-canvas-9fc45ca457154bc19d99c5edcfbf3789.svg'/></td></tr></table>"
      ],
      "text/plain": [
       "<IPython.core.display.HTML object>"
      ]
     },
     "metadata": {},
     "output_type": "display_data"
    },
    {
     "name": "stdout",
     "output_type": "stream",
     "text": [
      "\n",
      "# experiments from exported_from_scout (97)\n",
      "# diversity score 0.4919458407225337\n",
      "# score details\n",
      "{'alt_group_score': 0.0,\n",
      " 'pos_diff_score': 0.08947391405291892,\n",
      " 'rel_dist_diff_score': 0.05355395160570282,\n",
      " 'size_diff_score': 0.174458987531956}\n"
     ]
    },
    {
     "data": {
      "text/html": [
       "<table><tr><td><img style='width:100px' src='./saved_designs/exported_from_scout (97)/import_these_into_xd/design-canvas-4749f58bb9d24fc99a15a0145fecb572.svg'/></td>\n",
       "                               <td><img style='width:100px' src='./saved_designs/exported_from_scout (97)/import_these_into_xd/design-canvas-4ec926fa41894887bcf3ac1ac5af35f7.svg'/></td></tr></table>"
      ],
      "text/plain": [
       "<IPython.core.display.HTML object>"
      ]
     },
     "metadata": {},
     "output_type": "display_data"
    },
    {
     "name": "stdout",
     "output_type": "stream",
     "text": [
      "\n",
      "# experiments from exported_from_scout (97)\n",
      "# diversity score 0.46648453948869273\n",
      "# score details\n",
      "{'alt_group_score': 0.0,\n",
      " 'pos_diff_score': 0.16048892272010795,\n",
      " 'rel_dist_diff_score': 0.10490541956605672,\n",
      " 'size_diff_score': 0.10054509860126402}\n"
     ]
    },
    {
     "data": {
      "text/html": [
       "<table><tr><td><img style='width:100px' src='./saved_designs/exported_from_scout (97)/import_these_into_xd/design-canvas-f0dc6cec5324477290180c56fda9aeb1.svg'/></td>\n",
       "                               <td><img style='width:100px' src='./saved_designs/exported_from_scout (97)/import_these_into_xd/design-canvas-4749f58bb9d24fc99a15a0145fecb572.svg'/></td></tr></table>"
      ],
      "text/plain": [
       "<IPython.core.display.HTML object>"
      ]
     },
     "metadata": {},
     "output_type": "display_data"
    },
    {
     "name": "stdout",
     "output_type": "stream",
     "text": [
      "\n",
      "# experiments from exported_from_scout (57)\n",
      "# diversity score 0.4412085955169814\n",
      "# score details\n",
      "{'alt_group_score': 0.0,\n",
      " 'pos_diff_score': 0.10472858518476477,\n",
      " 'rel_dist_diff_score': 0.07315395759939855,\n",
      " 'size_diff_score': 0.13166302636640903}\n"
     ]
    },
    {
     "data": {
      "text/html": [
       "<table><tr><td><img style='width:100px' src='./saved_designs/exported_from_scout (57)/saved_svgs/design-canvas-7c1f4a506b734056a357af024a21acbd.svg'/></td>\n",
       "                               <td><img style='width:100px' src='./saved_designs/exported_from_scout (57)/saved_svgs/design-canvas-ad7a0da9fdd84b428da74b191e69b4db.svg'/></td></tr></table>"
      ],
      "text/plain": [
       "<IPython.core.display.HTML object>"
      ]
     },
     "metadata": {},
     "output_type": "display_data"
    },
    {
     "name": "stdout",
     "output_type": "stream",
     "text": [
      "\n",
      "# experiments from exported_from_scout (57)\n",
      "# diversity score 0.43992187611267064\n",
      "# score details\n",
      "{'alt_group_score': 0.0,\n",
      " 'pos_diff_score': 0.1586332633960636,\n",
      " 'rel_dist_diff_score': 0.11512109861345357,\n",
      " 'size_diff_score': 0.08308375705157671}\n"
     ]
    },
    {
     "data": {
      "text/html": [
       "<table><tr><td><img style='width:100px' src='./saved_designs/exported_from_scout (57)/saved_svgs/design-canvas-7c1f4a506b734056a357af024a21acbd.svg'/></td>\n",
       "                               <td><img style='width:100px' src='./saved_designs/exported_from_scout (57)/saved_svgs/design-canvas-1417ed8f406445ecb533001d8ef9fa51.svg'/></td></tr></table>"
      ],
      "text/plain": [
       "<IPython.core.display.HTML object>"
      ]
     },
     "metadata": {},
     "output_type": "display_data"
    },
    {
     "name": "stdout",
     "output_type": "stream",
     "text": [
      "\n",
      "# experiments from exported_from_scout (27)\n",
      "# diversity score 0.3474764055755152\n",
      "# score details\n",
      "{'alt_group_score': 0.0,\n",
      " 'pos_diff_score': 0.09559726853286589,\n",
      " 'rel_dist_diff_score': 0.07665997603003367,\n",
      " 'size_diff_score': 0.0876095805063078}\n"
     ]
    },
    {
     "data": {
      "text/html": [
       "<table><tr><td><img style='width:100px' src='./saved_designs/exported_from_scout (27)/saved_svgs/design-canvas-c7c1d6eae7ca4644a29aa15a33cd4a1d.svg'/></td>\n",
       "                               <td><img style='width:100px' src='./saved_designs/exported_from_scout (27)/saved_svgs/design-canvas-3d18296d94404f618556683f2407b007.svg'/></td></tr></table>"
      ],
      "text/plain": [
       "<IPython.core.display.HTML object>"
      ]
     },
     "metadata": {},
     "output_type": "display_data"
    },
    {
     "name": "stdout",
     "output_type": "stream",
     "text": [
      "\n",
      "# experiments from exported_from_scout (97)\n",
      "# diversity score 0.3249338422902093\n",
      "# score details\n",
      "{'alt_group_score': 0.0,\n",
      " 'pos_diff_score': 0.08268761514429405,\n",
      " 'rel_dist_diff_score': 0.053735527472005364,\n",
      " 'size_diff_score': 0.09425534983695494}\n"
     ]
    },
    {
     "data": {
      "text/html": [
       "<table><tr><td><img style='width:100px' src='./saved_designs/exported_from_scout (97)/import_these_into_xd/design-canvas-4ec926fa41894887bcf3ac1ac5af35f7.svg'/></td>\n",
       "                               <td><img style='width:100px' src='./saved_designs/exported_from_scout (97)/import_these_into_xd/design-canvas-062699f37400475cbba6dbfc4d6933b3.svg'/></td></tr></table>"
      ],
      "text/plain": [
       "<IPython.core.display.HTML object>"
      ]
     },
     "metadata": {},
     "output_type": "display_data"
    },
    {
     "name": "stdout",
     "output_type": "stream",
     "text": [
      "\n"
     ]
    }
   ],
   "source": [
    "import cost_model\n",
    "import os\n",
    "import json\n",
    "import sys\n",
    "\n",
    "from pprint import pprint\n",
    "from IPython.display import SVG, display, HTML\n",
    "\n",
    "def show_svg(url1, url2):\n",
    "    display(HTML(\"\"\"<table><tr><td><img style='width:100px' src='{}'/></td>\n",
    "                               <td><img style='width:100px' src='{}'/></td></tr></table>\"\"\".format(url1, url2)))\n",
    "\n",
    "# the folder containing all exports\n",
    "export_dir = \"./saved_designs\"\n",
    "\n",
    "def load_design(design_dir):\n",
    "    \"\"\"the directory containing exported designs\"\"\"\n",
    "\n",
    "    design = {}\n",
    "    # load saved designs and trashed designs\n",
    "    with open(os.path.join(design_dir, \"saved.json\")) as f:\n",
    "        design[\"saved\"] = json.load(f)[\"saved\"]\n",
    "    with open(os.path.join(design_dir, \"trashed.json\")) as f:\n",
    "        design[\"trashed\"] = json.load(f)[\"trashed\"]\n",
    "\n",
    "    # load paths for saved svgs, relates to saved designs by their canvas ids\n",
    "    svg_dir = os.path.join(design_dir, \"saved_svgs\")\n",
    "    if not os.path.isdir(svg_dir):\n",
    "        svg_dir = os.path.join(design_dir, \"import_these_into_xd\")\n",
    "    design[\"svg_paths\"] = {}\n",
    "    for fname in os.listdir(svg_dir):\n",
    "        if fname.endswith(\".svg\"):\n",
    "            design_id = fname.split(\".\")[0].split(\"-\")[-1]\n",
    "            design[\"svg_paths\"][design_id] = os.path.join(svg_dir, fname)\n",
    "\n",
    "    design[\"dirname\"] = design_dir\n",
    "    return design\n",
    "\n",
    "def analyze_design(all_designs):\n",
    "    \"\"\" Analyze design scores from all saved apps, the scores are normalized across all designs\n",
    "        For each pair of saved designs in each file, display their diversity score as well as svgs\n",
    "        Inputs:\n",
    "            all_designs: a list of saved designs (saved.json)\n",
    "    \"\"\"\n",
    "    \n",
    "    raw_diversity_score = {}\n",
    "    \n",
    "    for exp_id, design in all_designs.items():   \n",
    "        \n",
    "        if len(design[\"saved\"]) == 1:\n",
    "            print(\"[error] this directory contains only 1 saved desigsn.\")\n",
    "            continue\n",
    "\n",
    "        for i in range(len(design[\"saved\"])):\n",
    "            for j in range(i + 1, len(design[\"saved\"])):\n",
    "                di, dj = design[\"saved\"][i], design[\"saved\"][j]\n",
    "                #diversity_score, diff = cost_model.compute_diversity_score(di[\"elements\"], dj[\"elements\"])\n",
    "                raw_diversity_score[(exp_id, i, j)] = cost_model.compute_unnormalized_diversity_score(\n",
    "                    di[\"elements\"], dj[\"elements\"])\n",
    "\n",
    "    final_scores = cost_model.normalize_diversity_scores(raw_diversity_score)\n",
    "    \n",
    "    design_pairs = []\n",
    "    for pair_id in final_scores:\n",
    "        exp_id, i,j = pair_id\n",
    "        score = (final_scores[pair_id][\"alt_group_score\"]\n",
    "                    + final_scores[pair_id][\"pos_diff_score\"] \n",
    "                    + final_scores[pair_id][\"rel_dist_diff_score\"] \n",
    "                    + 2 * final_scores[pair_id][\"size_diff_score\"])\n",
    "        design_pair = {\n",
    "            \"exp_id\": exp_id,\n",
    "            \"score\": score,\n",
    "            \"score_detail\": final_scores[pair_id],\n",
    "            \"di\": all_designs[exp_id][\"saved\"][i],\n",
    "            \"dj\": all_designs[exp_id][\"saved\"][j],\n",
    "        }\n",
    "        \n",
    "        design_pairs.append(design_pair)\n",
    "\n",
    "    design_pairs.sort(key=lambda x: x['score'], reverse=True)\n",
    "    for pair in design_pairs: \n",
    "        no_svg_to_display = False\n",
    "        exp_id = pair[\"exp_id\"]\n",
    "        di = pair['di']\n",
    "        dj = pair['dj']\n",
    "        for d in [di, dj]:\n",
    "            if d[\"id\"] not in all_designs[exp_id][\"svg_paths\"]:\n",
    "                #print(\"  [Error] no svg for id {}\".format(d[\"id\"]))\n",
    "                no_svg_to_display = True\n",
    "\n",
    "        if no_svg_to_display:\n",
    "            #print(\"  \" + design[\"dirname\"])\n",
    "            continue\n",
    "        score = pair['score']\n",
    "        score_detail = pair['score_detail']\n",
    "        print(\"# experiments from {}\".format(pair[\"exp_id\"]))\n",
    "        print(\"# diversity score {}\".format(score))\n",
    "        print(\"# score details\")\n",
    "        pprint(score_detail)\n",
    "\n",
    "        svg_i = all_designs[exp_id][\"svg_paths\"][di[\"id\"]]\n",
    "        svg_j = all_designs[exp_id][\"svg_paths\"][dj[\"id\"]]\n",
    "        show_svg(svg_i, svg_j)\n",
    "        print(\"\")\n",
    "            \n",
    "# iterate over all exported deisngs\n",
    "all_designs = {}\n",
    "for dirname in os.listdir(export_dir):\n",
    "    design_dir = os.path.join(export_dir, dirname)\n",
    "    if not os.path.isdir(design_dir):\n",
    "        continue\n",
    "    design = load_design(design_dir)\n",
    "    all_designs[dirname] = design\n",
    "    \n",
    "analyze_design(all_designs)"
   ]
  }
 ],
 "metadata": {
  "kernelspec": {
   "display_name": "Python 3",
   "language": "python",
   "name": "python3"
  },
  "language_info": {
   "codemirror_mode": {
    "name": "ipython",
    "version": 3
   },
   "file_extension": ".py",
   "mimetype": "text/x-python",
   "name": "python",
   "nbconvert_exporter": "python",
   "pygments_lexer": "ipython3",
   "version": "3.7.1"
  }
 },
 "nbformat": 4,
 "nbformat_minor": 2
}
