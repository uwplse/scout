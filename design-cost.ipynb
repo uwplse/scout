{
 "cells": [
  {
   "cell_type": "code",
   "execution_count": 10,
   "metadata": {
    "scrolled": false,
    "slideshow": {
     "slide_type": "-"
    }
   },
   "outputs": [
    {
     "name": "stdout",
     "output_type": "stream",
     "text": [
      "# experiments from 8_1_N_scout_social_media\n",
      "# diversity score 1.5197064082539327\n",
      "# score details\n",
      "{'alt_group_score': 0.0,\n",
      " 'pos_diff_score': 0.5541019831645061,\n",
      " 'rel_dist_diff_score': 0.4275553673449126,\n",
      " 'size_diff_score': 0.269024528872257}\n"
     ]
    },
    {
     "data": {
      "text/html": [
       "<table><tr><td><img style='width:100px' src='./saved_designs/social_media/8_1_N_scout_social_media/images/8_social_Alternative 2.png'/></td>\n",
       "                               <td><img style='width:100px' src='./saved_designs/social_media/8_1_N_scout_social_media/images/Original.png'/></td></tr></table>"
      ],
      "text/plain": [
       "<IPython.core.display.HTML object>"
      ]
     },
     "metadata": {},
     "output_type": "display_data"
    },
    {
     "name": "stdout",
     "output_type": "stream",
     "text": [
      "\n",
      "# experiments from 2_2_P_baseline_social_media\n",
      "# diversity score 1.4913118731470303\n",
      "# score details\n",
      "{'alt_group_score': 0.0,\n",
      " 'pos_diff_score': 0.5552563939529869,\n",
      " 'rel_dist_diff_score': 0.43369909124677825,\n",
      " 'size_diff_score': 0.25117819397363267}\n"
     ]
    },
    {
     "data": {
      "text/html": [
       "<table><tr><td><img style='width:100px' src='./saved_designs/social_media/2_2_P_baseline_social_media/images/2_social_Alternative 3.png'/></td>\n",
       "                               <td><img style='width:100px' src='./saved_designs/social_media/2_2_P_baseline_social_media/images/2_social_Alternative 1.png'/></td></tr></table>"
      ],
      "text/plain": [
       "<IPython.core.display.HTML object>"
      ]
     },
     "metadata": {},
     "output_type": "display_data"
    },
    {
     "name": "stdout",
     "output_type": "stream",
     "text": [
      "\n",
      "# experiments from 2_2_P_baseline_social_media\n",
      "# diversity score 1.4849441045127902\n",
      "# score details\n",
      "{'alt_group_score': 0.0,\n",
      " 'pos_diff_score': 0.7093628087161383,\n",
      " 'rel_dist_diff_score': 0.4301628573952028,\n",
      " 'size_diff_score': 0.1727092192007246}\n"
     ]
    },
    {
     "data": {
      "text/html": [
       "<table><tr><td><img style='width:100px' src='./saved_designs/social_media/2_2_P_baseline_social_media/images/2_social_Alternative 3.png'/></td>\n",
       "                               <td><img style='width:100px' src='./saved_designs/social_media/2_2_P_baseline_social_media/images/Original.png'/></td></tr></table>"
      ],
      "text/plain": [
       "<IPython.core.display.HTML object>"
      ]
     },
     "metadata": {},
     "output_type": "display_data"
    },
    {
     "name": "stdout",
     "output_type": "stream",
     "text": [
      "\n",
      "# experiments from 1_2_N_scout_social_media\n",
      "# diversity score 1.4811783462260548\n",
      "# score details\n",
      "{'alt_group_score': 0.0,\n",
      " 'pos_diff_score': 0.654065079598429,\n",
      " 'rel_dist_diff_score': 0.526672654755524,\n",
      " 'size_diff_score': 0.15022030593605099}\n"
     ]
    },
    {
     "data": {
      "text/html": [
       "<table><tr><td><img style='width:100px' src='./saved_designs/social_media/1_2_N_scout_social_media/images/1_socialAlternative 3.png'/></td>\n",
       "                               <td><img style='width:100px' src='./saved_designs/social_media/1_2_N_scout_social_media/images/Original.png'/></td></tr></table>"
      ],
      "text/plain": [
       "<IPython.core.display.HTML object>"
      ]
     },
     "metadata": {},
     "output_type": "display_data"
    },
    {
     "name": "stdout",
     "output_type": "stream",
     "text": [
      "\n",
      "# experiments from 8_1_N_scout_social_media\n",
      "# diversity score 1.4374112442962097\n",
      "# score details\n",
      "{'alt_group_score': 0.0,\n",
      " 'pos_diff_score': 0.6293403648769761,\n",
      " 'rel_dist_diff_score': 0.45511963067096944,\n",
      " 'size_diff_score': 0.17647562437413214}\n"
     ]
    },
    {
     "data": {
      "text/html": [
       "<table><tr><td><img style='width:100px' src='./saved_designs/social_media/8_1_N_scout_social_media/images/8_social_Alternative 1.png'/></td>\n",
       "                               <td><img style='width:100px' src='./saved_designs/social_media/8_1_N_scout_social_media/images/Original.png'/></td></tr></table>"
      ],
      "text/plain": [
       "<IPython.core.display.HTML object>"
      ]
     },
     "metadata": {},
     "output_type": "display_data"
    },
    {
     "name": "stdout",
     "output_type": "stream",
     "text": [
      "\n",
      "# experiments from 1_2_N_scout_social_media\n",
      "# diversity score 1.3484742312233864\n",
      "# score details\n",
      "{'alt_group_score': 0.0,\n",
      " 'pos_diff_score': 0.5883868450917862,\n",
      " 'rel_dist_diff_score': 0.3923600782261035,\n",
      " 'size_diff_score': 0.18386365395274837}\n"
     ]
    },
    {
     "data": {
      "text/html": [
       "<table><tr><td><img style='width:100px' src='./saved_designs/social_media/1_2_N_scout_social_media/images/1_social_Alternative 1.png'/></td>\n",
       "                               <td><img style='width:100px' src='./saved_designs/social_media/1_2_N_scout_social_media/images/Original.png'/></td></tr></table>"
      ],
      "text/plain": [
       "<IPython.core.display.HTML object>"
      ]
     },
     "metadata": {},
     "output_type": "display_data"
    },
    {
     "name": "stdout",
     "output_type": "stream",
     "text": [
      "\n",
      "# experiments from 2_2_P_baseline_social_media\n",
      "# diversity score 1.329872080228288\n",
      "# score details\n",
      "{'alt_group_score': 0.0,\n",
      " 'pos_diff_score': 0.5700948650280703,\n",
      " 'rel_dist_diff_score': 0.5125588913974175,\n",
      " 'size_diff_score': 0.12360916190140016}\n"
     ]
    },
    {
     "data": {
      "text/html": [
       "<table><tr><td><img style='width:100px' src='./saved_designs/social_media/2_2_P_baseline_social_media/images/2_social_Alternative 3.png'/></td>\n",
       "                               <td><img style='width:100px' src='./saved_designs/social_media/2_2_P_baseline_social_media/images/2_social_Alternative 2.png'/></td></tr></table>"
      ],
      "text/plain": [
       "<IPython.core.display.HTML object>"
      ]
     },
     "metadata": {},
     "output_type": "display_data"
    },
    {
     "name": "stdout",
     "output_type": "stream",
     "text": [
      "\n",
      "# experiments from 6_2_N_baseline_social_media\n",
      "# diversity score 1.2994190927274485\n",
      "# score details\n",
      "{'alt_group_score': 0.0,\n",
      " 'pos_diff_score': 0.6060068616856337,\n",
      " 'rel_dist_diff_score': 0.49783288191546127,\n",
      " 'size_diff_score': 0.09778967456317673}\n"
     ]
    },
    {
     "data": {
      "text/html": [
       "<table><tr><td><img style='width:100px' src='./saved_designs/social_media/6_2_N_baseline_social_media/images/6_social_Alternative 3.png'/></td>\n",
       "                               <td><img style='width:100px' src='./saved_designs/social_media/6_2_N_baseline_social_media/images/Original.png'/></td></tr></table>"
      ],
      "text/plain": [
       "<IPython.core.display.HTML object>"
      ]
     },
     "metadata": {},
     "output_type": "display_data"
    },
    {
     "name": "stdout",
     "output_type": "stream",
     "text": [
      "\n",
      "# experiments from 8_1_N_scout_social_media\n",
      "# diversity score 1.28209591369446\n",
      "# score details\n",
      "{'alt_group_score': 0.0,\n",
      " 'pos_diff_score': 0.5440675731586134,\n",
      " 'rel_dist_diff_score': 0.47297323391448076,\n",
      " 'size_diff_score': 0.13252755331068283}\n"
     ]
    },
    {
     "data": {
      "text/html": [
       "<table><tr><td><img style='width:100px' src='./saved_designs/social_media/8_1_N_scout_social_media/images/8_social_Alternative 3.png'/></td>\n",
       "                               <td><img style='width:100px' src='./saved_designs/social_media/8_1_N_scout_social_media/images/Original.png'/></td></tr></table>"
      ],
      "text/plain": [
       "<IPython.core.display.HTML object>"
      ]
     },
     "metadata": {},
     "output_type": "display_data"
    },
    {
     "name": "stdout",
     "output_type": "stream",
     "text": [
      "\n",
      "# experiments from 9_2_N_scout_social_media\n",
      "# diversity score 1.272615855068388\n",
      "# score details\n",
      "{'alt_group_score': 0.0,\n",
      " 'pos_diff_score': 0.37814264909268364,\n",
      " 'rel_dist_diff_score': 0.24162884651778235,\n",
      " 'size_diff_score': 0.326422179728961}\n"
     ]
    },
    {
     "data": {
      "text/html": [
       "<table><tr><td><img style='width:100px' src='./saved_designs/social_media/9_2_N_scout_social_media/images/9_social_Alternative 1.png'/></td>\n",
       "                               <td><img style='width:100px' src='./saved_designs/social_media/9_2_N_scout_social_media/images/9_social_Alternative 2.png'/></td></tr></table>"
      ],
      "text/plain": [
       "<IPython.core.display.HTML object>"
      ]
     },
     "metadata": {},
     "output_type": "display_data"
    },
    {
     "name": "stdout",
     "output_type": "stream",
     "text": [
      "\n",
      "# experiments from 11_1_P_scout_social_media\n",
      "# diversity score 1.246599152257437\n",
      "# score details\n",
      "{'alt_group_score': 0.0,\n",
      " 'pos_diff_score': 0.6191802072965835,\n",
      " 'rel_dist_diff_score': 0.3614327986852937,\n",
      " 'size_diff_score': 0.13299307313777983}\n"
     ]
    },
    {
     "data": {
      "text/html": [
       "<table><tr><td><img style='width:100px' src='./saved_designs/social_media/11_1_P_scout_social_media/images/11_social_Alternative 3.png'/></td>\n",
       "                               <td><img style='width:100px' src='./saved_designs/social_media/11_1_P_scout_social_media/images/11_social_Alternative 2.png'/></td></tr></table>"
      ],
      "text/plain": [
       "<IPython.core.display.HTML object>"
      ]
     },
     "metadata": {},
     "output_type": "display_data"
    },
    {
     "name": "stdout",
     "output_type": "stream",
     "text": [
      "\n",
      "# experiments from 13_2_P_scout_social_media\n",
      "# diversity score 1.2425354247361031\n",
      "# score details\n",
      "{'alt_group_score': 0.0,\n",
      " 'pos_diff_score': 0.3763981470322621,\n",
      " 'rel_dist_diff_score': 0.20503981079517802,\n",
      " 'size_diff_score': 0.3305487334543315}\n"
     ]
    },
    {
     "data": {
      "text/html": [
       "<table><tr><td><img style='width:100px' src='./saved_designs/social_media/13_2_P_scout_social_media/images/13_social_Alternative 1.png'/></td>\n",
       "                               <td><img style='width:100px' src='./saved_designs/social_media/13_2_P_scout_social_media/images/13_social_Alternative 2.png'/></td></tr></table>"
      ],
      "text/plain": [
       "<IPython.core.display.HTML object>"
      ]
     },
     "metadata": {},
     "output_type": "display_data"
    },
    {
     "name": "stdout",
     "output_type": "stream",
     "text": [
      "\n",
      "# experiments from 4_2_P_scout_social_media\n",
      "# diversity score 1.2050358664879346\n",
      "# score details\n",
      "{'alt_group_score': 0.0,\n",
      " 'pos_diff_score': 0.5958389081631579,\n",
      " 'rel_dist_diff_score': 0.43892260925601484,\n",
      " 'size_diff_score': 0.08513717453438098}\n"
     ]
    },
    {
     "data": {
      "text/html": [
       "<table><tr><td><img style='width:100px' src='./saved_designs/social_media/4_2_P_scout_social_media/images/4_social_Alternative 3.png'/></td>\n",
       "                               <td><img style='width:100px' src='./saved_designs/social_media/4_2_P_scout_social_media/images/Original.png'/></td></tr></table>"
      ],
      "text/plain": [
       "<IPython.core.display.HTML object>"
      ]
     },
     "metadata": {},
     "output_type": "display_data"
    },
    {
     "name": "stdout",
     "output_type": "stream",
     "text": [
      "\n",
      "# experiments from 1_2_N_scout_social_media\n",
      "# diversity score 1.190249818804486\n",
      "# score details\n",
      "{'alt_group_score': 0.0,\n",
      " 'pos_diff_score': 0.6555880451730082,\n",
      " 'rel_dist_diff_score': 0.3856867058054695,\n",
      " 'size_diff_score': 0.07448753391300428}\n"
     ]
    },
    {
     "data": {
      "text/html": [
       "<table><tr><td><img style='width:100px' src='./saved_designs/social_media/1_2_N_scout_social_media/images/1_social_Alternative 1.png'/></td>\n",
       "                               <td><img style='width:100px' src='./saved_designs/social_media/1_2_N_scout_social_media/images/1_social_Alternative 2.png'/></td></tr></table>"
      ],
      "text/plain": [
       "<IPython.core.display.HTML object>"
      ]
     },
     "metadata": {},
     "output_type": "display_data"
    },
    {
     "name": "stdout",
     "output_type": "stream",
     "text": [
      "\n",
      "# experiments from 1_2_N_scout_social_media\n",
      "# diversity score 1.151591931949367\n",
      "# score details\n",
      "{'alt_group_score': 0.0,\n",
      " 'pos_diff_score': 0.38406451275986114,\n",
      " 'rel_dist_diff_score': 0.36014081705677553,\n",
      " 'size_diff_score': 0.20369330106636516}\n"
     ]
    },
    {
     "data": {
      "text/html": [
       "<table><tr><td><img style='width:100px' src='./saved_designs/social_media/1_2_N_scout_social_media/images/1_socialAlternative 3.png'/></td>\n",
       "                               <td><img style='width:100px' src='./saved_designs/social_media/1_2_N_scout_social_media/images/1_social_Alternative 1.png'/></td></tr></table>"
      ],
      "text/plain": [
       "<IPython.core.display.HTML object>"
      ]
     },
     "metadata": {},
     "output_type": "display_data"
    },
    {
     "name": "stdout",
     "output_type": "stream",
     "text": [
      "\n",
      "# experiments from 9_2_N_scout_social_media\n",
      "# diversity score 1.1474377807364828\n",
      "# score details\n",
      "{'alt_group_score': 0.0,\n",
      " 'pos_diff_score': 0.2883241757959064,\n",
      " 'rel_dist_diff_score': 0.24497321114368062,\n",
      " 'size_diff_score': 0.3070701968984479}\n"
     ]
    },
    {
     "data": {
      "text/html": [
       "<table><tr><td><img style='width:100px' src='./saved_designs/social_media/9_2_N_scout_social_media/images/9_social_Alternative 2.png'/></td>\n",
       "                               <td><img style='width:100px' src='./saved_designs/social_media/9_2_N_scout_social_media/images/Original.png'/></td></tr></table>"
      ],
      "text/plain": [
       "<IPython.core.display.HTML object>"
      ]
     },
     "metadata": {},
     "output_type": "display_data"
    },
    {
     "name": "stdout",
     "output_type": "stream",
     "text": [
      "\n",
      "# experiments from 6_2_N_baseline_social_media\n",
      "# diversity score 1.1325131706905094\n",
      "# score details\n",
      "{'alt_group_score': 0.0,\n",
      " 'pos_diff_score': 0.5642689982603201,\n",
      " 'rel_dist_diff_score': 0.4816472213239197,\n",
      " 'size_diff_score': 0.043298475553134784}\n"
     ]
    },
    {
     "data": {
      "text/html": [
       "<table><tr><td><img style='width:100px' src='./saved_designs/social_media/6_2_N_baseline_social_media/images/6_social_Alternative 3.png'/></td>\n",
       "                               <td><img style='width:100px' src='./saved_designs/social_media/6_2_N_baseline_social_media/images/6_social_Alternative 1.png'/></td></tr></table>"
      ],
      "text/plain": [
       "<IPython.core.display.HTML object>"
      ]
     },
     "metadata": {},
     "output_type": "display_data"
    },
    {
     "name": "stdout",
     "output_type": "stream",
     "text": [
      "\n",
      "# experiments from 10_2_N_baseline_social_media\n",
      "# diversity score 1.1267735337772107\n",
      "# score details\n",
      "{'alt_group_score': 0.0,\n",
      " 'pos_diff_score': 0.5227120834334802,\n",
      " 'rel_dist_diff_score': 0.38034152004594096,\n",
      " 'size_diff_score': 0.11185996514889474}\n"
     ]
    },
    {
     "data": {
      "text/html": [
       "<table><tr><td><img style='width:100px' src='./saved_designs/social_media/10_2_N_baseline_social_media/images/10_social_Alternative 2.png'/></td>\n",
       "                               <td><img style='width:100px' src='./saved_designs/social_media/10_2_N_baseline_social_media/images/Original.png'/></td></tr></table>"
      ],
      "text/plain": [
       "<IPython.core.display.HTML object>"
      ]
     },
     "metadata": {},
     "output_type": "display_data"
    },
    {
     "name": "stdout",
     "output_type": "stream",
     "text": [
      "\n",
      "# experiments from 10_2_N_baseline_social_media\n",
      "# diversity score 1.0600101262647794\n",
      "# score details\n",
      "{'alt_group_score': 0.0,\n",
      " 'pos_diff_score': 0.5303615937247227,\n",
      " 'rel_dist_diff_score': 0.44497102711686193,\n",
      " 'size_diff_score': 0.042338752711597386}\n"
     ]
    },
    {
     "data": {
      "text/html": [
       "<table><tr><td><img style='width:100px' src='./saved_designs/social_media/10_2_N_baseline_social_media/images/10_social_Alternative 1.png'/></td>\n",
       "                               <td><img style='width:100px' src='./saved_designs/social_media/10_2_N_baseline_social_media/images/10_social_Alternative 2.png'/></td></tr></table>"
      ],
      "text/plain": [
       "<IPython.core.display.HTML object>"
      ]
     },
     "metadata": {},
     "output_type": "display_data"
    },
    {
     "name": "stdout",
     "output_type": "stream",
     "text": [
      "\n",
      "# experiments from 13_2_P_scout_social_media\n",
      "# diversity score 1.0499105548183274\n",
      "# score details\n",
      "{'alt_group_score': 0.0,\n",
      " 'pos_diff_score': 0.2738052074164723,\n",
      " 'rel_dist_diff_score': 0.2268797549979725,\n",
      " 'size_diff_score': 0.27461279620194134}\n"
     ]
    },
    {
     "data": {
      "text/html": [
       "<table><tr><td><img style='width:100px' src='./saved_designs/social_media/13_2_P_scout_social_media/images/13_social_Alternative 3.png'/></td>\n",
       "                               <td><img style='width:100px' src='./saved_designs/social_media/13_2_P_scout_social_media/images/13_social_Alternative 2.png'/></td></tr></table>"
      ],
      "text/plain": [
       "<IPython.core.display.HTML object>"
      ]
     },
     "metadata": {},
     "output_type": "display_data"
    },
    {
     "name": "stdout",
     "output_type": "stream",
     "text": [
      "\n",
      "# experiments from 13_2_P_scout_social_media\n",
      "# diversity score 1.0105414547370775\n",
      "# score details\n",
      "{'alt_group_score': 0.0,\n",
      " 'pos_diff_score': 0.3212898399370861,\n",
      " 'rel_dist_diff_score': 0.26037254446628716,\n",
      " 'size_diff_score': 0.21443953516685207}\n"
     ]
    },
    {
     "data": {
      "text/html": [
       "<table><tr><td><img style='width:100px' src='./saved_designs/social_media/13_2_P_scout_social_media/images/13_social_Alternative 3.png'/></td>\n",
       "                               <td><img style='width:100px' src='./saved_designs/social_media/13_2_P_scout_social_media/images/13_social_Alternative 1.png'/></td></tr></table>"
      ],
      "text/plain": [
       "<IPython.core.display.HTML object>"
      ]
     },
     "metadata": {},
     "output_type": "display_data"
    },
    {
     "name": "stdout",
     "output_type": "stream",
     "text": [
      "\n",
      "# experiments from 6_2_N_baseline_social_media\n",
      "# diversity score 1.0036385589660213\n",
      "# score details\n",
      "{'alt_group_score': 0.0,\n",
      " 'pos_diff_score': 0.4689360170519676,\n",
      " 'rel_dist_diff_score': 0.33205845844536847,\n",
      " 'size_diff_score': 0.10132204173434259}\n"
     ]
    },
    {
     "data": {
      "text/html": [
       "<table><tr><td><img style='width:100px' src='./saved_designs/social_media/6_2_N_baseline_social_media/images/6_social_Alternative 3.png'/></td>\n",
       "                               <td><img style='width:100px' src='./saved_designs/social_media/6_2_N_baseline_social_media/images/6_social_Alternative 2.png'/></td></tr></table>"
      ],
      "text/plain": [
       "<IPython.core.display.HTML object>"
      ]
     },
     "metadata": {},
     "output_type": "display_data"
    },
    {
     "name": "stdout",
     "output_type": "stream",
     "text": [
      "\n",
      "# experiments from 11_1_P_scout_social_media\n",
      "# diversity score 0.9954006497944513\n",
      "# score details\n",
      "{'alt_group_score': 0.0,\n",
      " 'pos_diff_score': 0.4986951990289909,\n",
      " 'rel_dist_diff_score': 0.33979686926502173,\n",
      " 'size_diff_score': 0.07845429075021931}\n"
     ]
    },
    {
     "data": {
      "text/html": [
       "<table><tr><td><img style='width:100px' src='./saved_designs/social_media/11_1_P_scout_social_media/images/11_social_Alternative 2.png'/></td>\n",
       "                               <td><img style='width:100px' src='./saved_designs/social_media/11_1_P_scout_social_media/images/Original.png'/></td></tr></table>"
      ],
      "text/plain": [
       "<IPython.core.display.HTML object>"
      ]
     },
     "metadata": {},
     "output_type": "display_data"
    },
    {
     "name": "stdout",
     "output_type": "stream",
     "text": [
      "\n",
      "# experiments from 13_2_P_scout_social_media\n",
      "# diversity score 0.985944801017496\n",
      "# score details\n",
      "{'alt_group_score': 0.0,\n",
      " 'pos_diff_score': 0.2929721883789488,\n",
      " 'rel_dist_diff_score': 0.24997685530105132,\n",
      " 'size_diff_score': 0.22149787866874796}\n"
     ]
    },
    {
     "data": {
      "text/html": [
       "<table><tr><td><img style='width:100px' src='./saved_designs/social_media/13_2_P_scout_social_media/images/13_social_Alternative 1.png'/></td>\n",
       "                               <td><img style='width:100px' src='./saved_designs/social_media/13_2_P_scout_social_media/images/Original.png'/></td></tr></table>"
      ],
      "text/plain": [
       "<IPython.core.display.HTML object>"
      ]
     },
     "metadata": {},
     "output_type": "display_data"
    },
    {
     "name": "stdout",
     "output_type": "stream",
     "text": [
      "\n",
      "# experiments from 1_2_N_scout_social_media\n",
      "# diversity score 0.9834639453078979\n",
      "# score details\n",
      "{'alt_group_score': 0.0,\n",
      " 'pos_diff_score': 0.32135584127320077,\n",
      " 'rel_dist_diff_score': 0.2727803041299572,\n",
      " 'size_diff_score': 0.19466389995236996}\n"
     ]
    },
    {
     "data": {
      "text/html": [
       "<table><tr><td><img style='width:100px' src='./saved_designs/social_media/1_2_N_scout_social_media/images/1_social_Alternative 2.png'/></td>\n",
       "                               <td><img style='width:100px' src='./saved_designs/social_media/1_2_N_scout_social_media/images/Original.png'/></td></tr></table>"
      ],
      "text/plain": [
       "<IPython.core.display.HTML object>"
      ]
     },
     "metadata": {},
     "output_type": "display_data"
    },
    {
     "name": "stdout",
     "output_type": "stream",
     "text": [
      "\n",
      "# experiments from 1_2_N_scout_social_media\n",
      "# diversity score 0.9777802961814723\n",
      "# score details\n",
      "{'alt_group_score': 0.0,\n",
      " 'pos_diff_score': 0.4385412711605056,\n",
      " 'rel_dist_diff_score': 0.3396940312123281,\n",
      " 'size_diff_score': 0.09977249690431932}\n"
     ]
    },
    {
     "data": {
      "text/html": [
       "<table><tr><td><img style='width:100px' src='./saved_designs/social_media/1_2_N_scout_social_media/images/1_socialAlternative 3.png'/></td>\n",
       "                               <td><img style='width:100px' src='./saved_designs/social_media/1_2_N_scout_social_media/images/1_social_Alternative 2.png'/></td></tr></table>"
      ],
      "text/plain": [
       "<IPython.core.display.HTML object>"
      ]
     },
     "metadata": {},
     "output_type": "display_data"
    },
    {
     "name": "stdout",
     "output_type": "stream",
     "text": [
      "\n",
      "# experiments from 4_2_P_scout_social_media\n",
      "# diversity score 0.9736630061662277\n",
      "# score details\n",
      "{'alt_group_score': 0.0,\n",
      " 'pos_diff_score': 0.5009280728510596,\n",
      " 'rel_dist_diff_score': 0.36179824422793927,\n",
      " 'size_diff_score': 0.05546834454361443}\n"
     ]
    },
    {
     "data": {
      "text/html": [
       "<table><tr><td><img style='width:100px' src='./saved_designs/social_media/4_2_P_scout_social_media/images/4_social_Alternative 3.png'/></td>\n",
       "                               <td><img style='width:100px' src='./saved_designs/social_media/4_2_P_scout_social_media/images/4_social_Alternative 1.png'/></td></tr></table>"
      ],
      "text/plain": [
       "<IPython.core.display.HTML object>"
      ]
     },
     "metadata": {},
     "output_type": "display_data"
    },
    {
     "name": "stdout",
     "output_type": "stream",
     "text": [
      "\n",
      "# experiments from 11_1_P_scout_social_media\n",
      "# diversity score 0.9571160093817555\n",
      "# score details\n",
      "{'alt_group_score': 0.0,\n",
      " 'pos_diff_score': 0.5968931728238133,\n",
      " 'rel_dist_diff_score': 0.1516835159046245,\n",
      " 'size_diff_score': 0.10426966032665884}\n"
     ]
    },
    {
     "data": {
      "text/html": [
       "<table><tr><td><img style='width:100px' src='./saved_designs/social_media/11_1_P_scout_social_media/images/11_social_Alternative 1.png'/></td>\n",
       "                               <td><img style='width:100px' src='./saved_designs/social_media/11_1_P_scout_social_media/images/11_social_Alternative 2.png'/></td></tr></table>"
      ],
      "text/plain": [
       "<IPython.core.display.HTML object>"
      ]
     },
     "metadata": {},
     "output_type": "display_data"
    },
    {
     "name": "stdout",
     "output_type": "stream",
     "text": [
      "\n",
      "# experiments from 2_2_P_baseline_social_media\n",
      "# diversity score 0.950571175403124\n",
      "# score details\n",
      "{'alt_group_score': 0.0,\n",
      " 'pos_diff_score': 0.5084689373405993,\n",
      " 'rel_dist_diff_score': 0.25559020485524864,\n",
      " 'size_diff_score': 0.09325601660363801}\n"
     ]
    },
    {
     "data": {
      "text/html": [
       "<table><tr><td><img style='width:100px' src='./saved_designs/social_media/2_2_P_baseline_social_media/images/2_social_Alternative 1.png'/></td>\n",
       "                               <td><img style='width:100px' src='./saved_designs/social_media/2_2_P_baseline_social_media/images/2_social_Alternative 2.png'/></td></tr></table>"
      ],
      "text/plain": [
       "<IPython.core.display.HTML object>"
      ]
     },
     "metadata": {},
     "output_type": "display_data"
    },
    {
     "name": "stdout",
     "output_type": "stream",
     "text": [
      "\n",
      "# experiments from 2_2_P_baseline_social_media\n",
      "# diversity score 0.9375961442744045\n",
      "# score details\n",
      "{'alt_group_score': 0.0,\n",
      " 'pos_diff_score': 0.3431941003168081,\n",
      " 'rel_dist_diff_score': 0.2600986817881024,\n",
      " 'size_diff_score': 0.16715168108474698}\n"
     ]
    },
    {
     "data": {
      "text/html": [
       "<table><tr><td><img style='width:100px' src='./saved_designs/social_media/2_2_P_baseline_social_media/images/2_social_Alternative 2.png'/></td>\n",
       "                               <td><img style='width:100px' src='./saved_designs/social_media/2_2_P_baseline_social_media/images/Original.png'/></td></tr></table>"
      ],
      "text/plain": [
       "<IPython.core.display.HTML object>"
      ]
     },
     "metadata": {},
     "output_type": "display_data"
    },
    {
     "name": "stdout",
     "output_type": "stream",
     "text": [
      "\n",
      "# experiments from 4_2_P_scout_social_media\n",
      "# diversity score 0.9151417348951048\n",
      "# score details\n",
      "{'alt_group_score': 0.0,\n",
      " 'pos_diff_score': 0.413132003596044,\n",
      " 'rel_dist_diff_score': 0.29921366470709104,\n",
      " 'size_diff_score': 0.10139803329598482}\n"
     ]
    },
    {
     "data": {
      "text/html": [
       "<table><tr><td><img style='width:100px' src='./saved_designs/social_media/4_2_P_scout_social_media/images/4_social_Alternative 2.png'/></td>\n",
       "                               <td><img style='width:100px' src='./saved_designs/social_media/4_2_P_scout_social_media/images/Original.png'/></td></tr></table>"
      ],
      "text/plain": [
       "<IPython.core.display.HTML object>"
      ]
     },
     "metadata": {},
     "output_type": "display_data"
    },
    {
     "name": "stdout",
     "output_type": "stream",
     "text": [
      "\n",
      "# experiments from 15_2_P_baseline_social_media\n",
      "# diversity score 0.9149003984868989\n",
      "# score details\n",
      "{'alt_group_score': 0.0,\n",
      " 'pos_diff_score': 0.33120558832062275,\n",
      " 'rel_dist_diff_score': 0.2409130647127978,\n",
      " 'size_diff_score': 0.1713908727267391}\n"
     ]
    },
    {
     "data": {
      "text/html": [
       "<table><tr><td><img style='width:100px' src='./saved_designs/social_media/15_2_P_baseline_social_media/images/15_social_Alternative 3.png'/></td>\n",
       "                               <td><img style='width:100px' src='./saved_designs/social_media/15_2_P_baseline_social_media/images/Original.png'/></td></tr></table>"
      ],
      "text/plain": [
       "<IPython.core.display.HTML object>"
      ]
     },
     "metadata": {},
     "output_type": "display_data"
    },
    {
     "name": "stdout",
     "output_type": "stream",
     "text": [
      "\n",
      "# experiments from 8_1_N_scout_social_media\n",
      "# diversity score 0.9030711626999497\n",
      "# score details\n",
      "{'alt_group_score': 0.0,\n",
      " 'pos_diff_score': 0.30233946548488255,\n",
      " 'rel_dist_diff_score': 0.2753066429618037,\n",
      " 'size_diff_score': 0.16271252712663176}\n"
     ]
    },
    {
     "data": {
      "text/html": [
       "<table><tr><td><img style='width:100px' src='./saved_designs/social_media/8_1_N_scout_social_media/images/8_social_Alternative 3.png'/></td>\n",
       "                               <td><img style='width:100px' src='./saved_designs/social_media/8_1_N_scout_social_media/images/8_social_Alternative 1.png'/></td></tr></table>"
      ],
      "text/plain": [
       "<IPython.core.display.HTML object>"
      ]
     },
     "metadata": {},
     "output_type": "display_data"
    },
    {
     "name": "stdout",
     "output_type": "stream",
     "text": [
      "\n",
      "# experiments from 8_1_N_scout_social_media\n",
      "# diversity score 0.8630162752393113\n",
      "# score details\n",
      "{'alt_group_score': 0.0,\n",
      " 'pos_diff_score': 0.24861440318472292,\n",
      " 'rel_dist_diff_score': 0.2575510238581131,\n",
      " 'size_diff_score': 0.17842542409823764}\n"
     ]
    },
    {
     "data": {
      "text/html": [
       "<table><tr><td><img style='width:100px' src='./saved_designs/social_media/8_1_N_scout_social_media/images/8_social_Alternative 3.png'/></td>\n",
       "                               <td><img style='width:100px' src='./saved_designs/social_media/8_1_N_scout_social_media/images/8_social_Alternative 2.png'/></td></tr></table>"
      ],
      "text/plain": [
       "<IPython.core.display.HTML object>"
      ]
     },
     "metadata": {},
     "output_type": "display_data"
    },
    {
     "name": "stdout",
     "output_type": "stream",
     "text": [
      "\n",
      "# experiments from 13_2_P_scout_social_media\n",
      "# diversity score 0.8465963828819085\n",
      "# score details\n",
      "{'alt_group_score': 0.0,\n",
      " 'pos_diff_score': 0.20822184216583292,\n",
      " 'rel_dist_diff_score': 0.20688881666061829,\n",
      " 'size_diff_score': 0.2157428620277287}\n"
     ]
    },
    {
     "data": {
      "text/html": [
       "<table><tr><td><img style='width:100px' src='./saved_designs/social_media/13_2_P_scout_social_media/images/13_social_Alternative 3.png'/></td>\n",
       "                               <td><img style='width:100px' src='./saved_designs/social_media/13_2_P_scout_social_media/images/Original.png'/></td></tr></table>"
      ],
      "text/plain": [
       "<IPython.core.display.HTML object>"
      ]
     },
     "metadata": {},
     "output_type": "display_data"
    },
    {
     "name": "stdout",
     "output_type": "stream",
     "text": [
      "\n",
      "# experiments from 10_2_N_baseline_social_media\n",
      "# diversity score 0.7725694311590581\n",
      "# score details\n",
      "{'alt_group_score': 0.0,\n",
      " 'pos_diff_score': 0.428366500716772,\n",
      " 'rel_dist_diff_score': 0.3442029304422861,\n",
      " 'size_diff_score': 0.0}\n"
     ]
    },
    {
     "data": {
      "text/html": [
       "<table><tr><td><img style='width:100px' src='./saved_designs/social_media/10_2_N_baseline_social_media/images/10_social_Alternative 3.png'/></td>\n",
       "                               <td><img style='width:100px' src='./saved_designs/social_media/10_2_N_baseline_social_media/images/10_social_Alternative 2.png'/></td></tr></table>"
      ],
      "text/plain": [
       "<IPython.core.display.HTML object>"
      ]
     },
     "metadata": {},
     "output_type": "display_data"
    },
    {
     "name": "stdout",
     "output_type": "stream",
     "text": [
      "\n",
      "# experiments from 6_2_N_baseline_social_media\n",
      "# diversity score 0.7655021478013336\n",
      "# score details\n",
      "{'alt_group_score': 0.0,\n",
      " 'pos_diff_score': 0.32518485471321856,\n",
      " 'rel_dist_diff_score': 0.21222526235365832,\n",
      " 'size_diff_score': 0.11404601536722835}\n"
     ]
    },
    {
     "data": {
      "text/html": [
       "<table><tr><td><img style='width:100px' src='./saved_designs/social_media/6_2_N_baseline_social_media/images/6_social_Alternative 1.png'/></td>\n",
       "                               <td><img style='width:100px' src='./saved_designs/social_media/6_2_N_baseline_social_media/images/Original.png'/></td></tr></table>"
      ],
      "text/plain": [
       "<IPython.core.display.HTML object>"
      ]
     },
     "metadata": {},
     "output_type": "display_data"
    },
    {
     "name": "stdout",
     "output_type": "stream",
     "text": [
      "\n",
      "# experiments from 11_1_P_scout_social_media\n",
      "# diversity score 0.7624795490807009\n",
      "# score details\n",
      "{'alt_group_score': 0.0,\n",
      " 'pos_diff_score': 0.31764122540034717,\n",
      " 'rel_dist_diff_score': 0.2863467240467335,\n",
      " 'size_diff_score': 0.07924579981681014}\n"
     ]
    },
    {
     "data": {
      "text/html": [
       "<table><tr><td><img style='width:100px' src='./saved_designs/social_media/11_1_P_scout_social_media/images/11_social_Alternative 3.png'/></td>\n",
       "                               <td><img style='width:100px' src='./saved_designs/social_media/11_1_P_scout_social_media/images/11_social_Alternative 1.png'/></td></tr></table>"
      ],
      "text/plain": [
       "<IPython.core.display.HTML object>"
      ]
     },
     "metadata": {},
     "output_type": "display_data"
    },
    {
     "name": "stdout",
     "output_type": "stream",
     "text": [
      "\n",
      "# experiments from 13_2_P_scout_social_media\n",
      "# diversity score 0.754090819653602\n",
      "# score details\n",
      "{'alt_group_score': 0.0,\n",
      " 'pos_diff_score': 0.2970291281565022,\n",
      " 'rel_dist_diff_score': 0.16388443166028493,\n",
      " 'size_diff_score': 0.14658862991840743}\n"
     ]
    },
    {
     "data": {
      "text/html": [
       "<table><tr><td><img style='width:100px' src='./saved_designs/social_media/13_2_P_scout_social_media/images/13_social_Alternative 2.png'/></td>\n",
       "                               <td><img style='width:100px' src='./saved_designs/social_media/13_2_P_scout_social_media/images/Original.png'/></td></tr></table>"
      ],
      "text/plain": [
       "<IPython.core.display.HTML object>"
      ]
     },
     "metadata": {},
     "output_type": "display_data"
    },
    {
     "name": "stdout",
     "output_type": "stream",
     "text": [
      "\n",
      "# experiments from 11_1_P_scout_social_media\n",
      "# diversity score 0.7524143756177549\n",
      "# score details\n",
      "{'alt_group_score': 0.0,\n",
      " 'pos_diff_score': 0.281670609783405,\n",
      " 'rel_dist_diff_score': 0.2633481683409867,\n",
      " 'size_diff_score': 0.10369779874668163}\n"
     ]
    },
    {
     "data": {
      "text/html": [
       "<table><tr><td><img style='width:100px' src='./saved_designs/social_media/11_1_P_scout_social_media/images/11_social_Alternative 1.png'/></td>\n",
       "                               <td><img style='width:100px' src='./saved_designs/social_media/11_1_P_scout_social_media/images/Original.png'/></td></tr></table>"
      ],
      "text/plain": [
       "<IPython.core.display.HTML object>"
      ]
     },
     "metadata": {},
     "output_type": "display_data"
    },
    {
     "name": "stdout",
     "output_type": "stream",
     "text": [
      "\n",
      "# experiments from 6_2_N_baseline_social_media\n",
      "# diversity score 0.7514427253804752\n",
      "# score details\n",
      "{'alt_group_score': 0.0,\n",
      " 'pos_diff_score': 0.36190368298978687,\n",
      " 'rel_dist_diff_score': 0.20632989244461772,\n",
      " 'size_diff_score': 0.09160457497303533}\n"
     ]
    },
    {
     "data": {
      "text/html": [
       "<table><tr><td><img style='width:100px' src='./saved_designs/social_media/6_2_N_baseline_social_media/images/6_social_Alternative 1.png'/></td>\n",
       "                               <td><img style='width:100px' src='./saved_designs/social_media/6_2_N_baseline_social_media/images/6_social_Alternative 2.png'/></td></tr></table>"
      ],
      "text/plain": [
       "<IPython.core.display.HTML object>"
      ]
     },
     "metadata": {},
     "output_type": "display_data"
    },
    {
     "name": "stdout",
     "output_type": "stream",
     "text": [
      "\n",
      "# experiments from 17_1_P_baseline_social_media\n",
      "# diversity score 0.7446350179010114\n",
      "# score details\n",
      "{'alt_group_score': 0.0,\n",
      " 'pos_diff_score': 0.2879903401756826,\n",
      " 'rel_dist_diff_score': 0.23721877057985732,\n",
      " 'size_diff_score': 0.10971295357273575}\n"
     ]
    },
    {
     "data": {
      "text/html": [
       "<table><tr><td><img style='width:100px' src='./saved_designs/social_media/17_1_P_baseline_social_media/images/17_social_Alternative 3.png'/></td>\n",
       "                               <td><img style='width:100px' src='./saved_designs/social_media/17_1_P_baseline_social_media/images/17_social_Alternative 1.png'/></td></tr></table>"
      ],
      "text/plain": [
       "<IPython.core.display.HTML object>"
      ]
     },
     "metadata": {},
     "output_type": "display_data"
    },
    {
     "name": "stdout",
     "output_type": "stream",
     "text": [
      "\n",
      "# experiments from 17_1_P_baseline_social_media\n",
      "# diversity score 0.7440282495205326\n",
      "# score details\n",
      "{'alt_group_score': 0.0,\n",
      " 'pos_diff_score': 0.417637029467354,\n",
      " 'rel_dist_diff_score': 0.3263912200531786,\n",
      " 'size_diff_score': 0.0}\n"
     ]
    },
    {
     "data": {
      "text/html": [
       "<table><tr><td><img style='width:100px' src='./saved_designs/social_media/17_1_P_baseline_social_media/images/17_social_Alternative 3.png'/></td>\n",
       "                               <td><img style='width:100px' src='./saved_designs/social_media/17_1_P_baseline_social_media/images/17_social_Alternative 2.png'/></td></tr></table>"
      ],
      "text/plain": [
       "<IPython.core.display.HTML object>"
      ]
     },
     "metadata": {},
     "output_type": "display_data"
    },
    {
     "name": "stdout",
     "output_type": "stream",
     "text": [
      "\n",
      "# experiments from 5_1_N_baseline_social_media\n",
      "# diversity score 0.7400362271484324\n",
      "# score details\n",
      "{'alt_group_score': 0.0,\n",
      " 'pos_diff_score': 0.3412963251393366,\n",
      " 'rel_dist_diff_score': 0.16485396697256033,\n",
      " 'size_diff_score': 0.11694296751826773}\n"
     ]
    },
    {
     "data": {
      "text/html": [
       "<table><tr><td><img style='width:100px' src='./saved_designs/social_media/5_1_N_baseline_social_media/images/5_social_Alternative 3.png'/></td>\n",
       "                               <td><img style='width:100px' src='./saved_designs/social_media/5_1_N_baseline_social_media/images/Original.png'/></td></tr></table>"
      ],
      "text/plain": [
       "<IPython.core.display.HTML object>"
      ]
     },
     "metadata": {},
     "output_type": "display_data"
    },
    {
     "name": "stdout",
     "output_type": "stream",
     "text": [
      "\n",
      "# experiments from 9_2_N_scout_social_media\n",
      "# diversity score 0.7370297526037415\n",
      "# score details\n",
      "{'alt_group_score': 0.0,\n",
      " 'pos_diff_score': 0.25391020358333943,\n",
      " 'rel_dist_diff_score': 0.21293548166630963,\n",
      " 'size_diff_score': 0.1350920336770462}\n"
     ]
    },
    {
     "data": {
      "text/html": [
       "<table><tr><td><img style='width:100px' src='./saved_designs/social_media/9_2_N_scout_social_media/images/9_social_Alternative 3.png'/></td>\n",
       "                               <td><img style='width:100px' src='./saved_designs/social_media/9_2_N_scout_social_media/images/9_social_Alternative 2.png'/></td></tr></table>"
      ],
      "text/plain": [
       "<IPython.core.display.HTML object>"
      ]
     },
     "metadata": {},
     "output_type": "display_data"
    },
    {
     "name": "stdout",
     "output_type": "stream",
     "text": [
      "\n",
      "# experiments from 9_2_N_scout_social_media\n",
      "# diversity score 0.7308447837571742\n",
      "# score details\n",
      "{'alt_group_score': 0.0,\n",
      " 'pos_diff_score': 0.18496406683927774,\n",
      " 'rel_dist_diff_score': 0.16263844721288034,\n",
      " 'size_diff_score': 0.19162113485250806}\n"
     ]
    },
    {
     "data": {
      "text/html": [
       "<table><tr><td><img style='width:100px' src='./saved_designs/social_media/9_2_N_scout_social_media/images/9_social_Alternative 1.png'/></td>\n",
       "                               <td><img style='width:100px' src='./saved_designs/social_media/9_2_N_scout_social_media/images/Original.png'/></td></tr></table>"
      ],
      "text/plain": [
       "<IPython.core.display.HTML object>"
      ]
     },
     "metadata": {},
     "output_type": "display_data"
    },
    {
     "name": "stdout",
     "output_type": "stream",
     "text": [
      "\n",
      "# experiments from 18_1_N_scout_social_media\n",
      "# diversity score 0.7118734424990136\n",
      "# score details\n",
      "{'alt_group_score': 0.0,\n",
      " 'pos_diff_score': 0.19338430965454717,\n",
      " 'rel_dist_diff_score': 0.17735222870923995,\n",
      " 'size_diff_score': 0.17056845206761329}\n"
     ]
    },
    {
     "data": {
      "text/html": [
       "<table><tr><td><img style='width:100px' src='./saved_designs/social_media/18_1_N_scout_social_media/images/18_social_Alternative 2.png'/></td>\n",
       "                               <td><img style='width:100px' src='./saved_designs/social_media/18_1_N_scout_social_media/images/Original.png'/></td></tr></table>"
      ],
      "text/plain": [
       "<IPython.core.display.HTML object>"
      ]
     },
     "metadata": {},
     "output_type": "display_data"
    },
    {
     "name": "stdout",
     "output_type": "stream",
     "text": [
      "\n",
      "# experiments from 20_2_P_baseline_social_media\n",
      "# diversity score 0.7064720703673816\n",
      "# score details\n",
      "{'alt_group_score': 0.0,\n",
      " 'pos_diff_score': 0.29001732075578385,\n",
      " 'rel_dist_diff_score': 0.1810242178695653,\n",
      " 'size_diff_score': 0.11771526587101622}\n"
     ]
    },
    {
     "data": {
      "text/html": [
       "<table><tr><td><img style='width:100px' src='./saved_designs/social_media/20_2_P_baseline_social_media/images/20_social_Alternative 3.png'/></td>\n",
       "                               <td><img style='width:100px' src='./saved_designs/social_media/20_2_P_baseline_social_media/images/20_social_Alternative 2.png'/></td></tr></table>"
      ],
      "text/plain": [
       "<IPython.core.display.HTML object>"
      ]
     },
     "metadata": {},
     "output_type": "display_data"
    },
    {
     "name": "stdout",
     "output_type": "stream",
     "text": [
      "\n",
      "# experiments from 20_2_P_baseline_social_media\n",
      "# diversity score 0.6878057750423467\n",
      "# score details\n",
      "{'alt_group_score': 0.0,\n",
      " 'pos_diff_score': 0.2558700218433878,\n",
      " 'rel_dist_diff_score': 0.21388563769770866,\n",
      " 'size_diff_score': 0.10902505775062514}\n"
     ]
    },
    {
     "data": {
      "text/html": [
       "<table><tr><td><img style='width:100px' src='./saved_designs/social_media/20_2_P_baseline_social_media/images/20_social_Alternative 3.png'/></td>\n",
       "                               <td><img style='width:100px' src='./saved_designs/social_media/20_2_P_baseline_social_media/images/Original.png'/></td></tr></table>"
      ],
      "text/plain": [
       "<IPython.core.display.HTML object>"
      ]
     },
     "metadata": {},
     "output_type": "display_data"
    },
    {
     "name": "stdout",
     "output_type": "stream",
     "text": [
      "\n",
      "# experiments from 18_1_N_scout_social_media\n",
      "# diversity score 0.6858138105850542\n",
      "# score details\n",
      "{'alt_group_score': 0.0,\n",
      " 'pos_diff_score': 0.20092945675779322,\n",
      " 'rel_dist_diff_score': 0.1644022880479078,\n",
      " 'size_diff_score': 0.1602410328896766}\n"
     ]
    },
    {
     "data": {
      "text/html": [
       "<table><tr><td><img style='width:100px' src='./saved_designs/social_media/18_1_N_scout_social_media/images/18_social_Alternative 1.png'/></td>\n",
       "                               <td><img style='width:100px' src='./saved_designs/social_media/18_1_N_scout_social_media/images/Original.png'/></td></tr></table>"
      ],
      "text/plain": [
       "<IPython.core.display.HTML object>"
      ]
     },
     "metadata": {},
     "output_type": "display_data"
    },
    {
     "name": "stdout",
     "output_type": "stream",
     "text": [
      "\n",
      "# experiments from 20_2_P_baseline_social_media\n",
      "# diversity score 0.6851574538828558\n",
      "# score details\n",
      "{'alt_group_score': 0.0,\n",
      " 'pos_diff_score': 0.2501319921121131,\n",
      " 'rel_dist_diff_score': 0.21697534626949236,\n",
      " 'size_diff_score': 0.10902505775062514}\n"
     ]
    },
    {
     "data": {
      "text/html": [
       "<table><tr><td><img style='width:100px' src='./saved_designs/social_media/20_2_P_baseline_social_media/images/20_social_Alternative 1.png'/></td>\n",
       "                               <td><img style='width:100px' src='./saved_designs/social_media/20_2_P_baseline_social_media/images/Original.png'/></td></tr></table>"
      ],
      "text/plain": [
       "<IPython.core.display.HTML object>"
      ]
     },
     "metadata": {},
     "output_type": "display_data"
    },
    {
     "name": "stdout",
     "output_type": "stream",
     "text": [
      "\n",
      "# experiments from 15_2_P_baseline_social_media\n",
      "# diversity score 0.6753965183263915\n",
      "# score details\n",
      "{'alt_group_score': 0.0,\n",
      " 'pos_diff_score': 0.26560367056650996,\n",
      " 'rel_dist_diff_score': 0.2298665130262388,\n",
      " 'size_diff_score': 0.08996316736682139}\n"
     ]
    },
    {
     "data": {
      "text/html": [
       "<table><tr><td><img style='width:100px' src='./saved_designs/social_media/15_2_P_baseline_social_media/images/15_social_Alternative 2.png'/></td>\n",
       "                               <td><img style='width:100px' src='./saved_designs/social_media/15_2_P_baseline_social_media/images/Original.png'/></td></tr></table>"
      ],
      "text/plain": [
       "<IPython.core.display.HTML object>"
      ]
     },
     "metadata": {},
     "output_type": "display_data"
    },
    {
     "name": "stdout",
     "output_type": "stream",
     "text": [
      "\n",
      "# experiments from 20_2_P_baseline_social_media\n",
      "# diversity score 0.6617484147825773\n",
      "# score details\n",
      "{'alt_group_score': 0.0,\n",
      " 'pos_diff_score': 0.31575699983393196,\n",
      " 'rel_dist_diff_score': 0.11056088320661286,\n",
      " 'size_diff_score': 0.11771526587101622}\n"
     ]
    },
    {
     "data": {
      "text/html": [
       "<table><tr><td><img style='width:100px' src='./saved_designs/social_media/20_2_P_baseline_social_media/images/20_social_Alternative 1.png'/></td>\n",
       "                               <td><img style='width:100px' src='./saved_designs/social_media/20_2_P_baseline_social_media/images/20_social_Alternative 2.png'/></td></tr></table>"
      ],
      "text/plain": [
       "<IPython.core.display.HTML object>"
      ]
     },
     "metadata": {},
     "output_type": "display_data"
    },
    {
     "name": "stdout",
     "output_type": "stream",
     "text": [
      "\n",
      "# experiments from 17_1_P_baseline_social_media\n",
      "# diversity score 0.6419702012930213\n",
      "# score details\n",
      "{'alt_group_score': 0.0,\n",
      " 'pos_diff_score': 0.1606496916731603,\n",
      " 'rel_dist_diff_score': 0.16599547581972499,\n",
      " 'size_diff_score': 0.157662516900068}\n"
     ]
    },
    {
     "data": {
      "text/html": [
       "<table><tr><td><img style='width:100px' src='./saved_designs/social_media/17_1_P_baseline_social_media/images/17_social_Alternative 3.png'/></td>\n",
       "                               <td><img style='width:100px' src='./saved_designs/social_media/17_1_P_baseline_social_media/images/Original.png'/></td></tr></table>"
      ],
      "text/plain": [
       "<IPython.core.display.HTML object>"
      ]
     },
     "metadata": {},
     "output_type": "display_data"
    },
    {
     "name": "stdout",
     "output_type": "stream",
     "text": [
      "\n",
      "# experiments from 10_2_N_baseline_social_media\n",
      "# diversity score 0.6331844426941555\n",
      "# score details\n",
      "{'alt_group_score': 0.0,\n",
      " 'pos_diff_score': 0.2552646882151188,\n",
      " 'rel_dist_diff_score': 0.16564710595068638,\n",
      " 'size_diff_score': 0.10613632426417519}\n"
     ]
    },
    {
     "data": {
      "text/html": [
       "<table><tr><td><img style='width:100px' src='./saved_designs/social_media/10_2_N_baseline_social_media/images/10_social_Alternative 1.png'/></td>\n",
       "                               <td><img style='width:100px' src='./saved_designs/social_media/10_2_N_baseline_social_media/images/Original.png'/></td></tr></table>"
      ],
      "text/plain": [
       "<IPython.core.display.HTML object>"
      ]
     },
     "metadata": {},
     "output_type": "display_data"
    },
    {
     "name": "stdout",
     "output_type": "stream",
     "text": [
      "\n",
      "# experiments from 18_1_N_scout_social_media\n",
      "# diversity score 0.6309637805739985\n",
      "# score details\n",
      "{'alt_group_score': 0.0,\n",
      " 'pos_diff_score': 0.21347478842148637,\n",
      " 'rel_dist_diff_score': 0.18821432569793434,\n",
      " 'size_diff_score': 0.11463733322728892}\n"
     ]
    },
    {
     "data": {
      "text/html": [
       "<table><tr><td><img style='width:100px' src='./saved_designs/social_media/18_1_N_scout_social_media/images/18_social_Alternative 3.png'/></td>\n",
       "                               <td><img style='width:100px' src='./saved_designs/social_media/18_1_N_scout_social_media/images/Original.png'/></td></tr></table>"
      ],
      "text/plain": [
       "<IPython.core.display.HTML object>"
      ]
     },
     "metadata": {},
     "output_type": "display_data"
    },
    {
     "name": "stdout",
     "output_type": "stream",
     "text": [
      "\n",
      "# experiments from 9_2_N_scout_social_media\n",
      "# diversity score 0.6006281875180433\n",
      "# score details\n",
      "{'alt_group_score': 0.0,\n",
      " 'pos_diff_score': 0.126395258861745,\n",
      " 'rel_dist_diff_score': 0.12291283105858217,\n",
      " 'size_diff_score': 0.17566004879885802}\n"
     ]
    },
    {
     "data": {
      "text/html": [
       "<table><tr><td><img style='width:100px' src='./saved_designs/social_media/9_2_N_scout_social_media/images/9_social_Alternative 3.png'/></td>\n",
       "                               <td><img style='width:100px' src='./saved_designs/social_media/9_2_N_scout_social_media/images/Original.png'/></td></tr></table>"
      ],
      "text/plain": [
       "<IPython.core.display.HTML object>"
      ]
     },
     "metadata": {},
     "output_type": "display_data"
    },
    {
     "name": "stdout",
     "output_type": "stream",
     "text": [
      "\n",
      "# experiments from 17_1_P_baseline_social_media\n",
      "# diversity score 0.5991319971124708\n",
      "# score details\n",
      "{'alt_group_score': 0.0,\n",
      " 'pos_diff_score': 0.2070334723551271,\n",
      " 'rel_dist_diff_score': 0.16564290390759787,\n",
      " 'size_diff_score': 0.11322781042487289}\n"
     ]
    },
    {
     "data": {
      "text/html": [
       "<table><tr><td><img style='width:100px' src='./saved_designs/social_media/17_1_P_baseline_social_media/images/17_social_Alternative 1.png'/></td>\n",
       "                               <td><img style='width:100px' src='./saved_designs/social_media/17_1_P_baseline_social_media/images/Original.png'/></td></tr></table>"
      ],
      "text/plain": [
       "<IPython.core.display.HTML object>"
      ]
     },
     "metadata": {},
     "output_type": "display_data"
    },
    {
     "name": "stdout",
     "output_type": "stream",
     "text": [
      "\n",
      "# experiments from 4_2_P_scout_social_media\n",
      "# diversity score 0.599012847616767\n",
      "# score details\n",
      "{'alt_group_score': 0.0,\n",
      " 'pos_diff_score': 0.19716463309663784,\n",
      " 'rel_dist_diff_score': 0.19862345486612673,\n",
      " 'size_diff_score': 0.10161237982700123}\n"
     ]
    },
    {
     "data": {
      "text/html": [
       "<table><tr><td><img style='width:100px' src='./saved_designs/social_media/4_2_P_scout_social_media/images/4_social_Alternative 1.png'/></td>\n",
       "                               <td><img style='width:100px' src='./saved_designs/social_media/4_2_P_scout_social_media/images/Original.png'/></td></tr></table>"
      ],
      "text/plain": [
       "<IPython.core.display.HTML object>"
      ]
     },
     "metadata": {},
     "output_type": "display_data"
    },
    {
     "name": "stdout",
     "output_type": "stream",
     "text": [
      "\n",
      "# experiments from 15_2_P_baseline_social_media\n",
      "# diversity score 0.5972996438782259\n",
      "# score details\n",
      "{'alt_group_score': 0.0,\n",
      " 'pos_diff_score': 0.23212273292227112,\n",
      " 'rel_dist_diff_score': 0.185250576222312,\n",
      " 'size_diff_score': 0.08996316736682139}\n"
     ]
    },
    {
     "data": {
      "text/html": [
       "<table><tr><td><img style='width:100px' src='./saved_designs/social_media/15_2_P_baseline_social_media/images/15_social_Alternative 1.png'/></td>\n",
       "                               <td><img style='width:100px' src='./saved_designs/social_media/15_2_P_baseline_social_media/images/Original.png'/></td></tr></table>"
      ],
      "text/plain": [
       "<IPython.core.display.HTML object>"
      ]
     },
     "metadata": {},
     "output_type": "display_data"
    },
    {
     "name": "stdout",
     "output_type": "stream",
     "text": [
      "\n",
      "# experiments from 3_2_N_scout_social_media\n",
      "# diversity score 0.595449430679476\n",
      "# score details\n",
      "{'alt_group_score': 0.0,\n",
      " 'pos_diff_score': 0.20126032861518503,\n",
      " 'rel_dist_diff_score': 0.17698113827079376,\n",
      " 'size_diff_score': 0.1086039818967486}\n"
     ]
    },
    {
     "data": {
      "text/html": [
       "<table><tr><td><img style='width:100px' src='./saved_designs/social_media/3_2_N_scout_social_media/images/3_social_Alternative 3.png'/></td>\n",
       "                               <td><img style='width:100px' src='./saved_designs/social_media/3_2_N_scout_social_media/images/Original.png'/></td></tr></table>"
      ],
      "text/plain": [
       "<IPython.core.display.HTML object>"
      ]
     },
     "metadata": {},
     "output_type": "display_data"
    },
    {
     "name": "stdout",
     "output_type": "stream",
     "text": [
      "\n",
      "# experiments from 11_1_P_scout_social_media\n",
      "# diversity score 0.5794016372857198\n",
      "# score details\n",
      "{'alt_group_score': 0.0,\n",
      " 'pos_diff_score': 0.17772699623294785,\n",
      " 'rel_dist_diff_score': 0.15300193743379106,\n",
      " 'size_diff_score': 0.12433635180949043}\n"
     ]
    },
    {
     "data": {
      "text/html": [
       "<table><tr><td><img style='width:100px' src='./saved_designs/social_media/11_1_P_scout_social_media/images/11_social_Alternative 3.png'/></td>\n",
       "                               <td><img style='width:100px' src='./saved_designs/social_media/11_1_P_scout_social_media/images/Original.png'/></td></tr></table>"
      ],
      "text/plain": [
       "<IPython.core.display.HTML object>"
      ]
     },
     "metadata": {},
     "output_type": "display_data"
    },
    {
     "name": "stdout",
     "output_type": "stream",
     "text": [
      "\n",
      "# experiments from 17_1_P_baseline_social_media\n",
      "# diversity score 0.5792116863941006\n",
      "# score details\n",
      "{'alt_group_score': 0.0,\n",
      " 'pos_diff_score': 0.32238954344351756,\n",
      " 'rel_dist_diff_score': 0.25682214295058303,\n",
      " 'size_diff_score': 0.0}\n"
     ]
    },
    {
     "data": {
      "text/html": [
       "<table><tr><td><img style='width:100px' src='./saved_designs/social_media/17_1_P_baseline_social_media/images/17_social_Alternative 2.png'/></td>\n",
       "                               <td><img style='width:100px' src='./saved_designs/social_media/17_1_P_baseline_social_media/images/Original.png'/></td></tr></table>"
      ],
      "text/plain": [
       "<IPython.core.display.HTML object>"
      ]
     },
     "metadata": {},
     "output_type": "display_data"
    },
    {
     "name": "stdout",
     "output_type": "stream",
     "text": [
      "\n",
      "# experiments from 5_1_N_baseline_social_media\n",
      "# diversity score 0.5709521893897701\n",
      "# score details\n",
      "{'alt_group_score': 0.0,\n",
      " 'pos_diff_score': 0.22237817433147447,\n",
      " 'rel_dist_diff_score': 0.12464528073137865,\n",
      " 'size_diff_score': 0.11196436716345846}\n"
     ]
    },
    {
     "data": {
      "text/html": [
       "<table><tr><td><img style='width:100px' src='./saved_designs/social_media/5_1_N_baseline_social_media/images/5_social_Alternative 3.png'/></td>\n",
       "                               <td><img style='width:100px' src='./saved_designs/social_media/5_1_N_baseline_social_media/images/5_social_Alternative 2.png'/></td></tr></table>"
      ],
      "text/plain": [
       "<IPython.core.display.HTML object>"
      ]
     },
     "metadata": {},
     "output_type": "display_data"
    },
    {
     "name": "stdout",
     "output_type": "stream",
     "text": [
      "\n",
      "# experiments from 15_2_P_baseline_social_media\n",
      "# diversity score 0.564729179586746\n",
      "# score details\n",
      "{'alt_group_score': 0.0,\n",
      " 'pos_diff_score': 0.16122384117663283,\n",
      " 'rel_dist_diff_score': 0.10231951527116936,\n",
      " 'size_diff_score': 0.15059291156947185}\n"
     ]
    },
    {
     "data": {
      "text/html": [
       "<table><tr><td><img style='width:100px' src='./saved_designs/social_media/15_2_P_baseline_social_media/images/15_social_Alternative 3.png'/></td>\n",
       "                               <td><img style='width:100px' src='./saved_designs/social_media/15_2_P_baseline_social_media/images/15_social_Alternative 1.png'/></td></tr></table>"
      ],
      "text/plain": [
       "<IPython.core.display.HTML object>"
      ]
     },
     "metadata": {},
     "output_type": "display_data"
    },
    {
     "name": "stdout",
     "output_type": "stream",
     "text": [
      "\n",
      "# experiments from 6_2_N_baseline_social_media\n",
      "# diversity score 0.5644116323911007\n",
      "# score details\n",
      "{'alt_group_score': 0.0,\n",
      " 'pos_diff_score': 0.2258002348311064,\n",
      " 'rel_dist_diff_score': 0.20820382622419983,\n",
      " 'size_diff_score': 0.06520378566789724}\n"
     ]
    },
    {
     "data": {
      "text/html": [
       "<table><tr><td><img style='width:100px' src='./saved_designs/social_media/6_2_N_baseline_social_media/images/6_social_Alternative 2.png'/></td>\n",
       "                               <td><img style='width:100px' src='./saved_designs/social_media/6_2_N_baseline_social_media/images/Original.png'/></td></tr></table>"
      ],
      "text/plain": [
       "<IPython.core.display.HTML object>"
      ]
     },
     "metadata": {},
     "output_type": "display_data"
    },
    {
     "name": "stdout",
     "output_type": "stream",
     "text": [
      "\n",
      "# experiments from 9_2_N_scout_social_media\n",
      "# diversity score 0.5587236625902136\n",
      "# score details\n",
      "{'alt_group_score': 0.0,\n",
      " 'pos_diff_score': 0.1616046014867988,\n",
      " 'rel_dist_diff_score': 0.12792204200678187,\n",
      " 'size_diff_score': 0.13459850954831643}\n"
     ]
    },
    {
     "data": {
      "text/html": [
       "<table><tr><td><img style='width:100px' src='./saved_designs/social_media/9_2_N_scout_social_media/images/9_social_Alternative 3.png'/></td>\n",
       "                               <td><img style='width:100px' src='./saved_designs/social_media/9_2_N_scout_social_media/images/9_social_Alternative 1.png'/></td></tr></table>"
      ],
      "text/plain": [
       "<IPython.core.display.HTML object>"
      ]
     },
     "metadata": {},
     "output_type": "display_data"
    },
    {
     "name": "stdout",
     "output_type": "stream",
     "text": [
      "\n",
      "# experiments from 18_1_N_scout_social_media\n",
      "# diversity score 0.5583058425907216\n",
      "# score details\n",
      "{'alt_group_score': 0.0,\n",
      " 'pos_diff_score': 0.23589776290573977,\n",
      " 'rel_dist_diff_score': 0.14761785046526307,\n",
      " 'size_diff_score': 0.08739511460985937}\n"
     ]
    },
    {
     "data": {
      "text/html": [
       "<table><tr><td><img style='width:100px' src='./saved_designs/social_media/18_1_N_scout_social_media/images/18_social_Alternative 3.png'/></td>\n",
       "                               <td><img style='width:100px' src='./saved_designs/social_media/18_1_N_scout_social_media/images/18_social_Alternative 1.png'/></td></tr></table>"
      ],
      "text/plain": [
       "<IPython.core.display.HTML object>"
      ]
     },
     "metadata": {},
     "output_type": "display_data"
    },
    {
     "name": "stdout",
     "output_type": "stream",
     "text": [
      "\n",
      "# experiments from 7_1_P_baseline_social_media\n",
      "# diversity score 0.5564178868240591\n",
      "# score details\n",
      "{'alt_group_score': 0.0,\n",
      " 'pos_diff_score': 0.34638392045586847,\n",
      " 'rel_dist_diff_score': 0.2100339663681907,\n",
      " 'size_diff_score': 0.0}\n"
     ]
    },
    {
     "data": {
      "text/html": [
       "<table><tr><td><img style='width:100px' src='./saved_designs/social_media/7_1_P_baseline_social_media/images/7_social_Alternative 1.png'/></td>\n",
       "                               <td><img style='width:100px' src='./saved_designs/social_media/7_1_P_baseline_social_media/images/Original.png'/></td></tr></table>"
      ],
      "text/plain": [
       "<IPython.core.display.HTML object>"
      ]
     },
     "metadata": {},
     "output_type": "display_data"
    },
    {
     "name": "stdout",
     "output_type": "stream",
     "text": [
      "\n",
      "# experiments from 18_1_N_scout_social_media\n",
      "# diversity score 0.5482874245475937\n",
      "# score details\n",
      "{'alt_group_score': 0.0,\n",
      " 'pos_diff_score': 0.1622772895376106,\n",
      " 'rel_dist_diff_score': 0.14380522613322075,\n",
      " 'size_diff_score': 0.12110245443838122}\n"
     ]
    },
    {
     "data": {
      "text/html": [
       "<table><tr><td><img style='width:100px' src='./saved_designs/social_media/18_1_N_scout_social_media/images/18_social_Alternative 1.png'/></td>\n",
       "                               <td><img style='width:100px' src='./saved_designs/social_media/18_1_N_scout_social_media/images/18_social_Alternative 2.png'/></td></tr></table>"
      ],
      "text/plain": [
       "<IPython.core.display.HTML object>"
      ]
     },
     "metadata": {},
     "output_type": "display_data"
    },
    {
     "name": "stdout",
     "output_type": "stream",
     "text": [
      "\n",
      "# experiments from 20_2_P_baseline_social_media\n",
      "# diversity score 0.5449979840073729\n",
      "# score details\n",
      "{'alt_group_score': 0.0,\n",
      " 'pos_diff_score': 0.23687707167845537,\n",
      " 'rel_dist_diff_score': 0.15096844241122176,\n",
      " 'size_diff_score': 0.07857623495884784}\n"
     ]
    },
    {
     "data": {
      "text/html": [
       "<table><tr><td><img style='width:100px' src='./saved_designs/social_media/20_2_P_baseline_social_media/images/20_social_Alternative 2.png'/></td>\n",
       "                               <td><img style='width:100px' src='./saved_designs/social_media/20_2_P_baseline_social_media/images/Original.png'/></td></tr></table>"
      ],
      "text/plain": [
       "<IPython.core.display.HTML object>"
      ]
     },
     "metadata": {},
     "output_type": "display_data"
    },
    {
     "name": "stdout",
     "output_type": "stream",
     "text": [
      "\n",
      "# experiments from 16_1_P_scout_social_media\n",
      "# diversity score 0.5408952562145017\n",
      "# score details\n",
      "{'alt_group_score': 0.0,\n",
      " 'pos_diff_score': 0.13080749108597825,\n",
      " 'rel_dist_diff_score': 0.10850502889392911,\n",
      " 'size_diff_score': 0.1507913681172972}\n"
     ]
    },
    {
     "data": {
      "text/html": [
       "<table><tr><td><img style='width:100px' src='./saved_designs/social_media/16_1_P_scout_social_media/images/16_social_Alternative 3.png'/></td>\n",
       "                               <td><img style='width:100px' src='./saved_designs/social_media/16_1_P_scout_social_media/images/Original.png'/></td></tr></table>"
      ],
      "text/plain": [
       "<IPython.core.display.HTML object>"
      ]
     },
     "metadata": {},
     "output_type": "display_data"
    },
    {
     "name": "stdout",
     "output_type": "stream",
     "text": [
      "\n",
      "# experiments from 5_1_N_baseline_social_media\n",
      "# diversity score 0.5393310586363749\n",
      "# score details\n",
      "{'alt_group_score': 0.0,\n",
      " 'pos_diff_score': 0.17729712041756165,\n",
      " 'rel_dist_diff_score': 0.13454141085452634,\n",
      " 'size_diff_score': 0.11374626368214343}\n"
     ]
    },
    {
     "data": {
      "text/html": [
       "<table><tr><td><img style='width:100px' src='./saved_designs/social_media/5_1_N_baseline_social_media/images/5_social_Alternative 3.png'/></td>\n",
       "                               <td><img style='width:100px' src='./saved_designs/social_media/5_1_N_baseline_social_media/images/5_social_Alternative 1.png'/></td></tr></table>"
      ],
      "text/plain": [
       "<IPython.core.display.HTML object>"
      ]
     },
     "metadata": {},
     "output_type": "display_data"
    },
    {
     "name": "stdout",
     "output_type": "stream",
     "text": [
      "\n",
      "# experiments from 4_2_P_scout_social_media\n",
      "# diversity score 0.5376919216776092\n",
      "# score details\n",
      "{'alt_group_score': 0.0,\n",
      " 'pos_diff_score': 0.2333561988436333,\n",
      " 'rel_dist_diff_score': 0.17835302487205937,\n",
      " 'size_diff_score': 0.06299134898095828}\n"
     ]
    },
    {
     "data": {
      "text/html": [
       "<table><tr><td><img style='width:100px' src='./saved_designs/social_media/4_2_P_scout_social_media/images/4_social_Alternative 3.png'/></td>\n",
       "                               <td><img style='width:100px' src='./saved_designs/social_media/4_2_P_scout_social_media/images/4_social_Alternative 2.png'/></td></tr></table>"
      ],
      "text/plain": [
       "<IPython.core.display.HTML object>"
      ]
     },
     "metadata": {},
     "output_type": "display_data"
    },
    {
     "name": "stdout",
     "output_type": "stream",
     "text": [
      "\n",
      "# experiments from 16_1_P_scout_social_media\n",
      "# diversity score 0.5331665399162351\n",
      "# score details\n",
      "{'alt_group_score': 0.0,\n",
      " 'pos_diff_score': 0.11742651379162698,\n",
      " 'rel_dist_diff_score': 0.12019845807033036,\n",
      " 'size_diff_score': 0.1477707840271389}\n"
     ]
    },
    {
     "data": {
      "text/html": [
       "<table><tr><td><img style='width:100px' src='./saved_designs/social_media/16_1_P_scout_social_media/images/16_social_Alternative 3.png'/></td>\n",
       "                               <td><img style='width:100px' src='./saved_designs/social_media/16_1_P_scout_social_media/images/16_social_Alternative 1.png'/></td></tr></table>"
      ],
      "text/plain": [
       "<IPython.core.display.HTML object>"
      ]
     },
     "metadata": {},
     "output_type": "display_data"
    },
    {
     "name": "stdout",
     "output_type": "stream",
     "text": [
      "\n",
      "# experiments from 4_2_P_scout_social_media\n",
      "# diversity score 0.5281857106720381\n",
      "# score details\n",
      "{'alt_group_score': 0.0,\n",
      " 'pos_diff_score': 0.28027602243094385,\n",
      " 'rel_dist_diff_score': 0.18820465327646996,\n",
      " 'size_diff_score': 0.029852517482312144}\n"
     ]
    },
    {
     "data": {
      "text/html": [
       "<table><tr><td><img style='width:100px' src='./saved_designs/social_media/4_2_P_scout_social_media/images/4_social_Alternative 1.png'/></td>\n",
       "                               <td><img style='width:100px' src='./saved_designs/social_media/4_2_P_scout_social_media/images/4_social_Alternative 2.png'/></td></tr></table>"
      ],
      "text/plain": [
       "<IPython.core.display.HTML object>"
      ]
     },
     "metadata": {},
     "output_type": "display_data"
    },
    {
     "name": "stdout",
     "output_type": "stream",
     "text": [
      "\n",
      "# experiments from 15_2_P_baseline_social_media\n",
      "# diversity score 0.5236661471359847\n",
      "# score details\n",
      "{'alt_group_score': 0.0,\n",
      " 'pos_diff_score': 0.1430862765578411,\n",
      " 'rel_dist_diff_score': 0.07939404743919987,\n",
      " 'size_diff_score': 0.15059291156947185}\n"
     ]
    },
    {
     "data": {
      "text/html": [
       "<table><tr><td><img style='width:100px' src='./saved_designs/social_media/15_2_P_baseline_social_media/images/15_social_Alternative 3.png'/></td>\n",
       "                               <td><img style='width:100px' src='./saved_designs/social_media/15_2_P_baseline_social_media/images/15_social_Alternative 2.png'/></td></tr></table>"
      ],
      "text/plain": [
       "<IPython.core.display.HTML object>"
      ]
     },
     "metadata": {},
     "output_type": "display_data"
    },
    {
     "name": "stdout",
     "output_type": "stream",
     "text": [
      "\n",
      "# experiments from 10_2_N_baseline_social_media\n",
      "# diversity score 0.5235828569410987\n",
      "# score details\n",
      "{'alt_group_score': 0.0,\n",
      " 'pos_diff_score': 0.2546474790663533,\n",
      " 'rel_dist_diff_score': 0.18425787245155065,\n",
      " 'size_diff_score': 0.042338752711597386}\n"
     ]
    },
    {
     "data": {
      "text/html": [
       "<table><tr><td><img style='width:100px' src='./saved_designs/social_media/10_2_N_baseline_social_media/images/10_social_Alternative 3.png'/></td>\n",
       "                               <td><img style='width:100px' src='./saved_designs/social_media/10_2_N_baseline_social_media/images/10_social_Alternative 1.png'/></td></tr></table>"
      ],
      "text/plain": [
       "<IPython.core.display.HTML object>"
      ]
     },
     "metadata": {},
     "output_type": "display_data"
    },
    {
     "name": "stdout",
     "output_type": "stream",
     "text": [
      "\n",
      "# experiments from 16_1_P_scout_social_media\n",
      "# diversity score 0.5141700737974233\n",
      "# score details\n",
      "{'alt_group_score': 0.0,\n",
      " 'pos_diff_score': 0.09851307177922192,\n",
      " 'rel_dist_diff_score': 0.0819135825544292,\n",
      " 'size_diff_score': 0.16687170973188606}\n"
     ]
    },
    {
     "data": {
      "text/html": [
       "<table><tr><td><img style='width:100px' src='./saved_designs/social_media/16_1_P_scout_social_media/images/16_social_Alternative 1.png'/></td>\n",
       "                               <td><img style='width:100px' src='./saved_designs/social_media/16_1_P_scout_social_media/images/Original.png'/></td></tr></table>"
      ],
      "text/plain": [
       "<IPython.core.display.HTML object>"
      ]
     },
     "metadata": {},
     "output_type": "display_data"
    },
    {
     "name": "stdout",
     "output_type": "stream",
     "text": [
      "\n",
      "# experiments from 7_1_P_baseline_social_media\n",
      "# diversity score 0.5104103083712074\n",
      "# score details\n",
      "{'alt_group_score': 0.0,\n",
      " 'pos_diff_score': 0.33150473891076204,\n",
      " 'rel_dist_diff_score': 0.17890556946044536,\n",
      " 'size_diff_score': 0.0}\n"
     ]
    },
    {
     "data": {
      "text/html": [
       "<table><tr><td><img style='width:100px' src='./saved_designs/social_media/7_1_P_baseline_social_media/images/7_social_Alternative 3.png'/></td>\n",
       "                               <td><img style='width:100px' src='./saved_designs/social_media/7_1_P_baseline_social_media/images/7_social_Alternative 2.png'/></td></tr></table>"
      ],
      "text/plain": [
       "<IPython.core.display.HTML object>"
      ]
     },
     "metadata": {},
     "output_type": "display_data"
    },
    {
     "name": "stdout",
     "output_type": "stream",
     "text": [
      "\n",
      "# experiments from 7_1_P_baseline_social_media\n",
      "# diversity score 0.5010628411505781\n",
      "# score details\n",
      "{'alt_group_score': 0.0,\n",
      " 'pos_diff_score': 0.3433861004344322,\n",
      " 'rel_dist_diff_score': 0.15767674071614593,\n",
      " 'size_diff_score': 0.0}\n"
     ]
    },
    {
     "data": {
      "text/html": [
       "<table><tr><td><img style='width:100px' src='./saved_designs/social_media/7_1_P_baseline_social_media/images/7_social_Alternative 2.png'/></td>\n",
       "                               <td><img style='width:100px' src='./saved_designs/social_media/7_1_P_baseline_social_media/images/Original.png'/></td></tr></table>"
      ],
      "text/plain": [
       "<IPython.core.display.HTML object>"
      ]
     },
     "metadata": {},
     "output_type": "display_data"
    },
    {
     "name": "stdout",
     "output_type": "stream",
     "text": [
      "\n",
      "# experiments from 7_1_P_baseline_social_media\n",
      "# diversity score 0.4946216948071712\n",
      "# score details\n",
      "{'alt_group_score': 0.0,\n",
      " 'pos_diff_score': 0.3138368993993955,\n",
      " 'rel_dist_diff_score': 0.18078479540777567,\n",
      " 'size_diff_score': 0.0}\n"
     ]
    },
    {
     "data": {
      "text/html": [
       "<table><tr><td><img style='width:100px' src='./saved_designs/social_media/7_1_P_baseline_social_media/images/7_social_Alternative 3.png'/></td>\n",
       "                               <td><img style='width:100px' src='./saved_designs/social_media/7_1_P_baseline_social_media/images/7_social_Alternative 1.png'/></td></tr></table>"
      ],
      "text/plain": [
       "<IPython.core.display.HTML object>"
      ]
     },
     "metadata": {},
     "output_type": "display_data"
    },
    {
     "name": "stdout",
     "output_type": "stream",
     "text": [
      "\n",
      "# experiments from 3_2_N_scout_social_media\n",
      "# diversity score 0.4931549672309849\n",
      "# score details\n",
      "{'alt_group_score': 0.0,\n",
      " 'pos_diff_score': 0.20568258917767127,\n",
      " 'rel_dist_diff_score': 0.1480417146738536,\n",
      " 'size_diff_score': 0.06971533168973001}\n"
     ]
    },
    {
     "data": {
      "text/html": [
       "<table><tr><td><img style='width:100px' src='./saved_designs/social_media/3_2_N_scout_social_media/images/3_social_Alternative 1.png'/></td>\n",
       "                               <td><img style='width:100px' src='./saved_designs/social_media/3_2_N_scout_social_media/images/Original.png'/></td></tr></table>"
      ],
      "text/plain": [
       "<IPython.core.display.HTML object>"
      ]
     },
     "metadata": {},
     "output_type": "display_data"
    },
    {
     "name": "stdout",
     "output_type": "stream",
     "text": [
      "\n",
      "# experiments from 10_2_N_baseline_social_media\n",
      "# diversity score 0.4687855695116344\n",
      "# score details\n",
      "{'alt_group_score': 0.0,\n",
      " 'pos_diff_score': 0.1337892019717147,\n",
      " 'rel_dist_diff_score': 0.11127643724213025,\n",
      " 'size_diff_score': 0.11185996514889474}\n"
     ]
    },
    {
     "data": {
      "text/html": [
       "<table><tr><td><img style='width:100px' src='./saved_designs/social_media/10_2_N_baseline_social_media/images/10_social_Alternative 3.png'/></td>\n",
       "                               <td><img style='width:100px' src='./saved_designs/social_media/10_2_N_baseline_social_media/images/Original.png'/></td></tr></table>"
      ],
      "text/plain": [
       "<IPython.core.display.HTML object>"
      ]
     },
     "metadata": {},
     "output_type": "display_data"
    },
    {
     "name": "stdout",
     "output_type": "stream",
     "text": [
      "\n",
      "# experiments from 17_1_P_baseline_social_media\n",
      "# diversity score 0.46312677826942006\n",
      "# score details\n",
      "{'alt_group_score': 0.0,\n",
      " 'pos_diff_score': 0.2765185463351241,\n",
      " 'rel_dist_diff_score': 0.1866082319342959,\n",
      " 'size_diff_score': 0.0}\n"
     ]
    },
    {
     "data": {
      "text/html": [
       "<table><tr><td><img style='width:100px' src='./saved_designs/social_media/17_1_P_baseline_social_media/images/17_social_Alternative 1.png'/></td>\n",
       "                               <td><img style='width:100px' src='./saved_designs/social_media/17_1_P_baseline_social_media/images/17_social_Alternative 2.png'/></td></tr></table>"
      ],
      "text/plain": [
       "<IPython.core.display.HTML object>"
      ]
     },
     "metadata": {},
     "output_type": "display_data"
    },
    {
     "name": "stdout",
     "output_type": "stream",
     "text": [
      "\n",
      "# experiments from 3_2_N_scout_social_media\n",
      "# diversity score 0.45949239609541637\n",
      "# score details\n",
      "{'alt_group_score': 0.0,\n",
      " 'pos_diff_score': 0.12904862807285883,\n",
      " 'rel_dist_diff_score': 0.11747179958477125,\n",
      " 'size_diff_score': 0.10648598421889315}\n"
     ]
    },
    {
     "data": {
      "text/html": [
       "<table><tr><td><img style='width:100px' src='./saved_designs/social_media/3_2_N_scout_social_media/images/3_social_Alternative 2.png'/></td>\n",
       "                               <td><img style='width:100px' src='./saved_designs/social_media/3_2_N_scout_social_media/images/Original.png'/></td></tr></table>"
      ],
      "text/plain": [
       "<IPython.core.display.HTML object>"
      ]
     },
     "metadata": {},
     "output_type": "display_data"
    },
    {
     "name": "stdout",
     "output_type": "stream",
     "text": [
      "\n",
      "# experiments from 3_2_N_scout_social_media\n",
      "# diversity score 0.4559253200541912\n",
      "# score details\n",
      "{'alt_group_score': 0.0,\n",
      " 'pos_diff_score': 0.18233981672635796,\n",
      " 'rel_dist_diff_score': 0.1265566408320496,\n",
      " 'size_diff_score': 0.07351443124789182}\n"
     ]
    },
    {
     "data": {
      "text/html": [
       "<table><tr><td><img style='width:100px' src='./saved_designs/social_media/3_2_N_scout_social_media/images/3_social_Alternative 1.png'/></td>\n",
       "                               <td><img style='width:100px' src='./saved_designs/social_media/3_2_N_scout_social_media/images/3_social_Alternative 2.png'/></td></tr></table>"
      ],
      "text/plain": [
       "<IPython.core.display.HTML object>"
      ]
     },
     "metadata": {},
     "output_type": "display_data"
    },
    {
     "name": "stdout",
     "output_type": "stream",
     "text": [
      "\n",
      "# experiments from 5_1_N_baseline_social_media\n",
      "# diversity score 0.4324275959011175\n",
      "# score details\n",
      "{'alt_group_score': 0.0,\n",
      " 'pos_diff_score': 0.25831989312084447,\n",
      " 'rel_dist_diff_score': 0.13221469686365225,\n",
      " 'size_diff_score': 0.02094650295831039}\n"
     ]
    },
    {
     "data": {
      "text/html": [
       "<table><tr><td><img style='width:100px' src='./saved_designs/social_media/5_1_N_baseline_social_media/images/5_social_Alternative 1.png'/></td>\n",
       "                               <td><img style='width:100px' src='./saved_designs/social_media/5_1_N_baseline_social_media/images/Original.png'/></td></tr></table>"
      ],
      "text/plain": [
       "<IPython.core.display.HTML object>"
      ]
     },
     "metadata": {},
     "output_type": "display_data"
    },
    {
     "name": "stdout",
     "output_type": "stream",
     "text": [
      "\n",
      "# experiments from 3_2_N_scout_social_media\n",
      "# diversity score 0.4312998652769532\n",
      "# score details\n",
      "{'alt_group_score': 0.0,\n",
      " 'pos_diff_score': 0.20408100181846442,\n",
      " 'rel_dist_diff_score': 0.09273158890614412,\n",
      " 'size_diff_score': 0.06724363727617233}\n"
     ]
    },
    {
     "data": {
      "text/html": [
       "<table><tr><td><img style='width:100px' src='./saved_designs/social_media/3_2_N_scout_social_media/images/3_social_Alternative 3.png'/></td>\n",
       "                               <td><img style='width:100px' src='./saved_designs/social_media/3_2_N_scout_social_media/images/3_social_Alternative 1.png'/></td></tr></table>"
      ],
      "text/plain": [
       "<IPython.core.display.HTML object>"
      ]
     },
     "metadata": {},
     "output_type": "display_data"
    },
    {
     "name": "stdout",
     "output_type": "stream",
     "text": [
      "\n",
      "# experiments from 18_1_N_scout_social_media\n",
      "# diversity score 0.4305950643975965\n",
      "# score details\n",
      "{'alt_group_score': 0.0,\n",
      " 'pos_diff_score': 0.13348001750048027,\n",
      " 'rel_dist_diff_score': 0.045010214358364324,\n",
      " 'size_diff_score': 0.12605241626937594}\n"
     ]
    },
    {
     "data": {
      "text/html": [
       "<table><tr><td><img style='width:100px' src='./saved_designs/social_media/18_1_N_scout_social_media/images/18_social_Alternative 3.png'/></td>\n",
       "                               <td><img style='width:100px' src='./saved_designs/social_media/18_1_N_scout_social_media/images/18_social_Alternative 2.png'/></td></tr></table>"
      ],
      "text/plain": [
       "<IPython.core.display.HTML object>"
      ]
     },
     "metadata": {},
     "output_type": "display_data"
    },
    {
     "name": "stdout",
     "output_type": "stream",
     "text": [
      "\n",
      "# experiments from 8_1_N_scout_social_media\n",
      "# diversity score 0.42638204512463285\n",
      "# score details\n",
      "{'alt_group_score': 0.0,\n",
      " 'pos_diff_score': 0.15237792115983634,\n",
      " 'rel_dist_diff_score': 0.12722875317660162,\n",
      " 'size_diff_score': 0.07338768539409747}\n"
     ]
    },
    {
     "data": {
      "text/html": [
       "<table><tr><td><img style='width:100px' src='./saved_designs/social_media/8_1_N_scout_social_media/images/8_social_Alternative 1.png'/></td>\n",
       "                               <td><img style='width:100px' src='./saved_designs/social_media/8_1_N_scout_social_media/images/8_social_Alternative 2.png'/></td></tr></table>"
      ],
      "text/plain": [
       "<IPython.core.display.HTML object>"
      ]
     },
     "metadata": {},
     "output_type": "display_data"
    },
    {
     "name": "stdout",
     "output_type": "stream",
     "text": [
      "\n",
      "# experiments from 16_1_P_scout_social_media\n",
      "# diversity score 0.42510317967983957\n",
      "# score details\n",
      "{'alt_group_score': 0.0,\n",
      " 'pos_diff_score': 0.09190463129893844,\n",
      " 'rel_dist_diff_score': 0.09474032054628427,\n",
      " 'size_diff_score': 0.11922911391730841}\n"
     ]
    },
    {
     "data": {
      "text/html": [
       "<table><tr><td><img style='width:100px' src='./saved_designs/social_media/16_1_P_scout_social_media/images/16_social_Alternative 3.png'/></td>\n",
       "                               <td><img style='width:100px' src='./saved_designs/social_media/16_1_P_scout_social_media/images/16_social_Alternative 2.png'/></td></tr></table>"
      ],
      "text/plain": [
       "<IPython.core.display.HTML object>"
      ]
     },
     "metadata": {},
     "output_type": "display_data"
    },
    {
     "name": "stdout",
     "output_type": "stream",
     "text": [
      "\n",
      "# experiments from 3_2_N_scout_social_media\n",
      "# diversity score 0.42323741298374834\n",
      "# score details\n",
      "{'alt_group_score': 0.0,\n",
      " 'pos_diff_score': 0.17420244868872337,\n",
      " 'rel_dist_diff_score': 0.15730670570369407,\n",
      " 'size_diff_score': 0.04586412929566544}\n"
     ]
    },
    {
     "data": {
      "text/html": [
       "<table><tr><td><img style='width:100px' src='./saved_designs/social_media/3_2_N_scout_social_media/images/3_social_Alternative 3.png'/></td>\n",
       "                               <td><img style='width:100px' src='./saved_designs/social_media/3_2_N_scout_social_media/images/3_social_Alternative 2.png'/></td></tr></table>"
      ],
      "text/plain": [
       "<IPython.core.display.HTML object>"
      ]
     },
     "metadata": {},
     "output_type": "display_data"
    },
    {
     "name": "stdout",
     "output_type": "stream",
     "text": [
      "\n",
      "# experiments from 16_1_P_scout_social_media\n",
      "# diversity score 0.4187787700435677\n",
      "# score details\n",
      "{'alt_group_score': 0.0,\n",
      " 'pos_diff_score': 0.08132705338073067,\n",
      " 'rel_dist_diff_score': 0.05493374201277378,\n",
      " 'size_diff_score': 0.14125898732503164}\n"
     ]
    },
    {
     "data": {
      "text/html": [
       "<table><tr><td><img style='width:100px' src='./saved_designs/social_media/16_1_P_scout_social_media/images/16_social_Alternative 2.png'/></td>\n",
       "                               <td><img style='width:100px' src='./saved_designs/social_media/16_1_P_scout_social_media/images/Original.png'/></td></tr></table>"
      ],
      "text/plain": [
       "<IPython.core.display.HTML object>"
      ]
     },
     "metadata": {},
     "output_type": "display_data"
    },
    {
     "name": "stdout",
     "output_type": "stream",
     "text": [
      "\n",
      "# experiments from 2_2_P_baseline_social_media\n",
      "# diversity score 0.40298440730634977\n",
      "# score details\n",
      "{'alt_group_score': 0.0,\n",
      " 'pos_diff_score': 0.14541072700538926,\n",
      " 'rel_dist_diff_score': 0.11207655436140199,\n",
      " 'size_diff_score': 0.07274856296977927}\n"
     ]
    },
    {
     "data": {
      "text/html": [
       "<table><tr><td><img style='width:100px' src='./saved_designs/social_media/2_2_P_baseline_social_media/images/2_social_Alternative 1.png'/></td>\n",
       "                               <td><img style='width:100px' src='./saved_designs/social_media/2_2_P_baseline_social_media/images/Original.png'/></td></tr></table>"
      ],
      "text/plain": [
       "<IPython.core.display.HTML object>"
      ]
     },
     "metadata": {},
     "output_type": "display_data"
    },
    {
     "name": "stdout",
     "output_type": "stream",
     "text": [
      "\n",
      "# experiments from 16_1_P_scout_social_media\n",
      "# diversity score 0.39147390900363965\n",
      "# score details\n",
      "{'alt_group_score': 0.0,\n",
      " 'pos_diff_score': 0.058899426237894154,\n",
      " 'rel_dist_diff_score': 0.03556339591298662,\n",
      " 'size_diff_score': 0.14850554342637942}\n"
     ]
    },
    {
     "data": {
      "text/html": [
       "<table><tr><td><img style='width:100px' src='./saved_designs/social_media/16_1_P_scout_social_media/images/16_social_Alternative 1.png'/></td>\n",
       "                               <td><img style='width:100px' src='./saved_designs/social_media/16_1_P_scout_social_media/images/16_social_Alternative 2.png'/></td></tr></table>"
      ],
      "text/plain": [
       "<IPython.core.display.HTML object>"
      ]
     },
     "metadata": {},
     "output_type": "display_data"
    },
    {
     "name": "stdout",
     "output_type": "stream",
     "text": [
      "\n",
      "# experiments from 5_1_N_baseline_social_media\n",
      "# diversity score 0.3266239039588943\n",
      "# score details\n",
      "{'alt_group_score': 0.0,\n",
      " 'pos_diff_score': 0.16905725534024116,\n",
      " 'rel_dist_diff_score': 0.11745714912868374,\n",
      " 'size_diff_score': 0.0200547497449847}\n"
     ]
    },
    {
     "data": {
      "text/html": [
       "<table><tr><td><img style='width:100px' src='./saved_designs/social_media/5_1_N_baseline_social_media/images/5_social_Alternative 1.png'/></td>\n",
       "                               <td><img style='width:100px' src='./saved_designs/social_media/5_1_N_baseline_social_media/images/5_social_Alternative 2.png'/></td></tr></table>"
      ],
      "text/plain": [
       "<IPython.core.display.HTML object>"
      ]
     },
     "metadata": {},
     "output_type": "display_data"
    },
    {
     "name": "stdout",
     "output_type": "stream",
     "text": [
      "\n",
      "# experiments from 7_1_P_baseline_social_media\n",
      "# diversity score 0.313185261460308\n",
      "# score details\n",
      "{'alt_group_score': 0.0,\n",
      " 'pos_diff_score': 0.15738548258602425,\n",
      " 'rel_dist_diff_score': 0.15579977887428378,\n",
      " 'size_diff_score': 0.0}\n"
     ]
    },
    {
     "data": {
      "text/html": [
       "<table><tr><td><img style='width:100px' src='./saved_designs/social_media/7_1_P_baseline_social_media/images/7_social_Alternative 3.png'/></td>\n",
       "                               <td><img style='width:100px' src='./saved_designs/social_media/7_1_P_baseline_social_media/images/Original.png'/></td></tr></table>"
      ],
      "text/plain": [
       "<IPython.core.display.HTML object>"
      ]
     },
     "metadata": {},
     "output_type": "display_data"
    },
    {
     "name": "stdout",
     "output_type": "stream",
     "text": [
      "\n",
      "# experiments from 7_1_P_baseline_social_media\n",
      "# diversity score 0.30699099259357393\n",
      "# score details\n",
      "{'alt_group_score': 0.0,\n",
      " 'pos_diff_score': 0.14817692242179428,\n",
      " 'rel_dist_diff_score': 0.15881407017177965,\n",
      " 'size_diff_score': 0.0}\n"
     ]
    },
    {
     "data": {
      "text/html": [
       "<table><tr><td><img style='width:100px' src='./saved_designs/social_media/7_1_P_baseline_social_media/images/7_social_Alternative 1.png'/></td>\n",
       "                               <td><img style='width:100px' src='./saved_designs/social_media/7_1_P_baseline_social_media/images/7_social_Alternative 2.png'/></td></tr></table>"
      ],
      "text/plain": [
       "<IPython.core.display.HTML object>"
      ]
     },
     "metadata": {},
     "output_type": "display_data"
    },
    {
     "name": "stdout",
     "output_type": "stream",
     "text": [
      "\n",
      "# experiments from 5_1_N_baseline_social_media\n",
      "# diversity score 0.2575623278859145\n",
      "# score details\n",
      "{'alt_group_score': 0.0,\n",
      " 'pos_diff_score': 0.15997863284767821,\n",
      " 'rel_dist_diff_score': 0.09758369503823627,\n",
      " 'size_diff_score': 0.0}\n"
     ]
    },
    {
     "data": {
      "text/html": [
       "<table><tr><td><img style='width:100px' src='./saved_designs/social_media/5_1_N_baseline_social_media/images/5_social_Alternative 2.png'/></td>\n",
       "                               <td><img style='width:100px' src='./saved_designs/social_media/5_1_N_baseline_social_media/images/Original.png'/></td></tr></table>"
      ],
      "text/plain": [
       "<IPython.core.display.HTML object>"
      ]
     },
     "metadata": {},
     "output_type": "display_data"
    },
    {
     "name": "stdout",
     "output_type": "stream",
     "text": [
      "\n",
      "# experiments from 20_2_P_baseline_social_media\n",
      "# diversity score 0.23339454307715873\n",
      "# score details\n",
      "{'alt_group_score': 0.0,\n",
      " 'pos_diff_score': 0.11238283312673636,\n",
      " 'rel_dist_diff_score': 0.12101170995042239,\n",
      " 'size_diff_score': 0.0}\n"
     ]
    },
    {
     "data": {
      "text/html": [
       "<table><tr><td><img style='width:100px' src='./saved_designs/social_media/20_2_P_baseline_social_media/images/20_social_Alternative 3.png'/></td>\n",
       "                               <td><img style='width:100px' src='./saved_designs/social_media/20_2_P_baseline_social_media/images/20_social_Alternative 1.png'/></td></tr></table>"
      ],
      "text/plain": [
       "<IPython.core.display.HTML object>"
      ]
     },
     "metadata": {},
     "output_type": "display_data"
    },
    {
     "name": "stdout",
     "output_type": "stream",
     "text": [
      "\n",
      "# experiments from 15_2_P_baseline_social_media\n",
      "# diversity score 0.20928640735821907\n",
      "# score details\n",
      "{'alt_group_score': 0.0,\n",
      " 'pos_diff_score': 0.09992371561900995,\n",
      " 'rel_dist_diff_score': 0.10936269173920912,\n",
      " 'size_diff_score': 0.0}\n"
     ]
    },
    {
     "data": {
      "text/html": [
       "<table><tr><td><img style='width:100px' src='./saved_designs/social_media/15_2_P_baseline_social_media/images/15_social_Alternative 1.png'/></td>\n",
       "                               <td><img style='width:100px' src='./saved_designs/social_media/15_2_P_baseline_social_media/images/15_social_Alternative 2.png'/></td></tr></table>"
      ],
      "text/plain": [
       "<IPython.core.display.HTML object>"
      ]
     },
     "metadata": {},
     "output_type": "display_data"
    },
    {
     "name": "stdout",
     "output_type": "stream",
     "text": [
      "\n"
     ]
    }
   ],
   "source": [
    "import cost_model\n",
    "import os\n",
    "import json\n",
    "import sys\n",
    "\n",
    "from pprint import pprint\n",
    "from IPython.display import SVG, display, HTML\n",
    "\n",
    "def show_image(url1, url2):\n",
    "    display(HTML(\"\"\"<table><tr><td><img style='width:100px' src='{}'/></td>\n",
    "                               <td><img style='width:100px' src='{}'/></td></tr></table>\"\"\".format(url1, url2)))\n",
    "\n",
    "def load_design_v1(design_dir):\n",
    "    \"\"\"the directory containing exported designs, \n",
    "        the is the old version\"\"\"\n",
    "\n",
    "    design = {}\n",
    "    # load saved designs and trashed designs\n",
    "    with open(os.path.join(design_dir, \"saved.json\")) as f:\n",
    "        design[\"saved\"] = json.load(f)[\"saved\"]\n",
    "\n",
    "    # load paths for saved svgs, relates to saved designs by their canvas ids\n",
    "    svg_dir = os.path.join(design_dir, \"saved_svgs\")\n",
    "    if not os.path.isdir(svg_dir):\n",
    "        svg_dir = os.path.join(design_dir, \"import_these_into_xd\")\n",
    "\n",
    "    for d in design[\"saved\"]:\n",
    "        d[\"img_id\"] = d[\"id\"]\n",
    "    design[\"image_paths\"] = {}\n",
    "    for fname in os.listdir(svg_dir):\n",
    "        if fname.endswith(\".svg\") or fname.endswith(\".png\"):\n",
    "            design_id = fname.split(\".\")[0].split(\"-\")[-1]\n",
    "            design[\"image_paths\"][design_id] = os.path.join(svg_dir, fname)\n",
    "\n",
    "    design[\"dirname\"] = design_dir\n",
    "    return design\n",
    "\n",
    "def load_design_v2(design_dir):\n",
    "    \"\"\"the directory containing exported designs, \n",
    "        the is the new version for user study data analysis\"\"\"\n",
    "    design = {}\n",
    "    # load saved designs and trashed designs\n",
    "    with open(os.path.join(design_dir, \"saved.json\")) as f:\n",
    "        design[\"saved\"] = json.load(f)[\"saved\"]\n",
    "\n",
    "    # load paths for saved images, relates to saved designs by their canvas ids\n",
    "    img_dir = os.path.join(design_dir, \"images\")\n",
    "\n",
    "    for d in design[\"saved\"]:\n",
    "        d[\"img_id\"] = d[\"elements\"][\"name\"]\n",
    "    design[\"image_paths\"] = {}\n",
    "    for fname in os.listdir(img_dir):\n",
    "        if fname.endswith(\".png\"):\n",
    "            if \"Alternative 1\" in fname:\n",
    "                design_id = \"Alternative 1\"\n",
    "            elif \"Alternative 2\" in fname:\n",
    "                design_id = \"Alternative 2\"\n",
    "            elif \"Alternative 3\" in fname:\n",
    "                design_id = \"Alternative 3\"\n",
    "            elif \"Original\" in fname:\n",
    "                design_id = \"Original\"\n",
    "                            \n",
    "            design[\"image_paths\"][design_id] = os.path.join(img_dir, fname)\n",
    "\n",
    "    design[\"dirname\"] = design_dir\n",
    "    return design\n",
    "\n",
    "\n",
    "def analyze_design(all_designs):\n",
    "    \"\"\" Analyze design scores from all saved apps, the scores are normalized across all designs\n",
    "        For each pair of saved designs in each file, display their diversity score as well as svgs\n",
    "        Inputs:\n",
    "            all_designs: a list of saved designs (saved.json)\n",
    "    \"\"\"\n",
    "    \n",
    "    raw_diversity_score = {}\n",
    "    for exp_id, design in all_designs.items():          \n",
    "        if len(design[\"saved\"]) == 1:\n",
    "            print(\"[error] this directory contains only 1 saved desigsn.\")\n",
    "            continue\n",
    "\n",
    "        for i in range(len(design[\"saved\"])):\n",
    "            for j in range(i + 1, len(design[\"saved\"])):\n",
    "                di, dj = design[\"saved\"][i], design[\"saved\"][j]\n",
    "                #diversity_score, diff = cost_model.compute_diversity_score(di[\"elements\"], dj[\"elements\"])\n",
    "                raw_diversity_score[(exp_id, i, j)] = cost_model.compute_unnormalized_diversity_score(\n",
    "                    di[\"elements\"], dj[\"elements\"])\n",
    "\n",
    "    final_scores = cost_model.normalize_diversity_scores(raw_diversity_score)\n",
    "    \n",
    "    design_pairs = []\n",
    "    for pair_id in final_scores:\n",
    "        exp_id, i,j = pair_id\n",
    "        score = (final_scores[pair_id][\"alt_group_score\"]\n",
    "                    + final_scores[pair_id][\"pos_diff_score\"] \n",
    "                    + final_scores[pair_id][\"rel_dist_diff_score\"] \n",
    "                    + 2 * final_scores[pair_id][\"size_diff_score\"])\n",
    "        design_pair = {\n",
    "            \"exp_id\": exp_id,\n",
    "            \"score\": score,\n",
    "            \"score_detail\": final_scores[pair_id],\n",
    "            \"di\": all_designs[exp_id][\"saved\"][i],\n",
    "            \"dj\": all_designs[exp_id][\"saved\"][j],\n",
    "        }\n",
    "        \n",
    "        design_pairs.append(design_pair)\n",
    "\n",
    "    design_pairs.sort(key=lambda x: x['score'], reverse=True)\n",
    "    for pair in design_pairs: \n",
    "        no_svg_to_display = False\n",
    "        exp_id = pair[\"exp_id\"]\n",
    "        di = pair['di']\n",
    "        dj = pair['dj']\n",
    "        for d in [di, dj]:\n",
    "            if d[\"img_id\"] not in all_designs[exp_id][\"image_paths\"]:\n",
    "                #print(\"  [Error] no svg for id {}\".format(d[\"id\"]))\n",
    "                no_svg_to_display = True\n",
    "\n",
    "        if no_svg_to_display:\n",
    "            #print(\"  \" + design[\"dirname\"])\n",
    "            continue\n",
    "        score = pair['score']\n",
    "        score_detail = pair['score_detail']\n",
    "        print(\"# experiments from {}\".format(pair[\"exp_id\"]))\n",
    "        print(\"# diversity score {}\".format(score))\n",
    "        print(\"# score details\")\n",
    "        pprint(score_detail)\n",
    "\n",
    "        svg_i = all_designs[exp_id][\"image_paths\"][di[\"img_id\"]]\n",
    "        svg_j = all_designs[exp_id][\"image_paths\"][dj[\"img_id\"]]\n",
    "        show_image(svg_i, svg_j)\n",
    "        print(\"\")\n",
    "\n",
    "def analyze_all_designs(export_dir, load_func):\n",
    "    # iterate over all exported deisngs\n",
    "    all_designs = {}\n",
    "    for dirname in os.listdir(export_dir):\n",
    "        design_dir = os.path.join(export_dir, dirname)\n",
    "        if not os.path.isdir(design_dir):\n",
    "            continue\n",
    "        design = load_func(design_dir)\n",
    "        all_designs[dirname] = design\n",
    "    analyze_design(all_designs)\n",
    "\n",
    "#analyze_all_designs(\"./saved_designs/old_designs\", load_design_v1)\n",
    "analyze_all_designs(\"./saved_designs/social_media\", load_design_v2)"
   ]
  }
 ],
 "metadata": {
  "kernelspec": {
   "display_name": "Python 3",
   "language": "python",
   "name": "python3"
  },
  "language_info": {
   "codemirror_mode": {
    "name": "ipython",
    "version": 3
   },
   "file_extension": ".py",
   "mimetype": "text/x-python",
   "name": "python",
   "nbconvert_exporter": "python",
   "pygments_lexer": "ipython3",
   "version": "3.7.1"
  }
 },
 "nbformat": 4,
 "nbformat_minor": 2
}
