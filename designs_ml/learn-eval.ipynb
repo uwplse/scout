{
 "cells": [
  {
   "cell_type": "code",
   "execution_count": 15,
   "metadata": {},
   "outputs": [
    {
     "name": "stdout",
     "output_type": "stream",
     "text": [
      "==============\n",
      "## Analyzing exported_from_scout (98) ...\n",
      "[-3.114469840089079, -3.58622505753812, -2.631058768941056, -3.1093855602559324, -2.7559116987656846]\n"
     ]
    },
    {
     "data": {
      "text/html": [
       "<table><tr><td><img style='width:100px' src='./saved_designs/exported_from_scout (98)/import_these_into_xd/design-canvas-be478c6373164bc4b96bbccf5b367f9b.svg'/></td><td><img style='width:100px' src='./saved_designs/exported_from_scout (98)/import_these_into_xd/design-canvas-83903cdc8136490e90c180d73dd2c09d.svg'/></td><td><img style='width:100px' src='./saved_designs/exported_from_scout (98)/import_these_into_xd/design-canvas-a52759ae3c2e49b9a50e2bfa69918a07.svg'/></td><td><img style='width:100px' src='./saved_designs/exported_from_scout (98)/import_these_into_xd/design-canvas-7304405049fc487a91ca6165424c0b0c.svg'/></td><td><img style='width:100px' src='./saved_designs/exported_from_scout (98)/import_these_into_xd/design-canvas-1ae0e35d0b2d43028cddacd7a035b17d.svg'/></td></tr></table>"
      ],
      "text/plain": [
       "<IPython.core.display.HTML object>"
      ]
     },
     "metadata": {},
     "output_type": "display_data"
    },
    {
     "name": "stdout",
     "output_type": "stream",
     "text": [
      "==============\n",
      "## Analyzing exported_from_scout (57) ...\n",
      "[-2.9058421627337454, -3.7364042668409465, -3.6875731271305616, -2.893491116215069, -3.525340132002983, -3.4839982012319197, -2.9532063415537455, -3.2232082692839334]\n"
     ]
    },
    {
     "data": {
      "text/html": [
       "<table><tr><td><img style='width:100px' src='./saved_designs/exported_from_scout (57)/saved_svgs/design-canvas-76c3faac7a3b468da89750b7d383a06a.svg'/></td><td><img style='width:100px' src='./saved_designs/exported_from_scout (57)/saved_svgs/design-canvas-7c1f4a506b734056a357af024a21acbd.svg'/></td><td><img style='width:100px' src='./saved_designs/exported_from_scout (57)/saved_svgs/design-canvas-1417ed8f406445ecb533001d8ef9fa51.svg'/></td><td><img style='width:100px' src='./saved_designs/exported_from_scout (57)/saved_svgs/design-canvas-ad7a0da9fdd84b428da74b191e69b4db.svg'/></td><td><img style='width:100px' src='None'/></td><td><img style='width:100px' src='None'/></td><td><img style='width:100px' src='None'/></td><td><img style='width:100px' src='None'/></td></tr></table>"
      ],
      "text/plain": [
       "<IPython.core.display.HTML object>"
      ]
     },
     "metadata": {},
     "output_type": "display_data"
    },
    {
     "name": "stdout",
     "output_type": "stream",
     "text": [
      "==============\n",
      "## Analyzing ScoutExports_p7 ...\n",
      "[-3.281745385712136, -3.1907186662641043, -3.319334416009821, -3.9804870323597044]\n"
     ]
    },
    {
     "data": {
      "text/html": [
       "<table><tr><td><img style='width:100px' src='./saved_designs/ScoutExports_p7/saved_svgs/design-canvas-9332a26dc98c431aa15252e8a2891ecb.svg'/></td><td><img style='width:100px' src='./saved_designs/ScoutExports_p7/saved_svgs/design-canvas-85dcd017a2cc43cdb43601efcc980ca3.svg'/></td><td><img style='width:100px' src='./saved_designs/ScoutExports_p7/saved_svgs/design-canvas-503984a0c5bb4359b998ec0c721f1a9f.svg'/></td><td><img style='width:100px' src='./saved_designs/ScoutExports_p7/saved_svgs/design-canvas-9249b8a98c0f426aa223c268bd5cb31c.svg'/></td></tr></table>"
      ],
      "text/plain": [
       "<IPython.core.display.HTML object>"
      ]
     },
     "metadata": {},
     "output_type": "display_data"
    },
    {
     "name": "stdout",
     "output_type": "stream",
     "text": [
      "==============\n",
      "## Analyzing exported_from_scout (60) ...\n",
      "[-3.830649851639751, -3.726645527651223, -3.8446709891364086, -3.5582664068530536, -3.500893125304972, -3.3993274858126505, -3.7877630940318165, -3.5225103437530167, -4.034820160912861, -3.8588761013069366, -3.8439030535034098, -3.6665742279920166, -3.418071513036324, -3.7006630576088035, -3.478865374129338, -3.6563600981892086, -3.972721463064654, -3.5644503098159572]\n"
     ]
    },
    {
     "data": {
      "text/html": [
       "<table><tr><td><img style='width:100px' src='None'/></td><td><img style='width:100px' src='None'/></td><td><img style='width:100px' src='./saved_designs/exported_from_scout (60)/saved_svgs/design-canvas-f9f7c67b927742af95edbd30ea972096.svg'/></td><td><img style='width:100px' src='None'/></td><td><img style='width:100px' src='None'/></td><td><img style='width:100px' src='./saved_designs/exported_from_scout (60)/saved_svgs/design-canvas-ede37baa7eee4f32a2ef6e5f790c99d5.svg'/></td><td><img style='width:100px' src='./saved_designs/exported_from_scout (60)/saved_svgs/design-canvas-3db107c6701b45c686a7818eb951a6fb.svg'/></td><td><img style='width:100px' src='None'/></td><td><img style='width:100px' src='None'/></td><td><img style='width:100px' src='None'/></td><td><img style='width:100px' src='None'/></td><td><img style='width:100px' src='None'/></td><td><img style='width:100px' src='None'/></td><td><img style='width:100px' src='None'/></td><td><img style='width:100px' src='None'/></td><td><img style='width:100px' src='None'/></td><td><img style='width:100px' src='None'/></td><td><img style='width:100px' src='None'/></td></tr></table>"
      ],
      "text/plain": [
       "<IPython.core.display.HTML object>"
      ]
     },
     "metadata": {},
     "output_type": "display_data"
    },
    {
     "name": "stdout",
     "output_type": "stream",
     "text": [
      "==============\n",
      "## Analyzing exported_from_scout (27) ...\n",
      "[-3.5394664249366476, -3.4293013230211717, -2.8885715941672263, -3.643697733580012, -3.0284935381085445, -3.4785511648529397, -3.500611964798216, -3.1689773321687444, -3.2835882104245275, -3.4304207244184406, -3.4052622530131766, -2.993125973210947]\n"
     ]
    },
    {
     "data": {
      "text/html": [
       "<table><tr><td><img style='width:100px' src='./saved_designs/exported_from_scout (27)/saved_svgs/design-canvas-c7c1d6eae7ca4644a29aa15a33cd4a1d.svg'/></td><td><img style='width:100px' src='./saved_designs/exported_from_scout (27)/saved_svgs/design-canvas-3d18296d94404f618556683f2407b007.svg'/></td><td><img style='width:100px' src='None'/></td><td><img style='width:100px' src='None'/></td><td><img style='width:100px' src='./saved_designs/exported_from_scout (27)/saved_svgs/design-canvas-2379e0aee985456a926b0cecfe11b6d6.svg'/></td><td><img style='width:100px' src='None'/></td><td><img style='width:100px' src='./saved_designs/exported_from_scout (27)/saved_svgs/design-canvas-70242e15df9d48559e4c4e6903cfb320.svg'/></td><td><img style='width:100px' src='./saved_designs/exported_from_scout (27)/saved_svgs/design-canvas-a92d3607a3fb498398ed0437348cf368.svg'/></td><td><img style='width:100px' src='None'/></td><td><img style='width:100px' src='./saved_designs/exported_from_scout (27)/saved_svgs/design-canvas-9fc45ca457154bc19d99c5edcfbf3789.svg'/></td><td><img style='width:100px' src='None'/></td><td><img style='width:100px' src='None'/></td></tr></table>"
      ],
      "text/plain": [
       "<IPython.core.display.HTML object>"
      ]
     },
     "metadata": {},
     "output_type": "display_data"
    },
    {
     "name": "stdout",
     "output_type": "stream",
     "text": [
      "==============\n",
      "## Analyzing exported_from_scout - 2019-04-23T094836.267 ...\n",
      "[-3.1025150579714342, -3.2987917200551458, -3.323998760051528, -2.8531518202534816]\n"
     ]
    },
    {
     "data": {
      "text/html": [
       "<table><tr><td><img style='width:100px' src='./saved_designs/exported_from_scout - 2019-04-23T094836.267/import_these_into_xd/design-canvas-ed719ba233704810a0964b7c569c9ed1.svg'/></td><td><img style='width:100px' src='./saved_designs/exported_from_scout - 2019-04-23T094836.267/import_these_into_xd/design-canvas-2c9856f3e10141a3b2668f37e42a26af.svg'/></td><td><img style='width:100px' src='./saved_designs/exported_from_scout - 2019-04-23T094836.267/import_these_into_xd/design-canvas-3af7dce4b8654a809d9093427d91ff19.svg'/></td><td><img style='width:100px' src='./saved_designs/exported_from_scout - 2019-04-23T094836.267/import_these_into_xd/design-canvas-3dd245c1749e4627a1d5d7c8f677193d.svg'/></td></tr></table>"
      ],
      "text/plain": [
       "<IPython.core.display.HTML object>"
      ]
     },
     "metadata": {},
     "output_type": "display_data"
    },
    {
     "name": "stdout",
     "output_type": "stream",
     "text": [
      "==============\n",
      "## Analyzing exported_from_scout (50) ...\n",
      "[-4.020274665606687, -4.197755332283125, -3.9412048892291707, -3.5760348531531916, -3.660716461830878]\n"
     ]
    },
    {
     "data": {
      "text/html": [
       "<table><tr><td><img style='width:100px' src='./saved_designs/exported_from_scout (50)/saved_svgs/design-canvas-90e3874987904050a6b073c1d925fefd.svg'/></td><td><img style='width:100px' src='./saved_designs/exported_from_scout (50)/saved_svgs/design-canvas-10a65cf7f8df4b209d36b11fa6c545d3.svg'/></td><td><img style='width:100px' src='None'/></td><td><img style='width:100px' src='./saved_designs/exported_from_scout (50)/saved_svgs/design-canvas-6ff18e66dfda44669d2e03c69664f5c8.svg'/></td><td><img style='width:100px' src='None'/></td></tr></table>"
      ],
      "text/plain": [
       "<IPython.core.display.HTML object>"
      ]
     },
     "metadata": {},
     "output_type": "display_data"
    },
    {
     "name": "stdout",
     "output_type": "stream",
     "text": [
      "==============\n",
      "## Analyzing exported_from_scout (96) ...\n",
      "[-3.103189461382503, -2.846611587051541]\n"
     ]
    },
    {
     "data": {
      "text/html": [
       "<table><tr><td><img style='width:100px' src='./saved_designs/exported_from_scout (96)/import_these_into_xd/design-canvas-eb2b5c26801f42d4aab4d1f1abe91579.svg'/></td><td><img style='width:100px' src='./saved_designs/exported_from_scout (96)/import_these_into_xd/design-canvas-4f707855b72d4faca871652c16f40964.svg'/></td></tr></table>"
      ],
      "text/plain": [
       "<IPython.core.display.HTML object>"
      ]
     },
     "metadata": {},
     "output_type": "display_data"
    },
    {
     "name": "stdout",
     "output_type": "stream",
     "text": [
      "==============\n",
      "## Analyzing exported_from_scout (51) ...\n",
      "[-4.020274665606687, -4.197755332283125, -3.9412048892291707, -3.5760348531531916, -3.660716461830878, -3.54877011705063, -4.1050095199379575, -3.631709231774998, -2.736783525457826]\n"
     ]
    },
    {
     "data": {
      "text/html": [
       "<table><tr><td><img style='width:100px' src='./saved_designs/exported_from_scout (51)/saved_svgs/design-canvas-1247f5e41e6d40b7b60efc468451e1b9.svg'/></td><td><img style='width:100px' src='./saved_designs/exported_from_scout (51)/saved_svgs/design-canvas-2635f542ddfa4b378c626d8f5b65d782.svg'/></td><td><img style='width:100px' src='./saved_designs/exported_from_scout (51)/saved_svgs/design-canvas-90e3874987904050a6b073c1d925fefd.svg'/></td><td><img style='width:100px' src='None'/></td><td><img style='width:100px' src='./saved_designs/exported_from_scout (51)/saved_svgs/design-canvas-10a65cf7f8df4b209d36b11fa6c545d3.svg'/></td><td><img style='width:100px' src='None'/></td><td><img style='width:100px' src='./saved_designs/exported_from_scout (51)/saved_svgs/design-canvas-6ff18e66dfda44669d2e03c69664f5c8.svg'/></td><td><img style='width:100px' src='None'/></td><td><img style='width:100px' src='None'/></td></tr></table>"
      ],
      "text/plain": [
       "<IPython.core.display.HTML object>"
      ]
     },
     "metadata": {},
     "output_type": "display_data"
    },
    {
     "name": "stdout",
     "output_type": "stream",
     "text": [
      "==============\n",
      "## Analyzing exported_from_scout (97) ...\n",
      "[-3.1461064997728987, -3.1574410703856226, -2.820161119055727, -3.5915092200840766, -2.899346451409391, -2.587510959729426]\n"
     ]
    },
    {
     "data": {
      "text/html": [
       "<table><tr><td><img style='width:100px' src='./saved_designs/exported_from_scout (97)/import_these_into_xd/design-canvas-062699f37400475cbba6dbfc4d6933b3.svg'/></td><td><img style='width:100px' src='./saved_designs/exported_from_scout (97)/import_these_into_xd/design-canvas-b8d7e094ee214de0bb66d93ccef6b1e5.svg'/></td><td><img style='width:100px' src='./saved_designs/exported_from_scout (97)/import_these_into_xd/design-canvas-4ec926fa41894887bcf3ac1ac5af35f7.svg'/></td><td><img style='width:100px' src='./saved_designs/exported_from_scout (97)/import_these_into_xd/design-canvas-33b90f9270d24b3ba34499c1c3bb68b4.svg'/></td><td><img style='width:100px' src='./saved_designs/exported_from_scout (97)/import_these_into_xd/design-canvas-f0dc6cec5324477290180c56fda9aeb1.svg'/></td><td><img style='width:100px' src='./saved_designs/exported_from_scout (97)/import_these_into_xd/design-canvas-4749f58bb9d24fc99a15a0145fecb572.svg'/></td></tr></table>"
      ],
      "text/plain": [
       "<IPython.core.display.HTML object>"
      ]
     },
     "metadata": {},
     "output_type": "display_data"
    },
    {
     "name": "stdout",
     "output_type": "stream",
     "text": [
      "==============\n",
      "## Analyzing exported_from_scout (52) ...\n",
      "[-3.805713956267082, -3.3580335040374356, -3.6187266562435805, -2.833821586757093, -3.185660868833006, -2.878543352896357, -2.8407833825352666, -3.902832742566272, -3.299845987963113]\n"
     ]
    },
    {
     "data": {
      "text/html": [
       "<table><tr><td><img style='width:100px' src='./saved_designs/exported_from_scout (52)/saved_svgs/design-canvas-9cbcc62216344338bb17718474e81f1e.svg'/></td><td><img style='width:100px' src='./saved_designs/exported_from_scout (52)/saved_svgs/design-canvas-a5e89620c72146d9a8943c5d3c28934f.svg'/></td><td><img style='width:100px' src='./saved_designs/exported_from_scout (52)/saved_svgs/design-canvas-a3e1d87bf50e4259b1ad3f8d85ee1601.svg'/></td><td><img style='width:100px' src='None'/></td><td><img style='width:100px' src='./saved_designs/exported_from_scout (52)/saved_svgs/design-canvas-7599585b0b764c2189747bf10283f144.svg'/></td><td><img style='width:100px' src='None'/></td><td><img style='width:100px' src='./saved_designs/exported_from_scout (52)/saved_svgs/design-canvas-56cc849527104b9a99bc9ec9a056faed.svg'/></td><td><img style='width:100px' src='./saved_designs/exported_from_scout (52)/saved_svgs/design-canvas-6726aaf1c8de40d1a7a3a4890983126b.svg'/></td><td><img style='width:100px' src='./saved_designs/exported_from_scout (52)/saved_svgs/design-canvas-9d8da3fdb3874a8c97c1b334bb626a28.svg'/></td></tr></table>"
      ],
      "text/plain": [
       "<IPython.core.display.HTML object>"
      ]
     },
     "metadata": {},
     "output_type": "display_data"
    },
    {
     "name": "stdout",
     "output_type": "stream",
     "text": [
      "==============\n",
      "## Analyzing exported_from_scout - 2019-04-23T101629.260 ...\n",
      "[-3.237246290715989]\n"
     ]
    },
    {
     "data": {
      "text/html": [
       "<table><tr><td><img style='width:100px' src='./saved_designs/exported_from_scout - 2019-04-23T101629.260/import_these_into_xd/design-canvas-2128a13efb8f4f29ad3d992797f741b8.svg'/></td></tr></table>"
      ],
      "text/plain": [
       "<IPython.core.display.HTML object>"
      ]
     },
     "metadata": {},
     "output_type": "display_data"
    },
    {
     "name": "stdout",
     "output_type": "stream",
     "text": [
      "==============\n",
      "## Analyzing exported_from_scout (43) ...\n",
      "[-3.937654231042259, -3.437440020250361, -4.065479431656369, -4.072352659776292, -3.770170257465781, -3.7142480150397703]\n"
     ]
    },
    {
     "data": {
      "text/html": [
       "<table><tr><td><img style='width:100px' src='./saved_designs/exported_from_scout (43)/saved_svgs/design-canvas-b4cc5f77de374ba585472d477c9ea2e8.svg'/></td><td><img style='width:100px' src='./saved_designs/exported_from_scout (43)/saved_svgs/design-canvas-f6214cdad2c048a38d8b7cda9b933ccd.svg'/></td><td><img style='width:100px' src='./saved_designs/exported_from_scout (43)/saved_svgs/design-canvas-39c0b364044841a8ba3c76b73daef885.svg'/></td><td><img style='width:100px' src='./saved_designs/exported_from_scout (43)/saved_svgs/design-canvas-b3cb63ae043a49e3bd3f02f8ae317c67.svg'/></td><td><img style='width:100px' src='None'/></td><td><img style='width:100px' src='None'/></td></tr></table>"
      ],
      "text/plain": [
       "<IPython.core.display.HTML object>"
      ]
     },
     "metadata": {},
     "output_type": "display_data"
    },
    {
     "name": "stdout",
     "output_type": "stream",
     "text": [
      "==============\n",
      "## Analyzing exported_from_scout (86) ...\n",
      "[-3.6365726172944144, -4.057289142685522, -3.7256402798740655, -3.4244521231259584, -4.1586672781393315]\n"
     ]
    },
    {
     "data": {
      "text/html": [
       "<table><tr><td><img style='width:100px' src='./saved_designs/exported_from_scout (86)/saved_svgs/design-canvas-80eb8d9ce58845c78ea5d792c6174987.svg'/></td><td><img style='width:100px' src='./saved_designs/exported_from_scout (86)/saved_svgs/design-canvas-a689edab7f8142f3b1c82f225fb57e0c.svg'/></td><td><img style='width:100px' src='./saved_designs/exported_from_scout (86)/saved_svgs/design-canvas-144a06cdde514bb7adf88108317b7ce5.svg'/></td><td><img style='width:100px' src='./saved_designs/exported_from_scout (86)/saved_svgs/design-canvas-428ae54e6ddc4e8fa7b9210cdf486227.svg'/></td><td><img style='width:100px' src='./saved_designs/exported_from_scout (86)/saved_svgs/design-canvas-5367a7ef0fc14f199f52ddf6302b8ebf.svg'/></td></tr></table>"
      ],
      "text/plain": [
       "<IPython.core.display.HTML object>"
      ]
     },
     "metadata": {},
     "output_type": "display_data"
    },
    {
     "name": "stdout",
     "output_type": "stream",
     "text": [
      "==============\n",
      "## Analyzing exported_from_scout (88) ...\n",
      "[-3.1009018103870893, -3.7073007825534607, -3.4401075880997993, -3.7802294414222266, -3.174846607035503, -3.3888183133463965, -3.445208025045913]\n"
     ]
    },
    {
     "data": {
      "text/html": [
       "<table><tr><td><img style='width:100px' src='./saved_designs/exported_from_scout (88)/saved_svgs/design-canvas-fe5c00981eac4a549ea69f14acbde34f.svg'/></td><td><img style='width:100px' src='./saved_designs/exported_from_scout (88)/saved_svgs/design-canvas-fd56b132c13a4b1b9f27556ea5d3aec4.svg'/></td><td><img style='width:100px' src='./saved_designs/exported_from_scout (88)/saved_svgs/design-canvas-bcacfb9cea58444ab69d1b2c26a7b346.svg'/></td><td><img style='width:100px' src='./saved_designs/exported_from_scout (88)/saved_svgs/design-canvas-d262da7b05ed43c5a91baf2077ab7717.svg'/></td><td><img style='width:100px' src='./saved_designs/exported_from_scout (88)/saved_svgs/design-canvas-e478abc20d3140f89d1d5b0df10c8ffc.svg'/></td><td><img style='width:100px' src='./saved_designs/exported_from_scout (88)/saved_svgs/design-canvas-11a9b95d4511489b847b7741455d68cd.svg'/></td><td><img style='width:100px' src='./saved_designs/exported_from_scout (88)/saved_svgs/design-canvas-683b24954e434fed9b82a246353543b0.svg'/></td></tr></table>"
      ],
      "text/plain": [
       "<IPython.core.display.HTML object>"
      ]
     },
     "metadata": {},
     "output_type": "display_data"
    },
    {
     "name": "stdout",
     "output_type": "stream",
     "text": [
      "==============\n",
      "## Analyzing exported_from_scout (21) ...\n",
      "[-3.6254514066327457, -3.5150815654720113, -3.5921639077134166, -2.8984337063213825, -2.487999952059754, -3.7404494042477956]\n"
     ]
    },
    {
     "data": {
      "text/html": [
       "<table><tr><td><img style='width:100px' src='./saved_designs/exported_from_scout (21)/saved_svgs/design-canvas-441488e97988401c9c1c6d371228439d.svg'/></td><td><img style='width:100px' src='./saved_designs/exported_from_scout (21)/saved_svgs/design-canvas-d264fad4cfd842ecabbe465fe72937bd.svg'/></td><td><img style='width:100px' src='./saved_designs/exported_from_scout (21)/saved_svgs/design-canvas-ea671b6d28664a448e8205dc5c38c4fb.svg'/></td><td><img style='width:100px' src='./saved_designs/exported_from_scout (21)/saved_svgs/design-canvas-af4960086b1a40b4bd7f9b9aecd6a931.svg'/></td><td><img style='width:100px' src='./saved_designs/exported_from_scout (21)/saved_svgs/design-canvas-cf1ca7674c954943bcc46eb6ca5b2fbd.svg'/></td><td><img style='width:100px' src='./saved_designs/exported_from_scout (21)/saved_svgs/design-canvas-d2507565e9894b5fb99767ce14b6a13e.svg'/></td></tr></table>"
      ],
      "text/plain": [
       "<IPython.core.display.HTML object>"
      ]
     },
     "metadata": {},
     "output_type": "display_data"
    },
    {
     "name": "stdout",
     "output_type": "stream",
     "text": [
      "==============\n",
      "## Analyzing exported_from_scout - 2019-04-25T155613.314 ...\n",
      "[-3.8440143364113037, -3.538002259860481, -3.86172272113447]\n"
     ]
    },
    {
     "data": {
      "text/html": [
       "<table><tr><td><img style='width:100px' src='./saved_designs/exported_from_scout - 2019-04-25T155613.314/import_these_into_xd/design-canvas-f8d0cbd306704125b0094c02162315f1.svg'/></td><td><img style='width:100px' src='./saved_designs/exported_from_scout - 2019-04-25T155613.314/import_these_into_xd/design-canvas-607491ccb4164e73b115cefaf3c3ca57.svg'/></td><td><img style='width:100px' src='./saved_designs/exported_from_scout - 2019-04-25T155613.314/import_these_into_xd/design-canvas-1ae3854c85574df8bfefb5da26fa8a39.svg'/></td></tr></table>"
      ],
      "text/plain": [
       "<IPython.core.display.HTML object>"
      ]
     },
     "metadata": {},
     "output_type": "display_data"
    },
    {
     "name": "stdout",
     "output_type": "stream",
     "text": [
      "==============\n",
      "## Analyzing ScoutExports ...\n",
      "[-3.830649851639751, -3.726645527651223, -3.8446709891364086, -3.5582664068530536, -3.500893125304972, -3.3993274858126505, -3.7877630940318165, -3.5225103437530167, -4.034820160912861, -3.8588761013069366, -3.8439030535034098, -3.6665742279920166, -3.418071513036324, -3.7006630576088035, -3.478865374129338, -3.6563600981892086, -3.972721463064654, -3.5644503098159572]\n"
     ]
    },
    {
     "data": {
      "text/html": [
       "<table><tr><td><img style='width:100px' src='None'/></td><td><img style='width:100px' src='None'/></td><td><img style='width:100px' src='./saved_designs/ScoutExports/saved_svgs/design-canvas-f9f7c67b927742af95edbd30ea972096.svg'/></td><td><img style='width:100px' src='None'/></td><td><img style='width:100px' src='None'/></td><td><img style='width:100px' src='./saved_designs/ScoutExports/saved_svgs/design-canvas-ede37baa7eee4f32a2ef6e5f790c99d5.svg'/></td><td><img style='width:100px' src='./saved_designs/ScoutExports/saved_svgs/design-canvas-3db107c6701b45c686a7818eb951a6fb.svg'/></td><td><img style='width:100px' src='None'/></td><td><img style='width:100px' src='None'/></td><td><img style='width:100px' src='None'/></td><td><img style='width:100px' src='None'/></td><td><img style='width:100px' src='None'/></td><td><img style='width:100px' src='None'/></td><td><img style='width:100px' src='None'/></td><td><img style='width:100px' src='None'/></td><td><img style='width:100px' src='None'/></td><td><img style='width:100px' src='None'/></td><td><img style='width:100px' src='None'/></td></tr></table>"
      ],
      "text/plain": [
       "<IPython.core.display.HTML object>"
      ]
     },
     "metadata": {},
     "output_type": "display_data"
    },
    {
     "name": "stdout",
     "output_type": "stream",
     "text": [
      "==============\n",
      "## Analyzing exported_from_scout (99) ...\n",
      "[-3.114469840089079, -3.58622505753812, -2.631058768941056, -3.1093855602559324, -2.7559116987656846, -3.3046747664270364, -2.4827261380171297, -2.505857165368549]\n"
     ]
    },
    {
     "data": {
      "text/html": [
       "<table><tr><td><img style='width:100px' src='./saved_designs/exported_from_scout (99)/import_these_into_xd/design-canvas-a2bc85f0c1964088bf9b3444e227d402.svg'/></td><td><img style='width:100px' src='./saved_designs/exported_from_scout (99)/import_these_into_xd/design-canvas-d8fb0ab7d8b7488585260e7e6af20869.svg'/></td><td><img style='width:100px' src='./saved_designs/exported_from_scout (99)/import_these_into_xd/design-canvas-be478c6373164bc4b96bbccf5b367f9b.svg'/></td><td><img style='width:100px' src='./saved_designs/exported_from_scout (99)/import_these_into_xd/design-canvas-83903cdc8136490e90c180d73dd2c09d.svg'/></td><td><img style='width:100px' src='./saved_designs/exported_from_scout (99)/import_these_into_xd/design-canvas-a52759ae3c2e49b9a50e2bfa69918a07.svg'/></td><td><img style='width:100px' src='./saved_designs/exported_from_scout (99)/import_these_into_xd/design-canvas-7304405049fc487a91ca6165424c0b0c.svg'/></td><td><img style='width:100px' src='./saved_designs/exported_from_scout (99)/import_these_into_xd/design-canvas-918a934c8f404d4993face741c29015f.svg'/></td><td><img style='width:100px' src='./saved_designs/exported_from_scout (99)/import_these_into_xd/design-canvas-1ae0e35d0b2d43028cddacd7a035b17d.svg'/></td></tr></table>"
      ],
      "text/plain": [
       "<IPython.core.display.HTML object>"
      ]
     },
     "metadata": {},
     "output_type": "display_data"
    }
   ],
   "source": [
    "import cost_model\n",
    "import os\n",
    "import json\n",
    "import sys\n",
    "import numpy as np\n",
    "\n",
    "from pprint import pprint\n",
    "from IPython.display import SVG, display, HTML\n",
    "\n",
    "# the folder containing all exports\n",
    "export_dir = \"./saved_designs\"\n",
    "\n",
    "def show_svg(urls):\n",
    "    cells = [\"<td><img style='width:100px' src='{}'/></td>\".format(url) for url in urls]\n",
    "    display(HTML(\"\"\"<table><tr>{}</tr></table>\"\"\".format(\"\".join(cells))))\n",
    "\n",
    "def load_design(design_dir):\n",
    "    \"\"\"the directory containing exported designs\"\"\"\n",
    "    design = {}\n",
    "    # load saved designs and trashed designs\n",
    "    with open(os.path.join(design_dir, \"saved.json\")) as f:\n",
    "        design[\"saved\"] = json.load(f)[\"saved\"]\n",
    "    with open(os.path.join(design_dir, \"trashed.json\")) as f:\n",
    "        design[\"trashed\"] = json.load(f)[\"trashed\"]\n",
    "\n",
    "    # load paths for saved svgs, relates to saved designs by their canvas ids\n",
    "    svg_dir = os.path.join(design_dir, \"saved_svgs\")\n",
    "    if not os.path.isdir(svg_dir):\n",
    "        svg_dir = os.path.join(design_dir, \"import_these_into_xd\")\n",
    "    design[\"svg_paths\"] = {}\n",
    "    for fname in os.listdir(svg_dir):\n",
    "        if fname.endswith(\".svg\"):\n",
    "            design_id = fname.split(\".\")[0].split(\"-\")[-1]\n",
    "            design[\"svg_paths\"][design_id] = os.path.join(svg_dir, fname)\n",
    "\n",
    "    design[\"dirname\"] = design_dir\n",
    "    return design\n",
    "\n",
    "def analyze_designs(designs):\n",
    "    \n",
    "    weights = {\n",
    "        'top_level_align_score': 0.68541513, \n",
    "        'top_level_balance_score': 0.81481126, \n",
    "        'top_level_overlapping_area': 1, \n",
    "        'avg_element_width': -2.61091005, \n",
    "        'avg_element_height': -1.18650878, \n",
    "        'avg_alignment_score': -1.27397171, \n",
    "        'density': -1.16451655, \n",
    "        'imbalance': -0.46646835\n",
    "    }\n",
    "    scores = [cost_model.compute_cost(tr[\"elements\"], weights) for tr in designs[\"saved\"]]\n",
    "    svg_paths = [designs[\"svg_paths\"][d[\"id\"]] if d[\"id\"] in designs[\"svg_paths\"] else None for d in designs[\"saved\"]]\n",
    "    \n",
    "    sort_idx = np.argsort(scores)[::-1][:len(scores)]\n",
    "    \n",
    "    print(scores)\n",
    "    display_urls = [svg_paths[i] for i in sort_idx]\n",
    "    show_svg(display_urls)\n",
    "\n",
    "# iterate over all exported deisngs\n",
    "for dirname in os.listdir(export_dir):\n",
    "    design_dir = os.path.join(export_dir, dirname)\n",
    "    if not os.path.isdir(design_dir):\n",
    "        continue\n",
    "    designs = load_design(design_dir)\n",
    "    \n",
    "    print(\"==============\")\n",
    "    print(\"## Analyzing {} ...\".format(dirname))\n",
    "    \n",
    "    analyze_designs(designs)\n"
   ]
  }
 ],
 "metadata": {
  "kernelspec": {
   "display_name": "Python 3",
   "language": "python",
   "name": "python3"
  },
  "language_info": {
   "codemirror_mode": {
    "name": "ipython",
    "version": 3
   },
   "file_extension": ".py",
   "mimetype": "text/x-python",
   "name": "python",
   "nbconvert_exporter": "python",
   "pygments_lexer": "ipython3",
   "version": "3.7.1"
  }
 },
 "nbformat": 4,
 "nbformat_minor": 2
}
